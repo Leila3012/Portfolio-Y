{
 "cells": [
  {
   "cell_type": "markdown",
   "metadata": {},
   "source": [
    "<div class=\"alert alert-info\">\n",
    "<b>Описание проекта:</b>\n",
    "    \n",
    "Несмотря на огромные вложения в рекламу одного приложения.Последние несколько месяцев компания терпит убытки. Наша- задача — разобраться в причинах и помочь компании выйти в плюс.\n",
    "Есть данные о пользователях:\n",
    "лог сервера с данными об их посещениях,\n",
    "выгрузка их покупок за этот период,\n",
    "рекламные расходы.\n",
    "\n",
    "<b>Цель исследования:</b>\n",
    "Выявить причины убытков компании и дать рекомендации маркетинговому отделу, которые позволят выйти в плюс.\n",
    "\n",
    "<b>Ход исследования:</b>\n",
    "Необходимо проверить данных на ошибки прежде чем анализировать идавать оценку. Поэтому исследование будет разделено на следующие этапы:\n",
    "    \n",
    "    1. Обзор данных\n",
    "    2. Предобработка данных\n",
    "    3. Написание фунций для расчета и анализа\n",
    "    4. Исследовательский анализ данных\n",
    "    5. Расчет маркетинговых показателей и оценка\n",
    "    6. Оценка окупаемости рекламы\n",
    "    7. Выводы\n",
    "    "
   ]
  },
  {
   "cell_type": "markdown",
   "metadata": {
    "id": "r-BO88CnWVwe"
   },
   "source": [
    "### Загрузка данных и подготовка их к анализу"
   ]
  },
  {
   "cell_type": "markdown",
   "metadata": {
    "id": "LCZi0P80WVwj"
   },
   "source": [
    "Загрузка данные о визитах, заказах и рекламных расходах из CSV-файлов в переменные.\n",
    "\n",
    "**Источники**\n",
    "\n",
    "- визиты: `/datasets/visits_info_short.csv`\n",
    "- заказы: `/datasets/orders_info_short.csv`\n",
    "- расходы: `/datasets/costs_info_short.csv`\n",
    "\n"
   ]
  },
  {
   "cell_type": "markdown",
   "metadata": {},
   "source": [
    "<b>Шаг 1. Загрузка данных и подготовка их к анализу<b>"
   ]
  },
  {
   "cell_type": "code",
   "execution_count": 1,
   "metadata": {
    "id": "_vsKinGUWVwk"
   },
   "outputs": [],
   "source": [
    "import pandas as pd\n",
    "import matplotlib.pyplot as plt\n",
    "import numpy as np\n",
    "from datetime import date, datetime, timedelta"
   ]
  },
  {
   "cell_type": "code",
   "execution_count": 2,
   "metadata": {},
   "outputs": [],
   "source": [
    "visits=pd.read_csv('/datasets/visits_info_short.csv')\n",
    "orders=pd.read_csv('/datasets/orders_info_short.csv')\n",
    "costs=pd.read_csv('/datasets/costs_info_short.csv')"
   ]
  },
  {
   "cell_type": "code",
   "execution_count": 3,
   "metadata": {},
   "outputs": [
    {
     "data": {
      "text/html": [
       "<div>\n",
       "<style scoped>\n",
       "    .dataframe tbody tr th:only-of-type {\n",
       "        vertical-align: middle;\n",
       "    }\n",
       "\n",
       "    .dataframe tbody tr th {\n",
       "        vertical-align: top;\n",
       "    }\n",
       "\n",
       "    .dataframe thead th {\n",
       "        text-align: right;\n",
       "    }\n",
       "</style>\n",
       "<table border=\"1\" class=\"dataframe\">\n",
       "  <thead>\n",
       "    <tr style=\"text-align: right;\">\n",
       "      <th></th>\n",
       "      <th>User Id</th>\n",
       "      <th>Region</th>\n",
       "      <th>Device</th>\n",
       "      <th>Channel</th>\n",
       "      <th>Session Start</th>\n",
       "      <th>Session End</th>\n",
       "    </tr>\n",
       "  </thead>\n",
       "  <tbody>\n",
       "    <tr>\n",
       "      <th>0</th>\n",
       "      <td>981449118918</td>\n",
       "      <td>United States</td>\n",
       "      <td>iPhone</td>\n",
       "      <td>organic</td>\n",
       "      <td>2019-05-01 02:36:01</td>\n",
       "      <td>2019-05-01 02:45:01</td>\n",
       "    </tr>\n",
       "    <tr>\n",
       "      <th>1</th>\n",
       "      <td>278965908054</td>\n",
       "      <td>United States</td>\n",
       "      <td>iPhone</td>\n",
       "      <td>organic</td>\n",
       "      <td>2019-05-01 04:46:31</td>\n",
       "      <td>2019-05-01 04:47:35</td>\n",
       "    </tr>\n",
       "    <tr>\n",
       "      <th>2</th>\n",
       "      <td>590706206550</td>\n",
       "      <td>United States</td>\n",
       "      <td>Mac</td>\n",
       "      <td>organic</td>\n",
       "      <td>2019-05-01 14:09:25</td>\n",
       "      <td>2019-05-01 15:32:08</td>\n",
       "    </tr>\n",
       "    <tr>\n",
       "      <th>3</th>\n",
       "      <td>326433527971</td>\n",
       "      <td>United States</td>\n",
       "      <td>Android</td>\n",
       "      <td>TipTop</td>\n",
       "      <td>2019-05-01 00:29:59</td>\n",
       "      <td>2019-05-01 00:54:25</td>\n",
       "    </tr>\n",
       "    <tr>\n",
       "      <th>4</th>\n",
       "      <td>349773784594</td>\n",
       "      <td>United States</td>\n",
       "      <td>Mac</td>\n",
       "      <td>organic</td>\n",
       "      <td>2019-05-01 03:33:35</td>\n",
       "      <td>2019-05-01 03:57:40</td>\n",
       "    </tr>\n",
       "    <tr>\n",
       "      <th>5</th>\n",
       "      <td>90242400005</td>\n",
       "      <td>United States</td>\n",
       "      <td>iPhone</td>\n",
       "      <td>RocketSuperAds</td>\n",
       "      <td>2019-05-01 07:14:52</td>\n",
       "      <td>2019-05-01 08:19:56</td>\n",
       "    </tr>\n",
       "    <tr>\n",
       "      <th>6</th>\n",
       "      <td>43958116050</td>\n",
       "      <td>United States</td>\n",
       "      <td>Android</td>\n",
       "      <td>organic</td>\n",
       "      <td>2019-05-01 09:03:21</td>\n",
       "      <td>2019-05-01 10:08:39</td>\n",
       "    </tr>\n",
       "    <tr>\n",
       "      <th>7</th>\n",
       "      <td>185365244969</td>\n",
       "      <td>United States</td>\n",
       "      <td>iPhone</td>\n",
       "      <td>organic</td>\n",
       "      <td>2019-05-01 09:37:03</td>\n",
       "      <td>2019-05-01 10:00:43</td>\n",
       "    </tr>\n",
       "    <tr>\n",
       "      <th>8</th>\n",
       "      <td>446013509831</td>\n",
       "      <td>United States</td>\n",
       "      <td>iPhone</td>\n",
       "      <td>RocketSuperAds</td>\n",
       "      <td>2019-05-01 10:26:00</td>\n",
       "      <td>2019-05-01 10:59:17</td>\n",
       "    </tr>\n",
       "    <tr>\n",
       "      <th>9</th>\n",
       "      <td>100970711362</td>\n",
       "      <td>United States</td>\n",
       "      <td>Mac</td>\n",
       "      <td>TipTop</td>\n",
       "      <td>2019-05-01 04:39:53</td>\n",
       "      <td>2019-05-01 04:57:05</td>\n",
       "    </tr>\n",
       "  </tbody>\n",
       "</table>\n",
       "</div>"
      ],
      "text/plain": [
       "        User Id         Region   Device         Channel        Session Start  \\\n",
       "0  981449118918  United States   iPhone         organic  2019-05-01 02:36:01   \n",
       "1  278965908054  United States   iPhone         organic  2019-05-01 04:46:31   \n",
       "2  590706206550  United States      Mac         organic  2019-05-01 14:09:25   \n",
       "3  326433527971  United States  Android          TipTop  2019-05-01 00:29:59   \n",
       "4  349773784594  United States      Mac         organic  2019-05-01 03:33:35   \n",
       "5   90242400005  United States   iPhone  RocketSuperAds  2019-05-01 07:14:52   \n",
       "6   43958116050  United States  Android         organic  2019-05-01 09:03:21   \n",
       "7  185365244969  United States   iPhone         organic  2019-05-01 09:37:03   \n",
       "8  446013509831  United States   iPhone  RocketSuperAds  2019-05-01 10:26:00   \n",
       "9  100970711362  United States      Mac          TipTop  2019-05-01 04:39:53   \n",
       "\n",
       "           Session End  \n",
       "0  2019-05-01 02:45:01  \n",
       "1  2019-05-01 04:47:35  \n",
       "2  2019-05-01 15:32:08  \n",
       "3  2019-05-01 00:54:25  \n",
       "4  2019-05-01 03:57:40  \n",
       "5  2019-05-01 08:19:56  \n",
       "6  2019-05-01 10:08:39  \n",
       "7  2019-05-01 10:00:43  \n",
       "8  2019-05-01 10:59:17  \n",
       "9  2019-05-01 04:57:05  "
      ]
     },
     "execution_count": 3,
     "metadata": {},
     "output_type": "execute_result"
    }
   ],
   "source": [
    "visits.head(10)"
   ]
  },
  {
   "cell_type": "code",
   "execution_count": 4,
   "metadata": {},
   "outputs": [
    {
     "name": "stdout",
     "output_type": "stream",
     "text": [
      "<class 'pandas.core.frame.DataFrame'>\n",
      "RangeIndex: 309901 entries, 0 to 309900\n",
      "Data columns (total 6 columns):\n",
      " #   Column         Non-Null Count   Dtype \n",
      "---  ------         --------------   ----- \n",
      " 0   User Id        309901 non-null  int64 \n",
      " 1   Region         309901 non-null  object\n",
      " 2   Device         309901 non-null  object\n",
      " 3   Channel        309901 non-null  object\n",
      " 4   Session Start  309901 non-null  object\n",
      " 5   Session End    309901 non-null  object\n",
      "dtypes: int64(1), object(5)\n",
      "memory usage: 14.2+ MB\n"
     ]
    }
   ],
   "source": [
    "visits.info()"
   ]
  },
  {
   "cell_type": "markdown",
   "metadata": {},
   "source": [
    "изменить тип данных у даты начала и даты конца сессии"
   ]
  },
  {
   "cell_type": "code",
   "execution_count": 5,
   "metadata": {},
   "outputs": [
    {
     "data": {
      "text/html": [
       "<div>\n",
       "<style scoped>\n",
       "    .dataframe tbody tr th:only-of-type {\n",
       "        vertical-align: middle;\n",
       "    }\n",
       "\n",
       "    .dataframe tbody tr th {\n",
       "        vertical-align: top;\n",
       "    }\n",
       "\n",
       "    .dataframe thead th {\n",
       "        text-align: right;\n",
       "    }\n",
       "</style>\n",
       "<table border=\"1\" class=\"dataframe\">\n",
       "  <thead>\n",
       "    <tr style=\"text-align: right;\">\n",
       "      <th></th>\n",
       "      <th>User Id</th>\n",
       "      <th>Event Dt</th>\n",
       "      <th>Revenue</th>\n",
       "    </tr>\n",
       "  </thead>\n",
       "  <tbody>\n",
       "    <tr>\n",
       "      <th>0</th>\n",
       "      <td>188246423999</td>\n",
       "      <td>2019-05-01 23:09:52</td>\n",
       "      <td>4.99</td>\n",
       "    </tr>\n",
       "    <tr>\n",
       "      <th>1</th>\n",
       "      <td>174361394180</td>\n",
       "      <td>2019-05-01 12:24:04</td>\n",
       "      <td>4.99</td>\n",
       "    </tr>\n",
       "    <tr>\n",
       "      <th>2</th>\n",
       "      <td>529610067795</td>\n",
       "      <td>2019-05-01 11:34:04</td>\n",
       "      <td>4.99</td>\n",
       "    </tr>\n",
       "    <tr>\n",
       "      <th>3</th>\n",
       "      <td>319939546352</td>\n",
       "      <td>2019-05-01 15:34:40</td>\n",
       "      <td>4.99</td>\n",
       "    </tr>\n",
       "    <tr>\n",
       "      <th>4</th>\n",
       "      <td>366000285810</td>\n",
       "      <td>2019-05-01 13:59:51</td>\n",
       "      <td>4.99</td>\n",
       "    </tr>\n",
       "    <tr>\n",
       "      <th>5</th>\n",
       "      <td>129100331057</td>\n",
       "      <td>2019-05-01 01:56:28</td>\n",
       "      <td>4.99</td>\n",
       "    </tr>\n",
       "    <tr>\n",
       "      <th>6</th>\n",
       "      <td>626807144131</td>\n",
       "      <td>2019-05-01 02:39:21</td>\n",
       "      <td>4.99</td>\n",
       "    </tr>\n",
       "    <tr>\n",
       "      <th>7</th>\n",
       "      <td>914062168985</td>\n",
       "      <td>2019-05-01 02:02:18</td>\n",
       "      <td>4.99</td>\n",
       "    </tr>\n",
       "    <tr>\n",
       "      <th>8</th>\n",
       "      <td>769669137453</td>\n",
       "      <td>2019-05-01 03:39:47</td>\n",
       "      <td>4.99</td>\n",
       "    </tr>\n",
       "    <tr>\n",
       "      <th>9</th>\n",
       "      <td>434198630691</td>\n",
       "      <td>2019-05-01 18:16:50</td>\n",
       "      <td>5.99</td>\n",
       "    </tr>\n",
       "  </tbody>\n",
       "</table>\n",
       "</div>"
      ],
      "text/plain": [
       "        User Id             Event Dt  Revenue\n",
       "0  188246423999  2019-05-01 23:09:52     4.99\n",
       "1  174361394180  2019-05-01 12:24:04     4.99\n",
       "2  529610067795  2019-05-01 11:34:04     4.99\n",
       "3  319939546352  2019-05-01 15:34:40     4.99\n",
       "4  366000285810  2019-05-01 13:59:51     4.99\n",
       "5  129100331057  2019-05-01 01:56:28     4.99\n",
       "6  626807144131  2019-05-01 02:39:21     4.99\n",
       "7  914062168985  2019-05-01 02:02:18     4.99\n",
       "8  769669137453  2019-05-01 03:39:47     4.99\n",
       "9  434198630691  2019-05-01 18:16:50     5.99"
      ]
     },
     "execution_count": 5,
     "metadata": {},
     "output_type": "execute_result"
    }
   ],
   "source": [
    "orders.head(10)"
   ]
  },
  {
   "cell_type": "code",
   "execution_count": 6,
   "metadata": {},
   "outputs": [
    {
     "name": "stdout",
     "output_type": "stream",
     "text": [
      "<class 'pandas.core.frame.DataFrame'>\n",
      "RangeIndex: 40212 entries, 0 to 40211\n",
      "Data columns (total 3 columns):\n",
      " #   Column    Non-Null Count  Dtype  \n",
      "---  ------    --------------  -----  \n",
      " 0   User Id   40212 non-null  int64  \n",
      " 1   Event Dt  40212 non-null  object \n",
      " 2   Revenue   40212 non-null  float64\n",
      "dtypes: float64(1), int64(1), object(1)\n",
      "memory usage: 942.6+ KB\n"
     ]
    }
   ],
   "source": [
    "orders.info()"
   ]
  },
  {
   "cell_type": "code",
   "execution_count": 7,
   "metadata": {},
   "outputs": [
    {
     "data": {
      "text/html": [
       "<div>\n",
       "<style scoped>\n",
       "    .dataframe tbody tr th:only-of-type {\n",
       "        vertical-align: middle;\n",
       "    }\n",
       "\n",
       "    .dataframe tbody tr th {\n",
       "        vertical-align: top;\n",
       "    }\n",
       "\n",
       "    .dataframe thead th {\n",
       "        text-align: right;\n",
       "    }\n",
       "</style>\n",
       "<table border=\"1\" class=\"dataframe\">\n",
       "  <thead>\n",
       "    <tr style=\"text-align: right;\">\n",
       "      <th></th>\n",
       "      <th>dt</th>\n",
       "      <th>Channel</th>\n",
       "      <th>costs</th>\n",
       "    </tr>\n",
       "  </thead>\n",
       "  <tbody>\n",
       "    <tr>\n",
       "      <th>0</th>\n",
       "      <td>2019-05-01</td>\n",
       "      <td>FaceBoom</td>\n",
       "      <td>113.3</td>\n",
       "    </tr>\n",
       "    <tr>\n",
       "      <th>1</th>\n",
       "      <td>2019-05-02</td>\n",
       "      <td>FaceBoom</td>\n",
       "      <td>78.1</td>\n",
       "    </tr>\n",
       "    <tr>\n",
       "      <th>2</th>\n",
       "      <td>2019-05-03</td>\n",
       "      <td>FaceBoom</td>\n",
       "      <td>85.8</td>\n",
       "    </tr>\n",
       "    <tr>\n",
       "      <th>3</th>\n",
       "      <td>2019-05-04</td>\n",
       "      <td>FaceBoom</td>\n",
       "      <td>136.4</td>\n",
       "    </tr>\n",
       "    <tr>\n",
       "      <th>4</th>\n",
       "      <td>2019-05-05</td>\n",
       "      <td>FaceBoom</td>\n",
       "      <td>122.1</td>\n",
       "    </tr>\n",
       "    <tr>\n",
       "      <th>5</th>\n",
       "      <td>2019-05-06</td>\n",
       "      <td>FaceBoom</td>\n",
       "      <td>118.8</td>\n",
       "    </tr>\n",
       "    <tr>\n",
       "      <th>6</th>\n",
       "      <td>2019-05-07</td>\n",
       "      <td>FaceBoom</td>\n",
       "      <td>101.2</td>\n",
       "    </tr>\n",
       "    <tr>\n",
       "      <th>7</th>\n",
       "      <td>2019-05-08</td>\n",
       "      <td>FaceBoom</td>\n",
       "      <td>100.1</td>\n",
       "    </tr>\n",
       "    <tr>\n",
       "      <th>8</th>\n",
       "      <td>2019-05-09</td>\n",
       "      <td>FaceBoom</td>\n",
       "      <td>93.5</td>\n",
       "    </tr>\n",
       "    <tr>\n",
       "      <th>9</th>\n",
       "      <td>2019-05-10</td>\n",
       "      <td>FaceBoom</td>\n",
       "      <td>104.5</td>\n",
       "    </tr>\n",
       "  </tbody>\n",
       "</table>\n",
       "</div>"
      ],
      "text/plain": [
       "           dt   Channel  costs\n",
       "0  2019-05-01  FaceBoom  113.3\n",
       "1  2019-05-02  FaceBoom   78.1\n",
       "2  2019-05-03  FaceBoom   85.8\n",
       "3  2019-05-04  FaceBoom  136.4\n",
       "4  2019-05-05  FaceBoom  122.1\n",
       "5  2019-05-06  FaceBoom  118.8\n",
       "6  2019-05-07  FaceBoom  101.2\n",
       "7  2019-05-08  FaceBoom  100.1\n",
       "8  2019-05-09  FaceBoom   93.5\n",
       "9  2019-05-10  FaceBoom  104.5"
      ]
     },
     "execution_count": 7,
     "metadata": {},
     "output_type": "execute_result"
    }
   ],
   "source": [
    "costs.head(10)"
   ]
  },
  {
   "cell_type": "code",
   "execution_count": 8,
   "metadata": {},
   "outputs": [
    {
     "name": "stdout",
     "output_type": "stream",
     "text": [
      "<class 'pandas.core.frame.DataFrame'>\n",
      "RangeIndex: 1800 entries, 0 to 1799\n",
      "Data columns (total 3 columns):\n",
      " #   Column   Non-Null Count  Dtype  \n",
      "---  ------   --------------  -----  \n",
      " 0   dt       1800 non-null   object \n",
      " 1   Channel  1800 non-null   object \n",
      " 2   costs    1800 non-null   float64\n",
      "dtypes: float64(1), object(2)\n",
      "memory usage: 42.3+ KB\n"
     ]
    }
   ],
   "source": [
    "costs.info()"
   ]
  },
  {
   "cell_type": "markdown",
   "metadata": {},
   "source": [
    "<b>Заменим названия столбцов (приведите к нижнему регистру) и добавим нижнее подчеркивание<b>;"
   ]
  },
  {
   "cell_type": "code",
   "execution_count": 9,
   "metadata": {},
   "outputs": [],
   "source": [
    "visits.columns =visits.columns.str.lower()\n",
    "orders.columns =orders.columns.str.lower()\n",
    "costs.columns =costs.columns.str.lower()#приведем название столбцов в единый вид- к нижнему регистру"
   ]
  },
  {
   "cell_type": "code",
   "execution_count": 10,
   "metadata": {},
   "outputs": [],
   "source": [
    "visits.columns = visits.columns.str.replace(\" \", \"_\")\n",
    "orders.columns =orders.columns.str.replace(\" \", \"_\")\n",
    "costs.columns =costs.columns.str.replace(\" \", \"_\")"
   ]
  },
  {
   "cell_type": "markdown",
   "metadata": {},
   "source": [
    "<b>Проверим данные на пропуски и дубликаты <b>;"
   ]
  },
  {
   "cell_type": "code",
   "execution_count": 11,
   "metadata": {},
   "outputs": [
    {
     "name": "stdout",
     "output_type": "stream",
     "text": [
      "user_id          0\n",
      "region           0\n",
      "device           0\n",
      "channel          0\n",
      "session_start    0\n",
      "session_end      0\n",
      "dtype: int64\n",
      "user_id     0\n",
      "event_dt    0\n",
      "revenue     0\n",
      "dtype: int64\n",
      "dt         0\n",
      "channel    0\n",
      "costs      0\n",
      "dtype: int64\n"
     ]
    }
   ],
   "source": [
    "print(visits.isnull().sum())\n",
    "print(orders.isnull().sum())\n",
    "print(costs.isnull().sum())"
   ]
  },
  {
   "cell_type": "markdown",
   "metadata": {},
   "source": [
    "<b>Пропуски отсутствуют <b>"
   ]
  },
  {
   "cell_type": "code",
   "execution_count": 12,
   "metadata": {},
   "outputs": [
    {
     "name": "stdout",
     "output_type": "stream",
     "text": [
      "0\n"
     ]
    }
   ],
   "source": [
    "duplicate_visits=visits.duplicated().sum()\n",
    "print(duplicate_visits) #Выведим на экран количество строк-дубликатов в данных. Если такие строки присутствуют, удалим их."
   ]
  },
  {
   "cell_type": "code",
   "execution_count": 13,
   "metadata": {},
   "outputs": [
    {
     "name": "stdout",
     "output_type": "stream",
     "text": [
      "0\n"
     ]
    }
   ],
   "source": [
    "duplicate_orders=orders.duplicated().sum()\n",
    "print(duplicate_orders)"
   ]
  },
  {
   "cell_type": "code",
   "execution_count": 14,
   "metadata": {},
   "outputs": [
    {
     "name": "stdout",
     "output_type": "stream",
     "text": [
      "0\n"
     ]
    }
   ],
   "source": [
    "duplicate_costs=costs.duplicated().sum()\n",
    "print(duplicate_costs)"
   ]
  },
  {
   "cell_type": "markdown",
   "metadata": {},
   "source": [
    "<b>Явные дубликаты отсутствуют<b>"
   ]
  },
  {
   "cell_type": "code",
   "execution_count": 15,
   "metadata": {},
   "outputs": [
    {
     "data": {
      "text/plain": [
       "array(['United States', 'UK', 'France', 'Germany'], dtype=object)"
      ]
     },
     "metadata": {},
     "output_type": "display_data"
    },
    {
     "data": {
      "text/plain": [
       "4"
      ]
     },
     "metadata": {},
     "output_type": "display_data"
    }
   ],
   "source": [
    " # просматриваем уникальные значения наименований страны из таблицы visits\n",
    "display(visits['region'].unique())\n",
    "display(visits['region'].nunique())"
   ]
  },
  {
   "cell_type": "code",
   "execution_count": 16,
   "metadata": {},
   "outputs": [
    {
     "data": {
      "text/plain": [
       "array(['iPhone', 'Mac', 'Android', 'PC'], dtype=object)"
      ]
     },
     "metadata": {},
     "output_type": "display_data"
    },
    {
     "data": {
      "text/plain": [
       "4"
      ]
     },
     "metadata": {},
     "output_type": "display_data"
    }
   ],
   "source": [
    " # просматриваем уникальные значения наименований device из таблицы visits\n",
    "display(visits['device'].unique())\n",
    "display(visits['device'].nunique())"
   ]
  },
  {
   "cell_type": "code",
   "execution_count": 17,
   "metadata": {},
   "outputs": [
    {
     "data": {
      "text/plain": [
       "array(['organic', 'TipTop', 'RocketSuperAds', 'YRabbit', 'FaceBoom',\n",
       "       'MediaTornado', 'AdNonSense', 'LeapBob', 'WahooNetBanner',\n",
       "       'OppleCreativeMedia', 'lambdaMediaAds'], dtype=object)"
      ]
     },
     "metadata": {},
     "output_type": "display_data"
    },
    {
     "data": {
      "text/plain": [
       "11"
      ]
     },
     "metadata": {},
     "output_type": "display_data"
    }
   ],
   "source": [
    " # просматриваем уникальные значения наименований channel из таблицы visits\n",
    "display(visits['channel'].unique())\n",
    "display(visits['channel'].nunique())"
   ]
  },
  {
   "cell_type": "markdown",
   "metadata": {},
   "source": [
    "<b>Не наблюдаются дубликаты среди наименований в таблице visits<b>"
   ]
  },
  {
   "cell_type": "markdown",
   "metadata": {},
   "source": [
    "<b>Изменим тип данных в таблицах в столбцах с датой<b>"
   ]
  },
  {
   "cell_type": "code",
   "execution_count": 18,
   "metadata": {},
   "outputs": [],
   "source": [
    "visits['session_start'] = pd.to_datetime(visits['session_start'])\n",
    "visits['session_end'] = pd.to_datetime(visits['session_end'])"
   ]
  },
  {
   "cell_type": "markdown",
   "metadata": {},
   "source": [
    "<b>Изменим тип данных в таблице visits<b>"
   ]
  },
  {
   "cell_type": "code",
   "execution_count": 19,
   "metadata": {},
   "outputs": [],
   "source": [
    "\n",
    "visits['region'] = visits['region'].astype(str)\n",
    "visits['device'] = visits['device'].astype(str)\n",
    "visits['channel'] = visits['channel'].astype(str)"
   ]
  },
  {
   "cell_type": "code",
   "execution_count": 20,
   "metadata": {},
   "outputs": [
    {
     "name": "stdout",
     "output_type": "stream",
     "text": [
      "<class 'pandas.core.frame.DataFrame'>\n",
      "RangeIndex: 40212 entries, 0 to 40211\n",
      "Data columns (total 3 columns):\n",
      " #   Column    Non-Null Count  Dtype         \n",
      "---  ------    --------------  -----         \n",
      " 0   user_id   40212 non-null  int64         \n",
      " 1   event_dt  40212 non-null  datetime64[ns]\n",
      " 2   revenue   40212 non-null  float64       \n",
      "dtypes: datetime64[ns](1), float64(1), int64(1)\n",
      "memory usage: 942.6 KB\n"
     ]
    }
   ],
   "source": [
    "orders['event_dt'] = pd.to_datetime(orders['event_dt'])\n",
    "orders.info()"
   ]
  },
  {
   "cell_type": "code",
   "execution_count": 21,
   "metadata": {},
   "outputs": [
    {
     "name": "stdout",
     "output_type": "stream",
     "text": [
      "<class 'pandas.core.frame.DataFrame'>\n",
      "RangeIndex: 1800 entries, 0 to 1799\n",
      "Data columns (total 3 columns):\n",
      " #   Column   Non-Null Count  Dtype         \n",
      "---  ------   --------------  -----         \n",
      " 0   dt       1800 non-null   datetime64[ns]\n",
      " 1   channel  1800 non-null   object        \n",
      " 2   costs    1800 non-null   float64       \n",
      "dtypes: datetime64[ns](1), float64(1), object(1)\n",
      "memory usage: 42.3+ KB\n"
     ]
    }
   ],
   "source": [
    "costs['dt'] = pd.to_datetime(costs['dt'])\n",
    "costs.info()"
   ]
  },
  {
   "cell_type": "markdown",
   "metadata": {},
   "source": [
    "<b>Проверим данные на выбросы<b>"
   ]
  },
  {
   "cell_type": "code",
   "execution_count": 22,
   "metadata": {},
   "outputs": [
    {
     "data": {
      "text/plain": [
       "count    40212.000000\n",
       "mean         5.370608\n",
       "std          3.454208\n",
       "min          4.990000\n",
       "25%          4.990000\n",
       "50%          4.990000\n",
       "75%          4.990000\n",
       "max         49.990000\n",
       "Name: revenue, dtype: float64"
      ]
     },
     "execution_count": 22,
     "metadata": {},
     "output_type": "execute_result"
    }
   ],
   "source": [
    "orders['revenue'].describe()"
   ]
  },
  {
   "cell_type": "code",
   "execution_count": 23,
   "metadata": {},
   "outputs": [
    {
     "data": {
      "text/plain": [
       "count    1800.000000\n",
       "mean       58.609611\n",
       "std       107.740223\n",
       "min         0.800000\n",
       "25%         6.495000\n",
       "50%        12.285000\n",
       "75%        33.600000\n",
       "max       630.000000\n",
       "Name: costs, dtype: float64"
      ]
     },
     "execution_count": 23,
     "metadata": {},
     "output_type": "execute_result"
    }
   ],
   "source": [
    "costs['costs'].describe()"
   ]
  },
  {
   "cell_type": "markdown",
   "metadata": {},
   "source": [
    "<b>В заказах выбросов не наблюдаем, медиана и среднее приближены по значениям. Затраты на маркетинг - сложно дать оценку по одной лишь описательной статистике, возможно на какие то каналы идет больше рекламы.<b>"
   ]
  },
  {
   "cell_type": "markdown",
   "metadata": {},
   "source": [
    "<div class=\"alert alert-info\">\n",
    "<b> Вывод по обзору данных</b>\n",
    "\n",
    "1. Некорректное наименований колонок. Привели наименование колонок к нижнему регистру и добавили нижнее подчеркивание.\n",
    "2. Исправлены типы данных столбцов с датами.\n",
    "3. Пропуски. Не найдены\n",
    "4. Дубликаты. Не найдены\n",
    "5. Выбросы. Не найдены"
   ]
  },
  {
   "cell_type": "markdown",
   "metadata": {},
   "source": [
    "\n",
    "<b> Шаг 2. Зададим функции для расчёта и анализа LTV, ROI, удержания и конверсии.</b>"
   ]
  },
  {
   "cell_type": "code",
   "execution_count": 24,
   "metadata": {},
   "outputs": [],
   "source": [
    "import time\n",
    "from datetime import datetime\n",
    "from datetime import date, timedelta as td\n",
    "\n",
    "observation_date = datetime(2019, 11, 1).date()  # момент анализа \n",
    "horizon_days = 14  # горизонт анализа "
   ]
  },
  {
   "cell_type": "code",
   "execution_count": 25,
   "metadata": {},
   "outputs": [],
   "source": [
    "# функция для создания пользовательских профилей\n",
    "\n",
    "def get_profiles(sessions, orders, ad_costs):\n",
    "\n",
    "    # находим параметры первых посещений\n",
    "    profiles = (\n",
    "        sessions.sort_values(by=['user_id', 'session_start'])\n",
    "        .groupby('user_id')\n",
    "        .agg(\n",
    "            {\n",
    "                'session_start': 'first',\n",
    "                'channel': 'first',\n",
    "                'device': 'first',\n",
    "                'region': 'first',\n",
    "            }\n",
    "        )\n",
    "        .rename(columns={'session_start': 'first_ts'})\n",
    "        .reset_index()\n",
    "    )\n",
    "\n",
    "    # для когортного анализа определяем дату первого посещения\n",
    "    # и первый день месяца, в который это посещение произошло\n",
    "    profiles['dt'] = profiles['first_ts'].dt.date\n",
    "    profiles['dt'] = pd.to_datetime(profiles['dt'], format=\"%Y-%m-%d\")\n",
    "    profiles['month'] = profiles['first_ts'].astype('datetime64[M]')\n",
    "\n",
    "    # добавляем признак платящих пользователей\n",
    "    profiles['payer'] = profiles['user_id'].isin(orders['user_id'].unique())\n",
    "\n",
    "\n",
    "    # считаем количество уникальных пользователей\n",
    "    # с одинаковыми источником и датой привлечения\n",
    "    new_users = (\n",
    "        profiles.groupby(['dt', 'channel'])\n",
    "        .agg({'user_id': 'nunique'})\n",
    "        .rename(columns={'user_id': 'unique_users'})\n",
    "        .reset_index()\n",
    "    )\n",
    "\n",
    "    # объединяем траты на рекламу и число привлечённых пользователей\n",
    "    ad_costs = ad_costs.merge(new_users, on=['dt', 'channel'], how='left')\n",
    "\n",
    "    # делим рекламные расходы на число привлечённых пользователей\n",
    "    ad_costs['acquisition_cost'] = ad_costs['costs'] / ad_costs['unique_users']\n",
    "\n",
    "    # добавляем стоимость привлечения в профили\n",
    "    profiles = profiles.merge(\n",
    "        ad_costs[['dt', 'channel', 'acquisition_cost']],\n",
    "        on=['dt', 'channel'],\n",
    "        how='left',\n",
    "    )\n",
    "\n",
    "    # стоимость привлечения органических пользователей равна нулю\n",
    "    profiles['acquisition_cost'] = profiles['acquisition_cost'].fillna(0)\n",
    "\n",
    "    return profiles"
   ]
  },
  {
   "cell_type": "code",
   "execution_count": 26,
   "metadata": {},
   "outputs": [],
   "source": [
    "# функция для расчёта удержания\n",
    "\n",
    "\n",
    "\n",
    "def get_retention(\n",
    "    profiles,\n",
    "    sessions,\n",
    "    observation_date,\n",
    "    horizon_days,\n",
    "    dimensions=[],\n",
    "    ignore_horizon=False,\n",
    "):\n",
    "\n",
    "    # добавляем столбец payer в передаваемый dimensions список\n",
    "    dimensions = ['payer'] + dimensions\n",
    "\n",
    "    # исключаем пользователей, не «доживших» до горизонта анализа\n",
    "    last_suitable_acquisition_date = observation_date\n",
    "    if not ignore_horizon:\n",
    "        last_suitable_acquisition_date = observation_date - timedelta(\n",
    "            days=horizon_days - 1\n",
    "        )\n",
    "    result_raw = profiles.query('dt <= @last_suitable_acquisition_date')\n",
    "\n",
    "    # собираем «сырые» данные для расчёта удержания\n",
    "    result_raw = result_raw.merge(\n",
    "        sessions[['user_id', 'session_start']], on='user_id', how='left'\n",
    "    )\n",
    "    result_raw['lifetime'] = (\n",
    "        result_raw['session_start'] - result_raw['first_ts']\n",
    "    ).dt.days\n",
    "\n",
    "    # функция для группировки таблицы по желаемым признакам\n",
    "    def group_by_dimensions(df, dims, horizon_days):\n",
    "        result = df.pivot_table(\n",
    "            index=dims, columns='lifetime', values='user_id', aggfunc='nunique'\n",
    "        )\n",
    "        cohort_sizes = (\n",
    "            df.groupby(dims)\n",
    "            .agg({'user_id': 'nunique'})\n",
    "            .rename(columns={'user_id': 'cohort_size'})\n",
    "        )\n",
    "        result = cohort_sizes.merge(result, on=dims, how='left').fillna(0)\n",
    "        result = result.div(result['cohort_size'], axis=0)\n",
    "        result = result[['cohort_size'] + list(range(horizon_days))]\n",
    "        result['cohort_size'] = cohort_sizes\n",
    "        return result\n",
    "\n",
    "    # получаем таблицу удержания\n",
    "    result_grouped = group_by_dimensions(result_raw, dimensions, horizon_days)\n",
    "\n",
    "    # получаем таблицу динамики удержания\n",
    "    result_in_time = group_by_dimensions(\n",
    "        result_raw, dimensions + ['dt'], horizon_days\n",
    "    )\n",
    "\n",
    "    # возвращаем обе таблицы и сырые данные\n",
    "    return result_raw, result_grouped, result_in_time \n"
   ]
  },
  {
   "cell_type": "code",
   "execution_count": 27,
   "metadata": {},
   "outputs": [],
   "source": [
    "# функция для визуализации удержания\n",
    "\n",
    "def plot_retention(retention, retention_history, horizon, window=7):\n",
    "\n",
    "    # задаём размер сетки для графиков\n",
    "    plt.figure(figsize=(15, 10))\n",
    "\n",
    "    # исключаем размеры когорт и удержание первого дня\n",
    "    retention = retention.drop(columns=['cohort_size', 0])\n",
    "    # в таблице динамики оставляем только нужный лайфтайм\n",
    "    retention_history = retention_history.drop(columns=['cohort_size'])[\n",
    "        [horizon - 1]\n",
    "    ]\n",
    "\n",
    "    # если в индексах таблицы удержания только payer,\n",
    "    # добавляем второй признак — cohort\n",
    "    if retention.index.nlevels == 1:\n",
    "        retention['cohort'] = 'All users'\n",
    "        retention = retention.reset_index().set_index(['cohort', 'payer'])\n",
    "\n",
    "    # в таблице графиков — два столбца и две строки, четыре ячейки\n",
    "    # в первой строим кривые удержания платящих пользователей\n",
    "    ax1 = plt.subplot(2, 2, 1)\n",
    "    retention.query('payer == True').droplevel('payer').T.plot(\n",
    "        grid=True, ax=ax1\n",
    "    )\n",
    "    plt.legend()\n",
    "    plt.xlabel('Лайфтайм')\n",
    "    plt.title('Удержание платящих пользователей')\n",
    "\n",
    "    # во второй ячейке строим кривые удержания неплатящих\n",
    "    # вертикальная ось — от графика из первой ячейки\n",
    "    ax2 = plt.subplot(2, 2, 2, sharey=ax1)\n",
    "    retention.query('payer == False').droplevel('payer').T.plot(\n",
    "        grid=True, ax=ax2\n",
    "    )\n",
    "    plt.legend()\n",
    "    plt.xlabel('Лайфтайм')\n",
    "    plt.title('Удержание неплатящих пользователей')\n",
    "\n",
    "    # в третьей ячейке — динамика удержания платящих\n",
    "    ax3 = plt.subplot(2, 2, 3)\n",
    "    # получаем названия столбцов для сводной таблицы\n",
    "    columns = [\n",
    "        name\n",
    "        for name in retention_history.index.names\n",
    "        if name not in ['dt', 'payer']\n",
    "    ]\n",
    "    # фильтруем данные и строим график\n",
    "    filtered_data = retention_history.query('payer == True').pivot_table(\n",
    "        index='dt', columns=columns, values=horizon - 1, aggfunc='mean'\n",
    "    )\n",
    "    filter_data(filtered_data, window).plot(grid=True, ax=ax3)\n",
    "    plt.xlabel('Дата привлечения')\n",
    "    plt.title(\n",
    "        'Динамика удержания платящих пользователей на {}-й день'.format(\n",
    "            horizon\n",
    "        )\n",
    "    )\n",
    "\n",
    "    # в чётвертой ячейке — динамика удержания неплатящих\n",
    "    ax4 = plt.subplot(2, 2, 4, sharey=ax3)\n",
    "    # фильтруем данные и строим график\n",
    "    filtered_data = retention_history.query('payer == False').pivot_table(\n",
    "        index='dt', columns=columns, values=horizon - 1, aggfunc='mean'\n",
    "    )\n",
    "    filter_data(filtered_data, window).plot(grid=True, ax=ax4)\n",
    "    plt.xlabel('Дата привлечения')\n",
    "    plt.title(\n",
    "        'Динамика удержания неплатящих пользователей на {}-й день'.format(\n",
    "            horizon\n",
    "        )\n",
    "    )\n",
    "    \n",
    "    plt.tight_layout()\n",
    "    plt.show() "
   ]
  },
  {
   "cell_type": "code",
   "execution_count": 28,
   "metadata": {},
   "outputs": [],
   "source": [
    "# функция для расчёта конверсии\n",
    "\n",
    "def get_conversion(\n",
    "    profiles,\n",
    "    purchases,\n",
    "    observation_date,\n",
    "    horizon_days,\n",
    "    dimensions=[],\n",
    "    ignore_horizon=False,\n",
    "):\n",
    "\n",
    "    # исключаем пользователей, не «доживших» до горизонта анализа\n",
    "    last_suitable_acquisition_date = observation_date\n",
    "    if not ignore_horizon:\n",
    "        last_suitable_acquisition_date = observation_date - timedelta(\n",
    "            days=horizon_days - 1\n",
    "        )\n",
    "    result_raw = profiles.query('dt <= @last_suitable_acquisition_date')\n",
    "\n",
    "    # определяем дату и время первой покупки для каждого пользователя\n",
    "    first_purchases = (\n",
    "        purchases.sort_values(by=['user_id', 'event_dt'])\n",
    "        .groupby('user_id')\n",
    "        .agg({'event_dt': 'first'})\n",
    "        .reset_index()\n",
    "    )\n",
    "\n",
    "    # добавляем данные о покупках в профили\n",
    "    result_raw = result_raw.merge(\n",
    "        first_purchases[['user_id', 'event_dt']], on='user_id', how='left'\n",
    "    )\n",
    "\n",
    "    # рассчитываем лайфтайм для каждой покупки\n",
    "    result_raw['lifetime'] = (\n",
    "        result_raw['event_dt'] - result_raw['first_ts']\n",
    "    ).dt.days\n",
    "\n",
    "    # группируем по cohort, если в dimensions ничего нет\n",
    "    if len(dimensions) == 0:\n",
    "        result_raw['cohort'] = 'All users' \n",
    "        dimensions = dimensions + ['cohort']\n",
    "\n",
    "    # функция для группировки таблицы по желаемым признакам\n",
    "    def group_by_dimensions(df, dims, horizon_days):\n",
    "        result = df.pivot_table(\n",
    "            index=dims, columns='lifetime', values='user_id', aggfunc='nunique'\n",
    "        )\n",
    "        result = result.fillna(0).cumsum(axis = 1)\n",
    "        cohort_sizes = (\n",
    "            df.groupby(dims)\n",
    "            .agg({'user_id': 'nunique'})\n",
    "            .rename(columns={'user_id': 'cohort_size'})\n",
    "        )\n",
    "        result = cohort_sizes.merge(result, on=dims, how='left').fillna(0)\n",
    "        # делим каждую «ячейку» в строке на размер когорты\n",
    "        # и получаем conversion rate\n",
    "        result = result.div(result['cohort_size'], axis=0)\n",
    "        result = result[['cohort_size'] + list(range(horizon_days))]\n",
    "        result['cohort_size'] = cohort_sizes\n",
    "        return result\n",
    "\n",
    "    # получаем таблицу конверсии\n",
    "    result_grouped = group_by_dimensions(result_raw, dimensions, horizon_days)\n",
    "\n",
    "    # для таблицы динамики конверсии убираем 'cohort' из dimensions\n",
    "    if 'cohort' in dimensions: \n",
    "        dimensions = []\n",
    "\n",
    "    # получаем таблицу динамики конверсии\n",
    "    result_in_time = group_by_dimensions(\n",
    "        result_raw, dimensions + ['dt'], horizon_days\n",
    "    )\n",
    "\n",
    "    # возвращаем обе таблицы и сырые данные\n",
    "    return result_raw, result_grouped, result_in_time "
   ]
  },
  {
   "cell_type": "code",
   "execution_count": 29,
   "metadata": {},
   "outputs": [],
   "source": [
    "# функция для визуализации конверсии\n",
    "\n",
    "def plot_conversion(conversion, conversion_history, horizon, window=7):\n",
    "\n",
    "    # задаём размер сетки для графиков\n",
    "    plt.figure(figsize=(15, 5))\n",
    "\n",
    "    # исключаем размеры когорт\n",
    "    conversion = conversion.drop(columns=['cohort_size'])\n",
    "    # в таблице динамики оставляем только нужный лайфтайм\n",
    "    conversion_history = conversion_history.drop(columns=['cohort_size'])[\n",
    "        [horizon - 1]\n",
    "    ]\n",
    "\n",
    "    # первый график — кривые конверсии\n",
    "    ax1 = plt.subplot(1, 2, 1)\n",
    "    conversion.T.plot(grid=True, ax=ax1)\n",
    "    plt.legend()\n",
    "    plt.xlabel('Лайфтайм')\n",
    "    plt.title('Конверсия пользователей')\n",
    "\n",
    "    # второй график — динамика конверсии\n",
    "    ax2 = plt.subplot(1, 2, 2, sharey=ax1)\n",
    "    columns = [\n",
    "        # столбцами сводной таблицы станут все столбцы индекса, кроме даты\n",
    "        name for name in conversion_history.index.names if name not in ['dt']\n",
    "    ]\n",
    "    filtered_data = conversion_history.pivot_table(\n",
    "        index='dt', columns=columns, values=horizon - 1, aggfunc='mean'\n",
    "    )\n",
    "    filter_data(filtered_data, window).plot(grid=True, ax=ax2)\n",
    "    plt.xlabel('Дата привлечения')\n",
    "    plt.title('Динамика конверсии пользователей на {}-й день'.format(horizon))\n",
    "\n",
    "    plt.tight_layout()\n",
    "    plt.show() \n"
   ]
  },
  {
   "cell_type": "code",
   "execution_count": 30,
   "metadata": {},
   "outputs": [],
   "source": [
    "def get_ltv(\n",
    "    profiles,\n",
    "    purchases,\n",
    "    observation_date,\n",
    "    horizon_days,\n",
    "    dimensions=[],\n",
    "    ignore_horizon=False,\n",
    "):\n",
    "\n",
    "    # исключаем пользователей, не «доживших» до горизонта анализа\n",
    "    last_suitable_acquisition_date = observation_date\n",
    "    if not ignore_horizon:\n",
    "        last_suitable_acquisition_date = observation_date - timedelta(\n",
    "            days=horizon_days - 1\n",
    "        )\n",
    "    result_raw = profiles.query('dt <= @last_suitable_acquisition_date')\n",
    "    # добавляем данные о покупках в профили\n",
    "    result_raw = result_raw.merge(\n",
    "        purchases[['user_id', 'event_dt', 'revenue']], on='user_id', how='left'\n",
    "    )\n",
    "    # рассчитываем лайфтайм пользователя для каждой покупки\n",
    "    result_raw['lifetime'] = (\n",
    "        result_raw['event_dt'] - result_raw['first_ts']\n",
    "    ).dt.days\n",
    "    # группируем по cohort, если в dimensions ничего нет\n",
    "    if len(dimensions) == 0:\n",
    "        result_raw['cohort'] = 'All users'\n",
    "        dimensions = dimensions + ['cohort']\n",
    "\n",
    "    # функция группировки по желаемым признакам\n",
    "    def group_by_dimensions(df, dims, horizon_days):\n",
    "        # строим «треугольную» таблицу выручки\n",
    "        result = df.pivot_table(\n",
    "            index=dims, columns='lifetime', values='revenue', aggfunc='sum'\n",
    "        )\n",
    "        # находим сумму выручки с накоплением\n",
    "        result = result.fillna(0).cumsum(axis=1)\n",
    "        # вычисляем размеры когорт\n",
    "        cohort_sizes = (\n",
    "            df.groupby(dims)\n",
    "            .agg({'user_id': 'nunique'})\n",
    "            .rename(columns={'user_id': 'cohort_size'})\n",
    "        )\n",
    "        # объединяем размеры когорт и таблицу выручки\n",
    "        result = cohort_sizes.merge(result, on=dims, how='left').fillna(0)\n",
    "        # считаем LTV: делим каждую «ячейку» в строке на размер когорты\n",
    "        result = result.div(result['cohort_size'], axis=0)\n",
    "        # исключаем все лайфтаймы, превышающие горизонт анализа\n",
    "        result = result[['cohort_size'] + list(range(horizon_days))]\n",
    "        # восстанавливаем размеры когорт\n",
    "        result['cohort_size'] = cohort_sizes\n",
    "\n",
    "        # сохраняем в датафрейм данные пользователей и значения CAC, \n",
    "        # добавив параметры из dimensions\n",
    "        cac = df[['user_id', 'acquisition_cost'] + dims].drop_duplicates()\n",
    "\n",
    "        # считаем средний CAC по параметрам из dimensions\n",
    "        cac = (\n",
    "            cac.groupby(dims)\n",
    "            .agg({'acquisition_cost': 'mean'})\n",
    "            .rename(columns={'acquisition_cost': 'cac'})\n",
    "        )\n",
    "\n",
    "        # считаем ROI: делим LTV на CAC\n",
    "        roi = result.div(cac['cac'], axis=0)\n",
    "\n",
    "        # удаляем строки с бесконечным ROI\n",
    "        roi = roi[~roi['cohort_size'].isin([np.inf])]\n",
    "\n",
    "        # восстанавливаем размеры когорт в таблице ROI\n",
    "        roi['cohort_size'] = cohort_sizes\n",
    "\n",
    "        # добавляем CAC в таблицу ROI\n",
    "        roi['cac'] = cac['cac']\n",
    "\n",
    "        # в финальной таблице оставляем размеры когорт, CAC\n",
    "        # и ROI в лайфтаймы, не превышающие горизонт анализа\n",
    "        roi = roi[['cohort_size', 'cac'] + list(range(horizon_days))]\n",
    "\n",
    "        # возвращаем таблицы LTV и ROI\n",
    "        return result, roi\n",
    "\n",
    "    # получаем таблицы LTV и ROI\n",
    "    result_grouped, roi_grouped = group_by_dimensions(\n",
    "        result_raw, dimensions, horizon_days\n",
    "    )\n",
    "\n",
    "    # для таблиц динамики убираем 'cohort' из dimensions\n",
    "    if 'cohort' in dimensions:\n",
    "        dimensions = []\n",
    "\n",
    "    # получаем таблицы динамики LTV и ROI\n",
    "    result_in_time, roi_in_time = group_by_dimensions(\n",
    "        result_raw, dimensions + ['dt'], horizon_days\n",
    "    )\n",
    "\n",
    "    return (\n",
    "        result_raw,  # сырые данные\n",
    "        result_grouped,  # таблица LTV\n",
    "        result_in_time,  # таблица динамики LTV\n",
    "        roi_grouped,  # таблица ROI\n",
    "        roi_in_time,  # таблица динамики ROI\n",
    "    )"
   ]
  },
  {
   "cell_type": "markdown",
   "metadata": {},
   "source": [
    "<b> функции для визуализации этих метрик — filter_data(), plot_retention(), plot_conversion() и plot_ltv_roi().<b>"
   ]
  },
  {
   "cell_type": "code",
   "execution_count": 31,
   "metadata": {},
   "outputs": [],
   "source": [
    "# функция для сглаживания фрейма\n",
    "\n",
    "def filter_data(df, window):\n",
    "    # для каждого столбца применяем скользящее среднее\n",
    "    for column in df.columns.values:\n",
    "        df[column] = df[column].rolling(window).mean() \n",
    "    return df "
   ]
  },
  {
   "cell_type": "code",
   "execution_count": 32,
   "metadata": {},
   "outputs": [],
   "source": [
    "# функция для визуализации LTV и ROI\n",
    "\n",
    "def plot_ltv_roi(ltv, ltv_history, roi, roi_history, horizon, window=7):\n",
    "\n",
    "    # задаём сетку отрисовки графиков\n",
    "    plt.figure(figsize=(20, 10))\n",
    "\n",
    "    # из таблицы ltv исключаем размеры когорт\n",
    "    ltv = ltv.drop(columns=['cohort_size'])\n",
    "    # в таблице динамики ltv оставляем только нужный лайфтайм\n",
    "    ltv_history = ltv_history.drop(columns=['cohort_size'])[[horizon - 1]]\n",
    "\n",
    "    # стоимость привлечения запишем в отдельный фрейм\n",
    "    cac_history = roi_history[['cac']]\n",
    "\n",
    "    # из таблицы roi исключаем размеры когорт и cac\n",
    "    roi = roi.drop(columns=['cohort_size', 'cac'])\n",
    "    # в таблице динамики roi оставляем только нужный лайфтайм\n",
    "    roi_history = roi_history.drop(columns=['cohort_size', 'cac'])[\n",
    "        [horizon - 1]\n",
    "    ]\n",
    "\n",
    "    # первый график — кривые ltv\n",
    "    ax1 = plt.subplot(2, 3, 1)\n",
    "    ltv.T.plot(grid=True, ax=ax1)\n",
    "    plt.legend()\n",
    "    plt.xlabel('Лайфтайм')\n",
    "    plt.title('LTV')\n",
    "\n",
    "    # второй график — динамика ltv\n",
    "    ax2 = plt.subplot(2, 3, 2, sharey=ax1)\n",
    "    # столбцами сводной таблицы станут все столбцы индекса, кроме даты\n",
    "    columns = [name for name in ltv_history.index.names if name not in ['dt']]\n",
    "    filtered_data = ltv_history.pivot_table(\n",
    "        index='dt', columns=columns, values=horizon - 1, aggfunc='mean'\n",
    "    )\n",
    "    filter_data(filtered_data, window).plot(grid=True, ax=ax2)\n",
    "    plt.xlabel('Дата привлечения')\n",
    "    plt.title('Динамика LTV пользователей на {}-й день'.format(horizon))\n",
    "\n",
    "    # третий график — динамика cac\n",
    "    ax3 = plt.subplot(2, 3, 3, sharey=ax1)\n",
    "    # столбцами сводной таблицы станут все столбцы индекса, кроме даты\n",
    "    columns = [name for name in cac_history.index.names if name not in ['dt']]\n",
    "    filtered_data = cac_history.pivot_table(\n",
    "        index='dt', columns=columns, values='cac', aggfunc='mean'\n",
    "    )\n",
    "    filter_data(filtered_data, window).plot(grid=True, ax=ax3)\n",
    "    plt.xlabel('Дата привлечения')\n",
    "    plt.title('Динамика стоимости привлечения пользователей')\n",
    "\n",
    "    # четвёртый график — кривые roi\n",
    "    ax4 = plt.subplot(2, 3, 4)\n",
    "    roi.T.plot(grid=True, ax=ax4)\n",
    "    plt.axhline(y=1, color='red', linestyle='--', label='Уровень окупаемости')\n",
    "    plt.legend()\n",
    "    plt.xlabel('Лайфтайм')\n",
    "    plt.title('ROI')\n",
    "\n",
    "    # пятый график — динамика roi\n",
    "    ax5 = plt.subplot(2, 3, 5, sharey=ax4)\n",
    "    # столбцами сводной таблицы станут все столбцы индекса, кроме даты\n",
    "    columns = [name for name in roi_history.index.names if name not in ['dt']]\n",
    "    filtered_data = roi_history.pivot_table(\n",
    "        index='dt', columns=columns, values=horizon - 1, aggfunc='mean'\n",
    "    )\n",
    "    filter_data(filtered_data, window).plot(grid=True, ax=ax5)\n",
    "    plt.axhline(y=1, color='red', linestyle='--', label='Уровень окупаемости')\n",
    "    plt.xlabel('Дата привлечения')\n",
    "    plt.title('Динамика ROI пользователей на {}-й день'.format(horizon))\n",
    "\n",
    "    plt.tight_layout()\n",
    "    plt.show() "
   ]
  },
  {
   "cell_type": "markdown",
   "metadata": {
    "id": "V-KBT-KMWVwl"
   },
   "source": [
    "### Исследовательский анализ данных\n",
    "\n",
    "- Составим профили пользователей. Определите минимальную и максимальную даты привлечения пользователей.\n",
    "- Выясним из каких стран пользователи приходят в приложение и на какую страну приходится больше всего платящих пользователей. Постройте таблицу, отражающую количество пользователей и долю платящих из каждой страны.\n",
    "- Узнаем какими устройствами пользуются клиенты и какие устройства предпочитают платящие пользователи. Построим таблицу, отражающую количество пользователей и долю платящих для каждого устройства.\n",
    "- Изучим рекламные источники привлечения и определите каналы, из которых пришло больше всего платящих пользователей. Построим таблицу, отражающую количество пользователей и долю платящих для каждого канала привлечения.\n",
    "\n",
    "После каждого пункта сформулируйте выводы."
   ]
  },
  {
   "cell_type": "markdown",
   "metadata": {
    "id": "oOLsbJpNWVwm"
   },
   "source": [
    "<b>Составим профили пользователей. Определим минимальную и максимальную даты привлечения пользователей.<b>"
   ]
  },
  {
   "cell_type": "code",
   "execution_count": 33,
   "metadata": {},
   "outputs": [
    {
     "data": {
      "text/html": [
       "<div>\n",
       "<style scoped>\n",
       "    .dataframe tbody tr th:only-of-type {\n",
       "        vertical-align: middle;\n",
       "    }\n",
       "\n",
       "    .dataframe tbody tr th {\n",
       "        vertical-align: top;\n",
       "    }\n",
       "\n",
       "    .dataframe thead th {\n",
       "        text-align: right;\n",
       "    }\n",
       "</style>\n",
       "<table border=\"1\" class=\"dataframe\">\n",
       "  <thead>\n",
       "    <tr style=\"text-align: right;\">\n",
       "      <th></th>\n",
       "      <th>user_id</th>\n",
       "      <th>first_ts</th>\n",
       "      <th>channel</th>\n",
       "      <th>device</th>\n",
       "      <th>region</th>\n",
       "      <th>dt</th>\n",
       "      <th>month</th>\n",
       "      <th>payer</th>\n",
       "      <th>acquisition_cost</th>\n",
       "    </tr>\n",
       "  </thead>\n",
       "  <tbody>\n",
       "    <tr>\n",
       "      <th>0</th>\n",
       "      <td>599326</td>\n",
       "      <td>2019-05-07 20:58:57</td>\n",
       "      <td>FaceBoom</td>\n",
       "      <td>Mac</td>\n",
       "      <td>United States</td>\n",
       "      <td>2019-05-07</td>\n",
       "      <td>2019-05-01</td>\n",
       "      <td>True</td>\n",
       "      <td>1.088172</td>\n",
       "    </tr>\n",
       "    <tr>\n",
       "      <th>1</th>\n",
       "      <td>4919697</td>\n",
       "      <td>2019-07-09 12:46:07</td>\n",
       "      <td>FaceBoom</td>\n",
       "      <td>iPhone</td>\n",
       "      <td>United States</td>\n",
       "      <td>2019-07-09</td>\n",
       "      <td>2019-07-01</td>\n",
       "      <td>False</td>\n",
       "      <td>1.107237</td>\n",
       "    </tr>\n",
       "    <tr>\n",
       "      <th>2</th>\n",
       "      <td>6085896</td>\n",
       "      <td>2019-10-01 09:58:33</td>\n",
       "      <td>organic</td>\n",
       "      <td>iPhone</td>\n",
       "      <td>France</td>\n",
       "      <td>2019-10-01</td>\n",
       "      <td>2019-10-01</td>\n",
       "      <td>False</td>\n",
       "      <td>0.000000</td>\n",
       "    </tr>\n",
       "    <tr>\n",
       "      <th>3</th>\n",
       "      <td>22593348</td>\n",
       "      <td>2019-08-22 21:35:48</td>\n",
       "      <td>AdNonSense</td>\n",
       "      <td>PC</td>\n",
       "      <td>Germany</td>\n",
       "      <td>2019-08-22</td>\n",
       "      <td>2019-08-01</td>\n",
       "      <td>False</td>\n",
       "      <td>0.988235</td>\n",
       "    </tr>\n",
       "    <tr>\n",
       "      <th>4</th>\n",
       "      <td>31989216</td>\n",
       "      <td>2019-10-02 00:07:44</td>\n",
       "      <td>YRabbit</td>\n",
       "      <td>iPhone</td>\n",
       "      <td>United States</td>\n",
       "      <td>2019-10-02</td>\n",
       "      <td>2019-10-01</td>\n",
       "      <td>False</td>\n",
       "      <td>0.230769</td>\n",
       "    </tr>\n",
       "  </tbody>\n",
       "</table>\n",
       "</div>"
      ],
      "text/plain": [
       "    user_id            first_ts     channel  device         region         dt  \\\n",
       "0    599326 2019-05-07 20:58:57    FaceBoom     Mac  United States 2019-05-07   \n",
       "1   4919697 2019-07-09 12:46:07    FaceBoom  iPhone  United States 2019-07-09   \n",
       "2   6085896 2019-10-01 09:58:33     organic  iPhone         France 2019-10-01   \n",
       "3  22593348 2019-08-22 21:35:48  AdNonSense      PC        Germany 2019-08-22   \n",
       "4  31989216 2019-10-02 00:07:44     YRabbit  iPhone  United States 2019-10-02   \n",
       "\n",
       "       month  payer  acquisition_cost  \n",
       "0 2019-05-01   True          1.088172  \n",
       "1 2019-07-01  False          1.107237  \n",
       "2 2019-10-01  False          0.000000  \n",
       "3 2019-08-01  False          0.988235  \n",
       "4 2019-10-01  False          0.230769  "
      ]
     },
     "metadata": {},
     "output_type": "display_data"
    }
   ],
   "source": [
    "# профили пользователей\n",
    "profiles = get_profiles(visits, orders, costs)\n",
    "display(profiles.head(5)) "
   ]
  },
  {
   "cell_type": "code",
   "execution_count": 34,
   "metadata": {},
   "outputs": [
    {
     "name": "stdout",
     "output_type": "stream",
     "text": [
      "2019-05-01 00:00:00\n",
      "2019-10-27 00:00:00\n"
     ]
    }
   ],
   "source": [
    "# интервал привлечения пользователей\n",
    "min_analysis_date = profiles['dt'].min()\n",
    "observation_date = profiles['dt'].max()  # момент анализа\n",
    "print(min_analysis_date)\n",
    "print(observation_date)"
   ]
  },
  {
   "cell_type": "markdown",
   "metadata": {},
   "source": [
    "Минимальная дата привлечения пользователей 2019-05-01\n",
    "Максимальная дата привлечения пользователей 2019-10-27"
   ]
  },
  {
   "cell_type": "markdown",
   "metadata": {},
   "source": [
    "<b>Выясним из каких стран пользователи приходят в приложение и на какую страну приходится больше всего платящих пользователей.<b>"
   ]
  },
  {
   "cell_type": "code",
   "execution_count": 35,
   "metadata": {},
   "outputs": [
    {
     "data": {
      "text/html": [
       "<style  type=\"text/css\" >\n",
       "</style><table id=\"T_56a04_\" ><thead>    <tr>        <th class=\"blank level0\" ></th>        <th class=\"col_heading level0 col0\" >users_count</th>        <th class=\"col_heading level0 col1\" >part</th>    </tr>    <tr>        <th class=\"index_name level0\" >region</th>        <th class=\"blank\" ></th>        <th class=\"blank\" ></th>    </tr></thead><tbody>\n",
       "                <tr>\n",
       "                        <th id=\"T_56a04_level0_row0\" class=\"row_heading level0 row0\" >United States</th>\n",
       "                        <td id=\"T_56a04_row0_col0\" class=\"data row0 col0\" >100002</td>\n",
       "                        <td id=\"T_56a04_row0_col1\" class=\"data row0 col1\" >66.66%</td>\n",
       "            </tr>\n",
       "            <tr>\n",
       "                        <th id=\"T_56a04_level0_row1\" class=\"row_heading level0 row1\" >UK</th>\n",
       "                        <td id=\"T_56a04_row1_col0\" class=\"data row1 col0\" >17575</td>\n",
       "                        <td id=\"T_56a04_row1_col1\" class=\"data row1 col1\" >11.72%</td>\n",
       "            </tr>\n",
       "            <tr>\n",
       "                        <th id=\"T_56a04_level0_row2\" class=\"row_heading level0 row2\" >France</th>\n",
       "                        <td id=\"T_56a04_row2_col0\" class=\"data row2 col0\" >17450</td>\n",
       "                        <td id=\"T_56a04_row2_col1\" class=\"data row2 col1\" >11.63%</td>\n",
       "            </tr>\n",
       "            <tr>\n",
       "                        <th id=\"T_56a04_level0_row3\" class=\"row_heading level0 row3\" >Germany</th>\n",
       "                        <td id=\"T_56a04_row3_col0\" class=\"data row3 col0\" >14981</td>\n",
       "                        <td id=\"T_56a04_row3_col1\" class=\"data row3 col1\" >9.99%</td>\n",
       "            </tr>\n",
       "    </tbody></table>"
      ],
      "text/plain": [
       "<pandas.io.formats.style.Styler at 0x7f20b89976d0>"
      ]
     },
     "execution_count": 35,
     "metadata": {},
     "output_type": "execute_result"
    }
   ],
   "source": [
    "\n",
    "region_part = pd.DataFrame()\n",
    "region_part['users_count'] = profiles.groupby('region')['user_id'].count()\n",
    "region_part['part'] = ((region_part['users_count'] / profiles['region'].count()) * 100)\n",
    "region_part.sort_values(by='part', ascending=False).style.format({'part': '{:.2f}%'})"
   ]
  },
  {
   "cell_type": "markdown",
   "metadata": {},
   "source": [
    "Большая часть пользователей из США, меньше всего (10%)- Германия"
   ]
  },
  {
   "cell_type": "code",
   "execution_count": 36,
   "metadata": {},
   "outputs": [
    {
     "data": {
      "text/html": [
       "<style  type=\"text/css\" >\n",
       "</style><table id=\"T_7936a_\" ><thead>    <tr>        <th class=\"blank level0\" ></th>        <th class=\"col_heading level0 col0\" >users_count</th>        <th class=\"col_heading level0 col1\" >part</th>    </tr>    <tr>        <th class=\"index_name level0\" >region</th>        <th class=\"blank\" ></th>        <th class=\"blank\" ></th>    </tr></thead><tbody>\n",
       "                <tr>\n",
       "                        <th id=\"T_7936a_level0_row0\" class=\"row_heading level0 row0\" >United States</th>\n",
       "                        <td id=\"T_7936a_row0_col0\" class=\"data row0 col0\" >6902</td>\n",
       "                        <td id=\"T_7936a_row0_col1\" class=\"data row0 col1\" >77.72%</td>\n",
       "            </tr>\n",
       "            <tr>\n",
       "                        <th id=\"T_7936a_level0_row1\" class=\"row_heading level0 row1\" >UK</th>\n",
       "                        <td id=\"T_7936a_row1_col0\" class=\"data row1 col0\" >700</td>\n",
       "                        <td id=\"T_7936a_row1_col1\" class=\"data row1 col1\" >7.88%</td>\n",
       "            </tr>\n",
       "            <tr>\n",
       "                        <th id=\"T_7936a_level0_row2\" class=\"row_heading level0 row2\" >France</th>\n",
       "                        <td id=\"T_7936a_row2_col0\" class=\"data row2 col0\" >663</td>\n",
       "                        <td id=\"T_7936a_row2_col1\" class=\"data row2 col1\" >7.47%</td>\n",
       "            </tr>\n",
       "            <tr>\n",
       "                        <th id=\"T_7936a_level0_row3\" class=\"row_heading level0 row3\" >Germany</th>\n",
       "                        <td id=\"T_7936a_row3_col0\" class=\"data row3 col0\" >616</td>\n",
       "                        <td id=\"T_7936a_row3_col1\" class=\"data row3 col1\" >6.94%</td>\n",
       "            </tr>\n",
       "    </tbody></table>"
      ],
      "text/plain": [
       "<pandas.io.formats.style.Styler at 0x7f20b8a07520>"
      ]
     },
     "execution_count": 36,
     "metadata": {},
     "output_type": "execute_result"
    }
   ],
   "source": [
    "region_payer_part = pd.DataFrame()\n",
    "region_payer_part['users_count'] = profiles.query('payer == True').groupby('region')['user_id'].count()\n",
    "region_payer_part['part'] = ((region_payer_part['users_count'] / profiles.query('payer == True')['region'].count()) * 100)\n",
    "region_payer_part.sort_values(by='part', ascending=False).style.format({'part': '{:.2f}%'})"
   ]
  },
  {
   "cell_type": "markdown",
   "metadata": {},
   "source": [
    "Больше всего платящих пользователей из США 78%. Меньше всего из Германии 7%.  Франция и Англия почти поравну 8%"
   ]
  },
  {
   "cell_type": "markdown",
   "metadata": {},
   "source": [
    "<b>Построим таблицу, отражающую количество пользователей и долю платящих из каждой страны.<b>"
   ]
  },
  {
   "cell_type": "code",
   "execution_count": 37,
   "metadata": {},
   "outputs": [
    {
     "data": {
      "text/html": [
       "<style  type=\"text/css\" >\n",
       "</style><table id=\"T_ebec3_\" ><thead>    <tr>        <th class=\"blank level0\" ></th>        <th class=\"col_heading level0 col0\" >users_count</th>        <th class=\"col_heading level0 col1\" >users_part</th>        <th class=\"col_heading level0 col2\" >payer_users_count</th>        <th class=\"col_heading level0 col3\" >payer_part</th>    </tr>    <tr>        <th class=\"index_name level0\" >region</th>        <th class=\"blank\" ></th>        <th class=\"blank\" ></th>        <th class=\"blank\" ></th>        <th class=\"blank\" ></th>    </tr></thead><tbody>\n",
       "                <tr>\n",
       "                        <th id=\"T_ebec3_level0_row0\" class=\"row_heading level0 row0\" >United States</th>\n",
       "                        <td id=\"T_ebec3_row0_col0\" class=\"data row0 col0\" >100002</td>\n",
       "                        <td id=\"T_ebec3_row0_col1\" class=\"data row0 col1\" >66.66%</td>\n",
       "                        <td id=\"T_ebec3_row0_col2\" class=\"data row0 col2\" >6902</td>\n",
       "                        <td id=\"T_ebec3_row0_col3\" class=\"data row0 col3\" >6.90%</td>\n",
       "            </tr>\n",
       "            <tr>\n",
       "                        <th id=\"T_ebec3_level0_row1\" class=\"row_heading level0 row1\" >UK</th>\n",
       "                        <td id=\"T_ebec3_row1_col0\" class=\"data row1 col0\" >17575</td>\n",
       "                        <td id=\"T_ebec3_row1_col1\" class=\"data row1 col1\" >11.72%</td>\n",
       "                        <td id=\"T_ebec3_row1_col2\" class=\"data row1 col2\" >700</td>\n",
       "                        <td id=\"T_ebec3_row1_col3\" class=\"data row1 col3\" >3.98%</td>\n",
       "            </tr>\n",
       "            <tr>\n",
       "                        <th id=\"T_ebec3_level0_row2\" class=\"row_heading level0 row2\" >France</th>\n",
       "                        <td id=\"T_ebec3_row2_col0\" class=\"data row2 col0\" >17450</td>\n",
       "                        <td id=\"T_ebec3_row2_col1\" class=\"data row2 col1\" >11.63%</td>\n",
       "                        <td id=\"T_ebec3_row2_col2\" class=\"data row2 col2\" >663</td>\n",
       "                        <td id=\"T_ebec3_row2_col3\" class=\"data row2 col3\" >3.80%</td>\n",
       "            </tr>\n",
       "            <tr>\n",
       "                        <th id=\"T_ebec3_level0_row3\" class=\"row_heading level0 row3\" >Germany</th>\n",
       "                        <td id=\"T_ebec3_row3_col0\" class=\"data row3 col0\" >14981</td>\n",
       "                        <td id=\"T_ebec3_row3_col1\" class=\"data row3 col1\" >9.99%</td>\n",
       "                        <td id=\"T_ebec3_row3_col2\" class=\"data row3 col2\" >616</td>\n",
       "                        <td id=\"T_ebec3_row3_col3\" class=\"data row3 col3\" >4.11%</td>\n",
       "            </tr>\n",
       "    </tbody></table>"
      ],
      "text/plain": [
       "<pandas.io.formats.style.Styler at 0x7f20b8864460>"
      ]
     },
     "execution_count": 37,
     "metadata": {},
     "output_type": "execute_result"
    }
   ],
   "source": [
    "\n",
    "def pivot_part(column, df):\n",
    "    result = pd.DataFrame()\n",
    "    result['users_count'] = df.groupby(column)['user_id'].count()\n",
    "    result['users_part'] = ((result['users_count'] / df[column].count()) * 100)\n",
    "    result['payer_users_count'] = df.query('payer == True').groupby(column)['user_id'].count()\n",
    "    result['payer_part'] = ((result['payer_users_count'] / result['users_count']) * 100)\n",
    "    return result.sort_values(by='users_part', ascending=False).style.format({'users_part': '{:.2f}%', 'payer_part': '{:.2f}%'})\n",
    "pivot_part('region', profiles)"
   ]
  },
  {
   "cell_type": "markdown",
   "metadata": {},
   "source": [
    "Доля платящих пользователей США  - 6,9%\n",
    "Англии - 3,9%\n",
    "Франции - 3,8%\n",
    "Германии - 4,11%"
   ]
  },
  {
   "cell_type": "markdown",
   "metadata": {},
   "source": [
    "<b>Узнаем какими устройствами пользуются клиенты и какие устройства предпочитают платящие пользователи. Построим таблицу, отражающую количество пользователей и долю платящих для каждого устройства.<b>"
   ]
  },
  {
   "cell_type": "code",
   "execution_count": 38,
   "metadata": {},
   "outputs": [
    {
     "data": {
      "text/html": [
       "<style  type=\"text/css\" >\n",
       "</style><table id=\"T_27dca_\" ><thead>    <tr>        <th class=\"blank level0\" ></th>        <th class=\"col_heading level0 col0\" >users_count</th>        <th class=\"col_heading level0 col1\" >part</th>    </tr>    <tr>        <th class=\"index_name level0\" >device</th>        <th class=\"blank\" ></th>        <th class=\"blank\" ></th>    </tr></thead><tbody>\n",
       "                <tr>\n",
       "                        <th id=\"T_27dca_level0_row0\" class=\"row_heading level0 row0\" >iPhone</th>\n",
       "                        <td id=\"T_27dca_row0_col0\" class=\"data row0 col0\" >54479</td>\n",
       "                        <td id=\"T_27dca_row0_col1\" class=\"data row0 col1\" >36.32%</td>\n",
       "            </tr>\n",
       "            <tr>\n",
       "                        <th id=\"T_27dca_level0_row1\" class=\"row_heading level0 row1\" >Android</th>\n",
       "                        <td id=\"T_27dca_row1_col0\" class=\"data row1 col0\" >35032</td>\n",
       "                        <td id=\"T_27dca_row1_col1\" class=\"data row1 col1\" >23.35%</td>\n",
       "            </tr>\n",
       "            <tr>\n",
       "                        <th id=\"T_27dca_level0_row2\" class=\"row_heading level0 row2\" >PC</th>\n",
       "                        <td id=\"T_27dca_row2_col0\" class=\"data row2 col0\" >30455</td>\n",
       "                        <td id=\"T_27dca_row2_col1\" class=\"data row2 col1\" >20.30%</td>\n",
       "            </tr>\n",
       "            <tr>\n",
       "                        <th id=\"T_27dca_level0_row3\" class=\"row_heading level0 row3\" >Mac</th>\n",
       "                        <td id=\"T_27dca_row3_col0\" class=\"data row3 col0\" >30042</td>\n",
       "                        <td id=\"T_27dca_row3_col1\" class=\"data row3 col1\" >20.03%</td>\n",
       "            </tr>\n",
       "    </tbody></table>"
      ],
      "text/plain": [
       "<pandas.io.formats.style.Styler at 0x7f20b8864910>"
      ]
     },
     "execution_count": 38,
     "metadata": {},
     "output_type": "execute_result"
    }
   ],
   "source": [
    "device_part = pd.DataFrame()\n",
    "device_part['users_count'] = profiles.groupby('device')['user_id'].count()\n",
    "device_part['part'] = ((device_part['users_count'] / profiles['device'].count()) * 100)\n",
    "device_part.sort_values(by='part', ascending=False).style.format({'part': '{:.2f}%'})"
   ]
  },
  {
   "cell_type": "markdown",
   "metadata": {},
   "source": [
    "Большая часть пользователей Iphone 36%, далее Andriod 23%, PC и Mac почти равны в долях - 20%"
   ]
  },
  {
   "cell_type": "code",
   "execution_count": 39,
   "metadata": {},
   "outputs": [
    {
     "data": {
      "text/html": [
       "<style  type=\"text/css\" >\n",
       "</style><table id=\"T_526f8_\" ><thead>    <tr>        <th class=\"blank level0\" ></th>        <th class=\"col_heading level0 col0\" >users_count</th>        <th class=\"col_heading level0 col1\" >part</th>    </tr>    <tr>        <th class=\"index_name level0\" >device</th>        <th class=\"blank\" ></th>        <th class=\"blank\" ></th>    </tr></thead><tbody>\n",
       "                <tr>\n",
       "                        <th id=\"T_526f8_level0_row0\" class=\"row_heading level0 row0\" >iPhone</th>\n",
       "                        <td id=\"T_526f8_row0_col0\" class=\"data row0 col0\" >3382</td>\n",
       "                        <td id=\"T_526f8_row0_col1\" class=\"data row0 col1\" >38.08%</td>\n",
       "            </tr>\n",
       "            <tr>\n",
       "                        <th id=\"T_526f8_level0_row1\" class=\"row_heading level0 row1\" >Android</th>\n",
       "                        <td id=\"T_526f8_row1_col0\" class=\"data row1 col0\" >2050</td>\n",
       "                        <td id=\"T_526f8_row1_col1\" class=\"data row1 col1\" >23.08%</td>\n",
       "            </tr>\n",
       "            <tr>\n",
       "                        <th id=\"T_526f8_level0_row2\" class=\"row_heading level0 row2\" >Mac</th>\n",
       "                        <td id=\"T_526f8_row2_col0\" class=\"data row2 col0\" >1912</td>\n",
       "                        <td id=\"T_526f8_row2_col1\" class=\"data row2 col1\" >21.53%</td>\n",
       "            </tr>\n",
       "            <tr>\n",
       "                        <th id=\"T_526f8_level0_row3\" class=\"row_heading level0 row3\" >PC</th>\n",
       "                        <td id=\"T_526f8_row3_col0\" class=\"data row3 col0\" >1537</td>\n",
       "                        <td id=\"T_526f8_row3_col1\" class=\"data row3 col1\" >17.31%</td>\n",
       "            </tr>\n",
       "    </tbody></table>"
      ],
      "text/plain": [
       "<pandas.io.formats.style.Styler at 0x7f20b8833670>"
      ]
     },
     "execution_count": 39,
     "metadata": {},
     "output_type": "execute_result"
    }
   ],
   "source": [
    "device_payer_part = pd.DataFrame()\n",
    "device_payer_part['users_count'] = profiles.query('payer == True').groupby('device')['user_id'].count()\n",
    "device_payer_part['part'] = ((device_payer_part['users_count'] / profiles.query('payer == True')['device'].count()) * 100)\n",
    "device_payer_part.sort_values(by='part', ascending=False).style.format({'part': '{:.2f}%'})"
   ]
  },
  {
   "cell_type": "markdown",
   "metadata": {},
   "source": [
    "Среди платящих пользователей ситуация аналогичная. Iphone 38%, далее Android  "
   ]
  },
  {
   "cell_type": "code",
   "execution_count": 40,
   "metadata": {},
   "outputs": [
    {
     "data": {
      "text/html": [
       "<style  type=\"text/css\" >\n",
       "</style><table id=\"T_ec2ba_\" ><thead>    <tr>        <th class=\"blank level0\" ></th>        <th class=\"col_heading level0 col0\" >users_count</th>        <th class=\"col_heading level0 col1\" >users_part</th>        <th class=\"col_heading level0 col2\" >payer_users_count</th>        <th class=\"col_heading level0 col3\" >payer_part</th>    </tr>    <tr>        <th class=\"index_name level0\" >device</th>        <th class=\"blank\" ></th>        <th class=\"blank\" ></th>        <th class=\"blank\" ></th>        <th class=\"blank\" ></th>    </tr></thead><tbody>\n",
       "                <tr>\n",
       "                        <th id=\"T_ec2ba_level0_row0\" class=\"row_heading level0 row0\" >iPhone</th>\n",
       "                        <td id=\"T_ec2ba_row0_col0\" class=\"data row0 col0\" >54479</td>\n",
       "                        <td id=\"T_ec2ba_row0_col1\" class=\"data row0 col1\" >36.32%</td>\n",
       "                        <td id=\"T_ec2ba_row0_col2\" class=\"data row0 col2\" >3382</td>\n",
       "                        <td id=\"T_ec2ba_row0_col3\" class=\"data row0 col3\" >6.21%</td>\n",
       "            </tr>\n",
       "            <tr>\n",
       "                        <th id=\"T_ec2ba_level0_row1\" class=\"row_heading level0 row1\" >Android</th>\n",
       "                        <td id=\"T_ec2ba_row1_col0\" class=\"data row1 col0\" >35032</td>\n",
       "                        <td id=\"T_ec2ba_row1_col1\" class=\"data row1 col1\" >23.35%</td>\n",
       "                        <td id=\"T_ec2ba_row1_col2\" class=\"data row1 col2\" >2050</td>\n",
       "                        <td id=\"T_ec2ba_row1_col3\" class=\"data row1 col3\" >5.85%</td>\n",
       "            </tr>\n",
       "            <tr>\n",
       "                        <th id=\"T_ec2ba_level0_row2\" class=\"row_heading level0 row2\" >PC</th>\n",
       "                        <td id=\"T_ec2ba_row2_col0\" class=\"data row2 col0\" >30455</td>\n",
       "                        <td id=\"T_ec2ba_row2_col1\" class=\"data row2 col1\" >20.30%</td>\n",
       "                        <td id=\"T_ec2ba_row2_col2\" class=\"data row2 col2\" >1537</td>\n",
       "                        <td id=\"T_ec2ba_row2_col3\" class=\"data row2 col3\" >5.05%</td>\n",
       "            </tr>\n",
       "            <tr>\n",
       "                        <th id=\"T_ec2ba_level0_row3\" class=\"row_heading level0 row3\" >Mac</th>\n",
       "                        <td id=\"T_ec2ba_row3_col0\" class=\"data row3 col0\" >30042</td>\n",
       "                        <td id=\"T_ec2ba_row3_col1\" class=\"data row3 col1\" >20.03%</td>\n",
       "                        <td id=\"T_ec2ba_row3_col2\" class=\"data row3 col2\" >1912</td>\n",
       "                        <td id=\"T_ec2ba_row3_col3\" class=\"data row3 col3\" >6.36%</td>\n",
       "            </tr>\n",
       "    </tbody></table>"
      ],
      "text/plain": [
       "<pandas.io.formats.style.Styler at 0x7f20b8833e80>"
      ]
     },
     "execution_count": 40,
     "metadata": {},
     "output_type": "execute_result"
    }
   ],
   "source": [
    "pivot_part('device', profiles)"
   ]
  },
  {
   "cell_type": "markdown",
   "metadata": {},
   "source": [
    "Рассмотрим долю платящих пользователей отдельно по устройством. Наблюдаем что доля платящих пользователей среди Iphonr и  Mac почти равна - 6%. Далее следует  Android и PC"
   ]
  },
  {
   "cell_type": "markdown",
   "metadata": {},
   "source": [
    "<b>Изучим рекламные источники привлечения и определите каналы, из которых пришло больше всего платящих пользователей. Построим таблицу, отражающую количество пользователей и долю платящих для каждого канала привлечения.<b>"
   ]
  },
  {
   "cell_type": "code",
   "execution_count": 41,
   "metadata": {},
   "outputs": [
    {
     "data": {
      "text/html": [
       "<style  type=\"text/css\" >\n",
       "</style><table id=\"T_806b2_\" ><thead>    <tr>        <th class=\"blank level0\" ></th>        <th class=\"col_heading level0 col0\" >users_count</th>        <th class=\"col_heading level0 col1\" >users_part</th>        <th class=\"col_heading level0 col2\" >payer_users_count</th>        <th class=\"col_heading level0 col3\" >payer_part</th>    </tr>    <tr>        <th class=\"index_name level0\" >channel</th>        <th class=\"blank\" ></th>        <th class=\"blank\" ></th>        <th class=\"blank\" ></th>        <th class=\"blank\" ></th>    </tr></thead><tbody>\n",
       "                <tr>\n",
       "                        <th id=\"T_806b2_level0_row0\" class=\"row_heading level0 row0\" >organic</th>\n",
       "                        <td id=\"T_806b2_row0_col0\" class=\"data row0 col0\" >56439</td>\n",
       "                        <td id=\"T_806b2_row0_col1\" class=\"data row0 col1\" >37.62%</td>\n",
       "                        <td id=\"T_806b2_row0_col2\" class=\"data row0 col2\" >1160</td>\n",
       "                        <td id=\"T_806b2_row0_col3\" class=\"data row0 col3\" >2.06%</td>\n",
       "            </tr>\n",
       "            <tr>\n",
       "                        <th id=\"T_806b2_level0_row1\" class=\"row_heading level0 row1\" >FaceBoom</th>\n",
       "                        <td id=\"T_806b2_row1_col0\" class=\"data row1 col0\" >29144</td>\n",
       "                        <td id=\"T_806b2_row1_col1\" class=\"data row1 col1\" >19.43%</td>\n",
       "                        <td id=\"T_806b2_row1_col2\" class=\"data row1 col2\" >3557</td>\n",
       "                        <td id=\"T_806b2_row1_col3\" class=\"data row1 col3\" >12.20%</td>\n",
       "            </tr>\n",
       "            <tr>\n",
       "                        <th id=\"T_806b2_level0_row2\" class=\"row_heading level0 row2\" >TipTop</th>\n",
       "                        <td id=\"T_806b2_row2_col0\" class=\"data row2 col0\" >19561</td>\n",
       "                        <td id=\"T_806b2_row2_col1\" class=\"data row2 col1\" >13.04%</td>\n",
       "                        <td id=\"T_806b2_row2_col2\" class=\"data row2 col2\" >1878</td>\n",
       "                        <td id=\"T_806b2_row2_col3\" class=\"data row2 col3\" >9.60%</td>\n",
       "            </tr>\n",
       "            <tr>\n",
       "                        <th id=\"T_806b2_level0_row3\" class=\"row_heading level0 row3\" >OppleCreativeMedia</th>\n",
       "                        <td id=\"T_806b2_row3_col0\" class=\"data row3 col0\" >8605</td>\n",
       "                        <td id=\"T_806b2_row3_col1\" class=\"data row3 col1\" >5.74%</td>\n",
       "                        <td id=\"T_806b2_row3_col2\" class=\"data row3 col2\" >233</td>\n",
       "                        <td id=\"T_806b2_row3_col3\" class=\"data row3 col3\" >2.71%</td>\n",
       "            </tr>\n",
       "            <tr>\n",
       "                        <th id=\"T_806b2_level0_row4\" class=\"row_heading level0 row4\" >LeapBob</th>\n",
       "                        <td id=\"T_806b2_row4_col0\" class=\"data row4 col0\" >8553</td>\n",
       "                        <td id=\"T_806b2_row4_col1\" class=\"data row4 col1\" >5.70%</td>\n",
       "                        <td id=\"T_806b2_row4_col2\" class=\"data row4 col2\" >262</td>\n",
       "                        <td id=\"T_806b2_row4_col3\" class=\"data row4 col3\" >3.06%</td>\n",
       "            </tr>\n",
       "            <tr>\n",
       "                        <th id=\"T_806b2_level0_row5\" class=\"row_heading level0 row5\" >WahooNetBanner</th>\n",
       "                        <td id=\"T_806b2_row5_col0\" class=\"data row5 col0\" >8553</td>\n",
       "                        <td id=\"T_806b2_row5_col1\" class=\"data row5 col1\" >5.70%</td>\n",
       "                        <td id=\"T_806b2_row5_col2\" class=\"data row5 col2\" >453</td>\n",
       "                        <td id=\"T_806b2_row5_col3\" class=\"data row5 col3\" >5.30%</td>\n",
       "            </tr>\n",
       "            <tr>\n",
       "                        <th id=\"T_806b2_level0_row6\" class=\"row_heading level0 row6\" >RocketSuperAds</th>\n",
       "                        <td id=\"T_806b2_row6_col0\" class=\"data row6 col0\" >4448</td>\n",
       "                        <td id=\"T_806b2_row6_col1\" class=\"data row6 col1\" >2.97%</td>\n",
       "                        <td id=\"T_806b2_row6_col2\" class=\"data row6 col2\" >352</td>\n",
       "                        <td id=\"T_806b2_row6_col3\" class=\"data row6 col3\" >7.91%</td>\n",
       "            </tr>\n",
       "            <tr>\n",
       "                        <th id=\"T_806b2_level0_row7\" class=\"row_heading level0 row7\" >MediaTornado</th>\n",
       "                        <td id=\"T_806b2_row7_col0\" class=\"data row7 col0\" >4364</td>\n",
       "                        <td id=\"T_806b2_row7_col1\" class=\"data row7 col1\" >2.91%</td>\n",
       "                        <td id=\"T_806b2_row7_col2\" class=\"data row7 col2\" >156</td>\n",
       "                        <td id=\"T_806b2_row7_col3\" class=\"data row7 col3\" >3.57%</td>\n",
       "            </tr>\n",
       "            <tr>\n",
       "                        <th id=\"T_806b2_level0_row8\" class=\"row_heading level0 row8\" >YRabbit</th>\n",
       "                        <td id=\"T_806b2_row8_col0\" class=\"data row8 col0\" >4312</td>\n",
       "                        <td id=\"T_806b2_row8_col1\" class=\"data row8 col1\" >2.87%</td>\n",
       "                        <td id=\"T_806b2_row8_col2\" class=\"data row8 col2\" >165</td>\n",
       "                        <td id=\"T_806b2_row8_col3\" class=\"data row8 col3\" >3.83%</td>\n",
       "            </tr>\n",
       "            <tr>\n",
       "                        <th id=\"T_806b2_level0_row9\" class=\"row_heading level0 row9\" >AdNonSense</th>\n",
       "                        <td id=\"T_806b2_row9_col0\" class=\"data row9 col0\" >3880</td>\n",
       "                        <td id=\"T_806b2_row9_col1\" class=\"data row9 col1\" >2.59%</td>\n",
       "                        <td id=\"T_806b2_row9_col2\" class=\"data row9 col2\" >440</td>\n",
       "                        <td id=\"T_806b2_row9_col3\" class=\"data row9 col3\" >11.34%</td>\n",
       "            </tr>\n",
       "            <tr>\n",
       "                        <th id=\"T_806b2_level0_row10\" class=\"row_heading level0 row10\" >lambdaMediaAds</th>\n",
       "                        <td id=\"T_806b2_row10_col0\" class=\"data row10 col0\" >2149</td>\n",
       "                        <td id=\"T_806b2_row10_col1\" class=\"data row10 col1\" >1.43%</td>\n",
       "                        <td id=\"T_806b2_row10_col2\" class=\"data row10 col2\" >225</td>\n",
       "                        <td id=\"T_806b2_row10_col3\" class=\"data row10 col3\" >10.47%</td>\n",
       "            </tr>\n",
       "    </tbody></table>"
      ],
      "text/plain": [
       "<pandas.io.formats.style.Styler at 0x7f20b885dc40>"
      ]
     },
     "execution_count": 41,
     "metadata": {},
     "output_type": "execute_result"
    }
   ],
   "source": [
    "pivot_part('channel', profiles)"
   ]
  },
  {
   "cell_type": "markdown",
   "metadata": {},
   "source": [
    "Наблюдаем самый большой канал среди всех пользоватей - Organic -37%. Далее по рейтенгу идут FaceBoom и TipTop. У платящих пользователей разбивка иная. Превое место по каналу у FaceBoom (40%) , далее Tiptop(21%) и Organic(13%). Менее популярный канал для двух категорий lambdaMediaAds"
   ]
  },
  {
   "cell_type": "markdown",
   "metadata": {},
   "source": [
    "<div class=\"alert alert-info\">\n",
    "\n",
    "Общий вывод по разделу:\n",
    "    \n",
    "    1.На этапе анализа данных были определены минимальная и максимальная даты привлечения пользователей 2019-05-01 00:00:00 и 2019-10-27 00:00:00.\n",
    "    2.Построены профили пользователей.\n",
    "    3.Определены данные по кличеству пользователей в каждой стране и их доли. Судя по данным, больше всего пользователей из США 66%. Далее идут Англия и Франция, меньше всего в Германии 10%.\n",
    "    4.Определены данные по количеству и долям платящие пользователи в общем. Больше всего платящих пользователей остается в США 78%, меньше всего в Германии 7%.\n",
    "    5.Определены платящие пользователи в каждой стране. Судя по данным, платящих пользователей в США всего 6,9% это 6902 человек.В Англии платящие пользователи 3.98% (700 человек). Меньше всего в Германии 4%.\n",
    "    6.Определены самые популярные девайсы среди пользователей - Ihpone 36% и Andriod 23%. Менее популярны Mac и PC по 20%.\n",
    "    7.Определены самые популярные девайсы среди платящих пользователей Ihpone и Mac  по 6%\n",
    "    8.Выявлены каналы по которым приходят больше всего пользователей. Это канал Organic  37%, далее FaceBoom и TipTop.\n",
    "    9.Выявлены каналы по которым приходят платящие пользователи. Это канал каналы FaceBoom 12.20%, AdNonSense11.34% и lambdaMediaAds10.47%.\n",
    "    10.Выявлены каналы по которым меньше всего платящих пользователей. Это канал  Organic 2%.\n",
    "    \n",
    "    "
   ]
  },
  {
   "cell_type": "markdown",
   "metadata": {
    "id": "80LRB5-eWVwm"
   },
   "source": [
    "### Маркетинг\n",
    "\n",
    "- Посчитаим общую сумму расходов на маркетинг.\n",
    "- Выясним как траты распределены по рекламным источникам, то есть сколько денег потратили на каждый источник.\n",
    "- Построим визуализацию динамики изменения расходов во времени (по неделям и месяцам) по каждому источнику. \n",
    "- Узнаем сколько в среднем стоило привлечение одного пользователя (CAC) из каждого источника. Используем профили пользователей.\n"
   ]
  },
  {
   "cell_type": "markdown",
   "metadata": {
    "id": "DQE9emXqWVwm"
   },
   "source": [
    "<b>Посчитаем общую сумму расходов на маркетинг.<b>"
   ]
  },
  {
   "cell_type": "code",
   "execution_count": 42,
   "metadata": {},
   "outputs": [
    {
     "data": {
      "text/plain": [
       "105497.30000000002"
      ]
     },
     "metadata": {},
     "output_type": "display_data"
    }
   ],
   "source": [
    "display(costs['costs'].sum())"
   ]
  },
  {
   "cell_type": "markdown",
   "metadata": {},
   "source": [
    "Общая сумма расходов на маркетинг равна 105497"
   ]
  },
  {
   "cell_type": "markdown",
   "metadata": {},
   "source": [
    "<b>Выясним как траты распределены по рекламным источникам, то есть сколько денег потратили на каждый источник.<b>"
   ]
  },
  {
   "cell_type": "code",
   "execution_count": 43,
   "metadata": {},
   "outputs": [
    {
     "data": {
      "text/html": [
       "<style  type=\"text/css\" >\n",
       "</style><table id=\"T_b2342_\" ><thead>    <tr>        <th class=\"blank level0\" ></th>        <th class=\"col_heading level0 col0\" >costs</th>        <th class=\"col_heading level0 col1\" >part</th>    </tr>    <tr>        <th class=\"index_name level0\" >channel</th>        <th class=\"blank\" ></th>        <th class=\"blank\" ></th>    </tr></thead><tbody>\n",
       "                <tr>\n",
       "                        <th id=\"T_b2342_level0_row0\" class=\"row_heading level0 row0\" >TipTop</th>\n",
       "                        <td id=\"T_b2342_row0_col0\" class=\"data row0 col0\" >54751.300000</td>\n",
       "                        <td id=\"T_b2342_row0_col1\" class=\"data row0 col1\" >51.90%</td>\n",
       "            </tr>\n",
       "            <tr>\n",
       "                        <th id=\"T_b2342_level0_row1\" class=\"row_heading level0 row1\" >FaceBoom</th>\n",
       "                        <td id=\"T_b2342_row1_col0\" class=\"data row1 col0\" >32445.600000</td>\n",
       "                        <td id=\"T_b2342_row1_col1\" class=\"data row1 col1\" >30.75%</td>\n",
       "            </tr>\n",
       "            <tr>\n",
       "                        <th id=\"T_b2342_level0_row2\" class=\"row_heading level0 row2\" >WahooNetBanner</th>\n",
       "                        <td id=\"T_b2342_row2_col0\" class=\"data row2 col0\" >5151.000000</td>\n",
       "                        <td id=\"T_b2342_row2_col1\" class=\"data row2 col1\" >4.88%</td>\n",
       "            </tr>\n",
       "            <tr>\n",
       "                        <th id=\"T_b2342_level0_row3\" class=\"row_heading level0 row3\" >AdNonSense</th>\n",
       "                        <td id=\"T_b2342_row3_col0\" class=\"data row3 col0\" >3911.250000</td>\n",
       "                        <td id=\"T_b2342_row3_col1\" class=\"data row3 col1\" >3.71%</td>\n",
       "            </tr>\n",
       "            <tr>\n",
       "                        <th id=\"T_b2342_level0_row4\" class=\"row_heading level0 row4\" >OppleCreativeMedia</th>\n",
       "                        <td id=\"T_b2342_row4_col0\" class=\"data row4 col0\" >2151.250000</td>\n",
       "                        <td id=\"T_b2342_row4_col1\" class=\"data row4 col1\" >2.04%</td>\n",
       "            </tr>\n",
       "            <tr>\n",
       "                        <th id=\"T_b2342_level0_row5\" class=\"row_heading level0 row5\" >RocketSuperAds</th>\n",
       "                        <td id=\"T_b2342_row5_col0\" class=\"data row5 col0\" >1833.000000</td>\n",
       "                        <td id=\"T_b2342_row5_col1\" class=\"data row5 col1\" >1.74%</td>\n",
       "            </tr>\n",
       "            <tr>\n",
       "                        <th id=\"T_b2342_level0_row6\" class=\"row_heading level0 row6\" >LeapBob</th>\n",
       "                        <td id=\"T_b2342_row6_col0\" class=\"data row6 col0\" >1797.600000</td>\n",
       "                        <td id=\"T_b2342_row6_col1\" class=\"data row6 col1\" >1.70%</td>\n",
       "            </tr>\n",
       "            <tr>\n",
       "                        <th id=\"T_b2342_level0_row7\" class=\"row_heading level0 row7\" >lambdaMediaAds</th>\n",
       "                        <td id=\"T_b2342_row7_col0\" class=\"data row7 col0\" >1557.600000</td>\n",
       "                        <td id=\"T_b2342_row7_col1\" class=\"data row7 col1\" >1.48%</td>\n",
       "            </tr>\n",
       "            <tr>\n",
       "                        <th id=\"T_b2342_level0_row8\" class=\"row_heading level0 row8\" >MediaTornado</th>\n",
       "                        <td id=\"T_b2342_row8_col0\" class=\"data row8 col0\" >954.480000</td>\n",
       "                        <td id=\"T_b2342_row8_col1\" class=\"data row8 col1\" >0.90%</td>\n",
       "            </tr>\n",
       "            <tr>\n",
       "                        <th id=\"T_b2342_level0_row9\" class=\"row_heading level0 row9\" >YRabbit</th>\n",
       "                        <td id=\"T_b2342_row9_col0\" class=\"data row9 col0\" >944.220000</td>\n",
       "                        <td id=\"T_b2342_row9_col1\" class=\"data row9 col1\" >0.90%</td>\n",
       "            </tr>\n",
       "    </tbody></table>"
      ],
      "text/plain": [
       "<pandas.io.formats.style.Styler at 0x7f20b8997640>"
      ]
     },
     "execution_count": 43,
     "metadata": {},
     "output_type": "execute_result"
    }
   ],
   "source": [
    "channel_costs= pd.DataFrame()\n",
    "channel_costs['costs'] = costs.groupby('channel')['costs'].sum()\n",
    "channel_costs['part'] = ((channel_costs['costs'] / costs['costs'].sum()) * 100)\n",
    "channel_costs.sort_values(by='part', ascending=False).style.format({'part': '{:.2f}%', 'payer_part': '{:.2f}%'})"
   ]
  },
  {
   "cell_type": "markdown",
   "metadata": {},
   "source": [
    "Самый затратный канал TipTop -52%, далее следует FaceBoom 31%. Самый низко затратный канал YRabbit - менее 1%."
   ]
  },
  {
   "cell_type": "markdown",
   "metadata": {},
   "source": [
    "<b>Построим визуализацию динамики изменения расходов во времени (по неделям и месяцам) по каждому источнику. Постараемся отразить это на одном графике.<b>"
   ]
  },
  {
   "cell_type": "code",
   "execution_count": 44,
   "metadata": {},
   "outputs": [
    {
     "data": {
      "image/png": "[encoded data removed]",
      "text/plain": [
       "<Figure size 1440x1080 with 1 Axes>"
      ]
     },
     "metadata": {
      "needs_background": "light"
     },
     "output_type": "display_data"
    }
   ],
   "source": [
    "# График изменения расходов во времени по каналам по месяцам\n",
    "costs_history = costs.pivot_table(\n",
    "        index='dt', columns='channel', values='costs', aggfunc='sum'\n",
    "    )\n",
    "ax = costs_history.plot(  \n",
    "           grid=True, figsize=(20, 15),      \n",
    "           label='Каналы',                     \n",
    "           legend=True,\n",
    "           \n",
    ") \n",
    "\n",
    "plt.yticks(np.arange(0, 650, 50)) \n",
    "plt.title('График изменения расходов на маркетинг в разбивке по каналам и по месяцам')\n",
    "plt.xlabel('Дата')\n",
    "plt.ylabel('Расходы')\n",
    "plt.show()\n"
   ]
  },
  {
   "cell_type": "markdown",
   "metadata": {},
   "source": [
    "Самые высокозатратные  - TipTop и FaceBoom.\n",
    "TipTop лидирует в данном рейтинге - расходы доходили до 650 в октябре. При этом можно сказать, что расходы растут каждый месяц.У  Faceboom  затраты доходили до 300 в сентябре.\n",
    "\n",
    "Остальные каналы не выделяются столь высокими расходами и волатильностью.\n",
    "\n"
   ]
  },
  {
   "cell_type": "code",
   "execution_count": 45,
   "metadata": {},
   "outputs": [],
   "source": [
    "# Создадим колонку week для анализа изменения расходов во времени по неделям\n",
    "costs['dt']=costs['dt'].astype('datetime64[M]')\n",
    "costs['week']=costs['dt'].astype('datetime64[W]')"
   ]
  },
  {
   "cell_type": "code",
   "execution_count": 46,
   "metadata": {},
   "outputs": [
    {
     "data": {
      "image/png": "[encoded data removed]",
      "text/plain": [
       "<Figure size 1440x1080 with 1 Axes>"
      ]
     },
     "metadata": {
      "needs_background": "light"
     },
     "output_type": "display_data"
    }
   ],
   "source": [
    "# График изменения расходов во времени по каналам по неделям\n",
    "costs_history2 = costs.pivot_table(\n",
    "        index='week', columns='channel', values='costs', aggfunc='sum'\n",
    "    )\n",
    "ax = costs_history2.plot(  \n",
    "           grid=True, figsize=(20,15),      \n",
    "           label='Каналы',                     \n",
    "           legend=True,\n",
    "           \n",
    ") \n",
    "\n",
    "plt.yticks(np.arange(0, 650, 50)) \n",
    "plt.title('График изменения расходов на маркетинг в разбивке по каналам и по неделям')\n",
    "plt.xlabel('Дата')\n",
    "plt.ylabel('Расходы')\n",
    "plt.show()"
   ]
  },
  {
   "cell_type": "code",
   "execution_count": 47,
   "metadata": {},
   "outputs": [
    {
     "data": {
      "image/png": "[encoded data removed]",
      "text/plain": [
       "<Figure size 1440x1080 with 1 Axes>"
      ]
     },
     "metadata": {
      "needs_background": "light"
     },
     "output_type": "display_data"
    }
   ],
   "source": [
    "costs_history = costs.pivot_table(\n",
    "        index='dt', columns='channel', values='costs', aggfunc='sum'\n",
    "    )\n",
    "ax = costs_history.plot(  \n",
    "           grid=True, figsize=(20, 15),      \n",
    "           label='Каналы',                     \n",
    "           legend=True,\n",
    "           \n",
    ") \n",
    "\n",
    "plt.yticks(np.arange(0, 650, 50)) \n",
    "plt.title('График изменения расходов на маркетинг в разбивке по каналам и по месяцам')\n",
    "plt.xlabel('Дата')\n",
    "plt.ylabel('Расходы')\n",
    "plt.show()\n"
   ]
  },
  {
   "cell_type": "code",
   "execution_count": 49,
   "metadata": {},
   "outputs": [
    {
     "data": {
      "image/png": "[encoded data removed]",
      "text/plain": [
       "<Figure size 1440x360 with 2 Axes>"
      ]
     },
     "metadata": {
      "needs_background": "light"
     },
     "output_type": "display_data"
    }
   ],
   "source": [
    "# задаём размер \n",
    "plt.figure(figsize=(20, 5))\n",
    "\n",
    "#первый график — динамика расходов по неделям\n",
    "ax1 = plt.subplot(1, 2, 1)\n",
    "costs.pivot_table(\n",
    "    index='week',\n",
    "    columns='channel',\n",
    "    values='costs',\n",
    "    aggfunc='sum'\n",
    ").plot(grid=True, ax=ax1)\n",
    "plt.xlabel('Неделя')\n",
    "plt.ylabel('Расходы ')\n",
    "plt.title('Затраты на привлечении по неделям')\n",
    "\n",
    "#второй график — динамика расходов по месяцам\n",
    "ax2 = plt.subplot(1, 2, 2, sharey=ax1)\n",
    "costs.pivot_table(\n",
    "    index='dt',\n",
    "    columns='channel',\n",
    "    values='costs',\n",
    "    aggfunc='sum'\n",
    ").plot(grid=True, ax=ax2)\n",
    "plt.xlabel('Месяц')\n",
    "plt.ylabel('Расходы')\n",
    "plt.title('затраты на привлечение по месяцам')\n",
    "plt.show()"
   ]
  },
  {
   "cell_type": "markdown",
   "metadata": {},
   "source": [
    "Изменение расходов по неделям отражают аналогичную картину,что и по месяцам. Рост до сентября у TipTop и спад в октябре. У FceBoom нет такой волатильности,примерно один уровень затрат. Необходимо посмотреть изменение расходов без лидеров, чтобы оценить другие каналы.\n"
   ]
  },
  {
   "cell_type": "code",
   "execution_count": null,
   "metadata": {},
   "outputs": [],
   "source": [
    "\n",
    "\n",
    "costs_history3 = costs[~costs['channel'].isin(['TipTop', 'FaceBoom'])].pivot_table(\n",
    "        index='dt', columns='channel', values='costs', aggfunc='sum'\n",
    "    )\n",
    "\n",
    "costs_history3.plot(                                             \n",
    "           figsize=(15, 10), \n",
    "           grid=True,      \n",
    "           label='Каналы',              \n",
    "           legend=True,\n",
    ") \n",
    "\n",
    "\n",
    "plt.title('График изменения расходов на маркетинг (без лидеров TipTop и FaceBoom) по месяцам')\n",
    "plt.xlabel('Дата')\n",
    "plt.ylabel('Затраты')\n",
    "plt.show()"
   ]
  },
  {
   "cell_type": "markdown",
   "metadata": {},
   "source": [
    "Затраты на AdNonSense имеют пик в мае и дальше с июня снижаются. \n",
    "Затраты на WahooNetBanner наоборот с июня растут и в августе достигают пика (более 1000уе).\n",
    "По остальным источникам затраты менее волотильны и находся в пределах 100-400уе.\n",
    "\n"
   ]
  },
  {
   "cell_type": "markdown",
   "metadata": {},
   "source": [
    "<b>Узнаем сколько в среднем стоило привлечение одного пользователя (CAC) из каждого источника.<b>"
   ]
  },
  {
   "cell_type": "code",
   "execution_count": null,
   "metadata": {},
   "outputs": [],
   "source": [
    "profiles.describe()"
   ]
  },
  {
   "cell_type": "code",
   "execution_count": null,
   "metadata": {},
   "outputs": [],
   "source": [
    "profiles['acquisition_cost'].hist(bins=20)\n",
    "plt.title('CAC')\n",
    "plt.show()"
   ]
  },
  {
   "cell_type": "markdown",
   "metadata": {},
   "source": [
    "Наблюдаем выбросы в данных. Слишком большое количество \"нулей\". Нужно детально проверить данные с \"нулями\"."
   ]
  },
  {
   "cell_type": "code",
   "execution_count": null,
   "metadata": {},
   "outputs": [],
   "source": [
    "null_cac=profiles.query('acquisition_cost==0')\n",
    "print(null_cac.head(10))"
   ]
  },
  {
   "cell_type": "markdown",
   "metadata": {},
   "source": [
    "Это канал Organic. Все логично - расходов на Organic не бывают."
   ]
  },
  {
   "cell_type": "markdown",
   "metadata": {},
   "source": [
    "Оценим  CAC на каждый канал "
   ]
  },
  {
   "cell_type": "code",
   "execution_count": null,
   "metadata": {},
   "outputs": [],
   "source": [
    "channel_cac = pd.DataFrame()\n",
    "channel_cac['acquisition_mean'] = profiles.groupby('channel')['acquisition_cost'].mean()\n",
    "channel_cac.sort_values(by='acquisition_mean', ascending=False).style.format({'acquisition_mean': '{:.2f}'})"
   ]
  },
  {
   "cell_type": "markdown",
   "metadata": {},
   "source": [
    "Лидирующее место в данном рейтинге занимает TipTop - 2,8 за каждого пользователя. Далее следует FaceBoom- 1,11.Почти такое же значение у канала AdNonSense\t\n",
    "Остальные каналы имеют значение от в диапозоне 0,70-0,21. Organic - 0."
   ]
  },
  {
   "cell_type": "code",
   "execution_count": null,
   "metadata": {},
   "outputs": [],
   "source": [
    "display((profiles['acquisition_cost'].mean()))"
   ]
  },
  {
   "cell_type": "code",
   "execution_count": null,
   "metadata": {},
   "outputs": [],
   "source": [
    "round(profiles['acquisition_cost'].mean(),2)"
   ]
  },
  {
   "cell_type": "markdown",
   "metadata": {},
   "source": [
    "<div class=\"alert alert-info\">\n",
    "\n",
    "<b>Общий вывод по разделу<b/>:\n",
    "    \n",
    "    \n",
    "1. Посчитана общая сумма расходов на маркетинг:105 497.\n",
    "2. Определены затраты по каналам в долях. Самый затратный канал TipTop -52%, далее следует FaceBoom 31%. Самый низко затратный канал YRabbit - менее 1%.\n",
    "3.Построен график динамики расходов во времени по каналам.Самые активные каналы это TipTop и FaceBoom.При этом можно сказать, что расходы растут каждый месяц.Остальные каналы не выделяются столь высокими расходами и волатильностью.\n",
    "4.Был построен график без лидеров по расходам.Затраты на AdNonSense имеют пик в мае и дальше с июня снижаются. Затраты на WahooNetBanner наоборот с июня растут и в августе достигают пика (более 1000уе). По остальным источникам затраты менее волотильны и находся в пределах 100-400уе.\n",
    "5. Определены средние показатели CAC по каналам и в общем по проекту.Лидирующее место в данном рейтинге занимает TipTop - 2,8 за каждого пользователя. Далее следует FaceBoom- 1,11.Почти такое же значение у канала AdNonSense.Остальные каналы имеют значение от в диапозоне 0,70-0,21. Organic - 0. В среднем по проекту CAC - 0,7.\n",
    "\n",
    "\n",
    "    "
   ]
  },
  {
   "cell_type": "markdown",
   "metadata": {
    "id": "poDjrQVHWVwn"
   },
   "source": [
    "### Оценим окупаемость рекламы\n",
    "\n"
   ]
  },
  {
   "cell_type": "markdown",
   "metadata": {
    "id": "hbNu9EXeWVwo"
   },
   "source": [
    "<b>Используя графики LTV, ROI и CAC, проанализируем окупаемость рекламы. Необходимость включения в анализ органических пользователей определим самостоятельно.<b>"
   ]
  },
  {
   "cell_type": "markdown",
   "metadata": {},
   "source": [
    "<b>Проанализируем окупаемость рекламы c помощью графиков LTV и ROI, а также графики динамики LTV, CAC и ROI.<b>"
   ]
  },
  {
   "cell_type": "code",
   "execution_count": null,
   "metadata": {},
   "outputs": [],
   "source": [
    "# LTV и ROI\n",
    "\n",
    "profiles = profiles.query('channel != \"organic\"')\n",
    "ltv_raw, ltv_grouped, ltv_history, roi_grouped, roi_history = get_ltv(\n",
    "    profiles, orders, observation_date, horizon_days\n",
    ")\n",
    "\n",
    "# графики\n",
    "plot_ltv_roi(ltv_grouped, ltv_history, roi_grouped, roi_history, horizon_days) "
   ]
  },
  {
   "cell_type": "markdown",
   "metadata": {},
   "source": [
    "1. LTV в динамике не волотилен. Более того показатель растет.\n",
    "2.ROI находится ниже 100%, что говорит об отсутствии окупаемости.\n",
    "3. Динамика CAC говорит об увеличении расходов.\n",
    "4. ROI пользователей с мае 2019 года был выше 100%, далее с июня Динамика ROI пользователей падает и достигает минимумам в сентябре-октябре."
   ]
  },
  {
   "cell_type": "markdown",
   "metadata": {},
   "source": [
    "<b>Проверим конверсию пользователей и динамику её изменения. То же самое сделайте с удержанием пользователей. Построим и изучите графики конверсии и удержания.<b>"
   ]
  },
  {
   "cell_type": "code",
   "execution_count": null,
   "metadata": {},
   "outputs": [],
   "source": [
    "# конверсия пользователей по девайсам\n",
    "\n",
    "dimensions = ['device']\n",
    "profiles = profiles.query('channel != \"organic\"')\n",
    "conversion_raw, conversion_grouped, conversion_history = get_conversion(\n",
    "    profiles, orders, observation_date, horizon_days, dimensions=dimensions\n",
    ")\n",
    "\n",
    "plot_conversion(conversion_grouped, conversion_history, horizon_days) "
   ]
  },
  {
   "cell_type": "markdown",
   "metadata": {},
   "source": [
    "Пользователи устройств Mac Android Iphone  имеют высокую и стаблиную конвертацию. PC имеют более низкое значение конвертации 0,04"
   ]
  },
  {
   "cell_type": "code",
   "execution_count": null,
   "metadata": {},
   "outputs": [],
   "source": [
    "# Удержание пользователей по девайсам\n",
    "\n",
    "dimensions = ['device']\n",
    "profiles = profiles.query('channel != \"organic\"')\n",
    "retention_raw, retention_grouped, retention_history = get_retention(\n",
    "    profiles, visits, observation_date, horizon_days, dimensions=dimensions\n",
    ")\n",
    "\n",
    "plot_retention(retention_grouped, retention_history, horizon_days) "
   ]
  },
  {
   "cell_type": "markdown",
   "metadata": {},
   "source": [
    "Судя по графикам, можно сделать вывод, что неплатящие пользователи плохо удерживаются. Из платящих пользователей хуже всего удерживаютя Ihpone и Mac.   "
   ]
  },
  {
   "cell_type": "markdown",
   "metadata": {},
   "source": [
    "<b>Проанализируем окупаемость рекламы с разбивкой по устройствам. Построим графики LTV и ROI, а также графики динамики LTV, CAC и ROI.<b>"
   ]
  },
  {
   "cell_type": "code",
   "execution_count": null,
   "metadata": {},
   "outputs": [],
   "source": [
    "# окупаемость с разбивкой по устройствам\n",
    "\n",
    "dimensions = ['device']\n",
    "profiles = profiles.query('channel != \"organic\"')\n",
    "ltv_raw, ltv_grouped, ltv_history, roi_grouped, roi_history = get_ltv(\n",
    "    profiles, orders, observation_date, horizon_days, dimensions=dimensions\n",
    ")\n",
    "\n",
    "plot_ltv_roi(\n",
    "    ltv_grouped, ltv_history, roi_grouped, roi_history, horizon_days, window=14\n",
    ") "
   ]
  },
  {
   "cell_type": "markdown",
   "metadata": {},
   "source": [
    "1. Стоимость привлечения растет у всех пользователей. При этом самая низкая у PC, самые высокие у Mac и Iphone.\n",
    "2. ROI при этом выше всего у PC, ниже всего у Mac и Iphone.\n",
    "3. график ROI пользователей демонстрирует снижение окупаемости у всех пользователей с июня месяца. При этом Mac и Iphone показывают самые низкие иоказатели.\n",
    "4. ltv стабилен.\n"
   ]
  },
  {
   "cell_type": "markdown",
   "metadata": {},
   "source": [
    "<b>Проанализируем окупаемость рекламы с разбивкой по странам. Построим графики LTV и ROI, а также графики динамики LTV, CAC и ROI.<b>"
   ]
  },
  {
   "cell_type": "code",
   "execution_count": null,
   "metadata": {},
   "outputs": [],
   "source": [
    "#  окупаемость с разбивкой по странам\n",
    "\n",
    "dimensions = ['region']\n",
    "profiles = profiles.query('channel != \"organic\"')\n",
    "ltv_raw, ltv_grouped, ltv_history, roi_grouped, roi_history = get_ltv(\n",
    "    profiles, orders, observation_date, horizon_days, dimensions=dimensions\n",
    ")\n",
    "\n",
    "plot_ltv_roi(\n",
    "    ltv_grouped, ltv_history, roi_grouped, roi_history, horizon_days, window=14\n",
    ") "
   ]
  },
  {
   "cell_type": "markdown",
   "metadata": {},
   "source": [
    "1. Наблюдаем высокий рост стоимости привлечения пользоваителей у США. \n",
    "2. При этом ROI у США  имеет самое низкое значение. \n",
    "3. ltv стабилен.\n",
    "4. Англия и Германия имеют высокие показатели окупаемости."
   ]
  },
  {
   "cell_type": "code",
   "execution_count": null,
   "metadata": {},
   "outputs": [],
   "source": [
    "# конверсия с разбивкой по странам\n",
    "dimensions=['region']\n",
    "profiles = profiles.query('channel != \"organic\"')\n",
    "conversion_raw, conversion_grouped, conversion_history = get_conversion(\n",
    "    profiles, orders, observation_date, horizon_days, dimensions=dimensions\n",
    ")\n",
    "\n",
    "plot_conversion(conversion_grouped, conversion_history, horizon_days) "
   ]
  },
  {
   "cell_type": "markdown",
   "metadata": {},
   "source": [
    "Самая большая конверсия среди стран у США, У Франции Англии и Германии примерно на одном уровне. Конверсия в целом стабильна"
   ]
  },
  {
   "cell_type": "code",
   "execution_count": null,
   "metadata": {},
   "outputs": [],
   "source": [
    "# удержание с разбивкой по странам\n",
    "dimensions=['region']\n",
    "profiles = profiles.query('channel != \"organic\"')\n",
    "retention_raw, retention_grouped, retention_history = get_retention(\n",
    "    profiles, visits, observation_date, horizon_days, dimensions=dimensions\n",
    ")\n",
    "\n",
    "plot_retention(retention_grouped, retention_history, horizon_days)"
   ]
  },
  {
   "cell_type": "markdown",
   "metadata": {},
   "source": [
    "Пользователи из США удерживаются хуже всех."
   ]
  },
  {
   "cell_type": "markdown",
   "metadata": {},
   "source": [
    "<b>Проанализируем окупаемость рекламы с разбивкой по рекламным каналам. Построим графики LTV и ROI, а также графики динамики LTV, CAC и ROI.<b>\n"
   ]
  },
  {
   "cell_type": "code",
   "execution_count": null,
   "metadata": {},
   "outputs": [],
   "source": [
    "# окупаемость с разбивкой по источникам привлечения\n",
    "\n",
    "dimensions = ['channel']\n",
    "profiles = profiles.query('channel != \"organic\"')\n",
    "ltv_raw, ltv_grouped, ltv_history, roi_grouped, roi_history = get_ltv(\n",
    "    profiles, orders, observation_date, horizon_days, dimensions=dimensions\n",
    ")\n",
    "\n",
    "plot_ltv_roi(\n",
    "    ltv_grouped, ltv_history, roi_grouped, roi_history, horizon_days, window=14\n",
    ")"
   ]
  },
  {
   "cell_type": "markdown",
   "metadata": {},
   "source": [
    "1. Наблюдаем высокий темп роста показателя CAC у канала TipTop, при этом остальные каналы менее волатильны.\n",
    "2. Высокий показатели ROI на 14 день у YRabbit \n",
    "3. LTV  стабилен. "
   ]
  },
  {
   "cell_type": "code",
   "execution_count": null,
   "metadata": {},
   "outputs": [],
   "source": [
    "# конверсия с разбивкой по каналам\n",
    "dimensions=['channel']\n",
    "profiles = profiles.query('channel != \"organic\"')\n",
    "conversion_raw, conversion_grouped, conversion_history = get_conversion(\n",
    "    profiles, orders, observation_date, horizon_days, dimensions=dimensions\n",
    ")\n",
    "\n",
    "plot_conversion(conversion_grouped, conversion_history, horizon_days) "
   ]
  },
  {
   "cell_type": "markdown",
   "metadata": {},
   "source": [
    "Лучше всего конвертируются каналы FaceBoom  AdNonSense. Хуже всего RocketSuperAds, MediaTornado, YRabbit."
   ]
  },
  {
   "cell_type": "code",
   "execution_count": null,
   "metadata": {},
   "outputs": [],
   "source": [
    "# удержание с разбивкой по каналам\n",
    "dimensions=['channel']\n",
    "profiles = profiles.query('channel != \"organic\"')\n",
    "retention_raw, retention_grouped, retention_history = get_retention(\n",
    "    profiles, visits, observation_date, horizon_days, dimensions=dimensions\n",
    ")\n",
    "\n",
    "plot_retention(retention_grouped, retention_history, horizon_days)"
   ]
  },
  {
   "cell_type": "markdown",
   "metadata": {},
   "source": [
    "<b>Ответим на такие вопросы:\n",
    "Окупается ли реклама, направленная на привлечение пользователей в целом?\n",
    "Какие устройства, страны и рекламные каналы могут оказывать негативное влияние на окупаемость рекламы?\n",
    "Чем могут быть вызваны проблемы окупаемости?\n",
    "Напишите вывод, опишите возможные причины обнаруженных проблем и промежуточные рекомендации для рекламного отдела.<b>"
   ]
  },
  {
   "cell_type": "markdown",
   "metadata": {},
   "source": [
    "В целом реклама окупается, с учетом канала Organic. Данный канал не был исключен из анализа. \n",
    "Негативное влияние на окупаемость оказывают  устройства Mac и iPhone,канал - FaceBoom, TipTop,LeapBop, страна - США.\n",
    "Проблема окупаемости может быть вызвана высокими расходами на рекламу или неверное распределение между каналами.\n",
    "В качестве рекомендаций: Использовать данные прошлых лет для построения прогноза окупаемости. Такой бизнес план может быть более эффективен в действии."
   ]
  },
  {
   "cell_type": "markdown",
   "metadata": {
    "id": "Jn9XBfZCWVwo"
   },
   "source": [
    "###  выводы\n",
    "\n",
    "- Выделим причины неэффективности привлечения пользователей.\n",
    "- Сформулируем рекомендации для отдела маркетинга."
   ]
  },
  {
   "cell_type": "markdown",
   "metadata": {},
   "source": [
    "Причины неэффективности привлечения пользователей:\n",
    "ROI находится ниже 100%, что говорит об отсутствии окупаемости.\n",
    "Основная причина это увеличение расходов исходя из графика. При этом  ROI пользователей падает и достигает минимумам в сентябре-октябре.\n",
    "Стоимость привлечения пользователей всех устройств росла за рассматриваемый период. Iphone и Mac выделяются среди остальных устройств по своей стоимости привлечения, однако ROI падает.\n",
    "Конвертация у устройств Iphone и Mac, Android постоянная и в норме. Так же как и удержание. Если рассматривать среди платящих и неплатящих пользователей, то хуже удерживаются неплатящие.\n",
    "Если рассматривать территориально вопрос окупаемости, то здесь аутсайдер - США , при том что самое большое количество пользователей именно из штатов(67%).\n",
    "Меньше всего пользователей из Германии и почти равное по долях из Англии и Франции. При этом лучше всего окупаемость у Англии и Германии.\n",
    "По каналам вывод следующий: TipTop самый затратный канал , однако Roi на низком уровне.Высокий показатели ROI на 14 день у YRabbit. При этом у данного канала низкие расходы\n",
    "\n"
   ]
  },
  {
   "cell_type": "markdown",
   "metadata": {},
   "source": [
    "Рекомендации для маркетинга:\n",
    "    Расширять территорию среди стран с высокой окупаемостью - Англия и Германия. \n",
    "    Ввиду того, что основной пул пользователей все таки в США необходимо выявить причины снижения окупаемости с июля месяца.\n",
    "    Пересмотр распределения расходов на рекламу на другие каналы. Сейчас основной канал по расходам у TipTop. При этом окупаемость не оправдывает данные расходы.\n",
    "    "
   ]
  },
  {
   "cell_type": "code",
   "execution_count": null,
   "metadata": {},
   "outputs": [],
   "source": []
  }
 ],
 "metadata": {
  "ExecuteTimeLog": [
   {
    "duration": 870,
    "start_time": "2023-03-31T10:28:02.753Z"
   },
   {
    "duration": 2625,
    "start_time": "2023-03-31T10:29:33.090Z"
   },
   {
    "duration": 102,
    "start_time": "2023-03-31T10:30:07.668Z"
   },
   {
    "duration": 77,
    "start_time": "2023-03-31T10:30:28.151Z"
   },
   {
    "duration": 16,
    "start_time": "2023-03-31T10:30:44.402Z"
   },
   {
    "duration": 10,
    "start_time": "2023-03-31T10:30:54.778Z"
   },
   {
    "duration": 70,
    "start_time": "2023-03-31T10:31:27.428Z"
   },
   {
    "duration": 8,
    "start_time": "2023-03-31T10:32:44.591Z"
   },
   {
    "duration": 12,
    "start_time": "2023-03-31T10:32:58.451Z"
   },
   {
    "duration": 9,
    "start_time": "2023-03-31T10:33:32.165Z"
   },
   {
    "duration": 12,
    "start_time": "2023-03-31T10:33:59.723Z"
   },
   {
    "duration": 4,
    "start_time": "2023-03-31T10:36:47.208Z"
   },
   {
    "duration": 109,
    "start_time": "2023-03-31T10:38:26.260Z"
   },
   {
    "duration": 74,
    "start_time": "2023-03-31T10:42:00.374Z"
   },
   {
    "duration": 85,
    "start_time": "2023-03-31T10:44:15.365Z"
   },
   {
    "duration": 273,
    "start_time": "2023-03-31T10:47:32.206Z"
   },
   {
    "duration": 15,
    "start_time": "2023-03-31T10:48:20.622Z"
   },
   {
    "duration": 6,
    "start_time": "2023-03-31T10:48:22.574Z"
   },
   {
    "duration": 85,
    "start_time": "2023-03-31T10:48:44.304Z"
   },
   {
    "duration": 59,
    "start_time": "2023-03-31T10:50:06.286Z"
   },
   {
    "duration": 62,
    "start_time": "2023-03-31T10:51:03.233Z"
   },
   {
    "duration": 65,
    "start_time": "2023-03-31T10:51:44.476Z"
   },
   {
    "duration": 75,
    "start_time": "2023-03-31T10:52:57.744Z"
   },
   {
    "duration": 73,
    "start_time": "2023-03-31T10:58:08.619Z"
   },
   {
    "duration": 81,
    "start_time": "2023-03-31T10:58:31.362Z"
   },
   {
    "duration": 51,
    "start_time": "2023-03-31T10:58:43.618Z"
   },
   {
    "duration": 95,
    "start_time": "2023-03-31T10:59:17.482Z"
   },
   {
    "duration": 18,
    "start_time": "2023-03-31T11:00:40.729Z"
   },
   {
    "duration": 12,
    "start_time": "2023-03-31T11:01:22.433Z"
   },
   {
    "duration": 183,
    "start_time": "2023-03-31T11:02:49.233Z"
   },
   {
    "duration": 912,
    "start_time": "2023-04-01T05:09:44.400Z"
   },
   {
    "duration": 988,
    "start_time": "2023-04-01T05:09:45.314Z"
   },
   {
    "duration": 17,
    "start_time": "2023-04-01T05:09:46.304Z"
   },
   {
    "duration": 68,
    "start_time": "2023-04-01T05:09:46.324Z"
   },
   {
    "duration": 13,
    "start_time": "2023-04-01T05:09:46.394Z"
   },
   {
    "duration": 26,
    "start_time": "2023-04-01T05:09:46.409Z"
   },
   {
    "duration": 11,
    "start_time": "2023-04-01T05:09:46.438Z"
   },
   {
    "duration": 20,
    "start_time": "2023-04-01T05:09:46.451Z"
   },
   {
    "duration": 7,
    "start_time": "2023-04-01T05:09:46.473Z"
   },
   {
    "duration": 9,
    "start_time": "2023-04-01T05:09:46.483Z"
   },
   {
    "duration": 91,
    "start_time": "2023-04-01T05:09:46.494Z"
   },
   {
    "duration": 283,
    "start_time": "2023-04-01T05:09:46.587Z"
   },
   {
    "duration": 12,
    "start_time": "2023-04-01T05:09:46.872Z"
   },
   {
    "duration": 5,
    "start_time": "2023-04-01T05:09:46.886Z"
   },
   {
    "duration": 87,
    "start_time": "2023-04-01T05:09:46.892Z"
   },
   {
    "duration": 69,
    "start_time": "2023-04-01T05:09:46.981Z"
   },
   {
    "duration": 73,
    "start_time": "2023-04-01T05:09:47.052Z"
   },
   {
    "duration": 768,
    "start_time": "2023-04-01T05:09:47.127Z"
   },
   {
    "duration": 0,
    "start_time": "2023-04-01T05:09:47.897Z"
   },
   {
    "duration": 0,
    "start_time": "2023-04-01T05:09:47.898Z"
   },
   {
    "duration": 0,
    "start_time": "2023-04-01T05:09:47.900Z"
   },
   {
    "duration": 0,
    "start_time": "2023-04-01T05:09:47.902Z"
   },
   {
    "duration": 139,
    "start_time": "2023-04-01T05:10:15.075Z"
   },
   {
    "duration": 4,
    "start_time": "2023-04-01T05:10:58.348Z"
   },
   {
    "duration": 671,
    "start_time": "2023-04-01T05:11:02.977Z"
   },
   {
    "duration": 656,
    "start_time": "2023-04-01T05:11:03.651Z"
   },
   {
    "duration": 15,
    "start_time": "2023-04-01T05:11:04.309Z"
   },
   {
    "duration": 60,
    "start_time": "2023-04-01T05:11:04.327Z"
   },
   {
    "duration": 9,
    "start_time": "2023-04-01T05:11:04.388Z"
   },
   {
    "duration": 26,
    "start_time": "2023-04-01T05:11:04.398Z"
   },
   {
    "duration": 10,
    "start_time": "2023-04-01T05:11:04.426Z"
   },
   {
    "duration": 14,
    "start_time": "2023-04-01T05:11:04.437Z"
   },
   {
    "duration": 7,
    "start_time": "2023-04-01T05:11:04.453Z"
   },
   {
    "duration": 6,
    "start_time": "2023-04-01T05:11:04.462Z"
   },
   {
    "duration": 78,
    "start_time": "2023-04-01T05:11:04.469Z"
   },
   {
    "duration": 277,
    "start_time": "2023-04-01T05:11:04.548Z"
   },
   {
    "duration": 15,
    "start_time": "2023-04-01T05:11:04.827Z"
   },
   {
    "duration": 7,
    "start_time": "2023-04-01T05:11:04.844Z"
   },
   {
    "duration": 82,
    "start_time": "2023-04-01T05:11:04.853Z"
   },
   {
    "duration": 53,
    "start_time": "2023-04-01T05:11:04.937Z"
   },
   {
    "duration": 71,
    "start_time": "2023-04-01T05:11:04.992Z"
   },
   {
    "duration": 147,
    "start_time": "2023-04-01T05:11:05.065Z"
   },
   {
    "duration": 47,
    "start_time": "2023-04-01T05:11:05.214Z"
   },
   {
    "duration": 21,
    "start_time": "2023-04-01T05:11:05.263Z"
   },
   {
    "duration": 13,
    "start_time": "2023-04-01T05:11:05.285Z"
   },
   {
    "duration": 5,
    "start_time": "2023-04-01T05:11:05.324Z"
   },
   {
    "duration": 5,
    "start_time": "2023-04-01T05:12:40.656Z"
   },
   {
    "duration": 6,
    "start_time": "2023-04-01T05:23:27.986Z"
   },
   {
    "duration": 8,
    "start_time": "2023-04-01T05:23:45.453Z"
   },
   {
    "duration": 8,
    "start_time": "2023-04-01T05:32:47.213Z"
   },
   {
    "duration": 47,
    "start_time": "2023-04-01T05:41:23.196Z"
   },
   {
    "duration": 358,
    "start_time": "2023-04-01T05:42:55.546Z"
   },
   {
    "duration": 49,
    "start_time": "2023-04-01T05:44:56.499Z"
   },
   {
    "duration": 79,
    "start_time": "2023-04-01T05:47:41.258Z"
   },
   {
    "duration": 46,
    "start_time": "2023-04-01T13:00:57.409Z"
   },
   {
    "duration": 776,
    "start_time": "2023-04-01T13:01:06.590Z"
   },
   {
    "duration": 1898,
    "start_time": "2023-04-01T13:01:07.368Z"
   },
   {
    "duration": 13,
    "start_time": "2023-04-01T13:01:09.268Z"
   },
   {
    "duration": 51,
    "start_time": "2023-04-01T13:01:09.283Z"
   },
   {
    "duration": 8,
    "start_time": "2023-04-01T13:01:09.335Z"
   },
   {
    "duration": 10,
    "start_time": "2023-04-01T13:01:09.349Z"
   },
   {
    "duration": 10,
    "start_time": "2023-04-01T13:01:09.361Z"
   },
   {
    "duration": 11,
    "start_time": "2023-04-01T13:01:09.373Z"
   },
   {
    "duration": 3,
    "start_time": "2023-04-01T13:01:09.386Z"
   },
   {
    "duration": 6,
    "start_time": "2023-04-01T13:01:09.391Z"
   },
   {
    "duration": 64,
    "start_time": "2023-04-01T13:01:09.398Z"
   },
   {
    "duration": 201,
    "start_time": "2023-04-01T13:01:09.463Z"
   },
   {
    "duration": 11,
    "start_time": "2023-04-01T13:01:09.665Z"
   },
   {
    "duration": 4,
    "start_time": "2023-04-01T13:01:09.677Z"
   },
   {
    "duration": 52,
    "start_time": "2023-04-01T13:01:09.682Z"
   },
   {
    "duration": 63,
    "start_time": "2023-04-01T13:01:09.749Z"
   },
   {
    "duration": 74,
    "start_time": "2023-04-01T13:01:09.813Z"
   },
   {
    "duration": 706,
    "start_time": "2023-04-01T13:01:09.888Z"
   },
   {
    "duration": 0,
    "start_time": "2023-04-01T13:01:10.596Z"
   },
   {
    "duration": 0,
    "start_time": "2023-04-01T13:01:10.597Z"
   },
   {
    "duration": 0,
    "start_time": "2023-04-01T13:01:10.599Z"
   },
   {
    "duration": 0,
    "start_time": "2023-04-01T13:01:10.600Z"
   },
   {
    "duration": 0,
    "start_time": "2023-04-01T13:01:10.601Z"
   },
   {
    "duration": 0,
    "start_time": "2023-04-01T13:01:10.603Z"
   },
   {
    "duration": 0,
    "start_time": "2023-04-01T13:01:10.604Z"
   },
   {
    "duration": 0,
    "start_time": "2023-04-01T13:01:10.605Z"
   },
   {
    "duration": 0,
    "start_time": "2023-04-01T13:01:10.606Z"
   },
   {
    "duration": 0,
    "start_time": "2023-04-01T13:01:10.607Z"
   },
   {
    "duration": 130,
    "start_time": "2023-04-01T13:02:18.448Z"
   },
   {
    "duration": 1514,
    "start_time": "2023-04-01T13:02:30.541Z"
   },
   {
    "duration": 30,
    "start_time": "2023-04-01T13:02:53.635Z"
   },
   {
    "duration": 73,
    "start_time": "2023-04-01T13:03:25.461Z"
   },
   {
    "duration": 26,
    "start_time": "2023-04-01T13:03:35.132Z"
   },
   {
    "duration": 85,
    "start_time": "2023-04-01T13:05:41.519Z"
   },
   {
    "duration": 14,
    "start_time": "2023-04-01T13:06:02.574Z"
   },
   {
    "duration": 88,
    "start_time": "2023-04-01T13:06:58.237Z"
   },
   {
    "duration": 7,
    "start_time": "2023-04-01T13:08:12.907Z"
   },
   {
    "duration": 7,
    "start_time": "2023-04-01T13:08:37.361Z"
   },
   {
    "duration": 75,
    "start_time": "2023-04-01T13:11:13.073Z"
   },
   {
    "duration": 3,
    "start_time": "2023-04-01T13:59:43.918Z"
   },
   {
    "duration": 4,
    "start_time": "2023-04-01T13:59:46.680Z"
   },
   {
    "duration": 8,
    "start_time": "2023-04-01T13:59:48.337Z"
   },
   {
    "duration": 7,
    "start_time": "2023-04-01T13:59:49.432Z"
   },
   {
    "duration": 7,
    "start_time": "2023-04-01T13:59:50.163Z"
   },
   {
    "duration": 74,
    "start_time": "2023-04-01T13:59:51.537Z"
   },
   {
    "duration": 7,
    "start_time": "2023-04-01T14:03:27.501Z"
   },
   {
    "duration": 6,
    "start_time": "2023-04-01T14:04:52.850Z"
   },
   {
    "duration": 552,
    "start_time": "2023-04-01T14:05:36.279Z"
   },
   {
    "duration": 517,
    "start_time": "2023-04-01T14:05:36.832Z"
   },
   {
    "duration": 12,
    "start_time": "2023-04-01T14:05:37.350Z"
   },
   {
    "duration": 49,
    "start_time": "2023-04-01T14:05:37.363Z"
   },
   {
    "duration": 6,
    "start_time": "2023-04-01T14:05:37.414Z"
   },
   {
    "duration": 16,
    "start_time": "2023-04-01T14:05:37.422Z"
   },
   {
    "duration": 8,
    "start_time": "2023-04-01T14:05:37.448Z"
   },
   {
    "duration": 24,
    "start_time": "2023-04-01T14:05:37.457Z"
   },
   {
    "duration": 9,
    "start_time": "2023-04-01T14:05:37.483Z"
   },
   {
    "duration": 22,
    "start_time": "2023-04-01T14:05:37.494Z"
   },
   {
    "duration": 56,
    "start_time": "2023-04-01T14:05:37.517Z"
   },
   {
    "duration": 202,
    "start_time": "2023-04-01T14:05:37.574Z"
   },
   {
    "duration": 11,
    "start_time": "2023-04-01T14:05:37.778Z"
   },
   {
    "duration": 4,
    "start_time": "2023-04-01T14:05:37.791Z"
   },
   {
    "duration": 62,
    "start_time": "2023-04-01T14:05:37.797Z"
   },
   {
    "duration": 46,
    "start_time": "2023-04-01T14:05:37.861Z"
   },
   {
    "duration": 61,
    "start_time": "2023-04-01T14:05:37.909Z"
   },
   {
    "duration": 127,
    "start_time": "2023-04-01T14:05:37.971Z"
   },
   {
    "duration": 24,
    "start_time": "2023-04-01T14:05:38.099Z"
   },
   {
    "duration": 23,
    "start_time": "2023-04-01T14:05:38.125Z"
   },
   {
    "duration": 8,
    "start_time": "2023-04-01T14:05:38.150Z"
   },
   {
    "duration": 19,
    "start_time": "2023-04-01T14:05:38.159Z"
   },
   {
    "duration": 10,
    "start_time": "2023-04-01T14:05:38.180Z"
   },
   {
    "duration": 4,
    "start_time": "2023-04-01T14:05:38.191Z"
   },
   {
    "duration": 23,
    "start_time": "2023-04-01T14:05:38.196Z"
   },
   {
    "duration": 8,
    "start_time": "2023-04-01T14:05:38.220Z"
   },
   {
    "duration": 14,
    "start_time": "2023-04-01T14:05:38.229Z"
   },
   {
    "duration": 31,
    "start_time": "2023-04-01T14:05:38.246Z"
   },
   {
    "duration": 24,
    "start_time": "2023-04-01T14:05:38.278Z"
   },
   {
    "duration": 23,
    "start_time": "2023-04-01T14:05:38.304Z"
   },
   {
    "duration": 20,
    "start_time": "2023-04-01T14:05:38.329Z"
   },
   {
    "duration": 82,
    "start_time": "2023-04-01T14:05:38.350Z"
   },
   {
    "duration": 0,
    "start_time": "2023-04-01T14:05:38.433Z"
   },
   {
    "duration": 75,
    "start_time": "2023-04-01T14:08:12.981Z"
   },
   {
    "duration": 8,
    "start_time": "2023-04-01T14:27:44.010Z"
   },
   {
    "duration": 599,
    "start_time": "2023-04-01T14:35:43.930Z"
   },
   {
    "duration": 571,
    "start_time": "2023-04-01T14:35:44.531Z"
   },
   {
    "duration": 11,
    "start_time": "2023-04-01T14:35:45.103Z"
   },
   {
    "duration": 53,
    "start_time": "2023-04-01T14:35:45.116Z"
   },
   {
    "duration": 8,
    "start_time": "2023-04-01T14:35:45.170Z"
   },
   {
    "duration": 12,
    "start_time": "2023-04-01T14:35:45.179Z"
   },
   {
    "duration": 13,
    "start_time": "2023-04-01T14:35:45.192Z"
   },
   {
    "duration": 11,
    "start_time": "2023-04-01T14:35:45.206Z"
   },
   {
    "duration": 4,
    "start_time": "2023-04-01T14:35:45.218Z"
   },
   {
    "duration": 6,
    "start_time": "2023-04-01T14:35:45.224Z"
   },
   {
    "duration": 59,
    "start_time": "2023-04-01T14:35:45.231Z"
   },
   {
    "duration": 208,
    "start_time": "2023-04-01T14:35:45.292Z"
   },
   {
    "duration": 10,
    "start_time": "2023-04-01T14:35:45.501Z"
   },
   {
    "duration": 4,
    "start_time": "2023-04-01T14:35:45.513Z"
   },
   {
    "duration": 63,
    "start_time": "2023-04-01T14:35:45.518Z"
   },
   {
    "duration": 44,
    "start_time": "2023-04-01T14:35:45.583Z"
   },
   {
    "duration": 62,
    "start_time": "2023-04-01T14:35:45.629Z"
   },
   {
    "duration": 131,
    "start_time": "2023-04-01T14:35:45.693Z"
   },
   {
    "duration": 30,
    "start_time": "2023-04-01T14:35:45.826Z"
   },
   {
    "duration": 16,
    "start_time": "2023-04-01T14:35:45.857Z"
   },
   {
    "duration": 10,
    "start_time": "2023-04-01T14:35:45.875Z"
   },
   {
    "duration": 11,
    "start_time": "2023-04-01T14:35:45.886Z"
   },
   {
    "duration": 6,
    "start_time": "2023-04-01T14:35:45.899Z"
   },
   {
    "duration": 4,
    "start_time": "2023-04-01T14:35:45.906Z"
   },
   {
    "duration": 38,
    "start_time": "2023-04-01T14:35:45.911Z"
   },
   {
    "duration": 12,
    "start_time": "2023-04-01T14:35:45.950Z"
   },
   {
    "duration": 16,
    "start_time": "2023-04-01T14:35:45.963Z"
   },
   {
    "duration": 16,
    "start_time": "2023-04-01T14:35:45.981Z"
   },
   {
    "duration": 6,
    "start_time": "2023-04-01T14:35:45.999Z"
   },
   {
    "duration": 17,
    "start_time": "2023-04-01T14:35:46.006Z"
   },
   {
    "duration": 13,
    "start_time": "2023-04-01T14:35:46.024Z"
   },
   {
    "duration": 24,
    "start_time": "2023-04-01T14:35:46.039Z"
   },
   {
    "duration": 81,
    "start_time": "2023-04-01T14:35:46.064Z"
   },
   {
    "duration": 0,
    "start_time": "2023-04-01T14:35:46.148Z"
   },
   {
    "duration": 403,
    "start_time": "2023-04-01T14:39:15.320Z"
   },
   {
    "duration": 5,
    "start_time": "2023-04-01T14:40:27.943Z"
   },
   {
    "duration": 51,
    "start_time": "2023-04-01T14:41:32.254Z"
   },
   {
    "duration": 21,
    "start_time": "2023-04-01T14:42:17.653Z"
   },
   {
    "duration": 22,
    "start_time": "2023-04-01T14:44:34.357Z"
   },
   {
    "duration": 0,
    "start_time": "2023-04-01T14:45:07.710Z"
   },
   {
    "duration": 1149,
    "start_time": "2023-04-01T14:45:22.317Z"
   },
   {
    "duration": 21,
    "start_time": "2023-04-01T14:46:09.327Z"
   },
   {
    "duration": 27,
    "start_time": "2023-04-01T14:48:28.736Z"
   },
   {
    "duration": 69,
    "start_time": "2023-04-01T14:50:53.648Z"
   },
   {
    "duration": 32,
    "start_time": "2023-04-01T14:53:22.960Z"
   },
   {
    "duration": 91,
    "start_time": "2023-04-01T14:57:58.431Z"
   },
   {
    "duration": 24,
    "start_time": "2023-04-01T14:59:19.302Z"
   },
   {
    "duration": 23,
    "start_time": "2023-04-01T14:59:59.317Z"
   },
   {
    "duration": 26,
    "start_time": "2023-04-01T15:00:34.639Z"
   },
   {
    "duration": 27,
    "start_time": "2023-04-01T15:01:56.001Z"
   },
   {
    "duration": 28,
    "start_time": "2023-04-01T15:02:29.969Z"
   },
   {
    "duration": 28,
    "start_time": "2023-04-01T15:02:41.810Z"
   },
   {
    "duration": 1232,
    "start_time": "2023-04-01T15:03:47.924Z"
   },
   {
    "duration": 16,
    "start_time": "2023-04-01T15:04:32.545Z"
   },
   {
    "duration": 1194,
    "start_time": "2023-04-02T05:22:37.789Z"
   },
   {
    "duration": 2383,
    "start_time": "2023-04-02T05:22:38.990Z"
   },
   {
    "duration": 16,
    "start_time": "2023-04-02T05:22:41.374Z"
   },
   {
    "duration": 76,
    "start_time": "2023-04-02T05:22:41.393Z"
   },
   {
    "duration": 14,
    "start_time": "2023-04-02T05:22:41.471Z"
   },
   {
    "duration": 22,
    "start_time": "2023-04-02T05:22:41.487Z"
   },
   {
    "duration": 38,
    "start_time": "2023-04-02T05:22:41.511Z"
   },
   {
    "duration": 16,
    "start_time": "2023-04-02T05:22:41.552Z"
   },
   {
    "duration": 6,
    "start_time": "2023-04-02T05:22:41.571Z"
   },
   {
    "duration": 7,
    "start_time": "2023-04-02T05:22:41.580Z"
   },
   {
    "duration": 155,
    "start_time": "2023-04-02T05:22:41.590Z"
   },
   {
    "duration": 306,
    "start_time": "2023-04-02T05:22:41.747Z"
   },
   {
    "duration": 21,
    "start_time": "2023-04-02T05:22:42.056Z"
   },
   {
    "duration": 7,
    "start_time": "2023-04-02T05:22:42.080Z"
   },
   {
    "duration": 83,
    "start_time": "2023-04-02T05:22:42.089Z"
   },
   {
    "duration": 80,
    "start_time": "2023-04-02T05:22:42.174Z"
   },
   {
    "duration": 55,
    "start_time": "2023-04-02T05:22:42.256Z"
   },
   {
    "duration": 169,
    "start_time": "2023-04-02T05:22:42.313Z"
   },
   {
    "duration": 31,
    "start_time": "2023-04-02T05:22:42.484Z"
   },
   {
    "duration": 38,
    "start_time": "2023-04-02T05:22:42.517Z"
   },
   {
    "duration": 19,
    "start_time": "2023-04-02T05:22:42.558Z"
   },
   {
    "duration": 18,
    "start_time": "2023-04-02T05:22:42.580Z"
   },
   {
    "duration": 43,
    "start_time": "2023-04-02T05:22:42.601Z"
   },
   {
    "duration": 4,
    "start_time": "2023-04-02T05:22:42.646Z"
   },
   {
    "duration": 15,
    "start_time": "2023-04-02T05:22:42.652Z"
   },
   {
    "duration": 12,
    "start_time": "2023-04-02T05:22:42.669Z"
   },
   {
    "duration": 14,
    "start_time": "2023-04-02T05:22:42.683Z"
   },
   {
    "duration": 42,
    "start_time": "2023-04-02T05:22:42.701Z"
   },
   {
    "duration": 15,
    "start_time": "2023-04-02T05:22:42.746Z"
   },
   {
    "duration": 20,
    "start_time": "2023-04-02T05:22:42.763Z"
   },
   {
    "duration": 9,
    "start_time": "2023-04-02T05:22:42.785Z"
   },
   {
    "duration": 14,
    "start_time": "2023-04-02T05:22:42.797Z"
   },
   {
    "duration": 599,
    "start_time": "2023-04-02T05:22:42.815Z"
   },
   {
    "duration": 9,
    "start_time": "2023-04-02T05:22:43.416Z"
   },
   {
    "duration": 136,
    "start_time": "2023-04-02T05:22:43.443Z"
   },
   {
    "duration": 0,
    "start_time": "2023-04-02T05:22:43.582Z"
   },
   {
    "duration": 0,
    "start_time": "2023-04-02T05:22:43.583Z"
   },
   {
    "duration": 0,
    "start_time": "2023-04-02T05:22:43.587Z"
   },
   {
    "duration": 113,
    "start_time": "2023-04-02T05:23:32.128Z"
   },
   {
    "duration": 52,
    "start_time": "2023-04-02T05:23:39.882Z"
   },
   {
    "duration": 56,
    "start_time": "2023-04-02T05:23:44.750Z"
   },
   {
    "duration": 42,
    "start_time": "2023-04-02T05:23:48.476Z"
   },
   {
    "duration": 30,
    "start_time": "2023-04-02T05:25:02.752Z"
   },
   {
    "duration": 52,
    "start_time": "2023-04-02T05:26:41.952Z"
   },
   {
    "duration": 68,
    "start_time": "2023-04-02T05:32:00.265Z"
   },
   {
    "duration": 154,
    "start_time": "2023-04-02T05:40:27.470Z"
   },
   {
    "duration": 7,
    "start_time": "2023-04-02T05:40:57.696Z"
   },
   {
    "duration": 8,
    "start_time": "2023-04-02T05:41:18.949Z"
   },
   {
    "duration": 14,
    "start_time": "2023-04-02T05:44:55.290Z"
   },
   {
    "duration": 106,
    "start_time": "2023-04-02T06:02:15.833Z"
   },
   {
    "duration": 555,
    "start_time": "2023-04-02T06:17:42.768Z"
   },
   {
    "duration": 468,
    "start_time": "2023-04-02T06:21:26.601Z"
   },
   {
    "duration": 501,
    "start_time": "2023-04-02T06:21:41.574Z"
   },
   {
    "duration": 785,
    "start_time": "2023-04-02T11:57:23.224Z"
   },
   {
    "duration": 2193,
    "start_time": "2023-04-02T11:57:24.011Z"
   },
   {
    "duration": 20,
    "start_time": "2023-04-02T11:57:26.207Z"
   },
   {
    "duration": 121,
    "start_time": "2023-04-02T11:57:26.230Z"
   },
   {
    "duration": 58,
    "start_time": "2023-04-02T11:57:26.354Z"
   },
   {
    "duration": 19,
    "start_time": "2023-04-02T11:57:26.414Z"
   },
   {
    "duration": 56,
    "start_time": "2023-04-02T11:57:26.435Z"
   },
   {
    "duration": 24,
    "start_time": "2023-04-02T11:57:26.496Z"
   },
   {
    "duration": 74,
    "start_time": "2023-04-02T11:57:26.522Z"
   },
   {
    "duration": 42,
    "start_time": "2023-04-02T11:57:26.600Z"
   },
   {
    "duration": 143,
    "start_time": "2023-04-02T11:57:26.652Z"
   },
   {
    "duration": 322,
    "start_time": "2023-04-02T11:57:26.802Z"
   },
   {
    "duration": 26,
    "start_time": "2023-04-02T11:57:27.126Z"
   },
   {
    "duration": 59,
    "start_time": "2023-04-02T11:57:27.154Z"
   },
   {
    "duration": 94,
    "start_time": "2023-04-02T11:57:27.215Z"
   },
   {
    "duration": 90,
    "start_time": "2023-04-02T11:57:27.311Z"
   },
   {
    "duration": 85,
    "start_time": "2023-04-02T11:57:27.403Z"
   },
   {
    "duration": 182,
    "start_time": "2023-04-02T11:57:27.490Z"
   },
   {
    "duration": 37,
    "start_time": "2023-04-02T11:57:27.674Z"
   },
   {
    "duration": 20,
    "start_time": "2023-04-02T11:57:27.713Z"
   },
   {
    "duration": 33,
    "start_time": "2023-04-02T11:57:27.735Z"
   },
   {
    "duration": 38,
    "start_time": "2023-04-02T11:57:27.770Z"
   },
   {
    "duration": 8,
    "start_time": "2023-04-02T11:57:27.810Z"
   },
   {
    "duration": 12,
    "start_time": "2023-04-02T11:57:27.820Z"
   },
   {
    "duration": 63,
    "start_time": "2023-04-02T11:57:27.834Z"
   },
   {
    "duration": 38,
    "start_time": "2023-04-02T11:57:27.899Z"
   },
   {
    "duration": 62,
    "start_time": "2023-04-02T11:57:27.939Z"
   },
   {
    "duration": 25,
    "start_time": "2023-04-02T11:57:28.004Z"
   },
   {
    "duration": 70,
    "start_time": "2023-04-02T11:57:28.031Z"
   },
   {
    "duration": 19,
    "start_time": "2023-04-02T11:57:28.103Z"
   },
   {
    "duration": 80,
    "start_time": "2023-04-02T11:57:28.124Z"
   },
   {
    "duration": 56,
    "start_time": "2023-04-02T11:57:28.206Z"
   },
   {
    "duration": 664,
    "start_time": "2023-04-02T11:57:28.264Z"
   },
   {
    "duration": 22,
    "start_time": "2023-04-02T11:57:28.930Z"
   },
   {
    "duration": 121,
    "start_time": "2023-04-02T11:57:28.954Z"
   },
   {
    "duration": 35,
    "start_time": "2023-04-02T11:57:29.080Z"
   },
   {
    "duration": 52,
    "start_time": "2023-04-02T11:57:29.117Z"
   },
   {
    "duration": 31,
    "start_time": "2023-04-02T11:57:29.184Z"
   },
   {
    "duration": 48,
    "start_time": "2023-04-02T11:57:29.217Z"
   },
   {
    "duration": 110,
    "start_time": "2023-04-02T11:57:29.267Z"
   },
   {
    "duration": 58,
    "start_time": "2023-04-02T11:57:29.380Z"
   },
   {
    "duration": 17,
    "start_time": "2023-04-02T11:57:29.439Z"
   },
   {
    "duration": 49,
    "start_time": "2023-04-02T11:57:29.461Z"
   },
   {
    "duration": 599,
    "start_time": "2023-04-02T11:57:29.512Z"
   },
   {
    "duration": 6,
    "start_time": "2023-04-02T12:04:28.528Z"
   },
   {
    "duration": 50,
    "start_time": "2023-04-03T08:43:59.493Z"
   },
   {
    "duration": 881,
    "start_time": "2023-04-03T08:44:17.282Z"
   },
   {
    "duration": 968,
    "start_time": "2023-04-03T08:44:18.165Z"
   },
   {
    "duration": 15,
    "start_time": "2023-04-03T08:44:19.134Z"
   },
   {
    "duration": 62,
    "start_time": "2023-04-03T08:44:19.151Z"
   },
   {
    "duration": 9,
    "start_time": "2023-04-03T08:44:19.214Z"
   },
   {
    "duration": 16,
    "start_time": "2023-04-03T08:44:19.225Z"
   },
   {
    "duration": 15,
    "start_time": "2023-04-03T08:44:19.242Z"
   },
   {
    "duration": 13,
    "start_time": "2023-04-03T08:44:19.259Z"
   },
   {
    "duration": 5,
    "start_time": "2023-04-03T08:44:19.274Z"
   },
   {
    "duration": 6,
    "start_time": "2023-04-03T08:44:19.302Z"
   },
   {
    "duration": 61,
    "start_time": "2023-04-03T08:44:19.310Z"
   },
   {
    "duration": 275,
    "start_time": "2023-04-03T08:44:19.374Z"
   },
   {
    "duration": 15,
    "start_time": "2023-04-03T08:44:19.651Z"
   },
   {
    "duration": 6,
    "start_time": "2023-04-03T08:44:19.668Z"
   },
   {
    "duration": 81,
    "start_time": "2023-04-03T08:44:19.676Z"
   },
   {
    "duration": 68,
    "start_time": "2023-04-03T08:44:19.758Z"
   },
   {
    "duration": 61,
    "start_time": "2023-04-03T08:44:19.828Z"
   },
   {
    "duration": 153,
    "start_time": "2023-04-03T08:44:19.904Z"
   },
   {
    "duration": 30,
    "start_time": "2023-04-03T08:44:20.059Z"
   },
   {
    "duration": 27,
    "start_time": "2023-04-03T08:44:20.091Z"
   },
   {
    "duration": 13,
    "start_time": "2023-04-03T08:44:20.121Z"
   },
   {
    "duration": 18,
    "start_time": "2023-04-03T08:44:20.136Z"
   },
   {
    "duration": 7,
    "start_time": "2023-04-03T08:44:20.156Z"
   },
   {
    "duration": 12,
    "start_time": "2023-04-03T08:44:20.165Z"
   },
   {
    "duration": 26,
    "start_time": "2023-04-03T08:44:20.179Z"
   },
   {
    "duration": 6,
    "start_time": "2023-04-03T08:44:20.207Z"
   },
   {
    "duration": 9,
    "start_time": "2023-04-03T08:44:20.215Z"
   },
   {
    "duration": 9,
    "start_time": "2023-04-03T08:44:20.228Z"
   },
   {
    "duration": 8,
    "start_time": "2023-04-03T08:44:20.239Z"
   },
   {
    "duration": 12,
    "start_time": "2023-04-03T08:44:20.249Z"
   },
   {
    "duration": 11,
    "start_time": "2023-04-03T08:44:20.263Z"
   },
   {
    "duration": 11,
    "start_time": "2023-04-03T08:44:20.302Z"
   },
   {
    "duration": 506,
    "start_time": "2023-04-03T08:44:20.315Z"
   },
   {
    "duration": 5,
    "start_time": "2023-04-03T08:44:20.823Z"
   },
   {
    "duration": 74,
    "start_time": "2023-04-03T08:44:20.829Z"
   },
   {
    "duration": 32,
    "start_time": "2023-04-03T08:44:20.905Z"
   },
   {
    "duration": 33,
    "start_time": "2023-04-03T08:44:20.939Z"
   },
   {
    "duration": 45,
    "start_time": "2023-04-03T08:44:20.974Z"
   },
   {
    "duration": 24,
    "start_time": "2023-04-03T08:44:21.021Z"
   },
   {
    "duration": 44,
    "start_time": "2023-04-03T08:44:21.047Z"
   },
   {
    "duration": 45,
    "start_time": "2023-04-03T08:44:21.102Z"
   },
   {
    "duration": 5,
    "start_time": "2023-04-03T08:44:21.148Z"
   },
   {
    "duration": 17,
    "start_time": "2023-04-03T08:44:21.155Z"
   },
   {
    "duration": 570,
    "start_time": "2023-04-03T08:44:21.173Z"
   },
   {
    "duration": 5,
    "start_time": "2023-04-03T08:44:21.744Z"
   },
   {
    "duration": 600,
    "start_time": "2023-04-03T08:44:21.751Z"
   },
   {
    "duration": 481,
    "start_time": "2023-04-03T08:44:40.741Z"
   },
   {
    "duration": 6,
    "start_time": "2023-04-03T08:46:29.689Z"
   },
   {
    "duration": 657,
    "start_time": "2023-04-03T08:53:27.853Z"
   },
   {
    "duration": 381,
    "start_time": "2023-04-03T08:53:40.223Z"
   },
   {
    "duration": 440,
    "start_time": "2023-04-03T08:53:48.758Z"
   },
   {
    "duration": 435,
    "start_time": "2023-04-03T08:54:19.859Z"
   },
   {
    "duration": 498,
    "start_time": "2023-04-03T08:54:32.269Z"
   },
   {
    "duration": 439,
    "start_time": "2023-04-03T08:54:42.217Z"
   },
   {
    "duration": 728,
    "start_time": "2023-04-03T09:06:49.617Z"
   },
   {
    "duration": 672,
    "start_time": "2023-04-03T09:06:50.348Z"
   },
   {
    "duration": 15,
    "start_time": "2023-04-03T09:06:51.021Z"
   },
   {
    "duration": 74,
    "start_time": "2023-04-03T09:06:51.038Z"
   },
   {
    "duration": 9,
    "start_time": "2023-04-03T09:06:51.114Z"
   },
   {
    "duration": 19,
    "start_time": "2023-04-03T09:06:51.125Z"
   },
   {
    "duration": 10,
    "start_time": "2023-04-03T09:06:51.147Z"
   },
   {
    "duration": 18,
    "start_time": "2023-04-03T09:06:51.158Z"
   },
   {
    "duration": 27,
    "start_time": "2023-04-03T09:06:51.177Z"
   },
   {
    "duration": 7,
    "start_time": "2023-04-03T09:06:51.206Z"
   },
   {
    "duration": 63,
    "start_time": "2023-04-03T09:06:51.215Z"
   },
   {
    "duration": 279,
    "start_time": "2023-04-03T09:06:51.280Z"
   },
   {
    "duration": 14,
    "start_time": "2023-04-03T09:06:51.561Z"
   },
   {
    "duration": 6,
    "start_time": "2023-04-03T09:06:51.578Z"
   },
   {
    "duration": 62,
    "start_time": "2023-04-03T09:06:51.602Z"
   },
   {
    "duration": 72,
    "start_time": "2023-04-03T09:06:51.665Z"
   },
   {
    "duration": 78,
    "start_time": "2023-04-03T09:06:51.739Z"
   },
   {
    "duration": 178,
    "start_time": "2023-04-03T09:06:51.819Z"
   },
   {
    "duration": 40,
    "start_time": "2023-04-03T09:06:51.999Z"
   },
   {
    "duration": 26,
    "start_time": "2023-04-03T09:06:52.041Z"
   },
   {
    "duration": 45,
    "start_time": "2023-04-03T09:06:52.069Z"
   },
   {
    "duration": 17,
    "start_time": "2023-04-03T09:06:52.116Z"
   },
   {
    "duration": 11,
    "start_time": "2023-04-03T09:06:52.135Z"
   },
   {
    "duration": 3,
    "start_time": "2023-04-03T09:06:52.148Z"
   },
   {
    "duration": 15,
    "start_time": "2023-04-03T09:06:52.153Z"
   },
   {
    "duration": 36,
    "start_time": "2023-04-03T09:06:52.170Z"
   },
   {
    "duration": 25,
    "start_time": "2023-04-03T09:06:52.208Z"
   },
   {
    "duration": 32,
    "start_time": "2023-04-03T09:06:52.234Z"
   },
   {
    "duration": 9,
    "start_time": "2023-04-03T09:06:52.267Z"
   },
   {
    "duration": 18,
    "start_time": "2023-04-03T09:06:52.278Z"
   },
   {
    "duration": 31,
    "start_time": "2023-04-03T09:06:52.298Z"
   },
   {
    "duration": 13,
    "start_time": "2023-04-03T09:06:52.331Z"
   },
   {
    "duration": 523,
    "start_time": "2023-04-03T09:06:52.346Z"
   },
   {
    "duration": 5,
    "start_time": "2023-04-03T09:06:52.871Z"
   },
   {
    "duration": 94,
    "start_time": "2023-04-03T09:06:52.879Z"
   },
   {
    "duration": 38,
    "start_time": "2023-04-03T09:06:52.975Z"
   },
   {
    "duration": 35,
    "start_time": "2023-04-03T09:06:53.015Z"
   },
   {
    "duration": 23,
    "start_time": "2023-04-03T09:06:53.052Z"
   },
   {
    "duration": 41,
    "start_time": "2023-04-03T09:06:53.077Z"
   },
   {
    "duration": 59,
    "start_time": "2023-04-03T09:06:53.120Z"
   },
   {
    "duration": 40,
    "start_time": "2023-04-03T09:06:53.183Z"
   },
   {
    "duration": 4,
    "start_time": "2023-04-03T09:06:53.225Z"
   },
   {
    "duration": 26,
    "start_time": "2023-04-03T09:06:53.231Z"
   },
   {
    "duration": 577,
    "start_time": "2023-04-03T09:06:53.258Z"
   },
   {
    "duration": 6,
    "start_time": "2023-04-03T09:06:53.837Z"
   },
   {
    "duration": 556,
    "start_time": "2023-04-03T09:06:53.844Z"
   },
   {
    "duration": 314,
    "start_time": "2023-04-03T09:09:11.117Z"
   },
   {
    "duration": 328,
    "start_time": "2023-04-03T09:09:23.494Z"
   },
   {
    "duration": 325,
    "start_time": "2023-04-03T09:09:35.103Z"
   },
   {
    "duration": 308,
    "start_time": "2023-04-03T09:09:44.642Z"
   },
   {
    "duration": 344,
    "start_time": "2023-04-03T09:11:49.903Z"
   },
   {
    "duration": 25,
    "start_time": "2023-04-03T09:16:55.680Z"
   },
   {
    "duration": 179,
    "start_time": "2023-04-03T09:18:26.232Z"
   },
   {
    "duration": 165,
    "start_time": "2023-04-03T09:19:21.311Z"
   },
   {
    "duration": 40,
    "start_time": "2023-04-03T09:22:00.090Z"
   },
   {
    "duration": 73,
    "start_time": "2023-04-03T09:22:16.398Z"
   },
   {
    "duration": 79,
    "start_time": "2023-04-03T09:23:20.042Z"
   },
   {
    "duration": 70,
    "start_time": "2023-04-03T09:23:29.619Z"
   },
   {
    "duration": 265,
    "start_time": "2023-04-03T09:23:45.219Z"
   },
   {
    "duration": 344,
    "start_time": "2023-04-03T09:24:10.644Z"
   },
   {
    "duration": 56,
    "start_time": "2023-04-03T09:24:46.151Z"
   },
   {
    "duration": 16,
    "start_time": "2023-04-03T09:24:56.860Z"
   },
   {
    "duration": 15,
    "start_time": "2023-04-03T09:25:06.706Z"
   },
   {
    "duration": 48,
    "start_time": "2023-04-03T09:26:30.232Z"
   },
   {
    "duration": 21,
    "start_time": "2023-04-03T09:27:52.405Z"
   },
   {
    "duration": 129,
    "start_time": "2023-04-03T09:30:37.701Z"
   },
   {
    "duration": 82,
    "start_time": "2023-04-03T09:32:59.789Z"
   },
   {
    "duration": 2,
    "start_time": "2023-04-03T09:33:55.142Z"
   },
   {
    "duration": 703,
    "start_time": "2023-04-03T09:34:00.474Z"
   },
   {
    "duration": 718,
    "start_time": "2023-04-03T09:34:01.179Z"
   },
   {
    "duration": 20,
    "start_time": "2023-04-03T09:34:01.899Z"
   },
   {
    "duration": 97,
    "start_time": "2023-04-03T09:34:01.922Z"
   },
   {
    "duration": 44,
    "start_time": "2023-04-03T09:34:02.021Z"
   },
   {
    "duration": 52,
    "start_time": "2023-04-03T09:34:02.067Z"
   },
   {
    "duration": 19,
    "start_time": "2023-04-03T09:34:02.124Z"
   },
   {
    "duration": 43,
    "start_time": "2023-04-03T09:34:02.145Z"
   },
   {
    "duration": 38,
    "start_time": "2023-04-03T09:34:02.190Z"
   },
   {
    "duration": 34,
    "start_time": "2023-04-03T09:34:02.230Z"
   },
   {
    "duration": 85,
    "start_time": "2023-04-03T09:34:02.266Z"
   },
   {
    "duration": 315,
    "start_time": "2023-04-03T09:34:02.353Z"
   },
   {
    "duration": 13,
    "start_time": "2023-04-03T09:34:02.670Z"
   },
   {
    "duration": 17,
    "start_time": "2023-04-03T09:34:02.686Z"
   },
   {
    "duration": 73,
    "start_time": "2023-04-03T09:34:02.704Z"
   },
   {
    "duration": 66,
    "start_time": "2023-04-03T09:34:02.779Z"
   },
   {
    "duration": 69,
    "start_time": "2023-04-03T09:34:02.847Z"
   },
   {
    "duration": 162,
    "start_time": "2023-04-03T09:34:02.917Z"
   },
   {
    "duration": 42,
    "start_time": "2023-04-03T09:34:03.081Z"
   },
   {
    "duration": 21,
    "start_time": "2023-04-03T09:34:03.124Z"
   },
   {
    "duration": 36,
    "start_time": "2023-04-03T09:34:03.148Z"
   },
   {
    "duration": 129,
    "start_time": "2023-04-03T09:34:03.186Z"
   },
   {
    "duration": 24,
    "start_time": "2023-04-03T09:34:03.317Z"
   },
   {
    "duration": 17,
    "start_time": "2023-04-03T09:34:03.342Z"
   },
   {
    "duration": 31,
    "start_time": "2023-04-03T09:34:03.361Z"
   },
   {
    "duration": 38,
    "start_time": "2023-04-03T09:34:03.394Z"
   },
   {
    "duration": 33,
    "start_time": "2023-04-03T09:34:03.436Z"
   },
   {
    "duration": 28,
    "start_time": "2023-04-03T09:34:03.471Z"
   },
   {
    "duration": 19,
    "start_time": "2023-04-03T09:34:03.501Z"
   },
   {
    "duration": 14,
    "start_time": "2023-04-03T09:34:03.522Z"
   },
   {
    "duration": 25,
    "start_time": "2023-04-03T09:34:03.538Z"
   },
   {
    "duration": 23,
    "start_time": "2023-04-03T09:34:03.565Z"
   },
   {
    "duration": 592,
    "start_time": "2023-04-03T09:34:03.590Z"
   },
   {
    "duration": 6,
    "start_time": "2023-04-03T09:34:04.184Z"
   },
   {
    "duration": 80,
    "start_time": "2023-04-03T09:34:04.192Z"
   },
   {
    "duration": 56,
    "start_time": "2023-04-03T09:34:04.274Z"
   },
   {
    "duration": 37,
    "start_time": "2023-04-03T09:34:04.331Z"
   },
   {
    "duration": 45,
    "start_time": "2023-04-03T09:34:04.371Z"
   },
   {
    "duration": 22,
    "start_time": "2023-04-03T09:34:04.418Z"
   },
   {
    "duration": 30,
    "start_time": "2023-04-03T09:34:04.442Z"
   },
   {
    "duration": 60,
    "start_time": "2023-04-03T09:34:04.476Z"
   },
   {
    "duration": 4,
    "start_time": "2023-04-03T09:34:04.538Z"
   },
   {
    "duration": 15,
    "start_time": "2023-04-03T09:34:04.545Z"
   },
   {
    "duration": 621,
    "start_time": "2023-04-03T09:34:04.562Z"
   },
   {
    "duration": 6,
    "start_time": "2023-04-03T09:34:05.185Z"
   },
   {
    "duration": 600,
    "start_time": "2023-04-03T09:34:05.193Z"
   },
   {
    "duration": 364,
    "start_time": "2023-04-03T09:34:05.795Z"
   },
   {
    "duration": 26,
    "start_time": "2023-04-03T09:34:06.162Z"
   },
   {
    "duration": 194,
    "start_time": "2023-04-03T09:34:06.190Z"
   },
   {
    "duration": 30,
    "start_time": "2023-04-03T09:34:06.386Z"
   },
   {
    "duration": 20,
    "start_time": "2023-04-03T09:34:06.418Z"
   },
   {
    "duration": 1674,
    "start_time": "2023-04-03T09:34:06.440Z"
   },
   {
    "duration": 61,
    "start_time": "2023-04-03T09:47:26.856Z"
   },
   {
    "duration": 893,
    "start_time": "2023-04-03T09:48:48.726Z"
   },
   {
    "duration": 915,
    "start_time": "2023-04-03T09:49:17.203Z"
   },
   {
    "duration": 199,
    "start_time": "2023-04-03T09:52:28.216Z"
   },
   {
    "duration": 802,
    "start_time": "2023-04-03T09:53:19.419Z"
   },
   {
    "duration": 733,
    "start_time": "2023-04-03T09:53:20.223Z"
   },
   {
    "duration": 15,
    "start_time": "2023-04-03T09:53:20.958Z"
   },
   {
    "duration": 79,
    "start_time": "2023-04-03T09:53:20.975Z"
   },
   {
    "duration": 16,
    "start_time": "2023-04-03T09:53:21.056Z"
   },
   {
    "duration": 31,
    "start_time": "2023-04-03T09:53:21.075Z"
   },
   {
    "duration": 15,
    "start_time": "2023-04-03T09:53:21.108Z"
   },
   {
    "duration": 23,
    "start_time": "2023-04-03T09:53:21.129Z"
   },
   {
    "duration": 18,
    "start_time": "2023-04-03T09:53:21.155Z"
   },
   {
    "duration": 32,
    "start_time": "2023-04-03T09:53:21.175Z"
   },
   {
    "duration": 84,
    "start_time": "2023-04-03T09:53:21.209Z"
   },
   {
    "duration": 352,
    "start_time": "2023-04-03T09:53:21.295Z"
   },
   {
    "duration": 13,
    "start_time": "2023-04-03T09:53:21.649Z"
   },
   {
    "duration": 13,
    "start_time": "2023-04-03T09:53:21.665Z"
   },
   {
    "duration": 90,
    "start_time": "2023-04-03T09:53:21.680Z"
   },
   {
    "duration": 72,
    "start_time": "2023-04-03T09:53:21.772Z"
   },
   {
    "duration": 88,
    "start_time": "2023-04-03T09:53:21.847Z"
   },
   {
    "duration": 194,
    "start_time": "2023-04-03T09:53:21.937Z"
   },
   {
    "duration": 34,
    "start_time": "2023-04-03T09:53:22.133Z"
   },
   {
    "duration": 23,
    "start_time": "2023-04-03T09:53:22.169Z"
   },
   {
    "duration": 22,
    "start_time": "2023-04-03T09:53:22.203Z"
   },
   {
    "duration": 17,
    "start_time": "2023-04-03T09:53:22.227Z"
   },
   {
    "duration": 10,
    "start_time": "2023-04-03T09:53:22.246Z"
   },
   {
    "duration": 4,
    "start_time": "2023-04-03T09:53:22.257Z"
   },
   {
    "duration": 10,
    "start_time": "2023-04-03T09:53:22.263Z"
   },
   {
    "duration": 16,
    "start_time": "2023-04-03T09:53:22.310Z"
   },
   {
    "duration": 15,
    "start_time": "2023-04-03T09:53:22.329Z"
   },
   {
    "duration": 12,
    "start_time": "2023-04-03T09:53:22.346Z"
   },
   {
    "duration": 9,
    "start_time": "2023-04-03T09:53:22.360Z"
   },
   {
    "duration": 11,
    "start_time": "2023-04-03T09:53:22.371Z"
   },
   {
    "duration": 8,
    "start_time": "2023-04-03T09:53:22.385Z"
   },
   {
    "duration": 14,
    "start_time": "2023-04-03T09:53:22.426Z"
   },
   {
    "duration": 587,
    "start_time": "2023-04-03T09:53:22.442Z"
   },
   {
    "duration": 6,
    "start_time": "2023-04-03T09:53:23.032Z"
   },
   {
    "duration": 80,
    "start_time": "2023-04-03T09:53:23.040Z"
   },
   {
    "duration": 38,
    "start_time": "2023-04-03T09:53:23.122Z"
   },
   {
    "duration": 65,
    "start_time": "2023-04-03T09:53:23.162Z"
   },
   {
    "duration": 25,
    "start_time": "2023-04-03T09:53:23.229Z"
   },
   {
    "duration": 20,
    "start_time": "2023-04-03T09:53:23.256Z"
   },
   {
    "duration": 55,
    "start_time": "2023-04-03T09:53:23.277Z"
   },
   {
    "duration": 41,
    "start_time": "2023-04-03T09:53:23.336Z"
   },
   {
    "duration": 4,
    "start_time": "2023-04-03T09:53:23.379Z"
   },
   {
    "duration": 41,
    "start_time": "2023-04-03T09:53:23.385Z"
   },
   {
    "duration": 632,
    "start_time": "2023-04-03T09:53:23.427Z"
   },
   {
    "duration": 5,
    "start_time": "2023-04-03T09:53:24.061Z"
   },
   {
    "duration": 586,
    "start_time": "2023-04-03T09:53:24.067Z"
   },
   {
    "duration": 368,
    "start_time": "2023-04-03T09:53:24.655Z"
   },
   {
    "duration": 25,
    "start_time": "2023-04-03T09:53:25.031Z"
   },
   {
    "duration": 187,
    "start_time": "2023-04-03T09:53:25.058Z"
   },
   {
    "duration": 15,
    "start_time": "2023-04-03T09:53:25.246Z"
   },
   {
    "duration": 27,
    "start_time": "2023-04-03T09:53:25.262Z"
   },
   {
    "duration": 1793,
    "start_time": "2023-04-03T09:53:25.291Z"
   },
   {
    "duration": 886,
    "start_time": "2023-04-03T09:53:27.087Z"
   },
   {
    "duration": 1713,
    "start_time": "2023-04-03T09:53:27.975Z"
   },
   {
    "duration": 1568,
    "start_time": "2023-04-03T09:53:55.750Z"
   },
   {
    "duration": 8,
    "start_time": "2023-04-03T09:54:19.256Z"
   },
   {
    "duration": 1972,
    "start_time": "2023-04-03T09:59:02.896Z"
   },
   {
    "duration": 2040,
    "start_time": "2023-04-03T10:07:16.820Z"
   },
   {
    "duration": 42,
    "start_time": "2023-04-03T10:11:58.714Z"
   },
   {
    "duration": 56,
    "start_time": "2023-04-03T10:12:53.581Z"
   },
   {
    "duration": 335,
    "start_time": "2023-04-03T10:13:02.005Z"
   },
   {
    "duration": 2509,
    "start_time": "2023-04-03T10:13:15.270Z"
   },
   {
    "duration": 44,
    "start_time": "2023-04-03T13:33:05.178Z"
   },
   {
    "duration": 771,
    "start_time": "2023-04-03T13:33:15.142Z"
   },
   {
    "duration": 843,
    "start_time": "2023-04-03T13:33:15.915Z"
   },
   {
    "duration": 14,
    "start_time": "2023-04-03T13:33:16.760Z"
   },
   {
    "duration": 62,
    "start_time": "2023-04-03T13:33:16.775Z"
   },
   {
    "duration": 9,
    "start_time": "2023-04-03T13:33:16.838Z"
   },
   {
    "duration": 21,
    "start_time": "2023-04-03T13:33:16.848Z"
   },
   {
    "duration": 8,
    "start_time": "2023-04-03T13:33:16.870Z"
   },
   {
    "duration": 10,
    "start_time": "2023-04-03T13:33:16.880Z"
   },
   {
    "duration": 4,
    "start_time": "2023-04-03T13:33:16.891Z"
   },
   {
    "duration": 8,
    "start_time": "2023-04-03T13:33:16.897Z"
   },
   {
    "duration": 80,
    "start_time": "2023-04-03T13:33:16.906Z"
   },
   {
    "duration": 238,
    "start_time": "2023-04-03T13:33:16.988Z"
   },
   {
    "duration": 12,
    "start_time": "2023-04-03T13:33:17.227Z"
   },
   {
    "duration": 4,
    "start_time": "2023-04-03T13:33:17.241Z"
   },
   {
    "duration": 69,
    "start_time": "2023-04-03T13:33:17.247Z"
   },
   {
    "duration": 60,
    "start_time": "2023-04-03T13:33:17.318Z"
   },
   {
    "duration": 52,
    "start_time": "2023-04-03T13:33:17.379Z"
   },
   {
    "duration": 148,
    "start_time": "2023-04-03T13:33:17.433Z"
   },
   {
    "duration": 25,
    "start_time": "2023-04-03T13:33:17.583Z"
   },
   {
    "duration": 16,
    "start_time": "2023-04-03T13:33:17.610Z"
   },
   {
    "duration": 31,
    "start_time": "2023-04-03T13:33:17.628Z"
   },
   {
    "duration": 45,
    "start_time": "2023-04-03T13:33:17.660Z"
   },
   {
    "duration": 7,
    "start_time": "2023-04-03T13:33:17.706Z"
   },
   {
    "duration": 13,
    "start_time": "2023-04-03T13:33:17.715Z"
   },
   {
    "duration": 56,
    "start_time": "2023-04-03T13:33:17.729Z"
   },
   {
    "duration": 40,
    "start_time": "2023-04-03T13:33:17.787Z"
   },
   {
    "duration": 39,
    "start_time": "2023-04-03T13:33:17.829Z"
   },
   {
    "duration": 9,
    "start_time": "2023-04-03T13:33:17.871Z"
   },
   {
    "duration": 34,
    "start_time": "2023-04-03T13:33:17.882Z"
   },
   {
    "duration": 9,
    "start_time": "2023-04-03T13:33:17.918Z"
   },
   {
    "duration": 23,
    "start_time": "2023-04-03T13:33:17.928Z"
   },
   {
    "duration": 26,
    "start_time": "2023-04-03T13:33:17.953Z"
   },
   {
    "duration": 410,
    "start_time": "2023-04-03T13:33:17.981Z"
   },
   {
    "duration": 4,
    "start_time": "2023-04-03T13:33:18.392Z"
   },
   {
    "duration": 53,
    "start_time": "2023-04-03T13:33:18.398Z"
   },
   {
    "duration": 37,
    "start_time": "2023-04-03T13:33:18.452Z"
   },
   {
    "duration": 28,
    "start_time": "2023-04-03T13:33:18.491Z"
   },
   {
    "duration": 20,
    "start_time": "2023-04-03T13:33:18.520Z"
   },
   {
    "duration": 40,
    "start_time": "2023-04-03T13:33:18.541Z"
   },
   {
    "duration": 26,
    "start_time": "2023-04-03T13:33:18.583Z"
   },
   {
    "duration": 32,
    "start_time": "2023-04-03T13:33:18.611Z"
   },
   {
    "duration": 26,
    "start_time": "2023-04-03T13:33:18.645Z"
   },
   {
    "duration": 14,
    "start_time": "2023-04-03T13:33:18.673Z"
   },
   {
    "duration": 498,
    "start_time": "2023-04-03T13:33:18.689Z"
   },
   {
    "duration": 4,
    "start_time": "2023-04-03T13:33:19.188Z"
   },
   {
    "duration": 491,
    "start_time": "2023-04-03T13:33:19.194Z"
   },
   {
    "duration": 304,
    "start_time": "2023-04-03T13:33:19.687Z"
   },
   {
    "duration": 25,
    "start_time": "2023-04-03T13:33:19.992Z"
   },
   {
    "duration": 192,
    "start_time": "2023-04-03T13:33:20.019Z"
   },
   {
    "duration": 16,
    "start_time": "2023-04-03T13:33:20.213Z"
   },
   {
    "duration": 19,
    "start_time": "2023-04-03T13:33:20.230Z"
   },
   {
    "duration": 1447,
    "start_time": "2023-04-03T13:33:20.250Z"
   },
   {
    "duration": 692,
    "start_time": "2023-04-03T13:33:21.698Z"
   },
   {
    "duration": 1367,
    "start_time": "2023-04-03T13:33:22.392Z"
   },
   {
    "duration": 1530,
    "start_time": "2023-04-03T13:33:23.761Z"
   },
   {
    "duration": 1637,
    "start_time": "2023-04-03T13:33:25.293Z"
   },
   {
    "duration": 2336,
    "start_time": "2023-04-03T13:33:26.932Z"
   },
   {
    "duration": 561,
    "start_time": "2023-04-03T13:43:43.272Z"
   },
   {
    "duration": 1935,
    "start_time": "2023-04-03T13:43:43.836Z"
   },
   {
    "duration": 17,
    "start_time": "2023-04-03T13:43:45.772Z"
   },
   {
    "duration": 76,
    "start_time": "2023-04-03T13:43:45.790Z"
   },
   {
    "duration": 8,
    "start_time": "2023-04-03T13:43:45.868Z"
   },
   {
    "duration": 27,
    "start_time": "2023-04-03T13:43:45.877Z"
   },
   {
    "duration": 24,
    "start_time": "2023-04-03T13:43:45.906Z"
   },
   {
    "duration": 30,
    "start_time": "2023-04-03T13:43:45.932Z"
   },
   {
    "duration": 18,
    "start_time": "2023-04-03T13:43:45.964Z"
   },
   {
    "duration": 19,
    "start_time": "2023-04-03T13:43:45.983Z"
   },
   {
    "duration": 69,
    "start_time": "2023-04-03T13:43:46.004Z"
   },
   {
    "duration": 236,
    "start_time": "2023-04-03T13:43:46.075Z"
   },
   {
    "duration": 10,
    "start_time": "2023-04-03T13:43:46.312Z"
   },
   {
    "duration": 13,
    "start_time": "2023-04-03T13:43:46.325Z"
   },
   {
    "duration": 69,
    "start_time": "2023-04-03T13:43:46.340Z"
   },
   {
    "duration": 53,
    "start_time": "2023-04-03T13:43:46.411Z"
   },
   {
    "duration": 49,
    "start_time": "2023-04-03T13:43:46.466Z"
   },
   {
    "duration": 143,
    "start_time": "2023-04-03T13:43:46.516Z"
   },
   {
    "duration": 35,
    "start_time": "2023-04-03T13:43:46.661Z"
   },
   {
    "duration": 19,
    "start_time": "2023-04-03T13:43:46.698Z"
   },
   {
    "duration": 27,
    "start_time": "2023-04-03T13:43:46.718Z"
   },
   {
    "duration": 24,
    "start_time": "2023-04-03T13:43:46.748Z"
   },
   {
    "duration": 15,
    "start_time": "2023-04-03T13:43:46.773Z"
   },
   {
    "duration": 18,
    "start_time": "2023-04-03T13:43:46.789Z"
   },
   {
    "duration": 17,
    "start_time": "2023-04-03T13:43:46.809Z"
   },
   {
    "duration": 21,
    "start_time": "2023-04-03T13:43:46.828Z"
   },
   {
    "duration": 41,
    "start_time": "2023-04-03T13:43:46.851Z"
   },
   {
    "duration": 56,
    "start_time": "2023-04-03T13:43:46.893Z"
   },
   {
    "duration": 33,
    "start_time": "2023-04-03T13:43:46.952Z"
   },
   {
    "duration": 30,
    "start_time": "2023-04-03T13:43:46.987Z"
   },
   {
    "duration": 36,
    "start_time": "2023-04-03T13:43:47.018Z"
   },
   {
    "duration": 42,
    "start_time": "2023-04-03T13:43:47.055Z"
   },
   {
    "duration": 482,
    "start_time": "2023-04-03T13:43:47.098Z"
   },
   {
    "duration": 5,
    "start_time": "2023-04-03T13:43:47.581Z"
   },
   {
    "duration": 72,
    "start_time": "2023-04-03T13:43:47.587Z"
   },
   {
    "duration": 27,
    "start_time": "2023-04-03T13:43:47.660Z"
   },
   {
    "duration": 29,
    "start_time": "2023-04-03T13:43:47.689Z"
   },
   {
    "duration": 42,
    "start_time": "2023-04-03T13:43:47.719Z"
   },
   {
    "duration": 16,
    "start_time": "2023-04-03T13:43:47.763Z"
   },
   {
    "duration": 45,
    "start_time": "2023-04-03T13:43:47.781Z"
   },
   {
    "duration": 39,
    "start_time": "2023-04-03T13:43:47.829Z"
   },
   {
    "duration": 9,
    "start_time": "2023-04-03T13:43:47.869Z"
   },
   {
    "duration": 32,
    "start_time": "2023-04-03T13:43:47.879Z"
   },
   {
    "duration": 470,
    "start_time": "2023-04-03T13:43:47.913Z"
   },
   {
    "duration": 5,
    "start_time": "2023-04-03T13:43:48.384Z"
   },
   {
    "duration": 420,
    "start_time": "2023-04-03T13:43:48.390Z"
   },
   {
    "duration": 280,
    "start_time": "2023-04-03T13:43:48.812Z"
   },
   {
    "duration": 19,
    "start_time": "2023-04-03T13:43:49.094Z"
   },
   {
    "duration": 139,
    "start_time": "2023-04-03T13:43:49.114Z"
   },
   {
    "duration": 14,
    "start_time": "2023-04-03T13:43:49.255Z"
   },
   {
    "duration": 15,
    "start_time": "2023-04-03T13:43:49.271Z"
   },
   {
    "duration": 1745,
    "start_time": "2023-04-03T13:43:49.288Z"
   },
   {
    "duration": 782,
    "start_time": "2023-04-03T13:43:51.035Z"
   },
   {
    "duration": 1316,
    "start_time": "2023-04-03T13:43:51.818Z"
   },
   {
    "duration": 1540,
    "start_time": "2023-04-03T13:43:53.135Z"
   },
   {
    "duration": 1478,
    "start_time": "2023-04-03T13:43:54.676Z"
   },
   {
    "duration": 2098,
    "start_time": "2023-04-03T13:43:56.155Z"
   },
   {
    "duration": 953,
    "start_time": "2023-04-04T04:32:25.763Z"
   },
   {
    "duration": 2227,
    "start_time": "2023-04-04T04:32:26.719Z"
   },
   {
    "duration": 15,
    "start_time": "2023-04-04T04:32:28.947Z"
   },
   {
    "duration": 111,
    "start_time": "2023-04-04T04:32:28.964Z"
   },
   {
    "duration": 22,
    "start_time": "2023-04-04T04:32:29.077Z"
   },
   {
    "duration": 48,
    "start_time": "2023-04-04T04:32:29.101Z"
   },
   {
    "duration": 18,
    "start_time": "2023-04-04T04:32:29.151Z"
   },
   {
    "duration": 40,
    "start_time": "2023-04-04T04:32:29.171Z"
   },
   {
    "duration": 38,
    "start_time": "2023-04-04T04:32:29.212Z"
   },
   {
    "duration": 24,
    "start_time": "2023-04-04T04:32:29.252Z"
   },
   {
    "duration": 100,
    "start_time": "2023-04-04T04:32:29.278Z"
   },
   {
    "duration": 313,
    "start_time": "2023-04-04T04:32:29.380Z"
   },
   {
    "duration": 17,
    "start_time": "2023-04-04T04:32:29.695Z"
   },
   {
    "duration": 27,
    "start_time": "2023-04-04T04:32:29.713Z"
   },
   {
    "duration": 61,
    "start_time": "2023-04-04T04:32:29.746Z"
   },
   {
    "duration": 83,
    "start_time": "2023-04-04T04:32:29.809Z"
   },
   {
    "duration": 81,
    "start_time": "2023-04-04T04:32:29.894Z"
   },
   {
    "duration": 150,
    "start_time": "2023-04-04T04:32:29.977Z"
   },
   {
    "duration": 37,
    "start_time": "2023-04-04T04:32:30.135Z"
   },
   {
    "duration": 20,
    "start_time": "2023-04-04T04:32:30.173Z"
   },
   {
    "duration": 23,
    "start_time": "2023-04-04T04:32:30.195Z"
   },
   {
    "duration": 25,
    "start_time": "2023-04-04T04:32:30.232Z"
   },
   {
    "duration": 12,
    "start_time": "2023-04-04T04:32:30.259Z"
   },
   {
    "duration": 21,
    "start_time": "2023-04-04T04:32:30.273Z"
   },
   {
    "duration": 34,
    "start_time": "2023-04-04T04:32:30.297Z"
   },
   {
    "duration": 42,
    "start_time": "2023-04-04T04:32:30.333Z"
   },
   {
    "duration": 28,
    "start_time": "2023-04-04T04:32:30.377Z"
   },
   {
    "duration": 48,
    "start_time": "2023-04-04T04:32:30.409Z"
   },
   {
    "duration": 61,
    "start_time": "2023-04-04T04:32:30.459Z"
   },
   {
    "duration": 63,
    "start_time": "2023-04-04T04:32:30.522Z"
   },
   {
    "duration": 44,
    "start_time": "2023-04-04T04:32:30.587Z"
   },
   {
    "duration": 64,
    "start_time": "2023-04-04T04:32:30.633Z"
   },
   {
    "duration": 595,
    "start_time": "2023-04-04T04:32:30.699Z"
   },
   {
    "duration": 6,
    "start_time": "2023-04-04T04:32:31.295Z"
   },
   {
    "duration": 97,
    "start_time": "2023-04-04T04:32:31.302Z"
   },
   {
    "duration": 50,
    "start_time": "2023-04-04T04:32:31.400Z"
   },
   {
    "duration": 35,
    "start_time": "2023-04-04T04:32:31.451Z"
   },
   {
    "duration": 26,
    "start_time": "2023-04-04T04:32:31.488Z"
   },
   {
    "duration": 35,
    "start_time": "2023-04-04T04:32:31.515Z"
   },
   {
    "duration": 31,
    "start_time": "2023-04-04T04:32:31.552Z"
   },
   {
    "duration": 62,
    "start_time": "2023-04-04T04:32:31.585Z"
   },
   {
    "duration": 5,
    "start_time": "2023-04-04T04:32:31.649Z"
   },
   {
    "duration": 23,
    "start_time": "2023-04-04T04:32:31.656Z"
   },
   {
    "duration": 605,
    "start_time": "2023-04-04T04:32:31.681Z"
   },
   {
    "duration": 5,
    "start_time": "2023-04-04T04:32:32.288Z"
   },
   {
    "duration": 566,
    "start_time": "2023-04-04T04:32:32.295Z"
   },
   {
    "duration": 356,
    "start_time": "2023-04-04T04:32:32.862Z"
   },
   {
    "duration": 32,
    "start_time": "2023-04-04T04:32:33.219Z"
   },
   {
    "duration": 173,
    "start_time": "2023-04-04T04:32:33.253Z"
   },
   {
    "duration": 26,
    "start_time": "2023-04-04T04:32:33.429Z"
   },
   {
    "duration": 21,
    "start_time": "2023-04-04T04:32:33.457Z"
   },
   {
    "duration": 1668,
    "start_time": "2023-04-04T04:32:33.480Z"
   },
   {
    "duration": 878,
    "start_time": "2023-04-04T04:32:35.151Z"
   },
   {
    "duration": 1726,
    "start_time": "2023-04-04T04:32:36.031Z"
   },
   {
    "duration": 1926,
    "start_time": "2023-04-04T04:32:37.758Z"
   },
   {
    "duration": 1887,
    "start_time": "2023-04-04T04:32:39.685Z"
   },
   {
    "duration": 2747,
    "start_time": "2023-04-04T04:32:41.573Z"
   },
   {
    "duration": 81,
    "start_time": "2023-04-04T04:44:51.139Z"
   },
   {
    "duration": 35,
    "start_time": "2023-04-04T04:47:32.139Z"
   },
   {
    "duration": 73,
    "start_time": "2023-04-04T04:50:09.682Z"
   },
   {
    "duration": 86,
    "start_time": "2023-04-04T05:13:23.886Z"
   },
   {
    "duration": 4,
    "start_time": "2023-04-04T05:13:53.026Z"
   },
   {
    "duration": 4,
    "start_time": "2023-04-04T05:15:07.213Z"
   },
   {
    "duration": 135,
    "start_time": "2023-04-04T05:15:29.970Z"
   },
   {
    "duration": 10,
    "start_time": "2023-04-04T05:15:36.985Z"
   },
   {
    "duration": 13,
    "start_time": "2023-04-04T05:15:45.630Z"
   },
   {
    "duration": 5,
    "start_time": "2023-04-04T05:16:10.181Z"
   },
   {
    "duration": 793,
    "start_time": "2023-04-04T05:18:50.810Z"
   },
   {
    "duration": 788,
    "start_time": "2023-04-04T05:18:51.605Z"
   },
   {
    "duration": 15,
    "start_time": "2023-04-04T05:18:52.395Z"
   },
   {
    "duration": 82,
    "start_time": "2023-04-04T05:18:52.412Z"
   },
   {
    "duration": 22,
    "start_time": "2023-04-04T05:18:52.496Z"
   },
   {
    "duration": 28,
    "start_time": "2023-04-04T05:18:52.520Z"
   },
   {
    "duration": 26,
    "start_time": "2023-04-04T05:18:52.550Z"
   },
   {
    "duration": 19,
    "start_time": "2023-04-04T05:18:52.577Z"
   },
   {
    "duration": 12,
    "start_time": "2023-04-04T05:18:52.598Z"
   },
   {
    "duration": 34,
    "start_time": "2023-04-04T05:18:52.613Z"
   },
   {
    "duration": 121,
    "start_time": "2023-04-04T05:18:52.649Z"
   },
   {
    "duration": 301,
    "start_time": "2023-04-04T05:18:52.772Z"
   },
   {
    "duration": 18,
    "start_time": "2023-04-04T05:18:53.076Z"
   },
   {
    "duration": 6,
    "start_time": "2023-04-04T05:18:53.097Z"
   },
   {
    "duration": 136,
    "start_time": "2023-04-04T05:18:53.105Z"
   },
   {
    "duration": 61,
    "start_time": "2023-04-04T05:18:53.255Z"
   },
   {
    "duration": 84,
    "start_time": "2023-04-04T05:18:53.318Z"
   },
   {
    "duration": 211,
    "start_time": "2023-04-04T05:18:53.404Z"
   },
   {
    "duration": 47,
    "start_time": "2023-04-04T05:18:53.617Z"
   },
   {
    "duration": 30,
    "start_time": "2023-04-04T05:18:53.667Z"
   },
   {
    "duration": 17,
    "start_time": "2023-04-04T05:18:53.700Z"
   },
   {
    "duration": 57,
    "start_time": "2023-04-04T05:18:53.740Z"
   },
   {
    "duration": 12,
    "start_time": "2023-04-04T05:18:53.800Z"
   },
   {
    "duration": 10,
    "start_time": "2023-04-04T05:18:53.814Z"
   },
   {
    "duration": 9,
    "start_time": "2023-04-04T05:18:53.826Z"
   },
   {
    "duration": 38,
    "start_time": "2023-04-04T05:18:53.837Z"
   },
   {
    "duration": 14,
    "start_time": "2023-04-04T05:18:53.877Z"
   },
   {
    "duration": 11,
    "start_time": "2023-04-04T05:18:53.896Z"
   },
   {
    "duration": 14,
    "start_time": "2023-04-04T05:18:53.909Z"
   },
   {
    "duration": 35,
    "start_time": "2023-04-04T05:18:53.925Z"
   },
   {
    "duration": 11,
    "start_time": "2023-04-04T05:18:53.961Z"
   },
   {
    "duration": 21,
    "start_time": "2023-04-04T05:18:53.974Z"
   },
   {
    "duration": 620,
    "start_time": "2023-04-04T05:18:53.997Z"
   },
   {
    "duration": 18,
    "start_time": "2023-04-04T05:18:54.619Z"
   },
   {
    "duration": 90,
    "start_time": "2023-04-04T05:18:54.638Z"
   },
   {
    "duration": 48,
    "start_time": "2023-04-04T05:18:54.731Z"
   },
   {
    "duration": 40,
    "start_time": "2023-04-04T05:18:54.781Z"
   },
   {
    "duration": 48,
    "start_time": "2023-04-04T05:18:54.823Z"
   },
   {
    "duration": 21,
    "start_time": "2023-04-04T05:18:54.874Z"
   },
   {
    "duration": 69,
    "start_time": "2023-04-04T05:18:54.897Z"
   },
   {
    "duration": 54,
    "start_time": "2023-04-04T05:18:54.969Z"
   },
   {
    "duration": 11,
    "start_time": "2023-04-04T05:18:55.041Z"
   },
   {
    "duration": 27,
    "start_time": "2023-04-04T05:18:55.054Z"
   },
   {
    "duration": 87,
    "start_time": "2023-04-04T05:18:55.083Z"
   },
   {
    "duration": 0,
    "start_time": "2023-04-04T05:18:55.172Z"
   },
   {
    "duration": 0,
    "start_time": "2023-04-04T05:18:55.173Z"
   },
   {
    "duration": 0,
    "start_time": "2023-04-04T05:18:55.174Z"
   },
   {
    "duration": 0,
    "start_time": "2023-04-04T05:18:55.175Z"
   },
   {
    "duration": 0,
    "start_time": "2023-04-04T05:18:55.176Z"
   },
   {
    "duration": 0,
    "start_time": "2023-04-04T05:18:55.178Z"
   },
   {
    "duration": 0,
    "start_time": "2023-04-04T05:18:55.179Z"
   },
   {
    "duration": 0,
    "start_time": "2023-04-04T05:18:55.180Z"
   },
   {
    "duration": 0,
    "start_time": "2023-04-04T05:18:55.181Z"
   },
   {
    "duration": 0,
    "start_time": "2023-04-04T05:18:55.182Z"
   },
   {
    "duration": 0,
    "start_time": "2023-04-04T05:18:55.183Z"
   },
   {
    "duration": 0,
    "start_time": "2023-04-04T05:18:55.185Z"
   },
   {
    "duration": 0,
    "start_time": "2023-04-04T05:18:55.186Z"
   },
   {
    "duration": 0,
    "start_time": "2023-04-04T05:18:55.188Z"
   },
   {
    "duration": 772,
    "start_time": "2023-04-04T05:19:10.335Z"
   },
   {
    "duration": 887,
    "start_time": "2023-04-04T05:19:11.110Z"
   },
   {
    "duration": 20,
    "start_time": "2023-04-04T05:19:11.999Z"
   },
   {
    "duration": 104,
    "start_time": "2023-04-04T05:19:12.022Z"
   },
   {
    "duration": 19,
    "start_time": "2023-04-04T05:19:12.128Z"
   },
   {
    "duration": 43,
    "start_time": "2023-04-04T05:19:12.149Z"
   },
   {
    "duration": 13,
    "start_time": "2023-04-04T05:19:12.194Z"
   },
   {
    "duration": 19,
    "start_time": "2023-04-04T05:19:12.209Z"
   },
   {
    "duration": 27,
    "start_time": "2023-04-04T05:19:12.235Z"
   },
   {
    "duration": 7,
    "start_time": "2023-04-04T05:19:12.267Z"
   },
   {
    "duration": 133,
    "start_time": "2023-04-04T05:19:12.276Z"
   },
   {
    "duration": 325,
    "start_time": "2023-04-04T05:19:12.411Z"
   },
   {
    "duration": 25,
    "start_time": "2023-04-04T05:19:12.738Z"
   },
   {
    "duration": 25,
    "start_time": "2023-04-04T05:19:12.767Z"
   },
   {
    "duration": 94,
    "start_time": "2023-04-04T05:19:12.794Z"
   },
   {
    "duration": 105,
    "start_time": "2023-04-04T05:19:12.892Z"
   },
   {
    "duration": 101,
    "start_time": "2023-04-04T05:19:12.999Z"
   },
   {
    "duration": 215,
    "start_time": "2023-04-04T05:19:13.102Z"
   },
   {
    "duration": 43,
    "start_time": "2023-04-04T05:19:13.319Z"
   },
   {
    "duration": 30,
    "start_time": "2023-04-04T05:19:13.364Z"
   },
   {
    "duration": 22,
    "start_time": "2023-04-04T05:19:13.397Z"
   },
   {
    "duration": 64,
    "start_time": "2023-04-04T05:19:13.441Z"
   },
   {
    "duration": 15,
    "start_time": "2023-04-04T05:19:13.508Z"
   },
   {
    "duration": 38,
    "start_time": "2023-04-04T05:19:13.525Z"
   },
   {
    "duration": 24,
    "start_time": "2023-04-04T05:19:13.565Z"
   },
   {
    "duration": 15,
    "start_time": "2023-04-04T05:19:13.591Z"
   },
   {
    "duration": 19,
    "start_time": "2023-04-04T05:19:13.609Z"
   },
   {
    "duration": 29,
    "start_time": "2023-04-04T05:19:13.634Z"
   },
   {
    "duration": 12,
    "start_time": "2023-04-04T05:19:13.666Z"
   },
   {
    "duration": 18,
    "start_time": "2023-04-04T05:19:13.680Z"
   },
   {
    "duration": 18,
    "start_time": "2023-04-04T05:19:13.700Z"
   },
   {
    "duration": 26,
    "start_time": "2023-04-04T05:19:13.721Z"
   },
   {
    "duration": 691,
    "start_time": "2023-04-04T05:19:13.751Z"
   },
   {
    "duration": 8,
    "start_time": "2023-04-04T05:19:14.444Z"
   },
   {
    "duration": 109,
    "start_time": "2023-04-04T05:19:14.461Z"
   },
   {
    "duration": 45,
    "start_time": "2023-04-04T05:19:14.576Z"
   },
   {
    "duration": 57,
    "start_time": "2023-04-04T05:19:14.623Z"
   },
   {
    "duration": 31,
    "start_time": "2023-04-04T05:19:14.682Z"
   },
   {
    "duration": 41,
    "start_time": "2023-04-04T05:19:14.717Z"
   },
   {
    "duration": 55,
    "start_time": "2023-04-04T05:19:14.759Z"
   },
   {
    "duration": 43,
    "start_time": "2023-04-04T05:19:14.815Z"
   },
   {
    "duration": 5,
    "start_time": "2023-04-04T05:19:14.860Z"
   },
   {
    "duration": 18,
    "start_time": "2023-04-04T05:19:14.866Z"
   },
   {
    "duration": 8,
    "start_time": "2023-04-04T05:19:14.886Z"
   },
   {
    "duration": 510,
    "start_time": "2023-04-04T05:19:14.896Z"
   },
   {
    "duration": 5,
    "start_time": "2023-04-04T05:19:15.408Z"
   },
   {
    "duration": 691,
    "start_time": "2023-04-04T05:19:15.415Z"
   },
   {
    "duration": 370,
    "start_time": "2023-04-04T05:19:16.109Z"
   },
   {
    "duration": 27,
    "start_time": "2023-04-04T05:19:16.481Z"
   },
   {
    "duration": 233,
    "start_time": "2023-04-04T05:19:16.510Z"
   },
   {
    "duration": 26,
    "start_time": "2023-04-04T05:19:16.747Z"
   },
   {
    "duration": 43,
    "start_time": "2023-04-04T05:19:16.775Z"
   },
   {
    "duration": 1787,
    "start_time": "2023-04-04T05:19:16.821Z"
   },
   {
    "duration": 946,
    "start_time": "2023-04-04T05:19:18.610Z"
   },
   {
    "duration": 1719,
    "start_time": "2023-04-04T05:19:19.558Z"
   },
   {
    "duration": 2079,
    "start_time": "2023-04-04T05:19:21.279Z"
   },
   {
    "duration": 2044,
    "start_time": "2023-04-04T05:19:23.360Z"
   },
   {
    "duration": 2978,
    "start_time": "2023-04-04T05:19:25.406Z"
   },
   {
    "duration": 712,
    "start_time": "2023-04-04T05:19:57.056Z"
   },
   {
    "duration": 781,
    "start_time": "2023-04-04T05:19:57.770Z"
   },
   {
    "duration": 15,
    "start_time": "2023-04-04T05:19:58.553Z"
   },
   {
    "duration": 79,
    "start_time": "2023-04-04T05:19:58.571Z"
   },
   {
    "duration": 14,
    "start_time": "2023-04-04T05:19:58.653Z"
   },
   {
    "duration": 19,
    "start_time": "2023-04-04T05:19:58.669Z"
   },
   {
    "duration": 10,
    "start_time": "2023-04-04T05:19:58.691Z"
   },
   {
    "duration": 35,
    "start_time": "2023-04-04T05:19:58.702Z"
   },
   {
    "duration": 18,
    "start_time": "2023-04-04T05:19:58.743Z"
   },
   {
    "duration": 7,
    "start_time": "2023-04-04T05:19:58.764Z"
   },
   {
    "duration": 91,
    "start_time": "2023-04-04T05:19:58.773Z"
   },
   {
    "duration": 305,
    "start_time": "2023-04-04T05:19:58.867Z"
   },
   {
    "duration": 15,
    "start_time": "2023-04-04T05:19:59.174Z"
   },
   {
    "duration": 6,
    "start_time": "2023-04-04T05:19:59.191Z"
   },
   {
    "duration": 98,
    "start_time": "2023-04-04T05:19:59.199Z"
   },
   {
    "duration": 100,
    "start_time": "2023-04-04T05:19:59.299Z"
   },
   {
    "duration": 71,
    "start_time": "2023-04-04T05:19:59.401Z"
   },
   {
    "duration": 208,
    "start_time": "2023-04-04T05:19:59.474Z"
   },
   {
    "duration": 52,
    "start_time": "2023-04-04T05:19:59.685Z"
   },
   {
    "duration": 28,
    "start_time": "2023-04-04T05:19:59.743Z"
   },
   {
    "duration": 20,
    "start_time": "2023-04-04T05:19:59.774Z"
   },
   {
    "duration": 20,
    "start_time": "2023-04-04T05:19:59.796Z"
   },
   {
    "duration": 21,
    "start_time": "2023-04-04T05:19:59.818Z"
   },
   {
    "duration": 14,
    "start_time": "2023-04-04T05:19:59.841Z"
   },
   {
    "duration": 14,
    "start_time": "2023-04-04T05:19:59.857Z"
   },
   {
    "duration": 18,
    "start_time": "2023-04-04T05:19:59.873Z"
   },
   {
    "duration": 31,
    "start_time": "2023-04-04T05:19:59.894Z"
   },
   {
    "duration": 29,
    "start_time": "2023-04-04T05:19:59.931Z"
   },
   {
    "duration": 17,
    "start_time": "2023-04-04T05:19:59.962Z"
   },
   {
    "duration": 18,
    "start_time": "2023-04-04T05:19:59.981Z"
   },
   {
    "duration": 44,
    "start_time": "2023-04-04T05:20:00.000Z"
   },
   {
    "duration": 50,
    "start_time": "2023-04-04T05:20:00.047Z"
   },
   {
    "duration": 617,
    "start_time": "2023-04-04T05:20:00.099Z"
   },
   {
    "duration": 5,
    "start_time": "2023-04-04T05:20:00.718Z"
   },
   {
    "duration": 137,
    "start_time": "2023-04-04T05:20:00.735Z"
   },
   {
    "duration": 47,
    "start_time": "2023-04-04T05:20:00.875Z"
   },
   {
    "duration": 80,
    "start_time": "2023-04-04T05:20:00.937Z"
   },
   {
    "duration": 43,
    "start_time": "2023-04-04T05:20:01.019Z"
   },
   {
    "duration": 45,
    "start_time": "2023-04-04T05:20:01.064Z"
   },
   {
    "duration": 53,
    "start_time": "2023-04-04T05:20:01.112Z"
   },
   {
    "duration": 53,
    "start_time": "2023-04-04T05:20:01.167Z"
   },
   {
    "duration": 6,
    "start_time": "2023-04-04T05:20:01.237Z"
   },
   {
    "duration": 45,
    "start_time": "2023-04-04T05:20:01.245Z"
   },
   {
    "duration": 654,
    "start_time": "2023-04-04T05:20:01.293Z"
   },
   {
    "duration": 6,
    "start_time": "2023-04-04T05:20:01.953Z"
   },
   {
    "duration": 695,
    "start_time": "2023-04-04T05:20:01.961Z"
   },
   {
    "duration": 362,
    "start_time": "2023-04-04T05:20:02.659Z"
   },
   {
    "duration": 34,
    "start_time": "2023-04-04T05:20:03.022Z"
   },
   {
    "duration": 213,
    "start_time": "2023-04-04T05:20:03.058Z"
   },
   {
    "duration": 18,
    "start_time": "2023-04-04T05:20:03.273Z"
   },
   {
    "duration": 61,
    "start_time": "2023-04-04T05:20:03.293Z"
   },
   {
    "duration": 1732,
    "start_time": "2023-04-04T05:20:03.356Z"
   },
   {
    "duration": 887,
    "start_time": "2023-04-04T05:20:05.090Z"
   },
   {
    "duration": 1812,
    "start_time": "2023-04-04T05:20:05.979Z"
   },
   {
    "duration": 1979,
    "start_time": "2023-04-04T05:20:07.793Z"
   },
   {
    "duration": 2073,
    "start_time": "2023-04-04T05:20:09.774Z"
   },
   {
    "duration": 2872,
    "start_time": "2023-04-04T05:20:11.849Z"
   },
   {
    "duration": 15,
    "start_time": "2023-04-04T05:24:39.631Z"
   },
   {
    "duration": 6,
    "start_time": "2023-04-04T05:27:51.759Z"
   },
   {
    "duration": 9,
    "start_time": "2023-04-04T05:28:47.039Z"
   },
   {
    "duration": 5,
    "start_time": "2023-04-04T05:28:57.027Z"
   },
   {
    "duration": 7,
    "start_time": "2023-04-04T05:29:06.263Z"
   },
   {
    "duration": 85,
    "start_time": "2023-04-04T05:29:21.262Z"
   },
   {
    "duration": 7,
    "start_time": "2023-04-04T05:29:27.183Z"
   },
   {
    "duration": 108,
    "start_time": "2023-04-04T05:30:12.127Z"
   },
   {
    "duration": 12,
    "start_time": "2023-04-04T05:30:18.375Z"
   },
   {
    "duration": 14,
    "start_time": "2023-04-04T05:30:24.592Z"
   },
   {
    "duration": 95,
    "start_time": "2023-04-04T05:31:22.531Z"
   },
   {
    "duration": 1536,
    "start_time": "2023-04-04T05:44:36.278Z"
   },
   {
    "duration": 1710,
    "start_time": "2023-04-04T05:45:05.706Z"
   },
   {
    "duration": 1657,
    "start_time": "2023-04-04T05:45:33.766Z"
   },
   {
    "duration": 1603,
    "start_time": "2023-04-04T05:53:59.665Z"
   },
   {
    "duration": 1046,
    "start_time": "2023-04-04T05:56:05.849Z"
   },
   {
    "duration": 717,
    "start_time": "2023-04-04T07:03:06.987Z"
   },
   {
    "duration": 783,
    "start_time": "2023-04-04T07:03:07.706Z"
   },
   {
    "duration": 18,
    "start_time": "2023-04-04T07:03:08.491Z"
   },
   {
    "duration": 127,
    "start_time": "2023-04-04T07:03:08.512Z"
   },
   {
    "duration": 19,
    "start_time": "2023-04-04T07:03:08.643Z"
   },
   {
    "duration": 25,
    "start_time": "2023-04-04T07:03:08.665Z"
   },
   {
    "duration": 15,
    "start_time": "2023-04-04T07:03:08.692Z"
   },
   {
    "duration": 26,
    "start_time": "2023-04-04T07:03:08.709Z"
   },
   {
    "duration": 5,
    "start_time": "2023-04-04T07:03:08.738Z"
   },
   {
    "duration": 8,
    "start_time": "2023-04-04T07:03:08.745Z"
   },
   {
    "duration": 88,
    "start_time": "2023-04-04T07:03:08.755Z"
   },
   {
    "duration": 286,
    "start_time": "2023-04-04T07:03:08.844Z"
   },
   {
    "duration": 13,
    "start_time": "2023-04-04T07:03:09.134Z"
   },
   {
    "duration": 5,
    "start_time": "2023-04-04T07:03:09.151Z"
   },
   {
    "duration": 87,
    "start_time": "2023-04-04T07:03:09.158Z"
   },
   {
    "duration": 61,
    "start_time": "2023-04-04T07:03:09.246Z"
   },
   {
    "duration": 81,
    "start_time": "2023-04-04T07:03:09.308Z"
   },
   {
    "duration": 171,
    "start_time": "2023-04-04T07:03:09.391Z"
   },
   {
    "duration": 31,
    "start_time": "2023-04-04T07:03:09.564Z"
   },
   {
    "duration": 39,
    "start_time": "2023-04-04T07:03:09.597Z"
   },
   {
    "duration": 13,
    "start_time": "2023-04-04T07:03:09.638Z"
   },
   {
    "duration": 28,
    "start_time": "2023-04-04T07:03:09.652Z"
   },
   {
    "duration": 14,
    "start_time": "2023-04-04T07:03:09.682Z"
   },
   {
    "duration": 15,
    "start_time": "2023-04-04T07:03:09.698Z"
   },
   {
    "duration": 21,
    "start_time": "2023-04-04T07:03:09.715Z"
   },
   {
    "duration": 20,
    "start_time": "2023-04-04T07:03:09.738Z"
   },
   {
    "duration": 27,
    "start_time": "2023-04-04T07:03:09.760Z"
   },
   {
    "duration": 10,
    "start_time": "2023-04-04T07:03:09.789Z"
   },
   {
    "duration": 19,
    "start_time": "2023-04-04T07:03:09.800Z"
   },
   {
    "duration": 22,
    "start_time": "2023-04-04T07:03:09.821Z"
   },
   {
    "duration": 35,
    "start_time": "2023-04-04T07:03:09.844Z"
   },
   {
    "duration": 23,
    "start_time": "2023-04-04T07:03:09.882Z"
   },
   {
    "duration": 572,
    "start_time": "2023-04-04T07:03:09.908Z"
   },
   {
    "duration": 5,
    "start_time": "2023-04-04T07:03:10.482Z"
   },
   {
    "duration": 84,
    "start_time": "2023-04-04T07:03:10.489Z"
   },
   {
    "duration": 34,
    "start_time": "2023-04-04T07:03:10.575Z"
   },
   {
    "duration": 50,
    "start_time": "2023-04-04T07:03:10.611Z"
   },
   {
    "duration": 28,
    "start_time": "2023-04-04T07:03:10.663Z"
   },
   {
    "duration": 42,
    "start_time": "2023-04-04T07:03:10.692Z"
   },
   {
    "duration": 34,
    "start_time": "2023-04-04T07:03:10.736Z"
   },
   {
    "duration": 58,
    "start_time": "2023-04-04T07:03:10.775Z"
   },
   {
    "duration": 6,
    "start_time": "2023-04-04T07:03:10.835Z"
   },
   {
    "duration": 14,
    "start_time": "2023-04-04T07:03:10.842Z"
   },
   {
    "duration": 632,
    "start_time": "2023-04-04T07:03:10.858Z"
   },
   {
    "duration": 5,
    "start_time": "2023-04-04T07:03:11.492Z"
   },
   {
    "duration": 587,
    "start_time": "2023-04-04T07:03:11.500Z"
   },
   {
    "duration": 349,
    "start_time": "2023-04-04T07:03:12.090Z"
   },
   {
    "duration": 32,
    "start_time": "2023-04-04T07:03:12.441Z"
   },
   {
    "duration": 188,
    "start_time": "2023-04-04T07:03:12.476Z"
   },
   {
    "duration": 17,
    "start_time": "2023-04-04T07:03:12.666Z"
   },
   {
    "duration": 21,
    "start_time": "2023-04-04T07:03:12.685Z"
   },
   {
    "duration": 28,
    "start_time": "2023-04-04T07:03:12.708Z"
   },
   {
    "duration": 1540,
    "start_time": "2023-04-04T07:03:12.738Z"
   },
   {
    "duration": 867,
    "start_time": "2023-04-04T07:03:14.280Z"
   },
   {
    "duration": 1514,
    "start_time": "2023-04-04T07:03:15.149Z"
   },
   {
    "duration": 1741,
    "start_time": "2023-04-04T07:03:16.665Z"
   },
   {
    "duration": 1837,
    "start_time": "2023-04-04T07:03:18.408Z"
   },
   {
    "duration": 2395,
    "start_time": "2023-04-04T07:03:20.247Z"
   },
   {
    "duration": 826,
    "start_time": "2023-04-04T07:03:34.100Z"
   },
   {
    "duration": 806,
    "start_time": "2023-04-04T07:03:43.250Z"
   },
   {
    "duration": 746,
    "start_time": "2023-04-04T07:03:50.706Z"
   },
   {
    "duration": 726,
    "start_time": "2023-04-04T07:03:51.454Z"
   },
   {
    "duration": 15,
    "start_time": "2023-04-04T07:03:52.182Z"
   },
   {
    "duration": 78,
    "start_time": "2023-04-04T07:03:52.199Z"
   },
   {
    "duration": 10,
    "start_time": "2023-04-04T07:03:52.279Z"
   },
   {
    "duration": 18,
    "start_time": "2023-04-04T07:03:52.290Z"
   },
   {
    "duration": 10,
    "start_time": "2023-04-04T07:03:52.310Z"
   },
   {
    "duration": 12,
    "start_time": "2023-04-04T07:03:52.334Z"
   },
   {
    "duration": 7,
    "start_time": "2023-04-04T07:03:52.348Z"
   },
   {
    "duration": 8,
    "start_time": "2023-04-04T07:03:52.357Z"
   },
   {
    "duration": 87,
    "start_time": "2023-04-04T07:03:52.366Z"
   },
   {
    "duration": 288,
    "start_time": "2023-04-04T07:03:52.455Z"
   },
   {
    "duration": 14,
    "start_time": "2023-04-04T07:03:52.745Z"
   },
   {
    "duration": 6,
    "start_time": "2023-04-04T07:03:52.762Z"
   },
   {
    "duration": 82,
    "start_time": "2023-04-04T07:03:52.770Z"
   },
   {
    "duration": 58,
    "start_time": "2023-04-04T07:03:52.853Z"
   },
   {
    "duration": 78,
    "start_time": "2023-04-04T07:03:52.913Z"
   },
   {
    "duration": 162,
    "start_time": "2023-04-04T07:03:52.993Z"
   },
   {
    "duration": 32,
    "start_time": "2023-04-04T07:03:53.157Z"
   },
   {
    "duration": 21,
    "start_time": "2023-04-04T07:03:53.191Z"
   },
   {
    "duration": 31,
    "start_time": "2023-04-04T07:03:53.214Z"
   },
   {
    "duration": 17,
    "start_time": "2023-04-04T07:03:53.247Z"
   },
   {
    "duration": 10,
    "start_time": "2023-04-04T07:03:53.265Z"
   },
   {
    "duration": 4,
    "start_time": "2023-04-04T07:03:53.277Z"
   },
   {
    "duration": 10,
    "start_time": "2023-04-04T07:03:53.283Z"
   },
   {
    "duration": 9,
    "start_time": "2023-04-04T07:03:53.295Z"
   },
   {
    "duration": 47,
    "start_time": "2023-04-04T07:03:53.306Z"
   },
   {
    "duration": 19,
    "start_time": "2023-04-04T07:03:53.356Z"
   },
   {
    "duration": 12,
    "start_time": "2023-04-04T07:03:53.377Z"
   },
   {
    "duration": 13,
    "start_time": "2023-04-04T07:03:53.391Z"
   },
   {
    "duration": 13,
    "start_time": "2023-04-04T07:03:53.406Z"
   },
   {
    "duration": 13,
    "start_time": "2023-04-04T07:03:53.421Z"
   },
   {
    "duration": 536,
    "start_time": "2023-04-04T07:03:53.436Z"
   },
   {
    "duration": 6,
    "start_time": "2023-04-04T07:03:53.974Z"
   },
   {
    "duration": 85,
    "start_time": "2023-04-04T07:03:53.982Z"
   },
   {
    "duration": 35,
    "start_time": "2023-04-04T07:03:54.069Z"
   },
   {
    "duration": 56,
    "start_time": "2023-04-04T07:03:54.106Z"
   },
   {
    "duration": 26,
    "start_time": "2023-04-04T07:03:54.164Z"
   },
   {
    "duration": 42,
    "start_time": "2023-04-04T07:03:54.192Z"
   },
   {
    "duration": 33,
    "start_time": "2023-04-04T07:03:54.236Z"
   },
   {
    "duration": 35,
    "start_time": "2023-04-04T07:03:54.273Z"
   },
   {
    "duration": 26,
    "start_time": "2023-04-04T07:03:54.310Z"
   },
   {
    "duration": 15,
    "start_time": "2023-04-04T07:03:54.337Z"
   },
   {
    "duration": 580,
    "start_time": "2023-04-04T07:03:54.354Z"
   },
   {
    "duration": 6,
    "start_time": "2023-04-04T07:03:54.935Z"
   },
   {
    "duration": 574,
    "start_time": "2023-04-04T07:03:54.942Z"
   },
   {
    "duration": 339,
    "start_time": "2023-04-04T07:03:55.517Z"
   },
   {
    "duration": 24,
    "start_time": "2023-04-04T07:03:55.858Z"
   },
   {
    "duration": 188,
    "start_time": "2023-04-04T07:03:55.884Z"
   },
   {
    "duration": 17,
    "start_time": "2023-04-04T07:03:56.073Z"
   },
   {
    "duration": 56,
    "start_time": "2023-04-04T07:03:56.093Z"
   },
   {
    "duration": 33,
    "start_time": "2023-04-04T07:03:56.150Z"
   },
   {
    "duration": 1484,
    "start_time": "2023-04-04T07:03:56.185Z"
   },
   {
    "duration": 797,
    "start_time": "2023-04-04T07:03:57.671Z"
   },
   {
    "duration": 1501,
    "start_time": "2023-04-04T07:03:58.470Z"
   },
   {
    "duration": 1861,
    "start_time": "2023-04-04T07:03:59.972Z"
   },
   {
    "duration": 1835,
    "start_time": "2023-04-04T07:04:01.836Z"
   },
   {
    "duration": 2446,
    "start_time": "2023-04-04T07:04:03.672Z"
   },
   {
    "duration": 1452,
    "start_time": "2023-04-04T07:04:26.454Z"
   },
   {
    "duration": 1751,
    "start_time": "2023-04-04T07:04:52.434Z"
   },
   {
    "duration": 1921,
    "start_time": "2023-04-04T07:05:14.618Z"
   },
   {
    "duration": 2317,
    "start_time": "2023-04-04T07:05:47.706Z"
   },
   {
    "duration": 725,
    "start_time": "2023-04-04T07:11:09.238Z"
   },
   {
    "duration": 778,
    "start_time": "2023-04-04T07:11:09.966Z"
   },
   {
    "duration": 16,
    "start_time": "2023-04-04T07:11:10.746Z"
   },
   {
    "duration": 91,
    "start_time": "2023-04-04T07:11:10.765Z"
   },
   {
    "duration": 22,
    "start_time": "2023-04-04T07:11:10.858Z"
   },
   {
    "duration": 45,
    "start_time": "2023-04-04T07:11:10.882Z"
   },
   {
    "duration": 26,
    "start_time": "2023-04-04T07:11:10.929Z"
   },
   {
    "duration": 38,
    "start_time": "2023-04-04T07:11:10.957Z"
   },
   {
    "duration": 31,
    "start_time": "2023-04-04T07:11:10.997Z"
   },
   {
    "duration": 39,
    "start_time": "2023-04-04T07:11:11.031Z"
   },
   {
    "duration": 103,
    "start_time": "2023-04-04T07:11:11.072Z"
   },
   {
    "duration": 321,
    "start_time": "2023-04-04T07:11:11.177Z"
   },
   {
    "duration": 15,
    "start_time": "2023-04-04T07:11:11.501Z"
   },
   {
    "duration": 15,
    "start_time": "2023-04-04T07:11:11.519Z"
   },
   {
    "duration": 76,
    "start_time": "2023-04-04T07:11:11.536Z"
   },
   {
    "duration": 74,
    "start_time": "2023-04-04T07:11:11.614Z"
   },
   {
    "duration": 83,
    "start_time": "2023-04-04T07:11:11.690Z"
   },
   {
    "duration": 162,
    "start_time": "2023-04-04T07:11:11.775Z"
   },
   {
    "duration": 50,
    "start_time": "2023-04-04T07:11:11.941Z"
   },
   {
    "duration": 44,
    "start_time": "2023-04-04T07:11:11.994Z"
   },
   {
    "duration": 53,
    "start_time": "2023-04-04T07:11:12.041Z"
   },
   {
    "duration": 37,
    "start_time": "2023-04-04T07:11:12.097Z"
   },
   {
    "duration": 39,
    "start_time": "2023-04-04T07:11:12.137Z"
   },
   {
    "duration": 19,
    "start_time": "2023-04-04T07:11:12.179Z"
   },
   {
    "duration": 27,
    "start_time": "2023-04-04T07:11:12.201Z"
   },
   {
    "duration": 33,
    "start_time": "2023-04-04T07:11:12.230Z"
   },
   {
    "duration": 56,
    "start_time": "2023-04-04T07:11:12.266Z"
   },
   {
    "duration": 50,
    "start_time": "2023-04-04T07:11:12.326Z"
   },
   {
    "duration": 45,
    "start_time": "2023-04-04T07:11:12.378Z"
   },
   {
    "duration": 23,
    "start_time": "2023-04-04T07:11:12.425Z"
   },
   {
    "duration": 27,
    "start_time": "2023-04-04T07:11:12.450Z"
   },
   {
    "duration": 29,
    "start_time": "2023-04-04T07:11:12.479Z"
   },
   {
    "duration": 586,
    "start_time": "2023-04-04T07:11:12.510Z"
   },
   {
    "duration": 7,
    "start_time": "2023-04-04T07:11:13.099Z"
   },
   {
    "duration": 155,
    "start_time": "2023-04-04T07:11:13.108Z"
   },
   {
    "duration": 37,
    "start_time": "2023-04-04T07:11:13.266Z"
   },
   {
    "duration": 50,
    "start_time": "2023-04-04T07:11:13.305Z"
   },
   {
    "duration": 27,
    "start_time": "2023-04-04T07:11:13.358Z"
   },
   {
    "duration": 48,
    "start_time": "2023-04-04T07:11:13.387Z"
   },
   {
    "duration": 34,
    "start_time": "2023-04-04T07:11:13.437Z"
   },
   {
    "duration": 38,
    "start_time": "2023-04-04T07:11:13.473Z"
   },
   {
    "duration": 5,
    "start_time": "2023-04-04T07:11:13.534Z"
   },
   {
    "duration": 26,
    "start_time": "2023-04-04T07:11:13.542Z"
   },
   {
    "duration": 625,
    "start_time": "2023-04-04T07:11:13.570Z"
   },
   {
    "duration": 8,
    "start_time": "2023-04-04T07:11:14.198Z"
   },
   {
    "duration": 607,
    "start_time": "2023-04-04T07:11:14.208Z"
   },
   {
    "duration": 357,
    "start_time": "2023-04-04T07:11:14.817Z"
   },
   {
    "duration": 29,
    "start_time": "2023-04-04T07:11:15.176Z"
   },
   {
    "duration": 212,
    "start_time": "2023-04-04T07:11:15.207Z"
   },
   {
    "duration": 27,
    "start_time": "2023-04-04T07:11:15.422Z"
   },
   {
    "duration": 22,
    "start_time": "2023-04-04T07:11:15.452Z"
   },
   {
    "duration": 5,
    "start_time": "2023-04-04T07:11:15.477Z"
   },
   {
    "duration": 1723,
    "start_time": "2023-04-04T07:11:15.485Z"
   },
   {
    "duration": 872,
    "start_time": "2023-04-04T07:11:17.210Z"
   },
   {
    "duration": 1559,
    "start_time": "2023-04-04T07:11:18.085Z"
   },
   {
    "duration": 1814,
    "start_time": "2023-04-04T07:11:19.647Z"
   },
   {
    "duration": 1919,
    "start_time": "2023-04-04T07:11:21.463Z"
   },
   {
    "duration": 2503,
    "start_time": "2023-04-04T07:11:23.384Z"
   },
   {
    "duration": 131,
    "start_time": "2023-04-04T07:11:25.890Z"
   },
   {
    "duration": 1091,
    "start_time": "2023-04-04T07:18:25.779Z"
   },
   {
    "duration": 982,
    "start_time": "2023-04-04T07:18:52.880Z"
   },
   {
    "duration": 1086,
    "start_time": "2023-04-04T07:19:11.293Z"
   },
   {
    "duration": 817,
    "start_time": "2023-04-04T07:20:01.897Z"
   },
   {
    "duration": 786,
    "start_time": "2023-04-04T07:20:17.597Z"
   },
   {
    "duration": 1420,
    "start_time": "2023-04-04T07:20:58.629Z"
   },
   {
    "duration": 1063,
    "start_time": "2023-04-04T07:26:35.688Z"
   },
   {
    "duration": 1873,
    "start_time": "2023-04-04T07:27:09.804Z"
   },
   {
    "duration": 51,
    "start_time": "2023-04-04T18:15:39.392Z"
   },
   {
    "duration": 936,
    "start_time": "2023-04-04T18:15:49.115Z"
   },
   {
    "duration": 926,
    "start_time": "2023-04-04T18:15:50.053Z"
   },
   {
    "duration": 16,
    "start_time": "2023-04-04T18:15:50.981Z"
   },
   {
    "duration": 52,
    "start_time": "2023-04-04T18:15:50.998Z"
   },
   {
    "duration": 8,
    "start_time": "2023-04-04T18:15:51.051Z"
   },
   {
    "duration": 22,
    "start_time": "2023-04-04T18:15:51.060Z"
   },
   {
    "duration": 8,
    "start_time": "2023-04-04T18:15:51.084Z"
   },
   {
    "duration": 9,
    "start_time": "2023-04-04T18:15:51.093Z"
   },
   {
    "duration": 4,
    "start_time": "2023-04-04T18:15:51.103Z"
   },
   {
    "duration": 3,
    "start_time": "2023-04-04T18:15:51.109Z"
   },
   {
    "duration": 69,
    "start_time": "2023-04-04T18:15:51.113Z"
   },
   {
    "duration": 216,
    "start_time": "2023-04-04T18:15:51.186Z"
   },
   {
    "duration": 12,
    "start_time": "2023-04-04T18:15:51.404Z"
   },
   {
    "duration": 6,
    "start_time": "2023-04-04T18:15:51.418Z"
   },
   {
    "duration": 72,
    "start_time": "2023-04-04T18:15:51.425Z"
   },
   {
    "duration": 44,
    "start_time": "2023-04-04T18:15:51.498Z"
   },
   {
    "duration": 64,
    "start_time": "2023-04-04T18:15:51.544Z"
   },
   {
    "duration": 146,
    "start_time": "2023-04-04T18:15:51.610Z"
   },
   {
    "duration": 47,
    "start_time": "2023-04-04T18:15:51.758Z"
   },
   {
    "duration": 23,
    "start_time": "2023-04-04T18:15:51.807Z"
   },
   {
    "duration": 10,
    "start_time": "2023-04-04T18:15:51.832Z"
   },
   {
    "duration": 28,
    "start_time": "2023-04-04T18:15:51.843Z"
   },
   {
    "duration": 12,
    "start_time": "2023-04-04T18:15:51.872Z"
   },
   {
    "duration": 4,
    "start_time": "2023-04-04T18:15:51.886Z"
   },
   {
    "duration": 11,
    "start_time": "2023-04-04T18:15:51.891Z"
   },
   {
    "duration": 12,
    "start_time": "2023-04-04T18:15:51.903Z"
   },
   {
    "duration": 12,
    "start_time": "2023-04-04T18:15:51.917Z"
   },
   {
    "duration": 14,
    "start_time": "2023-04-04T18:15:51.933Z"
   },
   {
    "duration": 18,
    "start_time": "2023-04-04T18:15:51.949Z"
   },
   {
    "duration": 23,
    "start_time": "2023-04-04T18:15:51.969Z"
   },
   {
    "duration": 33,
    "start_time": "2023-04-04T18:15:51.994Z"
   },
   {
    "duration": 13,
    "start_time": "2023-04-04T18:15:52.029Z"
   },
   {
    "duration": 480,
    "start_time": "2023-04-04T18:15:52.043Z"
   },
   {
    "duration": 6,
    "start_time": "2023-04-04T18:15:52.524Z"
   },
   {
    "duration": 81,
    "start_time": "2023-04-04T18:15:52.531Z"
   },
   {
    "duration": 34,
    "start_time": "2023-04-04T18:15:52.615Z"
   },
   {
    "duration": 55,
    "start_time": "2023-04-04T18:15:52.651Z"
   },
   {
    "duration": 36,
    "start_time": "2023-04-04T18:15:52.708Z"
   },
   {
    "duration": 43,
    "start_time": "2023-04-04T18:15:52.746Z"
   },
   {
    "duration": 30,
    "start_time": "2023-04-04T18:15:52.791Z"
   },
   {
    "duration": 54,
    "start_time": "2023-04-04T18:15:52.822Z"
   },
   {
    "duration": 10,
    "start_time": "2023-04-04T18:15:52.877Z"
   },
   {
    "duration": 10,
    "start_time": "2023-04-04T18:15:52.889Z"
   },
   {
    "duration": 648,
    "start_time": "2023-04-04T18:15:52.901Z"
   },
   {
    "duration": 4,
    "start_time": "2023-04-04T18:15:53.551Z"
   },
   {
    "duration": 654,
    "start_time": "2023-04-04T18:15:53.557Z"
   },
   {
    "duration": 442,
    "start_time": "2023-04-04T18:15:54.212Z"
   },
   {
    "duration": 29,
    "start_time": "2023-04-04T18:15:54.655Z"
   },
   {
    "duration": 327,
    "start_time": "2023-04-04T18:15:54.686Z"
   },
   {
    "duration": 14,
    "start_time": "2023-04-04T18:15:55.015Z"
   },
   {
    "duration": 53,
    "start_time": "2023-04-04T18:15:55.030Z"
   },
   {
    "duration": 4,
    "start_time": "2023-04-04T18:15:55.086Z"
   },
   {
    "duration": 25,
    "start_time": "2023-04-04T18:15:55.092Z"
   },
   {
    "duration": 2185,
    "start_time": "2023-04-04T18:15:55.118Z"
   },
   {
    "duration": 929,
    "start_time": "2023-04-04T18:15:57.304Z"
   },
   {
    "duration": 1673,
    "start_time": "2023-04-04T18:15:58.235Z"
   },
   {
    "duration": 1934,
    "start_time": "2023-04-04T18:15:59.910Z"
   },
   {
    "duration": 1943,
    "start_time": "2023-04-04T18:16:01.846Z"
   },
   {
    "duration": 1065,
    "start_time": "2023-04-04T18:16:03.801Z"
   },
   {
    "duration": 1579,
    "start_time": "2023-04-04T18:16:04.868Z"
   },
   {
    "duration": 2799,
    "start_time": "2023-04-04T18:16:06.449Z"
   },
   {
    "duration": 1234,
    "start_time": "2023-04-04T18:16:09.250Z"
   },
   {
    "duration": 1991,
    "start_time": "2023-04-04T18:16:10.486Z"
   },
   {
    "duration": 126,
    "start_time": "2023-04-04T18:16:12.486Z"
   },
   {
    "duration": 5,
    "start_time": "2023-04-04T18:16:14.888Z"
   },
   {
    "duration": 101,
    "start_time": "2023-04-05T06:22:08.343Z"
   },
   {
    "duration": 853,
    "start_time": "2023-04-05T17:54:22.423Z"
   },
   {
    "duration": 960,
    "start_time": "2023-04-05T17:54:23.278Z"
   },
   {
    "duration": 16,
    "start_time": "2023-04-05T17:54:24.239Z"
   },
   {
    "duration": 52,
    "start_time": "2023-04-05T17:54:24.257Z"
   },
   {
    "duration": 63,
    "start_time": "2023-04-05T17:54:24.311Z"
   },
   {
    "duration": 10,
    "start_time": "2023-04-05T17:54:24.376Z"
   },
   {
    "duration": 8,
    "start_time": "2023-04-05T17:54:24.387Z"
   },
   {
    "duration": 10,
    "start_time": "2023-04-05T17:54:24.396Z"
   },
   {
    "duration": 3,
    "start_time": "2023-04-05T17:54:24.469Z"
   },
   {
    "duration": 3,
    "start_time": "2023-04-05T17:54:24.475Z"
   },
   {
    "duration": 108,
    "start_time": "2023-04-05T17:54:24.480Z"
   },
   {
    "duration": 359,
    "start_time": "2023-04-05T17:54:24.590Z"
   },
   {
    "duration": 24,
    "start_time": "2023-04-05T17:54:24.951Z"
   },
   {
    "duration": 5,
    "start_time": "2023-04-05T17:54:24.976Z"
   },
   {
    "duration": 50,
    "start_time": "2023-04-05T17:54:24.983Z"
   },
   {
    "duration": 70,
    "start_time": "2023-04-05T17:54:25.034Z"
   },
   {
    "duration": 98,
    "start_time": "2023-04-05T17:54:25.105Z"
   },
   {
    "duration": 141,
    "start_time": "2023-04-05T17:54:25.205Z"
   },
   {
    "duration": 33,
    "start_time": "2023-04-05T17:54:25.348Z"
   },
   {
    "duration": 15,
    "start_time": "2023-04-05T17:54:25.382Z"
   },
   {
    "duration": 23,
    "start_time": "2023-04-05T17:54:25.399Z"
   },
   {
    "duration": 11,
    "start_time": "2023-04-05T17:54:25.423Z"
   },
   {
    "duration": 7,
    "start_time": "2023-04-05T17:54:25.435Z"
   },
   {
    "duration": 3,
    "start_time": "2023-04-05T17:54:25.443Z"
   },
   {
    "duration": 21,
    "start_time": "2023-04-05T17:54:25.447Z"
   },
   {
    "duration": 18,
    "start_time": "2023-04-05T17:54:25.470Z"
   },
   {
    "duration": 24,
    "start_time": "2023-04-05T17:54:25.490Z"
   },
   {
    "duration": 32,
    "start_time": "2023-04-05T17:54:25.518Z"
   },
   {
    "duration": 18,
    "start_time": "2023-04-05T17:54:25.551Z"
   },
   {
    "duration": 13,
    "start_time": "2023-04-05T17:54:25.571Z"
   },
   {
    "duration": 7,
    "start_time": "2023-04-05T17:54:25.586Z"
   },
   {
    "duration": 9,
    "start_time": "2023-04-05T17:54:25.595Z"
   },
   {
    "duration": 430,
    "start_time": "2023-04-05T17:54:25.606Z"
   },
   {
    "duration": 4,
    "start_time": "2023-04-05T17:54:26.038Z"
   },
   {
    "duration": 65,
    "start_time": "2023-04-05T17:54:26.044Z"
   },
   {
    "duration": 27,
    "start_time": "2023-04-05T17:54:26.111Z"
   },
   {
    "duration": 42,
    "start_time": "2023-04-05T17:54:26.140Z"
   },
   {
    "duration": 21,
    "start_time": "2023-04-05T17:54:26.184Z"
   },
   {
    "duration": 20,
    "start_time": "2023-04-05T17:54:26.206Z"
   },
   {
    "duration": 41,
    "start_time": "2023-04-05T17:54:26.228Z"
   },
   {
    "duration": 27,
    "start_time": "2023-04-05T17:54:26.271Z"
   },
   {
    "duration": 4,
    "start_time": "2023-04-05T17:54:26.299Z"
   },
   {
    "duration": 12,
    "start_time": "2023-04-05T17:54:26.304Z"
   },
   {
    "duration": 630,
    "start_time": "2023-04-05T17:54:26.317Z"
   },
   {
    "duration": 6,
    "start_time": "2023-04-05T17:54:26.948Z"
   },
   {
    "duration": 629,
    "start_time": "2023-04-05T17:54:26.955Z"
   },
   {
    "duration": 482,
    "start_time": "2023-04-05T17:54:27.586Z"
   },
   {
    "duration": 387,
    "start_time": "2023-04-05T17:54:28.070Z"
   },
   {
    "duration": 19,
    "start_time": "2023-04-05T17:54:28.468Z"
   },
   {
    "duration": 272,
    "start_time": "2023-04-05T17:54:28.489Z"
   },
   {
    "duration": 13,
    "start_time": "2023-04-05T17:54:28.769Z"
   },
   {
    "duration": 17,
    "start_time": "2023-04-05T17:54:28.784Z"
   },
   {
    "duration": 4,
    "start_time": "2023-04-05T17:54:28.802Z"
   },
   {
    "duration": 8,
    "start_time": "2023-04-05T17:54:28.807Z"
   },
   {
    "duration": 1712,
    "start_time": "2023-04-05T17:54:28.816Z"
   },
   {
    "duration": 867,
    "start_time": "2023-04-05T17:54:30.529Z"
   },
   {
    "duration": 1514,
    "start_time": "2023-04-05T17:54:31.398Z"
   },
   {
    "duration": 1889,
    "start_time": "2023-04-05T17:54:32.913Z"
   },
   {
    "duration": 1903,
    "start_time": "2023-04-05T17:54:34.804Z"
   },
   {
    "duration": 877,
    "start_time": "2023-04-05T17:54:36.709Z"
   },
   {
    "duration": 7102,
    "start_time": "2023-04-05T17:54:37.587Z"
   },
   {
    "duration": 1023,
    "start_time": "2023-04-05T17:54:52.933Z"
   },
   {
    "duration": 920,
    "start_time": "2023-04-05T17:54:53.958Z"
   },
   {
    "duration": 14,
    "start_time": "2023-04-05T17:54:54.880Z"
   },
   {
    "duration": 63,
    "start_time": "2023-04-05T17:54:54.896Z"
   },
   {
    "duration": 13,
    "start_time": "2023-04-05T17:54:54.961Z"
   },
   {
    "duration": 11,
    "start_time": "2023-04-05T17:54:54.975Z"
   },
   {
    "duration": 8,
    "start_time": "2023-04-05T17:54:54.988Z"
   },
   {
    "duration": 10,
    "start_time": "2023-04-05T17:54:54.998Z"
   },
   {
    "duration": 10,
    "start_time": "2023-04-05T17:54:55.009Z"
   },
   {
    "duration": 8,
    "start_time": "2023-04-05T17:54:55.022Z"
   },
   {
    "duration": 70,
    "start_time": "2023-04-05T17:54:55.031Z"
   },
   {
    "duration": 235,
    "start_time": "2023-04-05T17:54:55.103Z"
   },
   {
    "duration": 12,
    "start_time": "2023-04-05T17:54:55.339Z"
   },
   {
    "duration": 15,
    "start_time": "2023-04-05T17:54:55.353Z"
   },
   {
    "duration": 52,
    "start_time": "2023-04-05T17:54:55.370Z"
   },
   {
    "duration": 66,
    "start_time": "2023-04-05T17:54:55.423Z"
   },
   {
    "duration": 48,
    "start_time": "2023-04-05T17:54:55.491Z"
   },
   {
    "duration": 149,
    "start_time": "2023-04-05T17:54:55.541Z"
   },
   {
    "duration": 25,
    "start_time": "2023-04-05T17:54:55.692Z"
   },
   {
    "duration": 17,
    "start_time": "2023-04-05T17:54:55.719Z"
   },
   {
    "duration": 34,
    "start_time": "2023-04-05T17:54:55.738Z"
   },
   {
    "duration": 8,
    "start_time": "2023-04-05T17:54:55.774Z"
   },
   {
    "duration": 7,
    "start_time": "2023-04-05T17:54:55.783Z"
   },
   {
    "duration": 4,
    "start_time": "2023-04-05T17:54:55.791Z"
   },
   {
    "duration": 14,
    "start_time": "2023-04-05T17:54:55.796Z"
   },
   {
    "duration": 8,
    "start_time": "2023-04-05T17:54:55.811Z"
   },
   {
    "duration": 12,
    "start_time": "2023-04-05T17:54:55.821Z"
   },
   {
    "duration": 10,
    "start_time": "2023-04-05T17:54:55.836Z"
   },
   {
    "duration": 21,
    "start_time": "2023-04-05T17:54:55.847Z"
   },
   {
    "duration": 9,
    "start_time": "2023-04-05T17:54:55.869Z"
   },
   {
    "duration": 14,
    "start_time": "2023-04-05T17:54:55.879Z"
   },
   {
    "duration": 9,
    "start_time": "2023-04-05T17:54:55.895Z"
   },
   {
    "duration": 417,
    "start_time": "2023-04-05T17:54:55.905Z"
   },
   {
    "duration": 4,
    "start_time": "2023-04-05T17:54:56.324Z"
   },
   {
    "duration": 64,
    "start_time": "2023-04-05T17:54:56.329Z"
   },
   {
    "duration": 28,
    "start_time": "2023-04-05T17:54:56.394Z"
   },
   {
    "duration": 27,
    "start_time": "2023-04-05T17:54:56.423Z"
   },
   {
    "duration": 34,
    "start_time": "2023-04-05T17:54:56.451Z"
   },
   {
    "duration": 17,
    "start_time": "2023-04-05T17:54:56.486Z"
   },
   {
    "duration": 24,
    "start_time": "2023-04-05T17:54:56.504Z"
   },
   {
    "duration": 49,
    "start_time": "2023-04-05T17:54:56.529Z"
   },
   {
    "duration": 4,
    "start_time": "2023-04-05T17:54:56.580Z"
   },
   {
    "duration": 11,
    "start_time": "2023-04-05T17:54:56.586Z"
   },
   {
    "duration": 653,
    "start_time": "2023-04-05T17:54:56.599Z"
   },
   {
    "duration": 16,
    "start_time": "2023-04-05T17:54:57.253Z"
   },
   {
    "duration": 615,
    "start_time": "2023-04-05T17:54:57.270Z"
   },
   {
    "duration": 494,
    "start_time": "2023-04-05T17:54:57.887Z"
   },
   {
    "duration": 660,
    "start_time": "2023-04-05T17:54:58.383Z"
   },
   {
    "duration": 409,
    "start_time": "2023-04-05T17:54:59.045Z"
   },
   {
    "duration": 31,
    "start_time": "2023-04-05T17:54:59.456Z"
   },
   {
    "duration": 289,
    "start_time": "2023-04-05T17:54:59.489Z"
   },
   {
    "duration": 14,
    "start_time": "2023-04-05T17:54:59.780Z"
   },
   {
    "duration": 19,
    "start_time": "2023-04-05T17:54:59.796Z"
   },
   {
    "duration": 4,
    "start_time": "2023-04-05T17:54:59.817Z"
   },
   {
    "duration": 7,
    "start_time": "2023-04-05T17:54:59.823Z"
   },
   {
    "duration": 1685,
    "start_time": "2023-04-05T17:54:59.831Z"
   },
   {
    "duration": 966,
    "start_time": "2023-04-05T17:55:01.518Z"
   },
   {
    "duration": 1483,
    "start_time": "2023-04-05T17:55:02.486Z"
   },
   {
    "duration": 1858,
    "start_time": "2023-04-05T17:55:03.971Z"
   },
   {
    "duration": 1981,
    "start_time": "2023-04-05T17:55:05.831Z"
   },
   {
    "duration": 863,
    "start_time": "2023-04-05T17:55:07.813Z"
   },
   {
    "duration": 930,
    "start_time": "2023-04-05T17:56:41.453Z"
   },
   {
    "duration": 913,
    "start_time": "2023-04-05T17:56:42.385Z"
   },
   {
    "duration": 21,
    "start_time": "2023-04-05T17:56:43.300Z"
   },
   {
    "duration": 90,
    "start_time": "2023-04-05T17:56:43.324Z"
   },
   {
    "duration": 10,
    "start_time": "2023-04-05T17:56:43.417Z"
   },
   {
    "duration": 14,
    "start_time": "2023-04-05T17:56:43.429Z"
   },
   {
    "duration": 33,
    "start_time": "2023-04-05T17:56:43.444Z"
   },
   {
    "duration": 13,
    "start_time": "2023-04-05T17:56:43.479Z"
   },
   {
    "duration": 5,
    "start_time": "2023-04-05T17:56:43.494Z"
   },
   {
    "duration": 4,
    "start_time": "2023-04-05T17:56:43.501Z"
   },
   {
    "duration": 71,
    "start_time": "2023-04-05T17:56:43.507Z"
   },
   {
    "duration": 250,
    "start_time": "2023-04-05T17:56:43.580Z"
   },
   {
    "duration": 12,
    "start_time": "2023-04-05T17:56:43.832Z"
   },
   {
    "duration": 22,
    "start_time": "2023-04-05T17:56:43.846Z"
   },
   {
    "duration": 64,
    "start_time": "2023-04-05T17:56:43.870Z"
   },
   {
    "duration": 59,
    "start_time": "2023-04-05T17:56:43.935Z"
   },
   {
    "duration": 48,
    "start_time": "2023-04-05T17:56:43.996Z"
   },
   {
    "duration": 140,
    "start_time": "2023-04-05T17:56:44.045Z"
   },
   {
    "duration": 24,
    "start_time": "2023-04-05T17:56:44.186Z"
   },
   {
    "duration": 16,
    "start_time": "2023-04-05T17:56:44.211Z"
   },
   {
    "duration": 10,
    "start_time": "2023-04-05T17:56:44.228Z"
   },
   {
    "duration": 33,
    "start_time": "2023-04-05T17:56:44.239Z"
   },
   {
    "duration": 7,
    "start_time": "2023-04-05T17:56:44.273Z"
   },
   {
    "duration": 3,
    "start_time": "2023-04-05T17:56:44.281Z"
   },
   {
    "duration": 5,
    "start_time": "2023-04-05T17:56:44.286Z"
   },
   {
    "duration": 5,
    "start_time": "2023-04-05T17:56:44.293Z"
   },
   {
    "duration": 8,
    "start_time": "2023-04-05T17:56:44.300Z"
   },
   {
    "duration": 12,
    "start_time": "2023-04-05T17:56:44.312Z"
   },
   {
    "duration": 7,
    "start_time": "2023-04-05T17:56:44.325Z"
   },
   {
    "duration": 40,
    "start_time": "2023-04-05T17:56:44.333Z"
   },
   {
    "duration": 17,
    "start_time": "2023-04-05T17:56:44.375Z"
   },
   {
    "duration": 11,
    "start_time": "2023-04-05T17:56:44.394Z"
   },
   {
    "duration": 513,
    "start_time": "2023-04-05T17:56:44.406Z"
   },
   {
    "duration": 4,
    "start_time": "2023-04-05T17:56:44.921Z"
   },
   {
    "duration": 75,
    "start_time": "2023-04-05T17:56:44.927Z"
   },
   {
    "duration": 31,
    "start_time": "2023-04-05T17:56:45.003Z"
   },
   {
    "duration": 47,
    "start_time": "2023-04-05T17:56:45.036Z"
   },
   {
    "duration": 23,
    "start_time": "2023-04-05T17:56:45.084Z"
   },
   {
    "duration": 19,
    "start_time": "2023-04-05T17:56:45.108Z"
   },
   {
    "duration": 54,
    "start_time": "2023-04-05T17:56:45.128Z"
   },
   {
    "duration": 32,
    "start_time": "2023-04-05T17:56:45.183Z"
   },
   {
    "duration": 4,
    "start_time": "2023-04-05T17:56:45.217Z"
   },
   {
    "duration": 14,
    "start_time": "2023-04-05T17:56:45.223Z"
   },
   {
    "duration": 743,
    "start_time": "2023-04-05T17:56:45.239Z"
   },
   {
    "duration": 5,
    "start_time": "2023-04-05T17:56:45.984Z"
   },
   {
    "duration": 727,
    "start_time": "2023-04-05T17:56:45.990Z"
   },
   {
    "duration": 668,
    "start_time": "2023-04-05T17:56:46.719Z"
   },
   {
    "duration": 1121,
    "start_time": "2023-04-05T17:56:47.389Z"
   },
   {
    "duration": 0,
    "start_time": "2023-04-05T17:56:48.511Z"
   },
   {
    "duration": 0,
    "start_time": "2023-04-05T17:56:48.512Z"
   },
   {
    "duration": 0,
    "start_time": "2023-04-05T17:56:48.513Z"
   },
   {
    "duration": 0,
    "start_time": "2023-04-05T17:56:48.514Z"
   },
   {
    "duration": 0,
    "start_time": "2023-04-05T17:56:48.515Z"
   },
   {
    "duration": 0,
    "start_time": "2023-04-05T17:56:48.516Z"
   },
   {
    "duration": 0,
    "start_time": "2023-04-05T17:56:48.517Z"
   },
   {
    "duration": 0,
    "start_time": "2023-04-05T17:56:48.518Z"
   },
   {
    "duration": 0,
    "start_time": "2023-04-05T17:56:48.518Z"
   },
   {
    "duration": 0,
    "start_time": "2023-04-05T17:56:48.520Z"
   },
   {
    "duration": 0,
    "start_time": "2023-04-05T17:56:48.521Z"
   },
   {
    "duration": 0,
    "start_time": "2023-04-05T17:56:48.521Z"
   },
   {
    "duration": 0,
    "start_time": "2023-04-05T17:56:48.522Z"
   },
   {
    "duration": 0,
    "start_time": "2023-04-05T17:56:48.523Z"
   },
   {
    "duration": 0,
    "start_time": "2023-04-05T17:56:48.524Z"
   },
   {
    "duration": 0,
    "start_time": "2023-04-05T17:56:48.525Z"
   },
   {
    "duration": 0,
    "start_time": "2023-04-05T17:56:48.527Z"
   },
   {
    "duration": 0,
    "start_time": "2023-04-05T17:56:48.528Z"
   },
   {
    "duration": 688,
    "start_time": "2023-04-05T17:57:09.161Z"
   }
  ],
  "colab": {
   "provenance": []
  },
  "kernelspec": {
   "display_name": "Python 3 (ipykernel)",
   "language": "python",
   "name": "python3"
  },
  "language_info": {
   "codemirror_mode": {
    "name": "ipython",
    "version": 3
   },
   "file_extension": ".py",
   "mimetype": "text/x-python",
   "name": "python",
   "nbconvert_exporter": "python",
   "pygments_lexer": "ipython3",
   "version": "3.9.13"
  },
  "toc": {
   "base_numbering": 1,
   "nav_menu": {},
   "number_sections": true,
   "sideBar": true,
   "skip_h1_title": true,
   "title_cell": "Table of Contents",
   "title_sidebar": "Contents",
   "toc_cell": false,
   "toc_position": {
    "height": "calc(100% - 180px)",
    "left": "10px",
    "top": "150px",
    "width": "165px"
   },
   "toc_section_display": true,
   "toc_window_display": true
  }
 },
 "nbformat": 4,
 "nbformat_minor": 1
}
