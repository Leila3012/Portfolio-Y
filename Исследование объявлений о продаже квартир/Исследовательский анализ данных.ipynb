{
 "cells": [
  {
   "cell_type": "markdown",
   "metadata": {},
   "source": [
    "# Исследование объявлений о продаже квартир\n",
    "\n",
    "В вашем распоряжении данные сервиса Яндекс.Недвижимость — архив объявлений о продаже квартир в Санкт-Петербурге и соседних населённых пунктов за несколько лет. Нужно научиться определять рыночную стоимость объектов недвижимости. Ваша задача — установить параметры. Это позволит построить автоматизированную систему: она отследит аномалии и мошенническую деятельность. \n",
    "\n",
    "По каждой квартире на продажу доступны два вида данных. Первые вписаны пользователем, вторые — получены автоматически на основе картографических данных. Например, расстояние до центра, аэропорта, ближайшего парка и водоёма. "
   ]
  },
  {
   "cell_type": "markdown",
   "metadata": {},
   "source": [
    "### Откройте файл с данными и изучите общую информацию. "
   ]
  },
  {
   "cell_type": "code",
   "execution_count": 1,
   "metadata": {},
   "outputs": [],
   "source": [
    "import pandas as pd \n",
    "import matplotlib.pyplot as plt"
   ]
  },
  {
   "cell_type": "code",
   "execution_count": 2,
   "metadata": {},
   "outputs": [],
   "source": [
    "data=pd.read_csv('/datasets/real_estate_data.csv',sep='\\t')"
   ]
  },
  {
   "cell_type": "code",
   "execution_count": 3,
   "metadata": {
    "scrolled": false
   },
   "outputs": [
    {
     "data": {
      "text/html": [
       "<div>\n",
       "<style scoped>\n",
       "    .dataframe tbody tr th:only-of-type {\n",
       "        vertical-align: middle;\n",
       "    }\n",
       "\n",
       "    .dataframe tbody tr th {\n",
       "        vertical-align: top;\n",
       "    }\n",
       "\n",
       "    .dataframe thead th {\n",
       "        text-align: right;\n",
       "    }\n",
       "</style>\n",
       "<table border=\"1\" class=\"dataframe\">\n",
       "  <thead>\n",
       "    <tr style=\"text-align: right;\">\n",
       "      <th></th>\n",
       "      <th>total_images</th>\n",
       "      <th>last_price</th>\n",
       "      <th>total_area</th>\n",
       "      <th>first_day_exposition</th>\n",
       "      <th>rooms</th>\n",
       "      <th>ceiling_height</th>\n",
       "      <th>floors_total</th>\n",
       "      <th>living_area</th>\n",
       "      <th>floor</th>\n",
       "      <th>is_apartment</th>\n",
       "      <th>...</th>\n",
       "      <th>kitchen_area</th>\n",
       "      <th>balcony</th>\n",
       "      <th>locality_name</th>\n",
       "      <th>airports_nearest</th>\n",
       "      <th>cityCenters_nearest</th>\n",
       "      <th>parks_around3000</th>\n",
       "      <th>parks_nearest</th>\n",
       "      <th>ponds_around3000</th>\n",
       "      <th>ponds_nearest</th>\n",
       "      <th>days_exposition</th>\n",
       "    </tr>\n",
       "  </thead>\n",
       "  <tbody>\n",
       "    <tr>\n",
       "      <th>0</th>\n",
       "      <td>20</td>\n",
       "      <td>13000000.0</td>\n",
       "      <td>108.00</td>\n",
       "      <td>2019-03-07T00:00:00</td>\n",
       "      <td>3</td>\n",
       "      <td>2.70</td>\n",
       "      <td>16.0</td>\n",
       "      <td>51.00</td>\n",
       "      <td>8</td>\n",
       "      <td>NaN</td>\n",
       "      <td>...</td>\n",
       "      <td>25.00</td>\n",
       "      <td>NaN</td>\n",
       "      <td>Санкт-Петербург</td>\n",
       "      <td>18863.0</td>\n",
       "      <td>16028.0</td>\n",
       "      <td>1.0</td>\n",
       "      <td>482.0</td>\n",
       "      <td>2.0</td>\n",
       "      <td>755.0</td>\n",
       "      <td>NaN</td>\n",
       "    </tr>\n",
       "    <tr>\n",
       "      <th>1</th>\n",
       "      <td>7</td>\n",
       "      <td>3350000.0</td>\n",
       "      <td>40.40</td>\n",
       "      <td>2018-12-04T00:00:00</td>\n",
       "      <td>1</td>\n",
       "      <td>NaN</td>\n",
       "      <td>11.0</td>\n",
       "      <td>18.60</td>\n",
       "      <td>1</td>\n",
       "      <td>NaN</td>\n",
       "      <td>...</td>\n",
       "      <td>11.00</td>\n",
       "      <td>2.0</td>\n",
       "      <td>посёлок Шушары</td>\n",
       "      <td>12817.0</td>\n",
       "      <td>18603.0</td>\n",
       "      <td>0.0</td>\n",
       "      <td>NaN</td>\n",
       "      <td>0.0</td>\n",
       "      <td>NaN</td>\n",
       "      <td>81.0</td>\n",
       "    </tr>\n",
       "    <tr>\n",
       "      <th>2</th>\n",
       "      <td>10</td>\n",
       "      <td>5196000.0</td>\n",
       "      <td>56.00</td>\n",
       "      <td>2015-08-20T00:00:00</td>\n",
       "      <td>2</td>\n",
       "      <td>NaN</td>\n",
       "      <td>5.0</td>\n",
       "      <td>34.30</td>\n",
       "      <td>4</td>\n",
       "      <td>NaN</td>\n",
       "      <td>...</td>\n",
       "      <td>8.30</td>\n",
       "      <td>0.0</td>\n",
       "      <td>Санкт-Петербург</td>\n",
       "      <td>21741.0</td>\n",
       "      <td>13933.0</td>\n",
       "      <td>1.0</td>\n",
       "      <td>90.0</td>\n",
       "      <td>2.0</td>\n",
       "      <td>574.0</td>\n",
       "      <td>558.0</td>\n",
       "    </tr>\n",
       "    <tr>\n",
       "      <th>3</th>\n",
       "      <td>0</td>\n",
       "      <td>64900000.0</td>\n",
       "      <td>159.00</td>\n",
       "      <td>2015-07-24T00:00:00</td>\n",
       "      <td>3</td>\n",
       "      <td>NaN</td>\n",
       "      <td>14.0</td>\n",
       "      <td>NaN</td>\n",
       "      <td>9</td>\n",
       "      <td>NaN</td>\n",
       "      <td>...</td>\n",
       "      <td>NaN</td>\n",
       "      <td>0.0</td>\n",
       "      <td>Санкт-Петербург</td>\n",
       "      <td>28098.0</td>\n",
       "      <td>6800.0</td>\n",
       "      <td>2.0</td>\n",
       "      <td>84.0</td>\n",
       "      <td>3.0</td>\n",
       "      <td>234.0</td>\n",
       "      <td>424.0</td>\n",
       "    </tr>\n",
       "    <tr>\n",
       "      <th>4</th>\n",
       "      <td>2</td>\n",
       "      <td>10000000.0</td>\n",
       "      <td>100.00</td>\n",
       "      <td>2018-06-19T00:00:00</td>\n",
       "      <td>2</td>\n",
       "      <td>3.03</td>\n",
       "      <td>14.0</td>\n",
       "      <td>32.00</td>\n",
       "      <td>13</td>\n",
       "      <td>NaN</td>\n",
       "      <td>...</td>\n",
       "      <td>41.00</td>\n",
       "      <td>NaN</td>\n",
       "      <td>Санкт-Петербург</td>\n",
       "      <td>31856.0</td>\n",
       "      <td>8098.0</td>\n",
       "      <td>2.0</td>\n",
       "      <td>112.0</td>\n",
       "      <td>1.0</td>\n",
       "      <td>48.0</td>\n",
       "      <td>121.0</td>\n",
       "    </tr>\n",
       "    <tr>\n",
       "      <th>5</th>\n",
       "      <td>10</td>\n",
       "      <td>2890000.0</td>\n",
       "      <td>30.40</td>\n",
       "      <td>2018-09-10T00:00:00</td>\n",
       "      <td>1</td>\n",
       "      <td>NaN</td>\n",
       "      <td>12.0</td>\n",
       "      <td>14.40</td>\n",
       "      <td>5</td>\n",
       "      <td>NaN</td>\n",
       "      <td>...</td>\n",
       "      <td>9.10</td>\n",
       "      <td>NaN</td>\n",
       "      <td>городской посёлок Янино-1</td>\n",
       "      <td>NaN</td>\n",
       "      <td>NaN</td>\n",
       "      <td>NaN</td>\n",
       "      <td>NaN</td>\n",
       "      <td>NaN</td>\n",
       "      <td>NaN</td>\n",
       "      <td>55.0</td>\n",
       "    </tr>\n",
       "    <tr>\n",
       "      <th>6</th>\n",
       "      <td>6</td>\n",
       "      <td>3700000.0</td>\n",
       "      <td>37.30</td>\n",
       "      <td>2017-11-02T00:00:00</td>\n",
       "      <td>1</td>\n",
       "      <td>NaN</td>\n",
       "      <td>26.0</td>\n",
       "      <td>10.60</td>\n",
       "      <td>6</td>\n",
       "      <td>NaN</td>\n",
       "      <td>...</td>\n",
       "      <td>14.40</td>\n",
       "      <td>1.0</td>\n",
       "      <td>посёлок Парголово</td>\n",
       "      <td>52996.0</td>\n",
       "      <td>19143.0</td>\n",
       "      <td>0.0</td>\n",
       "      <td>NaN</td>\n",
       "      <td>0.0</td>\n",
       "      <td>NaN</td>\n",
       "      <td>155.0</td>\n",
       "    </tr>\n",
       "    <tr>\n",
       "      <th>7</th>\n",
       "      <td>5</td>\n",
       "      <td>7915000.0</td>\n",
       "      <td>71.60</td>\n",
       "      <td>2019-04-18T00:00:00</td>\n",
       "      <td>2</td>\n",
       "      <td>NaN</td>\n",
       "      <td>24.0</td>\n",
       "      <td>NaN</td>\n",
       "      <td>22</td>\n",
       "      <td>NaN</td>\n",
       "      <td>...</td>\n",
       "      <td>18.90</td>\n",
       "      <td>2.0</td>\n",
       "      <td>Санкт-Петербург</td>\n",
       "      <td>23982.0</td>\n",
       "      <td>11634.0</td>\n",
       "      <td>0.0</td>\n",
       "      <td>NaN</td>\n",
       "      <td>0.0</td>\n",
       "      <td>NaN</td>\n",
       "      <td>NaN</td>\n",
       "    </tr>\n",
       "    <tr>\n",
       "      <th>8</th>\n",
       "      <td>20</td>\n",
       "      <td>2900000.0</td>\n",
       "      <td>33.16</td>\n",
       "      <td>2018-05-23T00:00:00</td>\n",
       "      <td>1</td>\n",
       "      <td>NaN</td>\n",
       "      <td>27.0</td>\n",
       "      <td>15.43</td>\n",
       "      <td>26</td>\n",
       "      <td>NaN</td>\n",
       "      <td>...</td>\n",
       "      <td>8.81</td>\n",
       "      <td>NaN</td>\n",
       "      <td>посёлок Мурино</td>\n",
       "      <td>NaN</td>\n",
       "      <td>NaN</td>\n",
       "      <td>NaN</td>\n",
       "      <td>NaN</td>\n",
       "      <td>NaN</td>\n",
       "      <td>NaN</td>\n",
       "      <td>189.0</td>\n",
       "    </tr>\n",
       "    <tr>\n",
       "      <th>9</th>\n",
       "      <td>18</td>\n",
       "      <td>5400000.0</td>\n",
       "      <td>61.00</td>\n",
       "      <td>2017-02-26T00:00:00</td>\n",
       "      <td>3</td>\n",
       "      <td>2.50</td>\n",
       "      <td>9.0</td>\n",
       "      <td>43.60</td>\n",
       "      <td>7</td>\n",
       "      <td>NaN</td>\n",
       "      <td>...</td>\n",
       "      <td>6.50</td>\n",
       "      <td>2.0</td>\n",
       "      <td>Санкт-Петербург</td>\n",
       "      <td>50898.0</td>\n",
       "      <td>15008.0</td>\n",
       "      <td>0.0</td>\n",
       "      <td>NaN</td>\n",
       "      <td>0.0</td>\n",
       "      <td>NaN</td>\n",
       "      <td>289.0</td>\n",
       "    </tr>\n",
       "    <tr>\n",
       "      <th>10</th>\n",
       "      <td>5</td>\n",
       "      <td>5050000.0</td>\n",
       "      <td>39.60</td>\n",
       "      <td>2017-11-16T00:00:00</td>\n",
       "      <td>1</td>\n",
       "      <td>2.67</td>\n",
       "      <td>12.0</td>\n",
       "      <td>20.30</td>\n",
       "      <td>3</td>\n",
       "      <td>NaN</td>\n",
       "      <td>...</td>\n",
       "      <td>8.50</td>\n",
       "      <td>NaN</td>\n",
       "      <td>Санкт-Петербург</td>\n",
       "      <td>38357.0</td>\n",
       "      <td>13878.0</td>\n",
       "      <td>1.0</td>\n",
       "      <td>310.0</td>\n",
       "      <td>2.0</td>\n",
       "      <td>553.0</td>\n",
       "      <td>137.0</td>\n",
       "    </tr>\n",
       "    <tr>\n",
       "      <th>11</th>\n",
       "      <td>9</td>\n",
       "      <td>3300000.0</td>\n",
       "      <td>44.00</td>\n",
       "      <td>2018-08-27T00:00:00</td>\n",
       "      <td>2</td>\n",
       "      <td>NaN</td>\n",
       "      <td>5.0</td>\n",
       "      <td>31.00</td>\n",
       "      <td>4</td>\n",
       "      <td>False</td>\n",
       "      <td>...</td>\n",
       "      <td>6.00</td>\n",
       "      <td>1.0</td>\n",
       "      <td>Ломоносов</td>\n",
       "      <td>48252.0</td>\n",
       "      <td>51677.0</td>\n",
       "      <td>0.0</td>\n",
       "      <td>NaN</td>\n",
       "      <td>0.0</td>\n",
       "      <td>NaN</td>\n",
       "      <td>7.0</td>\n",
       "    </tr>\n",
       "    <tr>\n",
       "      <th>12</th>\n",
       "      <td>10</td>\n",
       "      <td>3890000.0</td>\n",
       "      <td>54.00</td>\n",
       "      <td>2016-06-30T00:00:00</td>\n",
       "      <td>2</td>\n",
       "      <td>NaN</td>\n",
       "      <td>5.0</td>\n",
       "      <td>30.00</td>\n",
       "      <td>5</td>\n",
       "      <td>NaN</td>\n",
       "      <td>...</td>\n",
       "      <td>9.00</td>\n",
       "      <td>0.0</td>\n",
       "      <td>Сертолово</td>\n",
       "      <td>NaN</td>\n",
       "      <td>NaN</td>\n",
       "      <td>NaN</td>\n",
       "      <td>NaN</td>\n",
       "      <td>NaN</td>\n",
       "      <td>NaN</td>\n",
       "      <td>90.0</td>\n",
       "    </tr>\n",
       "    <tr>\n",
       "      <th>13</th>\n",
       "      <td>20</td>\n",
       "      <td>3550000.0</td>\n",
       "      <td>42.80</td>\n",
       "      <td>2017-07-01T00:00:00</td>\n",
       "      <td>2</td>\n",
       "      <td>2.56</td>\n",
       "      <td>5.0</td>\n",
       "      <td>27.00</td>\n",
       "      <td>5</td>\n",
       "      <td>NaN</td>\n",
       "      <td>...</td>\n",
       "      <td>5.20</td>\n",
       "      <td>1.0</td>\n",
       "      <td>Петергоф</td>\n",
       "      <td>37868.0</td>\n",
       "      <td>33058.0</td>\n",
       "      <td>1.0</td>\n",
       "      <td>294.0</td>\n",
       "      <td>3.0</td>\n",
       "      <td>298.0</td>\n",
       "      <td>366.0</td>\n",
       "    </tr>\n",
       "    <tr>\n",
       "      <th>14</th>\n",
       "      <td>1</td>\n",
       "      <td>4400000.0</td>\n",
       "      <td>36.00</td>\n",
       "      <td>2016-06-23T00:00:00</td>\n",
       "      <td>1</td>\n",
       "      <td>NaN</td>\n",
       "      <td>6.0</td>\n",
       "      <td>17.00</td>\n",
       "      <td>1</td>\n",
       "      <td>NaN</td>\n",
       "      <td>...</td>\n",
       "      <td>8.00</td>\n",
       "      <td>0.0</td>\n",
       "      <td>Пушкин</td>\n",
       "      <td>20782.0</td>\n",
       "      <td>30759.0</td>\n",
       "      <td>0.0</td>\n",
       "      <td>NaN</td>\n",
       "      <td>1.0</td>\n",
       "      <td>96.0</td>\n",
       "      <td>203.0</td>\n",
       "    </tr>\n",
       "    <tr>\n",
       "      <th>15</th>\n",
       "      <td>16</td>\n",
       "      <td>4650000.0</td>\n",
       "      <td>39.00</td>\n",
       "      <td>2017-11-18T00:00:00</td>\n",
       "      <td>1</td>\n",
       "      <td>NaN</td>\n",
       "      <td>14.0</td>\n",
       "      <td>20.50</td>\n",
       "      <td>5</td>\n",
       "      <td>NaN</td>\n",
       "      <td>...</td>\n",
       "      <td>7.60</td>\n",
       "      <td>1.0</td>\n",
       "      <td>Санкт-Петербург</td>\n",
       "      <td>12900.0</td>\n",
       "      <td>14259.0</td>\n",
       "      <td>1.0</td>\n",
       "      <td>590.0</td>\n",
       "      <td>1.0</td>\n",
       "      <td>296.0</td>\n",
       "      <td>19.0</td>\n",
       "    </tr>\n",
       "    <tr>\n",
       "      <th>16</th>\n",
       "      <td>11</td>\n",
       "      <td>6700000.0</td>\n",
       "      <td>82.00</td>\n",
       "      <td>2017-11-23T00:00:00</td>\n",
       "      <td>3</td>\n",
       "      <td>3.05</td>\n",
       "      <td>5.0</td>\n",
       "      <td>55.60</td>\n",
       "      <td>1</td>\n",
       "      <td>NaN</td>\n",
       "      <td>...</td>\n",
       "      <td>9.00</td>\n",
       "      <td>NaN</td>\n",
       "      <td>Санкт-Петербург</td>\n",
       "      <td>22108.0</td>\n",
       "      <td>10698.0</td>\n",
       "      <td>3.0</td>\n",
       "      <td>420.0</td>\n",
       "      <td>0.0</td>\n",
       "      <td>NaN</td>\n",
       "      <td>397.0</td>\n",
       "    </tr>\n",
       "    <tr>\n",
       "      <th>17</th>\n",
       "      <td>6</td>\n",
       "      <td>4180000.0</td>\n",
       "      <td>36.00</td>\n",
       "      <td>2016-09-09T00:00:00</td>\n",
       "      <td>1</td>\n",
       "      <td>NaN</td>\n",
       "      <td>17.0</td>\n",
       "      <td>16.50</td>\n",
       "      <td>7</td>\n",
       "      <td>NaN</td>\n",
       "      <td>...</td>\n",
       "      <td>11.00</td>\n",
       "      <td>1.0</td>\n",
       "      <td>Санкт-Петербург</td>\n",
       "      <td>33564.0</td>\n",
       "      <td>14616.0</td>\n",
       "      <td>0.0</td>\n",
       "      <td>NaN</td>\n",
       "      <td>1.0</td>\n",
       "      <td>859.0</td>\n",
       "      <td>571.0</td>\n",
       "    </tr>\n",
       "    <tr>\n",
       "      <th>18</th>\n",
       "      <td>8</td>\n",
       "      <td>3250000.0</td>\n",
       "      <td>31.00</td>\n",
       "      <td>2017-01-27T00:00:00</td>\n",
       "      <td>1</td>\n",
       "      <td>2.50</td>\n",
       "      <td>5.0</td>\n",
       "      <td>19.40</td>\n",
       "      <td>2</td>\n",
       "      <td>NaN</td>\n",
       "      <td>...</td>\n",
       "      <td>5.60</td>\n",
       "      <td>1.0</td>\n",
       "      <td>Санкт-Петербург</td>\n",
       "      <td>44060.0</td>\n",
       "      <td>10842.0</td>\n",
       "      <td>1.0</td>\n",
       "      <td>759.0</td>\n",
       "      <td>0.0</td>\n",
       "      <td>NaN</td>\n",
       "      <td>168.0</td>\n",
       "    </tr>\n",
       "    <tr>\n",
       "      <th>19</th>\n",
       "      <td>16</td>\n",
       "      <td>14200000.0</td>\n",
       "      <td>121.00</td>\n",
       "      <td>2019-01-09T00:00:00</td>\n",
       "      <td>3</td>\n",
       "      <td>2.75</td>\n",
       "      <td>16.0</td>\n",
       "      <td>76.00</td>\n",
       "      <td>8</td>\n",
       "      <td>NaN</td>\n",
       "      <td>...</td>\n",
       "      <td>12.00</td>\n",
       "      <td>NaN</td>\n",
       "      <td>Санкт-Петербург</td>\n",
       "      <td>38900.0</td>\n",
       "      <td>12843.0</td>\n",
       "      <td>0.0</td>\n",
       "      <td>NaN</td>\n",
       "      <td>0.0</td>\n",
       "      <td>NaN</td>\n",
       "      <td>97.0</td>\n",
       "    </tr>\n",
       "  </tbody>\n",
       "</table>\n",
       "<p>20 rows × 22 columns</p>\n",
       "</div>"
      ],
      "text/plain": [
       "    total_images  last_price  total_area first_day_exposition  rooms  \\\n",
       "0             20  13000000.0      108.00  2019-03-07T00:00:00      3   \n",
       "1              7   3350000.0       40.40  2018-12-04T00:00:00      1   \n",
       "2             10   5196000.0       56.00  2015-08-20T00:00:00      2   \n",
       "3              0  64900000.0      159.00  2015-07-24T00:00:00      3   \n",
       "4              2  10000000.0      100.00  2018-06-19T00:00:00      2   \n",
       "5             10   2890000.0       30.40  2018-09-10T00:00:00      1   \n",
       "6              6   3700000.0       37.30  2017-11-02T00:00:00      1   \n",
       "7              5   7915000.0       71.60  2019-04-18T00:00:00      2   \n",
       "8             20   2900000.0       33.16  2018-05-23T00:00:00      1   \n",
       "9             18   5400000.0       61.00  2017-02-26T00:00:00      3   \n",
       "10             5   5050000.0       39.60  2017-11-16T00:00:00      1   \n",
       "11             9   3300000.0       44.00  2018-08-27T00:00:00      2   \n",
       "12            10   3890000.0       54.00  2016-06-30T00:00:00      2   \n",
       "13            20   3550000.0       42.80  2017-07-01T00:00:00      2   \n",
       "14             1   4400000.0       36.00  2016-06-23T00:00:00      1   \n",
       "15            16   4650000.0       39.00  2017-11-18T00:00:00      1   \n",
       "16            11   6700000.0       82.00  2017-11-23T00:00:00      3   \n",
       "17             6   4180000.0       36.00  2016-09-09T00:00:00      1   \n",
       "18             8   3250000.0       31.00  2017-01-27T00:00:00      1   \n",
       "19            16  14200000.0      121.00  2019-01-09T00:00:00      3   \n",
       "\n",
       "    ceiling_height  floors_total  living_area  floor is_apartment  ...  \\\n",
       "0             2.70          16.0        51.00      8          NaN  ...   \n",
       "1              NaN          11.0        18.60      1          NaN  ...   \n",
       "2              NaN           5.0        34.30      4          NaN  ...   \n",
       "3              NaN          14.0          NaN      9          NaN  ...   \n",
       "4             3.03          14.0        32.00     13          NaN  ...   \n",
       "5              NaN          12.0        14.40      5          NaN  ...   \n",
       "6              NaN          26.0        10.60      6          NaN  ...   \n",
       "7              NaN          24.0          NaN     22          NaN  ...   \n",
       "8              NaN          27.0        15.43     26          NaN  ...   \n",
       "9             2.50           9.0        43.60      7          NaN  ...   \n",
       "10            2.67          12.0        20.30      3          NaN  ...   \n",
       "11             NaN           5.0        31.00      4        False  ...   \n",
       "12             NaN           5.0        30.00      5          NaN  ...   \n",
       "13            2.56           5.0        27.00      5          NaN  ...   \n",
       "14             NaN           6.0        17.00      1          NaN  ...   \n",
       "15             NaN          14.0        20.50      5          NaN  ...   \n",
       "16            3.05           5.0        55.60      1          NaN  ...   \n",
       "17             NaN          17.0        16.50      7          NaN  ...   \n",
       "18            2.50           5.0        19.40      2          NaN  ...   \n",
       "19            2.75          16.0        76.00      8          NaN  ...   \n",
       "\n",
       "    kitchen_area  balcony              locality_name  airports_nearest  \\\n",
       "0          25.00      NaN            Санкт-Петербург           18863.0   \n",
       "1          11.00      2.0             посёлок Шушары           12817.0   \n",
       "2           8.30      0.0            Санкт-Петербург           21741.0   \n",
       "3            NaN      0.0            Санкт-Петербург           28098.0   \n",
       "4          41.00      NaN            Санкт-Петербург           31856.0   \n",
       "5           9.10      NaN  городской посёлок Янино-1               NaN   \n",
       "6          14.40      1.0          посёлок Парголово           52996.0   \n",
       "7          18.90      2.0            Санкт-Петербург           23982.0   \n",
       "8           8.81      NaN             посёлок Мурино               NaN   \n",
       "9           6.50      2.0            Санкт-Петербург           50898.0   \n",
       "10          8.50      NaN            Санкт-Петербург           38357.0   \n",
       "11          6.00      1.0                  Ломоносов           48252.0   \n",
       "12          9.00      0.0                  Сертолово               NaN   \n",
       "13          5.20      1.0                   Петергоф           37868.0   \n",
       "14          8.00      0.0                     Пушкин           20782.0   \n",
       "15          7.60      1.0            Санкт-Петербург           12900.0   \n",
       "16          9.00      NaN            Санкт-Петербург           22108.0   \n",
       "17         11.00      1.0            Санкт-Петербург           33564.0   \n",
       "18          5.60      1.0            Санкт-Петербург           44060.0   \n",
       "19         12.00      NaN            Санкт-Петербург           38900.0   \n",
       "\n",
       "   cityCenters_nearest  parks_around3000  parks_nearest  ponds_around3000  \\\n",
       "0              16028.0               1.0          482.0               2.0   \n",
       "1              18603.0               0.0            NaN               0.0   \n",
       "2              13933.0               1.0           90.0               2.0   \n",
       "3               6800.0               2.0           84.0               3.0   \n",
       "4               8098.0               2.0          112.0               1.0   \n",
       "5                  NaN               NaN            NaN               NaN   \n",
       "6              19143.0               0.0            NaN               0.0   \n",
       "7              11634.0               0.0            NaN               0.0   \n",
       "8                  NaN               NaN            NaN               NaN   \n",
       "9              15008.0               0.0            NaN               0.0   \n",
       "10             13878.0               1.0          310.0               2.0   \n",
       "11             51677.0               0.0            NaN               0.0   \n",
       "12                 NaN               NaN            NaN               NaN   \n",
       "13             33058.0               1.0          294.0               3.0   \n",
       "14             30759.0               0.0            NaN               1.0   \n",
       "15             14259.0               1.0          590.0               1.0   \n",
       "16             10698.0               3.0          420.0               0.0   \n",
       "17             14616.0               0.0            NaN               1.0   \n",
       "18             10842.0               1.0          759.0               0.0   \n",
       "19             12843.0               0.0            NaN               0.0   \n",
       "\n",
       "    ponds_nearest  days_exposition  \n",
       "0           755.0              NaN  \n",
       "1             NaN             81.0  \n",
       "2           574.0            558.0  \n",
       "3           234.0            424.0  \n",
       "4            48.0            121.0  \n",
       "5             NaN             55.0  \n",
       "6             NaN            155.0  \n",
       "7             NaN              NaN  \n",
       "8             NaN            189.0  \n",
       "9             NaN            289.0  \n",
       "10          553.0            137.0  \n",
       "11            NaN              7.0  \n",
       "12            NaN             90.0  \n",
       "13          298.0            366.0  \n",
       "14           96.0            203.0  \n",
       "15          296.0             19.0  \n",
       "16            NaN            397.0  \n",
       "17          859.0            571.0  \n",
       "18            NaN            168.0  \n",
       "19            NaN             97.0  \n",
       "\n",
       "[20 rows x 22 columns]"
      ]
     },
     "execution_count": 3,
     "metadata": {},
     "output_type": "execute_result"
    }
   ],
   "source": [
    "data.head(20)"
   ]
  },
  {
   "cell_type": "code",
   "execution_count": 4,
   "metadata": {},
   "outputs": [
    {
     "name": "stdout",
     "output_type": "stream",
     "text": [
      "<class 'pandas.core.frame.DataFrame'>\n",
      "RangeIndex: 23699 entries, 0 to 23698\n",
      "Data columns (total 22 columns):\n",
      " #   Column                Non-Null Count  Dtype  \n",
      "---  ------                --------------  -----  \n",
      " 0   total_images          23699 non-null  int64  \n",
      " 1   last_price            23699 non-null  float64\n",
      " 2   total_area            23699 non-null  float64\n",
      " 3   first_day_exposition  23699 non-null  object \n",
      " 4   rooms                 23699 non-null  int64  \n",
      " 5   ceiling_height        14504 non-null  float64\n",
      " 6   floors_total          23613 non-null  float64\n",
      " 7   living_area           21796 non-null  float64\n",
      " 8   floor                 23699 non-null  int64  \n",
      " 9   is_apartment          2775 non-null   object \n",
      " 10  studio                23699 non-null  bool   \n",
      " 11  open_plan             23699 non-null  bool   \n",
      " 12  kitchen_area          21421 non-null  float64\n",
      " 13  balcony               12180 non-null  float64\n",
      " 14  locality_name         23650 non-null  object \n",
      " 15  airports_nearest      18157 non-null  float64\n",
      " 16  cityCenters_nearest   18180 non-null  float64\n",
      " 17  parks_around3000      18181 non-null  float64\n",
      " 18  parks_nearest         8079 non-null   float64\n",
      " 19  ponds_around3000      18181 non-null  float64\n",
      " 20  ponds_nearest         9110 non-null   float64\n",
      " 21  days_exposition       20518 non-null  float64\n",
      "dtypes: bool(2), float64(14), int64(3), object(3)\n",
      "memory usage: 3.7+ MB\n"
     ]
    }
   ],
   "source": [
    "data.info()"
   ]
  },
  {
   "cell_type": "code",
   "execution_count": 5,
   "metadata": {
    "scrolled": false
   },
   "outputs": [
    {
     "data": {
      "image/png": "[encoded data removed]",
      "text/plain": [
       "<Figure size 1080x1440 with 20 Axes>"
      ]
     },
     "metadata": {
      "needs_background": "light"
     },
     "output_type": "display_data"
    }
   ],
   "source": [
    "data.hist(figsize=(15, 20));"
   ]
  },
  {
   "cell_type": "markdown",
   "metadata": {},
   "source": [
    "### Предобработка данных"
   ]
  },
  {
   "cell_type": "code",
   "execution_count": 6,
   "metadata": {
    "scrolled": true
   },
   "outputs": [
    {
     "name": "stdout",
     "output_type": "stream",
     "text": [
      "total_images                0\n",
      "last_price                  0\n",
      "total_area                  0\n",
      "first_day_exposition        0\n",
      "rooms                       0\n",
      "ceiling_height           9195\n",
      "floors_total               86\n",
      "living_area              1903\n",
      "floor                       0\n",
      "is_apartment            20924\n",
      "studio                      0\n",
      "open_plan                   0\n",
      "kitchen_area             2278\n",
      "balcony                 11519\n",
      "locality_name              49\n",
      "airports_nearest         5542\n",
      "cityCenters_nearest      5519\n",
      "parks_around3000         5518\n",
      "parks_nearest           15620\n",
      "ponds_around3000         5518\n",
      "ponds_nearest           14589\n",
      "days_exposition          3181\n",
      "dtype: int64\n"
     ]
    }
   ],
   "source": [
    "print(data.isnull().sum())"
   ]
  },
  {
   "cell_type": "code",
   "execution_count": 7,
   "metadata": {},
   "outputs": [
    {
     "data": {
      "text/html": [
       "<style  type=\"text/css\" >\n",
       "#T_4a594_row0_col0,#T_4a594_row1_col0,#T_4a594_row2_col0,#T_4a594_row3_col0,#T_4a594_row4_col0,#T_4a594_row8_col0,#T_4a594_row10_col0,#T_4a594_row11_col0,#T_4a594_row14_col0{\n",
       "            background-color:  #3b4cc0;\n",
       "            color:  #f1f1f1;\n",
       "        }#T_4a594_row5_col0{\n",
       "            background-color:  #ccd9ed;\n",
       "            color:  #000000;\n",
       "        }#T_4a594_row6_col0{\n",
       "            background-color:  #3c4ec2;\n",
       "            color:  #f1f1f1;\n",
       "        }#T_4a594_row7_col0{\n",
       "            background-color:  #5673e0;\n",
       "            color:  #000000;\n",
       "        }#T_4a594_row9_col0{\n",
       "            background-color:  #b40426;\n",
       "            color:  #f1f1f1;\n",
       "        }#T_4a594_row12_col0{\n",
       "            background-color:  #5b7ae5;\n",
       "            color:  #000000;\n",
       "        }#T_4a594_row13_col0{\n",
       "            background-color:  #e9d5cb;\n",
       "            color:  #000000;\n",
       "        }#T_4a594_row15_col0,#T_4a594_row16_col0,#T_4a594_row17_col0,#T_4a594_row19_col0{\n",
       "            background-color:  #92b4fe;\n",
       "            color:  #000000;\n",
       "        }#T_4a594_row18_col0{\n",
       "            background-color:  #f49a7b;\n",
       "            color:  #000000;\n",
       "        }#T_4a594_row20_col0{\n",
       "            background-color:  #f7ad90;\n",
       "            color:  #000000;\n",
       "        }#T_4a594_row21_col0{\n",
       "            background-color:  #6a8bef;\n",
       "            color:  #000000;\n",
       "        }</style><table id=\"T_4a594_\" ><thead>    <tr>        <th class=\"blank level0\" ></th>        <th class=\"col_heading level0 col0\" >0</th>    </tr></thead><tbody>\n",
       "                <tr>\n",
       "                        <th id=\"T_4a594_level0_row0\" class=\"row_heading level0 row0\" >total_images</th>\n",
       "                        <td id=\"T_4a594_row0_col0\" class=\"data row0 col0\" >0.0</td>\n",
       "            </tr>\n",
       "            <tr>\n",
       "                        <th id=\"T_4a594_level0_row1\" class=\"row_heading level0 row1\" >last_price</th>\n",
       "                        <td id=\"T_4a594_row1_col0\" class=\"data row1 col0\" >0.0</td>\n",
       "            </tr>\n",
       "            <tr>\n",
       "                        <th id=\"T_4a594_level0_row2\" class=\"row_heading level0 row2\" >total_area</th>\n",
       "                        <td id=\"T_4a594_row2_col0\" class=\"data row2 col0\" >0.0</td>\n",
       "            </tr>\n",
       "            <tr>\n",
       "                        <th id=\"T_4a594_level0_row3\" class=\"row_heading level0 row3\" >first_day_exposition</th>\n",
       "                        <td id=\"T_4a594_row3_col0\" class=\"data row3 col0\" >0.0</td>\n",
       "            </tr>\n",
       "            <tr>\n",
       "                        <th id=\"T_4a594_level0_row4\" class=\"row_heading level0 row4\" >rooms</th>\n",
       "                        <td id=\"T_4a594_row4_col0\" class=\"data row4 col0\" >0.0</td>\n",
       "            </tr>\n",
       "            <tr>\n",
       "                        <th id=\"T_4a594_level0_row5\" class=\"row_heading level0 row5\" >ceiling_height</th>\n",
       "                        <td id=\"T_4a594_row5_col0\" class=\"data row5 col0\" >38.8</td>\n",
       "            </tr>\n",
       "            <tr>\n",
       "                        <th id=\"T_4a594_level0_row6\" class=\"row_heading level0 row6\" >floors_total</th>\n",
       "                        <td id=\"T_4a594_row6_col0\" class=\"data row6 col0\" >0.4</td>\n",
       "            </tr>\n",
       "            <tr>\n",
       "                        <th id=\"T_4a594_level0_row7\" class=\"row_heading level0 row7\" >living_area</th>\n",
       "                        <td id=\"T_4a594_row7_col0\" class=\"data row7 col0\" >8.0</td>\n",
       "            </tr>\n",
       "            <tr>\n",
       "                        <th id=\"T_4a594_level0_row8\" class=\"row_heading level0 row8\" >floor</th>\n",
       "                        <td id=\"T_4a594_row8_col0\" class=\"data row8 col0\" >0.0</td>\n",
       "            </tr>\n",
       "            <tr>\n",
       "                        <th id=\"T_4a594_level0_row9\" class=\"row_heading level0 row9\" >is_apartment</th>\n",
       "                        <td id=\"T_4a594_row9_col0\" class=\"data row9 col0\" >88.3</td>\n",
       "            </tr>\n",
       "            <tr>\n",
       "                        <th id=\"T_4a594_level0_row10\" class=\"row_heading level0 row10\" >studio</th>\n",
       "                        <td id=\"T_4a594_row10_col0\" class=\"data row10 col0\" >0.0</td>\n",
       "            </tr>\n",
       "            <tr>\n",
       "                        <th id=\"T_4a594_level0_row11\" class=\"row_heading level0 row11\" >open_plan</th>\n",
       "                        <td id=\"T_4a594_row11_col0\" class=\"data row11 col0\" >0.0</td>\n",
       "            </tr>\n",
       "            <tr>\n",
       "                        <th id=\"T_4a594_level0_row12\" class=\"row_heading level0 row12\" >kitchen_area</th>\n",
       "                        <td id=\"T_4a594_row12_col0\" class=\"data row12 col0\" >9.6</td>\n",
       "            </tr>\n",
       "            <tr>\n",
       "                        <th id=\"T_4a594_level0_row13\" class=\"row_heading level0 row13\" >balcony</th>\n",
       "                        <td id=\"T_4a594_row13_col0\" class=\"data row13 col0\" >48.6</td>\n",
       "            </tr>\n",
       "            <tr>\n",
       "                        <th id=\"T_4a594_level0_row14\" class=\"row_heading level0 row14\" >locality_name</th>\n",
       "                        <td id=\"T_4a594_row14_col0\" class=\"data row14 col0\" >0.2</td>\n",
       "            </tr>\n",
       "            <tr>\n",
       "                        <th id=\"T_4a594_level0_row15\" class=\"row_heading level0 row15\" >airports_nearest</th>\n",
       "                        <td id=\"T_4a594_row15_col0\" class=\"data row15 col0\" >23.4</td>\n",
       "            </tr>\n",
       "            <tr>\n",
       "                        <th id=\"T_4a594_level0_row16\" class=\"row_heading level0 row16\" >cityCenters_nearest</th>\n",
       "                        <td id=\"T_4a594_row16_col0\" class=\"data row16 col0\" >23.3</td>\n",
       "            </tr>\n",
       "            <tr>\n",
       "                        <th id=\"T_4a594_level0_row17\" class=\"row_heading level0 row17\" >parks_around3000</th>\n",
       "                        <td id=\"T_4a594_row17_col0\" class=\"data row17 col0\" >23.3</td>\n",
       "            </tr>\n",
       "            <tr>\n",
       "                        <th id=\"T_4a594_level0_row18\" class=\"row_heading level0 row18\" >parks_nearest</th>\n",
       "                        <td id=\"T_4a594_row18_col0\" class=\"data row18 col0\" >65.9</td>\n",
       "            </tr>\n",
       "            <tr>\n",
       "                        <th id=\"T_4a594_level0_row19\" class=\"row_heading level0 row19\" >ponds_around3000</th>\n",
       "                        <td id=\"T_4a594_row19_col0\" class=\"data row19 col0\" >23.3</td>\n",
       "            </tr>\n",
       "            <tr>\n",
       "                        <th id=\"T_4a594_level0_row20\" class=\"row_heading level0 row20\" >ponds_nearest</th>\n",
       "                        <td id=\"T_4a594_row20_col0\" class=\"data row20 col0\" >61.6</td>\n",
       "            </tr>\n",
       "            <tr>\n",
       "                        <th id=\"T_4a594_level0_row21\" class=\"row_heading level0 row21\" >days_exposition</th>\n",
       "                        <td id=\"T_4a594_row21_col0\" class=\"data row21 col0\" >13.4</td>\n",
       "            </tr>\n",
       "    </tbody></table>"
      ],
      "text/plain": [
       "<pandas.io.formats.style.Styler at 0x7f38d0f0b100>"
      ]
     },
     "execution_count": 7,
     "metadata": {},
     "output_type": "execute_result"
    }
   ],
   "source": [
    "pd.DataFrame(data.isna().mean()*100).style.set_precision(1).background_gradient('coolwarm')"
   ]
  },
  {
   "cell_type": "code",
   "execution_count": 8,
   "metadata": {},
   "outputs": [
    {
     "name": "stdout",
     "output_type": "stream",
     "text": [
      "total_images                0\n",
      "last_price                  0\n",
      "total_area                  0\n",
      "first_day_exposition        0\n",
      "rooms                       0\n",
      "ceiling_height           9195\n",
      "floors_total                0\n",
      "living_area              1903\n",
      "floor                       0\n",
      "is_apartment                0\n",
      "studio                      0\n",
      "open_plan                   0\n",
      "kitchen_area             2278\n",
      "balcony                     0\n",
      "locality_name               0\n",
      "airports_nearest         5542\n",
      "cityCenters_nearest      5519\n",
      "parks_around3000         5518\n",
      "parks_nearest           15620\n",
      "ponds_around3000         5518\n",
      "ponds_nearest           14589\n",
      "days_exposition             0\n",
      "dtype: int64\n"
     ]
    }
   ],
   "source": [
    "data['balcony']=data['balcony'].fillna(0)\n",
    "data['days_exposition']=data['days_exposition'].fillna(0)\n",
    "data['is_apartment']=data['is_apartment'].fillna(False)\n",
    "data['locality_name']=data['locality_name'].fillna('не определен')\n",
    "data['floors_total']=data['floors_total'].fillna(data['floor'])\n",
    "print(data.isnull().sum())"
   ]
  },
  {
   "cell_type": "markdown",
   "metadata": {},
   "source": [
    "1.колонка balcony была заменена на 0, так как с высокой вероятностью нет балконов в квартирах.\n",
    "2 days_exposition была заменена на 0, так как с высокой вероятностью эта квартира еще не была продана на момент выгрузки.\n",
    "3.is_apartment заменен на булевое значение False. так как, вероятно, продавец не указал True в данной графе ссылаясь на то, что это не апартаменты.\n",
    "4.Floors_total были приравнены к Floor так как здание не может быть без этажей если по квартире указан этаж.\n",
    "5.locality_name пустоты и нули заменены на 'не определен'.\n",
    "Причины пропусков могут быть технической сбой, отсутсвтие данных или нежелание указывать продавцом какую либо информацию. \n",
    "В остальных столбцах оставили пропуски так как нет адекватной причины заменять их на какое либо другое значение."
   ]
  },
  {
   "cell_type": "code",
   "execution_count": 9,
   "metadata": {},
   "outputs": [
    {
     "name": "stdout",
     "output_type": "stream",
     "text": [
      "<class 'pandas.core.frame.DataFrame'>\n",
      "RangeIndex: 23699 entries, 0 to 23698\n",
      "Data columns (total 22 columns):\n",
      " #   Column                Non-Null Count  Dtype         \n",
      "---  ------                --------------  -----         \n",
      " 0   total_images          23699 non-null  int64         \n",
      " 1   last_price            23699 non-null  float64       \n",
      " 2   total_area            23699 non-null  float64       \n",
      " 3   first_day_exposition  23699 non-null  datetime64[ns]\n",
      " 4   rooms                 23699 non-null  int64         \n",
      " 5   ceiling_height        14504 non-null  float64       \n",
      " 6   floors_total          23699 non-null  int64         \n",
      " 7   living_area           21796 non-null  float64       \n",
      " 8   floor                 23699 non-null  int64         \n",
      " 9   is_apartment          23699 non-null  bool          \n",
      " 10  studio                23699 non-null  bool          \n",
      " 11  open_plan             23699 non-null  bool          \n",
      " 12  kitchen_area          21421 non-null  float64       \n",
      " 13  balcony               23699 non-null  int64         \n",
      " 14  locality_name         23699 non-null  object        \n",
      " 15  airports_nearest      18157 non-null  float64       \n",
      " 16  cityCenters_nearest   18180 non-null  float64       \n",
      " 17  parks_around3000      18181 non-null  float64       \n",
      " 18  parks_nearest         8079 non-null   float64       \n",
      " 19  ponds_around3000      18181 non-null  float64       \n",
      " 20  ponds_nearest         9110 non-null   float64       \n",
      " 21  days_exposition       23699 non-null  float64       \n",
      "dtypes: bool(3), datetime64[ns](1), float64(12), int64(5), object(1)\n",
      "memory usage: 3.5+ MB\n"
     ]
    }
   ],
   "source": [
    "data['is_apartment']=data['is_apartment'].astype(bool)\n",
    "data['balcony']=data['balcony'].astype('int')\n",
    "data['floors_total']=data['floors_total'].astype('int')\n",
    "#data['days_exposition'].astype('int')\n",
    "data['first_day_exposition'] = pd.to_datetime(data['first_day_exposition'], format='%Y-%m-%dT%H:%M:%S')\n",
    "data.info()"
   ]
  },
  {
   "cell_type": "markdown",
   "metadata": {},
   "source": [
    "is_apartment должно иметь булевое значение.Меняем тип данных на bool.\n",
    "first_day_exposition меняем формат так как это дата.\n",
    "balcony,floors_total,days_exposition должны быть целочисленные значения. Меняем на int"
   ]
  },
  {
   "cell_type": "code",
   "execution_count": 10,
   "metadata": {},
   "outputs": [
    {
     "name": "stdout",
     "output_type": "stream",
     "text": [
      "['Бокситогорск' 'Волосово' 'Волхов' 'Всеволожск' 'Выборг' 'Высоцк'\n",
      " 'Гатчина' 'Зеленогорск' 'Ивангород' 'Каменногорск' 'Кингисепп' 'Кириши'\n",
      " 'Кировск' 'Колпино' 'Коммунар' 'Красное Село' 'Кронштадт' 'Кудрово'\n",
      " 'Лодейное Поле' 'Ломоносов' 'Луга' 'Любань' 'Мурино' 'Никольское'\n",
      " 'Новая Ладога' 'Отрадное' 'Павловск' 'Петергоф' 'Пикалёво' 'Подпорожье'\n",
      " 'Приморск' 'Приозерск' 'Пушкин' 'Санкт-Петербург' 'Светогорск'\n",
      " 'Сертолово' 'Сестрорецк' 'Сланцы' 'Сосновый Бор' 'Сясьстрой' 'Тихвин'\n",
      " 'Тосно' 'Шлиссельбург' 'городской поселок Большая Ижора'\n",
      " 'городской поселок Янино-1' 'городской посёлок Будогощь'\n",
      " 'городской посёлок Виллози' 'городской посёлок Лесогорский'\n",
      " 'городской посёлок Мга' 'городской посёлок Назия'\n",
      " 'городской посёлок Новоселье' 'городской посёлок Павлово'\n",
      " 'городской посёлок Рощино' 'городской посёлок Свирьстрой'\n",
      " 'городской посёлок Советский' 'городской посёлок Фёдоровское'\n",
      " 'городской посёлок Янино-1' 'деревня Агалатово' 'деревня Аро'\n",
      " 'деревня Батово' 'деревня Бегуницы' 'деревня Белогорка'\n",
      " 'деревня Большая Вруда' 'деревня Большая Пустомержа'\n",
      " 'деревня Большие Колпаны' 'деревня Большое Рейзино'\n",
      " 'деревня Большой Сабск' 'деревня Бор' 'деревня Борисова Грива'\n",
      " 'деревня Ваганово' 'деревня Вартемяги' 'деревня Вахнова Кара'\n",
      " 'деревня Выскатка' 'деревня Гарболово' 'деревня Глинка'\n",
      " 'деревня Горбунки' 'деревня Гостилицы' 'деревня Заклинье'\n",
      " 'деревня Заневка' 'деревня Зимитицы' 'деревня Извара' 'деревня Иссад'\n",
      " 'деревня Калитино' 'деревня Кальтино' 'деревня Камышовка'\n",
      " 'деревня Каськово' 'деревня Келози' 'деревня Кипень' 'деревня Кисельня'\n",
      " 'деревня Колтуши' 'деревня Коркино' 'деревня Котлы' 'деревня Кривко'\n",
      " 'деревня Кудрово' 'деревня Кузьмолово' 'деревня Курковицы'\n",
      " 'деревня Куровицы' 'деревня Куттузи' 'деревня Лаврики' 'деревня Лаголово'\n",
      " 'деревня Лампово' 'деревня Лесколово' 'деревня Лопухинка'\n",
      " 'деревня Лупполово' 'деревня Малая Романовка' 'деревня Малое Верево'\n",
      " 'деревня Малое Карлино' 'деревня Малые Колпаны' 'деревня Мануйлово'\n",
      " 'деревня Меньково' 'деревня Мины' 'деревня Мистолово' 'деревня Ненимяки'\n",
      " 'деревня Нижние Осельки' 'деревня Нижняя' 'деревня Низино'\n",
      " 'деревня Новое Девяткино' 'деревня Новолисино' 'деревня Нурма'\n",
      " 'деревня Оржицы' 'деревня Парицы' 'деревня Пельгора' 'деревня Пеники'\n",
      " 'деревня Пижма' 'деревня Пикколово' 'деревня Пудомяги' 'деревня Пустынка'\n",
      " 'деревня Пчева' 'деревня Рабитицы' 'деревня Разбегаево'\n",
      " 'деревня Раздолье' 'деревня Разметелево' 'деревня Рапполово'\n",
      " 'деревня Реброво' 'деревня Русско' 'деревня Сижно' 'деревня Снегирёвка'\n",
      " 'деревня Старая' 'деревня Старая Пустошь' 'деревня Старое Хинколово'\n",
      " 'деревня Старополье' 'деревня Старосиверская' 'деревня Старые Бегуницы'\n",
      " 'деревня Суоранда' 'деревня Сяськелево' 'деревня Тарасово'\n",
      " 'деревня Терпилицы' 'деревня Тихковицы' 'деревня Тойворово'\n",
      " 'деревня Торосово' 'деревня Торошковичи' 'деревня Трубников Бор'\n",
      " 'деревня Фалилеево' 'деревня Фёдоровское' 'деревня Хапо-Ое'\n",
      " 'деревня Хязельки' 'деревня Чудской Бор' 'деревня Шпаньково'\n",
      " 'деревня Щеглово' 'деревня Юкки' 'деревня Ялгино' 'деревня Яльгелево'\n",
      " 'деревня Ям-Тесово' 'коттеджный поселок Кивеннапа Север'\n",
      " 'коттеджный поселок Счастье' 'коттеджный посёлок Лесное' 'не определен'\n",
      " 'поселок Аннино' 'поселок Барышево' 'поселок Бугры' 'поселок Возрождение'\n",
      " 'поселок Войсковицы' 'поселок Володарское' 'поселок Гаврилово'\n",
      " 'поселок Гарболово' 'поселок Гладкое' 'поселок Глажево'\n",
      " 'поселок Глебычево' 'поселок Гончарово' 'поселок Громово'\n",
      " 'поселок Дружноселье' 'поселок Елизаветино' 'поселок Жилгородок'\n",
      " 'поселок Жилпосёлок' 'поселок Житково' 'поселок Заводской'\n",
      " 'поселок Запорожское' 'поселок Зимитицы' 'поселок Ильичёво'\n",
      " 'поселок Калитино' 'поселок Каложицы' 'поселок Кингисеппский'\n",
      " 'поселок Кирпичное' 'поселок Кобралово' 'поселок Кобринское'\n",
      " 'поселок Коммунары' 'поселок Коробицыно' 'поселок Котельский'\n",
      " 'поселок Красная Долина' 'поселок Красносельское' 'поселок Лесное'\n",
      " 'поселок Лисий Нос' 'поселок Лукаши' 'поселок Любань'\n",
      " 'поселок Мельниково' 'поселок Мичуринское' 'поселок Молодцово'\n",
      " 'поселок Мурино' 'поселок Новый Свет' 'поселок Новый Учхоз'\n",
      " 'поселок Оредеж' 'поселок Пансионат Зелёный Бор' 'поселок Первомайское'\n",
      " 'поселок Перово' 'поселок Петровское' 'поселок Победа' 'поселок Поляны'\n",
      " 'поселок Почап' 'поселок Починок' 'поселок Пушное' 'поселок Пчевжа'\n",
      " 'поселок Рабитицы' 'поселок Романовка' 'поселок Ромашки' 'поселок Рябово'\n",
      " 'поселок Севастьяново' 'поселок Селезнёво' 'поселок Сельцо'\n",
      " 'поселок Семиозерье' 'поселок Семрино' 'поселок Серебрянский'\n",
      " 'поселок Совхозный' 'поселок Старая Малукса' 'поселок Стеклянный'\n",
      " 'поселок Сумино' 'поселок Суходолье' 'поселок Тельмана'\n",
      " 'поселок Терволово' 'поселок Торковичи' 'поселок Тёсово-4'\n",
      " 'поселок Углово' 'поселок Усть-Луга' 'поселок Ушаки'\n",
      " 'поселок Цвелодубово' 'поселок Цвылёво'\n",
      " 'поселок городского типа Большая Ижора' 'поселок городского типа Вырица'\n",
      " 'поселок городского типа Дружная Горка'\n",
      " 'поселок городского типа Дубровка' 'поселок городского типа Ефимовский'\n",
      " 'поселок городского типа Кондратьево'\n",
      " 'поселок городского типа Красный Бор'\n",
      " 'поселок городского типа Кузьмоловский' 'поселок городского типа Лебяжье'\n",
      " 'поселок городского типа Лесогорский' 'поселок городского типа Назия'\n",
      " 'поселок городского типа Никольский'\n",
      " 'поселок городского типа Приладожский' 'поселок городского типа Рахья'\n",
      " 'поселок городского типа Рощино' 'поселок городского типа Рябово'\n",
      " 'поселок городского типа Синявино' 'поселок городского типа Советский'\n",
      " 'поселок городского типа Токсово' 'поселок городского типа Форносово'\n",
      " 'поселок городского типа имени Свердлова' 'поселок станции Вещево'\n",
      " 'поселок станции Корнево' 'поселок станции Лужайка'\n",
      " 'поселок станции Приветнинское' 'посёлок Александровская'\n",
      " 'посёлок Алексеевка' 'посёлок Аннино' 'посёлок Белоостров'\n",
      " 'посёлок Бугры' 'посёлок Возрождение' 'посёлок Войскорово'\n",
      " 'посёлок Высокоключевой' 'посёлок Гаврилово' 'посёлок Дзержинского'\n",
      " 'посёлок Жилгородок' 'посёлок Ильичёво' 'посёлок Кикерино'\n",
      " 'посёлок Кобралово' 'посёлок Коробицыно' 'посёлок Левашово'\n",
      " 'посёлок Ленинское' 'посёлок Лисий Нос' 'посёлок Мельниково'\n",
      " 'посёлок Металлострой' 'посёлок Мичуринское' 'посёлок Молодёжное'\n",
      " 'посёлок Мурино' 'посёлок Мыза-Ивановка' 'посёлок Новогорелово'\n",
      " 'посёлок Новый Свет' 'посёлок Пансионат Зелёный Бор' 'посёлок Парголово'\n",
      " 'посёлок Перово' 'посёлок Песочный' 'посёлок Петро-Славянка'\n",
      " 'посёлок Петровское' 'посёлок Платформа 69-й километр' 'посёлок Плодовое'\n",
      " 'посёлок Плоское' 'посёлок Победа' 'посёлок Поляны' 'посёлок Понтонный'\n",
      " 'посёлок Пригородный' 'посёлок Пудость' 'посёлок Репино' 'посёлок Ропша'\n",
      " 'посёлок Сапёрное' 'посёлок Сапёрный' 'посёлок Сосново'\n",
      " 'посёлок Старая Малукса' 'посёлок Стеклянный' 'посёлок Стрельна'\n",
      " 'посёлок Суйда' 'посёлок Сумино' 'посёлок Тельмана' 'посёлок Терволово'\n",
      " 'посёлок Торфяное' 'посёлок Усть-Ижора' 'посёлок Усть-Луга'\n",
      " 'посёлок Форт Красная Горка' 'посёлок Шугозеро' 'посёлок Шушары'\n",
      " 'посёлок Щеглово' 'посёлок городского типа Важины'\n",
      " 'посёлок городского типа Вознесенье' 'посёлок городского типа Вырица'\n",
      " 'посёлок городского типа Красный Бор' 'посёлок городского типа Кузнечное'\n",
      " 'посёлок городского типа Кузьмоловский' 'посёлок городского типа Лебяжье'\n",
      " 'посёлок городского типа Мга' 'посёлок городского типа Павлово'\n",
      " 'посёлок городского типа Рощино' 'посёлок городского типа Рябово'\n",
      " 'посёлок городского типа Сиверский' 'посёлок городского типа Тайцы'\n",
      " 'посёлок городского типа Токсово' 'посёлок городского типа Ульяновка'\n",
      " 'посёлок городского типа Форносово'\n",
      " 'посёлок городского типа имени Морозова'\n",
      " 'посёлок городского типа имени Свердлова'\n",
      " 'посёлок при железнодорожной станции Вещево'\n",
      " 'посёлок при железнодорожной станции Приветнинское'\n",
      " 'посёлок станции Громово' 'посёлок станции Свирь'\n",
      " 'садоводческое некоммерческое товарищество Лесная Поляна'\n",
      " 'садовое товарищество Новая Ропша' 'садовое товарищество Приладожский'\n",
      " 'садовое товарищество Рахья' 'садовое товарищество Садко' 'село Копорье'\n",
      " 'село Никольское' 'село Павлово' 'село Паша' 'село Путилово'\n",
      " 'село Рождествено' 'село Русско-Высоцкое' 'село Старая Ладога' 'село Шум']\n",
      "365\n"
     ]
    }
   ],
   "source": [
    "sort_data=(data.sort_values('locality_name')) #сортируем и просматриваем уникальные значения наименований населенных пунктов\n",
    "print(sort_data['locality_name'].unique())\n",
    "print(sort_data['locality_name'].nunique())"
   ]
  },
  {
   "cell_type": "code",
   "execution_count": 11,
   "metadata": {
    "scrolled": false
   },
   "outputs": [
    {
     "name": "stdout",
     "output_type": "stream",
     "text": [
      "['Санкт-Петербург' 'посёлок Шушары' 'посёлок Янино-1' 'посёлок Парголово'\n",
      " 'посёлок Мурино' 'Ломоносов' 'Сертолово' 'Петергоф' 'Пушкин'\n",
      " 'деревня Кудрово' 'Коммунар' 'Колпино' 'посёлок Красный Бор' 'Гатчина'\n",
      " 'деревня Фёдоровское' 'Выборг' 'Кронштадт' 'Кировск'\n",
      " 'деревня Новое Девяткино' 'посёлок Металлострой' 'посёлок Лебяжье'\n",
      " 'посёлок Сиверский' 'посёлок Молодцово' 'посёлок Кузьмоловский'\n",
      " 'садовое товарищество Новая Ропша' 'Павловск' 'деревня Пикколово'\n",
      " 'Всеволожск' 'Волхов' 'Кингисепп' 'Приозерск' 'Сестрорецк'\n",
      " 'деревня Куттузи' 'посёлок Аннино' 'посёлок Ефимовский'\n",
      " 'посёлок Плодовое' 'деревня Заклинье' 'посёлок Торковичи'\n",
      " 'посёлок Первомайское' 'Красное Село' 'посёлок Понтонный' 'Сясьстрой'\n",
      " 'деревня Старая' 'деревня Лесколово' 'посёлок Новый Свет' 'Сланцы'\n",
      " 'село Путилово' 'Ивангород' 'Мурино' 'Шлиссельбург' 'Никольское'\n",
      " 'Зеленогорск' 'Сосновый Бор' 'деревня Оржицы' 'деревня Кальтино'\n",
      " 'Кудрово' 'посёлок Романовка' 'посёлок Бугры' 'посёлок Рощино' 'Кириши'\n",
      " 'Луга' 'Волосово' 'Отрадное' 'село Павлово' 'посёлок Оредеж'\n",
      " 'село Копорье' 'посёлок Молодёжное' 'Тихвин' 'посёлок Победа'\n",
      " 'деревня Нурма' 'посёлок Синявино' 'Тосно' 'посёлок Стрельна'\n",
      " 'Бокситогорск' 'посёлок Александровская' 'деревня Лопухинка' 'Пикалёво'\n",
      " 'посёлок Терволово' 'посёлок Советский' 'Подпорожье' 'посёлок Петровское'\n",
      " 'посёлок Токсово' 'посёлок Сельцо' 'посёлок Вырица' 'деревня Кипень'\n",
      " 'деревня Келози' 'деревня Вартемяги' 'посёлок Тельмана'\n",
      " 'посёлок Севастьяново' 'посёлок Большая Ижора' 'не определен'\n",
      " 'посёлок Павлово' 'деревня Агалатово' 'посёлок Новогорелово'\n",
      " 'посёлок Лесогорский' 'деревня Лаголово' 'посёлок Цвелодубово'\n",
      " 'посёлок Рахья' 'деревня Белогорка' 'посёлок Заводской'\n",
      " 'посёлок Новоселье' 'деревня Большие Колпаны' 'деревня Горбунки'\n",
      " 'деревня Батово' 'деревня Заневка' 'деревня Иссад' 'Приморск'\n",
      " 'посёлок Фёдоровское' 'деревня Мистолово' 'Новая Ладога'\n",
      " 'посёлок Зимитицы' 'посёлок Барышево' 'деревня Разметелево'\n",
      " 'посёлок имени Свердлова' 'деревня Пеники' 'посёлок Рябово'\n",
      " 'деревня Пудомяги' 'посёлок станции Корнево' 'деревня Низино'\n",
      " 'деревня Бегуницы' 'посёлок Поляны' 'посёлок Мга' 'посёлок Елизаветино'\n",
      " 'посёлок Кузнечное' 'деревня Колтуши' 'посёлок Запорожское'\n",
      " 'деревня Гостилицы' 'деревня Малое Карлино' 'посёлок Мичуринское'\n",
      " 'посёлок имени Морозова' 'посёлок Песочный' 'посёлок Сосново'\n",
      " 'деревня Аро' 'посёлок Ильичёво' 'посёлок Тайцы' 'деревня Малое Верево'\n",
      " 'деревня Извара' 'посёлок станции Вещево' 'село Паша' 'деревня Калитино'\n",
      " 'посёлок Ульяновка' 'деревня Чудской Бор' 'посёлок Дубровка'\n",
      " 'деревня Мины' 'посёлок Войсковицы' 'деревня Коркино' 'посёлок Ропша'\n",
      " 'посёлок Приладожский' 'посёлок Щеглово' 'посёлок Гаврилово'\n",
      " 'Лодейное Поле' 'деревня Рабитицы' 'посёлок Никольский'\n",
      " 'деревня Кузьмолово' 'деревня Малые Колпаны' 'посёлок Петро-Славянка'\n",
      " 'посёлок Назия' 'посёлок Репино' 'посёлок Углово'\n",
      " 'посёлок Старая Малукса' 'садовое товарищество Рахья' 'деревня Меньково'\n",
      " 'деревня Старые Бегуницы' 'посёлок Сапёрный' 'посёлок Семрино'\n",
      " 'посёлок Глажево' 'посёлок Кобринское' 'деревня Гарболово' 'деревня Юкки'\n",
      " 'посёлок станции Приветнинское' 'деревня Мануйлово' 'деревня Пчева'\n",
      " 'посёлок Цвылёво' 'посёлок Мельниково' 'посёлок Пудость'\n",
      " 'посёлок Усть-Луга' 'Светогорск' 'Любань' 'посёлок Селезнёво'\n",
      " 'Каменногорск' 'деревня Кривко' 'посёлок Глебычево' 'деревня Парицы'\n",
      " 'посёлок Жилпосёлок' 'посёлок Войскорово' 'село Никольское'\n",
      " 'посёлок Стеклянный' 'посёлок Важины' 'посёлок Мыза-Ивановка'\n",
      " 'село Русско-Высоцкое' 'посёлок Форносово' 'село Старая Ладога'\n",
      " 'посёлок Житково' 'посёлок Виллози' 'деревня Лампово' 'деревня Шпаньково'\n",
      " 'деревня Лаврики' 'посёлок Сумино' 'посёлок Возрождение'\n",
      " 'деревня Старосиверская' 'посёлок Кикерино' 'деревня Старое Хинколово'\n",
      " 'посёлок Пригородный' 'посёлок Торфяное' 'посёлок Будогощь'\n",
      " 'посёлок Суходолье' 'посёлок Красная Долина' 'деревня Хапо-Ое'\n",
      " 'посёлок Дружная Горка' 'посёлок Лисий Нос' 'деревня Яльгелево'\n",
      " 'село Рождествено' 'деревня Старополье' 'посёлок Левашово'\n",
      " 'деревня Сяськелево' 'деревня Камышовка'\n",
      " 'садовое товарищество Лесная Поляна' 'деревня Хязельки'\n",
      " 'посёлок Жилгородок' 'деревня Ялгино' 'посёлок Новый Учхоз'\n",
      " 'посёлок Гончарово' 'посёлок Почап' 'посёлок Сапёрное'\n",
      " 'посёлок Платформа 69-й километр' 'посёлок Каложицы' 'деревня Фалилеево'\n",
      " 'деревня Пельгора' 'деревня Торошковичи' 'посёлок Белоостров'\n",
      " 'посёлок Алексеевка' 'посёлок Серебрянский' 'посёлок Лукаши'\n",
      " 'деревня Щеглово' 'деревня Тарасово' 'посёлок Кингисеппский'\n",
      " 'посёлок при железнодорожной станции Вещево' 'посёлок Ушаки'\n",
      " 'деревня Котлы' 'деревня Сижно' 'деревня Торосово'\n",
      " 'посёлок Форт Красная Горка' 'деревня Новолисино'\n",
      " 'посёлок станции Громово' 'деревня Глинка' 'деревня Старая Пустошь'\n",
      " 'посёлок Коммунары' 'посёлок Починок' 'посёлок Вознесенье'\n",
      " 'деревня Разбегаево' 'посёлок Гладкое'\n",
      " 'посёлок при железнодорожной станции Приветнинское' 'посёлок Тёсово-4'\n",
      " 'деревня Бор' 'посёлок Коробицыно' 'деревня Большая Вруда'\n",
      " 'деревня Курковицы' 'посёлок Кобралово' 'деревня Суоранда'\n",
      " 'посёлок Кондратьево' 'коттеджный посёлок Счастье' 'посёлок Любань'\n",
      " 'деревня Реброво' 'деревня Зимитицы' 'деревня Тойворово'\n",
      " 'посёлок Семиозерье' 'посёлок Лесное' 'посёлок Совхозный'\n",
      " 'посёлок Ленинское' 'посёлок Суйда' 'деревня Нижние Осельки'\n",
      " 'посёлок станции Свирь' 'посёлок Перово' 'Высоцк' 'посёлок Гарболово'\n",
      " 'село Шум' 'посёлок Котельский' 'посёлок станции Лужайка'\n",
      " 'деревня Большая Пустомержа' 'посёлок Красносельское'\n",
      " 'деревня Вахнова Кара' 'деревня Пижма'\n",
      " 'коттеджный посёлок Кивеннапа Север' 'посёлок Ромашки' 'деревня Каськово'\n",
      " 'деревня Куровицы' 'посёлок Плоское' 'посёлок Кирпичное'\n",
      " 'деревня Ям-Тесово' 'деревня Раздолье' 'деревня Терпилицы'\n",
      " 'посёлок Шугозеро' 'деревня Ваганово' 'посёлок Пушное'\n",
      " 'садовое товарищество Садко' 'посёлок Усть-Ижора' 'деревня Выскатка'\n",
      " 'посёлок Свирьстрой' 'посёлок Громово' 'деревня Кисельня'\n",
      " 'деревня Трубников Бор' 'посёлок Калитино' 'посёлок Высокоключевой'\n",
      " 'садовое товарищество Приладожский' 'посёлок Пансионат Зелёный Бор'\n",
      " 'деревня Ненимяки' 'деревня Снегирёвка' 'деревня Рапполово'\n",
      " 'деревня Пустынка' 'посёлок Рабитицы' 'деревня Большой Сабск'\n",
      " 'деревня Русско' 'деревня Лупполово' 'деревня Большое Рейзино'\n",
      " 'деревня Малая Романовка' 'посёлок Дружноселье' 'посёлок Пчевжа'\n",
      " 'посёлок Володарское' 'деревня Нижняя' 'коттеджный посёлок Лесное'\n",
      " 'деревня Тихковицы' 'деревня Борисова Грива' 'посёлок Дзержинского']\n",
      "323\n"
     ]
    }
   ],
   "source": [
    "data['locality_name'] = data['locality_name'].str.replace('поселок','посёлок')\n",
    "data['locality_name'] = data['locality_name'].str.replace('городской посёлок','посёлок')\n",
    "data['locality_name'] = data['locality_name'].str.replace('посёлок городского типа','посёлок')\n",
    "data['locality_name'] = data['locality_name'].str.replace('поселок при железнодорожной станции','посёлок')\n",
    "data['locality_name'] = data['locality_name'].str.replace('поселок станции','посёлок')\n",
    "data['locality_name'] = data['locality_name'].str.replace('садоводческое некоммерческое товарищество','садовое товарищество')\n",
    "print(data['locality_name'].unique())\n",
    "print(data['locality_name'].nunique())#делаем замену неявных дубликатов"
   ]
  },
  {
   "cell_type": "markdown",
   "metadata": {},
   "source": [
    "Согласно гистограммам были выявлены столбцы с аномальными значениями\n",
    "ceiling_height,\n",
    "floors_total,\n",
    "last_price,\n",
    "total_area,\n",
    "rooms\n"
   ]
  },
  {
   "cell_type": "code",
   "execution_count": 12,
   "metadata": {
    "scrolled": true
   },
   "outputs": [
    {
     "name": "stdout",
     "output_type": "stream",
     "text": [
      "[  1.     1.2    1.75   2.     2.2    2.25   2.3    2.34   2.4    2.45\n",
      "   2.46   2.47   2.48   2.49   2.5    2.51   2.52   2.53   2.54   2.55\n",
      "   2.56   2.57   2.58   2.59   2.6    2.61   2.62   2.63   2.64   2.65\n",
      "   2.66   2.67   2.68   2.69   2.7    2.71   2.72   2.73   2.74   2.75\n",
      "   2.76   2.77   2.78   2.79   2.8    2.81   2.82   2.83   2.84   2.85\n",
      "   2.86   2.87   2.88   2.89   2.9    2.91   2.92   2.93   2.94   2.95\n",
      "   2.96   2.97   2.98   2.99   3.     3.01   3.02   3.03   3.04   3.05\n",
      "   3.06   3.07   3.08   3.09   3.1    3.11   3.12   3.13   3.14   3.15\n",
      "   3.16   3.17   3.18   3.2    3.21   3.22   3.23   3.24   3.25   3.26\n",
      "   3.27   3.28   3.29   3.3    3.31   3.32   3.33   3.34   3.35   3.36\n",
      "   3.37   3.38   3.39   3.4    3.42   3.43   3.44   3.45   3.46   3.47\n",
      "   3.48   3.49   3.5    3.51   3.52   3.53   3.54   3.55   3.56   3.57\n",
      "   3.58   3.59   3.6    3.62   3.63   3.65   3.66   3.67   3.68   3.69\n",
      "   3.7    3.75   3.76   3.78   3.8    3.82   3.83   3.84   3.85   3.86\n",
      "   3.87   3.88   3.9    3.93   3.95   3.98   4.     4.06   4.1    4.14\n",
      "   4.15   4.19   4.2    4.25   4.3    4.37   4.4    4.45   4.5    4.65\n",
      "   4.7    4.8    4.9    5.     5.2    5.3    5.5    5.6    5.8    6.\n",
      "   8.     8.3   10.3   14.    20.    22.6   24.    25.    26.    27.\n",
      "  27.5   32.   100.      nan]\n"
     ]
    }
   ],
   "source": [
    "print(data['ceiling_height'].sort_values().unique()) #посмотрим уникальные значения для данного столбца\n"
   ]
  },
  {
   "cell_type": "code",
   "execution_count": 13,
   "metadata": {
    "scrolled": true
   },
   "outputs": [
    {
     "name": "stdout",
     "output_type": "stream",
     "text": [
      "[  1.     1.2    1.75   2.     2.2    2.25   2.26   2.3    2.34   2.4\n",
      "   2.45   2.46   2.47   2.48   2.49   2.5    2.51   2.52   2.53   2.54\n",
      "   2.55   2.56   2.57   2.58   2.59   2.6    2.61   2.62   2.63   2.64\n",
      "   2.65   2.66   2.67   2.68   2.69   2.7    2.71   2.72   2.73   2.74\n",
      "   2.75   2.76   2.77   2.78   2.79   2.8    2.81   2.82   2.83   2.84\n",
      "   2.85   2.86   2.87   2.88   2.89   2.9    2.91   2.92   2.93   2.94\n",
      "   2.95   2.96   2.97   2.98   2.99   3.     3.01   3.02   3.03   3.04\n",
      "   3.05   3.06   3.07   3.08   3.09   3.1    3.11   3.12   3.13   3.14\n",
      "   3.15   3.16   3.17   3.18   3.2    3.21   3.22   3.23   3.24   3.25\n",
      "   3.26   3.27   3.28   3.29   3.3    3.31   3.32   3.33   3.34   3.35\n",
      "   3.36   3.37   3.38   3.39   3.4    3.42   3.43   3.44   3.45   3.46\n",
      "   3.47   3.48   3.49   3.5    3.51   3.52   3.53   3.54   3.55   3.56\n",
      "   3.57   3.58   3.59   3.6    3.62   3.63   3.65   3.66   3.67   3.68\n",
      "   3.69   3.7    3.75   3.76   3.78   3.8    3.82   3.83   3.84   3.85\n",
      "   3.86   3.87   3.88   3.9    3.93   3.95   3.98   4.     4.06   4.1\n",
      "   4.14   4.15   4.19   4.2    4.25   4.3    4.37   4.4    4.45   4.5\n",
      "   4.65   4.7    4.8    4.9    5.     5.2    5.3    5.5    5.6    5.8\n",
      "   6.     8.     8.3   10.3   14.   100.      nan]\n"
     ]
    }
   ],
   "source": [
    "data=data.replace({'ceiling_height':{20:2,22.6:2.26,24:2.4,25:2.5,26:2.6,27:2.7,27.5:2.75,32:3.2}})\n",
    "print(data['ceiling_height'].sort_values().unique()) #сделаем замену "
   ]
  },
  {
   "cell_type": "code",
   "execution_count": 14,
   "metadata": {},
   "outputs": [
    {
     "name": "stdout",
     "output_type": "stream",
     "text": [
      "9195\n"
     ]
    }
   ],
   "source": [
    "print(data['ceiling_height'].isnull().sum()) #посчитали пропущенные значения"
   ]
  },
  {
   "cell_type": "markdown",
   "metadata": {},
   "source": [
    "Заменим пустые значения средней величиной по столбцу ceiling_height"
   ]
  },
  {
   "cell_type": "code",
   "execution_count": 15,
   "metadata": {},
   "outputs": [],
   "source": [
    "ceiling_height_avg=data['ceiling_height'].median()"
   ]
  },
  {
   "cell_type": "code",
   "execution_count": 16,
   "metadata": {},
   "outputs": [],
   "source": [
    "data['ceiling_height']=data['ceiling_height'].fillna(ceiling_height_avg)"
   ]
  },
  {
   "cell_type": "code",
   "execution_count": 17,
   "metadata": {},
   "outputs": [
    {
     "name": "stdout",
     "output_type": "stream",
     "text": [
      "0\n"
     ]
    }
   ],
   "source": [
    "print(data['ceiling_height'].isnull().sum())"
   ]
  },
  {
   "cell_type": "code",
   "execution_count": 18,
   "metadata": {},
   "outputs": [
    {
     "name": "stdout",
     "output_type": "stream",
     "text": [
      "[  2.7    2.65   3.03   2.5    2.67   2.56   3.05   2.75   2.6    2.9\n",
      "   2.8    2.55   3.     3.2    2.61   3.25   3.45   2.77   2.85   2.64\n",
      "   2.57   4.15   3.5    3.3    2.71   4.     2.47   2.73   2.84   3.1\n",
      "   2.34   3.4    3.06   2.72   2.54   2.51   2.78   2.76   2.58   3.7\n",
      "   2.52   5.2    2.87   2.66   2.59   2.     2.45   3.6    2.92   3.11\n",
      "   3.13   3.8    3.15   3.55   3.16   3.62   3.12   2.53   2.74   2.96\n",
      "   2.46   5.3    5.     2.79   2.95   4.06   2.94   3.82   3.54   3.53\n",
      "   2.83   4.7    2.4    3.38   3.01   5.6    3.65   3.9    3.18   3.35\n",
      "   2.3    3.57   2.48   2.62   2.82   3.98   2.63   3.83   3.52   3.95\n",
      "   3.75   2.88   3.67   3.87   3.66   3.85   3.86   4.19   3.24   4.8\n",
      "   4.5    4.2    3.36   3.08   3.68   3.07   3.37   3.09   8.     3.26\n",
      "   3.34   2.81   3.44   2.97   3.14   4.37   2.68   3.22   3.27   4.1\n",
      "   2.93   3.46   3.47   3.33   3.63   3.32   1.2    8.3    2.98   2.86\n",
      "   3.17   4.4    3.28   3.04   4.45   5.5    3.84   3.23   3.02   3.21\n",
      "   3.43   3.78   4.3    3.39   2.69   3.31   4.65   3.56   2.2    3.51\n",
      "   3.93   3.42   2.99   3.49  14.     4.14   2.91   3.88   1.75   4.25\n",
      "   3.29   2.25   3.76   3.69   6.     2.26   2.89   3.58   5.8    2.49\n",
      "   4.9    3.48  10.3    1.   100.     3.59]\n"
     ]
    }
   ],
   "source": [
    "print(data['ceiling_height'].unique())"
   ]
  },
  {
   "cell_type": "code",
   "execution_count": 19,
   "metadata": {},
   "outputs": [
    {
     "name": "stdout",
     "output_type": "stream",
     "text": [
      "AxesSubplot(0.125,0.125;0.775x0.755)\n"
     ]
    },
    {
     "data": {
      "image/png": "[encoded data removed]",
      "text/plain": [
       "<Figure size 432x288 with 1 Axes>"
      ]
     },
     "metadata": {
      "needs_background": "light"
     },
     "output_type": "display_data"
    }
   ],
   "source": [
    "data = data.query('0<ceiling_height<=5') #убираем аномальные значения\n",
    "print(data['ceiling_height'].hist())"
   ]
  },
  {
   "cell_type": "code",
   "execution_count": 20,
   "metadata": {},
   "outputs": [
    {
     "name": "stdout",
     "output_type": "stream",
     "text": [
      "count    23685.000000\n",
      "mean        10.672873\n",
      "std          6.596501\n",
      "min          1.000000\n",
      "25%          5.000000\n",
      "50%          9.000000\n",
      "75%         16.000000\n",
      "max         60.000000\n",
      "Name: floors_total, dtype: float64\n"
     ]
    }
   ],
   "source": [
    "print(data['floors_total'].describe()) #выводим описательную статистику по столбцу \n"
   ]
  },
  {
   "cell_type": "code",
   "execution_count": 21,
   "metadata": {},
   "outputs": [
    {
     "name": "stdout",
     "output_type": "stream",
     "text": [
      "AxesSubplot(0.125,0.125;0.775x0.755)\n"
     ]
    },
    {
     "data": {
      "image/png": "[encoded data removed]",
      "text/plain": [
       "<Figure size 432x288 with 1 Axes>"
      ]
     },
     "metadata": {
      "needs_background": "light"
     },
     "output_type": "display_data"
    }
   ],
   "source": [
    "print(data['floors_total'].hist())"
   ]
  },
  {
   "cell_type": "code",
   "execution_count": 22,
   "metadata": {},
   "outputs": [
    {
     "name": "stdout",
     "output_type": "stream",
     "text": [
      "AxesSubplot(0.125,0.125;0.775x0.755)\n"
     ]
    },
    {
     "data": {
      "image/png": "[encoded data removed]",
      "text/plain": [
       "<Figure size 432x288 with 1 Axes>"
      ]
     },
     "metadata": {
      "needs_background": "light"
     },
     "output_type": "display_data"
    }
   ],
   "source": [
    "data = data.query('0<floors_total<=37')\n",
    "print(data['floors_total'].hist())"
   ]
  },
  {
   "cell_type": "markdown",
   "metadata": {},
   "source": [
    "согласно источнику https://spbhomes.ru/science/samye-vysokie-zdaniya-v-sankt-peterburge/ в городе нет зданий с этажами более 37 Убираем здания, где кол-во этажей  более 37"
   ]
  },
  {
   "cell_type": "code",
   "execution_count": 23,
   "metadata": {},
   "outputs": [
    {
     "name": "stdout",
     "output_type": "stream",
     "text": [
      "count    2.368300e+04\n",
      "mean     6.524765e+06\n",
      "std      1.080847e+07\n",
      "min      1.219000e+04\n",
      "25%      3.400000e+06\n",
      "50%      4.650000e+06\n",
      "75%      6.799000e+06\n",
      "max      7.630000e+08\n",
      "Name: last_price, dtype: float64\n"
     ]
    }
   ],
   "source": [
    "print(data['last_price'].describe()) #выводим описательную статистику по столбцу "
   ]
  },
  {
   "cell_type": "code",
   "execution_count": 24,
   "metadata": {},
   "outputs": [
    {
     "data": {
      "text/plain": [
       "<AxesSubplot:>"
      ]
     },
     "execution_count": 24,
     "metadata": {},
     "output_type": "execute_result"
    },
    {
     "data": {
      "image/png": "[encoded data removed]",
      "text/plain": [
       "<Figure size 432x288 with 1 Axes>"
      ]
     },
     "metadata": {
      "needs_background": "light"
     },
     "output_type": "display_data"
    }
   ],
   "source": [
    "data.boxplot(['last_price'])\n"
   ]
  },
  {
   "cell_type": "markdown",
   "metadata": {},
   "source": [
    "Всё, что лежит за границей 3 квартиля считаем выбросом"
   ]
  },
  {
   "cell_type": "code",
   "execution_count": 25,
   "metadata": {},
   "outputs": [
    {
     "data": {
      "text/html": [
       "<div>\n",
       "<style scoped>\n",
       "    .dataframe tbody tr th:only-of-type {\n",
       "        vertical-align: middle;\n",
       "    }\n",
       "\n",
       "    .dataframe tbody tr th {\n",
       "        vertical-align: top;\n",
       "    }\n",
       "\n",
       "    .dataframe thead th {\n",
       "        text-align: right;\n",
       "    }\n",
       "</style>\n",
       "<table border=\"1\" class=\"dataframe\">\n",
       "  <thead>\n",
       "    <tr style=\"text-align: right;\">\n",
       "      <th></th>\n",
       "      <th>total_images</th>\n",
       "      <th>last_price</th>\n",
       "      <th>total_area</th>\n",
       "      <th>first_day_exposition</th>\n",
       "      <th>rooms</th>\n",
       "      <th>ceiling_height</th>\n",
       "      <th>floors_total</th>\n",
       "      <th>living_area</th>\n",
       "      <th>floor</th>\n",
       "      <th>is_apartment</th>\n",
       "      <th>...</th>\n",
       "      <th>kitchen_area</th>\n",
       "      <th>balcony</th>\n",
       "      <th>locality_name</th>\n",
       "      <th>airports_nearest</th>\n",
       "      <th>cityCenters_nearest</th>\n",
       "      <th>parks_around3000</th>\n",
       "      <th>parks_nearest</th>\n",
       "      <th>ponds_around3000</th>\n",
       "      <th>ponds_nearest</th>\n",
       "      <th>days_exposition</th>\n",
       "    </tr>\n",
       "  </thead>\n",
       "  <tbody>\n",
       "    <tr>\n",
       "      <th>12971</th>\n",
       "      <td>19</td>\n",
       "      <td>763000000.0</td>\n",
       "      <td>400.0</td>\n",
       "      <td>2017-09-30</td>\n",
       "      <td>7</td>\n",
       "      <td>2.65</td>\n",
       "      <td>10</td>\n",
       "      <td>250.0</td>\n",
       "      <td>10</td>\n",
       "      <td>False</td>\n",
       "      <td>...</td>\n",
       "      <td>NaN</td>\n",
       "      <td>2</td>\n",
       "      <td>Санкт-Петербург</td>\n",
       "      <td>25108.0</td>\n",
       "      <td>3956.0</td>\n",
       "      <td>1.0</td>\n",
       "      <td>530.0</td>\n",
       "      <td>3.0</td>\n",
       "      <td>756.0</td>\n",
       "      <td>33.0</td>\n",
       "    </tr>\n",
       "    <tr>\n",
       "      <th>19540</th>\n",
       "      <td>8</td>\n",
       "      <td>420000000.0</td>\n",
       "      <td>900.0</td>\n",
       "      <td>2017-12-06</td>\n",
       "      <td>12</td>\n",
       "      <td>2.80</td>\n",
       "      <td>25</td>\n",
       "      <td>409.7</td>\n",
       "      <td>25</td>\n",
       "      <td>False</td>\n",
       "      <td>...</td>\n",
       "      <td>112.0</td>\n",
       "      <td>0</td>\n",
       "      <td>Санкт-Петербург</td>\n",
       "      <td>30706.0</td>\n",
       "      <td>7877.0</td>\n",
       "      <td>0.0</td>\n",
       "      <td>NaN</td>\n",
       "      <td>2.0</td>\n",
       "      <td>318.0</td>\n",
       "      <td>106.0</td>\n",
       "    </tr>\n",
       "    <tr>\n",
       "      <th>14706</th>\n",
       "      <td>15</td>\n",
       "      <td>401300000.0</td>\n",
       "      <td>401.0</td>\n",
       "      <td>2016-02-20</td>\n",
       "      <td>5</td>\n",
       "      <td>2.65</td>\n",
       "      <td>9</td>\n",
       "      <td>204.0</td>\n",
       "      <td>9</td>\n",
       "      <td>False</td>\n",
       "      <td>...</td>\n",
       "      <td>24.0</td>\n",
       "      <td>3</td>\n",
       "      <td>Санкт-Петербург</td>\n",
       "      <td>21912.0</td>\n",
       "      <td>2389.0</td>\n",
       "      <td>1.0</td>\n",
       "      <td>545.0</td>\n",
       "      <td>1.0</td>\n",
       "      <td>478.0</td>\n",
       "      <td>393.0</td>\n",
       "    </tr>\n",
       "    <tr>\n",
       "      <th>1436</th>\n",
       "      <td>19</td>\n",
       "      <td>330000000.0</td>\n",
       "      <td>190.0</td>\n",
       "      <td>2018-04-04</td>\n",
       "      <td>3</td>\n",
       "      <td>3.50</td>\n",
       "      <td>7</td>\n",
       "      <td>95.0</td>\n",
       "      <td>5</td>\n",
       "      <td>False</td>\n",
       "      <td>...</td>\n",
       "      <td>40.0</td>\n",
       "      <td>0</td>\n",
       "      <td>Санкт-Петербург</td>\n",
       "      <td>23011.0</td>\n",
       "      <td>1197.0</td>\n",
       "      <td>3.0</td>\n",
       "      <td>519.0</td>\n",
       "      <td>3.0</td>\n",
       "      <td>285.0</td>\n",
       "      <td>233.0</td>\n",
       "    </tr>\n",
       "    <tr>\n",
       "      <th>15651</th>\n",
       "      <td>20</td>\n",
       "      <td>300000000.0</td>\n",
       "      <td>618.0</td>\n",
       "      <td>2017-12-18</td>\n",
       "      <td>7</td>\n",
       "      <td>3.40</td>\n",
       "      <td>7</td>\n",
       "      <td>258.0</td>\n",
       "      <td>5</td>\n",
       "      <td>False</td>\n",
       "      <td>...</td>\n",
       "      <td>70.0</td>\n",
       "      <td>0</td>\n",
       "      <td>Санкт-Петербург</td>\n",
       "      <td>32440.0</td>\n",
       "      <td>5297.0</td>\n",
       "      <td>0.0</td>\n",
       "      <td>NaN</td>\n",
       "      <td>2.0</td>\n",
       "      <td>198.0</td>\n",
       "      <td>111.0</td>\n",
       "    </tr>\n",
       "    <tr>\n",
       "      <th>22831</th>\n",
       "      <td>18</td>\n",
       "      <td>289238400.0</td>\n",
       "      <td>187.5</td>\n",
       "      <td>2019-03-19</td>\n",
       "      <td>2</td>\n",
       "      <td>3.37</td>\n",
       "      <td>6</td>\n",
       "      <td>63.7</td>\n",
       "      <td>6</td>\n",
       "      <td>False</td>\n",
       "      <td>...</td>\n",
       "      <td>30.2</td>\n",
       "      <td>0</td>\n",
       "      <td>Санкт-Петербург</td>\n",
       "      <td>22494.0</td>\n",
       "      <td>1073.0</td>\n",
       "      <td>3.0</td>\n",
       "      <td>386.0</td>\n",
       "      <td>3.0</td>\n",
       "      <td>188.0</td>\n",
       "      <td>0.0</td>\n",
       "    </tr>\n",
       "    <tr>\n",
       "      <th>16461</th>\n",
       "      <td>17</td>\n",
       "      <td>245000000.0</td>\n",
       "      <td>285.7</td>\n",
       "      <td>2017-04-10</td>\n",
       "      <td>6</td>\n",
       "      <td>3.35</td>\n",
       "      <td>7</td>\n",
       "      <td>182.8</td>\n",
       "      <td>4</td>\n",
       "      <td>False</td>\n",
       "      <td>...</td>\n",
       "      <td>29.8</td>\n",
       "      <td>0</td>\n",
       "      <td>Санкт-Петербург</td>\n",
       "      <td>33143.0</td>\n",
       "      <td>6235.0</td>\n",
       "      <td>3.0</td>\n",
       "      <td>400.0</td>\n",
       "      <td>3.0</td>\n",
       "      <td>140.0</td>\n",
       "      <td>249.0</td>\n",
       "    </tr>\n",
       "    <tr>\n",
       "      <th>13749</th>\n",
       "      <td>7</td>\n",
       "      <td>240000000.0</td>\n",
       "      <td>410.0</td>\n",
       "      <td>2017-04-01</td>\n",
       "      <td>6</td>\n",
       "      <td>3.40</td>\n",
       "      <td>7</td>\n",
       "      <td>218.0</td>\n",
       "      <td>7</td>\n",
       "      <td>False</td>\n",
       "      <td>...</td>\n",
       "      <td>40.0</td>\n",
       "      <td>0</td>\n",
       "      <td>Санкт-Петербург</td>\n",
       "      <td>32440.0</td>\n",
       "      <td>5297.0</td>\n",
       "      <td>0.0</td>\n",
       "      <td>NaN</td>\n",
       "      <td>2.0</td>\n",
       "      <td>198.0</td>\n",
       "      <td>199.0</td>\n",
       "    </tr>\n",
       "    <tr>\n",
       "      <th>5893</th>\n",
       "      <td>3</td>\n",
       "      <td>230000000.0</td>\n",
       "      <td>500.0</td>\n",
       "      <td>2017-05-31</td>\n",
       "      <td>6</td>\n",
       "      <td>2.65</td>\n",
       "      <td>7</td>\n",
       "      <td>NaN</td>\n",
       "      <td>7</td>\n",
       "      <td>False</td>\n",
       "      <td>...</td>\n",
       "      <td>40.0</td>\n",
       "      <td>0</td>\n",
       "      <td>Санкт-Петербург</td>\n",
       "      <td>32440.0</td>\n",
       "      <td>5297.0</td>\n",
       "      <td>0.0</td>\n",
       "      <td>NaN</td>\n",
       "      <td>2.0</td>\n",
       "      <td>198.0</td>\n",
       "      <td>50.0</td>\n",
       "    </tr>\n",
       "    <tr>\n",
       "      <th>8900</th>\n",
       "      <td>13</td>\n",
       "      <td>190870000.0</td>\n",
       "      <td>268.0</td>\n",
       "      <td>2016-03-25</td>\n",
       "      <td>3</td>\n",
       "      <td>2.65</td>\n",
       "      <td>8</td>\n",
       "      <td>132.0</td>\n",
       "      <td>7</td>\n",
       "      <td>False</td>\n",
       "      <td>...</td>\n",
       "      <td>40.0</td>\n",
       "      <td>0</td>\n",
       "      <td>Санкт-Петербург</td>\n",
       "      <td>32440.0</td>\n",
       "      <td>5297.0</td>\n",
       "      <td>0.0</td>\n",
       "      <td>NaN</td>\n",
       "      <td>2.0</td>\n",
       "      <td>198.0</td>\n",
       "      <td>901.0</td>\n",
       "    </tr>\n",
       "  </tbody>\n",
       "</table>\n",
       "<p>10 rows × 22 columns</p>\n",
       "</div>"
      ],
      "text/plain": [
       "       total_images   last_price  total_area first_day_exposition  rooms  \\\n",
       "12971            19  763000000.0       400.0           2017-09-30      7   \n",
       "19540             8  420000000.0       900.0           2017-12-06     12   \n",
       "14706            15  401300000.0       401.0           2016-02-20      5   \n",
       "1436             19  330000000.0       190.0           2018-04-04      3   \n",
       "15651            20  300000000.0       618.0           2017-12-18      7   \n",
       "22831            18  289238400.0       187.5           2019-03-19      2   \n",
       "16461            17  245000000.0       285.7           2017-04-10      6   \n",
       "13749             7  240000000.0       410.0           2017-04-01      6   \n",
       "5893              3  230000000.0       500.0           2017-05-31      6   \n",
       "8900             13  190870000.0       268.0           2016-03-25      3   \n",
       "\n",
       "       ceiling_height  floors_total  living_area  floor  is_apartment  ...  \\\n",
       "12971            2.65            10        250.0     10         False  ...   \n",
       "19540            2.80            25        409.7     25         False  ...   \n",
       "14706            2.65             9        204.0      9         False  ...   \n",
       "1436             3.50             7         95.0      5         False  ...   \n",
       "15651            3.40             7        258.0      5         False  ...   \n",
       "22831            3.37             6         63.7      6         False  ...   \n",
       "16461            3.35             7        182.8      4         False  ...   \n",
       "13749            3.40             7        218.0      7         False  ...   \n",
       "5893             2.65             7          NaN      7         False  ...   \n",
       "8900             2.65             8        132.0      7         False  ...   \n",
       "\n",
       "       kitchen_area  balcony    locality_name  airports_nearest  \\\n",
       "12971           NaN        2  Санкт-Петербург           25108.0   \n",
       "19540         112.0        0  Санкт-Петербург           30706.0   \n",
       "14706          24.0        3  Санкт-Петербург           21912.0   \n",
       "1436           40.0        0  Санкт-Петербург           23011.0   \n",
       "15651          70.0        0  Санкт-Петербург           32440.0   \n",
       "22831          30.2        0  Санкт-Петербург           22494.0   \n",
       "16461          29.8        0  Санкт-Петербург           33143.0   \n",
       "13749          40.0        0  Санкт-Петербург           32440.0   \n",
       "5893           40.0        0  Санкт-Петербург           32440.0   \n",
       "8900           40.0        0  Санкт-Петербург           32440.0   \n",
       "\n",
       "      cityCenters_nearest  parks_around3000  parks_nearest  ponds_around3000  \\\n",
       "12971              3956.0               1.0          530.0               3.0   \n",
       "19540              7877.0               0.0            NaN               2.0   \n",
       "14706              2389.0               1.0          545.0               1.0   \n",
       "1436               1197.0               3.0          519.0               3.0   \n",
       "15651              5297.0               0.0            NaN               2.0   \n",
       "22831              1073.0               3.0          386.0               3.0   \n",
       "16461              6235.0               3.0          400.0               3.0   \n",
       "13749              5297.0               0.0            NaN               2.0   \n",
       "5893               5297.0               0.0            NaN               2.0   \n",
       "8900               5297.0               0.0            NaN               2.0   \n",
       "\n",
       "       ponds_nearest  days_exposition  \n",
       "12971          756.0             33.0  \n",
       "19540          318.0            106.0  \n",
       "14706          478.0            393.0  \n",
       "1436           285.0            233.0  \n",
       "15651          198.0            111.0  \n",
       "22831          188.0              0.0  \n",
       "16461          140.0            249.0  \n",
       "13749          198.0            199.0  \n",
       "5893           198.0             50.0  \n",
       "8900           198.0            901.0  \n",
       "\n",
       "[10 rows x 22 columns]"
      ]
     },
     "execution_count": 25,
     "metadata": {},
     "output_type": "execute_result"
    }
   ],
   "source": [
    "data.sort_values(by='last_price',ascending=False).head(10)"
   ]
  },
  {
   "cell_type": "code",
   "execution_count": 26,
   "metadata": {
    "scrolled": true
   },
   "outputs": [
    {
     "name": "stdout",
     "output_type": "stream",
     "text": [
      "AxesSubplot(0.125,0.125;0.775x0.755)\n"
     ]
    },
    {
     "data": {
      "image/png": "[encoded data removed]",
      "text/plain": [
       "<Figure size 432x288 with 1 Axes>"
      ]
     },
     "metadata": {
      "needs_background": "light"
     },
     "output_type": "display_data"
    }
   ],
   "source": [
    "data = data.query('last_price< 7.630000e+08')\n",
    "print(data['last_price'].hist(bins=50))"
   ]
  },
  {
   "cell_type": "code",
   "execution_count": 27,
   "metadata": {},
   "outputs": [
    {
     "data": {
      "text/html": [
       "<div>\n",
       "<style scoped>\n",
       "    .dataframe tbody tr th:only-of-type {\n",
       "        vertical-align: middle;\n",
       "    }\n",
       "\n",
       "    .dataframe tbody tr th {\n",
       "        vertical-align: top;\n",
       "    }\n",
       "\n",
       "    .dataframe thead th {\n",
       "        text-align: right;\n",
       "    }\n",
       "</style>\n",
       "<table border=\"1\" class=\"dataframe\">\n",
       "  <thead>\n",
       "    <tr style=\"text-align: right;\">\n",
       "      <th></th>\n",
       "      <th>total_images</th>\n",
       "      <th>last_price</th>\n",
       "      <th>total_area</th>\n",
       "      <th>first_day_exposition</th>\n",
       "      <th>rooms</th>\n",
       "      <th>ceiling_height</th>\n",
       "      <th>floors_total</th>\n",
       "      <th>living_area</th>\n",
       "      <th>floor</th>\n",
       "      <th>is_apartment</th>\n",
       "      <th>...</th>\n",
       "      <th>kitchen_area</th>\n",
       "      <th>balcony</th>\n",
       "      <th>locality_name</th>\n",
       "      <th>airports_nearest</th>\n",
       "      <th>cityCenters_nearest</th>\n",
       "      <th>parks_around3000</th>\n",
       "      <th>parks_nearest</th>\n",
       "      <th>ponds_around3000</th>\n",
       "      <th>ponds_nearest</th>\n",
       "      <th>days_exposition</th>\n",
       "    </tr>\n",
       "  </thead>\n",
       "  <tbody>\n",
       "    <tr>\n",
       "      <th>19540</th>\n",
       "      <td>8</td>\n",
       "      <td>420000000.0</td>\n",
       "      <td>900.0</td>\n",
       "      <td>2017-12-06</td>\n",
       "      <td>12</td>\n",
       "      <td>2.80</td>\n",
       "      <td>25</td>\n",
       "      <td>409.7</td>\n",
       "      <td>25</td>\n",
       "      <td>False</td>\n",
       "      <td>...</td>\n",
       "      <td>112.0</td>\n",
       "      <td>0</td>\n",
       "      <td>Санкт-Петербург</td>\n",
       "      <td>30706.0</td>\n",
       "      <td>7877.0</td>\n",
       "      <td>0.0</td>\n",
       "      <td>NaN</td>\n",
       "      <td>2.0</td>\n",
       "      <td>318.0</td>\n",
       "      <td>106.0</td>\n",
       "    </tr>\n",
       "    <tr>\n",
       "      <th>14706</th>\n",
       "      <td>15</td>\n",
       "      <td>401300000.0</td>\n",
       "      <td>401.0</td>\n",
       "      <td>2016-02-20</td>\n",
       "      <td>5</td>\n",
       "      <td>2.65</td>\n",
       "      <td>9</td>\n",
       "      <td>204.0</td>\n",
       "      <td>9</td>\n",
       "      <td>False</td>\n",
       "      <td>...</td>\n",
       "      <td>24.0</td>\n",
       "      <td>3</td>\n",
       "      <td>Санкт-Петербург</td>\n",
       "      <td>21912.0</td>\n",
       "      <td>2389.0</td>\n",
       "      <td>1.0</td>\n",
       "      <td>545.0</td>\n",
       "      <td>1.0</td>\n",
       "      <td>478.0</td>\n",
       "      <td>393.0</td>\n",
       "    </tr>\n",
       "    <tr>\n",
       "      <th>1436</th>\n",
       "      <td>19</td>\n",
       "      <td>330000000.0</td>\n",
       "      <td>190.0</td>\n",
       "      <td>2018-04-04</td>\n",
       "      <td>3</td>\n",
       "      <td>3.50</td>\n",
       "      <td>7</td>\n",
       "      <td>95.0</td>\n",
       "      <td>5</td>\n",
       "      <td>False</td>\n",
       "      <td>...</td>\n",
       "      <td>40.0</td>\n",
       "      <td>0</td>\n",
       "      <td>Санкт-Петербург</td>\n",
       "      <td>23011.0</td>\n",
       "      <td>1197.0</td>\n",
       "      <td>3.0</td>\n",
       "      <td>519.0</td>\n",
       "      <td>3.0</td>\n",
       "      <td>285.0</td>\n",
       "      <td>233.0</td>\n",
       "    </tr>\n",
       "    <tr>\n",
       "      <th>15651</th>\n",
       "      <td>20</td>\n",
       "      <td>300000000.0</td>\n",
       "      <td>618.0</td>\n",
       "      <td>2017-12-18</td>\n",
       "      <td>7</td>\n",
       "      <td>3.40</td>\n",
       "      <td>7</td>\n",
       "      <td>258.0</td>\n",
       "      <td>5</td>\n",
       "      <td>False</td>\n",
       "      <td>...</td>\n",
       "      <td>70.0</td>\n",
       "      <td>0</td>\n",
       "      <td>Санкт-Петербург</td>\n",
       "      <td>32440.0</td>\n",
       "      <td>5297.0</td>\n",
       "      <td>0.0</td>\n",
       "      <td>NaN</td>\n",
       "      <td>2.0</td>\n",
       "      <td>198.0</td>\n",
       "      <td>111.0</td>\n",
       "    </tr>\n",
       "    <tr>\n",
       "      <th>22831</th>\n",
       "      <td>18</td>\n",
       "      <td>289238400.0</td>\n",
       "      <td>187.5</td>\n",
       "      <td>2019-03-19</td>\n",
       "      <td>2</td>\n",
       "      <td>3.37</td>\n",
       "      <td>6</td>\n",
       "      <td>63.7</td>\n",
       "      <td>6</td>\n",
       "      <td>False</td>\n",
       "      <td>...</td>\n",
       "      <td>30.2</td>\n",
       "      <td>0</td>\n",
       "      <td>Санкт-Петербург</td>\n",
       "      <td>22494.0</td>\n",
       "      <td>1073.0</td>\n",
       "      <td>3.0</td>\n",
       "      <td>386.0</td>\n",
       "      <td>3.0</td>\n",
       "      <td>188.0</td>\n",
       "      <td>0.0</td>\n",
       "    </tr>\n",
       "  </tbody>\n",
       "</table>\n",
       "<p>5 rows × 22 columns</p>\n",
       "</div>"
      ],
      "text/plain": [
       "       total_images   last_price  total_area first_day_exposition  rooms  \\\n",
       "19540             8  420000000.0       900.0           2017-12-06     12   \n",
       "14706            15  401300000.0       401.0           2016-02-20      5   \n",
       "1436             19  330000000.0       190.0           2018-04-04      3   \n",
       "15651            20  300000000.0       618.0           2017-12-18      7   \n",
       "22831            18  289238400.0       187.5           2019-03-19      2   \n",
       "\n",
       "       ceiling_height  floors_total  living_area  floor  is_apartment  ...  \\\n",
       "19540            2.80            25        409.7     25         False  ...   \n",
       "14706            2.65             9        204.0      9         False  ...   \n",
       "1436             3.50             7         95.0      5         False  ...   \n",
       "15651            3.40             7        258.0      5         False  ...   \n",
       "22831            3.37             6         63.7      6         False  ...   \n",
       "\n",
       "       kitchen_area  balcony    locality_name  airports_nearest  \\\n",
       "19540         112.0        0  Санкт-Петербург           30706.0   \n",
       "14706          24.0        3  Санкт-Петербург           21912.0   \n",
       "1436           40.0        0  Санкт-Петербург           23011.0   \n",
       "15651          70.0        0  Санкт-Петербург           32440.0   \n",
       "22831          30.2        0  Санкт-Петербург           22494.0   \n",
       "\n",
       "      cityCenters_nearest  parks_around3000  parks_nearest  ponds_around3000  \\\n",
       "19540              7877.0               0.0            NaN               2.0   \n",
       "14706              2389.0               1.0          545.0               1.0   \n",
       "1436               1197.0               3.0          519.0               3.0   \n",
       "15651              5297.0               0.0            NaN               2.0   \n",
       "22831              1073.0               3.0          386.0               3.0   \n",
       "\n",
       "       ponds_nearest  days_exposition  \n",
       "19540          318.0            106.0  \n",
       "14706          478.0            393.0  \n",
       "1436           285.0            233.0  \n",
       "15651          198.0            111.0  \n",
       "22831          188.0              0.0  \n",
       "\n",
       "[5 rows x 22 columns]"
      ]
     },
     "execution_count": 27,
     "metadata": {},
     "output_type": "execute_result"
    }
   ],
   "source": [
    "data.sort_values(by='last_price',ascending=False).head()"
   ]
  },
  {
   "cell_type": "code",
   "execution_count": 28,
   "metadata": {},
   "outputs": [
    {
     "name": "stdout",
     "output_type": "stream",
     "text": [
      "count    23682.000000\n",
      "mean        60.297014\n",
      "std         35.448697\n",
      "min         12.000000\n",
      "25%         40.000000\n",
      "50%         52.000000\n",
      "75%         69.800000\n",
      "max        900.000000\n",
      "Name: total_area, dtype: float64\n"
     ]
    }
   ],
   "source": [
    "print(data['total_area'].describe())"
   ]
  },
  {
   "cell_type": "code",
   "execution_count": 29,
   "metadata": {},
   "outputs": [
    {
     "data": {
      "text/plain": [
       "<AxesSubplot:>"
      ]
     },
     "execution_count": 29,
     "metadata": {},
     "output_type": "execute_result"
    },
    {
     "data": {
      "image/png": "[encoded data removed]",
      "text/plain": [
       "<Figure size 432x288 with 1 Axes>"
      ]
     },
     "metadata": {
      "needs_background": "light"
     },
     "output_type": "display_data"
    }
   ],
   "source": [
    "data.boxplot(['total_area'])"
   ]
  },
  {
   "cell_type": "markdown",
   "metadata": {},
   "source": [
    "Наблюдаем выбросы - все, что за чертой"
   ]
  },
  {
   "cell_type": "code",
   "execution_count": 30,
   "metadata": {},
   "outputs": [
    {
     "name": "stdout",
     "output_type": "stream",
     "text": [
      "AxesSubplot(0.125,0.125;0.775x0.755)\n"
     ]
    },
    {
     "data": {
      "image/png": "[encoded data removed]",
      "text/plain": [
       "<Figure size 432x288 with 1 Axes>"
      ]
     },
     "metadata": {
      "needs_background": "light"
     },
     "output_type": "display_data"
    }
   ],
   "source": [
    "print(data['total_area'].hist(bins=50))"
   ]
  },
  {
   "cell_type": "code",
   "execution_count": 31,
   "metadata": {},
   "outputs": [],
   "source": [
    "def categorize_total_area(total_area): #создадим категории по столбцу общая площадь\n",
    "    try:\n",
    "        if 0 <= total_area <= 15:\n",
    "            return '0-10'\n",
    "        elif 16 <= total_area <= 25:\n",
    "            return '11-25'\n",
    "        elif 26 <= total_area <= 40:\n",
    "            return '26-40'\n",
    "        elif 41 <= total_area <= 60:\n",
    "            return '41-60'\n",
    "        elif 61 <= total_area <= 80:\n",
    "            return '61-80'\n",
    "        elif 81 <= total_area <= 100:\n",
    "            return '81-100'\n",
    "        elif 101 <= total_area <= 125:\n",
    "            return '101-125'\n",
    "        elif 126 <= total_area <= 200:\n",
    "            return '126-200'\n",
    "        elif 201 <= total_area <= 300:\n",
    "            return '201-300'\n",
    "        elif total_area >= 301:\n",
    "            return '301 и выше'\n",
    "        \n",
    "    except:\n",
    "        pass"
   ]
  },
  {
   "cell_type": "code",
   "execution_count": 32,
   "metadata": {},
   "outputs": [
    {
     "name": "stdout",
     "output_type": "stream",
     "text": [
      "41-60         8866\n",
      "26-40         5776\n",
      "61-80         4617\n",
      "81-100        1837\n",
      "101-125        859\n",
      "126-200        701\n",
      "11-25          225\n",
      "201-300        164\n",
      "301 и выше      58\n",
      "0-10             8\n",
      "Name: total_area_category, dtype: int64\n"
     ]
    }
   ],
   "source": [
    "data['total_area_category'] = data['total_area'].apply(categorize_total_area)\n",
    "print(data['total_area_category'].value_counts())"
   ]
  },
  {
   "cell_type": "code",
   "execution_count": 33,
   "metadata": {},
   "outputs": [
    {
     "name": "stdout",
     "output_type": "stream",
     "text": [
      "        index  total_area_category\n",
      "0       41-60            38.362684\n",
      "1       26-40            24.992428\n",
      "2       61-80            19.977500\n",
      "3      81-100             7.948596\n",
      "4     101-125             3.716845\n",
      "5     126-200             3.033188\n",
      "6       11-25             0.973562\n",
      "7     201-300             0.709619\n",
      "8  301 и выше             0.250963\n",
      "9        0-10             0.034616\n"
     ]
    }
   ],
   "source": [
    "percentage = pd.DataFrame(data['total_area_category'].value_counts(normalize=True)*100).reset_index()\n",
    "\n",
    "print(percentage)"
   ]
  },
  {
   "cell_type": "markdown",
   "metadata": {},
   "source": [
    " Оценим в процентом соотношении долю выбросов. Минимальная группа (0-10) и Максимальная группа (301 и выше) занимают 0.03% и 0.25 % соответственно от выборки. Можем убирать данные"
   ]
  },
  {
   "cell_type": "code",
   "execution_count": 34,
   "metadata": {},
   "outputs": [
    {
     "name": "stdout",
     "output_type": "stream",
     "text": [
      "AxesSubplot(0.125,0.125;0.775x0.755)\n"
     ]
    },
    {
     "data": {
      "image/png": "[encoded data removed]",
      "text/plain": [
       "<Figure size 432x288 with 1 Axes>"
      ]
     },
     "metadata": {
      "needs_background": "light"
     },
     "output_type": "display_data"
    }
   ],
   "source": [
    "data = data.query('10<total_area<301')\n",
    "print(data['total_area'].hist())"
   ]
  },
  {
   "cell_type": "code",
   "execution_count": 35,
   "metadata": {},
   "outputs": [
    {
     "name": "stdout",
     "output_type": "stream",
     "text": [
      "count    21735.000000\n",
      "mean        34.025137\n",
      "std         19.826379\n",
      "min          2.000000\n",
      "25%         18.600000\n",
      "50%         30.000000\n",
      "75%         42.200000\n",
      "max        250.000000\n",
      "Name: living_area, dtype: float64\n",
      "AxesSubplot(0.125,0.125;0.775x0.755)\n"
     ]
    },
    {
     "data": {
      "image/png": "[encoded data removed]",
      "text/plain": [
       "<Figure size 432x288 with 1 Axes>"
      ]
     },
     "metadata": {
      "needs_background": "light"
     },
     "output_type": "display_data"
    }
   ],
   "source": [
    "print(data['living_area'].describe())\n",
    "print(data['living_area'].hist())"
   ]
  },
  {
   "cell_type": "markdown",
   "metadata": {},
   "source": [
    "Убираем из выборки квартиры с жилой площадью меньше 10кв.м Аномально низкий показатель"
   ]
  },
  {
   "cell_type": "code",
   "execution_count": 36,
   "metadata": {},
   "outputs": [
    {
     "name": "stdout",
     "output_type": "stream",
     "text": [
      "AxesSubplot(0.125,0.125;0.775x0.755)\n"
     ]
    },
    {
     "data": {
      "image/png": "[encoded data removed]",
      "text/plain": [
       "<Figure size 432x288 with 1 Axes>"
      ]
     },
     "metadata": {
      "needs_background": "light"
     },
     "output_type": "display_data"
    }
   ],
   "source": [
    "data = data.query('living_area>10')\n",
    "print(data['rooms'].hist())"
   ]
  },
  {
   "cell_type": "code",
   "execution_count": 37,
   "metadata": {},
   "outputs": [
    {
     "name": "stdout",
     "output_type": "stream",
     "text": [
      "count    21677.000000\n",
      "mean         2.063431\n",
      "std          1.047184\n",
      "min          0.000000\n",
      "25%          1.000000\n",
      "50%          2.000000\n",
      "75%          3.000000\n",
      "max         16.000000\n",
      "Name: rooms, dtype: float64\n"
     ]
    }
   ],
   "source": [
    "print(data['rooms'].describe())"
   ]
  },
  {
   "cell_type": "code",
   "execution_count": 38,
   "metadata": {},
   "outputs": [
    {
     "name": "stdout",
     "output_type": "stream",
     "text": [
      "        rooms\n",
      "1   33.846935\n",
      "2   33.611662\n",
      "3   24.740508\n",
      "4    5.000692\n",
      "5    1.287078\n",
      "0    0.825760\n",
      "6    0.415187\n",
      "7    0.189141\n",
      "8    0.036905\n",
      "9    0.013840\n",
      "10   0.013840\n",
      "11   0.009226\n",
      "16   0.004613\n",
      "14   0.004613\n"
     ]
    }
   ],
   "source": [
    "percentage_rooms = pd.DataFrame(data['rooms'].value_counts(normalize=True)*100) #посчитаем долю \n",
    "\n",
    "print(percentage_rooms)"
   ]
  },
  {
   "cell_type": "markdown",
   "metadata": {},
   "source": [
    "Очевидно, что квартир без комнат не бывает. Убираем из выборки квартиры с количеством комнат 0. Они занимают менее 1% от всей выборки."
   ]
  },
  {
   "cell_type": "code",
   "execution_count": 39,
   "metadata": {},
   "outputs": [
    {
     "name": "stdout",
     "output_type": "stream",
     "text": [
      "AxesSubplot(0.125,0.125;0.775x0.755)\n"
     ]
    },
    {
     "data": {
      "image/png": "[encoded data removed]",
      "text/plain": [
       "<Figure size 432x288 with 1 Axes>"
      ]
     },
     "metadata": {
      "needs_background": "light"
     },
     "output_type": "display_data"
    }
   ],
   "source": [
    "data = data.query('rooms>=1')\n",
    "print(data['rooms'].hist())"
   ]
  },
  {
   "cell_type": "code",
   "execution_count": 40,
   "metadata": {},
   "outputs": [
    {
     "name": "stdout",
     "output_type": "stream",
     "text": [
      "<class 'pandas.core.frame.DataFrame'>\n",
      "Int64Index: 21498 entries, 0 to 23698\n",
      "Data columns (total 23 columns):\n",
      " #   Column                Non-Null Count  Dtype         \n",
      "---  ------                --------------  -----         \n",
      " 0   total_images          21498 non-null  int64         \n",
      " 1   last_price            21498 non-null  float64       \n",
      " 2   total_area            21498 non-null  float64       \n",
      " 3   first_day_exposition  21498 non-null  datetime64[ns]\n",
      " 4   rooms                 21498 non-null  int64         \n",
      " 5   ceiling_height        21498 non-null  float64       \n",
      " 6   floors_total          21498 non-null  int64         \n",
      " 7   living_area           21498 non-null  float64       \n",
      " 8   floor                 21498 non-null  int64         \n",
      " 9   is_apartment          21498 non-null  bool          \n",
      " 10  studio                21498 non-null  bool          \n",
      " 11  open_plan             21498 non-null  bool          \n",
      " 12  kitchen_area          20886 non-null  float64       \n",
      " 13  balcony               21498 non-null  int64         \n",
      " 14  locality_name         21498 non-null  object        \n",
      " 15  airports_nearest      16668 non-null  float64       \n",
      " 16  cityCenters_nearest   16687 non-null  float64       \n",
      " 17  parks_around3000      16688 non-null  float64       \n",
      " 18  parks_nearest         7408 non-null   float64       \n",
      " 19  ponds_around3000      16688 non-null  float64       \n",
      " 20  ponds_nearest         8285 non-null   float64       \n",
      " 21  days_exposition       21498 non-null  float64       \n",
      " 22  total_area_category   20973 non-null  object        \n",
      "dtypes: bool(3), datetime64[ns](1), float64(12), int64(5), object(2)\n",
      "memory usage: 3.5+ MB\n"
     ]
    }
   ],
   "source": [
    "data.info() #проверим кол-во строк после фильтрации данных"
   ]
  },
  {
   "cell_type": "markdown",
   "metadata": {},
   "source": [
    "### Посчитайте и добавьте в таблицу новые столбцы"
   ]
  },
  {
   "cell_type": "code",
   "execution_count": 41,
   "metadata": {},
   "outputs": [],
   "source": [
    "data= data.reset_index(drop=True)# сброс индексов в таблице после удаления выбросов"
   ]
  },
  {
   "cell_type": "code",
   "execution_count": 42,
   "metadata": {
    "scrolled": true
   },
   "outputs": [
    {
     "name": "stdout",
     "output_type": "stream",
     "text": [
      "   total_images  last_price  total_area first_day_exposition  rooms  \\\n",
      "0            20  13000000.0      108.00           2019-03-07      3   \n",
      "1             7   3350000.0       40.40           2018-12-04      1   \n",
      "2            10   5196000.0       56.00           2015-08-20      2   \n",
      "3             2  10000000.0      100.00           2018-06-19      2   \n",
      "4            10   2890000.0       30.40           2018-09-10      1   \n",
      "5             6   3700000.0       37.30           2017-11-02      1   \n",
      "6            20   2900000.0       33.16           2018-05-23      1   \n",
      "7            18   5400000.0       61.00           2017-02-26      3   \n",
      "8             5   5050000.0       39.60           2017-11-16      1   \n",
      "9             9   3300000.0       44.00           2018-08-27      2   \n",
      "\n",
      "   ceiling_height  floors_total  living_area  floor  is_apartment  ...  \\\n",
      "0            2.70            16        51.00      8         False  ...   \n",
      "1            2.65            11        18.60      1         False  ...   \n",
      "2            2.65             5        34.30      4         False  ...   \n",
      "3            3.03            14        32.00     13         False  ...   \n",
      "4            2.65            12        14.40      5         False  ...   \n",
      "5            2.65            26        10.60      6         False  ...   \n",
      "6            2.65            27        15.43     26         False  ...   \n",
      "7            2.50             9        43.60      7         False  ...   \n",
      "8            2.67            12        20.30      3         False  ...   \n",
      "9            2.65             5        31.00      4         False  ...   \n",
      "\n",
      "       locality_name  airports_nearest  cityCenters_nearest  parks_around3000  \\\n",
      "0    Санкт-Петербург           18863.0              16028.0               1.0   \n",
      "1     посёлок Шушары           12817.0              18603.0               0.0   \n",
      "2    Санкт-Петербург           21741.0              13933.0               1.0   \n",
      "3    Санкт-Петербург           31856.0               8098.0               2.0   \n",
      "4    посёлок Янино-1               NaN                  NaN               NaN   \n",
      "5  посёлок Парголово           52996.0              19143.0               0.0   \n",
      "6     посёлок Мурино               NaN                  NaN               NaN   \n",
      "7    Санкт-Петербург           50898.0              15008.0               0.0   \n",
      "8    Санкт-Петербург           38357.0              13878.0               1.0   \n",
      "9          Ломоносов           48252.0              51677.0               0.0   \n",
      "\n",
      "  parks_nearest  ponds_around3000  ponds_nearest  days_exposition  \\\n",
      "0         482.0               2.0          755.0              0.0   \n",
      "1           NaN               0.0            NaN             81.0   \n",
      "2          90.0               2.0          574.0            558.0   \n",
      "3         112.0               1.0           48.0            121.0   \n",
      "4           NaN               NaN            NaN             55.0   \n",
      "5           NaN               0.0            NaN            155.0   \n",
      "6           NaN               NaN            NaN            189.0   \n",
      "7           NaN               0.0            NaN            289.0   \n",
      "8         310.0               2.0          553.0            137.0   \n",
      "9           NaN               0.0            NaN              7.0   \n",
      "\n",
      "   total_area_category  price_1  \n",
      "0              101-125   120370  \n",
      "1                 None    82920  \n",
      "2                41-60    92785  \n",
      "3               81-100   100000  \n",
      "4                26-40    95065  \n",
      "5                26-40    99195  \n",
      "6                26-40    87454  \n",
      "7                61-80    88524  \n",
      "8                26-40   127525  \n",
      "9                41-60    75000  \n",
      "\n",
      "[10 rows x 24 columns]\n"
     ]
    }
   ],
   "source": [
    "data['price_1']=data['last_price']/data['total_area']\n",
    "data['price_1']=data['price_1'].astype(int)#цена одного квадратного метра;\n",
    "print(data.head(10))"
   ]
  },
  {
   "cell_type": "code",
   "execution_count": 43,
   "metadata": {
    "scrolled": true
   },
   "outputs": [
    {
     "name": "stdout",
     "output_type": "stream",
     "text": [
      "0        3\n",
      "1        1\n",
      "2        3\n",
      "3        1\n",
      "4        0\n",
      "        ..\n",
      "21493    4\n",
      "21494    1\n",
      "21495    0\n",
      "21496    6\n",
      "21497    4\n",
      "Name: weekday, Length: 21498, dtype: int64\n"
     ]
    }
   ],
   "source": [
    "data['weekday'] = data['first_day_exposition'].dt.weekday #день недели публикации объявления (0 — понедельник, 1 — вторник и так далее);\n",
    "print(data['weekday'])"
   ]
  },
  {
   "cell_type": "code",
   "execution_count": 44,
   "metadata": {},
   "outputs": [
    {
     "name": "stdout",
     "output_type": "stream",
     "text": [
      "0         3\n",
      "1        12\n",
      "2         8\n",
      "3         6\n",
      "4         9\n",
      "         ..\n",
      "21493     8\n",
      "21494     3\n",
      "21495     1\n",
      "21496     2\n",
      "21497     7\n",
      "Name: month, Length: 21498, dtype: int64\n"
     ]
    }
   ],
   "source": [
    "data['month'] = pd.DatetimeIndex(data['first_day_exposition']).month #месяц публикации объявления (1- январь,2- февраль и так далее)\n",
    "print(data['month'])"
   ]
  },
  {
   "cell_type": "code",
   "execution_count": 45,
   "metadata": {},
   "outputs": [
    {
     "name": "stdout",
     "output_type": "stream",
     "text": [
      "0        2019\n",
      "1        2018\n",
      "2        2015\n",
      "3        2018\n",
      "4        2018\n",
      "         ... \n",
      "21493    2016\n",
      "21494    2017\n",
      "21495    2018\n",
      "21496    2018\n",
      "21497    2017\n",
      "Name: year, Length: 21498, dtype: int64\n"
     ]
    }
   ],
   "source": [
    "data['year'] = pd.DatetimeIndex(data['first_day_exposition']).year #год публикации объявления \n",
    "print(data['year'])"
   ]
  },
  {
   "cell_type": "code",
   "execution_count": 46,
   "metadata": {},
   "outputs": [
    {
     "name": "stdout",
     "output_type": "stream",
     "text": [
      "другой       15769\n",
      "последний     3095\n",
      "первый        2634\n",
      "Name: category_type_floor, dtype: int64\n"
     ]
    }
   ],
   "source": [
    " def categorize_type_floor(row):  #тип этажа квартиры (значения — «первый», «последний», «другой»);\n",
    "    floor=row['floor']\n",
    "    floors_total=row['floors_total']\n",
    "    if floor==1:\n",
    "        return 'первый'\n",
    "    if floor==floors_total:\n",
    "        return 'последний'\n",
    "    return 'другой'\n",
    "\n",
    "\n",
    "data['category_type_floor'] = data.apply(categorize_type_floor,axis=1)\n",
    "\n",
    "print(data['category_type_floor'].value_counts())\n"
   ]
  },
  {
   "cell_type": "code",
   "execution_count": 47,
   "metadata": {
    "scrolled": true
   },
   "outputs": [
    {
     "name": "stdout",
     "output_type": "stream",
     "text": [
      "0        16.0\n",
      "1        19.0\n",
      "2        14.0\n",
      "3         8.0\n",
      "4         NaN\n",
      "         ... \n",
      "21493    34.0\n",
      "21494     4.0\n",
      "21495     NaN\n",
      "21496     NaN\n",
      "21497     NaN\n",
      "Name: city_Centers_nearest_dist, Length: 21498, dtype: float64\n"
     ]
    }
   ],
   "source": [
    "data['city_Centers_nearest_dist']=(data['cityCenters_nearest']/1000).round()\n",
    "\n",
    "print(data['city_Centers_nearest_dist'])#расстояние до центра города в километрах (переведите из м в км и округлите до целых значений)"
   ]
  },
  {
   "cell_type": "markdown",
   "metadata": {},
   "source": [
    "### Проведите исследовательский анализ данных"
   ]
  },
  {
   "cell_type": "code",
   "execution_count": 48,
   "metadata": {},
   "outputs": [
    {
     "name": "stdout",
     "output_type": "stream",
     "text": [
      "AxesSubplot(0.125,0.125;0.775x0.755)\n",
      "0    45.0\n",
      "dtype: float64\n"
     ]
    },
    {
     "data": {
      "image/png": "[encoded data removed]",
      "text/plain": [
       "<Figure size 432x288 with 1 Axes>"
      ]
     },
     "metadata": {
      "needs_background": "light"
     },
     "output_type": "display_data"
    }
   ],
   "source": [
    "print(data['total_area'].hist(bins=50))\n",
    "print(data['total_area'].mode())"
   ]
  },
  {
   "cell_type": "markdown",
   "metadata": {},
   "source": [
    "Чаще всего встречаются квартиры с площадью около 40-45м2"
   ]
  },
  {
   "cell_type": "code",
   "execution_count": 49,
   "metadata": {},
   "outputs": [
    {
     "name": "stdout",
     "output_type": "stream",
     "text": [
      "AxesSubplot(0.125,0.125;0.775x0.755)\n",
      "0    18.0\n",
      "dtype: float64\n"
     ]
    },
    {
     "data": {
      "text/plain": [
       "count    21498.000000\n",
       "mean        34.219747\n",
       "std         19.836996\n",
       "min         10.080000\n",
       "25%         18.800000\n",
       "50%         30.000000\n",
       "75%         42.400000\n",
       "max        250.000000\n",
       "Name: living_area, dtype: float64"
      ]
     },
     "execution_count": 49,
     "metadata": {},
     "output_type": "execute_result"
    },
    {
     "data": {
      "image/png": "[encoded data removed]",
      "text/plain": [
       "<Figure size 432x288 with 1 Axes>"
      ]
     },
     "metadata": {
      "needs_background": "light"
     },
     "output_type": "display_data"
    }
   ],
   "source": [
    "print(data['living_area'].hist(bins=50))\n",
    "print(data['living_area'].mode())\n",
    "data['living_area'].describe()"
   ]
  },
  {
   "cell_type": "markdown",
   "metadata": {},
   "source": [
    "При этом жилая площадь чаще всего встречается с квадратурой равной около 18м2"
   ]
  },
  {
   "cell_type": "code",
   "execution_count": 50,
   "metadata": {},
   "outputs": [
    {
     "name": "stdout",
     "output_type": "stream",
     "text": [
      "AxesSubplot(0.125,0.125;0.775x0.755)\n",
      "0    6.0\n",
      "dtype: float64\n"
     ]
    },
    {
     "data": {
      "image/png": "[encoded data removed]",
      "text/plain": [
       "<Figure size 432x288 with 1 Axes>"
      ]
     },
     "metadata": {
      "needs_background": "light"
     },
     "output_type": "display_data"
    }
   ],
   "source": [
    "print(data['kitchen_area'].hist(bins=50))\n",
    "print(data['kitchen_area'].mode())"
   ]
  },
  {
   "cell_type": "markdown",
   "metadata": {},
   "source": [
    "Чаще всего встречается кухня с квадратурой 6 м2"
   ]
  },
  {
   "cell_type": "code",
   "execution_count": 51,
   "metadata": {},
   "outputs": [
    {
     "name": "stdout",
     "output_type": "stream",
     "text": [
      "AxesSubplot(0.125,0.125;0.775x0.755)\n",
      "0    4500000.0\n",
      "dtype: float64\n"
     ]
    },
    {
     "data": {
      "image/png": "[encoded data removed]",
      "text/plain": [
       "<Figure size 432x288 with 1 Axes>"
      ]
     },
     "metadata": {
      "needs_background": "light"
     },
     "output_type": "display_data"
    }
   ],
   "source": [
    "print(data['last_price'].hist(bins=50))\n",
    "print(data['last_price'].mode())"
   ]
  },
  {
   "cell_type": "markdown",
   "metadata": {},
   "source": [
    "Чаще всего встречается цена  4500000.0"
   ]
  },
  {
   "cell_type": "code",
   "execution_count": 52,
   "metadata": {},
   "outputs": [
    {
     "name": "stdout",
     "output_type": "stream",
     "text": [
      "AxesSubplot(0.125,0.125;0.775x0.755)\n"
     ]
    },
    {
     "data": {
      "image/png": "[encoded data removed]",
      "text/plain": [
       "<Figure size 432x288 with 1 Axes>"
      ]
     },
     "metadata": {
      "needs_background": "light"
     },
     "output_type": "display_data"
    }
   ],
   "source": [
    "print(data['rooms'].hist(bins=50))"
   ]
  },
  {
   "cell_type": "markdown",
   "metadata": {},
   "source": [
    "Больше всего 1комнатных квартир. В выборке встречаются и 16комнатные квартиры"
   ]
  },
  {
   "cell_type": "code",
   "execution_count": 53,
   "metadata": {},
   "outputs": [
    {
     "name": "stdout",
     "output_type": "stream",
     "text": [
      "AxesSubplot(0.125,0.125;0.775x0.755)\n"
     ]
    },
    {
     "data": {
      "image/png": "[encoded data removed]",
      "text/plain": [
       "<Figure size 432x288 with 1 Axes>"
      ]
     },
     "metadata": {
      "needs_background": "light"
     },
     "output_type": "display_data"
    }
   ],
   "source": [
    "print(data['ceiling_height'].hist(bins=50))"
   ]
  },
  {
   "cell_type": "markdown",
   "metadata": {},
   "source": [
    "чаще всего встречаются квартиры с потолками 2,7м\n"
   ]
  },
  {
   "cell_type": "code",
   "execution_count": 54,
   "metadata": {},
   "outputs": [
    {
     "name": "stdout",
     "output_type": "stream",
     "text": [
      "AxesSubplot(0.125,0.125;0.775x0.755)\n",
      "0    2\n",
      "dtype: int64\n"
     ]
    },
    {
     "data": {
      "image/png": "[encoded data removed]",
      "text/plain": [
       "<Figure size 432x288 with 1 Axes>"
      ]
     },
     "metadata": {
      "needs_background": "light"
     },
     "output_type": "display_data"
    }
   ],
   "source": [
    "print(data['floor'].hist())\n",
    "print(data['floor'].mode())"
   ]
  },
  {
   "cell_type": "markdown",
   "metadata": {},
   "source": [
    "Максимально большое кол-во квартир в выборке с этажами 2-5.Также в выборке присутствуют и высотки 30этажные"
   ]
  },
  {
   "cell_type": "code",
   "execution_count": 55,
   "metadata": {},
   "outputs": [
    {
     "name": "stdout",
     "output_type": "stream",
     "text": [
      "AxesSubplot(0.125,0.125;0.775x0.755)\n"
     ]
    },
    {
     "data": {
      "image/png": "[encoded data removed]",
      "text/plain": [
       "<Figure size 432x288 with 1 Axes>"
      ]
     },
     "metadata": {
      "needs_background": "light"
     },
     "output_type": "display_data"
    }
   ],
   "source": [
    "print(data['category_type_floor'].hist())\n"
   ]
  },
  {
   "cell_type": "markdown",
   "metadata": {},
   "source": [
    "Более 15тыс раз встречаются квартиры с типом этажа \"другой\". При этом, \"последний\" и \"первый\" практически в одинаковом положении"
   ]
  },
  {
   "cell_type": "code",
   "execution_count": 56,
   "metadata": {},
   "outputs": [
    {
     "name": "stdout",
     "output_type": "stream",
     "text": [
      "AxesSubplot(0.125,0.125;0.775x0.755)\n"
     ]
    },
    {
     "data": {
      "image/png": "[encoded data removed]",
      "text/plain": [
       "<Figure size 432x288 with 1 Axes>"
      ]
     },
     "metadata": {
      "needs_background": "light"
     },
     "output_type": "display_data"
    }
   ],
   "source": [
    "print(data['floors_total'].hist())"
   ]
  },
  {
   "cell_type": "markdown",
   "metadata": {},
   "source": [
    "Максимально большое кол-во домов в выборке с этажами 5-10 "
   ]
  },
  {
   "cell_type": "code",
   "execution_count": 57,
   "metadata": {},
   "outputs": [
    {
     "name": "stdout",
     "output_type": "stream",
     "text": [
      "AxesSubplot(0.125,0.125;0.775x0.755)\n"
     ]
    },
    {
     "data": {
      "image/png": "[encoded data removed]",
      "text/plain": [
       "<Figure size 432x288 with 1 Axes>"
      ]
     },
     "metadata": {
      "needs_background": "light"
     },
     "output_type": "display_data"
    }
   ],
   "source": [
    "print(data['airports_nearest'].hist())"
   ]
  },
  {
   "cell_type": "markdown",
   "metadata": {},
   "source": [
    "в выборке более 4000 квартир, которые находятся от аэропорта на расстоянии 20000м"
   ]
  },
  {
   "cell_type": "code",
   "execution_count": 58,
   "metadata": {},
   "outputs": [
    {
     "name": "stdout",
     "output_type": "stream",
     "text": [
      "AxesSubplot(0.125,0.125;0.775x0.755)\n"
     ]
    },
    {
     "data": {
      "image/png": "[encoded data removed]",
      "text/plain": [
       "<Figure size 432x288 with 1 Axes>"
      ]
     },
     "metadata": {
      "needs_background": "light"
     },
     "output_type": "display_data"
    }
   ],
   "source": [
    "print(data['cityCenters_nearest'].hist())"
   ]
  },
  {
   "cell_type": "markdown",
   "metadata": {},
   "source": [
    "Более 6000 квартир находятся на расстоянии 20000м от центра"
   ]
  },
  {
   "cell_type": "code",
   "execution_count": 59,
   "metadata": {},
   "outputs": [
    {
     "name": "stdout",
     "output_type": "stream",
     "text": [
      "AxesSubplot(0.125,0.125;0.775x0.755)\n"
     ]
    },
    {
     "data": {
      "image/png": "[encoded data removed]",
      "text/plain": [
       "<Figure size 432x288 with 1 Axes>"
      ]
     },
     "metadata": {
      "needs_background": "light"
     },
     "output_type": "display_data"
    }
   ],
   "source": [
    "print(data['parks_nearest'].hist())"
   ]
  },
  {
   "cell_type": "markdown",
   "metadata": {},
   "source": [
    "Более 3500 квартир имеют доступ к паркам на растоянии всего 500м "
   ]
  },
  {
   "cell_type": "code",
   "execution_count": 60,
   "metadata": {},
   "outputs": [
    {
     "name": "stdout",
     "output_type": "stream",
     "text": [
      "AxesSubplot(0.125,0.125;0.775x0.755)\n"
     ]
    },
    {
     "data": {
      "image/png": "[encoded data removed]",
      "text/plain": [
       "<Figure size 432x288 with 1 Axes>"
      ]
     },
     "metadata": {
      "needs_background": "light"
     },
     "output_type": "display_data"
    }
   ],
   "source": [
    "print(data['weekday'].hist(bins=50))"
   ]
  },
  {
   "cell_type": "markdown",
   "metadata": {},
   "source": [
    "Во вт и в чт чаще всего выставляются объявления. В вс меньше всего активность"
   ]
  },
  {
   "cell_type": "code",
   "execution_count": 61,
   "metadata": {
    "scrolled": true
   },
   "outputs": [
    {
     "name": "stdout",
     "output_type": "stream",
     "text": [
      "AxesSubplot(0.125,0.125;0.775x0.755)\n"
     ]
    },
    {
     "data": {
      "image/png": "[encoded data removed]",
      "text/plain": [
       "<Figure size 432x288 with 1 Axes>"
      ]
     },
     "metadata": {
      "needs_background": "light"
     },
     "output_type": "display_data"
    }
   ],
   "source": [
    "print(data['month'].hist(bins=50))"
   ]
  },
  {
   "cell_type": "markdown",
   "metadata": {},
   "source": [
    "Февраль и март самый активный месяц, при этом в мае менее 1500 объявлений"
   ]
  },
  {
   "cell_type": "code",
   "execution_count": 62,
   "metadata": {},
   "outputs": [],
   "source": [
    "data_filter_days=data[data['days_exposition']>0] #убирем нули(бывшие пустые значения) из выборки"
   ]
  },
  {
   "cell_type": "code",
   "execution_count": 63,
   "metadata": {
    "scrolled": false
   },
   "outputs": [
    {
     "name": "stdout",
     "output_type": "stream",
     "text": [
      "AxesSubplot(0.125,0.125;0.775x0.755)\n",
      "count    18540.000000\n",
      "mean       185.356958\n",
      "std        221.505570\n",
      "min          1.000000\n",
      "25%         45.000000\n",
      "50%        102.000000\n",
      "75%        239.000000\n",
      "max       1580.000000\n",
      "Name: days_exposition, dtype: float64\n"
     ]
    },
    {
     "data": {
      "image/png": "[encoded data removed]",
      "text/plain": [
       "<Figure size 432x288 with 1 Axes>"
      ]
     },
     "metadata": {
      "needs_background": "light"
     },
     "output_type": "display_data"
    }
   ],
   "source": [
    "print(data_filter_days['days_exposition'].hist(bins=100))\n",
    "print(data_filter_days['days_exposition'].describe())\n"
   ]
  },
  {
   "cell_type": "code",
   "execution_count": 64,
   "metadata": {
    "scrolled": true
   },
   "outputs": [
    {
     "name": "stdout",
     "output_type": "stream",
     "text": [
      "0.6727386751069026\n"
     ]
    },
    {
     "data": {
      "image/png": "[encoded data removed]",
      "text/plain": [
       "<Figure size 432x288 with 1 Axes>"
      ]
     },
     "metadata": {
      "needs_background": "light"
     },
     "output_type": "display_data"
    }
   ],
   "source": [
    "data.plot(x='last_price', y='total_area', kind='scatter', alpha=0.3) # зависимость цены от общей площади\n",
    "print(data['last_price'].corr(data['total_area']))"
   ]
  },
  {
   "cell_type": "markdown",
   "metadata": {},
   "source": [
    "Корреляция в 0.68 говорит о наличии  связи"
   ]
  },
  {
   "cell_type": "code",
   "execution_count": 65,
   "metadata": {},
   "outputs": [
    {
     "name": "stdout",
     "output_type": "stream",
     "text": [
      "0.5866607158805641\n"
     ]
    },
    {
     "data": {
      "image/png": "[encoded data removed]",
      "text/plain": [
       "<Figure size 432x288 with 1 Axes>"
      ]
     },
     "metadata": {
      "needs_background": "light"
     },
     "output_type": "display_data"
    }
   ],
   "source": [
    "data.plot(x='last_price', y='living_area', kind='scatter', alpha=0.3) # зависимость цены от жилой площади\n",
    "print(data['last_price'].corr(data['living_area']))"
   ]
  },
  {
   "cell_type": "markdown",
   "metadata": {},
   "source": [
    "Корреляция в 0.58 говорит о наличии связи, однако не слишком сильной."
   ]
  },
  {
   "cell_type": "code",
   "execution_count": 66,
   "metadata": {},
   "outputs": [
    {
     "name": "stdout",
     "output_type": "stream",
     "text": [
      "0.516972110938449\n"
     ]
    },
    {
     "data": {
      "image/png": "[encoded data removed]",
      "text/plain": [
       "<Figure size 432x288 with 1 Axes>"
      ]
     },
     "metadata": {
      "needs_background": "light"
     },
     "output_type": "display_data"
    }
   ],
   "source": [
    "data.plot(x='last_price', y='kitchen_area', kind='scatter', alpha=0.3) # зависимость цены от площади кухни\n",
    "print(data['last_price'].corr(data['kitchen_area']))"
   ]
  },
  {
   "cell_type": "markdown",
   "metadata": {},
   "source": [
    " Корреляция в 0.52 говорит о наличии связи ,однако не слишком сильной."
   ]
  },
  {
   "cell_type": "code",
   "execution_count": 67,
   "metadata": {
    "scrolled": true
   },
   "outputs": [
    {
     "data": {
      "image/png": "[encoded data removed]",
      "text/plain": [
       "<Figure size 432x288 with 1 Axes>"
      ]
     },
     "metadata": {
      "needs_background": "light"
     },
     "output_type": "display_data"
    }
   ],
   "source": [
    "data_grouped_rooms=(\n",
    "    data\n",
    "    .pivot_table(index='rooms',values='last_price',aggfunc='median')\n",
    "    .plot(kind='bar',title='Распределение цен в зависимости от кол-ва комнат')\n",
    ")\n",
    "# зависимость цены  числа комнат\n"
   ]
  },
  {
   "cell_type": "markdown",
   "metadata": {},
   "source": [
    "В целом,зависимость наблюдается/чем больше комнат тем больше цена. "
   ]
  },
  {
   "cell_type": "markdown",
   "metadata": {},
   "source": []
  },
  {
   "cell_type": "code",
   "execution_count": 68,
   "metadata": {},
   "outputs": [
    {
     "data": {
      "image/png": "[encoded data removed]",
      "text/plain": [
       "<Figure size 432x288 with 1 Axes>"
      ]
     },
     "metadata": {
      "needs_background": "light"
     },
     "output_type": "display_data"
    }
   ],
   "source": [
    "data_grouped_floor=(\n",
    "    data\n",
    "    .pivot_table(index='category_type_floor',values='last_price',aggfunc='median')\n",
    "    .plot(kind='bar',title='Распределение цен по типу этажей')\n",
    ")\n",
    "# зависимость цены от типа этажа\n"
   ]
  },
  {
   "cell_type": "markdown",
   "metadata": {},
   "source": [
    "Зависимость от типа этажа следующая:\n",
    "цена будет выше если это не первый и не последний этаж.\n",
    "При этом последний этаж дороже чем первый"
   ]
  },
  {
   "cell_type": "code",
   "execution_count": 69,
   "metadata": {},
   "outputs": [
    {
     "data": {
      "image/png": "[encoded data removed]",
      "text/plain": [
       "<Figure size 432x288 with 1 Axes>"
      ]
     },
     "metadata": {
      "needs_background": "light"
     },
     "output_type": "display_data"
    }
   ],
   "source": [
    "data_grouped_weekday=(\n",
    "    data\n",
    "    .pivot_table(index='weekday',values='last_price',aggfunc='median')\n",
    "    .plot(kind='bar',title='Распределение цен по дням недели')\n",
    ")\n",
    "# зависимость цены от дня недели\n"
   ]
  },
  {
   "cell_type": "markdown",
   "metadata": {},
   "source": [
    "Не наблюдается зависимость цены от дня недели. "
   ]
  },
  {
   "cell_type": "code",
   "execution_count": 70,
   "metadata": {},
   "outputs": [
    {
     "data": {
      "image/png": "[encoded data removed]",
      "text/plain": [
       "<Figure size 432x288 with 1 Axes>"
      ]
     },
     "metadata": {
      "needs_background": "light"
     },
     "output_type": "display_data"
    }
   ],
   "source": [
    "data_grouped_month=(\n",
    "    data\n",
    "    .pivot_table(index='month',values='last_price',aggfunc='median')\n",
    "    .plot(kind='bar',title='Распределение цен по месяцам')\n",
    ")\n",
    "# зависимость цены от месяца"
   ]
  },
  {
   "cell_type": "markdown",
   "metadata": {},
   "source": [
    "Апрельские объявления имеют самые высокие цены"
   ]
  },
  {
   "cell_type": "code",
   "execution_count": 71,
   "metadata": {},
   "outputs": [
    {
     "data": {
      "image/png": "[encoded data removed]",
      "text/plain": [
       "<Figure size 432x288 with 1 Axes>"
      ]
     },
     "metadata": {
      "needs_background": "light"
     },
     "output_type": "display_data"
    }
   ],
   "source": [
    "data_grouped_year=(\n",
    "    data\n",
    "    .pivot_table(index='year',values='last_price',aggfunc='median')\n",
    "    .plot(kind='bar',title='Распределение цен по годам')\n",
    ")\n",
    "# зависимость цены от года"
   ]
  },
  {
   "cell_type": "markdown",
   "metadata": {},
   "source": [
    "Линейной зависимости на протяжении с 2014 по 2019 не наблюдается.Линейный рост цен на квартиры начинается с 2017 года"
   ]
  },
  {
   "cell_type": "code",
   "execution_count": 72,
   "metadata": {
    "scrolled": false
   },
   "outputs": [
    {
     "data": {
      "text/html": [
       "<div>\n",
       "<style scoped>\n",
       "    .dataframe tbody tr th:only-of-type {\n",
       "        vertical-align: middle;\n",
       "    }\n",
       "\n",
       "    .dataframe tbody tr th {\n",
       "        vertical-align: top;\n",
       "    }\n",
       "\n",
       "    .dataframe thead th {\n",
       "        text-align: right;\n",
       "    }\n",
       "</style>\n",
       "<table border=\"1\" class=\"dataframe\">\n",
       "  <thead>\n",
       "    <tr style=\"text-align: right;\">\n",
       "      <th></th>\n",
       "      <th>count</th>\n",
       "    </tr>\n",
       "    <tr>\n",
       "      <th>locality_name</th>\n",
       "      <th></th>\n",
       "    </tr>\n",
       "  </thead>\n",
       "  <tbody>\n",
       "    <tr>\n",
       "      <th>Санкт-Петербург</th>\n",
       "      <td>14384</td>\n",
       "    </tr>\n",
       "    <tr>\n",
       "      <th>посёлок Мурино</th>\n",
       "      <td>464</td>\n",
       "    </tr>\n",
       "    <tr>\n",
       "      <th>посёлок Шушары</th>\n",
       "      <td>400</td>\n",
       "    </tr>\n",
       "    <tr>\n",
       "      <th>Всеволожск</th>\n",
       "      <td>366</td>\n",
       "    </tr>\n",
       "    <tr>\n",
       "      <th>Пушкин</th>\n",
       "      <td>342</td>\n",
       "    </tr>\n",
       "    <tr>\n",
       "      <th>Колпино</th>\n",
       "      <td>327</td>\n",
       "    </tr>\n",
       "    <tr>\n",
       "      <th>посёлок Парголово</th>\n",
       "      <td>297</td>\n",
       "    </tr>\n",
       "    <tr>\n",
       "      <th>Гатчина</th>\n",
       "      <td>292</td>\n",
       "    </tr>\n",
       "    <tr>\n",
       "      <th>деревня Кудрово</th>\n",
       "      <td>245</td>\n",
       "    </tr>\n",
       "    <tr>\n",
       "      <th>Петергоф</th>\n",
       "      <td>197</td>\n",
       "    </tr>\n",
       "  </tbody>\n",
       "</table>\n",
       "</div>"
      ],
      "text/plain": [
       "                   count\n",
       "locality_name           \n",
       "Санкт-Петербург    14384\n",
       "посёлок Мурино       464\n",
       "посёлок Шушары       400\n",
       "Всеволожск           366\n",
       "Пушкин               342\n",
       "Колпино              327\n",
       "посёлок Парголово    297\n",
       "Гатчина              292\n",
       "деревня Кудрово      245\n",
       "Петергоф             197"
      ]
     },
     "metadata": {},
     "output_type": "display_data"
    }
   ],
   "source": [
    "data_grouped_top_10=(\n",
    "    data\n",
    "    .pivot_table(index='locality_name',values='studio',aggfunc='count') #создана сводная с данными по населенным пунктам и кол-ву объявлений\n",
    "    .sort_values(by='studio',ascending=False) #отфильтрованы населенные пункты по убыванию\n",
    ")\n",
    "data_grouped_top_10.columns=['count']\n",
    "display(data_grouped_top_10.head(10)) #выведены на экран топ10 \n"
   ]
  },
  {
   "cell_type": "code",
   "execution_count": 73,
   "metadata": {
    "scrolled": true
   },
   "outputs": [
    {
     "name": "stdout",
     "output_type": "stream",
     "text": [
      "                    price_1\n",
      "locality_name              \n",
      "посёлок Репино     127678.5\n",
      "деревня Бор        105539.0\n",
      "Санкт-Петербург    104251.5\n",
      "Зеленогорск        101666.5\n",
      "Кудрово            100000.0\n",
      "Пушкин             100000.0\n",
      "Сестрорецк          99526.5\n",
      "деревня Кудрово     92297.0\n",
      "посёлок Парголово   92051.0\n",
      "деревня Мистолово   90229.0\n"
     ]
    }
   ],
   "source": [
    "data_median_price_1=(\n",
    "    data\n",
    "    .pivot_table(index='locality_name',values='price_1',aggfunc='median')\n",
    "    .sort_values(by='price_1',ascending=False)    #произведен расчет средней  цены одного квадратного метра во всех населенных пунктах\n",
    ")\n",
    "    \n",
    "print(data_median_price_1.head(10))\n"
   ]
  },
  {
   "cell_type": "code",
   "execution_count": 74,
   "metadata": {
    "scrolled": true
   },
   "outputs": [
    {
     "data": {
      "text/html": [
       "<div>\n",
       "<style scoped>\n",
       "    .dataframe tbody tr th:only-of-type {\n",
       "        vertical-align: middle;\n",
       "    }\n",
       "\n",
       "    .dataframe tbody tr th {\n",
       "        vertical-align: top;\n",
       "    }\n",
       "\n",
       "    .dataframe thead th {\n",
       "        text-align: right;\n",
       "    }\n",
       "</style>\n",
       "<table border=\"1\" class=\"dataframe\">\n",
       "  <thead>\n",
       "    <tr style=\"text-align: right;\">\n",
       "      <th></th>\n",
       "      <th>count</th>\n",
       "      <th>median_price_1</th>\n",
       "    </tr>\n",
       "    <tr>\n",
       "      <th>locality_name</th>\n",
       "      <th></th>\n",
       "      <th></th>\n",
       "    </tr>\n",
       "  </thead>\n",
       "  <tbody>\n",
       "    <tr>\n",
       "      <th>Санкт-Петербург</th>\n",
       "      <td>14384</td>\n",
       "      <td>104251.5</td>\n",
       "    </tr>\n",
       "    <tr>\n",
       "      <th>посёлок Мурино</th>\n",
       "      <td>464</td>\n",
       "      <td>85697.0</td>\n",
       "    </tr>\n",
       "    <tr>\n",
       "      <th>посёлок Шушары</th>\n",
       "      <td>400</td>\n",
       "      <td>77312.0</td>\n",
       "    </tr>\n",
       "    <tr>\n",
       "      <th>Всеволожск</th>\n",
       "      <td>366</td>\n",
       "      <td>65789.0</td>\n",
       "    </tr>\n",
       "    <tr>\n",
       "      <th>Пушкин</th>\n",
       "      <td>342</td>\n",
       "      <td>100000.0</td>\n",
       "    </tr>\n",
       "    <tr>\n",
       "      <th>Колпино</th>\n",
       "      <td>327</td>\n",
       "      <td>74722.0</td>\n",
       "    </tr>\n",
       "    <tr>\n",
       "      <th>посёлок Парголово</th>\n",
       "      <td>297</td>\n",
       "      <td>92051.0</td>\n",
       "    </tr>\n",
       "    <tr>\n",
       "      <th>Гатчина</th>\n",
       "      <td>292</td>\n",
       "      <td>67745.5</td>\n",
       "    </tr>\n",
       "    <tr>\n",
       "      <th>деревня Кудрово</th>\n",
       "      <td>245</td>\n",
       "      <td>92297.0</td>\n",
       "    </tr>\n",
       "    <tr>\n",
       "      <th>Петергоф</th>\n",
       "      <td>197</td>\n",
       "      <td>81993.0</td>\n",
       "    </tr>\n",
       "  </tbody>\n",
       "</table>\n",
       "</div>"
      ],
      "text/plain": [
       "                   count  median_price_1\n",
       "locality_name                           \n",
       "Санкт-Петербург    14384        104251.5\n",
       "посёлок Мурино       464         85697.0\n",
       "посёлок Шушары       400         77312.0\n",
       "Всеволожск           366         65789.0\n",
       "Пушкин               342        100000.0\n",
       "Колпино              327         74722.0\n",
       "посёлок Парголово    297         92051.0\n",
       "Гатчина              292         67745.5\n",
       "деревня Кудрово      245         92297.0\n",
       "Петергоф             197         81993.0"
      ]
     },
     "metadata": {},
     "output_type": "display_data"
    }
   ],
   "source": [
    "data_grouped_top_10['median_price_1']=data_median_price_1['price_1']#Добавлен столбец средней цены в таблицу data_grouped_top_10 из таблицы data_median_price_1\n",
    "display(data_grouped_top_10.head(10))"
   ]
  },
  {
   "cell_type": "code",
   "execution_count": 75,
   "metadata": {
    "scrolled": true
   },
   "outputs": [
    {
     "name": "stdout",
     "output_type": "stream",
     "text": [
      "                 price_1\n",
      "locality_name           \n",
      "посёлок Репино  127678.5\n",
      "                    price_1\n",
      "locality_name              \n",
      "деревня Старополье  10368.0\n"
     ]
    }
   ],
   "source": [
    "max_median_price_1=data_median_price_1[data_median_price_1['price_1']==data_median_price_1['price_1'].max()]\n",
    "min_median_price_1=data_median_price_1[data_median_price_1['price_1']==data_median_price_1['price_1'].min()]\n",
    "print(max_median_price_1) #выведем на экран максимальное среднее значение \n",
    "print(min_median_price_1) #выведем на экран минимальное среднее значение "
   ]
  },
  {
   "cell_type": "code",
   "execution_count": 76,
   "metadata": {},
   "outputs": [],
   "source": [
    "area_in_Spb=data.query('locality_name==\"Санкт-Петербург\"') #выделим квартиры в Санкт-Петербурге\n",
    "\n"
   ]
  },
  {
   "cell_type": "code",
   "execution_count": 77,
   "metadata": {
    "scrolled": true
   },
   "outputs": [
    {
     "name": "stdout",
     "output_type": "stream",
     "text": [
      "-0.3207324449857438\n"
     ]
    },
    {
     "data": {
      "image/png": "[encoded data removed]",
      "text/plain": [
       "<Figure size 432x288 with 1 Axes>"
      ]
     },
     "metadata": {
      "needs_background": "light"
     },
     "output_type": "display_data"
    }
   ],
   "source": [
    "data_grouped_Spb=(\n",
    "    area_in_Spb\n",
    "    .pivot_table(index='city_Centers_nearest_dist',values='price_1',aggfunc='median')\n",
    "    .plot(kind='bar',title='Распределение средней цены за кв.м')\n",
    ")\n",
    "print(area_in_Spb['city_Centers_nearest_dist'].corr(area_in_Spb['price_1']))"
   ]
  },
  {
   "cell_type": "markdown",
   "metadata": {},
   "source": [
    "Отрицательная корреляция и график говорит о том , что с ростом показателя city_Centers_nearest_dist (км) уменьшается показтель цены.\n",
    "Чем ближе к центру тем дороже цена."
   ]
  },
  {
   "cell_type": "markdown",
   "metadata": {},
   "source": [
    "### Общий вывод"
   ]
  },
  {
   "cell_type": "markdown",
   "metadata": {},
   "source": [
    "В ходе предобработки данных были выявлены:\n",
    "1. Аномальные значения(в столбцах ceiling_height,floors_total,last_price,total_area,living_area,rooms). 2201 (9% от общей выборки) строк аномальных значений были удалены из выборки. \n",
    "2. Неявные дубликаты. Из столбца locality_name были удалены 42 строки \n",
    "3. Пропуски. Были проделаны операции по заменен пустот средними показателями (ceiling_height),а также замены пустот на нули и булевые значения в других колонках.\n",
    "Причины пропусков могут быть технической сбой, отсутсвтие данных или нежелание указывать продавцом какую либо информацию. \n",
    "В ходе  исследовательского анализа данных было выявлено:\n",
    "1. Чаще всего встречаются квартиры с площадью около 40-45м2\n",
    "2. Чаще встречаются квартиры с жилой площадью около 18м2  и 6м2 кухня\n",
    "3. Большая часть выборки это квартиры 5этажных зданий\n",
    "4. 12% от всей выборки - это квартиры первого этажа\n",
    "5. Больше всего представлено 1 и 2х комнатных квартир\n",
    "6. Территориально большая часть продаваемых квартир расположены в радиусе 30 км от центра\n",
    "7. Февраль и март самый активный месяц, при этом в мае менее 1500 объявлений\n",
    "8. В вс меньше всего публикаций\n",
    "9. Быстрой продажей можно считать показатель продажу в течении 45 дней и меньше.\n",
    "10. Самая долгая продажа 1580 дней или более 4 лет.\n",
    "\n",
    "Выявлены следующие зависимости:\n",
    "1. Чем больше площадь квартиры тем выше цена\n",
    "2. Чем больше комнат тем выше цена \n",
    "3. Wена будет выше если это не первый и не последний этаж. При этом последний этаж дороже чем первый\n",
    "4. Не наблюдается зависимость цены от дня недели.\n",
    "5. Апрельские объявления самые высокие в цене\n",
    "6. Минимальная средняя цена за м2 10 368.0\n",
    "7. Максимальная средняя цена за м2 127 678.5\n",
    "8. Чем ближе в г.Санкт-Петербурге квартира к центру тем дороже ее цена.\n",
    "\n",
    "\n"
   ]
  }
 ],
 "metadata": {
  "ExecuteTimeLog": [
   {
    "duration": 675,
    "start_time": "2023-01-24T10:13:02.684Z"
   },
   {
    "duration": 89,
    "start_time": "2023-01-24T10:13:38.542Z"
   },
   {
    "duration": 103,
    "start_time": "2023-01-24T10:14:24.476Z"
   },
   {
    "duration": 2266,
    "start_time": "2023-01-24T10:15:30.579Z"
   },
   {
    "duration": 2178,
    "start_time": "2023-01-24T10:18:13.789Z"
   },
   {
    "duration": 9,
    "start_time": "2023-01-24T10:20:57.707Z"
   },
   {
    "duration": 75,
    "start_time": "2023-01-24T10:34:30.070Z"
   },
   {
    "duration": 15,
    "start_time": "2023-01-24T10:35:13.907Z"
   },
   {
    "duration": 9,
    "start_time": "2023-01-24T10:35:42.514Z"
   },
   {
    "duration": 14,
    "start_time": "2023-01-24T10:35:53.448Z"
   },
   {
    "duration": 4,
    "start_time": "2023-01-24T10:36:15.032Z"
   },
   {
    "duration": 4,
    "start_time": "2023-01-24T10:36:20.631Z"
   },
   {
    "duration": 5,
    "start_time": "2023-01-24T10:36:52.301Z"
   },
   {
    "duration": 1921,
    "start_time": "2023-01-24T10:37:00.149Z"
   },
   {
    "duration": 9,
    "start_time": "2023-01-24T10:37:10.133Z"
   },
   {
    "duration": 12,
    "start_time": "2023-01-24T10:39:15.310Z"
   },
   {
    "duration": 56,
    "start_time": "2023-01-24T12:16:27.543Z"
   },
   {
    "duration": 3518,
    "start_time": "2023-01-24T12:16:31.875Z"
   },
   {
    "duration": 21,
    "start_time": "2023-01-24T12:16:40.971Z"
   },
   {
    "duration": 30,
    "start_time": "2023-01-24T12:16:53.739Z"
   },
   {
    "duration": 130,
    "start_time": "2023-01-24T12:20:18.108Z"
   },
   {
    "duration": 26,
    "start_time": "2023-01-24T12:20:20.421Z"
   },
   {
    "duration": 16,
    "start_time": "2023-01-24T12:20:26.771Z"
   },
   {
    "duration": 2318,
    "start_time": "2023-01-24T12:20:30.816Z"
   },
   {
    "duration": 11,
    "start_time": "2023-01-24T12:21:24.708Z"
   },
   {
    "duration": 6,
    "start_time": "2023-01-24T12:22:08.819Z"
   },
   {
    "duration": 24,
    "start_time": "2023-01-24T12:22:35.344Z"
   },
   {
    "duration": 786,
    "start_time": "2023-01-24T15:17:29.373Z"
   },
   {
    "duration": 23,
    "start_time": "2023-01-24T15:17:32.541Z"
   },
   {
    "duration": 22,
    "start_time": "2023-01-24T15:17:38.300Z"
   },
   {
    "duration": 2638,
    "start_time": "2023-01-24T15:17:42.365Z"
   },
   {
    "duration": 10,
    "start_time": "2023-01-24T15:17:49.915Z"
   },
   {
    "duration": 13,
    "start_time": "2023-01-24T15:17:53.342Z"
   },
   {
    "duration": 79,
    "start_time": "2023-01-24T15:24:03.052Z"
   },
   {
    "duration": 19,
    "start_time": "2023-01-24T15:25:08.857Z"
   },
   {
    "duration": 13,
    "start_time": "2023-01-24T15:25:58.189Z"
   },
   {
    "duration": 11,
    "start_time": "2023-01-24T15:26:02.539Z"
   },
   {
    "duration": 6,
    "start_time": "2023-01-24T15:27:58.546Z"
   },
   {
    "duration": 17,
    "start_time": "2023-01-24T15:28:14.925Z"
   },
   {
    "duration": 11,
    "start_time": "2023-01-24T15:29:15.759Z"
   },
   {
    "duration": 14,
    "start_time": "2023-01-24T15:29:22.230Z"
   },
   {
    "duration": 12,
    "start_time": "2023-01-24T15:37:52.077Z"
   },
   {
    "duration": 16,
    "start_time": "2023-01-24T15:38:10.355Z"
   },
   {
    "duration": 5,
    "start_time": "2023-01-24T16:05:08.168Z"
   },
   {
    "duration": 4,
    "start_time": "2023-01-24T16:07:26.317Z"
   },
   {
    "duration": 19,
    "start_time": "2023-01-24T16:10:17.853Z"
   },
   {
    "duration": 18,
    "start_time": "2023-01-24T16:12:10.904Z"
   },
   {
    "duration": 31,
    "start_time": "2023-01-24T16:19:18.680Z"
   },
   {
    "duration": 11,
    "start_time": "2023-01-24T16:19:31.612Z"
   },
   {
    "duration": 4,
    "start_time": "2023-01-24T16:22:49.584Z"
   },
   {
    "duration": 17,
    "start_time": "2023-01-24T16:24:00.445Z"
   },
   {
    "duration": 30,
    "start_time": "2023-01-24T16:24:06.062Z"
   },
   {
    "duration": 25,
    "start_time": "2023-01-24T16:24:13.895Z"
   },
   {
    "duration": 80,
    "start_time": "2023-01-24T16:32:45.248Z"
   },
   {
    "duration": 68,
    "start_time": "2023-01-24T16:33:19.023Z"
   },
   {
    "duration": 554,
    "start_time": "2023-01-24T16:33:27.658Z"
   },
   {
    "duration": 20,
    "start_time": "2023-01-24T16:33:31.855Z"
   },
   {
    "duration": 15,
    "start_time": "2023-01-24T16:33:37.382Z"
   },
   {
    "duration": 2290,
    "start_time": "2023-01-24T16:33:46.007Z"
   },
   {
    "duration": 9,
    "start_time": "2023-01-24T16:33:55.255Z"
   },
   {
    "duration": 13,
    "start_time": "2023-01-24T16:34:00.775Z"
   },
   {
    "duration": 18,
    "start_time": "2023-01-24T16:34:05.078Z"
   },
   {
    "duration": 5,
    "start_time": "2023-01-24T16:34:10.268Z"
   },
   {
    "duration": 51,
    "start_time": "2023-01-24T16:34:13.624Z"
   },
   {
    "duration": 21,
    "start_time": "2023-01-24T16:47:26.517Z"
   },
   {
    "duration": 8,
    "start_time": "2023-01-24T16:48:00.239Z"
   },
   {
    "duration": 4,
    "start_time": "2023-01-24T16:48:15.247Z"
   },
   {
    "duration": 16,
    "start_time": "2023-01-24T17:00:29.269Z"
   },
   {
    "duration": 16,
    "start_time": "2023-01-24T17:00:34.117Z"
   },
   {
    "duration": 799,
    "start_time": "2023-01-25T05:41:38.910Z"
   },
   {
    "duration": 23,
    "start_time": "2023-01-25T05:41:41.866Z"
   },
   {
    "duration": 17,
    "start_time": "2023-01-25T05:41:44.790Z"
   },
   {
    "duration": 2551,
    "start_time": "2023-01-25T05:41:47.673Z"
   },
   {
    "duration": 9,
    "start_time": "2023-01-25T05:41:54.246Z"
   },
   {
    "duration": 15,
    "start_time": "2023-01-25T05:41:57.547Z"
   },
   {
    "duration": 20,
    "start_time": "2023-01-25T05:42:00.734Z"
   },
   {
    "duration": 5,
    "start_time": "2023-01-25T05:42:05.914Z"
   },
   {
    "duration": 5,
    "start_time": "2023-01-25T05:42:49.630Z"
   },
   {
    "duration": 78,
    "start_time": "2023-01-25T05:43:12.745Z"
   },
   {
    "duration": 68,
    "start_time": "2023-01-25T05:43:20.365Z"
   },
   {
    "duration": 7,
    "start_time": "2023-01-25T05:43:33.566Z"
   },
   {
    "duration": 6,
    "start_time": "2023-01-25T05:46:09.654Z"
   },
   {
    "duration": 23,
    "start_time": "2023-01-25T05:50:56.434Z"
   },
   {
    "duration": 14,
    "start_time": "2023-01-25T05:51:12.221Z"
   },
   {
    "duration": 29,
    "start_time": "2023-01-25T05:51:17.729Z"
   },
   {
    "duration": 21,
    "start_time": "2023-01-25T05:51:49.121Z"
   },
   {
    "duration": 21,
    "start_time": "2023-01-25T05:52:04.017Z"
   },
   {
    "duration": 12,
    "start_time": "2023-01-25T06:02:56.733Z"
   },
   {
    "duration": 18,
    "start_time": "2023-01-25T06:03:12.617Z"
   },
   {
    "duration": 18,
    "start_time": "2023-01-25T06:05:48.306Z"
   },
   {
    "duration": 482,
    "start_time": "2023-01-25T06:18:56.750Z"
   },
   {
    "duration": 479,
    "start_time": "2023-01-25T06:21:36.381Z"
   },
   {
    "duration": 21,
    "start_time": "2023-01-25T06:22:11.321Z"
   },
   {
    "duration": 18,
    "start_time": "2023-01-25T06:22:40.865Z"
   },
   {
    "duration": 23,
    "start_time": "2023-01-25T06:22:55.886Z"
   },
   {
    "duration": 93,
    "start_time": "2023-01-25T06:23:18.809Z"
   },
   {
    "duration": 19,
    "start_time": "2023-01-25T06:23:21.545Z"
   },
   {
    "duration": 16,
    "start_time": "2023-01-25T06:23:24.221Z"
   },
   {
    "duration": 2021,
    "start_time": "2023-01-25T06:23:27.477Z"
   },
   {
    "duration": 9,
    "start_time": "2023-01-25T06:23:33.745Z"
   },
   {
    "duration": 13,
    "start_time": "2023-01-25T06:23:36.562Z"
   },
   {
    "duration": 17,
    "start_time": "2023-01-25T06:23:41.582Z"
   },
   {
    "duration": 19,
    "start_time": "2023-01-25T06:23:45.162Z"
   },
   {
    "duration": 9,
    "start_time": "2023-01-25T06:23:54.462Z"
   },
   {
    "duration": 26,
    "start_time": "2023-01-25T06:24:47.381Z"
   },
   {
    "duration": 11,
    "start_time": "2023-01-25T06:26:16.797Z"
   },
   {
    "duration": 26,
    "start_time": "2023-01-25T06:27:04.797Z"
   },
   {
    "duration": 5,
    "start_time": "2023-01-25T06:35:52.999Z"
   },
   {
    "duration": 15,
    "start_time": "2023-01-25T07:34:05.415Z"
   },
   {
    "duration": 4,
    "start_time": "2023-01-25T07:34:09.682Z"
   },
   {
    "duration": 193,
    "start_time": "2023-01-25T07:34:12.721Z"
   },
   {
    "duration": 4,
    "start_time": "2023-01-25T07:36:51.559Z"
   },
   {
    "duration": 14,
    "start_time": "2023-01-25T07:37:39.133Z"
   },
   {
    "duration": 22,
    "start_time": "2023-01-25T07:37:47.342Z"
   },
   {
    "duration": 6,
    "start_time": "2023-01-25T07:37:51.951Z"
   },
   {
    "duration": 4,
    "start_time": "2023-01-25T07:37:56.698Z"
   },
   {
    "duration": 206,
    "start_time": "2023-01-25T07:37:59.258Z"
   },
   {
    "duration": 13,
    "start_time": "2023-01-25T07:39:08.789Z"
   },
   {
    "duration": 25,
    "start_time": "2023-01-25T07:39:14.925Z"
   },
   {
    "duration": 5,
    "start_time": "2023-01-25T07:39:22.829Z"
   },
   {
    "duration": 4,
    "start_time": "2023-01-25T07:39:25.378Z"
   },
   {
    "duration": 210,
    "start_time": "2023-01-25T07:39:28.093Z"
   },
   {
    "duration": 4,
    "start_time": "2023-01-25T07:40:52.773Z"
   },
   {
    "duration": 9,
    "start_time": "2023-01-25T07:40:55.009Z"
   },
   {
    "duration": 10,
    "start_time": "2023-01-25T07:40:57.369Z"
   },
   {
    "duration": 17,
    "start_time": "2023-01-25T07:41:33.549Z"
   },
   {
    "duration": 10,
    "start_time": "2023-01-25T07:41:59.993Z"
   },
   {
    "duration": 12,
    "start_time": "2023-01-25T07:42:04.209Z"
   },
   {
    "duration": 3,
    "start_time": "2023-01-25T07:43:04.625Z"
   },
   {
    "duration": 257,
    "start_time": "2023-01-25T07:43:06.968Z"
   },
   {
    "duration": 14,
    "start_time": "2023-01-25T07:48:06.540Z"
   },
   {
    "duration": 22,
    "start_time": "2023-01-25T07:49:19.167Z"
   },
   {
    "duration": 118,
    "start_time": "2023-01-25T07:49:23.740Z"
   },
   {
    "duration": 14,
    "start_time": "2023-01-25T07:49:30.008Z"
   },
   {
    "duration": 12,
    "start_time": "2023-01-25T07:50:03.224Z"
   },
   {
    "duration": 5,
    "start_time": "2023-01-25T07:50:24.607Z"
   },
   {
    "duration": 15,
    "start_time": "2023-01-25T07:52:01.212Z"
   },
   {
    "duration": 30,
    "start_time": "2023-01-25T07:52:04.432Z"
   },
   {
    "duration": 6,
    "start_time": "2023-01-25T07:52:11.399Z"
   },
   {
    "duration": 14,
    "start_time": "2023-01-25T07:53:02.327Z"
   },
   {
    "duration": 16,
    "start_time": "2023-01-25T07:53:28.739Z"
   },
   {
    "duration": 12,
    "start_time": "2023-01-25T07:54:12.175Z"
   },
   {
    "duration": 14,
    "start_time": "2023-01-25T07:54:33.855Z"
   },
   {
    "duration": 12,
    "start_time": "2023-01-25T07:54:36.883Z"
   },
   {
    "duration": 26,
    "start_time": "2023-01-25T07:54:54.115Z"
   },
   {
    "duration": 12,
    "start_time": "2023-01-25T07:54:57.536Z"
   },
   {
    "duration": 7,
    "start_time": "2023-01-25T07:56:12.615Z"
   },
   {
    "duration": 9,
    "start_time": "2023-01-25T07:59:29.514Z"
   },
   {
    "duration": 9,
    "start_time": "2023-01-25T07:59:35.519Z"
   },
   {
    "duration": 29,
    "start_time": "2023-01-25T08:00:04.823Z"
   },
   {
    "duration": 13,
    "start_time": "2023-01-25T08:02:35.986Z"
   },
   {
    "duration": 93,
    "start_time": "2023-01-25T08:32:05.477Z"
   },
   {
    "duration": 20,
    "start_time": "2023-01-25T08:32:08.657Z"
   },
   {
    "duration": 15,
    "start_time": "2023-01-25T08:32:12.005Z"
   },
   {
    "duration": 2164,
    "start_time": "2023-01-25T08:32:15.527Z"
   },
   {
    "duration": 9,
    "start_time": "2023-01-25T08:32:21.973Z"
   },
   {
    "duration": 27,
    "start_time": "2023-01-25T08:32:25.921Z"
   },
   {
    "duration": 26,
    "start_time": "2023-01-25T08:32:33.006Z"
   },
   {
    "duration": 9,
    "start_time": "2023-01-25T08:32:42.830Z"
   },
   {
    "duration": 3,
    "start_time": "2023-01-25T08:33:20.906Z"
   },
   {
    "duration": 11,
    "start_time": "2023-01-25T08:33:24.781Z"
   },
   {
    "duration": 5,
    "start_time": "2023-01-25T08:34:30.997Z"
   },
   {
    "duration": 22,
    "start_time": "2023-01-25T08:36:02.649Z"
   },
   {
    "duration": 20,
    "start_time": "2023-01-25T08:52:39.624Z"
   },
   {
    "duration": 7,
    "start_time": "2023-01-25T09:09:46.933Z"
   },
   {
    "duration": 7,
    "start_time": "2023-01-25T09:09:54.009Z"
   },
   {
    "duration": 17,
    "start_time": "2023-01-25T09:13:28.138Z"
   },
   {
    "duration": 14,
    "start_time": "2023-01-25T09:14:02.725Z"
   },
   {
    "duration": 14,
    "start_time": "2023-01-25T09:17:38.825Z"
   },
   {
    "duration": 9,
    "start_time": "2023-01-25T09:20:00.157Z"
   },
   {
    "duration": 10,
    "start_time": "2023-01-25T09:22:24.321Z"
   },
   {
    "duration": 13,
    "start_time": "2023-01-25T09:23:09.480Z"
   },
   {
    "duration": 21,
    "start_time": "2023-01-25T09:23:27.300Z"
   },
   {
    "duration": 20,
    "start_time": "2023-01-25T09:23:56.524Z"
   },
   {
    "duration": 43,
    "start_time": "2023-01-25T09:25:02.356Z"
   },
   {
    "duration": 604,
    "start_time": "2023-01-25T12:48:08.772Z"
   },
   {
    "duration": 23,
    "start_time": "2023-01-25T12:48:12.868Z"
   },
   {
    "duration": 17,
    "start_time": "2023-01-25T12:48:21.958Z"
   },
   {
    "duration": 2549,
    "start_time": "2023-01-25T12:48:32.453Z"
   },
   {
    "duration": 9,
    "start_time": "2023-01-25T12:48:41.229Z"
   },
   {
    "duration": 34,
    "start_time": "2023-01-25T12:48:45.331Z"
   },
   {
    "duration": 28,
    "start_time": "2023-01-25T12:48:50.497Z"
   },
   {
    "duration": 25,
    "start_time": "2023-01-25T12:48:56.702Z"
   },
   {
    "duration": 4,
    "start_time": "2023-01-25T12:57:56.464Z"
   },
   {
    "duration": 77,
    "start_time": "2023-01-25T12:58:21.026Z"
   },
   {
    "duration": 4,
    "start_time": "2023-01-25T12:58:53.010Z"
   },
   {
    "duration": 4,
    "start_time": "2023-01-25T12:59:17.731Z"
   },
   {
    "duration": 4,
    "start_time": "2023-01-25T12:59:47.113Z"
   },
   {
    "duration": 6,
    "start_time": "2023-01-25T13:00:01.512Z"
   },
   {
    "duration": 31,
    "start_time": "2023-01-25T13:00:50.608Z"
   },
   {
    "duration": 7,
    "start_time": "2023-01-25T13:01:11.148Z"
   },
   {
    "duration": 4,
    "start_time": "2023-01-25T13:04:25.542Z"
   },
   {
    "duration": 131,
    "start_time": "2023-01-25T13:09:53.388Z"
   },
   {
    "duration": 250,
    "start_time": "2023-01-25T13:11:35.016Z"
   },
   {
    "duration": 274,
    "start_time": "2023-01-25T13:16:46.462Z"
   },
   {
    "duration": 235,
    "start_time": "2023-01-25T13:17:14.552Z"
   },
   {
    "duration": 289,
    "start_time": "2023-01-25T13:19:07.568Z"
   },
   {
    "duration": 5408,
    "start_time": "2023-01-25T13:19:46.170Z"
   },
   {
    "duration": 140,
    "start_time": "2023-01-25T13:19:59.053Z"
   },
   {
    "duration": 139,
    "start_time": "2023-01-25T13:20:24.121Z"
   },
   {
    "duration": 132,
    "start_time": "2023-01-25T13:23:22.421Z"
   },
   {
    "duration": 80,
    "start_time": "2023-01-25T13:23:32.758Z"
   },
   {
    "duration": 140,
    "start_time": "2023-01-25T13:23:38.217Z"
   },
   {
    "duration": 266,
    "start_time": "2023-01-25T13:23:52.123Z"
   },
   {
    "duration": 1685,
    "start_time": "2023-01-25T13:24:17.729Z"
   },
   {
    "duration": 15708,
    "start_time": "2023-01-25T13:24:28.477Z"
   },
   {
    "duration": 266,
    "start_time": "2023-01-25T13:24:44.866Z"
   },
   {
    "duration": 66,
    "start_time": "2023-01-25T13:25:13.318Z"
   },
   {
    "duration": 280,
    "start_time": "2023-01-25T13:25:18.530Z"
   },
   {
    "duration": 140,
    "start_time": "2023-01-25T13:27:54.770Z"
   },
   {
    "duration": 139,
    "start_time": "2023-01-25T13:28:07.208Z"
   },
   {
    "duration": 270,
    "start_time": "2023-01-25T13:28:28.173Z"
   },
   {
    "duration": 1691,
    "start_time": "2023-01-25T13:34:46.261Z"
   },
   {
    "duration": 361,
    "start_time": "2023-01-25T13:34:57.623Z"
   },
   {
    "duration": 201,
    "start_time": "2023-01-25T13:35:05.025Z"
   },
   {
    "duration": 148,
    "start_time": "2023-01-25T13:35:23.292Z"
   },
   {
    "duration": 201,
    "start_time": "2023-01-25T13:35:34.557Z"
   },
   {
    "duration": 195,
    "start_time": "2023-01-25T13:36:02.260Z"
   },
   {
    "duration": 166,
    "start_time": "2023-01-25T13:36:09.035Z"
   },
   {
    "duration": 327,
    "start_time": "2023-01-25T13:36:17.196Z"
   },
   {
    "duration": 86,
    "start_time": "2023-01-25T13:44:03.673Z"
   },
   {
    "duration": 245,
    "start_time": "2023-01-25T13:44:57.367Z"
   },
   {
    "duration": 149,
    "start_time": "2023-01-25T13:46:00.300Z"
   },
   {
    "duration": 233,
    "start_time": "2023-01-25T13:46:21.421Z"
   },
   {
    "duration": 204,
    "start_time": "2023-01-25T13:46:35.092Z"
   },
   {
    "duration": 160,
    "start_time": "2023-01-25T13:46:42.888Z"
   },
   {
    "duration": 162,
    "start_time": "2023-01-25T13:46:55.199Z"
   },
   {
    "duration": 253,
    "start_time": "2023-01-25T13:47:07.885Z"
   },
   {
    "duration": 1691,
    "start_time": "2023-01-25T13:47:21.215Z"
   },
   {
    "duration": 325,
    "start_time": "2023-01-25T13:47:39.478Z"
   },
   {
    "duration": 257,
    "start_time": "2023-01-25T13:47:52.952Z"
   },
   {
    "duration": 262,
    "start_time": "2023-01-25T13:48:00.666Z"
   },
   {
    "duration": 29,
    "start_time": "2023-01-25T13:48:32.802Z"
   },
   {
    "duration": 280,
    "start_time": "2023-01-25T13:48:40.569Z"
   },
   {
    "duration": 287,
    "start_time": "2023-01-25T13:53:48.710Z"
   },
   {
    "duration": 56,
    "start_time": "2023-01-25T15:02:14.052Z"
   },
   {
    "duration": 1317,
    "start_time": "2023-01-25T15:02:21.084Z"
   },
   {
    "duration": 29,
    "start_time": "2023-01-25T15:02:24.233Z"
   },
   {
    "duration": 19,
    "start_time": "2023-01-25T15:02:28.648Z"
   },
   {
    "duration": 2086,
    "start_time": "2023-01-25T15:02:33.090Z"
   },
   {
    "duration": 8,
    "start_time": "2023-01-25T15:02:36.071Z"
   },
   {
    "duration": 50,
    "start_time": "2023-01-25T15:02:40.778Z"
   },
   {
    "duration": 22,
    "start_time": "2023-01-25T15:03:04.336Z"
   },
   {
    "duration": 31,
    "start_time": "2023-01-25T15:03:08.622Z"
   },
   {
    "duration": 22,
    "start_time": "2023-01-25T15:03:14.604Z"
   },
   {
    "duration": 41,
    "start_time": "2023-01-25T15:03:20.623Z"
   },
   {
    "duration": 41,
    "start_time": "2023-01-25T15:03:28.640Z"
   },
   {
    "duration": 244,
    "start_time": "2023-01-25T15:03:55.525Z"
   },
   {
    "duration": 234,
    "start_time": "2023-01-25T15:04:18.405Z"
   },
   {
    "duration": 52,
    "start_time": "2023-01-25T15:09:10.012Z"
   },
   {
    "duration": 244,
    "start_time": "2023-01-25T15:09:22.580Z"
   },
   {
    "duration": 335,
    "start_time": "2023-01-25T15:10:05.070Z"
   },
   {
    "duration": 176,
    "start_time": "2023-01-25T15:10:48.499Z"
   },
   {
    "duration": 156,
    "start_time": "2023-01-25T15:12:52.637Z"
   },
   {
    "duration": 163,
    "start_time": "2023-01-25T15:13:13.931Z"
   },
   {
    "duration": 273,
    "start_time": "2023-01-25T15:15:09.359Z"
   },
   {
    "duration": 171,
    "start_time": "2023-01-25T15:19:12.346Z"
   },
   {
    "duration": 64,
    "start_time": "2023-01-25T15:19:51.844Z"
   },
   {
    "duration": 161,
    "start_time": "2023-01-25T15:19:57.457Z"
   },
   {
    "duration": 166,
    "start_time": "2023-01-25T15:37:23.254Z"
   },
   {
    "duration": 27,
    "start_time": "2023-01-25T15:40:26.041Z"
   },
   {
    "duration": 38,
    "start_time": "2023-01-25T15:41:03.986Z"
   },
   {
    "duration": 153,
    "start_time": "2023-01-25T15:43:01.149Z"
   },
   {
    "duration": 70,
    "start_time": "2023-01-25T15:46:21.796Z"
   },
   {
    "duration": 50,
    "start_time": "2023-01-25T15:46:49.452Z"
   },
   {
    "duration": 68,
    "start_time": "2023-01-25T15:47:03.757Z"
   },
   {
    "duration": 33,
    "start_time": "2023-01-25T15:47:10.992Z"
   },
   {
    "duration": 18,
    "start_time": "2023-01-25T15:47:31.451Z"
   },
   {
    "duration": 235,
    "start_time": "2023-01-25T15:48:02.512Z"
   },
   {
    "duration": 116,
    "start_time": "2023-01-25T15:49:59.008Z"
   },
   {
    "duration": 8,
    "start_time": "2023-01-25T15:53:00.230Z"
   },
   {
    "duration": 8,
    "start_time": "2023-01-25T15:55:29.584Z"
   },
   {
    "duration": 16,
    "start_time": "2023-01-25T15:56:50.122Z"
   },
   {
    "duration": 8,
    "start_time": "2023-01-25T15:59:52.040Z"
   },
   {
    "duration": 178,
    "start_time": "2023-01-25T16:06:34.941Z"
   },
   {
    "duration": 7,
    "start_time": "2023-01-25T16:10:01.645Z"
   },
   {
    "duration": 7,
    "start_time": "2023-01-25T16:11:04.798Z"
   },
   {
    "duration": 146,
    "start_time": "2023-01-25T16:18:35.618Z"
   },
   {
    "duration": 1115,
    "start_time": "2023-01-26T05:07:25.543Z"
   },
   {
    "duration": 22,
    "start_time": "2023-01-26T05:07:28.706Z"
   },
   {
    "duration": 15,
    "start_time": "2023-01-26T05:07:33.059Z"
   },
   {
    "duration": 2166,
    "start_time": "2023-01-26T05:07:36.495Z"
   },
   {
    "duration": 8,
    "start_time": "2023-01-26T05:07:44.460Z"
   },
   {
    "duration": 24,
    "start_time": "2023-01-26T05:07:48.756Z"
   },
   {
    "duration": 25,
    "start_time": "2023-01-26T05:08:02.518Z"
   },
   {
    "duration": 29,
    "start_time": "2023-01-26T05:08:06.391Z"
   },
   {
    "duration": 60,
    "start_time": "2023-01-26T05:08:10.240Z"
   },
   {
    "duration": 44,
    "start_time": "2023-01-26T05:08:15.987Z"
   },
   {
    "duration": 159,
    "start_time": "2023-01-26T05:08:27.210Z"
   },
   {
    "duration": 14,
    "start_time": "2023-01-26T05:08:31.479Z"
   },
   {
    "duration": 182,
    "start_time": "2023-01-26T05:08:35.661Z"
   },
   {
    "duration": 9,
    "start_time": "2023-01-26T05:15:26.163Z"
   },
   {
    "duration": 157,
    "start_time": "2023-01-26T05:17:30.949Z"
   },
   {
    "duration": 254,
    "start_time": "2023-01-26T05:17:49.910Z"
   },
   {
    "duration": 203,
    "start_time": "2023-01-26T05:18:06.329Z"
   },
   {
    "duration": 237,
    "start_time": "2023-01-26T05:18:11.872Z"
   },
   {
    "duration": 265,
    "start_time": "2023-01-26T05:18:25.867Z"
   },
   {
    "duration": 207,
    "start_time": "2023-01-26T05:19:06.766Z"
   },
   {
    "duration": 246,
    "start_time": "2023-01-26T05:19:18.349Z"
   },
   {
    "duration": 72,
    "start_time": "2023-01-26T05:33:42.506Z"
   },
   {
    "duration": 491,
    "start_time": "2023-01-26T05:34:28.969Z"
   },
   {
    "duration": 106,
    "start_time": "2023-01-26T05:34:49.731Z"
   },
   {
    "duration": 229,
    "start_time": "2023-01-26T05:35:03.729Z"
   },
   {
    "duration": 120,
    "start_time": "2023-01-26T05:37:07.507Z"
   },
   {
    "duration": 124,
    "start_time": "2023-01-26T05:37:14.686Z"
   },
   {
    "duration": 121,
    "start_time": "2023-01-26T05:37:27.230Z"
   },
   {
    "duration": 124,
    "start_time": "2023-01-26T05:37:34.312Z"
   },
   {
    "duration": 142,
    "start_time": "2023-01-26T05:41:14.294Z"
   },
   {
    "duration": 16,
    "start_time": "2023-01-26T05:49:00.644Z"
   },
   {
    "duration": 5,
    "start_time": "2023-01-26T05:52:50.624Z"
   },
   {
    "duration": 20,
    "start_time": "2023-01-26T05:53:09.736Z"
   },
   {
    "duration": 4,
    "start_time": "2023-01-26T05:54:31.652Z"
   },
   {
    "duration": 16,
    "start_time": "2023-01-26T05:54:34.336Z"
   },
   {
    "duration": 21,
    "start_time": "2023-01-26T05:57:14.322Z"
   },
   {
    "duration": 6,
    "start_time": "2023-01-26T06:02:02.633Z"
   },
   {
    "duration": 16,
    "start_time": "2023-01-26T06:11:35.911Z"
   },
   {
    "duration": 16,
    "start_time": "2023-01-26T06:13:22.208Z"
   },
   {
    "duration": 6,
    "start_time": "2023-01-26T06:16:02.039Z"
   },
   {
    "duration": 12,
    "start_time": "2023-01-26T06:16:33.808Z"
   },
   {
    "duration": 1120,
    "start_time": "2023-01-26T09:40:37.310Z"
   },
   {
    "duration": 24,
    "start_time": "2023-01-26T09:40:41.236Z"
   },
   {
    "duration": 17,
    "start_time": "2023-01-26T09:40:46.070Z"
   },
   {
    "duration": 2127,
    "start_time": "2023-01-26T09:40:53.926Z"
   },
   {
    "duration": 9,
    "start_time": "2023-01-26T09:41:02.642Z"
   },
   {
    "duration": 26,
    "start_time": "2023-01-26T09:41:06.928Z"
   },
   {
    "duration": 26,
    "start_time": "2023-01-26T09:41:13.367Z"
   },
   {
    "duration": 24,
    "start_time": "2023-01-26T09:41:17.106Z"
   },
   {
    "duration": 39,
    "start_time": "2023-01-26T09:41:20.632Z"
   },
   {
    "duration": 23,
    "start_time": "2023-01-26T09:41:26.895Z"
   },
   {
    "duration": 163,
    "start_time": "2023-01-26T09:41:31.620Z"
   },
   {
    "duration": 8,
    "start_time": "2023-01-26T09:41:37.491Z"
   },
   {
    "duration": 155,
    "start_time": "2023-01-26T09:41:41.240Z"
   },
   {
    "duration": 9,
    "start_time": "2023-01-26T09:41:45.741Z"
   },
   {
    "duration": 117,
    "start_time": "2023-01-26T09:41:49.954Z"
   },
   {
    "duration": 159,
    "start_time": "2023-01-26T09:42:15.593Z"
   },
   {
    "duration": 4,
    "start_time": "2023-01-26T09:42:22.066Z"
   },
   {
    "duration": 4,
    "start_time": "2023-01-26T09:42:26.825Z"
   },
   {
    "duration": 17,
    "start_time": "2023-01-26T09:42:31.061Z"
   },
   {
    "duration": 6,
    "start_time": "2023-01-26T09:42:36.504Z"
   },
   {
    "duration": 6,
    "start_time": "2023-01-26T09:42:40.926Z"
   },
   {
    "duration": 7,
    "start_time": "2023-01-26T09:42:44.296Z"
   },
   {
    "duration": 5,
    "start_time": "2023-01-26T09:52:34.393Z"
   },
   {
    "duration": 8,
    "start_time": "2023-01-26T09:52:36.824Z"
   },
   {
    "duration": 3,
    "start_time": "2023-01-26T09:53:15.128Z"
   },
   {
    "duration": 74,
    "start_time": "2023-01-26T09:53:17.032Z"
   },
   {
    "duration": 138,
    "start_time": "2023-01-26T09:56:22.989Z"
   },
   {
    "duration": 106,
    "start_time": "2023-01-26T09:57:42.070Z"
   },
   {
    "duration": 74,
    "start_time": "2023-01-26T09:58:53.405Z"
   },
   {
    "duration": 4,
    "start_time": "2023-01-26T10:17:55.180Z"
   },
   {
    "duration": 90,
    "start_time": "2023-01-26T10:17:59.973Z"
   },
   {
    "duration": 11,
    "start_time": "2023-01-26T10:32:01.216Z"
   },
   {
    "duration": 24,
    "start_time": "2023-01-26T10:32:46.390Z"
   },
   {
    "duration": 1432,
    "start_time": "2023-01-26T14:15:58.848Z"
   },
   {
    "duration": 23,
    "start_time": "2023-01-26T14:16:01.454Z"
   },
   {
    "duration": 16,
    "start_time": "2023-01-26T14:16:02.351Z"
   },
   {
    "duration": 2383,
    "start_time": "2023-01-26T14:16:03.135Z"
   },
   {
    "duration": 11,
    "start_time": "2023-01-26T14:16:05.520Z"
   },
   {
    "duration": 27,
    "start_time": "2023-01-26T14:16:05.629Z"
   },
   {
    "duration": 26,
    "start_time": "2023-01-26T14:16:06.820Z"
   },
   {
    "duration": 42,
    "start_time": "2023-01-26T14:16:08.286Z"
   },
   {
    "duration": 45,
    "start_time": "2023-01-26T14:16:08.928Z"
   },
   {
    "duration": 33,
    "start_time": "2023-01-26T14:16:10.016Z"
   },
   {
    "duration": 180,
    "start_time": "2023-01-26T14:16:10.565Z"
   },
   {
    "duration": 14,
    "start_time": "2023-01-26T14:16:11.188Z"
   },
   {
    "duration": 180,
    "start_time": "2023-01-26T14:16:11.724Z"
   },
   {
    "duration": 8,
    "start_time": "2023-01-26T14:16:12.827Z"
   },
   {
    "duration": 131,
    "start_time": "2023-01-26T14:16:13.351Z"
   },
   {
    "duration": 189,
    "start_time": "2023-01-26T14:16:14.484Z"
   },
   {
    "duration": 11,
    "start_time": "2023-01-26T14:16:16.228Z"
   },
   {
    "duration": 20,
    "start_time": "2023-01-26T14:16:16.728Z"
   },
   {
    "duration": 6,
    "start_time": "2023-01-26T14:16:17.274Z"
   },
   {
    "duration": 8,
    "start_time": "2023-01-26T14:16:17.831Z"
   },
   {
    "duration": 10,
    "start_time": "2023-01-26T14:16:18.385Z"
   },
   {
    "duration": 3,
    "start_time": "2023-01-26T14:16:18.924Z"
   },
   {
    "duration": 459,
    "start_time": "2023-01-26T14:16:19.422Z"
   },
   {
    "duration": 3,
    "start_time": "2023-01-26T14:19:40.079Z"
   },
   {
    "duration": 58,
    "start_time": "2023-01-26T14:21:09.426Z"
   },
   {
    "duration": 4,
    "start_time": "2023-01-26T14:21:20.852Z"
   },
   {
    "duration": 162,
    "start_time": "2023-01-26T14:21:24.335Z"
   },
   {
    "duration": 91,
    "start_time": "2023-01-26T14:21:56.022Z"
   },
   {
    "duration": 8,
    "start_time": "2023-01-26T14:22:08.121Z"
   },
   {
    "duration": 77,
    "start_time": "2023-01-26T14:22:11.474Z"
   },
   {
    "duration": 5,
    "start_time": "2023-01-26T15:11:01.524Z"
   },
   {
    "duration": 1772,
    "start_time": "2023-01-26T15:11:05.442Z"
   },
   {
    "duration": 4,
    "start_time": "2023-01-26T15:12:18.581Z"
   },
   {
    "duration": 190,
    "start_time": "2023-01-26T15:12:22.280Z"
   },
   {
    "duration": 165,
    "start_time": "2023-01-26T15:14:00.788Z"
   },
   {
    "duration": 192,
    "start_time": "2023-01-26T15:15:12.550Z"
   },
   {
    "duration": 3030,
    "start_time": "2023-01-26T15:19:29.421Z"
   },
   {
    "duration": 98,
    "start_time": "2023-01-26T15:32:22.432Z"
   },
   {
    "duration": 237,
    "start_time": "2023-01-26T15:32:35.650Z"
   },
   {
    "duration": 193,
    "start_time": "2023-01-26T15:32:53.651Z"
   },
   {
    "duration": 422,
    "start_time": "2023-01-26T15:36:16.849Z"
   },
   {
    "duration": 200,
    "start_time": "2023-01-26T15:36:43.851Z"
   },
   {
    "duration": 237,
    "start_time": "2023-01-26T15:37:00.949Z"
   },
   {
    "duration": 1840,
    "start_time": "2023-01-26T15:43:07.818Z"
   },
   {
    "duration": 205,
    "start_time": "2023-01-26T15:43:15.645Z"
   },
   {
    "duration": 234,
    "start_time": "2023-01-26T15:43:56.141Z"
   },
   {
    "duration": 287,
    "start_time": "2023-01-26T15:44:17.679Z"
   },
   {
    "duration": 228,
    "start_time": "2023-01-26T15:44:29.392Z"
   },
   {
    "duration": 251,
    "start_time": "2023-01-26T15:46:32.058Z"
   },
   {
    "duration": 225,
    "start_time": "2023-01-26T15:50:03.660Z"
   },
   {
    "duration": 209,
    "start_time": "2023-01-26T15:50:13.946Z"
   },
   {
    "duration": 206,
    "start_time": "2023-01-26T15:50:22.819Z"
   },
   {
    "duration": 386,
    "start_time": "2023-01-26T15:51:00.466Z"
   },
   {
    "duration": 211,
    "start_time": "2023-01-26T16:08:54.069Z"
   },
   {
    "duration": 177,
    "start_time": "2023-01-26T16:09:17.753Z"
   },
   {
    "duration": 199,
    "start_time": "2023-01-26T16:09:44.260Z"
   },
   {
    "duration": 196,
    "start_time": "2023-01-26T16:10:07.579Z"
   },
   {
    "duration": 214,
    "start_time": "2023-01-26T16:11:36.265Z"
   },
   {
    "duration": 174,
    "start_time": "2023-01-26T16:11:52.676Z"
   },
   {
    "duration": 205,
    "start_time": "2023-01-26T16:12:48.417Z"
   },
   {
    "duration": 185,
    "start_time": "2023-01-26T16:13:31.973Z"
   },
   {
    "duration": 185,
    "start_time": "2023-01-26T16:13:51.912Z"
   },
   {
    "duration": 205,
    "start_time": "2023-01-26T16:13:55.568Z"
   },
   {
    "duration": 365,
    "start_time": "2023-01-26T16:15:00.549Z"
   },
   {
    "duration": 189,
    "start_time": "2023-01-26T16:15:37.752Z"
   },
   {
    "duration": 309,
    "start_time": "2023-01-26T16:16:13.343Z"
   },
   {
    "duration": 197,
    "start_time": "2023-01-26T16:16:43.574Z"
   },
   {
    "duration": 191,
    "start_time": "2023-01-26T16:17:28.643Z"
   },
   {
    "duration": 120,
    "start_time": "2023-01-26T16:19:20.705Z"
   },
   {
    "duration": 155,
    "start_time": "2023-01-26T16:20:16.489Z"
   },
   {
    "duration": 120,
    "start_time": "2023-01-26T16:26:54.239Z"
   },
   {
    "duration": 1456,
    "start_time": "2023-01-26T16:31:41.770Z"
   },
   {
    "duration": 142,
    "start_time": "2023-01-26T16:32:20.447Z"
   },
   {
    "duration": 158,
    "start_time": "2023-01-26T16:33:36.648Z"
   },
   {
    "duration": 138,
    "start_time": "2023-01-26T16:33:53.338Z"
   },
   {
    "duration": 360,
    "start_time": "2023-01-26T16:34:56.002Z"
   },
   {
    "duration": 144,
    "start_time": "2023-01-26T16:37:05.652Z"
   },
   {
    "duration": 153,
    "start_time": "2023-01-26T16:38:51.359Z"
   },
   {
    "duration": 158,
    "start_time": "2023-01-26T16:41:08.053Z"
   },
   {
    "duration": 220,
    "start_time": "2023-01-26T16:41:35.262Z"
   },
   {
    "duration": 195,
    "start_time": "2023-01-26T16:43:34.883Z"
   },
   {
    "duration": 284,
    "start_time": "2023-01-26T16:43:51.270Z"
   },
   {
    "duration": 160,
    "start_time": "2023-01-26T16:44:00.939Z"
   },
   {
    "duration": 139,
    "start_time": "2023-01-26T16:44:12.996Z"
   },
   {
    "duration": 179,
    "start_time": "2023-01-26T16:44:22.466Z"
   },
   {
    "duration": 206,
    "start_time": "2023-01-26T16:44:31.925Z"
   },
   {
    "duration": 208,
    "start_time": "2023-01-26T16:44:45.193Z"
   },
   {
    "duration": 364,
    "start_time": "2023-01-26T16:48:02.720Z"
   },
   {
    "duration": 267,
    "start_time": "2023-01-26T16:48:09.531Z"
   },
   {
    "duration": 161,
    "start_time": "2023-01-26T16:48:17.924Z"
   },
   {
    "duration": 302,
    "start_time": "2023-01-26T16:49:00.968Z"
   },
   {
    "duration": 273,
    "start_time": "2023-01-26T16:53:28.351Z"
   },
   {
    "duration": 138,
    "start_time": "2023-01-26T17:00:17.441Z"
   },
   {
    "duration": 276,
    "start_time": "2023-01-26T17:00:28.372Z"
   },
   {
    "duration": 938,
    "start_time": "2023-01-27T04:45:30.162Z"
   },
   {
    "duration": 20,
    "start_time": "2023-01-27T04:45:31.101Z"
   },
   {
    "duration": 14,
    "start_time": "2023-01-27T04:45:31.461Z"
   },
   {
    "duration": 1775,
    "start_time": "2023-01-27T04:45:32.081Z"
   },
   {
    "duration": 9,
    "start_time": "2023-01-27T04:45:34.209Z"
   },
   {
    "duration": 22,
    "start_time": "2023-01-27T04:45:35.120Z"
   },
   {
    "duration": 22,
    "start_time": "2023-01-27T04:45:36.687Z"
   },
   {
    "duration": 20,
    "start_time": "2023-01-27T04:45:38.150Z"
   },
   {
    "duration": 43,
    "start_time": "2023-01-27T04:45:38.836Z"
   },
   {
    "duration": 21,
    "start_time": "2023-01-27T04:45:40.148Z"
   },
   {
    "duration": 136,
    "start_time": "2023-01-27T04:45:40.896Z"
   },
   {
    "duration": 7,
    "start_time": "2023-01-27T04:45:41.580Z"
   },
   {
    "duration": 130,
    "start_time": "2023-01-27T04:45:42.193Z"
   },
   {
    "duration": 8,
    "start_time": "2023-01-27T04:45:43.532Z"
   },
   {
    "duration": 92,
    "start_time": "2023-01-27T04:45:44.119Z"
   },
   {
    "duration": 133,
    "start_time": "2023-01-27T04:45:45.452Z"
   },
   {
    "duration": 4,
    "start_time": "2023-01-27T04:45:46.566Z"
   },
   {
    "duration": 16,
    "start_time": "2023-01-27T04:45:47.182Z"
   },
   {
    "duration": 6,
    "start_time": "2023-01-27T04:45:47.702Z"
   },
   {
    "duration": 5,
    "start_time": "2023-01-27T04:45:48.397Z"
   },
   {
    "duration": 6,
    "start_time": "2023-01-27T04:45:48.945Z"
   },
   {
    "duration": 137,
    "start_time": "2023-01-27T04:45:49.560Z"
   },
   {
    "duration": 6,
    "start_time": "2023-01-27T04:45:50.146Z"
   },
   {
    "duration": 206,
    "start_time": "2023-01-27T04:45:51.360Z"
   },
   {
    "duration": 153,
    "start_time": "2023-01-27T04:45:52.706Z"
   },
   {
    "duration": 146,
    "start_time": "2023-01-27T04:45:54.066Z"
   },
   {
    "duration": 154,
    "start_time": "2023-01-27T04:45:55.672Z"
   },
   {
    "duration": 147,
    "start_time": "2023-01-27T04:45:56.801Z"
   },
   {
    "duration": 163,
    "start_time": "2023-01-27T04:45:58.376Z"
   },
   {
    "duration": 105,
    "start_time": "2023-01-27T04:45:59.649Z"
   },
   {
    "duration": 117,
    "start_time": "2023-01-27T04:46:00.916Z"
   },
   {
    "duration": 123,
    "start_time": "2023-01-27T04:46:02.091Z"
   },
   {
    "duration": 126,
    "start_time": "2023-01-27T04:46:03.209Z"
   },
   {
    "duration": 196,
    "start_time": "2023-01-27T04:46:04.405Z"
   },
   {
    "duration": 128,
    "start_time": "2023-01-27T04:46:05.581Z"
   },
   {
    "duration": 168,
    "start_time": "2023-01-27T04:46:06.763Z"
   },
   {
    "duration": 162,
    "start_time": "2023-01-27T04:46:07.866Z"
   },
   {
    "duration": 204,
    "start_time": "2023-01-27T04:46:08.975Z"
   },
   {
    "duration": 155,
    "start_time": "2023-01-27T04:52:04.737Z"
   },
   {
    "duration": 149,
    "start_time": "2023-01-27T04:54:44.187Z"
   },
   {
    "duration": 168,
    "start_time": "2023-01-27T04:57:08.656Z"
   },
   {
    "duration": 155,
    "start_time": "2023-01-27T04:57:30.978Z"
   },
   {
    "duration": 226,
    "start_time": "2023-01-27T04:57:39.452Z"
   },
   {
    "duration": 158,
    "start_time": "2023-01-27T04:58:51.409Z"
   },
   {
    "duration": 148,
    "start_time": "2023-01-27T05:12:46.206Z"
   },
   {
    "duration": 150,
    "start_time": "2023-01-27T05:13:23.637Z"
   },
   {
    "duration": 153,
    "start_time": "2023-01-27T05:13:28.775Z"
   },
   {
    "duration": 78,
    "start_time": "2023-01-27T05:35:25.421Z"
   },
   {
    "duration": 18,
    "start_time": "2023-01-27T05:35:25.730Z"
   },
   {
    "duration": 16,
    "start_time": "2023-01-27T05:35:25.998Z"
   },
   {
    "duration": 1840,
    "start_time": "2023-01-27T05:35:26.355Z"
   },
   {
    "duration": 15,
    "start_time": "2023-01-27T05:35:28.197Z"
   },
   {
    "duration": 30,
    "start_time": "2023-01-27T05:35:28.214Z"
   },
   {
    "duration": 34,
    "start_time": "2023-01-27T05:35:28.246Z"
   },
   {
    "duration": 19,
    "start_time": "2023-01-27T05:35:28.676Z"
   },
   {
    "duration": 40,
    "start_time": "2023-01-27T05:35:29.053Z"
   },
   {
    "duration": 18,
    "start_time": "2023-01-27T05:35:29.566Z"
   },
   {
    "duration": 134,
    "start_time": "2023-01-27T05:35:29.856Z"
   },
   {
    "duration": 7,
    "start_time": "2023-01-27T05:35:30.094Z"
   },
   {
    "duration": 132,
    "start_time": "2023-01-27T05:35:30.329Z"
   },
   {
    "duration": 7,
    "start_time": "2023-01-27T05:35:30.773Z"
   },
   {
    "duration": 97,
    "start_time": "2023-01-27T05:35:30.989Z"
   },
   {
    "duration": 133,
    "start_time": "2023-01-27T05:35:31.488Z"
   },
   {
    "duration": 4,
    "start_time": "2023-01-27T05:35:31.927Z"
   },
   {
    "duration": 15,
    "start_time": "2023-01-27T05:35:32.163Z"
   },
   {
    "duration": 6,
    "start_time": "2023-01-27T05:35:32.386Z"
   },
   {
    "duration": 5,
    "start_time": "2023-01-27T05:35:32.609Z"
   },
   {
    "duration": 6,
    "start_time": "2023-01-27T05:35:32.847Z"
   },
   {
    "duration": 143,
    "start_time": "2023-01-27T05:35:33.071Z"
   },
   {
    "duration": 8,
    "start_time": "2023-01-27T05:35:33.293Z"
   },
   {
    "duration": 157,
    "start_time": "2023-01-27T05:35:33.786Z"
   },
   {
    "duration": 154,
    "start_time": "2023-01-27T05:35:34.224Z"
   },
   {
    "duration": 246,
    "start_time": "2023-01-27T05:35:34.668Z"
   },
   {
    "duration": 155,
    "start_time": "2023-01-27T05:35:35.120Z"
   },
   {
    "duration": 147,
    "start_time": "2023-01-27T05:35:35.533Z"
   },
   {
    "duration": 172,
    "start_time": "2023-01-27T05:35:35.909Z"
   },
   {
    "duration": 107,
    "start_time": "2023-01-27T05:35:36.256Z"
   },
   {
    "duration": 143,
    "start_time": "2023-01-27T05:35:36.653Z"
   },
   {
    "duration": 123,
    "start_time": "2023-01-27T05:35:37.060Z"
   },
   {
    "duration": 126,
    "start_time": "2023-01-27T05:35:37.510Z"
   },
   {
    "duration": 117,
    "start_time": "2023-01-27T05:35:37.925Z"
   },
   {
    "duration": 134,
    "start_time": "2023-01-27T05:35:38.304Z"
   },
   {
    "duration": 164,
    "start_time": "2023-01-27T05:35:38.776Z"
   },
   {
    "duration": 160,
    "start_time": "2023-01-27T05:35:39.220Z"
   },
   {
    "duration": 337,
    "start_time": "2023-01-27T05:35:39.699Z"
   },
   {
    "duration": 164,
    "start_time": "2023-01-27T05:35:40.137Z"
   },
   {
    "duration": 167,
    "start_time": "2023-01-27T05:35:40.563Z"
   },
   {
    "duration": 142,
    "start_time": "2023-01-27T05:35:41.220Z"
   },
   {
    "duration": 35,
    "start_time": "2023-01-27T05:35:41.518Z"
   },
   {
    "duration": 141,
    "start_time": "2023-01-27T05:35:45.389Z"
   },
   {
    "duration": 142,
    "start_time": "2023-01-27T05:35:57.863Z"
   },
   {
    "duration": 387,
    "start_time": "2023-01-27T05:38:23.692Z"
   },
   {
    "duration": 147,
    "start_time": "2023-01-27T05:39:05.149Z"
   },
   {
    "duration": 66,
    "start_time": "2023-01-27T05:42:36.661Z"
   },
   {
    "duration": 47,
    "start_time": "2023-01-27T05:42:49.619Z"
   },
   {
    "duration": 14,
    "start_time": "2023-01-27T05:45:56.402Z"
   },
   {
    "duration": 114,
    "start_time": "2023-01-27T05:46:08.074Z"
   },
   {
    "duration": 1094,
    "start_time": "2023-01-27T09:06:39.986Z"
   },
   {
    "duration": 22,
    "start_time": "2023-01-27T09:06:41.083Z"
   },
   {
    "duration": 14,
    "start_time": "2023-01-27T09:06:41.107Z"
   },
   {
    "duration": 1950,
    "start_time": "2023-01-27T09:06:41.123Z"
   },
   {
    "duration": 8,
    "start_time": "2023-01-27T09:06:43.074Z"
   },
   {
    "duration": 33,
    "start_time": "2023-01-27T09:06:43.084Z"
   },
   {
    "duration": 23,
    "start_time": "2023-01-27T09:06:43.119Z"
   },
   {
    "duration": 19,
    "start_time": "2023-01-27T09:06:43.143Z"
   },
   {
    "duration": 52,
    "start_time": "2023-01-27T09:06:43.164Z"
   },
   {
    "duration": 31,
    "start_time": "2023-01-27T09:06:43.217Z"
   },
   {
    "duration": 150,
    "start_time": "2023-01-27T09:06:43.360Z"
   },
   {
    "duration": 8,
    "start_time": "2023-01-27T09:06:43.583Z"
   },
   {
    "duration": 139,
    "start_time": "2023-01-27T09:06:43.863Z"
   },
   {
    "duration": 8,
    "start_time": "2023-01-27T09:06:44.350Z"
   },
   {
    "duration": 107,
    "start_time": "2023-01-27T09:06:44.592Z"
   },
   {
    "duration": 147,
    "start_time": "2023-01-27T09:06:45.107Z"
   },
   {
    "duration": 4,
    "start_time": "2023-01-27T09:06:45.576Z"
   },
   {
    "duration": 19,
    "start_time": "2023-01-27T09:06:45.790Z"
   },
   {
    "duration": 6,
    "start_time": "2023-01-27T09:06:46.003Z"
   },
   {
    "duration": 7,
    "start_time": "2023-01-27T09:06:46.206Z"
   },
   {
    "duration": 7,
    "start_time": "2023-01-27T09:06:46.419Z"
   },
   {
    "duration": 131,
    "start_time": "2023-01-27T09:06:46.618Z"
   },
   {
    "duration": 7,
    "start_time": "2023-01-27T09:06:46.823Z"
   },
   {
    "duration": 245,
    "start_time": "2023-01-27T09:06:47.260Z"
   },
   {
    "duration": 174,
    "start_time": "2023-01-27T09:06:47.684Z"
   },
   {
    "duration": 173,
    "start_time": "2023-01-27T09:06:48.122Z"
   },
   {
    "duration": 192,
    "start_time": "2023-01-27T09:06:48.577Z"
   },
   {
    "duration": 162,
    "start_time": "2023-01-27T09:06:48.992Z"
   },
   {
    "duration": 189,
    "start_time": "2023-01-27T09:06:49.434Z"
   },
   {
    "duration": 111,
    "start_time": "2023-01-27T09:06:49.803Z"
   },
   {
    "duration": 129,
    "start_time": "2023-01-27T09:06:50.393Z"
   },
   {
    "duration": 139,
    "start_time": "2023-01-27T09:06:50.825Z"
   },
   {
    "duration": 144,
    "start_time": "2023-01-27T09:06:51.262Z"
   },
   {
    "duration": 238,
    "start_time": "2023-01-27T09:06:51.710Z"
   },
   {
    "duration": 135,
    "start_time": "2023-01-27T09:06:52.093Z"
   },
   {
    "duration": 185,
    "start_time": "2023-01-27T09:06:52.518Z"
   },
   {
    "duration": 173,
    "start_time": "2023-01-27T09:06:52.961Z"
   },
   {
    "duration": 254,
    "start_time": "2023-01-27T09:06:53.268Z"
   },
   {
    "duration": 160,
    "start_time": "2023-01-27T09:06:53.704Z"
   },
   {
    "duration": 165,
    "start_time": "2023-01-27T09:06:54.094Z"
   },
   {
    "duration": 162,
    "start_time": "2023-01-27T09:06:54.518Z"
   },
   {
    "duration": 144,
    "start_time": "2023-01-27T09:06:55.115Z"
   },
   {
    "duration": 224,
    "start_time": "2023-01-27T09:06:56.062Z"
   },
   {
    "duration": 139,
    "start_time": "2023-01-27T09:10:56.991Z"
   },
   {
    "duration": 153,
    "start_time": "2023-01-27T09:12:33.801Z"
   },
   {
    "duration": 166,
    "start_time": "2023-01-27T09:14:40.523Z"
   },
   {
    "duration": 164,
    "start_time": "2023-01-27T09:15:01.003Z"
   },
   {
    "duration": 141,
    "start_time": "2023-01-27T09:16:36.604Z"
   },
   {
    "duration": 147,
    "start_time": "2023-01-27T09:20:25.561Z"
   },
   {
    "duration": 141,
    "start_time": "2023-01-27T09:20:41.565Z"
   },
   {
    "duration": 5498,
    "start_time": "2023-01-27T09:23:01.476Z"
   },
   {
    "duration": 140,
    "start_time": "2023-01-27T09:24:15.849Z"
   },
   {
    "duration": 10,
    "start_time": "2023-01-27T09:54:52.334Z"
   },
   {
    "duration": 76,
    "start_time": "2023-01-27T09:56:08.101Z"
   },
   {
    "duration": 16,
    "start_time": "2023-01-27T09:56:30.710Z"
   },
   {
    "duration": 15,
    "start_time": "2023-01-27T09:58:04.530Z"
   },
   {
    "duration": 77,
    "start_time": "2023-01-27T09:59:19.231Z"
   },
   {
    "duration": 15,
    "start_time": "2023-01-27T09:59:27.949Z"
   },
   {
    "duration": 16,
    "start_time": "2023-01-27T09:59:51.810Z"
   },
   {
    "duration": 247,
    "start_time": "2023-01-27T10:02:10.342Z"
   },
   {
    "duration": 16,
    "start_time": "2023-01-27T10:08:55.971Z"
   },
   {
    "duration": 17,
    "start_time": "2023-01-27T10:10:05.605Z"
   },
   {
    "duration": 14,
    "start_time": "2023-01-27T10:10:15.483Z"
   },
   {
    "duration": 15,
    "start_time": "2023-01-27T10:10:48.744Z"
   },
   {
    "duration": 132,
    "start_time": "2023-01-27T10:10:53.236Z"
   },
   {
    "duration": 14,
    "start_time": "2023-01-27T10:10:56.559Z"
   },
   {
    "duration": 13,
    "start_time": "2023-01-27T10:11:10.727Z"
   },
   {
    "duration": 9,
    "start_time": "2023-01-27T10:17:09.141Z"
   },
   {
    "duration": 13,
    "start_time": "2023-01-27T10:17:17.435Z"
   },
   {
    "duration": 99,
    "start_time": "2023-01-27T10:54:31.008Z"
   },
   {
    "duration": 32,
    "start_time": "2023-01-27T10:54:31.173Z"
   },
   {
    "duration": 22,
    "start_time": "2023-01-27T10:54:31.391Z"
   },
   {
    "duration": 2150,
    "start_time": "2023-01-27T10:54:31.512Z"
   },
   {
    "duration": 28,
    "start_time": "2023-01-27T10:54:33.665Z"
   },
   {
    "duration": 45,
    "start_time": "2023-01-27T10:54:33.694Z"
   },
   {
    "duration": 23,
    "start_time": "2023-01-27T10:54:33.742Z"
   },
   {
    "duration": 32,
    "start_time": "2023-01-27T10:54:33.767Z"
   },
   {
    "duration": 51,
    "start_time": "2023-01-27T10:54:33.800Z"
   },
   {
    "duration": 19,
    "start_time": "2023-01-27T10:54:33.853Z"
   },
   {
    "duration": 309,
    "start_time": "2023-01-27T10:54:33.874Z"
   },
   {
    "duration": 17,
    "start_time": "2023-01-27T10:54:34.185Z"
   },
   {
    "duration": 162,
    "start_time": "2023-01-27T10:54:34.203Z"
   },
   {
    "duration": 9,
    "start_time": "2023-01-27T10:54:34.508Z"
   },
   {
    "duration": 116,
    "start_time": "2023-01-27T10:54:34.707Z"
   },
   {
    "duration": 173,
    "start_time": "2023-01-27T10:54:35.049Z"
   },
   {
    "duration": 3,
    "start_time": "2023-01-27T10:54:35.410Z"
   },
   {
    "duration": 21,
    "start_time": "2023-01-27T10:54:35.606Z"
   },
   {
    "duration": 14,
    "start_time": "2023-01-27T10:54:35.788Z"
   },
   {
    "duration": 6,
    "start_time": "2023-01-27T10:54:35.974Z"
   },
   {
    "duration": 10,
    "start_time": "2023-01-27T10:54:36.216Z"
   },
   {
    "duration": 209,
    "start_time": "2023-01-27T10:54:36.426Z"
   },
   {
    "duration": 8,
    "start_time": "2023-01-27T10:54:36.666Z"
   },
   {
    "duration": 216,
    "start_time": "2023-01-27T10:54:37.534Z"
   },
   {
    "duration": 204,
    "start_time": "2023-01-27T10:54:37.933Z"
   },
   {
    "duration": 196,
    "start_time": "2023-01-27T10:54:38.347Z"
   },
   {
    "duration": 211,
    "start_time": "2023-01-27T10:54:38.740Z"
   },
   {
    "duration": 195,
    "start_time": "2023-01-27T10:54:39.102Z"
   },
   {
    "duration": 234,
    "start_time": "2023-01-27T10:54:39.469Z"
   },
   {
    "duration": 146,
    "start_time": "2023-01-27T10:54:39.872Z"
   },
   {
    "duration": 166,
    "start_time": "2023-01-27T10:54:40.268Z"
   },
   {
    "duration": 178,
    "start_time": "2023-01-27T10:54:40.621Z"
   },
   {
    "duration": 150,
    "start_time": "2023-01-27T10:54:41.007Z"
   },
   {
    "duration": 334,
    "start_time": "2023-01-27T10:54:41.414Z"
   },
   {
    "duration": 150,
    "start_time": "2023-01-27T10:54:41.867Z"
   },
   {
    "duration": 216,
    "start_time": "2023-01-27T10:54:42.304Z"
   },
   {
    "duration": 211,
    "start_time": "2023-01-27T10:54:42.708Z"
   },
   {
    "duration": 293,
    "start_time": "2023-01-27T10:54:43.078Z"
   },
   {
    "duration": 188,
    "start_time": "2023-01-27T10:54:44.222Z"
   },
   {
    "duration": 171,
    "start_time": "2023-01-27T10:54:45.174Z"
   },
   {
    "duration": 167,
    "start_time": "2023-01-27T10:54:45.941Z"
   },
   {
    "duration": 176,
    "start_time": "2023-01-27T10:54:46.620Z"
   },
   {
    "duration": 129,
    "start_time": "2023-01-27T10:54:47.325Z"
   },
   {
    "duration": 177,
    "start_time": "2023-01-27T10:54:47.749Z"
   },
   {
    "duration": 184,
    "start_time": "2023-01-27T10:54:48.147Z"
   },
   {
    "duration": 156,
    "start_time": "2023-01-27T10:54:48.567Z"
   },
   {
    "duration": 12,
    "start_time": "2023-01-27T10:54:48.951Z"
   },
   {
    "duration": 131,
    "start_time": "2023-01-27T10:54:49.078Z"
   },
   {
    "duration": 14,
    "start_time": "2023-01-27T10:54:49.277Z"
   },
   {
    "duration": 137,
    "start_time": "2023-01-27T10:55:08.188Z"
   },
   {
    "duration": 75,
    "start_time": "2023-01-27T10:55:31.201Z"
   },
   {
    "duration": 84,
    "start_time": "2023-01-27T10:55:49.905Z"
   },
   {
    "duration": 23,
    "start_time": "2023-01-27T10:56:04.773Z"
   },
   {
    "duration": 93,
    "start_time": "2023-01-27T10:59:29.469Z"
   },
   {
    "duration": 101,
    "start_time": "2023-01-27T10:59:48.420Z"
   },
   {
    "duration": 19,
    "start_time": "2023-01-27T11:00:00.143Z"
   },
   {
    "duration": 25,
    "start_time": "2023-01-27T11:00:39.667Z"
   },
   {
    "duration": 1094,
    "start_time": "2023-01-27T12:28:52.114Z"
   },
   {
    "duration": 25,
    "start_time": "2023-01-27T12:28:53.211Z"
   },
   {
    "duration": 25,
    "start_time": "2023-01-27T12:28:53.238Z"
   },
   {
    "duration": 2312,
    "start_time": "2023-01-27T12:28:53.265Z"
   },
   {
    "duration": 10,
    "start_time": "2023-01-27T12:28:55.579Z"
   },
   {
    "duration": 56,
    "start_time": "2023-01-27T12:28:55.590Z"
   },
   {
    "duration": 32,
    "start_time": "2023-01-27T12:28:55.649Z"
   },
   {
    "duration": 26,
    "start_time": "2023-01-27T12:28:55.683Z"
   },
   {
    "duration": 74,
    "start_time": "2023-01-27T12:28:55.712Z"
   },
   {
    "duration": 21,
    "start_time": "2023-01-27T12:28:55.788Z"
   },
   {
    "duration": 188,
    "start_time": "2023-01-27T12:28:55.810Z"
   },
   {
    "duration": 8,
    "start_time": "2023-01-27T12:28:56.000Z"
   },
   {
    "duration": 191,
    "start_time": "2023-01-27T12:28:56.010Z"
   },
   {
    "duration": 8,
    "start_time": "2023-01-27T12:28:56.203Z"
   },
   {
    "duration": 145,
    "start_time": "2023-01-27T12:29:01.035Z"
   },
   {
    "duration": 161,
    "start_time": "2023-01-27T12:29:01.357Z"
   },
   {
    "duration": 4,
    "start_time": "2023-01-27T12:29:01.706Z"
   },
   {
    "duration": 19,
    "start_time": "2023-01-27T12:29:02.023Z"
   },
   {
    "duration": 7,
    "start_time": "2023-01-27T12:29:02.732Z"
   },
   {
    "duration": 6,
    "start_time": "2023-01-27T12:29:03.418Z"
   },
   {
    "duration": 7,
    "start_time": "2023-01-27T12:29:04.111Z"
   },
   {
    "duration": 152,
    "start_time": "2023-01-27T12:29:04.292Z"
   },
   {
    "duration": 6,
    "start_time": "2023-01-27T12:29:04.505Z"
   },
   {
    "duration": 296,
    "start_time": "2023-01-27T12:29:04.874Z"
   },
   {
    "duration": 209,
    "start_time": "2023-01-27T12:29:05.257Z"
   },
   {
    "duration": 198,
    "start_time": "2023-01-27T12:29:05.565Z"
   },
   {
    "duration": 204,
    "start_time": "2023-01-27T12:29:05.889Z"
   },
   {
    "duration": 182,
    "start_time": "2023-01-27T12:29:06.306Z"
   },
   {
    "duration": 229,
    "start_time": "2023-01-27T12:29:06.715Z"
   },
   {
    "duration": 139,
    "start_time": "2023-01-27T12:29:07.113Z"
   },
   {
    "duration": 171,
    "start_time": "2023-01-27T12:29:07.506Z"
   },
   {
    "duration": 172,
    "start_time": "2023-01-27T12:29:07.967Z"
   },
   {
    "duration": 171,
    "start_time": "2023-01-27T12:29:08.393Z"
   },
   {
    "duration": 276,
    "start_time": "2023-01-27T12:29:09.051Z"
   },
   {
    "duration": 185,
    "start_time": "2023-01-27T12:29:09.457Z"
   },
   {
    "duration": 213,
    "start_time": "2023-01-27T12:29:09.848Z"
   },
   {
    "duration": 198,
    "start_time": "2023-01-27T12:29:10.309Z"
   },
   {
    "duration": 316,
    "start_time": "2023-01-27T12:29:11.106Z"
   },
   {
    "duration": 183,
    "start_time": "2023-01-27T12:29:12.314Z"
   },
   {
    "duration": 236,
    "start_time": "2023-01-27T12:29:13.607Z"
   },
   {
    "duration": 196,
    "start_time": "2023-01-27T12:29:16.276Z"
   },
   {
    "duration": 170,
    "start_time": "2023-01-27T12:29:19.457Z"
   },
   {
    "duration": 299,
    "start_time": "2023-01-27T12:29:21.365Z"
   },
   {
    "duration": 176,
    "start_time": "2023-01-27T12:29:22.960Z"
   },
   {
    "duration": 199,
    "start_time": "2023-01-27T12:29:23.973Z"
   },
   {
    "duration": 166,
    "start_time": "2023-01-27T12:29:24.719Z"
   },
   {
    "duration": 16,
    "start_time": "2023-01-27T12:29:25.559Z"
   },
   {
    "duration": 29,
    "start_time": "2023-01-27T12:29:29.236Z"
   },
   {
    "duration": 141,
    "start_time": "2023-01-27T12:29:54.366Z"
   },
   {
    "duration": 22,
    "start_time": "2023-01-27T12:30:00.525Z"
   },
   {
    "duration": 15,
    "start_time": "2023-01-27T12:32:59.668Z"
   },
   {
    "duration": 15,
    "start_time": "2023-01-27T12:36:36.604Z"
   },
   {
    "duration": 20,
    "start_time": "2023-01-27T12:38:01.207Z"
   },
   {
    "duration": 14,
    "start_time": "2023-01-27T12:39:06.271Z"
   },
   {
    "duration": 4,
    "start_time": "2023-01-27T12:40:14.466Z"
   },
   {
    "duration": 10,
    "start_time": "2023-01-27T12:40:34.133Z"
   },
   {
    "duration": 1266,
    "start_time": "2023-01-27T12:46:08.565Z"
   },
   {
    "duration": 226,
    "start_time": "2023-01-27T12:47:58.966Z"
   },
   {
    "duration": 15,
    "start_time": "2023-01-27T12:48:36.083Z"
   },
   {
    "duration": 9,
    "start_time": "2023-01-27T12:49:34.512Z"
   },
   {
    "duration": 11,
    "start_time": "2023-01-27T12:49:59.471Z"
   },
   {
    "duration": 17,
    "start_time": "2023-01-27T12:50:18.732Z"
   },
   {
    "duration": 17,
    "start_time": "2023-01-27T12:50:22.464Z"
   },
   {
    "duration": 12,
    "start_time": "2023-01-27T12:50:27.517Z"
   },
   {
    "duration": 8,
    "start_time": "2023-01-27T12:51:55.044Z"
   },
   {
    "duration": 710,
    "start_time": "2023-01-27T12:52:46.755Z"
   },
   {
    "duration": 847,
    "start_time": "2023-01-27T12:55:26.679Z"
   },
   {
    "duration": 803,
    "start_time": "2023-01-27T12:56:32.541Z"
   },
   {
    "duration": 5,
    "start_time": "2023-01-27T12:57:20.526Z"
   },
   {
    "duration": 9,
    "start_time": "2023-01-27T12:59:53.308Z"
   },
   {
    "duration": 25,
    "start_time": "2023-01-27T13:05:25.912Z"
   },
   {
    "duration": 9,
    "start_time": "2023-01-27T13:07:00.566Z"
   },
   {
    "duration": 18,
    "start_time": "2023-01-27T13:12:25.294Z"
   },
   {
    "duration": 22,
    "start_time": "2023-01-27T13:14:24.677Z"
   },
   {
    "duration": 54,
    "start_time": "2023-01-27T13:16:31.252Z"
   },
   {
    "duration": 54,
    "start_time": "2023-01-27T13:16:38.553Z"
   },
   {
    "duration": 50,
    "start_time": "2023-01-27T13:17:42.940Z"
   },
   {
    "duration": 67,
    "start_time": "2023-01-27T13:18:58.423Z"
   },
   {
    "duration": 34,
    "start_time": "2023-01-27T13:19:15.157Z"
   },
   {
    "duration": 1143,
    "start_time": "2023-01-27T13:24:21.262Z"
   },
   {
    "duration": 41988,
    "start_time": "2023-01-27T13:25:52.632Z"
   },
   {
    "duration": 198,
    "start_time": "2023-01-27T13:29:45.534Z"
   },
   {
    "duration": 12532,
    "start_time": "2023-01-27T13:31:34.206Z"
   },
   {
    "duration": 951,
    "start_time": "2023-01-27T13:32:27.452Z"
   },
   {
    "duration": 245,
    "start_time": "2023-01-27T13:33:28.961Z"
   },
   {
    "duration": 16,
    "start_time": "2023-01-27T14:00:30.554Z"
   },
   {
    "duration": 976,
    "start_time": "2023-01-27T15:25:26.509Z"
   },
   {
    "duration": 23,
    "start_time": "2023-01-27T15:25:27.488Z"
   },
   {
    "duration": 22,
    "start_time": "2023-01-27T15:25:27.512Z"
   },
   {
    "duration": 2003,
    "start_time": "2023-01-27T15:25:27.537Z"
   },
   {
    "duration": 12,
    "start_time": "2023-01-27T15:25:29.542Z"
   },
   {
    "duration": 39,
    "start_time": "2023-01-27T15:25:29.555Z"
   },
   {
    "duration": 34,
    "start_time": "2023-01-27T15:25:29.597Z"
   },
   {
    "duration": 23,
    "start_time": "2023-01-27T15:25:29.633Z"
   },
   {
    "duration": 67,
    "start_time": "2023-01-27T15:25:29.658Z"
   },
   {
    "duration": 23,
    "start_time": "2023-01-27T15:25:29.727Z"
   },
   {
    "duration": 167,
    "start_time": "2023-01-27T15:25:29.751Z"
   },
   {
    "duration": 7,
    "start_time": "2023-01-27T15:25:29.920Z"
   },
   {
    "duration": 189,
    "start_time": "2023-01-27T15:25:29.929Z"
   },
   {
    "duration": 9,
    "start_time": "2023-01-27T15:25:30.120Z"
   },
   {
    "duration": 125,
    "start_time": "2023-01-27T15:25:30.131Z"
   },
   {
    "duration": 157,
    "start_time": "2023-01-27T15:25:30.258Z"
   },
   {
    "duration": 3,
    "start_time": "2023-01-27T15:25:30.417Z"
   },
   {
    "duration": 42,
    "start_time": "2023-01-27T15:25:30.422Z"
   },
   {
    "duration": 36,
    "start_time": "2023-01-27T15:25:30.466Z"
   },
   {
    "duration": 58,
    "start_time": "2023-01-27T15:25:30.504Z"
   },
   {
    "duration": 51,
    "start_time": "2023-01-27T15:25:30.564Z"
   },
   {
    "duration": 210,
    "start_time": "2023-01-27T15:25:30.616Z"
   },
   {
    "duration": 7,
    "start_time": "2023-01-27T15:25:30.828Z"
   },
   {
    "duration": 308,
    "start_time": "2023-01-27T15:25:30.837Z"
   },
   {
    "duration": 195,
    "start_time": "2023-01-27T15:25:31.147Z"
   },
   {
    "duration": 191,
    "start_time": "2023-01-27T15:25:31.344Z"
   },
   {
    "duration": 226,
    "start_time": "2023-01-27T15:25:31.537Z"
   },
   {
    "duration": 177,
    "start_time": "2023-01-27T15:25:31.767Z"
   },
   {
    "duration": 208,
    "start_time": "2023-01-27T15:25:31.946Z"
   },
   {
    "duration": 338,
    "start_time": "2023-01-27T15:25:32.156Z"
   },
   {
    "duration": 287,
    "start_time": "2023-01-27T15:25:32.499Z"
   },
   {
    "duration": 312,
    "start_time": "2023-01-27T15:25:32.789Z"
   },
   {
    "duration": 313,
    "start_time": "2023-01-27T15:25:33.102Z"
   },
   {
    "duration": 389,
    "start_time": "2023-01-27T15:25:33.416Z"
   },
   {
    "duration": 424,
    "start_time": "2023-01-27T15:25:33.807Z"
   },
   {
    "duration": 414,
    "start_time": "2023-01-27T15:25:34.293Z"
   },
   {
    "duration": 391,
    "start_time": "2023-01-27T15:25:34.708Z"
   },
   {
    "duration": 522,
    "start_time": "2023-01-27T15:25:35.102Z"
   },
   {
    "duration": 474,
    "start_time": "2023-01-27T15:25:35.626Z"
   },
   {
    "duration": 478,
    "start_time": "2023-01-27T15:25:36.102Z"
   },
   {
    "duration": 338,
    "start_time": "2023-01-27T15:25:36.589Z"
   },
   {
    "duration": 327,
    "start_time": "2023-01-27T15:25:36.988Z"
   },
   {
    "duration": 504,
    "start_time": "2023-01-27T15:25:37.317Z"
   },
   {
    "duration": 463,
    "start_time": "2023-01-27T15:25:37.822Z"
   },
   {
    "duration": 339,
    "start_time": "2023-01-27T15:25:38.287Z"
   },
   {
    "duration": 367,
    "start_time": "2023-01-27T15:25:38.628Z"
   },
   {
    "duration": 18,
    "start_time": "2023-01-27T15:25:38.997Z"
   },
   {
    "duration": 80,
    "start_time": "2023-01-27T15:25:39.016Z"
   },
   {
    "duration": 29,
    "start_time": "2023-01-27T15:25:39.097Z"
   },
   {
    "duration": 60,
    "start_time": "2023-01-27T15:25:39.128Z"
   },
   {
    "duration": 32,
    "start_time": "2023-01-27T15:25:39.194Z"
   },
   {
    "duration": 336,
    "start_time": "2023-01-27T15:25:39.285Z"
   },
   {
    "duration": 1225,
    "start_time": "2023-01-27T17:09:36.681Z"
   },
   {
    "duration": 77,
    "start_time": "2023-01-27T17:09:37.908Z"
   },
   {
    "duration": 25,
    "start_time": "2023-01-27T17:09:37.986Z"
   },
   {
    "duration": 4098,
    "start_time": "2023-01-27T17:09:38.014Z"
   },
   {
    "duration": 10,
    "start_time": "2023-01-27T17:09:42.114Z"
   },
   {
    "duration": 23,
    "start_time": "2023-01-27T17:09:42.181Z"
   },
   {
    "duration": 83,
    "start_time": "2023-01-27T17:09:42.206Z"
   },
   {
    "duration": 22,
    "start_time": "2023-01-27T17:09:42.291Z"
   },
   {
    "duration": 105,
    "start_time": "2023-01-27T17:09:42.316Z"
   },
   {
    "duration": 76,
    "start_time": "2023-01-27T17:09:42.424Z"
   },
   {
    "duration": 314,
    "start_time": "2023-01-27T17:09:42.501Z"
   },
   {
    "duration": 65,
    "start_time": "2023-01-27T17:09:42.817Z"
   },
   {
    "duration": 318,
    "start_time": "2023-01-27T17:09:42.884Z"
   },
   {
    "duration": 8,
    "start_time": "2023-01-27T17:09:43.204Z"
   },
   {
    "duration": 269,
    "start_time": "2023-01-27T17:09:43.214Z"
   },
   {
    "duration": 315,
    "start_time": "2023-01-27T17:09:43.485Z"
   },
   {
    "duration": 3,
    "start_time": "2023-01-27T17:09:43.802Z"
   },
   {
    "duration": 80,
    "start_time": "2023-01-27T17:09:43.807Z"
   },
   {
    "duration": 7,
    "start_time": "2023-01-27T17:09:43.890Z"
   },
   {
    "duration": 6,
    "start_time": "2023-01-27T17:09:43.899Z"
   },
   {
    "duration": 8,
    "start_time": "2023-01-27T17:09:43.907Z"
   },
   {
    "duration": 300,
    "start_time": "2023-01-27T17:09:43.981Z"
   },
   {
    "duration": 7,
    "start_time": "2023-01-27T17:09:44.283Z"
   },
   {
    "duration": 592,
    "start_time": "2023-01-27T17:09:44.292Z"
   },
   {
    "duration": 413,
    "start_time": "2023-01-27T17:09:44.886Z"
   },
   {
    "duration": 381,
    "start_time": "2023-01-27T17:09:45.300Z"
   },
   {
    "duration": 413,
    "start_time": "2023-01-27T17:09:45.683Z"
   },
   {
    "duration": 481,
    "start_time": "2023-01-27T17:09:46.100Z"
   },
   {
    "duration": 421,
    "start_time": "2023-01-27T17:09:46.583Z"
   },
   {
    "duration": 287,
    "start_time": "2023-01-27T17:09:47.006Z"
   },
   {
    "duration": 300,
    "start_time": "2023-01-27T17:09:47.295Z"
   },
   {
    "duration": 308,
    "start_time": "2023-01-27T17:09:47.597Z"
   },
   {
    "duration": 298,
    "start_time": "2023-01-27T17:09:47.906Z"
   },
   {
    "duration": 510,
    "start_time": "2023-01-27T17:09:48.205Z"
   },
   {
    "duration": 366,
    "start_time": "2023-01-27T17:09:48.717Z"
   },
   {
    "duration": 398,
    "start_time": "2023-01-27T17:09:49.085Z"
   },
   {
    "duration": 336,
    "start_time": "2023-01-27T17:09:49.485Z"
   },
   {
    "duration": 562,
    "start_time": "2023-01-27T17:09:49.823Z"
   },
   {
    "duration": 327,
    "start_time": "2023-01-27T17:09:50.387Z"
   },
   {
    "duration": 370,
    "start_time": "2023-01-27T17:09:50.716Z"
   },
   {
    "duration": 312,
    "start_time": "2023-01-27T17:09:51.088Z"
   },
   {
    "duration": 315,
    "start_time": "2023-01-27T17:09:51.402Z"
   },
   {
    "duration": 492,
    "start_time": "2023-01-27T17:09:51.719Z"
   },
   {
    "duration": 312,
    "start_time": "2023-01-27T17:09:52.212Z"
   },
   {
    "duration": 384,
    "start_time": "2023-01-27T17:09:52.526Z"
   },
   {
    "duration": 369,
    "start_time": "2023-01-27T17:09:52.912Z"
   },
   {
    "duration": 15,
    "start_time": "2023-01-27T17:09:53.283Z"
   },
   {
    "duration": 25,
    "start_time": "2023-01-27T17:09:53.299Z"
   },
   {
    "duration": 64,
    "start_time": "2023-01-27T17:09:53.325Z"
   },
   {
    "duration": 20,
    "start_time": "2023-01-27T17:09:53.391Z"
   },
   {
    "duration": 80,
    "start_time": "2023-01-27T17:09:53.413Z"
   },
   {
    "duration": 390,
    "start_time": "2023-01-27T17:09:53.494Z"
   },
   {
    "duration": 1126,
    "start_time": "2023-01-28T15:17:37.429Z"
   },
   {
    "duration": 405,
    "start_time": "2023-01-28T15:17:40.167Z"
   },
   {
    "duration": 87,
    "start_time": "2023-01-28T15:19:37.581Z"
   },
   {
    "duration": 70,
    "start_time": "2023-01-28T15:20:06.951Z"
   },
   {
    "duration": 37,
    "start_time": "2023-01-28T15:20:18.602Z"
   },
   {
    "duration": 2977,
    "start_time": "2023-01-28T15:20:25.465Z"
   },
   {
    "duration": 2637,
    "start_time": "2023-01-28T15:20:52.833Z"
   },
   {
    "duration": 17,
    "start_time": "2023-01-28T15:27:47.337Z"
   },
   {
    "duration": 156,
    "start_time": "2023-01-28T15:37:44.459Z"
   },
   {
    "duration": 103,
    "start_time": "2023-01-28T15:38:08.120Z"
   },
   {
    "duration": 12,
    "start_time": "2023-01-28T15:39:22.970Z"
   },
   {
    "duration": 32,
    "start_time": "2023-01-28T15:39:28.330Z"
   },
   {
    "duration": 53,
    "start_time": "2023-01-28T15:39:35.701Z"
   },
   {
    "duration": 30,
    "start_time": "2023-01-28T15:39:41.773Z"
   },
   {
    "duration": 11,
    "start_time": "2023-01-28T15:40:51.749Z"
   },
   {
    "duration": 52,
    "start_time": "2023-01-28T15:44:06.331Z"
   },
   {
    "duration": 8,
    "start_time": "2023-01-28T15:47:57.661Z"
   },
   {
    "duration": 42,
    "start_time": "2023-01-28T15:49:36.811Z"
   },
   {
    "duration": 18,
    "start_time": "2023-01-28T15:55:15.438Z"
   },
   {
    "duration": 30,
    "start_time": "2023-01-28T15:58:03.046Z"
   },
   {
    "duration": 33,
    "start_time": "2023-01-28T16:00:23.031Z"
   },
   {
    "duration": 28,
    "start_time": "2023-01-28T16:05:18.471Z"
   },
   {
    "duration": 31,
    "start_time": "2023-01-28T16:10:29.027Z"
   },
   {
    "duration": 158,
    "start_time": "2023-01-28T16:16:17.705Z"
   },
   {
    "duration": 25,
    "start_time": "2023-01-28T16:16:32.653Z"
   },
   {
    "duration": 135,
    "start_time": "2023-01-28T16:16:38.501Z"
   },
   {
    "duration": 44,
    "start_time": "2023-01-28T16:20:39.127Z"
   },
   {
    "duration": 43,
    "start_time": "2023-01-28T16:23:28.411Z"
   },
   {
    "duration": 174,
    "start_time": "2023-01-28T16:24:14.347Z"
   },
   {
    "duration": 31,
    "start_time": "2023-01-28T16:30:01.299Z"
   },
   {
    "duration": 51,
    "start_time": "2023-01-28T16:55:27.801Z"
   },
   {
    "duration": 53,
    "start_time": "2023-01-28T16:59:46.468Z"
   },
   {
    "duration": 6,
    "start_time": "2023-01-28T17:01:40.045Z"
   },
   {
    "duration": 7,
    "start_time": "2023-01-28T17:02:51.607Z"
   },
   {
    "duration": 7,
    "start_time": "2023-01-28T17:08:56.995Z"
   },
   {
    "duration": 12,
    "start_time": "2023-01-28T17:09:08.095Z"
   },
   {
    "duration": 170,
    "start_time": "2023-01-28T17:11:23.536Z"
   },
   {
    "duration": 162,
    "start_time": "2023-01-28T17:12:12.754Z"
   },
   {
    "duration": 830,
    "start_time": "2023-01-29T04:50:10.463Z"
   },
   {
    "duration": 152,
    "start_time": "2023-01-29T04:50:11.296Z"
   },
   {
    "duration": 44,
    "start_time": "2023-01-29T04:50:14.360Z"
   },
   {
    "duration": 17,
    "start_time": "2023-01-29T04:50:17.791Z"
   },
   {
    "duration": 2260,
    "start_time": "2023-01-29T04:50:18.754Z"
   },
   {
    "duration": 9,
    "start_time": "2023-01-29T04:50:23.030Z"
   },
   {
    "duration": 58,
    "start_time": "2023-01-29T04:50:24.501Z"
   },
   {
    "duration": 17,
    "start_time": "2023-01-29T04:50:27.029Z"
   },
   {
    "duration": 25,
    "start_time": "2023-01-29T04:50:31.632Z"
   },
   {
    "duration": 27,
    "start_time": "2023-01-29T04:50:35.744Z"
   },
   {
    "duration": 84,
    "start_time": "2023-01-29T04:50:37.423Z"
   },
   {
    "duration": 9,
    "start_time": "2023-01-29T04:53:59.049Z"
   },
   {
    "duration": 125,
    "start_time": "2023-01-29T04:54:36.381Z"
   },
   {
    "duration": 134,
    "start_time": "2023-01-29T05:01:01.704Z"
   },
   {
    "duration": 121,
    "start_time": "2023-01-29T05:01:16.765Z"
   },
   {
    "duration": 116,
    "start_time": "2023-01-29T05:01:58.180Z"
   },
   {
    "duration": 137,
    "start_time": "2023-01-29T05:02:03.830Z"
   },
   {
    "duration": 237,
    "start_time": "2023-01-29T05:02:22.305Z"
   },
   {
    "duration": 114,
    "start_time": "2023-01-29T05:03:31.213Z"
   },
   {
    "duration": 168,
    "start_time": "2023-01-29T05:10:05.364Z"
   },
   {
    "duration": 804,
    "start_time": "2023-01-29T07:31:21.946Z"
   },
   {
    "duration": 380,
    "start_time": "2023-01-29T07:31:22.752Z"
   },
   {
    "duration": 47,
    "start_time": "2023-01-29T07:31:25.114Z"
   },
   {
    "duration": 16,
    "start_time": "2023-01-29T07:31:26.658Z"
   },
   {
    "duration": 2121,
    "start_time": "2023-01-29T07:31:27.330Z"
   },
   {
    "duration": 8,
    "start_time": "2023-01-29T07:31:30.166Z"
   },
   {
    "duration": 49,
    "start_time": "2023-01-29T07:31:30.826Z"
   },
   {
    "duration": 16,
    "start_time": "2023-01-29T07:31:32.166Z"
   },
   {
    "duration": 36,
    "start_time": "2023-01-29T07:31:36.276Z"
   },
   {
    "duration": 25,
    "start_time": "2023-01-29T07:31:43.166Z"
   },
   {
    "duration": 79,
    "start_time": "2023-01-29T07:31:43.809Z"
   },
   {
    "duration": 8,
    "start_time": "2023-01-29T07:31:56.110Z"
   },
   {
    "duration": 12,
    "start_time": "2023-01-29T07:32:02.471Z"
   },
   {
    "duration": 145,
    "start_time": "2023-01-29T07:32:03.718Z"
   },
   {
    "duration": 13,
    "start_time": "2023-01-29T07:32:07.884Z"
   },
   {
    "duration": 140,
    "start_time": "2023-01-29T07:32:08.674Z"
   },
   {
    "duration": 11,
    "start_time": "2023-01-29T07:32:11.851Z"
   },
   {
    "duration": 112,
    "start_time": "2023-01-29T07:32:12.770Z"
   },
   {
    "duration": 109,
    "start_time": "2023-01-29T07:32:59.903Z"
   },
   {
    "duration": 124,
    "start_time": "2023-01-29T07:33:11.081Z"
   },
   {
    "duration": 231,
    "start_time": "2023-01-29T07:33:15.163Z"
   },
   {
    "duration": 176,
    "start_time": "2023-01-29T07:33:22.723Z"
   },
   {
    "duration": 11,
    "start_time": "2023-01-29T07:33:23.637Z"
   },
   {
    "duration": 148,
    "start_time": "2023-01-29T07:33:24.990Z"
   },
   {
    "duration": 197,
    "start_time": "2023-01-29T07:33:32.603Z"
   },
   {
    "duration": 90,
    "start_time": "2023-01-29T07:35:05.038Z"
   },
   {
    "duration": 75,
    "start_time": "2023-01-29T07:35:07.111Z"
   },
   {
    "duration": 9,
    "start_time": "2023-01-29T07:35:09.171Z"
   },
   {
    "duration": 4,
    "start_time": "2023-01-29T07:35:16.971Z"
   },
   {
    "duration": 12,
    "start_time": "2023-01-29T07:35:32.060Z"
   },
   {
    "duration": 15,
    "start_time": "2023-01-29T07:36:13.675Z"
   },
   {
    "duration": 5,
    "start_time": "2023-01-29T07:37:42.754Z"
   },
   {
    "duration": 11,
    "start_time": "2023-01-29T07:37:44.708Z"
   },
   {
    "duration": 23,
    "start_time": "2023-01-29T07:38:16.590Z"
   },
   {
    "duration": 4,
    "start_time": "2023-01-29T07:39:53.495Z"
   },
   {
    "duration": 11,
    "start_time": "2023-01-29T07:39:55.060Z"
   },
   {
    "duration": 3,
    "start_time": "2023-01-29T07:40:51.661Z"
   },
   {
    "duration": 97,
    "start_time": "2023-01-29T07:40:52.517Z"
   },
   {
    "duration": 41,
    "start_time": "2023-01-29T07:40:54.211Z"
   },
   {
    "duration": 15,
    "start_time": "2023-01-29T07:40:55.943Z"
   },
   {
    "duration": 2093,
    "start_time": "2023-01-29T07:40:56.522Z"
   },
   {
    "duration": 9,
    "start_time": "2023-01-29T07:40:59.371Z"
   },
   {
    "duration": 18,
    "start_time": "2023-01-29T07:40:59.902Z"
   },
   {
    "duration": 18,
    "start_time": "2023-01-29T07:41:03.508Z"
   },
   {
    "duration": 22,
    "start_time": "2023-01-29T07:41:10.735Z"
   },
   {
    "duration": 26,
    "start_time": "2023-01-29T07:41:14.529Z"
   },
   {
    "duration": 82,
    "start_time": "2023-01-29T07:41:15.196Z"
   },
   {
    "duration": 8,
    "start_time": "2023-01-29T07:41:18.897Z"
   },
   {
    "duration": 11,
    "start_time": "2023-01-29T07:41:20.686Z"
   },
   {
    "duration": 149,
    "start_time": "2023-01-29T07:41:23.013Z"
   },
   {
    "duration": 8,
    "start_time": "2023-01-29T07:41:27.573Z"
   },
   {
    "duration": 125,
    "start_time": "2023-01-29T07:41:29.944Z"
   },
   {
    "duration": 9,
    "start_time": "2023-01-29T07:41:43.156Z"
   },
   {
    "duration": 112,
    "start_time": "2023-01-29T07:41:44.547Z"
   },
   {
    "duration": 149,
    "start_time": "2023-01-29T07:41:49.959Z"
   },
   {
    "duration": 8,
    "start_time": "2023-01-29T07:41:51.127Z"
   },
   {
    "duration": 141,
    "start_time": "2023-01-29T07:42:10.993Z"
   },
   {
    "duration": 187,
    "start_time": "2023-01-29T07:42:14.908Z"
   },
   {
    "duration": 4,
    "start_time": "2023-01-29T07:42:20.475Z"
   },
   {
    "duration": 11,
    "start_time": "2023-01-29T07:42:22.435Z"
   },
   {
    "duration": 114,
    "start_time": "2023-01-29T07:42:43.587Z"
   },
   {
    "duration": 182,
    "start_time": "2023-01-29T07:42:54.124Z"
   },
   {
    "duration": 5,
    "start_time": "2023-01-29T07:42:59.549Z"
   },
   {
    "duration": 16,
    "start_time": "2023-01-29T07:43:01.809Z"
   },
   {
    "duration": 590,
    "start_time": "2023-01-29T07:48:35.431Z"
   },
   {
    "duration": 95,
    "start_time": "2023-01-29T07:48:36.023Z"
   },
   {
    "duration": 40,
    "start_time": "2023-01-29T07:48:36.120Z"
   },
   {
    "duration": 29,
    "start_time": "2023-01-29T07:48:36.162Z"
   },
   {
    "duration": 1879,
    "start_time": "2023-01-29T07:48:36.193Z"
   },
   {
    "duration": 8,
    "start_time": "2023-01-29T07:48:38.073Z"
   },
   {
    "duration": 58,
    "start_time": "2023-01-29T07:48:38.083Z"
   },
   {
    "duration": 16,
    "start_time": "2023-01-29T07:48:38.142Z"
   },
   {
    "duration": 35,
    "start_time": "2023-01-29T07:48:38.160Z"
   },
   {
    "duration": 23,
    "start_time": "2023-01-29T07:48:38.198Z"
   },
   {
    "duration": 91,
    "start_time": "2023-01-29T07:48:38.223Z"
   },
   {
    "duration": 6,
    "start_time": "2023-01-29T07:48:38.316Z"
   },
   {
    "duration": 11,
    "start_time": "2023-01-29T07:48:38.323Z"
   },
   {
    "duration": 173,
    "start_time": "2023-01-29T07:48:38.336Z"
   },
   {
    "duration": 8,
    "start_time": "2023-01-29T07:48:38.511Z"
   },
   {
    "duration": 165,
    "start_time": "2023-01-29T07:48:38.521Z"
   },
   {
    "duration": 7,
    "start_time": "2023-01-29T07:48:38.692Z"
   },
   {
    "duration": 110,
    "start_time": "2023-01-29T07:48:38.701Z"
   },
   {
    "duration": 137,
    "start_time": "2023-01-29T07:48:38.813Z"
   },
   {
    "duration": 7,
    "start_time": "2023-01-29T07:48:38.952Z"
   },
   {
    "duration": 116,
    "start_time": "2023-01-29T07:48:38.960Z"
   },
   {
    "duration": 254,
    "start_time": "2023-01-29T07:48:39.077Z"
   },
   {
    "duration": 4,
    "start_time": "2023-01-29T07:48:39.332Z"
   },
   {
    "duration": 14,
    "start_time": "2023-01-29T07:48:39.338Z"
   },
   {
    "duration": 6,
    "start_time": "2023-01-29T07:48:39.354Z"
   },
   {
    "duration": 19,
    "start_time": "2023-01-29T07:48:39.362Z"
   },
   {
    "duration": 6,
    "start_time": "2023-01-29T07:48:39.391Z"
   },
   {
    "duration": 8,
    "start_time": "2023-01-29T07:48:39.400Z"
   },
   {
    "duration": 6,
    "start_time": "2023-01-29T07:48:39.409Z"
   },
   {
    "duration": 137,
    "start_time": "2023-01-29T07:48:39.416Z"
   },
   {
    "duration": 6,
    "start_time": "2023-01-29T07:48:39.555Z"
   },
   {
    "duration": 172,
    "start_time": "2023-01-29T07:48:39.562Z"
   },
   {
    "duration": 184,
    "start_time": "2023-01-29T07:48:39.736Z"
   },
   {
    "duration": 172,
    "start_time": "2023-01-29T07:48:39.922Z"
   },
   {
    "duration": 188,
    "start_time": "2023-01-29T07:48:40.095Z"
   },
   {
    "duration": 177,
    "start_time": "2023-01-29T07:48:40.285Z"
   },
   {
    "duration": 197,
    "start_time": "2023-01-29T07:48:40.464Z"
   },
   {
    "duration": 129,
    "start_time": "2023-01-29T07:48:40.662Z"
   },
   {
    "duration": 134,
    "start_time": "2023-01-29T07:48:40.793Z"
   },
   {
    "duration": 216,
    "start_time": "2023-01-29T07:48:40.929Z"
   },
   {
    "duration": 153,
    "start_time": "2023-01-29T07:48:41.147Z"
   },
   {
    "duration": 136,
    "start_time": "2023-01-29T07:48:41.302Z"
   },
   {
    "duration": 143,
    "start_time": "2023-01-29T07:48:41.440Z"
   },
   {
    "duration": 172,
    "start_time": "2023-01-29T07:48:41.591Z"
   },
   {
    "duration": 182,
    "start_time": "2023-01-29T07:48:41.765Z"
   },
   {
    "duration": 232,
    "start_time": "2023-01-29T07:48:41.949Z"
   },
   {
    "duration": 174,
    "start_time": "2023-01-29T07:48:42.183Z"
   },
   {
    "duration": 158,
    "start_time": "2023-01-29T07:48:42.359Z"
   },
   {
    "duration": 225,
    "start_time": "2023-01-29T07:48:42.519Z"
   },
   {
    "duration": 148,
    "start_time": "2023-01-29T07:48:42.745Z"
   },
   {
    "duration": 126,
    "start_time": "2023-01-29T07:48:42.894Z"
   },
   {
    "duration": 156,
    "start_time": "2023-01-29T07:48:43.021Z"
   },
   {
    "duration": 156,
    "start_time": "2023-01-29T07:48:43.179Z"
   },
   {
    "duration": 130,
    "start_time": "2023-01-29T07:48:43.336Z"
   },
   {
    "duration": 23,
    "start_time": "2023-01-29T07:48:43.468Z"
   },
   {
    "duration": 11,
    "start_time": "2023-01-29T07:48:43.493Z"
   },
   {
    "duration": 11,
    "start_time": "2023-01-29T07:48:43.506Z"
   },
   {
    "duration": 9,
    "start_time": "2023-01-29T07:48:43.520Z"
   },
   {
    "duration": 24,
    "start_time": "2023-01-29T07:48:43.531Z"
   },
   {
    "duration": 181,
    "start_time": "2023-01-29T07:48:43.556Z"
   },
   {
    "duration": 10,
    "start_time": "2023-01-29T07:57:12.487Z"
   },
   {
    "duration": 97,
    "start_time": "2023-01-29T07:59:43.511Z"
   },
   {
    "duration": 10,
    "start_time": "2023-01-29T08:11:32.176Z"
   },
   {
    "duration": 16,
    "start_time": "2023-01-29T08:11:50.772Z"
   },
   {
    "duration": 16,
    "start_time": "2023-01-29T08:12:18.188Z"
   },
   {
    "duration": 7,
    "start_time": "2023-01-29T08:12:34.145Z"
   },
   {
    "duration": 9,
    "start_time": "2023-01-29T08:12:36.277Z"
   },
   {
    "duration": 8,
    "start_time": "2023-01-29T08:12:45.545Z"
   },
   {
    "duration": 144,
    "start_time": "2023-01-29T08:23:31.202Z"
   },
   {
    "duration": 7,
    "start_time": "2023-01-29T08:25:21.173Z"
   },
   {
    "duration": 5,
    "start_time": "2023-01-29T08:25:55.679Z"
   },
   {
    "duration": 7,
    "start_time": "2023-01-29T08:27:36.873Z"
   },
   {
    "duration": 6,
    "start_time": "2023-01-29T08:28:00.690Z"
   },
   {
    "duration": 59,
    "start_time": "2023-01-29T08:30:21.642Z"
   },
   {
    "duration": 108,
    "start_time": "2023-01-29T08:30:29.083Z"
   },
   {
    "duration": 13,
    "start_time": "2023-01-29T08:32:42.375Z"
   },
   {
    "duration": 152,
    "start_time": "2023-01-29T08:37:05.965Z"
   },
   {
    "duration": 587,
    "start_time": "2023-01-29T08:37:41.429Z"
   },
   {
    "duration": 93,
    "start_time": "2023-01-29T08:37:42.019Z"
   },
   {
    "duration": 40,
    "start_time": "2023-01-29T08:37:42.113Z"
   },
   {
    "duration": 18,
    "start_time": "2023-01-29T08:37:42.155Z"
   },
   {
    "duration": 1850,
    "start_time": "2023-01-29T08:37:42.190Z"
   },
   {
    "duration": 8,
    "start_time": "2023-01-29T08:37:44.042Z"
   },
   {
    "duration": 56,
    "start_time": "2023-01-29T08:37:44.052Z"
   },
   {
    "duration": 15,
    "start_time": "2023-01-29T08:37:44.109Z"
   },
   {
    "duration": 22,
    "start_time": "2023-01-29T08:37:44.125Z"
   },
   {
    "duration": 45,
    "start_time": "2023-01-29T08:37:44.148Z"
   },
   {
    "duration": 75,
    "start_time": "2023-01-29T08:37:44.195Z"
   },
   {
    "duration": 20,
    "start_time": "2023-01-29T08:37:44.271Z"
   },
   {
    "duration": 13,
    "start_time": "2023-01-29T08:37:44.293Z"
   },
   {
    "duration": 154,
    "start_time": "2023-01-29T08:37:44.310Z"
   },
   {
    "duration": 7,
    "start_time": "2023-01-29T08:37:44.466Z"
   },
   {
    "duration": 126,
    "start_time": "2023-01-29T08:37:44.475Z"
   },
   {
    "duration": 135,
    "start_time": "2023-01-29T08:37:44.602Z"
   },
   {
    "duration": 11,
    "start_time": "2023-01-29T08:37:44.740Z"
   },
   {
    "duration": 141,
    "start_time": "2023-01-29T08:37:44.753Z"
   },
   {
    "duration": 156,
    "start_time": "2023-01-29T08:37:44.897Z"
   },
   {
    "duration": 9,
    "start_time": "2023-01-29T08:37:45.055Z"
   },
   {
    "duration": 206,
    "start_time": "2023-01-29T08:37:45.065Z"
   },
   {
    "duration": 168,
    "start_time": "2023-01-29T08:37:45.273Z"
   },
   {
    "duration": 4,
    "start_time": "2023-01-29T08:37:45.442Z"
   },
   {
    "duration": 13,
    "start_time": "2023-01-29T08:37:45.448Z"
   },
   {
    "duration": 11,
    "start_time": "2023-01-29T08:37:45.463Z"
   },
   {
    "duration": 148,
    "start_time": "2023-01-29T08:37:45.475Z"
   },
   {
    "duration": 8,
    "start_time": "2023-01-29T08:37:45.625Z"
   },
   {
    "duration": 120,
    "start_time": "2023-01-29T08:37:45.634Z"
   },
   {
    "duration": 14,
    "start_time": "2023-01-29T08:37:45.756Z"
   },
   {
    "duration": 3,
    "start_time": "2023-01-29T08:37:45.772Z"
   },
   {
    "duration": 30,
    "start_time": "2023-01-29T08:37:45.776Z"
   },
   {
    "duration": 6,
    "start_time": "2023-01-29T08:37:45.807Z"
   },
   {
    "duration": 7,
    "start_time": "2023-01-29T08:37:45.815Z"
   },
   {
    "duration": 11,
    "start_time": "2023-01-29T08:37:45.823Z"
   },
   {
    "duration": 145,
    "start_time": "2023-01-29T08:37:45.836Z"
   },
   {
    "duration": 12,
    "start_time": "2023-01-29T08:37:45.983Z"
   },
   {
    "duration": 150,
    "start_time": "2023-01-29T08:37:45.997Z"
   },
   {
    "duration": 205,
    "start_time": "2023-01-29T08:37:46.148Z"
   },
   {
    "duration": 186,
    "start_time": "2023-01-29T08:37:46.355Z"
   },
   {
    "duration": 169,
    "start_time": "2023-01-29T08:37:46.545Z"
   },
   {
    "duration": 155,
    "start_time": "2023-01-29T08:37:46.716Z"
   },
   {
    "duration": 275,
    "start_time": "2023-01-29T08:37:46.872Z"
   },
   {
    "duration": 118,
    "start_time": "2023-01-29T08:37:47.149Z"
   },
   {
    "duration": 131,
    "start_time": "2023-01-29T08:37:47.269Z"
   },
   {
    "duration": 134,
    "start_time": "2023-01-29T08:37:47.402Z"
   },
   {
    "duration": 139,
    "start_time": "2023-01-29T08:37:47.538Z"
   },
   {
    "duration": 139,
    "start_time": "2023-01-29T08:37:47.679Z"
   },
   {
    "duration": 131,
    "start_time": "2023-01-29T08:37:47.820Z"
   },
   {
    "duration": 171,
    "start_time": "2023-01-29T08:37:47.952Z"
   },
   {
    "duration": 171,
    "start_time": "2023-01-29T08:37:48.125Z"
   },
   {
    "duration": 344,
    "start_time": "2023-01-29T08:37:48.298Z"
   },
   {
    "duration": 162,
    "start_time": "2023-01-29T08:37:48.643Z"
   },
   {
    "duration": 172,
    "start_time": "2023-01-29T08:37:48.806Z"
   },
   {
    "duration": 165,
    "start_time": "2023-01-29T08:37:48.980Z"
   },
   {
    "duration": 152,
    "start_time": "2023-01-29T08:37:49.146Z"
   },
   {
    "duration": 133,
    "start_time": "2023-01-29T08:37:49.300Z"
   },
   {
    "duration": 157,
    "start_time": "2023-01-29T08:37:49.434Z"
   },
   {
    "duration": 151,
    "start_time": "2023-01-29T08:37:49.592Z"
   },
   {
    "duration": 139,
    "start_time": "2023-01-29T08:37:49.745Z"
   },
   {
    "duration": 14,
    "start_time": "2023-01-29T08:37:49.885Z"
   },
   {
    "duration": 11,
    "start_time": "2023-01-29T08:37:49.900Z"
   },
   {
    "duration": 9,
    "start_time": "2023-01-29T08:37:49.912Z"
   },
   {
    "duration": 8,
    "start_time": "2023-01-29T08:37:49.923Z"
   },
   {
    "duration": 22,
    "start_time": "2023-01-29T08:37:49.933Z"
   },
   {
    "duration": 193,
    "start_time": "2023-01-29T08:37:49.957Z"
   },
   {
    "duration": 4,
    "start_time": "2023-01-29T08:42:29.438Z"
   },
   {
    "duration": 8,
    "start_time": "2023-01-29T08:42:30.018Z"
   },
   {
    "duration": 661,
    "start_time": "2023-01-29T08:42:35.520Z"
   },
   {
    "duration": 110,
    "start_time": "2023-01-29T08:42:36.183Z"
   },
   {
    "duration": 47,
    "start_time": "2023-01-29T08:42:36.296Z"
   },
   {
    "duration": 16,
    "start_time": "2023-01-29T08:42:36.345Z"
   },
   {
    "duration": 2049,
    "start_time": "2023-01-29T08:42:36.363Z"
   },
   {
    "duration": 9,
    "start_time": "2023-01-29T08:42:38.414Z"
   },
   {
    "duration": 76,
    "start_time": "2023-01-29T08:42:38.424Z"
   },
   {
    "duration": 17,
    "start_time": "2023-01-29T08:42:38.502Z"
   },
   {
    "duration": 26,
    "start_time": "2023-01-29T08:42:38.521Z"
   },
   {
    "duration": 52,
    "start_time": "2023-01-29T08:42:38.548Z"
   },
   {
    "duration": 89,
    "start_time": "2023-01-29T08:42:38.602Z"
   },
   {
    "duration": 7,
    "start_time": "2023-01-29T08:42:38.693Z"
   },
   {
    "duration": 13,
    "start_time": "2023-01-29T08:42:38.701Z"
   },
   {
    "duration": 3,
    "start_time": "2023-01-29T08:42:38.717Z"
   },
   {
    "duration": 14,
    "start_time": "2023-01-29T08:42:38.722Z"
   },
   {
    "duration": 179,
    "start_time": "2023-01-29T08:42:38.737Z"
   },
   {
    "duration": 9,
    "start_time": "2023-01-29T08:42:38.917Z"
   },
   {
    "duration": 163,
    "start_time": "2023-01-29T08:42:38.928Z"
   },
   {
    "duration": 155,
    "start_time": "2023-01-29T08:42:39.093Z"
   },
   {
    "duration": 9,
    "start_time": "2023-01-29T08:42:39.250Z"
   },
   {
    "duration": 134,
    "start_time": "2023-01-29T08:42:39.261Z"
   },
   {
    "duration": 165,
    "start_time": "2023-01-29T08:42:39.398Z"
   },
   {
    "duration": 7,
    "start_time": "2023-01-29T08:42:39.565Z"
   },
   {
    "duration": 224,
    "start_time": "2023-01-29T08:42:39.573Z"
   },
   {
    "duration": 214,
    "start_time": "2023-01-29T08:42:39.799Z"
   },
   {
    "duration": 5,
    "start_time": "2023-01-29T08:42:40.016Z"
   },
   {
    "duration": 24,
    "start_time": "2023-01-29T08:42:40.023Z"
   },
   {
    "duration": 22,
    "start_time": "2023-01-29T08:42:40.049Z"
   },
   {
    "duration": 150,
    "start_time": "2023-01-29T08:42:40.073Z"
   },
   {
    "duration": 8,
    "start_time": "2023-01-29T08:42:40.225Z"
   },
   {
    "duration": 141,
    "start_time": "2023-01-29T08:42:40.235Z"
   },
   {
    "duration": 26,
    "start_time": "2023-01-29T08:42:40.378Z"
   },
   {
    "duration": 3,
    "start_time": "2023-01-29T08:42:40.405Z"
   },
   {
    "duration": 28,
    "start_time": "2023-01-29T08:42:40.410Z"
   },
   {
    "duration": 6,
    "start_time": "2023-01-29T08:42:40.440Z"
   },
   {
    "duration": 10,
    "start_time": "2023-01-29T08:42:40.447Z"
   },
   {
    "duration": 14,
    "start_time": "2023-01-29T08:42:40.458Z"
   },
   {
    "duration": 131,
    "start_time": "2023-01-29T08:42:40.492Z"
   },
   {
    "duration": 7,
    "start_time": "2023-01-29T08:42:40.624Z"
   },
   {
    "duration": 174,
    "start_time": "2023-01-29T08:42:40.632Z"
   },
   {
    "duration": 201,
    "start_time": "2023-01-29T08:42:40.810Z"
   },
   {
    "duration": 178,
    "start_time": "2023-01-29T08:42:41.013Z"
   },
   {
    "duration": 185,
    "start_time": "2023-01-29T08:42:41.193Z"
   },
   {
    "duration": 171,
    "start_time": "2023-01-29T08:42:41.380Z"
   },
   {
    "duration": 280,
    "start_time": "2023-01-29T08:42:41.553Z"
   },
   {
    "duration": 134,
    "start_time": "2023-01-29T08:42:41.836Z"
   },
   {
    "duration": 174,
    "start_time": "2023-01-29T08:42:41.972Z"
   },
   {
    "duration": 145,
    "start_time": "2023-01-29T08:42:42.148Z"
   },
   {
    "duration": 155,
    "start_time": "2023-01-29T08:42:42.295Z"
   },
   {
    "duration": 157,
    "start_time": "2023-01-29T08:42:42.452Z"
   },
   {
    "duration": 143,
    "start_time": "2023-01-29T08:42:42.610Z"
   },
   {
    "duration": 202,
    "start_time": "2023-01-29T08:42:42.755Z"
   },
   {
    "duration": 199,
    "start_time": "2023-01-29T08:42:42.959Z"
   },
   {
    "duration": 344,
    "start_time": "2023-01-29T08:42:43.160Z"
   },
   {
    "duration": 191,
    "start_time": "2023-01-29T08:42:43.506Z"
   },
   {
    "duration": 211,
    "start_time": "2023-01-29T08:42:43.699Z"
   },
   {
    "duration": 160,
    "start_time": "2023-01-29T08:42:43.912Z"
   },
   {
    "duration": 157,
    "start_time": "2023-01-29T08:42:44.074Z"
   },
   {
    "duration": 191,
    "start_time": "2023-01-29T08:42:44.233Z"
   },
   {
    "duration": 177,
    "start_time": "2023-01-29T08:42:44.426Z"
   },
   {
    "duration": 187,
    "start_time": "2023-01-29T08:42:44.606Z"
   },
   {
    "duration": 157,
    "start_time": "2023-01-29T08:42:44.795Z"
   },
   {
    "duration": 16,
    "start_time": "2023-01-29T08:42:44.954Z"
   },
   {
    "duration": 30,
    "start_time": "2023-01-29T08:42:44.972Z"
   },
   {
    "duration": 11,
    "start_time": "2023-01-29T08:42:45.004Z"
   },
   {
    "duration": 33,
    "start_time": "2023-01-29T08:42:45.017Z"
   },
   {
    "duration": 29,
    "start_time": "2023-01-29T08:42:45.052Z"
   },
   {
    "duration": 184,
    "start_time": "2023-01-29T08:42:45.083Z"
   },
   {
    "duration": 4,
    "start_time": "2023-01-29T08:43:55.551Z"
   },
   {
    "duration": 8,
    "start_time": "2023-01-29T08:43:57.523Z"
   },
   {
    "duration": 706,
    "start_time": "2023-01-29T08:44:08.937Z"
   },
   {
    "duration": 105,
    "start_time": "2023-01-29T08:44:09.644Z"
   },
   {
    "duration": 51,
    "start_time": "2023-01-29T08:44:09.751Z"
   },
   {
    "duration": 21,
    "start_time": "2023-01-29T08:44:09.804Z"
   },
   {
    "duration": 2193,
    "start_time": "2023-01-29T08:44:09.827Z"
   },
   {
    "duration": 9,
    "start_time": "2023-01-29T08:44:12.022Z"
   },
   {
    "duration": 67,
    "start_time": "2023-01-29T08:44:12.033Z"
   },
   {
    "duration": 18,
    "start_time": "2023-01-29T08:44:12.102Z"
   },
   {
    "duration": 25,
    "start_time": "2023-01-29T08:44:12.122Z"
   },
   {
    "duration": 50,
    "start_time": "2023-01-29T08:44:12.149Z"
   },
   {
    "duration": 104,
    "start_time": "2023-01-29T08:44:12.201Z"
   },
   {
    "duration": 7,
    "start_time": "2023-01-29T08:44:12.307Z"
   },
   {
    "duration": 16,
    "start_time": "2023-01-29T08:44:12.316Z"
   },
   {
    "duration": 4,
    "start_time": "2023-01-29T08:44:12.334Z"
   },
   {
    "duration": 19,
    "start_time": "2023-01-29T08:44:12.340Z"
   },
   {
    "duration": 189,
    "start_time": "2023-01-29T08:44:12.360Z"
   },
   {
    "duration": 8,
    "start_time": "2023-01-29T08:44:12.550Z"
   },
   {
    "duration": 174,
    "start_time": "2023-01-29T08:44:12.560Z"
   },
   {
    "duration": 157,
    "start_time": "2023-01-29T08:44:12.736Z"
   },
   {
    "duration": 8,
    "start_time": "2023-01-29T08:44:12.895Z"
   },
   {
    "duration": 135,
    "start_time": "2023-01-29T08:44:12.905Z"
   },
   {
    "duration": 178,
    "start_time": "2023-01-29T08:44:13.043Z"
   },
   {
    "duration": 9,
    "start_time": "2023-01-29T08:44:13.223Z"
   },
   {
    "duration": 297,
    "start_time": "2023-01-29T08:44:13.234Z"
   },
   {
    "duration": 220,
    "start_time": "2023-01-29T08:44:13.534Z"
   },
   {
    "duration": 4,
    "start_time": "2023-01-29T08:44:13.756Z"
   },
   {
    "duration": 29,
    "start_time": "2023-01-29T08:44:13.762Z"
   },
   {
    "duration": 20,
    "start_time": "2023-01-29T08:44:13.796Z"
   },
   {
    "duration": 175,
    "start_time": "2023-01-29T08:44:13.819Z"
   },
   {
    "duration": 8,
    "start_time": "2023-01-29T08:44:13.996Z"
   },
   {
    "duration": 153,
    "start_time": "2023-01-29T08:44:14.006Z"
   },
   {
    "duration": 31,
    "start_time": "2023-01-29T08:44:14.161Z"
   },
   {
    "duration": 5,
    "start_time": "2023-01-29T08:44:14.193Z"
   },
   {
    "duration": 22,
    "start_time": "2023-01-29T08:44:14.199Z"
   },
   {
    "duration": 8,
    "start_time": "2023-01-29T08:44:14.223Z"
   },
   {
    "duration": 8,
    "start_time": "2023-01-29T08:44:14.233Z"
   },
   {
    "duration": 7,
    "start_time": "2023-01-29T08:44:14.244Z"
   },
   {
    "duration": 150,
    "start_time": "2023-01-29T08:44:14.291Z"
   },
   {
    "duration": 8,
    "start_time": "2023-01-29T08:44:14.444Z"
   },
   {
    "duration": 229,
    "start_time": "2023-01-29T08:44:14.454Z"
   },
   {
    "duration": 219,
    "start_time": "2023-01-29T08:44:14.691Z"
   },
   {
    "duration": 210,
    "start_time": "2023-01-29T08:44:14.912Z"
   },
   {
    "duration": 210,
    "start_time": "2023-01-29T08:44:15.123Z"
   },
   {
    "duration": 193,
    "start_time": "2023-01-29T08:44:15.334Z"
   },
   {
    "duration": 311,
    "start_time": "2023-01-29T08:44:15.528Z"
   },
   {
    "duration": 166,
    "start_time": "2023-01-29T08:44:15.841Z"
   },
   {
    "duration": 163,
    "start_time": "2023-01-29T08:44:16.009Z"
   },
   {
    "duration": 181,
    "start_time": "2023-01-29T08:44:16.174Z"
   },
   {
    "duration": 183,
    "start_time": "2023-01-29T08:44:16.357Z"
   },
   {
    "duration": 174,
    "start_time": "2023-01-29T08:44:16.542Z"
   },
   {
    "duration": 163,
    "start_time": "2023-01-29T08:44:16.718Z"
   },
   {
    "duration": 215,
    "start_time": "2023-01-29T08:44:16.883Z"
   },
   {
    "duration": 197,
    "start_time": "2023-01-29T08:44:17.100Z"
   },
   {
    "duration": 376,
    "start_time": "2023-01-29T08:44:17.299Z"
   },
   {
    "duration": 195,
    "start_time": "2023-01-29T08:44:17.676Z"
   },
   {
    "duration": 198,
    "start_time": "2023-01-29T08:44:17.873Z"
   },
   {
    "duration": 187,
    "start_time": "2023-01-29T08:44:18.073Z"
   },
   {
    "duration": 177,
    "start_time": "2023-01-29T08:44:18.262Z"
   },
   {
    "duration": 159,
    "start_time": "2023-01-29T08:44:18.442Z"
   },
   {
    "duration": 180,
    "start_time": "2023-01-29T08:44:18.603Z"
   },
   {
    "duration": 183,
    "start_time": "2023-01-29T08:44:18.785Z"
   },
   {
    "duration": 170,
    "start_time": "2023-01-29T08:44:18.970Z"
   },
   {
    "duration": 16,
    "start_time": "2023-01-29T08:44:19.142Z"
   },
   {
    "duration": 36,
    "start_time": "2023-01-29T08:44:19.159Z"
   },
   {
    "duration": 10,
    "start_time": "2023-01-29T08:44:19.196Z"
   },
   {
    "duration": 10,
    "start_time": "2023-01-29T08:44:19.208Z"
   },
   {
    "duration": 28,
    "start_time": "2023-01-29T08:44:19.220Z"
   },
   {
    "duration": 213,
    "start_time": "2023-01-29T08:44:19.250Z"
   },
   {
    "duration": 733,
    "start_time": "2023-01-29T08:45:10.674Z"
   },
   {
    "duration": 144,
    "start_time": "2023-01-29T08:45:11.409Z"
   },
   {
    "duration": 57,
    "start_time": "2023-01-29T08:45:11.556Z"
   },
   {
    "duration": 18,
    "start_time": "2023-01-29T08:45:11.615Z"
   },
   {
    "duration": 2305,
    "start_time": "2023-01-29T08:45:11.635Z"
   },
   {
    "duration": 12,
    "start_time": "2023-01-29T08:45:13.942Z"
   },
   {
    "duration": 61,
    "start_time": "2023-01-29T08:45:13.956Z"
   },
   {
    "duration": 16,
    "start_time": "2023-01-29T08:45:14.019Z"
   },
   {
    "duration": 25,
    "start_time": "2023-01-29T08:45:14.037Z"
   },
   {
    "duration": 48,
    "start_time": "2023-01-29T08:45:14.065Z"
   },
   {
    "duration": 102,
    "start_time": "2023-01-29T08:45:14.116Z"
   },
   {
    "duration": 7,
    "start_time": "2023-01-29T08:45:14.220Z"
   },
   {
    "duration": 22,
    "start_time": "2023-01-29T08:45:14.229Z"
   },
   {
    "duration": 6,
    "start_time": "2023-01-29T08:45:14.253Z"
   },
   {
    "duration": 43,
    "start_time": "2023-01-29T08:45:14.261Z"
   },
   {
    "duration": 201,
    "start_time": "2023-01-29T08:45:14.306Z"
   },
   {
    "duration": 8,
    "start_time": "2023-01-29T08:45:14.508Z"
   },
   {
    "duration": 175,
    "start_time": "2023-01-29T08:45:14.518Z"
   },
   {
    "duration": 153,
    "start_time": "2023-01-29T08:45:14.695Z"
   },
   {
    "duration": 9,
    "start_time": "2023-01-29T08:45:14.851Z"
   },
   {
    "duration": 152,
    "start_time": "2023-01-29T08:45:14.862Z"
   },
   {
    "duration": 193,
    "start_time": "2023-01-29T08:45:15.016Z"
   },
   {
    "duration": 9,
    "start_time": "2023-01-29T08:45:15.211Z"
   },
   {
    "duration": 240,
    "start_time": "2023-01-29T08:45:15.222Z"
   },
   {
    "duration": 226,
    "start_time": "2023-01-29T08:45:15.464Z"
   },
   {
    "duration": 5,
    "start_time": "2023-01-29T08:45:15.693Z"
   },
   {
    "duration": 26,
    "start_time": "2023-01-29T08:45:15.700Z"
   },
   {
    "duration": 12,
    "start_time": "2023-01-29T08:45:15.731Z"
   },
   {
    "duration": 166,
    "start_time": "2023-01-29T08:45:15.744Z"
   },
   {
    "duration": 7,
    "start_time": "2023-01-29T08:45:15.912Z"
   },
   {
    "duration": 140,
    "start_time": "2023-01-29T08:45:15.921Z"
   },
   {
    "duration": 15,
    "start_time": "2023-01-29T08:45:16.063Z"
   },
   {
    "duration": 4,
    "start_time": "2023-01-29T08:45:16.091Z"
   },
   {
    "duration": 21,
    "start_time": "2023-01-29T08:45:16.097Z"
   },
   {
    "duration": 6,
    "start_time": "2023-01-29T08:45:16.120Z"
   },
   {
    "duration": 8,
    "start_time": "2023-01-29T08:45:16.128Z"
   },
   {
    "duration": 5,
    "start_time": "2023-01-29T08:45:16.138Z"
   },
   {
    "duration": 200,
    "start_time": "2023-01-29T08:45:16.144Z"
   },
   {
    "duration": 10,
    "start_time": "2023-01-29T08:45:16.347Z"
   },
   {
    "duration": 245,
    "start_time": "2023-01-29T08:45:16.360Z"
   },
   {
    "duration": 194,
    "start_time": "2023-01-29T08:45:16.607Z"
   },
   {
    "duration": 210,
    "start_time": "2023-01-29T08:45:16.803Z"
   },
   {
    "duration": 204,
    "start_time": "2023-01-29T08:45:17.015Z"
   },
   {
    "duration": 182,
    "start_time": "2023-01-29T08:45:17.220Z"
   },
   {
    "duration": 306,
    "start_time": "2023-01-29T08:45:17.404Z"
   },
   {
    "duration": 149,
    "start_time": "2023-01-29T08:45:17.713Z"
   },
   {
    "duration": 179,
    "start_time": "2023-01-29T08:45:17.864Z"
   },
   {
    "duration": 165,
    "start_time": "2023-01-29T08:45:18.045Z"
   },
   {
    "duration": 179,
    "start_time": "2023-01-29T08:45:18.212Z"
   },
   {
    "duration": 176,
    "start_time": "2023-01-29T08:45:18.393Z"
   },
   {
    "duration": 177,
    "start_time": "2023-01-29T08:45:18.571Z"
   },
   {
    "duration": 217,
    "start_time": "2023-01-29T08:45:18.750Z"
   },
   {
    "duration": 209,
    "start_time": "2023-01-29T08:45:18.969Z"
   },
   {
    "duration": 352,
    "start_time": "2023-01-29T08:45:19.180Z"
   },
   {
    "duration": 192,
    "start_time": "2023-01-29T08:45:19.534Z"
   },
   {
    "duration": 191,
    "start_time": "2023-01-29T08:45:19.728Z"
   },
   {
    "duration": 184,
    "start_time": "2023-01-29T08:45:19.920Z"
   },
   {
    "duration": 177,
    "start_time": "2023-01-29T08:45:20.106Z"
   },
   {
    "duration": 146,
    "start_time": "2023-01-29T08:45:20.285Z"
   },
   {
    "duration": 193,
    "start_time": "2023-01-29T08:45:20.433Z"
   },
   {
    "duration": 188,
    "start_time": "2023-01-29T08:45:20.628Z"
   },
   {
    "duration": 163,
    "start_time": "2023-01-29T08:45:20.819Z"
   },
   {
    "duration": 19,
    "start_time": "2023-01-29T08:45:20.984Z"
   },
   {
    "duration": 14,
    "start_time": "2023-01-29T08:45:21.005Z"
   },
   {
    "duration": 12,
    "start_time": "2023-01-29T08:45:21.020Z"
   },
   {
    "duration": 30,
    "start_time": "2023-01-29T08:45:21.034Z"
   },
   {
    "duration": 39,
    "start_time": "2023-01-29T08:45:21.066Z"
   },
   {
    "duration": 205,
    "start_time": "2023-01-29T08:45:21.107Z"
   },
   {
    "duration": 672,
    "start_time": "2023-01-29T08:55:40.372Z"
   },
   {
    "duration": 100,
    "start_time": "2023-01-29T08:55:41.046Z"
   },
   {
    "duration": 44,
    "start_time": "2023-01-29T08:55:41.148Z"
   },
   {
    "duration": 16,
    "start_time": "2023-01-29T08:55:41.194Z"
   },
   {
    "duration": 1917,
    "start_time": "2023-01-29T08:55:41.211Z"
   },
   {
    "duration": 11,
    "start_time": "2023-01-29T08:55:43.130Z"
   },
   {
    "duration": 51,
    "start_time": "2023-01-29T08:55:43.143Z"
   },
   {
    "duration": 16,
    "start_time": "2023-01-29T08:55:43.195Z"
   },
   {
    "duration": 23,
    "start_time": "2023-01-29T08:55:43.213Z"
   },
   {
    "duration": 55,
    "start_time": "2023-01-29T08:55:43.239Z"
   },
   {
    "duration": 107,
    "start_time": "2023-01-29T08:55:43.295Z"
   },
   {
    "duration": 8,
    "start_time": "2023-01-29T08:55:43.404Z"
   },
   {
    "duration": 16,
    "start_time": "2023-01-29T08:55:43.414Z"
   },
   {
    "duration": 4,
    "start_time": "2023-01-29T08:55:43.432Z"
   },
   {
    "duration": 20,
    "start_time": "2023-01-29T08:55:43.438Z"
   },
   {
    "duration": 1187,
    "start_time": "2023-01-29T08:55:43.460Z"
   },
   {
    "duration": 160,
    "start_time": "2023-01-29T08:55:44.648Z"
   },
   {
    "duration": 8,
    "start_time": "2023-01-29T08:55:44.810Z"
   },
   {
    "duration": 138,
    "start_time": "2023-01-29T08:55:44.819Z"
   },
   {
    "duration": 144,
    "start_time": "2023-01-29T08:55:44.959Z"
   },
   {
    "duration": 8,
    "start_time": "2023-01-29T08:55:45.105Z"
   },
   {
    "duration": 114,
    "start_time": "2023-01-29T08:55:45.114Z"
   },
   {
    "duration": 170,
    "start_time": "2023-01-29T08:55:45.229Z"
   },
   {
    "duration": 8,
    "start_time": "2023-01-29T08:55:45.401Z"
   },
   {
    "duration": 222,
    "start_time": "2023-01-29T08:55:45.411Z"
   },
   {
    "duration": 183,
    "start_time": "2023-01-29T08:55:45.634Z"
   },
   {
    "duration": 5,
    "start_time": "2023-01-29T08:55:45.819Z"
   },
   {
    "duration": 23,
    "start_time": "2023-01-29T08:55:45.830Z"
   },
   {
    "duration": 9,
    "start_time": "2023-01-29T08:55:45.855Z"
   },
   {
    "duration": 169,
    "start_time": "2023-01-29T08:55:45.866Z"
   },
   {
    "duration": 9,
    "start_time": "2023-01-29T08:55:46.036Z"
   },
   {
    "duration": 148,
    "start_time": "2023-01-29T08:55:46.046Z"
   },
   {
    "duration": 14,
    "start_time": "2023-01-29T08:55:46.196Z"
   },
   {
    "duration": 4,
    "start_time": "2023-01-29T08:55:46.212Z"
   },
   {
    "duration": 30,
    "start_time": "2023-01-29T08:55:46.219Z"
   },
   {
    "duration": 7,
    "start_time": "2023-01-29T08:55:46.251Z"
   },
   {
    "duration": 34,
    "start_time": "2023-01-29T08:55:46.260Z"
   },
   {
    "duration": 8,
    "start_time": "2023-01-29T08:55:46.296Z"
   },
   {
    "duration": 190,
    "start_time": "2023-01-29T08:55:46.306Z"
   },
   {
    "duration": 6,
    "start_time": "2023-01-29T08:55:46.498Z"
   },
   {
    "duration": 170,
    "start_time": "2023-01-29T08:55:46.505Z"
   },
   {
    "duration": 183,
    "start_time": "2023-01-29T08:55:46.677Z"
   },
   {
    "duration": 177,
    "start_time": "2023-01-29T08:55:46.862Z"
   },
   {
    "duration": 173,
    "start_time": "2023-01-29T08:55:47.040Z"
   },
   {
    "duration": 169,
    "start_time": "2023-01-29T08:55:47.215Z"
   },
   {
    "duration": 300,
    "start_time": "2023-01-29T08:55:47.391Z"
   },
   {
    "duration": 143,
    "start_time": "2023-01-29T08:55:47.693Z"
   },
   {
    "duration": 153,
    "start_time": "2023-01-29T08:55:47.838Z"
   },
   {
    "duration": 144,
    "start_time": "2023-01-29T08:55:47.993Z"
   },
   {
    "duration": 148,
    "start_time": "2023-01-29T08:55:48.138Z"
   },
   {
    "duration": 140,
    "start_time": "2023-01-29T08:55:48.291Z"
   },
   {
    "duration": 147,
    "start_time": "2023-01-29T08:55:48.433Z"
   },
   {
    "duration": 196,
    "start_time": "2023-01-29T08:55:48.582Z"
   },
   {
    "duration": 175,
    "start_time": "2023-01-29T08:55:48.779Z"
   },
   {
    "duration": 344,
    "start_time": "2023-01-29T08:55:48.956Z"
   },
   {
    "duration": 180,
    "start_time": "2023-01-29T08:55:49.302Z"
   },
   {
    "duration": 174,
    "start_time": "2023-01-29T08:55:49.484Z"
   },
   {
    "duration": 164,
    "start_time": "2023-01-29T08:55:49.660Z"
   },
   {
    "duration": 148,
    "start_time": "2023-01-29T08:55:49.827Z"
   },
   {
    "duration": 140,
    "start_time": "2023-01-29T08:55:49.977Z"
   },
   {
    "duration": 152,
    "start_time": "2023-01-29T08:55:50.119Z"
   },
   {
    "duration": 177,
    "start_time": "2023-01-29T08:55:50.273Z"
   },
   {
    "duration": 145,
    "start_time": "2023-01-29T08:55:50.452Z"
   },
   {
    "duration": 20,
    "start_time": "2023-01-29T08:55:50.599Z"
   },
   {
    "duration": 26,
    "start_time": "2023-01-29T08:55:50.621Z"
   },
   {
    "duration": 13,
    "start_time": "2023-01-29T08:55:50.649Z"
   },
   {
    "duration": 34,
    "start_time": "2023-01-29T08:55:50.664Z"
   },
   {
    "duration": 43,
    "start_time": "2023-01-29T08:55:50.701Z"
   },
   {
    "duration": 207,
    "start_time": "2023-01-29T08:55:50.746Z"
   },
   {
    "duration": 649,
    "start_time": "2023-01-29T08:56:35.745Z"
   },
   {
    "duration": 124,
    "start_time": "2023-01-29T08:56:36.396Z"
   },
   {
    "duration": 40,
    "start_time": "2023-01-29T08:56:36.522Z"
   },
   {
    "duration": 27,
    "start_time": "2023-01-29T08:56:36.564Z"
   },
   {
    "duration": 1958,
    "start_time": "2023-01-29T08:56:36.594Z"
   },
   {
    "duration": 10,
    "start_time": "2023-01-29T08:56:38.554Z"
   },
   {
    "duration": 62,
    "start_time": "2023-01-29T08:56:38.566Z"
   },
   {
    "duration": 17,
    "start_time": "2023-01-29T08:56:38.629Z"
   },
   {
    "duration": 26,
    "start_time": "2023-01-29T08:56:38.647Z"
   },
   {
    "duration": 26,
    "start_time": "2023-01-29T08:56:38.693Z"
   },
   {
    "duration": 94,
    "start_time": "2023-01-29T08:56:38.721Z"
   },
   {
    "duration": 7,
    "start_time": "2023-01-29T08:56:38.817Z"
   },
   {
    "duration": 11,
    "start_time": "2023-01-29T08:56:38.826Z"
   },
   {
    "duration": 3,
    "start_time": "2023-01-29T08:56:38.839Z"
   },
   {
    "duration": 16,
    "start_time": "2023-01-29T08:56:38.844Z"
   },
   {
    "duration": 1215,
    "start_time": "2023-01-29T08:56:38.861Z"
   },
   {
    "duration": 13,
    "start_time": "2023-01-29T08:56:40.078Z"
   },
   {
    "duration": 156,
    "start_time": "2023-01-29T08:56:40.093Z"
   },
   {
    "duration": 9,
    "start_time": "2023-01-29T08:56:40.250Z"
   },
   {
    "duration": 148,
    "start_time": "2023-01-29T08:56:40.261Z"
   },
   {
    "duration": 146,
    "start_time": "2023-01-29T08:56:40.411Z"
   },
   {
    "duration": 9,
    "start_time": "2023-01-29T08:56:40.559Z"
   },
   {
    "duration": 113,
    "start_time": "2023-01-29T08:56:40.570Z"
   },
   {
    "duration": 161,
    "start_time": "2023-01-29T08:56:40.692Z"
   },
   {
    "duration": 8,
    "start_time": "2023-01-29T08:56:40.855Z"
   },
   {
    "duration": 226,
    "start_time": "2023-01-29T08:56:40.865Z"
   },
   {
    "duration": 178,
    "start_time": "2023-01-29T08:56:41.093Z"
   },
   {
    "duration": 4,
    "start_time": "2023-01-29T08:56:41.275Z"
   },
   {
    "duration": 19,
    "start_time": "2023-01-29T08:56:41.281Z"
   },
   {
    "duration": 10,
    "start_time": "2023-01-29T08:56:41.301Z"
   },
   {
    "duration": 151,
    "start_time": "2023-01-29T08:56:41.312Z"
   },
   {
    "duration": 8,
    "start_time": "2023-01-29T08:56:41.464Z"
   },
   {
    "duration": 146,
    "start_time": "2023-01-29T08:56:41.475Z"
   },
   {
    "duration": 14,
    "start_time": "2023-01-29T08:56:41.622Z"
   },
   {
    "duration": 28,
    "start_time": "2023-01-29T08:56:41.638Z"
   },
   {
    "duration": 19,
    "start_time": "2023-01-29T08:56:41.668Z"
   },
   {
    "duration": 5,
    "start_time": "2023-01-29T08:56:41.689Z"
   },
   {
    "duration": 6,
    "start_time": "2023-01-29T08:56:41.696Z"
   },
   {
    "duration": 5,
    "start_time": "2023-01-29T08:56:41.704Z"
   },
   {
    "duration": 160,
    "start_time": "2023-01-29T08:56:41.711Z"
   },
   {
    "duration": 6,
    "start_time": "2023-01-29T08:56:41.873Z"
   },
   {
    "duration": 175,
    "start_time": "2023-01-29T08:56:41.880Z"
   },
   {
    "duration": 210,
    "start_time": "2023-01-29T08:56:42.057Z"
   },
   {
    "duration": 208,
    "start_time": "2023-01-29T08:56:42.268Z"
   },
   {
    "duration": 179,
    "start_time": "2023-01-29T08:56:42.477Z"
   },
   {
    "duration": 185,
    "start_time": "2023-01-29T08:56:42.658Z"
   },
   {
    "duration": 277,
    "start_time": "2023-01-29T08:56:42.845Z"
   },
   {
    "duration": 129,
    "start_time": "2023-01-29T08:56:43.124Z"
   },
   {
    "duration": 154,
    "start_time": "2023-01-29T08:56:43.255Z"
   },
   {
    "duration": 183,
    "start_time": "2023-01-29T08:56:43.410Z"
   },
   {
    "duration": 156,
    "start_time": "2023-01-29T08:56:43.594Z"
   },
   {
    "duration": 199,
    "start_time": "2023-01-29T08:56:43.752Z"
   },
   {
    "duration": 192,
    "start_time": "2023-01-29T08:56:43.956Z"
   },
   {
    "duration": 207,
    "start_time": "2023-01-29T08:56:44.150Z"
   },
   {
    "duration": 178,
    "start_time": "2023-01-29T08:56:44.360Z"
   },
   {
    "duration": 327,
    "start_time": "2023-01-29T08:56:44.539Z"
   },
   {
    "duration": 173,
    "start_time": "2023-01-29T08:56:44.868Z"
   },
   {
    "duration": 186,
    "start_time": "2023-01-29T08:56:45.043Z"
   },
   {
    "duration": 173,
    "start_time": "2023-01-29T08:56:45.231Z"
   },
   {
    "duration": 145,
    "start_time": "2023-01-29T08:56:45.406Z"
   },
   {
    "duration": 131,
    "start_time": "2023-01-29T08:56:45.552Z"
   },
   {
    "duration": 173,
    "start_time": "2023-01-29T08:56:45.685Z"
   },
   {
    "duration": 173,
    "start_time": "2023-01-29T08:56:45.860Z"
   },
   {
    "duration": 137,
    "start_time": "2023-01-29T08:56:46.035Z"
   },
   {
    "duration": 23,
    "start_time": "2023-01-29T08:56:46.174Z"
   },
   {
    "duration": 17,
    "start_time": "2023-01-29T08:56:46.199Z"
   },
   {
    "duration": 12,
    "start_time": "2023-01-29T08:56:46.218Z"
   },
   {
    "duration": 20,
    "start_time": "2023-01-29T08:56:46.232Z"
   },
   {
    "duration": 50,
    "start_time": "2023-01-29T08:56:46.254Z"
   },
   {
    "duration": 227,
    "start_time": "2023-01-29T08:56:46.306Z"
   },
   {
    "duration": 4,
    "start_time": "2023-01-29T08:58:40.093Z"
   },
   {
    "duration": 619,
    "start_time": "2023-01-29T08:59:08.020Z"
   },
   {
    "duration": 6,
    "start_time": "2023-01-29T08:59:16.257Z"
   },
   {
    "duration": 645,
    "start_time": "2023-01-29T08:59:25.357Z"
   },
   {
    "duration": 93,
    "start_time": "2023-01-29T08:59:26.004Z"
   },
   {
    "duration": 44,
    "start_time": "2023-01-29T08:59:26.099Z"
   },
   {
    "duration": 16,
    "start_time": "2023-01-29T08:59:26.145Z"
   },
   {
    "duration": 1990,
    "start_time": "2023-01-29T08:59:26.162Z"
   },
   {
    "duration": 9,
    "start_time": "2023-01-29T08:59:28.154Z"
   },
   {
    "duration": 61,
    "start_time": "2023-01-29T08:59:28.165Z"
   },
   {
    "duration": 16,
    "start_time": "2023-01-29T08:59:28.228Z"
   },
   {
    "duration": 22,
    "start_time": "2023-01-29T08:59:28.245Z"
   },
   {
    "duration": 44,
    "start_time": "2023-01-29T08:59:28.269Z"
   },
   {
    "duration": 93,
    "start_time": "2023-01-29T08:59:28.315Z"
   },
   {
    "duration": 7,
    "start_time": "2023-01-29T08:59:28.410Z"
   },
   {
    "duration": 11,
    "start_time": "2023-01-29T08:59:28.418Z"
   },
   {
    "duration": 5,
    "start_time": "2023-01-29T08:59:28.431Z"
   },
   {
    "duration": 32,
    "start_time": "2023-01-29T08:59:28.438Z"
   },
   {
    "duration": 1183,
    "start_time": "2023-01-29T08:59:28.492Z"
   },
   {
    "duration": 15,
    "start_time": "2023-01-29T08:59:29.677Z"
   },
   {
    "duration": 143,
    "start_time": "2023-01-29T08:59:29.694Z"
   },
   {
    "duration": 8,
    "start_time": "2023-01-29T08:59:29.839Z"
   },
   {
    "duration": 175,
    "start_time": "2023-01-29T08:59:29.849Z"
   },
   {
    "duration": 147,
    "start_time": "2023-01-29T08:59:30.026Z"
   },
   {
    "duration": 16,
    "start_time": "2023-01-29T08:59:30.175Z"
   },
   {
    "duration": 135,
    "start_time": "2023-01-29T08:59:30.193Z"
   },
   {
    "duration": 171,
    "start_time": "2023-01-29T08:59:30.330Z"
   },
   {
    "duration": 7,
    "start_time": "2023-01-29T08:59:30.503Z"
   },
   {
    "duration": 241,
    "start_time": "2023-01-29T08:59:30.512Z"
   },
   {
    "duration": 204,
    "start_time": "2023-01-29T08:59:30.755Z"
   },
   {
    "duration": 6,
    "start_time": "2023-01-29T08:59:30.963Z"
   },
   {
    "duration": 51,
    "start_time": "2023-01-29T08:59:30.970Z"
   },
   {
    "duration": 23,
    "start_time": "2023-01-29T08:59:31.023Z"
   },
   {
    "duration": 151,
    "start_time": "2023-01-29T08:59:31.048Z"
   },
   {
    "duration": 6,
    "start_time": "2023-01-29T08:59:31.201Z"
   },
   {
    "duration": 161,
    "start_time": "2023-01-29T08:59:31.209Z"
   },
   {
    "duration": 19,
    "start_time": "2023-01-29T08:59:31.372Z"
   },
   {
    "duration": 3,
    "start_time": "2023-01-29T08:59:31.393Z"
   },
   {
    "duration": 42,
    "start_time": "2023-01-29T08:59:31.398Z"
   },
   {
    "duration": 10,
    "start_time": "2023-01-29T08:59:31.442Z"
   },
   {
    "duration": 12,
    "start_time": "2023-01-29T08:59:31.453Z"
   },
   {
    "duration": 13,
    "start_time": "2023-01-29T08:59:31.466Z"
   },
   {
    "duration": 194,
    "start_time": "2023-01-29T08:59:31.481Z"
   },
   {
    "duration": 16,
    "start_time": "2023-01-29T08:59:31.676Z"
   },
   {
    "duration": 184,
    "start_time": "2023-01-29T08:59:31.693Z"
   },
   {
    "duration": 200,
    "start_time": "2023-01-29T08:59:31.879Z"
   },
   {
    "duration": 168,
    "start_time": "2023-01-29T08:59:32.081Z"
   },
   {
    "duration": 189,
    "start_time": "2023-01-29T08:59:32.250Z"
   },
   {
    "duration": 261,
    "start_time": "2023-01-29T08:59:32.441Z"
   },
   {
    "duration": 200,
    "start_time": "2023-01-29T08:59:32.703Z"
   },
   {
    "duration": 139,
    "start_time": "2023-01-29T08:59:32.904Z"
   },
   {
    "duration": 135,
    "start_time": "2023-01-29T08:59:33.045Z"
   },
   {
    "duration": 140,
    "start_time": "2023-01-29T08:59:33.190Z"
   },
   {
    "duration": 135,
    "start_time": "2023-01-29T08:59:33.331Z"
   },
   {
    "duration": 136,
    "start_time": "2023-01-29T08:59:33.468Z"
   },
   {
    "duration": 131,
    "start_time": "2023-01-29T08:59:33.605Z"
   },
   {
    "duration": 193,
    "start_time": "2023-01-29T08:59:33.738Z"
   },
   {
    "duration": 174,
    "start_time": "2023-01-29T08:59:33.933Z"
   },
   {
    "duration": 326,
    "start_time": "2023-01-29T08:59:34.109Z"
   },
   {
    "duration": 179,
    "start_time": "2023-01-29T08:59:34.437Z"
   },
   {
    "duration": 197,
    "start_time": "2023-01-29T08:59:34.617Z"
   },
   {
    "duration": 175,
    "start_time": "2023-01-29T08:59:34.816Z"
   },
   {
    "duration": 151,
    "start_time": "2023-01-29T08:59:34.993Z"
   },
   {
    "duration": 130,
    "start_time": "2023-01-29T08:59:35.145Z"
   },
   {
    "duration": 159,
    "start_time": "2023-01-29T08:59:35.277Z"
   },
   {
    "duration": 168,
    "start_time": "2023-01-29T08:59:35.437Z"
   },
   {
    "duration": 131,
    "start_time": "2023-01-29T08:59:35.607Z"
   },
   {
    "duration": 12,
    "start_time": "2023-01-29T08:59:35.740Z"
   },
   {
    "duration": 14,
    "start_time": "2023-01-29T08:59:35.754Z"
   },
   {
    "duration": 21,
    "start_time": "2023-01-29T08:59:35.770Z"
   },
   {
    "duration": 8,
    "start_time": "2023-01-29T08:59:35.792Z"
   },
   {
    "duration": 26,
    "start_time": "2023-01-29T08:59:35.802Z"
   },
   {
    "duration": 195,
    "start_time": "2023-01-29T08:59:35.830Z"
   },
   {
    "duration": 78,
    "start_time": "2023-01-29T09:08:09.473Z"
   },
   {
    "duration": 8,
    "start_time": "2023-01-29T09:08:14.582Z"
   },
   {
    "duration": 6,
    "start_time": "2023-01-29T09:09:40.522Z"
   },
   {
    "duration": 723,
    "start_time": "2023-01-29T09:09:46.426Z"
   },
   {
    "duration": 98,
    "start_time": "2023-01-29T09:09:47.151Z"
   },
   {
    "duration": 46,
    "start_time": "2023-01-29T09:09:47.251Z"
   },
   {
    "duration": 19,
    "start_time": "2023-01-29T09:09:47.299Z"
   },
   {
    "duration": 2132,
    "start_time": "2023-01-29T09:09:47.320Z"
   },
   {
    "duration": 9,
    "start_time": "2023-01-29T09:09:49.454Z"
   },
   {
    "duration": 56,
    "start_time": "2023-01-29T09:09:49.465Z"
   },
   {
    "duration": 17,
    "start_time": "2023-01-29T09:09:49.523Z"
   },
   {
    "duration": 24,
    "start_time": "2023-01-29T09:09:49.542Z"
   },
   {
    "duration": 48,
    "start_time": "2023-01-29T09:09:49.569Z"
   },
   {
    "duration": 102,
    "start_time": "2023-01-29T09:09:49.619Z"
   },
   {
    "duration": 7,
    "start_time": "2023-01-29T09:09:49.723Z"
   },
   {
    "duration": 12,
    "start_time": "2023-01-29T09:09:49.732Z"
   },
   {
    "duration": 4,
    "start_time": "2023-01-29T09:09:49.747Z"
   },
   {
    "duration": 42,
    "start_time": "2023-01-29T09:09:49.752Z"
   },
   {
    "duration": 8,
    "start_time": "2023-01-29T09:09:49.795Z"
   },
   {
    "duration": 7,
    "start_time": "2023-01-29T09:09:49.805Z"
   },
   {
    "duration": 198,
    "start_time": "2023-01-29T09:09:49.814Z"
   },
   {
    "duration": 9,
    "start_time": "2023-01-29T09:09:50.015Z"
   },
   {
    "duration": 155,
    "start_time": "2023-01-29T09:09:50.026Z"
   },
   {
    "duration": 171,
    "start_time": "2023-01-29T09:09:50.182Z"
   },
   {
    "duration": 10,
    "start_time": "2023-01-29T09:09:50.355Z"
   },
   {
    "duration": 150,
    "start_time": "2023-01-29T09:09:50.367Z"
   },
   {
    "duration": 162,
    "start_time": "2023-01-29T09:09:50.519Z"
   },
   {
    "duration": 15,
    "start_time": "2023-01-29T09:09:50.682Z"
   },
   {
    "duration": 239,
    "start_time": "2023-01-29T09:09:50.699Z"
   },
   {
    "duration": 193,
    "start_time": "2023-01-29T09:09:50.939Z"
   },
   {
    "duration": 5,
    "start_time": "2023-01-29T09:09:51.134Z"
   },
   {
    "duration": 21,
    "start_time": "2023-01-29T09:09:51.141Z"
   },
   {
    "duration": 10,
    "start_time": "2023-01-29T09:09:51.169Z"
   },
   {
    "duration": 151,
    "start_time": "2023-01-29T09:09:51.180Z"
   },
   {
    "duration": 7,
    "start_time": "2023-01-29T09:09:51.333Z"
   },
   {
    "duration": 177,
    "start_time": "2023-01-29T09:09:51.341Z"
   },
   {
    "duration": 16,
    "start_time": "2023-01-29T09:09:51.519Z"
   },
   {
    "duration": 4,
    "start_time": "2023-01-29T09:09:51.537Z"
   },
   {
    "duration": 30,
    "start_time": "2023-01-29T09:09:51.542Z"
   },
   {
    "duration": 24,
    "start_time": "2023-01-29T09:09:51.574Z"
   },
   {
    "duration": 9,
    "start_time": "2023-01-29T09:09:51.599Z"
   },
   {
    "duration": 22,
    "start_time": "2023-01-29T09:09:51.610Z"
   },
   {
    "duration": 249,
    "start_time": "2023-01-29T09:09:51.634Z"
   },
   {
    "duration": 8,
    "start_time": "2023-01-29T09:09:51.892Z"
   },
   {
    "duration": 226,
    "start_time": "2023-01-29T09:09:51.902Z"
   },
   {
    "duration": 200,
    "start_time": "2023-01-29T09:09:52.130Z"
   },
   {
    "duration": 203,
    "start_time": "2023-01-29T09:09:52.332Z"
   },
   {
    "duration": 230,
    "start_time": "2023-01-29T09:09:52.537Z"
   },
   {
    "duration": 307,
    "start_time": "2023-01-29T09:09:52.770Z"
   },
   {
    "duration": 226,
    "start_time": "2023-01-29T09:09:53.078Z"
   },
   {
    "duration": 190,
    "start_time": "2023-01-29T09:09:53.306Z"
   },
   {
    "duration": 185,
    "start_time": "2023-01-29T09:09:53.498Z"
   },
   {
    "duration": 172,
    "start_time": "2023-01-29T09:09:53.685Z"
   },
   {
    "duration": 205,
    "start_time": "2023-01-29T09:09:53.860Z"
   },
   {
    "duration": 168,
    "start_time": "2023-01-29T09:09:54.067Z"
   },
   {
    "duration": 187,
    "start_time": "2023-01-29T09:09:54.237Z"
   },
   {
    "duration": 194,
    "start_time": "2023-01-29T09:09:54.427Z"
   },
   {
    "duration": 247,
    "start_time": "2023-01-29T09:09:54.623Z"
   },
   {
    "duration": 405,
    "start_time": "2023-01-29T09:09:54.872Z"
   },
   {
    "duration": 212,
    "start_time": "2023-01-29T09:09:55.279Z"
   },
   {
    "duration": 219,
    "start_time": "2023-01-29T09:09:55.493Z"
   },
   {
    "duration": 214,
    "start_time": "2023-01-29T09:09:55.714Z"
   },
   {
    "duration": 177,
    "start_time": "2023-01-29T09:09:55.930Z"
   },
   {
    "duration": 204,
    "start_time": "2023-01-29T09:09:56.109Z"
   },
   {
    "duration": 223,
    "start_time": "2023-01-29T09:09:56.315Z"
   },
   {
    "duration": 198,
    "start_time": "2023-01-29T09:09:56.540Z"
   },
   {
    "duration": 170,
    "start_time": "2023-01-29T09:09:56.740Z"
   },
   {
    "duration": 17,
    "start_time": "2023-01-29T09:09:56.913Z"
   },
   {
    "duration": 13,
    "start_time": "2023-01-29T09:09:56.932Z"
   },
   {
    "duration": 9,
    "start_time": "2023-01-29T09:09:56.947Z"
   },
   {
    "duration": 37,
    "start_time": "2023-01-29T09:09:56.958Z"
   },
   {
    "duration": 27,
    "start_time": "2023-01-29T09:09:56.997Z"
   },
   {
    "duration": 243,
    "start_time": "2023-01-29T09:09:57.026Z"
   },
   {
    "duration": 658,
    "start_time": "2023-01-29T09:13:28.628Z"
   },
   {
    "duration": 104,
    "start_time": "2023-01-29T09:13:29.288Z"
   },
   {
    "duration": 43,
    "start_time": "2023-01-29T09:13:29.393Z"
   },
   {
    "duration": 15,
    "start_time": "2023-01-29T09:13:29.438Z"
   },
   {
    "duration": 2117,
    "start_time": "2023-01-29T09:13:29.455Z"
   },
   {
    "duration": 9,
    "start_time": "2023-01-29T09:13:31.574Z"
   },
   {
    "duration": 71,
    "start_time": "2023-01-29T09:13:31.585Z"
   },
   {
    "duration": 17,
    "start_time": "2023-01-29T09:13:31.658Z"
   },
   {
    "duration": 39,
    "start_time": "2023-01-29T09:13:31.677Z"
   },
   {
    "duration": 28,
    "start_time": "2023-01-29T09:13:31.718Z"
   },
   {
    "duration": 119,
    "start_time": "2023-01-29T09:13:31.748Z"
   },
   {
    "duration": 7,
    "start_time": "2023-01-29T09:13:31.869Z"
   },
   {
    "duration": 25,
    "start_time": "2023-01-29T09:13:31.878Z"
   },
   {
    "duration": 3,
    "start_time": "2023-01-29T09:13:31.906Z"
   },
   {
    "duration": 22,
    "start_time": "2023-01-29T09:13:31.911Z"
   },
   {
    "duration": 4,
    "start_time": "2023-01-29T09:13:31.935Z"
   },
   {
    "duration": 0,
    "start_time": "2023-01-29T09:13:31.943Z"
   },
   {
    "duration": 0,
    "start_time": "2023-01-29T09:13:31.945Z"
   },
   {
    "duration": 0,
    "start_time": "2023-01-29T09:13:31.946Z"
   },
   {
    "duration": 0,
    "start_time": "2023-01-29T09:13:31.947Z"
   },
   {
    "duration": 0,
    "start_time": "2023-01-29T09:13:31.949Z"
   },
   {
    "duration": 0,
    "start_time": "2023-01-29T09:13:31.950Z"
   },
   {
    "duration": 0,
    "start_time": "2023-01-29T09:13:31.951Z"
   },
   {
    "duration": 0,
    "start_time": "2023-01-29T09:13:31.952Z"
   },
   {
    "duration": 0,
    "start_time": "2023-01-29T09:13:31.953Z"
   },
   {
    "duration": 0,
    "start_time": "2023-01-29T09:13:31.954Z"
   },
   {
    "duration": 0,
    "start_time": "2023-01-29T09:13:31.955Z"
   },
   {
    "duration": 0,
    "start_time": "2023-01-29T09:13:31.956Z"
   },
   {
    "duration": 0,
    "start_time": "2023-01-29T09:13:31.958Z"
   },
   {
    "duration": 0,
    "start_time": "2023-01-29T09:13:31.991Z"
   },
   {
    "duration": 0,
    "start_time": "2023-01-29T09:13:31.992Z"
   },
   {
    "duration": 0,
    "start_time": "2023-01-29T09:13:31.994Z"
   },
   {
    "duration": 0,
    "start_time": "2023-01-29T09:13:31.995Z"
   },
   {
    "duration": 0,
    "start_time": "2023-01-29T09:13:31.996Z"
   },
   {
    "duration": 0,
    "start_time": "2023-01-29T09:13:31.997Z"
   },
   {
    "duration": 0,
    "start_time": "2023-01-29T09:13:31.998Z"
   },
   {
    "duration": 0,
    "start_time": "2023-01-29T09:13:31.999Z"
   },
   {
    "duration": 0,
    "start_time": "2023-01-29T09:13:32.000Z"
   },
   {
    "duration": 0,
    "start_time": "2023-01-29T09:13:32.001Z"
   },
   {
    "duration": 0,
    "start_time": "2023-01-29T09:13:32.002Z"
   },
   {
    "duration": 0,
    "start_time": "2023-01-29T09:13:32.004Z"
   },
   {
    "duration": 0,
    "start_time": "2023-01-29T09:13:32.005Z"
   },
   {
    "duration": 0,
    "start_time": "2023-01-29T09:13:32.006Z"
   },
   {
    "duration": 0,
    "start_time": "2023-01-29T09:13:32.007Z"
   },
   {
    "duration": 0,
    "start_time": "2023-01-29T09:13:32.008Z"
   },
   {
    "duration": 0,
    "start_time": "2023-01-29T09:13:32.010Z"
   },
   {
    "duration": 0,
    "start_time": "2023-01-29T09:13:32.010Z"
   },
   {
    "duration": 0,
    "start_time": "2023-01-29T09:13:32.012Z"
   },
   {
    "duration": 0,
    "start_time": "2023-01-29T09:13:32.013Z"
   },
   {
    "duration": 0,
    "start_time": "2023-01-29T09:13:32.014Z"
   },
   {
    "duration": 0,
    "start_time": "2023-01-29T09:13:32.015Z"
   },
   {
    "duration": 0,
    "start_time": "2023-01-29T09:13:32.017Z"
   },
   {
    "duration": 0,
    "start_time": "2023-01-29T09:13:32.019Z"
   },
   {
    "duration": 0,
    "start_time": "2023-01-29T09:13:32.020Z"
   },
   {
    "duration": 0,
    "start_time": "2023-01-29T09:13:32.022Z"
   },
   {
    "duration": 0,
    "start_time": "2023-01-29T09:13:32.023Z"
   },
   {
    "duration": 0,
    "start_time": "2023-01-29T09:13:32.024Z"
   },
   {
    "duration": 0,
    "start_time": "2023-01-29T09:13:32.025Z"
   },
   {
    "duration": 0,
    "start_time": "2023-01-29T09:13:32.026Z"
   },
   {
    "duration": 0,
    "start_time": "2023-01-29T09:13:32.092Z"
   },
   {
    "duration": 0,
    "start_time": "2023-01-29T09:13:32.094Z"
   },
   {
    "duration": 0,
    "start_time": "2023-01-29T09:13:32.095Z"
   },
   {
    "duration": 0,
    "start_time": "2023-01-29T09:13:32.096Z"
   },
   {
    "duration": 0,
    "start_time": "2023-01-29T09:13:32.098Z"
   },
   {
    "duration": 0,
    "start_time": "2023-01-29T09:13:32.101Z"
   },
   {
    "duration": 0,
    "start_time": "2023-01-29T09:13:32.104Z"
   },
   {
    "duration": 0,
    "start_time": "2023-01-29T09:13:32.105Z"
   },
   {
    "duration": 0,
    "start_time": "2023-01-29T09:13:32.106Z"
   },
   {
    "duration": 0,
    "start_time": "2023-01-29T09:13:32.108Z"
   },
   {
    "duration": 0,
    "start_time": "2023-01-29T09:13:32.109Z"
   },
   {
    "duration": 1286,
    "start_time": "2023-01-29T09:13:52.516Z"
   },
   {
    "duration": 7,
    "start_time": "2023-01-29T09:13:57.724Z"
   },
   {
    "duration": 782,
    "start_time": "2023-01-29T12:43:14.342Z"
   },
   {
    "duration": 317,
    "start_time": "2023-01-29T12:43:15.126Z"
   },
   {
    "duration": 37,
    "start_time": "2023-01-29T12:43:15.445Z"
   },
   {
    "duration": 13,
    "start_time": "2023-01-29T12:43:15.483Z"
   },
   {
    "duration": 1799,
    "start_time": "2023-01-29T12:43:15.498Z"
   },
   {
    "duration": 8,
    "start_time": "2023-01-29T12:43:17.298Z"
   },
   {
    "duration": 54,
    "start_time": "2023-01-29T12:43:17.307Z"
   },
   {
    "duration": 15,
    "start_time": "2023-01-29T12:43:17.362Z"
   },
   {
    "duration": 20,
    "start_time": "2023-01-29T12:43:17.378Z"
   },
   {
    "duration": 22,
    "start_time": "2023-01-29T12:43:17.400Z"
   },
   {
    "duration": 86,
    "start_time": "2023-01-29T12:43:17.424Z"
   },
   {
    "duration": 6,
    "start_time": "2023-01-29T12:43:17.511Z"
   },
   {
    "duration": 31,
    "start_time": "2023-01-29T12:43:17.518Z"
   },
   {
    "duration": 3,
    "start_time": "2023-01-29T12:43:17.551Z"
   },
   {
    "duration": 16,
    "start_time": "2023-01-29T12:43:17.555Z"
   },
   {
    "duration": 4,
    "start_time": "2023-01-29T12:43:17.573Z"
   },
   {
    "duration": 0,
    "start_time": "2023-01-29T12:43:17.582Z"
   },
   {
    "duration": 1,
    "start_time": "2023-01-29T12:43:17.583Z"
   },
   {
    "duration": 0,
    "start_time": "2023-01-29T12:43:17.585Z"
   },
   {
    "duration": 0,
    "start_time": "2023-01-29T12:43:17.586Z"
   },
   {
    "duration": 0,
    "start_time": "2023-01-29T12:43:17.587Z"
   },
   {
    "duration": 0,
    "start_time": "2023-01-29T12:43:17.589Z"
   },
   {
    "duration": 0,
    "start_time": "2023-01-29T12:43:17.590Z"
   },
   {
    "duration": 0,
    "start_time": "2023-01-29T12:43:17.591Z"
   },
   {
    "duration": 0,
    "start_time": "2023-01-29T12:43:17.592Z"
   },
   {
    "duration": 0,
    "start_time": "2023-01-29T12:43:17.593Z"
   },
   {
    "duration": 0,
    "start_time": "2023-01-29T12:43:17.594Z"
   },
   {
    "duration": 0,
    "start_time": "2023-01-29T12:43:17.595Z"
   },
   {
    "duration": 0,
    "start_time": "2023-01-29T12:43:17.596Z"
   },
   {
    "duration": 1,
    "start_time": "2023-01-29T12:43:17.596Z"
   },
   {
    "duration": 0,
    "start_time": "2023-01-29T12:43:17.598Z"
   },
   {
    "duration": 0,
    "start_time": "2023-01-29T12:43:17.599Z"
   },
   {
    "duration": 0,
    "start_time": "2023-01-29T12:43:17.600Z"
   },
   {
    "duration": 0,
    "start_time": "2023-01-29T12:43:17.644Z"
   },
   {
    "duration": 0,
    "start_time": "2023-01-29T12:43:17.645Z"
   },
   {
    "duration": 0,
    "start_time": "2023-01-29T12:43:17.647Z"
   },
   {
    "duration": 0,
    "start_time": "2023-01-29T12:43:17.647Z"
   },
   {
    "duration": 0,
    "start_time": "2023-01-29T12:43:17.649Z"
   },
   {
    "duration": 0,
    "start_time": "2023-01-29T12:43:17.650Z"
   },
   {
    "duration": 0,
    "start_time": "2023-01-29T12:43:17.651Z"
   },
   {
    "duration": 0,
    "start_time": "2023-01-29T12:43:17.652Z"
   },
   {
    "duration": 0,
    "start_time": "2023-01-29T12:43:17.653Z"
   },
   {
    "duration": 0,
    "start_time": "2023-01-29T12:43:17.654Z"
   },
   {
    "duration": 0,
    "start_time": "2023-01-29T12:43:17.655Z"
   },
   {
    "duration": 0,
    "start_time": "2023-01-29T12:43:17.656Z"
   },
   {
    "duration": 0,
    "start_time": "2023-01-29T12:43:17.657Z"
   },
   {
    "duration": 0,
    "start_time": "2023-01-29T12:43:17.658Z"
   },
   {
    "duration": 0,
    "start_time": "2023-01-29T12:43:17.659Z"
   },
   {
    "duration": 1,
    "start_time": "2023-01-29T12:43:17.660Z"
   },
   {
    "duration": 0,
    "start_time": "2023-01-29T12:43:17.662Z"
   },
   {
    "duration": 0,
    "start_time": "2023-01-29T12:43:17.663Z"
   },
   {
    "duration": 0,
    "start_time": "2023-01-29T12:43:17.664Z"
   },
   {
    "duration": 0,
    "start_time": "2023-01-29T12:43:17.665Z"
   },
   {
    "duration": 0,
    "start_time": "2023-01-29T12:43:17.667Z"
   },
   {
    "duration": 0,
    "start_time": "2023-01-29T12:43:17.668Z"
   },
   {
    "duration": 1,
    "start_time": "2023-01-29T12:43:17.669Z"
   },
   {
    "duration": 0,
    "start_time": "2023-01-29T12:43:17.671Z"
   },
   {
    "duration": 0,
    "start_time": "2023-01-29T12:43:17.672Z"
   },
   {
    "duration": 0,
    "start_time": "2023-01-29T12:43:17.673Z"
   },
   {
    "duration": 0,
    "start_time": "2023-01-29T12:43:17.675Z"
   },
   {
    "duration": 0,
    "start_time": "2023-01-29T12:43:17.675Z"
   },
   {
    "duration": 0,
    "start_time": "2023-01-29T12:43:17.676Z"
   },
   {
    "duration": 0,
    "start_time": "2023-01-29T12:43:17.677Z"
   },
   {
    "duration": 0,
    "start_time": "2023-01-29T12:43:17.679Z"
   },
   {
    "duration": 0,
    "start_time": "2023-01-29T12:43:17.744Z"
   },
   {
    "duration": 0,
    "start_time": "2023-01-29T12:43:17.745Z"
   },
   {
    "duration": 0,
    "start_time": "2023-01-29T12:43:17.746Z"
   },
   {
    "duration": 0,
    "start_time": "2023-01-29T12:43:17.747Z"
   },
   {
    "duration": 0,
    "start_time": "2023-01-29T12:43:17.748Z"
   },
   {
    "duration": 0,
    "start_time": "2023-01-29T12:43:17.749Z"
   },
   {
    "duration": 1044,
    "start_time": "2023-01-29T12:48:59.827Z"
   },
   {
    "duration": 6,
    "start_time": "2023-01-29T12:49:13.881Z"
   },
   {
    "duration": 4,
    "start_time": "2023-01-29T13:02:10.837Z"
   },
   {
    "duration": 1052,
    "start_time": "2023-01-29T13:02:24.557Z"
   },
   {
    "duration": 6,
    "start_time": "2023-01-29T13:02:27.299Z"
   },
   {
    "duration": 593,
    "start_time": "2023-01-29T13:03:20.448Z"
   },
   {
    "duration": 84,
    "start_time": "2023-01-29T13:03:21.043Z"
   },
   {
    "duration": 36,
    "start_time": "2023-01-29T13:03:21.129Z"
   },
   {
    "duration": 13,
    "start_time": "2023-01-29T13:03:21.166Z"
   },
   {
    "duration": 1813,
    "start_time": "2023-01-29T13:03:21.180Z"
   },
   {
    "duration": 9,
    "start_time": "2023-01-29T13:03:22.994Z"
   },
   {
    "duration": 57,
    "start_time": "2023-01-29T13:03:23.004Z"
   },
   {
    "duration": 14,
    "start_time": "2023-01-29T13:03:23.062Z"
   },
   {
    "duration": 19,
    "start_time": "2023-01-29T13:03:23.077Z"
   },
   {
    "duration": 21,
    "start_time": "2023-01-29T13:03:23.098Z"
   },
   {
    "duration": 90,
    "start_time": "2023-01-29T13:03:23.120Z"
   },
   {
    "duration": 6,
    "start_time": "2023-01-29T13:03:23.211Z"
   },
   {
    "duration": 28,
    "start_time": "2023-01-29T13:03:23.219Z"
   },
   {
    "duration": 2,
    "start_time": "2023-01-29T13:03:23.251Z"
   },
   {
    "duration": 13,
    "start_time": "2023-01-29T13:03:23.255Z"
   },
   {
    "duration": 1102,
    "start_time": "2023-01-29T13:03:23.269Z"
   },
   {
    "duration": 5,
    "start_time": "2023-01-29T13:03:24.372Z"
   },
   {
    "duration": 130,
    "start_time": "2023-01-29T13:03:24.378Z"
   },
   {
    "duration": 6,
    "start_time": "2023-01-29T13:03:24.509Z"
   },
   {
    "duration": 147,
    "start_time": "2023-01-29T13:03:24.517Z"
   },
   {
    "duration": 149,
    "start_time": "2023-01-29T13:03:24.666Z"
   },
   {
    "duration": 8,
    "start_time": "2023-01-29T13:03:24.817Z"
   },
   {
    "duration": 136,
    "start_time": "2023-01-29T13:03:24.826Z"
   },
   {
    "duration": 147,
    "start_time": "2023-01-29T13:03:24.964Z"
   },
   {
    "duration": 8,
    "start_time": "2023-01-29T13:03:25.113Z"
   },
   {
    "duration": 200,
    "start_time": "2023-01-29T13:03:25.123Z"
   },
   {
    "duration": 175,
    "start_time": "2023-01-29T13:03:25.326Z"
   },
   {
    "duration": 3,
    "start_time": "2023-01-29T13:03:25.503Z"
   },
   {
    "duration": 17,
    "start_time": "2023-01-29T13:03:25.508Z"
   },
   {
    "duration": 25,
    "start_time": "2023-01-29T13:03:25.526Z"
   },
   {
    "duration": 135,
    "start_time": "2023-01-29T13:03:25.553Z"
   },
   {
    "duration": 7,
    "start_time": "2023-01-29T13:03:25.690Z"
   },
   {
    "duration": 146,
    "start_time": "2023-01-29T13:03:25.698Z"
   },
   {
    "duration": 12,
    "start_time": "2023-01-29T13:03:25.846Z"
   },
   {
    "duration": 3,
    "start_time": "2023-01-29T13:03:25.860Z"
   },
   {
    "duration": 21,
    "start_time": "2023-01-29T13:03:25.865Z"
   },
   {
    "duration": 6,
    "start_time": "2023-01-29T13:03:25.887Z"
   },
   {
    "duration": 21,
    "start_time": "2023-01-29T13:03:25.894Z"
   },
   {
    "duration": 5,
    "start_time": "2023-01-29T13:03:25.917Z"
   },
   {
    "duration": 191,
    "start_time": "2023-01-29T13:03:25.924Z"
   },
   {
    "duration": 6,
    "start_time": "2023-01-29T13:03:26.119Z"
   },
   {
    "duration": 170,
    "start_time": "2023-01-29T13:03:26.126Z"
   },
   {
    "duration": 167,
    "start_time": "2023-01-29T13:03:26.298Z"
   },
   {
    "duration": 151,
    "start_time": "2023-01-29T13:03:26.466Z"
   },
   {
    "duration": 177,
    "start_time": "2023-01-29T13:03:26.619Z"
   },
   {
    "duration": 225,
    "start_time": "2023-01-29T13:03:26.797Z"
   },
   {
    "duration": 170,
    "start_time": "2023-01-29T13:03:27.023Z"
   },
   {
    "duration": 136,
    "start_time": "2023-01-29T13:03:27.194Z"
   },
   {
    "duration": 135,
    "start_time": "2023-01-29T13:03:27.332Z"
   },
   {
    "duration": 125,
    "start_time": "2023-01-29T13:03:27.469Z"
   },
   {
    "duration": 132,
    "start_time": "2023-01-29T13:03:27.596Z"
   },
   {
    "duration": 127,
    "start_time": "2023-01-29T13:03:27.729Z"
   },
   {
    "duration": 117,
    "start_time": "2023-01-29T13:03:27.857Z"
   },
   {
    "duration": 173,
    "start_time": "2023-01-29T13:03:27.975Z"
   },
   {
    "duration": 175,
    "start_time": "2023-01-29T13:03:28.149Z"
   },
   {
    "duration": 306,
    "start_time": "2023-01-29T13:03:28.326Z"
   },
   {
    "duration": 174,
    "start_time": "2023-01-29T13:03:28.634Z"
   },
   {
    "duration": 177,
    "start_time": "2023-01-29T13:03:28.809Z"
   },
   {
    "duration": 149,
    "start_time": "2023-01-29T13:03:28.988Z"
   },
   {
    "duration": 137,
    "start_time": "2023-01-29T13:03:29.138Z"
   },
   {
    "duration": 118,
    "start_time": "2023-01-29T13:03:29.277Z"
   },
   {
    "duration": 154,
    "start_time": "2023-01-29T13:03:29.396Z"
   },
   {
    "duration": 156,
    "start_time": "2023-01-29T13:03:29.551Z"
   },
   {
    "duration": 130,
    "start_time": "2023-01-29T13:03:29.709Z"
   },
   {
    "duration": 12,
    "start_time": "2023-01-29T13:03:29.843Z"
   },
   {
    "duration": 11,
    "start_time": "2023-01-29T13:03:29.857Z"
   },
   {
    "duration": 8,
    "start_time": "2023-01-29T13:03:29.869Z"
   },
   {
    "duration": 12,
    "start_time": "2023-01-29T13:03:29.878Z"
   },
   {
    "duration": 23,
    "start_time": "2023-01-29T13:03:29.891Z"
   },
   {
    "duration": 178,
    "start_time": "2023-01-29T13:03:29.916Z"
   },
   {
    "duration": 3,
    "start_time": "2023-01-29T13:06:11.577Z"
   },
   {
    "duration": 77,
    "start_time": "2023-01-29T13:06:46.487Z"
   },
   {
    "duration": 85,
    "start_time": "2023-01-29T13:07:19.961Z"
   },
   {
    "duration": 5,
    "start_time": "2023-01-29T13:08:50.237Z"
   },
   {
    "duration": 628,
    "start_time": "2023-01-29T13:08:59.233Z"
   },
   {
    "duration": 85,
    "start_time": "2023-01-29T13:08:59.862Z"
   },
   {
    "duration": 35,
    "start_time": "2023-01-29T13:08:59.948Z"
   },
   {
    "duration": 12,
    "start_time": "2023-01-29T13:08:59.984Z"
   },
   {
    "duration": 1743,
    "start_time": "2023-01-29T13:08:59.998Z"
   },
   {
    "duration": 9,
    "start_time": "2023-01-29T13:09:01.743Z"
   },
   {
    "duration": 83,
    "start_time": "2023-01-29T13:09:01.753Z"
   },
   {
    "duration": 14,
    "start_time": "2023-01-29T13:09:01.837Z"
   },
   {
    "duration": 30,
    "start_time": "2023-01-29T13:09:01.852Z"
   },
   {
    "duration": 23,
    "start_time": "2023-01-29T13:09:01.883Z"
   },
   {
    "duration": 88,
    "start_time": "2023-01-29T13:09:01.907Z"
   },
   {
    "duration": 6,
    "start_time": "2023-01-29T13:09:01.996Z"
   },
   {
    "duration": 26,
    "start_time": "2023-01-29T13:09:02.003Z"
   },
   {
    "duration": 10,
    "start_time": "2023-01-29T13:09:02.031Z"
   },
   {
    "duration": 19,
    "start_time": "2023-01-29T13:09:02.042Z"
   },
   {
    "duration": 1020,
    "start_time": "2023-01-29T13:09:02.062Z"
   },
   {
    "duration": 5,
    "start_time": "2023-01-29T13:09:03.083Z"
   },
   {
    "duration": 12,
    "start_time": "2023-01-29T13:09:03.089Z"
   },
   {
    "duration": 139,
    "start_time": "2023-01-29T13:09:03.102Z"
   },
   {
    "duration": 6,
    "start_time": "2023-01-29T13:09:03.244Z"
   },
   {
    "duration": 132,
    "start_time": "2023-01-29T13:09:03.252Z"
   },
   {
    "duration": 131,
    "start_time": "2023-01-29T13:09:03.385Z"
   },
   {
    "duration": 7,
    "start_time": "2023-01-29T13:09:03.517Z"
   },
   {
    "duration": 139,
    "start_time": "2023-01-29T13:09:03.525Z"
   },
   {
    "duration": 123,
    "start_time": "2023-01-29T13:09:03.666Z"
   },
   {
    "duration": 6,
    "start_time": "2023-01-29T13:09:03.790Z"
   },
   {
    "duration": 185,
    "start_time": "2023-01-29T13:09:03.798Z"
   },
   {
    "duration": 164,
    "start_time": "2023-01-29T13:09:03.985Z"
   },
   {
    "duration": 5,
    "start_time": "2023-01-29T13:09:04.150Z"
   },
   {
    "duration": 20,
    "start_time": "2023-01-29T13:09:04.156Z"
   },
   {
    "duration": 7,
    "start_time": "2023-01-29T13:09:04.178Z"
   },
   {
    "duration": 127,
    "start_time": "2023-01-29T13:09:04.186Z"
   },
   {
    "duration": 6,
    "start_time": "2023-01-29T13:09:04.314Z"
   },
   {
    "duration": 127,
    "start_time": "2023-01-29T13:09:04.321Z"
   },
   {
    "duration": 12,
    "start_time": "2023-01-29T13:09:04.450Z"
   },
   {
    "duration": 11,
    "start_time": "2023-01-29T13:09:04.463Z"
   },
   {
    "duration": 16,
    "start_time": "2023-01-29T13:09:04.475Z"
   },
   {
    "duration": 5,
    "start_time": "2023-01-29T13:09:04.492Z"
   },
   {
    "duration": 8,
    "start_time": "2023-01-29T13:09:04.498Z"
   },
   {
    "duration": 8,
    "start_time": "2023-01-29T13:09:04.507Z"
   },
   {
    "duration": 225,
    "start_time": "2023-01-29T13:09:04.518Z"
   },
   {
    "duration": 5,
    "start_time": "2023-01-29T13:09:04.745Z"
   },
   {
    "duration": 214,
    "start_time": "2023-01-29T13:09:04.751Z"
   },
   {
    "duration": 165,
    "start_time": "2023-01-29T13:09:04.966Z"
   },
   {
    "duration": 153,
    "start_time": "2023-01-29T13:09:05.133Z"
   },
   {
    "duration": 164,
    "start_time": "2023-01-29T13:09:05.287Z"
   },
   {
    "duration": 236,
    "start_time": "2023-01-29T13:09:05.452Z"
   },
   {
    "duration": 173,
    "start_time": "2023-01-29T13:09:05.690Z"
   },
   {
    "duration": 125,
    "start_time": "2023-01-29T13:09:05.864Z"
   },
   {
    "duration": 121,
    "start_time": "2023-01-29T13:09:05.990Z"
   },
   {
    "duration": 123,
    "start_time": "2023-01-29T13:09:06.113Z"
   },
   {
    "duration": 131,
    "start_time": "2023-01-29T13:09:06.238Z"
   },
   {
    "duration": 120,
    "start_time": "2023-01-29T13:09:06.371Z"
   },
   {
    "duration": 126,
    "start_time": "2023-01-29T13:09:06.493Z"
   },
   {
    "duration": 175,
    "start_time": "2023-01-29T13:09:06.621Z"
   },
   {
    "duration": 161,
    "start_time": "2023-01-29T13:09:06.798Z"
   },
   {
    "duration": 303,
    "start_time": "2023-01-29T13:09:06.961Z"
   },
   {
    "duration": 171,
    "start_time": "2023-01-29T13:09:07.266Z"
   },
   {
    "duration": 166,
    "start_time": "2023-01-29T13:09:07.438Z"
   },
   {
    "duration": 154,
    "start_time": "2023-01-29T13:09:07.606Z"
   },
   {
    "duration": 137,
    "start_time": "2023-01-29T13:09:07.762Z"
   },
   {
    "duration": 113,
    "start_time": "2023-01-29T13:09:07.901Z"
   },
   {
    "duration": 139,
    "start_time": "2023-01-29T13:09:08.016Z"
   },
   {
    "duration": 152,
    "start_time": "2023-01-29T13:09:08.157Z"
   },
   {
    "duration": 125,
    "start_time": "2023-01-29T13:09:08.311Z"
   },
   {
    "duration": 17,
    "start_time": "2023-01-29T13:09:08.438Z"
   },
   {
    "duration": 12,
    "start_time": "2023-01-29T13:09:08.456Z"
   },
   {
    "duration": 11,
    "start_time": "2023-01-29T13:09:08.469Z"
   },
   {
    "duration": 9,
    "start_time": "2023-01-29T13:09:08.481Z"
   },
   {
    "duration": 20,
    "start_time": "2023-01-29T13:09:08.492Z"
   },
   {
    "duration": 189,
    "start_time": "2023-01-29T13:09:08.514Z"
   },
   {
    "duration": 568,
    "start_time": "2023-01-29T13:10:18.201Z"
   },
   {
    "duration": 95,
    "start_time": "2023-01-29T13:10:18.771Z"
   },
   {
    "duration": 39,
    "start_time": "2023-01-29T13:10:18.867Z"
   },
   {
    "duration": 13,
    "start_time": "2023-01-29T13:10:18.907Z"
   },
   {
    "duration": 1736,
    "start_time": "2023-01-29T13:10:18.921Z"
   },
   {
    "duration": 9,
    "start_time": "2023-01-29T13:10:20.658Z"
   },
   {
    "duration": 49,
    "start_time": "2023-01-29T13:10:20.668Z"
   },
   {
    "duration": 15,
    "start_time": "2023-01-29T13:10:20.718Z"
   },
   {
    "duration": 22,
    "start_time": "2023-01-29T13:10:20.744Z"
   },
   {
    "duration": 23,
    "start_time": "2023-01-29T13:10:20.768Z"
   },
   {
    "duration": 95,
    "start_time": "2023-01-29T13:10:20.792Z"
   },
   {
    "duration": 6,
    "start_time": "2023-01-29T13:10:20.889Z"
   },
   {
    "duration": 15,
    "start_time": "2023-01-29T13:10:20.896Z"
   },
   {
    "duration": 3,
    "start_time": "2023-01-29T13:10:20.912Z"
   },
   {
    "duration": 32,
    "start_time": "2023-01-29T13:10:20.917Z"
   },
   {
    "duration": 1100,
    "start_time": "2023-01-29T13:10:20.951Z"
   },
   {
    "duration": 7,
    "start_time": "2023-01-29T13:10:22.052Z"
   },
   {
    "duration": 15,
    "start_time": "2023-01-29T13:10:22.060Z"
   },
   {
    "duration": 144,
    "start_time": "2023-01-29T13:10:22.076Z"
   },
   {
    "duration": 8,
    "start_time": "2023-01-29T13:10:22.222Z"
   },
   {
    "duration": 146,
    "start_time": "2023-01-29T13:10:22.232Z"
   },
   {
    "duration": 158,
    "start_time": "2023-01-29T13:10:22.379Z"
   },
   {
    "duration": 13,
    "start_time": "2023-01-29T13:10:22.538Z"
   },
   {
    "duration": 124,
    "start_time": "2023-01-29T13:10:22.553Z"
   },
   {
    "duration": 124,
    "start_time": "2023-01-29T13:10:22.679Z"
   },
   {
    "duration": 8,
    "start_time": "2023-01-29T13:10:22.805Z"
   },
   {
    "duration": 197,
    "start_time": "2023-01-29T13:10:22.815Z"
   },
   {
    "duration": 176,
    "start_time": "2023-01-29T13:10:23.017Z"
   },
   {
    "duration": 4,
    "start_time": "2023-01-29T13:10:23.195Z"
   },
   {
    "duration": 14,
    "start_time": "2023-01-29T13:10:23.201Z"
   },
   {
    "duration": 7,
    "start_time": "2023-01-29T13:10:23.217Z"
   },
   {
    "duration": 133,
    "start_time": "2023-01-29T13:10:23.226Z"
   },
   {
    "duration": 6,
    "start_time": "2023-01-29T13:10:23.360Z"
   },
   {
    "duration": 121,
    "start_time": "2023-01-29T13:10:23.368Z"
   },
   {
    "duration": 12,
    "start_time": "2023-01-29T13:10:23.491Z"
   },
   {
    "duration": 3,
    "start_time": "2023-01-29T13:10:23.504Z"
   },
   {
    "duration": 19,
    "start_time": "2023-01-29T13:10:23.508Z"
   },
   {
    "duration": 6,
    "start_time": "2023-01-29T13:10:23.543Z"
   },
   {
    "duration": 8,
    "start_time": "2023-01-29T13:10:23.550Z"
   },
   {
    "duration": 6,
    "start_time": "2023-01-29T13:10:23.559Z"
   },
   {
    "duration": 191,
    "start_time": "2023-01-29T13:10:23.566Z"
   },
   {
    "duration": 5,
    "start_time": "2023-01-29T13:10:23.758Z"
   },
   {
    "duration": 171,
    "start_time": "2023-01-29T13:10:23.764Z"
   },
   {
    "duration": 171,
    "start_time": "2023-01-29T13:10:23.937Z"
   },
   {
    "duration": 153,
    "start_time": "2023-01-29T13:10:24.109Z"
   },
   {
    "duration": 167,
    "start_time": "2023-01-29T13:10:24.263Z"
   },
   {
    "duration": 251,
    "start_time": "2023-01-29T13:10:24.431Z"
   },
   {
    "duration": 166,
    "start_time": "2023-01-29T13:10:24.684Z"
   },
   {
    "duration": 123,
    "start_time": "2023-01-29T13:10:24.851Z"
   },
   {
    "duration": 127,
    "start_time": "2023-01-29T13:10:24.975Z"
   },
   {
    "duration": 121,
    "start_time": "2023-01-29T13:10:25.104Z"
   },
   {
    "duration": 120,
    "start_time": "2023-01-29T13:10:25.227Z"
   },
   {
    "duration": 112,
    "start_time": "2023-01-29T13:10:25.349Z"
   },
   {
    "duration": 129,
    "start_time": "2023-01-29T13:10:25.463Z"
   },
   {
    "duration": 162,
    "start_time": "2023-01-29T13:10:25.594Z"
   },
   {
    "duration": 156,
    "start_time": "2023-01-29T13:10:25.758Z"
   },
   {
    "duration": 293,
    "start_time": "2023-01-29T13:10:25.915Z"
   },
   {
    "duration": 166,
    "start_time": "2023-01-29T13:10:26.210Z"
   },
   {
    "duration": 167,
    "start_time": "2023-01-29T13:10:26.377Z"
   },
   {
    "duration": 147,
    "start_time": "2023-01-29T13:10:26.545Z"
   },
   {
    "duration": 126,
    "start_time": "2023-01-29T13:10:26.693Z"
   },
   {
    "duration": 111,
    "start_time": "2023-01-29T13:10:26.820Z"
   },
   {
    "duration": 144,
    "start_time": "2023-01-29T13:10:26.932Z"
   },
   {
    "duration": 142,
    "start_time": "2023-01-29T13:10:27.078Z"
   },
   {
    "duration": 145,
    "start_time": "2023-01-29T13:10:27.221Z"
   },
   {
    "duration": 12,
    "start_time": "2023-01-29T13:10:27.367Z"
   },
   {
    "duration": 10,
    "start_time": "2023-01-29T13:10:27.380Z"
   },
   {
    "duration": 12,
    "start_time": "2023-01-29T13:10:27.392Z"
   },
   {
    "duration": 8,
    "start_time": "2023-01-29T13:10:27.405Z"
   },
   {
    "duration": 43,
    "start_time": "2023-01-29T13:10:27.414Z"
   },
   {
    "duration": 160,
    "start_time": "2023-01-29T13:10:27.459Z"
   },
   {
    "duration": 76,
    "start_time": "2023-01-29T13:10:45.499Z"
   },
   {
    "duration": 11,
    "start_time": "2023-01-29T13:11:00.245Z"
   },
   {
    "duration": 7,
    "start_time": "2023-01-29T13:11:40.233Z"
   },
   {
    "duration": 598,
    "start_time": "2023-01-29T13:11:49.962Z"
   },
   {
    "duration": 88,
    "start_time": "2023-01-29T13:11:50.562Z"
   },
   {
    "duration": 37,
    "start_time": "2023-01-29T13:11:50.651Z"
   },
   {
    "duration": 13,
    "start_time": "2023-01-29T13:11:50.690Z"
   },
   {
    "duration": 1717,
    "start_time": "2023-01-29T13:11:50.704Z"
   },
   {
    "duration": 9,
    "start_time": "2023-01-29T13:11:52.423Z"
   },
   {
    "duration": 55,
    "start_time": "2023-01-29T13:11:52.434Z"
   },
   {
    "duration": 15,
    "start_time": "2023-01-29T13:11:52.491Z"
   },
   {
    "duration": 37,
    "start_time": "2023-01-29T13:11:52.507Z"
   },
   {
    "duration": 23,
    "start_time": "2023-01-29T13:11:52.546Z"
   },
   {
    "duration": 93,
    "start_time": "2023-01-29T13:11:52.571Z"
   },
   {
    "duration": 6,
    "start_time": "2023-01-29T13:11:52.666Z"
   },
   {
    "duration": 19,
    "start_time": "2023-01-29T13:11:52.674Z"
   },
   {
    "duration": 4,
    "start_time": "2023-01-29T13:11:52.694Z"
   },
   {
    "duration": 20,
    "start_time": "2023-01-29T13:11:52.699Z"
   },
   {
    "duration": 1092,
    "start_time": "2023-01-29T13:11:52.722Z"
   },
   {
    "duration": 6,
    "start_time": "2023-01-29T13:11:53.816Z"
   },
   {
    "duration": 9,
    "start_time": "2023-01-29T13:11:53.823Z"
   },
   {
    "duration": 128,
    "start_time": "2023-01-29T13:11:53.844Z"
   },
   {
    "duration": 7,
    "start_time": "2023-01-29T13:11:53.974Z"
   },
   {
    "duration": 141,
    "start_time": "2023-01-29T13:11:53.982Z"
   },
   {
    "duration": 135,
    "start_time": "2023-01-29T13:11:54.124Z"
   },
   {
    "duration": 8,
    "start_time": "2023-01-29T13:11:54.261Z"
   },
   {
    "duration": 130,
    "start_time": "2023-01-29T13:11:54.270Z"
   },
   {
    "duration": 125,
    "start_time": "2023-01-29T13:11:54.401Z"
   },
   {
    "duration": 19,
    "start_time": "2023-01-29T13:11:54.527Z"
   },
   {
    "duration": 213,
    "start_time": "2023-01-29T13:11:54.547Z"
   },
   {
    "duration": 180,
    "start_time": "2023-01-29T13:11:54.765Z"
   },
   {
    "duration": 4,
    "start_time": "2023-01-29T13:11:54.947Z"
   },
   {
    "duration": 19,
    "start_time": "2023-01-29T13:11:54.952Z"
   },
   {
    "duration": 7,
    "start_time": "2023-01-29T13:11:54.972Z"
   },
   {
    "duration": 130,
    "start_time": "2023-01-29T13:11:54.980Z"
   },
   {
    "duration": 6,
    "start_time": "2023-01-29T13:11:55.111Z"
   },
   {
    "duration": 132,
    "start_time": "2023-01-29T13:11:55.118Z"
   },
   {
    "duration": 13,
    "start_time": "2023-01-29T13:11:55.252Z"
   },
   {
    "duration": 3,
    "start_time": "2023-01-29T13:11:55.266Z"
   },
   {
    "duration": 23,
    "start_time": "2023-01-29T13:11:55.271Z"
   },
   {
    "duration": 5,
    "start_time": "2023-01-29T13:11:55.296Z"
   },
   {
    "duration": 8,
    "start_time": "2023-01-29T13:11:55.302Z"
   },
   {
    "duration": 8,
    "start_time": "2023-01-29T13:11:55.312Z"
   },
   {
    "duration": 193,
    "start_time": "2023-01-29T13:11:55.321Z"
   },
   {
    "duration": 5,
    "start_time": "2023-01-29T13:11:55.516Z"
   },
   {
    "duration": 173,
    "start_time": "2023-01-29T13:11:55.522Z"
   },
   {
    "duration": 180,
    "start_time": "2023-01-29T13:11:55.697Z"
   },
   {
    "duration": 151,
    "start_time": "2023-01-29T13:11:55.878Z"
   },
   {
    "duration": 171,
    "start_time": "2023-01-29T13:11:56.031Z"
   },
   {
    "duration": 243,
    "start_time": "2023-01-29T13:11:56.204Z"
   },
   {
    "duration": 180,
    "start_time": "2023-01-29T13:11:56.448Z"
   },
   {
    "duration": 128,
    "start_time": "2023-01-29T13:11:56.630Z"
   },
   {
    "duration": 129,
    "start_time": "2023-01-29T13:11:56.760Z"
   },
   {
    "duration": 118,
    "start_time": "2023-01-29T13:11:56.890Z"
   },
   {
    "duration": 134,
    "start_time": "2023-01-29T13:11:57.010Z"
   },
   {
    "duration": 110,
    "start_time": "2023-01-29T13:11:57.145Z"
   },
   {
    "duration": 132,
    "start_time": "2023-01-29T13:11:57.256Z"
   },
   {
    "duration": 156,
    "start_time": "2023-01-29T13:11:57.390Z"
   },
   {
    "duration": 163,
    "start_time": "2023-01-29T13:11:57.547Z"
   },
   {
    "duration": 290,
    "start_time": "2023-01-29T13:11:57.711Z"
   },
   {
    "duration": 169,
    "start_time": "2023-01-29T13:11:58.002Z"
   },
   {
    "duration": 155,
    "start_time": "2023-01-29T13:11:58.172Z"
   },
   {
    "duration": 155,
    "start_time": "2023-01-29T13:11:58.328Z"
   },
   {
    "duration": 129,
    "start_time": "2023-01-29T13:11:58.485Z"
   },
   {
    "duration": 122,
    "start_time": "2023-01-29T13:11:58.616Z"
   },
   {
    "duration": 136,
    "start_time": "2023-01-29T13:11:58.739Z"
   },
   {
    "duration": 144,
    "start_time": "2023-01-29T13:11:58.877Z"
   },
   {
    "duration": 122,
    "start_time": "2023-01-29T13:11:59.023Z"
   },
   {
    "duration": 13,
    "start_time": "2023-01-29T13:11:59.147Z"
   },
   {
    "duration": 12,
    "start_time": "2023-01-29T13:11:59.162Z"
   },
   {
    "duration": 7,
    "start_time": "2023-01-29T13:11:59.176Z"
   },
   {
    "duration": 8,
    "start_time": "2023-01-29T13:11:59.185Z"
   },
   {
    "duration": 49,
    "start_time": "2023-01-29T13:11:59.195Z"
   },
   {
    "duration": 161,
    "start_time": "2023-01-29T13:11:59.246Z"
   },
   {
    "duration": 595,
    "start_time": "2023-01-29T13:12:24.279Z"
   },
   {
    "duration": 87,
    "start_time": "2023-01-29T13:12:24.875Z"
   },
   {
    "duration": 38,
    "start_time": "2023-01-29T13:12:24.963Z"
   },
   {
    "duration": 15,
    "start_time": "2023-01-29T13:12:25.003Z"
   },
   {
    "duration": 1780,
    "start_time": "2023-01-29T13:12:25.020Z"
   },
   {
    "duration": 7,
    "start_time": "2023-01-29T13:12:26.802Z"
   },
   {
    "duration": 49,
    "start_time": "2023-01-29T13:12:26.811Z"
   },
   {
    "duration": 14,
    "start_time": "2023-01-29T13:12:26.861Z"
   },
   {
    "duration": 21,
    "start_time": "2023-01-29T13:12:26.877Z"
   },
   {
    "duration": 22,
    "start_time": "2023-01-29T13:12:26.900Z"
   },
   {
    "duration": 73,
    "start_time": "2023-01-29T13:12:26.943Z"
   },
   {
    "duration": 6,
    "start_time": "2023-01-29T13:12:27.017Z"
   },
   {
    "duration": 27,
    "start_time": "2023-01-29T13:12:27.025Z"
   },
   {
    "duration": 7,
    "start_time": "2023-01-29T13:12:27.054Z"
   },
   {
    "duration": 25,
    "start_time": "2023-01-29T13:12:27.062Z"
   },
   {
    "duration": 1079,
    "start_time": "2023-01-29T13:12:27.088Z"
   },
   {
    "duration": 6,
    "start_time": "2023-01-29T13:12:28.169Z"
   },
   {
    "duration": 8,
    "start_time": "2023-01-29T13:12:28.176Z"
   },
   {
    "duration": 140,
    "start_time": "2023-01-29T13:12:28.186Z"
   },
   {
    "duration": 20,
    "start_time": "2023-01-29T13:12:28.328Z"
   },
   {
    "duration": 129,
    "start_time": "2023-01-29T13:12:28.350Z"
   },
   {
    "duration": 130,
    "start_time": "2023-01-29T13:12:28.480Z"
   },
   {
    "duration": 10,
    "start_time": "2023-01-29T13:12:28.612Z"
   },
   {
    "duration": 122,
    "start_time": "2023-01-29T13:12:28.624Z"
   },
   {
    "duration": 141,
    "start_time": "2023-01-29T13:12:28.748Z"
   },
   {
    "duration": 8,
    "start_time": "2023-01-29T13:12:28.891Z"
   },
   {
    "duration": 183,
    "start_time": "2023-01-29T13:12:28.900Z"
   },
   {
    "duration": 164,
    "start_time": "2023-01-29T13:12:29.086Z"
   },
   {
    "duration": 4,
    "start_time": "2023-01-29T13:12:29.251Z"
   },
   {
    "duration": 21,
    "start_time": "2023-01-29T13:12:29.257Z"
   },
   {
    "duration": 6,
    "start_time": "2023-01-29T13:12:29.280Z"
   },
   {
    "duration": 123,
    "start_time": "2023-01-29T13:12:29.288Z"
   },
   {
    "duration": 6,
    "start_time": "2023-01-29T13:12:29.412Z"
   },
   {
    "duration": 129,
    "start_time": "2023-01-29T13:12:29.419Z"
   },
   {
    "duration": 13,
    "start_time": "2023-01-29T13:12:29.549Z"
   },
   {
    "duration": 3,
    "start_time": "2023-01-29T13:12:29.564Z"
   },
   {
    "duration": 44,
    "start_time": "2023-01-29T13:12:29.568Z"
   },
   {
    "duration": 18,
    "start_time": "2023-01-29T13:12:29.614Z"
   },
   {
    "duration": 32,
    "start_time": "2023-01-29T13:12:29.634Z"
   },
   {
    "duration": 36,
    "start_time": "2023-01-29T13:12:29.668Z"
   },
   {
    "duration": 172,
    "start_time": "2023-01-29T13:12:29.706Z"
   },
   {
    "duration": 6,
    "start_time": "2023-01-29T13:12:29.880Z"
   },
   {
    "duration": 162,
    "start_time": "2023-01-29T13:12:29.887Z"
   },
   {
    "duration": 174,
    "start_time": "2023-01-29T13:12:30.051Z"
   },
   {
    "duration": 160,
    "start_time": "2023-01-29T13:12:30.226Z"
   },
   {
    "duration": 192,
    "start_time": "2023-01-29T13:12:30.387Z"
   },
   {
    "duration": 244,
    "start_time": "2023-01-29T13:12:30.581Z"
   },
   {
    "duration": 185,
    "start_time": "2023-01-29T13:12:30.826Z"
   },
   {
    "duration": 121,
    "start_time": "2023-01-29T13:12:31.013Z"
   },
   {
    "duration": 132,
    "start_time": "2023-01-29T13:12:31.135Z"
   },
   {
    "duration": 120,
    "start_time": "2023-01-29T13:12:31.269Z"
   },
   {
    "duration": 127,
    "start_time": "2023-01-29T13:12:31.391Z"
   },
   {
    "duration": 125,
    "start_time": "2023-01-29T13:12:31.520Z"
   },
   {
    "duration": 132,
    "start_time": "2023-01-29T13:12:31.647Z"
   },
   {
    "duration": 152,
    "start_time": "2023-01-29T13:12:31.781Z"
   },
   {
    "duration": 158,
    "start_time": "2023-01-29T13:12:31.935Z"
   },
   {
    "duration": 298,
    "start_time": "2023-01-29T13:12:32.094Z"
   },
   {
    "duration": 169,
    "start_time": "2023-01-29T13:12:32.393Z"
   },
   {
    "duration": 163,
    "start_time": "2023-01-29T13:12:32.563Z"
   },
   {
    "duration": 162,
    "start_time": "2023-01-29T13:12:32.727Z"
   },
   {
    "duration": 129,
    "start_time": "2023-01-29T13:12:32.891Z"
   },
   {
    "duration": 122,
    "start_time": "2023-01-29T13:12:33.022Z"
   },
   {
    "duration": 135,
    "start_time": "2023-01-29T13:12:33.145Z"
   },
   {
    "duration": 146,
    "start_time": "2023-01-29T13:12:33.282Z"
   },
   {
    "duration": 126,
    "start_time": "2023-01-29T13:12:33.429Z"
   },
   {
    "duration": 13,
    "start_time": "2023-01-29T13:12:33.556Z"
   },
   {
    "duration": 14,
    "start_time": "2023-01-29T13:12:33.570Z"
   },
   {
    "duration": 9,
    "start_time": "2023-01-29T13:12:33.585Z"
   },
   {
    "duration": 15,
    "start_time": "2023-01-29T13:12:33.596Z"
   },
   {
    "duration": 44,
    "start_time": "2023-01-29T13:12:33.613Z"
   },
   {
    "duration": 166,
    "start_time": "2023-01-29T13:12:33.659Z"
   },
   {
    "duration": 613,
    "start_time": "2023-01-29T13:18:05.855Z"
   },
   {
    "duration": 89,
    "start_time": "2023-01-29T13:18:06.470Z"
   },
   {
    "duration": 38,
    "start_time": "2023-01-29T13:18:06.561Z"
   },
   {
    "duration": 14,
    "start_time": "2023-01-29T13:18:06.600Z"
   },
   {
    "duration": 1793,
    "start_time": "2023-01-29T13:18:06.616Z"
   },
   {
    "duration": 8,
    "start_time": "2023-01-29T13:18:08.410Z"
   },
   {
    "duration": 49,
    "start_time": "2023-01-29T13:18:08.419Z"
   },
   {
    "duration": 12,
    "start_time": "2023-01-29T13:18:08.470Z"
   },
   {
    "duration": 85,
    "start_time": "2023-01-29T13:18:08.483Z"
   },
   {
    "duration": 0,
    "start_time": "2023-01-29T13:18:08.571Z"
   },
   {
    "duration": 0,
    "start_time": "2023-01-29T13:18:08.572Z"
   },
   {
    "duration": 0,
    "start_time": "2023-01-29T13:18:08.573Z"
   },
   {
    "duration": 0,
    "start_time": "2023-01-29T13:18:08.574Z"
   },
   {
    "duration": 0,
    "start_time": "2023-01-29T13:18:08.574Z"
   },
   {
    "duration": 0,
    "start_time": "2023-01-29T13:18:08.575Z"
   },
   {
    "duration": 0,
    "start_time": "2023-01-29T13:18:08.576Z"
   },
   {
    "duration": 0,
    "start_time": "2023-01-29T13:18:08.577Z"
   },
   {
    "duration": 0,
    "start_time": "2023-01-29T13:18:08.578Z"
   },
   {
    "duration": 0,
    "start_time": "2023-01-29T13:18:08.579Z"
   },
   {
    "duration": 0,
    "start_time": "2023-01-29T13:18:08.579Z"
   },
   {
    "duration": 0,
    "start_time": "2023-01-29T13:18:08.580Z"
   },
   {
    "duration": 1,
    "start_time": "2023-01-29T13:18:08.581Z"
   },
   {
    "duration": 0,
    "start_time": "2023-01-29T13:18:08.582Z"
   },
   {
    "duration": 0,
    "start_time": "2023-01-29T13:18:08.583Z"
   },
   {
    "duration": 0,
    "start_time": "2023-01-29T13:18:08.586Z"
   },
   {
    "duration": 0,
    "start_time": "2023-01-29T13:18:08.587Z"
   },
   {
    "duration": 0,
    "start_time": "2023-01-29T13:18:08.588Z"
   },
   {
    "duration": 0,
    "start_time": "2023-01-29T13:18:08.589Z"
   },
   {
    "duration": 0,
    "start_time": "2023-01-29T13:18:08.591Z"
   },
   {
    "duration": 0,
    "start_time": "2023-01-29T13:18:08.592Z"
   },
   {
    "duration": 0,
    "start_time": "2023-01-29T13:18:08.593Z"
   },
   {
    "duration": 0,
    "start_time": "2023-01-29T13:18:08.594Z"
   },
   {
    "duration": 0,
    "start_time": "2023-01-29T13:18:08.595Z"
   },
   {
    "duration": 0,
    "start_time": "2023-01-29T13:18:08.595Z"
   },
   {
    "duration": 0,
    "start_time": "2023-01-29T13:18:08.596Z"
   },
   {
    "duration": 0,
    "start_time": "2023-01-29T13:18:08.597Z"
   },
   {
    "duration": 0,
    "start_time": "2023-01-29T13:18:08.644Z"
   },
   {
    "duration": 0,
    "start_time": "2023-01-29T13:18:08.645Z"
   },
   {
    "duration": 0,
    "start_time": "2023-01-29T13:18:08.646Z"
   },
   {
    "duration": 0,
    "start_time": "2023-01-29T13:18:08.646Z"
   },
   {
    "duration": 0,
    "start_time": "2023-01-29T13:18:08.647Z"
   },
   {
    "duration": 0,
    "start_time": "2023-01-29T13:18:08.648Z"
   },
   {
    "duration": 0,
    "start_time": "2023-01-29T13:18:08.649Z"
   },
   {
    "duration": 0,
    "start_time": "2023-01-29T13:18:08.650Z"
   },
   {
    "duration": 0,
    "start_time": "2023-01-29T13:18:08.651Z"
   },
   {
    "duration": 0,
    "start_time": "2023-01-29T13:18:08.651Z"
   },
   {
    "duration": 0,
    "start_time": "2023-01-29T13:18:08.652Z"
   },
   {
    "duration": 0,
    "start_time": "2023-01-29T13:18:08.653Z"
   },
   {
    "duration": 0,
    "start_time": "2023-01-29T13:18:08.654Z"
   },
   {
    "duration": 0,
    "start_time": "2023-01-29T13:18:08.655Z"
   },
   {
    "duration": 0,
    "start_time": "2023-01-29T13:18:08.656Z"
   },
   {
    "duration": 0,
    "start_time": "2023-01-29T13:18:08.657Z"
   },
   {
    "duration": 0,
    "start_time": "2023-01-29T13:18:08.658Z"
   },
   {
    "duration": 0,
    "start_time": "2023-01-29T13:18:08.658Z"
   },
   {
    "duration": 0,
    "start_time": "2023-01-29T13:18:08.659Z"
   },
   {
    "duration": 0,
    "start_time": "2023-01-29T13:18:08.660Z"
   },
   {
    "duration": 0,
    "start_time": "2023-01-29T13:18:08.661Z"
   },
   {
    "duration": 0,
    "start_time": "2023-01-29T13:18:08.662Z"
   },
   {
    "duration": 0,
    "start_time": "2023-01-29T13:18:08.663Z"
   },
   {
    "duration": 0,
    "start_time": "2023-01-29T13:18:08.664Z"
   },
   {
    "duration": 0,
    "start_time": "2023-01-29T13:18:08.665Z"
   },
   {
    "duration": 0,
    "start_time": "2023-01-29T13:18:08.666Z"
   },
   {
    "duration": 0,
    "start_time": "2023-01-29T13:18:08.666Z"
   },
   {
    "duration": 0,
    "start_time": "2023-01-29T13:18:08.667Z"
   },
   {
    "duration": 0,
    "start_time": "2023-01-29T13:18:08.668Z"
   },
   {
    "duration": 0,
    "start_time": "2023-01-29T13:18:08.669Z"
   },
   {
    "duration": 0,
    "start_time": "2023-01-29T13:18:08.670Z"
   },
   {
    "duration": 0,
    "start_time": "2023-01-29T13:18:08.671Z"
   },
   {
    "duration": 0,
    "start_time": "2023-01-29T13:18:08.672Z"
   },
   {
    "duration": 0,
    "start_time": "2023-01-29T13:18:08.673Z"
   },
   {
    "duration": 0,
    "start_time": "2023-01-29T13:18:08.674Z"
   },
   {
    "duration": 17,
    "start_time": "2023-01-29T13:19:53.546Z"
   },
   {
    "duration": 24,
    "start_time": "2023-01-29T13:20:02.642Z"
   },
   {
    "duration": 79,
    "start_time": "2023-01-29T13:20:03.095Z"
   },
   {
    "duration": 7,
    "start_time": "2023-01-29T13:20:04.975Z"
   },
   {
    "duration": 11,
    "start_time": "2023-01-29T13:20:05.831Z"
   },
   {
    "duration": 3,
    "start_time": "2023-01-29T13:20:06.843Z"
   },
   {
    "duration": 14,
    "start_time": "2023-01-29T13:20:14.865Z"
   },
   {
    "duration": 1088,
    "start_time": "2023-01-29T13:21:19.166Z"
   },
   {
    "duration": 5,
    "start_time": "2023-01-29T13:21:31.297Z"
   },
   {
    "duration": 4,
    "start_time": "2023-01-29T13:23:01.350Z"
   },
   {
    "duration": 13,
    "start_time": "2023-01-29T13:23:57.724Z"
   },
   {
    "duration": 1124,
    "start_time": "2023-01-29T13:23:59.556Z"
   },
   {
    "duration": 3,
    "start_time": "2023-01-29T13:24:01.070Z"
   },
   {
    "duration": 9,
    "start_time": "2023-01-29T13:25:26.196Z"
   },
   {
    "duration": 5,
    "start_time": "2023-01-29T13:25:49.739Z"
   },
   {
    "duration": 7,
    "start_time": "2023-01-29T13:27:11.841Z"
   },
   {
    "duration": 4,
    "start_time": "2023-01-29T13:27:16.803Z"
   },
   {
    "duration": 3,
    "start_time": "2023-01-29T13:27:17.843Z"
   },
   {
    "duration": 4,
    "start_time": "2023-01-29T13:27:21.593Z"
   },
   {
    "duration": 4,
    "start_time": "2023-01-29T13:27:36.665Z"
   },
   {
    "duration": 581,
    "start_time": "2023-01-29T13:28:49.864Z"
   },
   {
    "duration": 87,
    "start_time": "2023-01-29T13:28:50.446Z"
   },
   {
    "duration": 35,
    "start_time": "2023-01-29T13:28:50.535Z"
   },
   {
    "duration": 13,
    "start_time": "2023-01-29T13:28:50.571Z"
   },
   {
    "duration": 1739,
    "start_time": "2023-01-29T13:28:50.585Z"
   },
   {
    "duration": 8,
    "start_time": "2023-01-29T13:28:52.326Z"
   },
   {
    "duration": 49,
    "start_time": "2023-01-29T13:28:52.335Z"
   },
   {
    "duration": 12,
    "start_time": "2023-01-29T13:28:52.385Z"
   },
   {
    "duration": 21,
    "start_time": "2023-01-29T13:28:52.399Z"
   },
   {
    "duration": 42,
    "start_time": "2023-01-29T13:28:52.423Z"
   },
   {
    "duration": 84,
    "start_time": "2023-01-29T13:28:52.467Z"
   },
   {
    "duration": 6,
    "start_time": "2023-01-29T13:28:52.553Z"
   },
   {
    "duration": 11,
    "start_time": "2023-01-29T13:28:52.560Z"
   },
   {
    "duration": 3,
    "start_time": "2023-01-29T13:28:52.573Z"
   },
   {
    "duration": 10,
    "start_time": "2023-01-29T13:28:52.578Z"
   },
   {
    "duration": 16,
    "start_time": "2023-01-29T13:28:52.590Z"
   },
   {
    "duration": 4,
    "start_time": "2023-01-29T13:28:52.607Z"
   },
   {
    "duration": 31,
    "start_time": "2023-01-29T13:28:52.613Z"
   },
   {
    "duration": 1041,
    "start_time": "2023-01-29T13:28:52.645Z"
   },
   {
    "duration": 3,
    "start_time": "2023-01-29T13:28:53.688Z"
   },
   {
    "duration": 8,
    "start_time": "2023-01-29T13:28:53.693Z"
   },
   {
    "duration": 8,
    "start_time": "2023-01-29T13:28:53.703Z"
   },
   {
    "duration": 153,
    "start_time": "2023-01-29T13:28:53.712Z"
   },
   {
    "duration": 7,
    "start_time": "2023-01-29T13:28:53.867Z"
   },
   {
    "duration": 124,
    "start_time": "2023-01-29T13:28:53.875Z"
   },
   {
    "duration": 157,
    "start_time": "2023-01-29T13:28:54.000Z"
   },
   {
    "duration": 8,
    "start_time": "2023-01-29T13:28:54.158Z"
   },
   {
    "duration": 138,
    "start_time": "2023-01-29T13:28:54.169Z"
   },
   {
    "duration": 143,
    "start_time": "2023-01-29T13:28:54.308Z"
   },
   {
    "duration": 7,
    "start_time": "2023-01-29T13:28:54.453Z"
   },
   {
    "duration": 226,
    "start_time": "2023-01-29T13:28:54.461Z"
   },
   {
    "duration": 168,
    "start_time": "2023-01-29T13:28:54.689Z"
   },
   {
    "duration": 4,
    "start_time": "2023-01-29T13:28:54.859Z"
   },
   {
    "duration": 17,
    "start_time": "2023-01-29T13:28:54.864Z"
   },
   {
    "duration": 8,
    "start_time": "2023-01-29T13:28:54.882Z"
   },
   {
    "duration": 128,
    "start_time": "2023-01-29T13:28:54.891Z"
   },
   {
    "duration": 6,
    "start_time": "2023-01-29T13:28:55.020Z"
   },
   {
    "duration": 149,
    "start_time": "2023-01-29T13:28:55.027Z"
   },
   {
    "duration": 13,
    "start_time": "2023-01-29T13:28:55.177Z"
   },
   {
    "duration": 4,
    "start_time": "2023-01-29T13:28:55.192Z"
   },
   {
    "duration": 21,
    "start_time": "2023-01-29T13:28:55.197Z"
   },
   {
    "duration": 5,
    "start_time": "2023-01-29T13:28:55.219Z"
   },
   {
    "duration": 18,
    "start_time": "2023-01-29T13:28:55.226Z"
   },
   {
    "duration": 5,
    "start_time": "2023-01-29T13:28:55.245Z"
   },
   {
    "duration": 198,
    "start_time": "2023-01-29T13:28:55.252Z"
   },
   {
    "duration": 6,
    "start_time": "2023-01-29T13:28:55.451Z"
   },
   {
    "duration": 174,
    "start_time": "2023-01-29T13:28:55.458Z"
   },
   {
    "duration": 193,
    "start_time": "2023-01-29T13:28:55.634Z"
   },
   {
    "duration": 161,
    "start_time": "2023-01-29T13:28:55.829Z"
   },
   {
    "duration": 292,
    "start_time": "2023-01-29T13:28:55.992Z"
   },
   {
    "duration": 237,
    "start_time": "2023-01-29T13:28:56.286Z"
   },
   {
    "duration": 170,
    "start_time": "2023-01-29T13:28:56.524Z"
   },
   {
    "duration": 122,
    "start_time": "2023-01-29T13:28:56.695Z"
   },
   {
    "duration": 132,
    "start_time": "2023-01-29T13:28:56.819Z"
   },
   {
    "duration": 120,
    "start_time": "2023-01-29T13:28:56.953Z"
   },
   {
    "duration": 127,
    "start_time": "2023-01-29T13:28:57.075Z"
   },
   {
    "duration": 154,
    "start_time": "2023-01-29T13:28:57.204Z"
   },
   {
    "duration": 114,
    "start_time": "2023-01-29T13:28:57.360Z"
   },
   {
    "duration": 175,
    "start_time": "2023-01-29T13:28:57.476Z"
   },
   {
    "duration": 169,
    "start_time": "2023-01-29T13:28:57.652Z"
   },
   {
    "duration": 299,
    "start_time": "2023-01-29T13:28:57.822Z"
   },
   {
    "duration": 165,
    "start_time": "2023-01-29T13:28:58.123Z"
   },
   {
    "duration": 165,
    "start_time": "2023-01-29T13:28:58.290Z"
   },
   {
    "duration": 158,
    "start_time": "2023-01-29T13:28:58.456Z"
   },
   {
    "duration": 130,
    "start_time": "2023-01-29T13:28:58.616Z"
   },
   {
    "duration": 129,
    "start_time": "2023-01-29T13:28:58.747Z"
   },
   {
    "duration": 143,
    "start_time": "2023-01-29T13:28:58.878Z"
   },
   {
    "duration": 168,
    "start_time": "2023-01-29T13:28:59.022Z"
   },
   {
    "duration": 122,
    "start_time": "2023-01-29T13:28:59.191Z"
   },
   {
    "duration": 14,
    "start_time": "2023-01-29T13:28:59.314Z"
   },
   {
    "duration": 25,
    "start_time": "2023-01-29T13:28:59.329Z"
   },
   {
    "duration": 10,
    "start_time": "2023-01-29T13:28:59.355Z"
   },
   {
    "duration": 10,
    "start_time": "2023-01-29T13:28:59.366Z"
   },
   {
    "duration": 19,
    "start_time": "2023-01-29T13:28:59.378Z"
   },
   {
    "duration": 170,
    "start_time": "2023-01-29T13:28:59.398Z"
   },
   {
    "duration": 14,
    "start_time": "2023-01-29T13:44:22.404Z"
   },
   {
    "duration": 616,
    "start_time": "2023-01-29T13:44:30.541Z"
   },
   {
    "duration": 89,
    "start_time": "2023-01-29T13:44:31.158Z"
   },
   {
    "duration": 34,
    "start_time": "2023-01-29T13:44:31.249Z"
   },
   {
    "duration": 13,
    "start_time": "2023-01-29T13:44:31.285Z"
   },
   {
    "duration": 1766,
    "start_time": "2023-01-29T13:44:31.299Z"
   },
   {
    "duration": 8,
    "start_time": "2023-01-29T13:44:33.066Z"
   },
   {
    "duration": 51,
    "start_time": "2023-01-29T13:44:33.075Z"
   },
   {
    "duration": 13,
    "start_time": "2023-01-29T13:44:33.127Z"
   },
   {
    "duration": 20,
    "start_time": "2023-01-29T13:44:33.142Z"
   },
   {
    "duration": 22,
    "start_time": "2023-01-29T13:44:33.164Z"
   },
   {
    "duration": 93,
    "start_time": "2023-01-29T13:44:33.188Z"
   },
   {
    "duration": 6,
    "start_time": "2023-01-29T13:44:33.283Z"
   },
   {
    "duration": 14,
    "start_time": "2023-01-29T13:44:33.290Z"
   },
   {
    "duration": 3,
    "start_time": "2023-01-29T13:44:33.305Z"
   },
   {
    "duration": 5,
    "start_time": "2023-01-29T13:44:33.310Z"
   },
   {
    "duration": 9,
    "start_time": "2023-01-29T13:44:33.316Z"
   },
   {
    "duration": 19,
    "start_time": "2023-01-29T13:44:33.326Z"
   },
   {
    "duration": 8,
    "start_time": "2023-01-29T13:44:33.347Z"
   },
   {
    "duration": 147,
    "start_time": "2023-01-29T13:44:33.356Z"
   },
   {
    "duration": 13,
    "start_time": "2023-01-29T13:44:33.505Z"
   },
   {
    "duration": 14,
    "start_time": "2023-01-29T13:44:33.519Z"
   },
   {
    "duration": 113,
    "start_time": "2023-01-29T13:44:33.543Z"
   },
   {
    "duration": 141,
    "start_time": "2023-01-29T13:44:33.658Z"
   },
   {
    "duration": 7,
    "start_time": "2023-01-29T13:44:33.801Z"
   },
   {
    "duration": 125,
    "start_time": "2023-01-29T13:44:33.809Z"
   },
   {
    "duration": 152,
    "start_time": "2023-01-29T13:44:33.936Z"
   },
   {
    "duration": 7,
    "start_time": "2023-01-29T13:44:34.089Z"
   },
   {
    "duration": 183,
    "start_time": "2023-01-29T13:44:34.099Z"
   },
   {
    "duration": 153,
    "start_time": "2023-01-29T13:44:34.283Z"
   },
   {
    "duration": 8,
    "start_time": "2023-01-29T13:44:34.437Z"
   },
   {
    "duration": 31,
    "start_time": "2023-01-29T13:44:34.446Z"
   },
   {
    "duration": 13,
    "start_time": "2023-01-29T13:44:34.478Z"
   },
   {
    "duration": 134,
    "start_time": "2023-01-29T13:44:34.492Z"
   },
   {
    "duration": 15,
    "start_time": "2023-01-29T13:44:34.628Z"
   },
   {
    "duration": 145,
    "start_time": "2023-01-29T13:44:34.645Z"
   },
   {
    "duration": 12,
    "start_time": "2023-01-29T13:44:34.791Z"
   },
   {
    "duration": 4,
    "start_time": "2023-01-29T13:44:34.804Z"
   },
   {
    "duration": 23,
    "start_time": "2023-01-29T13:44:34.809Z"
   },
   {
    "duration": 13,
    "start_time": "2023-01-29T13:44:34.834Z"
   },
   {
    "duration": 11,
    "start_time": "2023-01-29T13:44:34.848Z"
   },
   {
    "duration": 12,
    "start_time": "2023-01-29T13:44:34.860Z"
   },
   {
    "duration": 201,
    "start_time": "2023-01-29T13:44:34.873Z"
   },
   {
    "duration": 5,
    "start_time": "2023-01-29T13:44:35.076Z"
   },
   {
    "duration": 156,
    "start_time": "2023-01-29T13:44:35.082Z"
   },
   {
    "duration": 148,
    "start_time": "2023-01-29T13:44:35.239Z"
   },
   {
    "duration": 146,
    "start_time": "2023-01-29T13:44:35.389Z"
   },
   {
    "duration": 191,
    "start_time": "2023-01-29T13:44:35.537Z"
   },
   {
    "duration": 215,
    "start_time": "2023-01-29T13:44:35.729Z"
   },
   {
    "duration": 163,
    "start_time": "2023-01-29T13:44:35.945Z"
   },
   {
    "duration": 124,
    "start_time": "2023-01-29T13:44:36.110Z"
   },
   {
    "duration": 128,
    "start_time": "2023-01-29T13:44:36.243Z"
   },
   {
    "duration": 119,
    "start_time": "2023-01-29T13:44:36.372Z"
   },
   {
    "duration": 130,
    "start_time": "2023-01-29T13:44:36.493Z"
   },
   {
    "duration": 119,
    "start_time": "2023-01-29T13:44:36.625Z"
   },
   {
    "duration": 107,
    "start_time": "2023-01-29T13:44:36.745Z"
   },
   {
    "duration": 160,
    "start_time": "2023-01-29T13:44:36.853Z"
   },
   {
    "duration": 167,
    "start_time": "2023-01-29T13:44:37.015Z"
   },
   {
    "duration": 325,
    "start_time": "2023-01-29T13:44:37.184Z"
   },
   {
    "duration": 167,
    "start_time": "2023-01-29T13:44:37.511Z"
   },
   {
    "duration": 160,
    "start_time": "2023-01-29T13:44:37.680Z"
   },
   {
    "duration": 152,
    "start_time": "2023-01-29T13:44:37.844Z"
   },
   {
    "duration": 128,
    "start_time": "2023-01-29T13:44:37.997Z"
   },
   {
    "duration": 125,
    "start_time": "2023-01-29T13:44:38.126Z"
   },
   {
    "duration": 138,
    "start_time": "2023-01-29T13:44:38.252Z"
   },
   {
    "duration": 158,
    "start_time": "2023-01-29T13:44:38.392Z"
   },
   {
    "duration": 122,
    "start_time": "2023-01-29T13:44:38.552Z"
   },
   {
    "duration": 14,
    "start_time": "2023-01-29T13:44:38.676Z"
   },
   {
    "duration": 15,
    "start_time": "2023-01-29T13:44:38.691Z"
   },
   {
    "duration": 9,
    "start_time": "2023-01-29T13:44:38.708Z"
   },
   {
    "duration": 32,
    "start_time": "2023-01-29T13:44:38.718Z"
   },
   {
    "duration": 32,
    "start_time": "2023-01-29T13:44:38.752Z"
   },
   {
    "duration": 161,
    "start_time": "2023-01-29T13:44:38.786Z"
   },
   {
    "duration": 616,
    "start_time": "2023-01-29T13:45:33.045Z"
   },
   {
    "duration": 90,
    "start_time": "2023-01-29T13:45:33.662Z"
   },
   {
    "duration": 35,
    "start_time": "2023-01-29T13:45:33.754Z"
   },
   {
    "duration": 13,
    "start_time": "2023-01-29T13:45:33.791Z"
   },
   {
    "duration": 1751,
    "start_time": "2023-01-29T13:45:33.806Z"
   },
   {
    "duration": 9,
    "start_time": "2023-01-29T13:45:35.558Z"
   },
   {
    "duration": 68,
    "start_time": "2023-01-29T13:45:35.568Z"
   },
   {
    "duration": 14,
    "start_time": "2023-01-29T13:45:35.638Z"
   },
   {
    "duration": 21,
    "start_time": "2023-01-29T13:45:35.654Z"
   },
   {
    "duration": 40,
    "start_time": "2023-01-29T13:45:35.677Z"
   },
   {
    "duration": 86,
    "start_time": "2023-01-29T13:45:35.719Z"
   },
   {
    "duration": 6,
    "start_time": "2023-01-29T13:45:35.807Z"
   },
   {
    "duration": 36,
    "start_time": "2023-01-29T13:45:35.814Z"
   },
   {
    "duration": 4,
    "start_time": "2023-01-29T13:45:35.852Z"
   },
   {
    "duration": 7,
    "start_time": "2023-01-29T13:45:35.857Z"
   },
   {
    "duration": 4,
    "start_time": "2023-01-29T13:45:35.865Z"
   },
   {
    "duration": 5,
    "start_time": "2023-01-29T13:45:35.870Z"
   },
   {
    "duration": 11,
    "start_time": "2023-01-29T13:45:35.876Z"
   },
   {
    "duration": 155,
    "start_time": "2023-01-29T13:45:35.889Z"
   },
   {
    "duration": 13,
    "start_time": "2023-01-29T13:45:36.045Z"
   },
   {
    "duration": 8,
    "start_time": "2023-01-29T13:45:36.059Z"
   },
   {
    "duration": 121,
    "start_time": "2023-01-29T13:45:36.068Z"
   },
   {
    "duration": 139,
    "start_time": "2023-01-29T13:45:36.191Z"
   },
   {
    "duration": 20,
    "start_time": "2023-01-29T13:45:36.332Z"
   },
   {
    "duration": 7,
    "start_time": "2023-01-29T13:45:36.353Z"
   },
   {
    "duration": 126,
    "start_time": "2023-01-29T13:45:36.361Z"
   },
   {
    "duration": 133,
    "start_time": "2023-01-29T13:45:36.489Z"
   },
   {
    "duration": 7,
    "start_time": "2023-01-29T13:45:36.624Z"
   },
   {
    "duration": 182,
    "start_time": "2023-01-29T13:45:36.643Z"
   },
   {
    "duration": 150,
    "start_time": "2023-01-29T13:45:36.827Z"
   },
   {
    "duration": 4,
    "start_time": "2023-01-29T13:45:36.978Z"
   },
   {
    "duration": 17,
    "start_time": "2023-01-29T13:45:36.983Z"
   },
   {
    "duration": 8,
    "start_time": "2023-01-29T13:45:37.002Z"
   },
   {
    "duration": 132,
    "start_time": "2023-01-29T13:45:37.012Z"
   },
   {
    "duration": 6,
    "start_time": "2023-01-29T13:45:37.145Z"
   },
   {
    "duration": 138,
    "start_time": "2023-01-29T13:45:37.153Z"
   },
   {
    "duration": 13,
    "start_time": "2023-01-29T13:45:37.292Z"
   },
   {
    "duration": 4,
    "start_time": "2023-01-29T13:45:37.307Z"
   },
   {
    "duration": 37,
    "start_time": "2023-01-29T13:45:37.312Z"
   },
   {
    "duration": 8,
    "start_time": "2023-01-29T13:45:37.351Z"
   },
   {
    "duration": 7,
    "start_time": "2023-01-29T13:45:37.363Z"
   },
   {
    "duration": 7,
    "start_time": "2023-01-29T13:45:37.371Z"
   },
   {
    "duration": 218,
    "start_time": "2023-01-29T13:45:37.380Z"
   },
   {
    "duration": 6,
    "start_time": "2023-01-29T13:45:37.600Z"
   },
   {
    "duration": 166,
    "start_time": "2023-01-29T13:45:37.608Z"
   },
   {
    "duration": 143,
    "start_time": "2023-01-29T13:45:37.775Z"
   },
   {
    "duration": 156,
    "start_time": "2023-01-29T13:45:37.919Z"
   },
   {
    "duration": 183,
    "start_time": "2023-01-29T13:45:38.077Z"
   },
   {
    "duration": 230,
    "start_time": "2023-01-29T13:45:38.261Z"
   },
   {
    "duration": 168,
    "start_time": "2023-01-29T13:45:38.493Z"
   },
   {
    "duration": 129,
    "start_time": "2023-01-29T13:45:38.663Z"
   },
   {
    "duration": 128,
    "start_time": "2023-01-29T13:45:38.793Z"
   },
   {
    "duration": 131,
    "start_time": "2023-01-29T13:45:38.923Z"
   },
   {
    "duration": 122,
    "start_time": "2023-01-29T13:45:39.056Z"
   },
   {
    "duration": 112,
    "start_time": "2023-01-29T13:45:39.179Z"
   },
   {
    "duration": 122,
    "start_time": "2023-01-29T13:45:39.293Z"
   },
   {
    "duration": 164,
    "start_time": "2023-01-29T13:45:39.417Z"
   },
   {
    "duration": 170,
    "start_time": "2023-01-29T13:45:39.583Z"
   },
   {
    "duration": 298,
    "start_time": "2023-01-29T13:45:39.754Z"
   },
   {
    "duration": 163,
    "start_time": "2023-01-29T13:45:40.054Z"
   },
   {
    "duration": 166,
    "start_time": "2023-01-29T13:45:40.219Z"
   },
   {
    "duration": 158,
    "start_time": "2023-01-29T13:45:40.386Z"
   },
   {
    "duration": 134,
    "start_time": "2023-01-29T13:45:40.545Z"
   },
   {
    "duration": 123,
    "start_time": "2023-01-29T13:45:40.680Z"
   },
   {
    "duration": 143,
    "start_time": "2023-01-29T13:45:40.805Z"
   },
   {
    "duration": 162,
    "start_time": "2023-01-29T13:45:40.950Z"
   },
   {
    "duration": 126,
    "start_time": "2023-01-29T13:45:41.114Z"
   },
   {
    "duration": 13,
    "start_time": "2023-01-29T13:45:41.242Z"
   },
   {
    "duration": 10,
    "start_time": "2023-01-29T13:45:41.257Z"
   },
   {
    "duration": 7,
    "start_time": "2023-01-29T13:45:41.269Z"
   },
   {
    "duration": 8,
    "start_time": "2023-01-29T13:45:41.277Z"
   },
   {
    "duration": 21,
    "start_time": "2023-01-29T13:45:41.286Z"
   },
   {
    "duration": 181,
    "start_time": "2023-01-29T13:45:41.308Z"
   },
   {
    "duration": 617,
    "start_time": "2023-01-29T13:46:28.750Z"
   },
   {
    "duration": 89,
    "start_time": "2023-01-29T13:46:29.369Z"
   },
   {
    "duration": 37,
    "start_time": "2023-01-29T13:46:29.460Z"
   },
   {
    "duration": 13,
    "start_time": "2023-01-29T13:46:29.499Z"
   },
   {
    "duration": 1720,
    "start_time": "2023-01-29T13:46:29.513Z"
   },
   {
    "duration": 7,
    "start_time": "2023-01-29T13:46:31.234Z"
   },
   {
    "duration": 73,
    "start_time": "2023-01-29T13:46:31.243Z"
   },
   {
    "duration": 12,
    "start_time": "2023-01-29T13:46:31.318Z"
   },
   {
    "duration": 49,
    "start_time": "2023-01-29T13:46:31.332Z"
   },
   {
    "duration": 34,
    "start_time": "2023-01-29T13:46:31.383Z"
   },
   {
    "duration": 70,
    "start_time": "2023-01-29T13:46:31.418Z"
   },
   {
    "duration": 5,
    "start_time": "2023-01-29T13:46:31.489Z"
   },
   {
    "duration": 21,
    "start_time": "2023-01-29T13:46:31.496Z"
   },
   {
    "duration": 3,
    "start_time": "2023-01-29T13:46:31.518Z"
   },
   {
    "duration": 27,
    "start_time": "2023-01-29T13:46:31.523Z"
   },
   {
    "duration": 18,
    "start_time": "2023-01-29T13:46:31.551Z"
   },
   {
    "duration": 20,
    "start_time": "2023-01-29T13:46:31.571Z"
   },
   {
    "duration": 15,
    "start_time": "2023-01-29T13:46:31.592Z"
   },
   {
    "duration": 154,
    "start_time": "2023-01-29T13:46:31.608Z"
   },
   {
    "duration": 13,
    "start_time": "2023-01-29T13:46:31.764Z"
   },
   {
    "duration": 26,
    "start_time": "2023-01-29T13:46:31.778Z"
   },
   {
    "duration": 126,
    "start_time": "2023-01-29T13:46:31.806Z"
   },
   {
    "duration": 151,
    "start_time": "2023-01-29T13:46:31.934Z"
   },
   {
    "duration": 13,
    "start_time": "2023-01-29T13:46:32.087Z"
   },
   {
    "duration": 8,
    "start_time": "2023-01-29T13:46:32.102Z"
   },
   {
    "duration": 138,
    "start_time": "2023-01-29T13:46:32.111Z"
   },
   {
    "duration": 139,
    "start_time": "2023-01-29T13:46:32.251Z"
   },
   {
    "duration": 101,
    "start_time": "2023-01-29T13:46:32.394Z"
   },
   {
    "duration": 6,
    "start_time": "2023-01-29T13:46:32.497Z"
   },
   {
    "duration": 102,
    "start_time": "2023-01-29T13:46:32.504Z"
   },
   {
    "duration": 158,
    "start_time": "2023-01-29T13:46:32.607Z"
   },
   {
    "duration": 4,
    "start_time": "2023-01-29T13:46:32.766Z"
   },
   {
    "duration": 16,
    "start_time": "2023-01-29T13:46:32.771Z"
   },
   {
    "duration": 12,
    "start_time": "2023-01-29T13:46:32.789Z"
   },
   {
    "duration": 124,
    "start_time": "2023-01-29T13:46:32.802Z"
   },
   {
    "duration": 6,
    "start_time": "2023-01-29T13:46:32.927Z"
   },
   {
    "duration": 124,
    "start_time": "2023-01-29T13:46:32.943Z"
   },
   {
    "duration": 13,
    "start_time": "2023-01-29T13:46:33.068Z"
   },
   {
    "duration": 3,
    "start_time": "2023-01-29T13:46:33.083Z"
   },
   {
    "duration": 20,
    "start_time": "2023-01-29T13:46:33.088Z"
   },
   {
    "duration": 5,
    "start_time": "2023-01-29T13:46:33.109Z"
   },
   {
    "duration": 28,
    "start_time": "2023-01-29T13:46:33.116Z"
   },
   {
    "duration": 6,
    "start_time": "2023-01-29T13:46:33.145Z"
   },
   {
    "duration": 200,
    "start_time": "2023-01-29T13:46:33.152Z"
   },
   {
    "duration": 6,
    "start_time": "2023-01-29T13:46:33.353Z"
   },
   {
    "duration": 163,
    "start_time": "2023-01-29T13:46:33.360Z"
   },
   {
    "duration": 153,
    "start_time": "2023-01-29T13:46:33.525Z"
   },
   {
    "duration": 154,
    "start_time": "2023-01-29T13:46:33.680Z"
   },
   {
    "duration": 170,
    "start_time": "2023-01-29T13:46:33.836Z"
   },
   {
    "duration": 224,
    "start_time": "2023-01-29T13:46:34.007Z"
   },
   {
    "duration": 155,
    "start_time": "2023-01-29T13:46:34.233Z"
   },
   {
    "duration": 122,
    "start_time": "2023-01-29T13:46:34.389Z"
   },
   {
    "duration": 142,
    "start_time": "2023-01-29T13:46:34.513Z"
   },
   {
    "duration": 133,
    "start_time": "2023-01-29T13:46:34.657Z"
   },
   {
    "duration": 127,
    "start_time": "2023-01-29T13:46:34.792Z"
   },
   {
    "duration": 117,
    "start_time": "2023-01-29T13:46:34.920Z"
   },
   {
    "duration": 114,
    "start_time": "2023-01-29T13:46:35.039Z"
   },
   {
    "duration": 156,
    "start_time": "2023-01-29T13:46:35.155Z"
   },
   {
    "duration": 166,
    "start_time": "2023-01-29T13:46:35.312Z"
   },
   {
    "duration": 306,
    "start_time": "2023-01-29T13:46:35.480Z"
   },
   {
    "duration": 168,
    "start_time": "2023-01-29T13:46:35.787Z"
   },
   {
    "duration": 163,
    "start_time": "2023-01-29T13:46:35.956Z"
   },
   {
    "duration": 157,
    "start_time": "2023-01-29T13:46:36.121Z"
   },
   {
    "duration": 146,
    "start_time": "2023-01-29T13:46:36.280Z"
   },
   {
    "duration": 123,
    "start_time": "2023-01-29T13:46:36.427Z"
   },
   {
    "duration": 143,
    "start_time": "2023-01-29T13:46:36.552Z"
   },
   {
    "duration": 164,
    "start_time": "2023-01-29T13:46:36.697Z"
   },
   {
    "duration": 120,
    "start_time": "2023-01-29T13:46:36.862Z"
   },
   {
    "duration": 12,
    "start_time": "2023-01-29T13:46:36.984Z"
   },
   {
    "duration": 10,
    "start_time": "2023-01-29T13:46:36.998Z"
   },
   {
    "duration": 12,
    "start_time": "2023-01-29T13:46:37.010Z"
   },
   {
    "duration": 23,
    "start_time": "2023-01-29T13:46:37.023Z"
   },
   {
    "duration": 22,
    "start_time": "2023-01-29T13:46:37.047Z"
   },
   {
    "duration": 164,
    "start_time": "2023-01-29T13:46:37.070Z"
   },
   {
    "duration": 637,
    "start_time": "2023-01-29T14:20:16.540Z"
   },
   {
    "duration": 92,
    "start_time": "2023-01-29T14:20:17.179Z"
   },
   {
    "duration": 38,
    "start_time": "2023-01-29T14:20:17.273Z"
   },
   {
    "duration": 15,
    "start_time": "2023-01-29T14:20:17.312Z"
   },
   {
    "duration": 1696,
    "start_time": "2023-01-29T14:20:17.329Z"
   },
   {
    "duration": 9,
    "start_time": "2023-01-29T14:20:19.027Z"
   },
   {
    "duration": 53,
    "start_time": "2023-01-29T14:20:19.038Z"
   },
   {
    "duration": 14,
    "start_time": "2023-01-29T14:20:19.092Z"
   },
   {
    "duration": 36,
    "start_time": "2023-01-29T14:20:19.108Z"
   },
   {
    "duration": 24,
    "start_time": "2023-01-29T14:20:19.146Z"
   },
   {
    "duration": 89,
    "start_time": "2023-01-29T14:20:19.172Z"
   },
   {
    "duration": 7,
    "start_time": "2023-01-29T14:20:19.263Z"
   },
   {
    "duration": 14,
    "start_time": "2023-01-29T14:20:19.271Z"
   },
   {
    "duration": 3,
    "start_time": "2023-01-29T14:20:19.289Z"
   },
   {
    "duration": 6,
    "start_time": "2023-01-29T14:20:19.293Z"
   },
   {
    "duration": 5,
    "start_time": "2023-01-29T14:20:19.300Z"
   },
   {
    "duration": 8,
    "start_time": "2023-01-29T14:20:19.306Z"
   },
   {
    "duration": 30,
    "start_time": "2023-01-29T14:20:19.316Z"
   },
   {
    "duration": 139,
    "start_time": "2023-01-29T14:20:19.347Z"
   },
   {
    "duration": 11,
    "start_time": "2023-01-29T14:20:19.488Z"
   },
   {
    "duration": 6,
    "start_time": "2023-01-29T14:20:19.501Z"
   },
   {
    "duration": 126,
    "start_time": "2023-01-29T14:20:19.508Z"
   },
   {
    "duration": 141,
    "start_time": "2023-01-29T14:20:19.636Z"
   },
   {
    "duration": 12,
    "start_time": "2023-01-29T14:20:19.779Z"
   },
   {
    "duration": 7,
    "start_time": "2023-01-29T14:20:19.792Z"
   },
   {
    "duration": 124,
    "start_time": "2023-01-29T14:20:19.801Z"
   },
   {
    "duration": 136,
    "start_time": "2023-01-29T14:20:19.926Z"
   },
   {
    "duration": 12,
    "start_time": "2023-01-29T14:20:20.063Z"
   },
   {
    "duration": 7,
    "start_time": "2023-01-29T14:20:20.077Z"
   },
   {
    "duration": 205,
    "start_time": "2023-01-29T14:20:20.085Z"
   },
   {
    "duration": 175,
    "start_time": "2023-01-29T14:20:20.292Z"
   },
   {
    "duration": 4,
    "start_time": "2023-01-29T14:20:20.468Z"
   },
   {
    "duration": 16,
    "start_time": "2023-01-29T14:20:20.474Z"
   },
   {
    "duration": 8,
    "start_time": "2023-01-29T14:20:20.492Z"
   },
   {
    "duration": 135,
    "start_time": "2023-01-29T14:20:20.501Z"
   },
   {
    "duration": 7,
    "start_time": "2023-01-29T14:20:20.643Z"
   },
   {
    "duration": 139,
    "start_time": "2023-01-29T14:20:20.651Z"
   },
   {
    "duration": 12,
    "start_time": "2023-01-29T14:20:20.792Z"
   },
   {
    "duration": 13,
    "start_time": "2023-01-29T14:20:20.805Z"
   },
   {
    "duration": 18,
    "start_time": "2023-01-29T14:20:20.819Z"
   },
   {
    "duration": 6,
    "start_time": "2023-01-29T14:20:20.847Z"
   },
   {
    "duration": 19,
    "start_time": "2023-01-29T14:20:20.854Z"
   },
   {
    "duration": 15,
    "start_time": "2023-01-29T14:20:20.874Z"
   },
   {
    "duration": 199,
    "start_time": "2023-01-29T14:20:20.891Z"
   },
   {
    "duration": 5,
    "start_time": "2023-01-29T14:20:21.092Z"
   },
   {
    "duration": 171,
    "start_time": "2023-01-29T14:20:21.098Z"
   },
   {
    "duration": 146,
    "start_time": "2023-01-29T14:20:21.271Z"
   },
   {
    "duration": 158,
    "start_time": "2023-01-29T14:20:21.419Z"
   },
   {
    "duration": 261,
    "start_time": "2023-01-29T14:20:21.579Z"
   },
   {
    "duration": 158,
    "start_time": "2023-01-29T14:20:21.844Z"
   },
   {
    "duration": 163,
    "start_time": "2023-01-29T14:20:22.004Z"
   },
   {
    "duration": 130,
    "start_time": "2023-01-29T14:20:22.169Z"
   },
   {
    "duration": 136,
    "start_time": "2023-01-29T14:20:22.300Z"
   },
   {
    "duration": 122,
    "start_time": "2023-01-29T14:20:22.443Z"
   },
   {
    "duration": 124,
    "start_time": "2023-01-29T14:20:22.566Z"
   },
   {
    "duration": 113,
    "start_time": "2023-01-29T14:20:22.691Z"
   },
   {
    "duration": 120,
    "start_time": "2023-01-29T14:20:22.805Z"
   },
   {
    "duration": 169,
    "start_time": "2023-01-29T14:20:22.927Z"
   },
   {
    "duration": 166,
    "start_time": "2023-01-29T14:20:23.098Z"
   },
   {
    "duration": 290,
    "start_time": "2023-01-29T14:20:23.265Z"
   },
   {
    "duration": 175,
    "start_time": "2023-01-29T14:20:23.557Z"
   },
   {
    "duration": 167,
    "start_time": "2023-01-29T14:20:23.734Z"
   },
   {
    "duration": 167,
    "start_time": "2023-01-29T14:20:23.903Z"
   },
   {
    "duration": 134,
    "start_time": "2023-01-29T14:20:24.072Z"
   },
   {
    "duration": 131,
    "start_time": "2023-01-29T14:20:24.207Z"
   },
   {
    "duration": 141,
    "start_time": "2023-01-29T14:20:24.339Z"
   },
   {
    "duration": 181,
    "start_time": "2023-01-29T14:20:24.482Z"
   },
   {
    "duration": 132,
    "start_time": "2023-01-29T14:20:24.665Z"
   },
   {
    "duration": 13,
    "start_time": "2023-01-29T14:20:24.798Z"
   },
   {
    "duration": 11,
    "start_time": "2023-01-29T14:20:24.813Z"
   },
   {
    "duration": 25,
    "start_time": "2023-01-29T14:20:24.825Z"
   },
   {
    "duration": 10,
    "start_time": "2023-01-29T14:20:24.852Z"
   },
   {
    "duration": 27,
    "start_time": "2023-01-29T14:20:24.863Z"
   },
   {
    "duration": 174,
    "start_time": "2023-01-29T14:20:24.891Z"
   },
   {
    "duration": 622,
    "start_time": "2023-01-29T14:21:41.836Z"
   },
   {
    "duration": 89,
    "start_time": "2023-01-29T14:21:42.460Z"
   },
   {
    "duration": 36,
    "start_time": "2023-01-29T14:21:42.551Z"
   },
   {
    "duration": 14,
    "start_time": "2023-01-29T14:21:42.589Z"
   },
   {
    "duration": 1748,
    "start_time": "2023-01-29T14:21:42.605Z"
   },
   {
    "duration": 8,
    "start_time": "2023-01-29T14:21:44.355Z"
   },
   {
    "duration": 57,
    "start_time": "2023-01-29T14:21:44.364Z"
   },
   {
    "duration": 13,
    "start_time": "2023-01-29T14:21:44.422Z"
   },
   {
    "duration": 25,
    "start_time": "2023-01-29T14:21:44.437Z"
   },
   {
    "duration": 22,
    "start_time": "2023-01-29T14:21:44.464Z"
   },
   {
    "duration": 86,
    "start_time": "2023-01-29T14:21:44.488Z"
   },
   {
    "duration": 7,
    "start_time": "2023-01-29T14:21:44.575Z"
   },
   {
    "duration": 14,
    "start_time": "2023-01-29T14:21:44.583Z"
   },
   {
    "duration": 4,
    "start_time": "2023-01-29T14:21:44.601Z"
   },
   {
    "duration": 8,
    "start_time": "2023-01-29T14:21:44.607Z"
   },
   {
    "duration": 28,
    "start_time": "2023-01-29T14:21:44.617Z"
   },
   {
    "duration": 6,
    "start_time": "2023-01-29T14:21:44.647Z"
   },
   {
    "duration": 10,
    "start_time": "2023-01-29T14:21:44.655Z"
   },
   {
    "duration": 152,
    "start_time": "2023-01-29T14:21:44.666Z"
   },
   {
    "duration": 24,
    "start_time": "2023-01-29T14:21:44.820Z"
   },
   {
    "duration": 7,
    "start_time": "2023-01-29T14:21:44.845Z"
   },
   {
    "duration": 119,
    "start_time": "2023-01-29T14:21:44.853Z"
   },
   {
    "duration": 150,
    "start_time": "2023-01-29T14:21:44.973Z"
   },
   {
    "duration": 21,
    "start_time": "2023-01-29T14:21:45.125Z"
   },
   {
    "duration": 10,
    "start_time": "2023-01-29T14:21:45.148Z"
   },
   {
    "duration": 124,
    "start_time": "2023-01-29T14:21:45.160Z"
   },
   {
    "duration": 107,
    "start_time": "2023-01-29T14:21:45.286Z"
   },
   {
    "duration": 12,
    "start_time": "2023-01-29T14:21:45.394Z"
   },
   {
    "duration": 13,
    "start_time": "2023-01-29T14:21:45.407Z"
   },
   {
    "duration": 195,
    "start_time": "2023-01-29T14:21:45.421Z"
   },
   {
    "duration": 159,
    "start_time": "2023-01-29T14:21:45.618Z"
   },
   {
    "duration": 4,
    "start_time": "2023-01-29T14:21:45.778Z"
   },
   {
    "duration": 22,
    "start_time": "2023-01-29T14:21:45.783Z"
   },
   {
    "duration": 7,
    "start_time": "2023-01-29T14:21:45.807Z"
   },
   {
    "duration": 132,
    "start_time": "2023-01-29T14:21:45.816Z"
   },
   {
    "duration": 6,
    "start_time": "2023-01-29T14:21:45.950Z"
   },
   {
    "duration": 141,
    "start_time": "2023-01-29T14:21:45.957Z"
   },
   {
    "duration": 14,
    "start_time": "2023-01-29T14:21:46.100Z"
   },
   {
    "duration": 4,
    "start_time": "2023-01-29T14:21:46.115Z"
   },
   {
    "duration": 34,
    "start_time": "2023-01-29T14:21:46.120Z"
   },
   {
    "duration": 7,
    "start_time": "2023-01-29T14:21:46.158Z"
   },
   {
    "duration": 15,
    "start_time": "2023-01-29T14:21:46.167Z"
   },
   {
    "duration": 6,
    "start_time": "2023-01-29T14:21:46.184Z"
   },
   {
    "duration": 263,
    "start_time": "2023-01-29T14:21:46.192Z"
   },
   {
    "duration": 6,
    "start_time": "2023-01-29T14:21:46.457Z"
   },
   {
    "duration": 167,
    "start_time": "2023-01-29T14:21:46.465Z"
   },
   {
    "duration": 163,
    "start_time": "2023-01-29T14:21:46.634Z"
   },
   {
    "duration": 168,
    "start_time": "2023-01-29T14:21:46.799Z"
   },
   {
    "duration": 163,
    "start_time": "2023-01-29T14:21:46.969Z"
   },
   {
    "duration": 252,
    "start_time": "2023-01-29T14:21:47.133Z"
   },
   {
    "duration": 167,
    "start_time": "2023-01-29T14:21:47.386Z"
   },
   {
    "duration": 130,
    "start_time": "2023-01-29T14:21:47.555Z"
   },
   {
    "duration": 135,
    "start_time": "2023-01-29T14:21:47.687Z"
   },
   {
    "duration": 131,
    "start_time": "2023-01-29T14:21:47.824Z"
   },
   {
    "duration": 102,
    "start_time": "2023-01-29T14:21:47.956Z"
   },
   {
    "duration": 129,
    "start_time": "2023-01-29T14:21:48.059Z"
   },
   {
    "duration": 125,
    "start_time": "2023-01-29T14:21:48.189Z"
   },
   {
    "duration": 167,
    "start_time": "2023-01-29T14:21:48.316Z"
   },
   {
    "duration": 151,
    "start_time": "2023-01-29T14:21:48.484Z"
   },
   {
    "duration": 288,
    "start_time": "2023-01-29T14:21:48.643Z"
   },
   {
    "duration": 167,
    "start_time": "2023-01-29T14:21:48.932Z"
   },
   {
    "duration": 168,
    "start_time": "2023-01-29T14:21:49.101Z"
   },
   {
    "duration": 173,
    "start_time": "2023-01-29T14:21:49.271Z"
   },
   {
    "duration": 139,
    "start_time": "2023-01-29T14:21:49.445Z"
   },
   {
    "duration": 112,
    "start_time": "2023-01-29T14:21:49.586Z"
   },
   {
    "duration": 130,
    "start_time": "2023-01-29T14:21:49.700Z"
   },
   {
    "duration": 142,
    "start_time": "2023-01-29T14:21:49.832Z"
   },
   {
    "duration": 131,
    "start_time": "2023-01-29T14:21:49.975Z"
   },
   {
    "duration": 14,
    "start_time": "2023-01-29T14:21:50.108Z"
   },
   {
    "duration": 23,
    "start_time": "2023-01-29T14:21:50.124Z"
   },
   {
    "duration": 8,
    "start_time": "2023-01-29T14:21:50.149Z"
   },
   {
    "duration": 12,
    "start_time": "2023-01-29T14:21:50.158Z"
   },
   {
    "duration": 23,
    "start_time": "2023-01-29T14:21:50.172Z"
   },
   {
    "duration": 179,
    "start_time": "2023-01-29T14:21:50.196Z"
   },
   {
    "duration": 163,
    "start_time": "2023-01-29T14:22:53.385Z"
   },
   {
    "duration": 4,
    "start_time": "2023-01-29T14:27:42.273Z"
   },
   {
    "duration": 19,
    "start_time": "2023-01-29T14:32:10.105Z"
   },
   {
    "duration": 26,
    "start_time": "2023-01-29T14:32:21.485Z"
   },
   {
    "duration": 657,
    "start_time": "2023-01-29T14:32:50.249Z"
   },
   {
    "duration": 93,
    "start_time": "2023-01-29T14:32:50.909Z"
   },
   {
    "duration": 44,
    "start_time": "2023-01-29T14:32:51.004Z"
   },
   {
    "duration": 14,
    "start_time": "2023-01-29T14:32:51.050Z"
   },
   {
    "duration": 1879,
    "start_time": "2023-01-29T14:32:51.066Z"
   },
   {
    "duration": 9,
    "start_time": "2023-01-29T14:32:52.946Z"
   },
   {
    "duration": 58,
    "start_time": "2023-01-29T14:32:52.956Z"
   },
   {
    "duration": 27,
    "start_time": "2023-01-29T14:32:53.016Z"
   },
   {
    "duration": 22,
    "start_time": "2023-01-29T14:32:53.045Z"
   },
   {
    "duration": 22,
    "start_time": "2023-01-29T14:32:53.069Z"
   },
   {
    "duration": 94,
    "start_time": "2023-01-29T14:32:53.093Z"
   },
   {
    "duration": 6,
    "start_time": "2023-01-29T14:32:53.188Z"
   },
   {
    "duration": 13,
    "start_time": "2023-01-29T14:32:53.196Z"
   },
   {
    "duration": 5,
    "start_time": "2023-01-29T14:32:53.212Z"
   },
   {
    "duration": 26,
    "start_time": "2023-01-29T14:32:53.218Z"
   },
   {
    "duration": 5,
    "start_time": "2023-01-29T14:32:53.245Z"
   },
   {
    "duration": 5,
    "start_time": "2023-01-29T14:32:53.251Z"
   },
   {
    "duration": 17,
    "start_time": "2023-01-29T14:32:53.257Z"
   },
   {
    "duration": 151,
    "start_time": "2023-01-29T14:32:53.276Z"
   },
   {
    "duration": 16,
    "start_time": "2023-01-29T14:32:53.428Z"
   },
   {
    "duration": 6,
    "start_time": "2023-01-29T14:32:53.445Z"
   },
   {
    "duration": 131,
    "start_time": "2023-01-29T14:32:53.453Z"
   },
   {
    "duration": 151,
    "start_time": "2023-01-29T14:32:53.585Z"
   },
   {
    "duration": 15,
    "start_time": "2023-01-29T14:32:53.738Z"
   },
   {
    "duration": 17,
    "start_time": "2023-01-29T14:32:53.755Z"
   },
   {
    "duration": 123,
    "start_time": "2023-01-29T14:32:53.774Z"
   },
   {
    "duration": 29,
    "start_time": "2023-01-29T14:32:53.898Z"
   },
   {
    "duration": 187,
    "start_time": "2023-01-29T14:32:53.928Z"
   },
   {
    "duration": 37,
    "start_time": "2023-01-29T14:32:54.117Z"
   },
   {
    "duration": 13,
    "start_time": "2023-01-29T14:32:54.156Z"
   },
   {
    "duration": 7,
    "start_time": "2023-01-29T14:32:54.171Z"
   },
   {
    "duration": 212,
    "start_time": "2023-01-29T14:32:54.179Z"
   },
   {
    "duration": 161,
    "start_time": "2023-01-29T14:32:54.393Z"
   },
   {
    "duration": 3,
    "start_time": "2023-01-29T14:32:54.556Z"
   },
   {
    "duration": 19,
    "start_time": "2023-01-29T14:32:54.561Z"
   },
   {
    "duration": 21,
    "start_time": "2023-01-29T14:32:54.581Z"
   },
   {
    "duration": 169,
    "start_time": "2023-01-29T14:32:54.604Z"
   },
   {
    "duration": 7,
    "start_time": "2023-01-29T14:32:54.774Z"
   },
   {
    "duration": 140,
    "start_time": "2023-01-29T14:32:54.782Z"
   },
   {
    "duration": 24,
    "start_time": "2023-01-29T14:32:54.924Z"
   },
   {
    "duration": 4,
    "start_time": "2023-01-29T14:32:54.952Z"
   },
   {
    "duration": 19,
    "start_time": "2023-01-29T14:32:54.957Z"
   },
   {
    "duration": 11,
    "start_time": "2023-01-29T14:32:54.977Z"
   },
   {
    "duration": 5,
    "start_time": "2023-01-29T14:32:54.990Z"
   },
   {
    "duration": 13,
    "start_time": "2023-01-29T14:32:54.997Z"
   },
   {
    "duration": 279,
    "start_time": "2023-01-29T14:32:55.012Z"
   },
   {
    "duration": 7,
    "start_time": "2023-01-29T14:32:55.292Z"
   },
   {
    "duration": 192,
    "start_time": "2023-01-29T14:32:55.300Z"
   },
   {
    "duration": 182,
    "start_time": "2023-01-29T14:32:55.493Z"
   },
   {
    "duration": 176,
    "start_time": "2023-01-29T14:32:55.677Z"
   },
   {
    "duration": 190,
    "start_time": "2023-01-29T14:32:55.854Z"
   },
   {
    "duration": 245,
    "start_time": "2023-01-29T14:32:56.046Z"
   },
   {
    "duration": 181,
    "start_time": "2023-01-29T14:32:56.293Z"
   },
   {
    "duration": 137,
    "start_time": "2023-01-29T14:32:56.476Z"
   },
   {
    "duration": 151,
    "start_time": "2023-01-29T14:32:56.614Z"
   },
   {
    "duration": 134,
    "start_time": "2023-01-29T14:32:56.766Z"
   },
   {
    "duration": 113,
    "start_time": "2023-01-29T14:32:56.902Z"
   },
   {
    "duration": 136,
    "start_time": "2023-01-29T14:32:57.016Z"
   },
   {
    "duration": 140,
    "start_time": "2023-01-29T14:32:57.154Z"
   },
   {
    "duration": 178,
    "start_time": "2023-01-29T14:32:57.295Z"
   },
   {
    "duration": 169,
    "start_time": "2023-01-29T14:32:57.475Z"
   },
   {
    "duration": 300,
    "start_time": "2023-01-29T14:32:57.645Z"
   },
   {
    "duration": 178,
    "start_time": "2023-01-29T14:32:57.947Z"
   },
   {
    "duration": 181,
    "start_time": "2023-01-29T14:32:58.127Z"
   },
   {
    "duration": 188,
    "start_time": "2023-01-29T14:32:58.309Z"
   },
   {
    "duration": 157,
    "start_time": "2023-01-29T14:32:58.498Z"
   },
   {
    "duration": 129,
    "start_time": "2023-01-29T14:32:58.656Z"
   },
   {
    "duration": 140,
    "start_time": "2023-01-29T14:32:58.787Z"
   },
   {
    "duration": 159,
    "start_time": "2023-01-29T14:32:58.929Z"
   },
   {
    "duration": 140,
    "start_time": "2023-01-29T14:32:59.090Z"
   },
   {
    "duration": 17,
    "start_time": "2023-01-29T14:32:59.232Z"
   },
   {
    "duration": 13,
    "start_time": "2023-01-29T14:32:59.250Z"
   },
   {
    "duration": 7,
    "start_time": "2023-01-29T14:32:59.265Z"
   },
   {
    "duration": 15,
    "start_time": "2023-01-29T14:32:59.273Z"
   },
   {
    "duration": 24,
    "start_time": "2023-01-29T14:32:59.289Z"
   },
   {
    "duration": 197,
    "start_time": "2023-01-29T14:32:59.314Z"
   },
   {
    "duration": 43,
    "start_time": "2023-01-29T14:59:15.266Z"
   },
   {
    "duration": 630,
    "start_time": "2023-01-29T14:59:38.256Z"
   },
   {
    "duration": 93,
    "start_time": "2023-01-29T14:59:38.888Z"
   },
   {
    "duration": 36,
    "start_time": "2023-01-29T14:59:38.982Z"
   },
   {
    "duration": 26,
    "start_time": "2023-01-29T14:59:39.019Z"
   },
   {
    "duration": 1698,
    "start_time": "2023-01-29T14:59:39.046Z"
   },
   {
    "duration": 8,
    "start_time": "2023-01-29T14:59:40.746Z"
   },
   {
    "duration": 45,
    "start_time": "2023-01-29T14:59:40.755Z"
   },
   {
    "duration": 12,
    "start_time": "2023-01-29T14:59:40.802Z"
   },
   {
    "duration": 40,
    "start_time": "2023-01-29T14:59:40.816Z"
   },
   {
    "duration": 23,
    "start_time": "2023-01-29T14:59:40.857Z"
   },
   {
    "duration": 85,
    "start_time": "2023-01-29T14:59:40.881Z"
   },
   {
    "duration": 6,
    "start_time": "2023-01-29T14:59:40.968Z"
   },
   {
    "duration": 17,
    "start_time": "2023-01-29T14:59:40.975Z"
   },
   {
    "duration": 4,
    "start_time": "2023-01-29T14:59:40.994Z"
   },
   {
    "duration": 5,
    "start_time": "2023-01-29T14:59:40.999Z"
   },
   {
    "duration": 11,
    "start_time": "2023-01-29T14:59:41.005Z"
   },
   {
    "duration": 18,
    "start_time": "2023-01-29T14:59:41.018Z"
   },
   {
    "duration": 20,
    "start_time": "2023-01-29T14:59:41.037Z"
   },
   {
    "duration": 137,
    "start_time": "2023-01-29T14:59:41.059Z"
   },
   {
    "duration": 12,
    "start_time": "2023-01-29T14:59:41.197Z"
   },
   {
    "duration": 6,
    "start_time": "2023-01-29T14:59:41.210Z"
   },
   {
    "duration": 127,
    "start_time": "2023-01-29T14:59:41.218Z"
   },
   {
    "duration": 133,
    "start_time": "2023-01-29T14:59:41.347Z"
   },
   {
    "duration": 11,
    "start_time": "2023-01-29T14:59:41.482Z"
   },
   {
    "duration": 6,
    "start_time": "2023-01-29T14:59:41.494Z"
   },
   {
    "duration": 123,
    "start_time": "2023-01-29T14:59:41.501Z"
   },
   {
    "duration": 50,
    "start_time": "2023-01-29T14:59:41.626Z"
   },
   {
    "duration": 170,
    "start_time": "2023-01-29T14:59:41.677Z"
   },
   {
    "duration": 26,
    "start_time": "2023-01-29T14:59:41.848Z"
   },
   {
    "duration": 12,
    "start_time": "2023-01-29T14:59:41.875Z"
   },
   {
    "duration": 6,
    "start_time": "2023-01-29T14:59:41.888Z"
   },
   {
    "duration": 205,
    "start_time": "2023-01-29T14:59:41.896Z"
   },
   {
    "duration": 156,
    "start_time": "2023-01-29T14:59:42.103Z"
   },
   {
    "duration": 4,
    "start_time": "2023-01-29T14:59:42.260Z"
   },
   {
    "duration": 23,
    "start_time": "2023-01-29T14:59:42.265Z"
   },
   {
    "duration": 7,
    "start_time": "2023-01-29T14:59:42.290Z"
   },
   {
    "duration": 129,
    "start_time": "2023-01-29T14:59:42.298Z"
   },
   {
    "duration": 15,
    "start_time": "2023-01-29T14:59:42.429Z"
   },
   {
    "duration": 137,
    "start_time": "2023-01-29T14:59:42.445Z"
   },
   {
    "duration": 12,
    "start_time": "2023-01-29T14:59:42.584Z"
   },
   {
    "duration": 3,
    "start_time": "2023-01-29T14:59:42.600Z"
   },
   {
    "duration": 17,
    "start_time": "2023-01-29T14:59:42.605Z"
   },
   {
    "duration": 24,
    "start_time": "2023-01-29T14:59:42.623Z"
   },
   {
    "duration": 6,
    "start_time": "2023-01-29T14:59:42.648Z"
   },
   {
    "duration": 6,
    "start_time": "2023-01-29T14:59:42.655Z"
   },
   {
    "duration": 259,
    "start_time": "2023-01-29T14:59:42.662Z"
   },
   {
    "duration": 6,
    "start_time": "2023-01-29T14:59:42.923Z"
   },
   {
    "duration": 161,
    "start_time": "2023-01-29T14:59:42.931Z"
   },
   {
    "duration": 166,
    "start_time": "2023-01-29T14:59:43.094Z"
   },
   {
    "duration": 173,
    "start_time": "2023-01-29T14:59:43.262Z"
   },
   {
    "duration": 162,
    "start_time": "2023-01-29T14:59:43.437Z"
   },
   {
    "duration": 234,
    "start_time": "2023-01-29T14:59:43.601Z"
   },
   {
    "duration": 175,
    "start_time": "2023-01-29T14:59:43.837Z"
   },
   {
    "duration": 133,
    "start_time": "2023-01-29T14:59:44.013Z"
   },
   {
    "duration": 136,
    "start_time": "2023-01-29T14:59:44.147Z"
   },
   {
    "duration": 127,
    "start_time": "2023-01-29T14:59:44.284Z"
   },
   {
    "duration": 109,
    "start_time": "2023-01-29T14:59:44.413Z"
   },
   {
    "duration": 146,
    "start_time": "2023-01-29T14:59:44.524Z"
   },
   {
    "duration": 131,
    "start_time": "2023-01-29T14:59:44.671Z"
   },
   {
    "duration": 178,
    "start_time": "2023-01-29T14:59:44.804Z"
   },
   {
    "duration": 163,
    "start_time": "2023-01-29T14:59:44.983Z"
   },
   {
    "duration": 286,
    "start_time": "2023-01-29T14:59:45.147Z"
   },
   {
    "duration": 159,
    "start_time": "2023-01-29T14:59:45.434Z"
   },
   {
    "duration": 174,
    "start_time": "2023-01-29T14:59:45.595Z"
   },
   {
    "duration": 173,
    "start_time": "2023-01-29T14:59:45.771Z"
   },
   {
    "duration": 137,
    "start_time": "2023-01-29T14:59:45.946Z"
   },
   {
    "duration": 117,
    "start_time": "2023-01-29T14:59:46.084Z"
   },
   {
    "duration": 130,
    "start_time": "2023-01-29T14:59:46.202Z"
   },
   {
    "duration": 155,
    "start_time": "2023-01-29T14:59:46.333Z"
   },
   {
    "duration": 133,
    "start_time": "2023-01-29T14:59:46.489Z"
   },
   {
    "duration": 20,
    "start_time": "2023-01-29T14:59:46.624Z"
   },
   {
    "duration": 12,
    "start_time": "2023-01-29T14:59:46.646Z"
   },
   {
    "duration": 7,
    "start_time": "2023-01-29T14:59:46.660Z"
   },
   {
    "duration": 8,
    "start_time": "2023-01-29T14:59:46.669Z"
   },
   {
    "duration": 28,
    "start_time": "2023-01-29T14:59:46.679Z"
   },
   {
    "duration": 182,
    "start_time": "2023-01-29T14:59:46.709Z"
   },
   {
    "duration": 30,
    "start_time": "2023-01-29T15:00:29.002Z"
   },
   {
    "duration": 159,
    "start_time": "2023-01-29T15:01:21.072Z"
   },
   {
    "duration": 32,
    "start_time": "2023-01-29T15:01:29.557Z"
   },
   {
    "duration": 629,
    "start_time": "2023-01-29T15:01:58.659Z"
   },
   {
    "duration": 89,
    "start_time": "2023-01-29T15:01:59.290Z"
   },
   {
    "duration": 37,
    "start_time": "2023-01-29T15:01:59.380Z"
   },
   {
    "duration": 13,
    "start_time": "2023-01-29T15:01:59.418Z"
   },
   {
    "duration": 1725,
    "start_time": "2023-01-29T15:01:59.444Z"
   },
   {
    "duration": 8,
    "start_time": "2023-01-29T15:02:01.170Z"
   },
   {
    "duration": 59,
    "start_time": "2023-01-29T15:02:01.179Z"
   },
   {
    "duration": 12,
    "start_time": "2023-01-29T15:02:01.240Z"
   },
   {
    "duration": 31,
    "start_time": "2023-01-29T15:02:01.253Z"
   },
   {
    "duration": 35,
    "start_time": "2023-01-29T15:02:01.286Z"
   },
   {
    "duration": 72,
    "start_time": "2023-01-29T15:02:01.323Z"
   },
   {
    "duration": 6,
    "start_time": "2023-01-29T15:02:01.396Z"
   },
   {
    "duration": 17,
    "start_time": "2023-01-29T15:02:01.403Z"
   },
   {
    "duration": 26,
    "start_time": "2023-01-29T15:02:01.422Z"
   },
   {
    "duration": 39,
    "start_time": "2023-01-29T15:02:01.449Z"
   },
   {
    "duration": 15,
    "start_time": "2023-01-29T15:02:01.489Z"
   },
   {
    "duration": 16,
    "start_time": "2023-01-29T15:02:01.505Z"
   },
   {
    "duration": 21,
    "start_time": "2023-01-29T15:02:01.523Z"
   },
   {
    "duration": 179,
    "start_time": "2023-01-29T15:02:01.545Z"
   },
   {
    "duration": 19,
    "start_time": "2023-01-29T15:02:01.725Z"
   },
   {
    "duration": 8,
    "start_time": "2023-01-29T15:02:01.745Z"
   },
   {
    "duration": 131,
    "start_time": "2023-01-29T15:02:01.755Z"
   },
   {
    "duration": 137,
    "start_time": "2023-01-29T15:02:01.887Z"
   },
   {
    "duration": 19,
    "start_time": "2023-01-29T15:02:02.025Z"
   },
   {
    "duration": 7,
    "start_time": "2023-01-29T15:02:02.045Z"
   },
   {
    "duration": 127,
    "start_time": "2023-01-29T15:02:02.053Z"
   },
   {
    "duration": 33,
    "start_time": "2023-01-29T15:02:02.181Z"
   },
   {
    "duration": 176,
    "start_time": "2023-01-29T15:02:02.218Z"
   },
   {
    "duration": 26,
    "start_time": "2023-01-29T15:02:02.395Z"
   },
   {
    "duration": 23,
    "start_time": "2023-01-29T15:02:02.422Z"
   },
   {
    "duration": 6,
    "start_time": "2023-01-29T15:02:02.447Z"
   },
   {
    "duration": 205,
    "start_time": "2023-01-29T15:02:02.454Z"
   },
   {
    "duration": 150,
    "start_time": "2023-01-29T15:02:02.661Z"
   },
   {
    "duration": 5,
    "start_time": "2023-01-29T15:02:02.813Z"
   },
   {
    "duration": 36,
    "start_time": "2023-01-29T15:02:02.820Z"
   },
   {
    "duration": 19,
    "start_time": "2023-01-29T15:02:02.857Z"
   },
   {
    "duration": 119,
    "start_time": "2023-01-29T15:02:02.878Z"
   },
   {
    "duration": 6,
    "start_time": "2023-01-29T15:02:02.998Z"
   },
   {
    "duration": 130,
    "start_time": "2023-01-29T15:02:03.005Z"
   },
   {
    "duration": 12,
    "start_time": "2023-01-29T15:02:03.143Z"
   },
   {
    "duration": 7,
    "start_time": "2023-01-29T15:02:03.156Z"
   },
   {
    "duration": 23,
    "start_time": "2023-01-29T15:02:03.164Z"
   },
   {
    "duration": 12,
    "start_time": "2023-01-29T15:02:03.189Z"
   },
   {
    "duration": 11,
    "start_time": "2023-01-29T15:02:03.202Z"
   },
   {
    "duration": 23,
    "start_time": "2023-01-29T15:02:03.215Z"
   },
   {
    "duration": 244,
    "start_time": "2023-01-29T15:02:03.240Z"
   },
   {
    "duration": 5,
    "start_time": "2023-01-29T15:02:03.485Z"
   },
   {
    "duration": 169,
    "start_time": "2023-01-29T15:02:03.492Z"
   },
   {
    "duration": 151,
    "start_time": "2023-01-29T15:02:03.662Z"
   },
   {
    "duration": 163,
    "start_time": "2023-01-29T15:02:03.815Z"
   },
   {
    "duration": 167,
    "start_time": "2023-01-29T15:02:03.979Z"
   },
   {
    "duration": 245,
    "start_time": "2023-01-29T15:02:04.148Z"
   },
   {
    "duration": 169,
    "start_time": "2023-01-29T15:02:04.394Z"
   },
   {
    "duration": 151,
    "start_time": "2023-01-29T15:02:04.565Z"
   },
   {
    "duration": 163,
    "start_time": "2023-01-29T15:02:04.718Z"
   },
   {
    "duration": 145,
    "start_time": "2023-01-29T15:02:04.883Z"
   },
   {
    "duration": 138,
    "start_time": "2023-01-29T15:02:05.030Z"
   },
   {
    "duration": 126,
    "start_time": "2023-01-29T15:02:05.170Z"
   },
   {
    "duration": 136,
    "start_time": "2023-01-29T15:02:05.297Z"
   },
   {
    "duration": 183,
    "start_time": "2023-01-29T15:02:05.435Z"
   },
   {
    "duration": 168,
    "start_time": "2023-01-29T15:02:05.619Z"
   },
   {
    "duration": 308,
    "start_time": "2023-01-29T15:02:05.789Z"
   },
   {
    "duration": 177,
    "start_time": "2023-01-29T15:02:06.099Z"
   },
   {
    "duration": 185,
    "start_time": "2023-01-29T15:02:06.278Z"
   },
   {
    "duration": 185,
    "start_time": "2023-01-29T15:02:06.465Z"
   },
   {
    "duration": 150,
    "start_time": "2023-01-29T15:02:06.652Z"
   },
   {
    "duration": 125,
    "start_time": "2023-01-29T15:02:06.804Z"
   },
   {
    "duration": 136,
    "start_time": "2023-01-29T15:02:06.931Z"
   },
   {
    "duration": 153,
    "start_time": "2023-01-29T15:02:07.069Z"
   },
   {
    "duration": 153,
    "start_time": "2023-01-29T15:02:07.224Z"
   },
   {
    "duration": 15,
    "start_time": "2023-01-29T15:02:07.379Z"
   },
   {
    "duration": 13,
    "start_time": "2023-01-29T15:02:07.395Z"
   },
   {
    "duration": 8,
    "start_time": "2023-01-29T15:02:07.410Z"
   },
   {
    "duration": 6,
    "start_time": "2023-01-29T15:02:07.444Z"
   },
   {
    "duration": 25,
    "start_time": "2023-01-29T15:02:07.452Z"
   },
   {
    "duration": 173,
    "start_time": "2023-01-29T15:02:07.479Z"
   },
   {
    "duration": 605,
    "start_time": "2023-01-29T15:06:03.857Z"
   },
   {
    "duration": 90,
    "start_time": "2023-01-29T15:06:04.464Z"
   },
   {
    "duration": 36,
    "start_time": "2023-01-29T15:06:04.556Z"
   },
   {
    "duration": 14,
    "start_time": "2023-01-29T15:06:04.593Z"
   },
   {
    "duration": 1783,
    "start_time": "2023-01-29T15:06:04.609Z"
   },
   {
    "duration": 8,
    "start_time": "2023-01-29T15:06:06.394Z"
   },
   {
    "duration": 53,
    "start_time": "2023-01-29T15:06:06.404Z"
   },
   {
    "duration": 13,
    "start_time": "2023-01-29T15:06:06.458Z"
   },
   {
    "duration": 20,
    "start_time": "2023-01-29T15:06:06.473Z"
   },
   {
    "duration": 23,
    "start_time": "2023-01-29T15:06:06.495Z"
   },
   {
    "duration": 71,
    "start_time": "2023-01-29T15:06:06.544Z"
   },
   {
    "duration": 6,
    "start_time": "2023-01-29T15:06:06.616Z"
   },
   {
    "duration": 26,
    "start_time": "2023-01-29T15:06:06.624Z"
   },
   {
    "duration": 3,
    "start_time": "2023-01-29T15:06:06.653Z"
   },
   {
    "duration": 15,
    "start_time": "2023-01-29T15:06:06.657Z"
   },
   {
    "duration": 14,
    "start_time": "2023-01-29T15:06:06.673Z"
   },
   {
    "duration": 14,
    "start_time": "2023-01-29T15:06:06.689Z"
   },
   {
    "duration": 15,
    "start_time": "2023-01-29T15:06:06.704Z"
   },
   {
    "duration": 146,
    "start_time": "2023-01-29T15:06:06.721Z"
   },
   {
    "duration": 11,
    "start_time": "2023-01-29T15:06:06.868Z"
   },
   {
    "duration": 15,
    "start_time": "2023-01-29T15:06:06.881Z"
   },
   {
    "duration": 113,
    "start_time": "2023-01-29T15:06:06.898Z"
   },
   {
    "duration": 147,
    "start_time": "2023-01-29T15:06:07.012Z"
   },
   {
    "duration": 12,
    "start_time": "2023-01-29T15:06:07.161Z"
   },
   {
    "duration": 7,
    "start_time": "2023-01-29T15:06:07.174Z"
   },
   {
    "duration": 144,
    "start_time": "2023-01-29T15:06:07.183Z"
   },
   {
    "duration": 42,
    "start_time": "2023-01-29T15:06:07.329Z"
   },
   {
    "duration": 174,
    "start_time": "2023-01-29T15:06:07.372Z"
   },
   {
    "duration": 28,
    "start_time": "2023-01-29T15:06:07.547Z"
   },
   {
    "duration": 14,
    "start_time": "2023-01-29T15:06:07.576Z"
   },
   {
    "duration": 6,
    "start_time": "2023-01-29T15:06:07.592Z"
   },
   {
    "duration": 207,
    "start_time": "2023-01-29T15:06:07.599Z"
   },
   {
    "duration": 156,
    "start_time": "2023-01-29T15:06:07.807Z"
   },
   {
    "duration": 4,
    "start_time": "2023-01-29T15:06:07.965Z"
   },
   {
    "duration": 24,
    "start_time": "2023-01-29T15:06:07.970Z"
   },
   {
    "duration": 8,
    "start_time": "2023-01-29T15:06:07.995Z"
   },
   {
    "duration": 126,
    "start_time": "2023-01-29T15:06:08.004Z"
   },
   {
    "duration": 14,
    "start_time": "2023-01-29T15:06:08.132Z"
   },
   {
    "duration": 128,
    "start_time": "2023-01-29T15:06:08.147Z"
   },
   {
    "duration": 12,
    "start_time": "2023-01-29T15:06:08.277Z"
   },
   {
    "duration": 4,
    "start_time": "2023-01-29T15:06:08.293Z"
   },
   {
    "duration": 42,
    "start_time": "2023-01-29T15:06:08.298Z"
   },
   {
    "duration": 6,
    "start_time": "2023-01-29T15:06:08.342Z"
   },
   {
    "duration": 7,
    "start_time": "2023-01-29T15:06:08.349Z"
   },
   {
    "duration": 6,
    "start_time": "2023-01-29T15:06:08.357Z"
   },
   {
    "duration": 255,
    "start_time": "2023-01-29T15:06:08.364Z"
   },
   {
    "duration": 5,
    "start_time": "2023-01-29T15:06:08.621Z"
   },
   {
    "duration": 164,
    "start_time": "2023-01-29T15:06:08.628Z"
   },
   {
    "duration": 152,
    "start_time": "2023-01-29T15:06:08.794Z"
   },
   {
    "duration": 163,
    "start_time": "2023-01-29T15:06:08.947Z"
   },
   {
    "duration": 161,
    "start_time": "2023-01-29T15:06:09.111Z"
   },
   {
    "duration": 223,
    "start_time": "2023-01-29T15:06:09.273Z"
   },
   {
    "duration": 171,
    "start_time": "2023-01-29T15:06:09.497Z"
   },
   {
    "duration": 124,
    "start_time": "2023-01-29T15:06:09.669Z"
   },
   {
    "duration": 145,
    "start_time": "2023-01-29T15:06:09.794Z"
   },
   {
    "duration": 135,
    "start_time": "2023-01-29T15:06:09.943Z"
   },
   {
    "duration": 101,
    "start_time": "2023-01-29T15:06:10.079Z"
   },
   {
    "duration": 125,
    "start_time": "2023-01-29T15:06:10.181Z"
   },
   {
    "duration": 123,
    "start_time": "2023-01-29T15:06:10.307Z"
   },
   {
    "duration": 175,
    "start_time": "2023-01-29T15:06:10.431Z"
   },
   {
    "duration": 157,
    "start_time": "2023-01-29T15:06:10.608Z"
   },
   {
    "duration": 289,
    "start_time": "2023-01-29T15:06:10.766Z"
   },
   {
    "duration": 167,
    "start_time": "2023-01-29T15:06:11.057Z"
   },
   {
    "duration": 168,
    "start_time": "2023-01-29T15:06:11.225Z"
   },
   {
    "duration": 167,
    "start_time": "2023-01-29T15:06:11.395Z"
   },
   {
    "duration": 142,
    "start_time": "2023-01-29T15:06:11.564Z"
   },
   {
    "duration": 120,
    "start_time": "2023-01-29T15:06:11.707Z"
   },
   {
    "duration": 127,
    "start_time": "2023-01-29T15:06:11.829Z"
   },
   {
    "duration": 145,
    "start_time": "2023-01-29T15:06:11.958Z"
   },
   {
    "duration": 130,
    "start_time": "2023-01-29T15:06:12.105Z"
   },
   {
    "duration": 18,
    "start_time": "2023-01-29T15:06:12.237Z"
   },
   {
    "duration": 13,
    "start_time": "2023-01-29T15:06:12.256Z"
   },
   {
    "duration": 8,
    "start_time": "2023-01-29T15:06:12.270Z"
   },
   {
    "duration": 10,
    "start_time": "2023-01-29T15:06:12.280Z"
   },
   {
    "duration": 27,
    "start_time": "2023-01-29T15:06:12.291Z"
   },
   {
    "duration": 164,
    "start_time": "2023-01-29T15:06:12.343Z"
   },
   {
    "duration": 601,
    "start_time": "2023-01-29T15:08:26.143Z"
   },
   {
    "duration": 88,
    "start_time": "2023-01-29T15:08:26.745Z"
   },
   {
    "duration": 35,
    "start_time": "2023-01-29T15:08:26.834Z"
   },
   {
    "duration": 13,
    "start_time": "2023-01-29T15:08:26.870Z"
   },
   {
    "duration": 1704,
    "start_time": "2023-01-29T15:08:26.885Z"
   },
   {
    "duration": 8,
    "start_time": "2023-01-29T15:08:28.590Z"
   },
   {
    "duration": 52,
    "start_time": "2023-01-29T15:08:28.599Z"
   },
   {
    "duration": 13,
    "start_time": "2023-01-29T15:08:28.653Z"
   },
   {
    "duration": 22,
    "start_time": "2023-01-29T15:08:28.667Z"
   },
   {
    "duration": 25,
    "start_time": "2023-01-29T15:08:28.691Z"
   },
   {
    "duration": 96,
    "start_time": "2023-01-29T15:08:28.717Z"
   },
   {
    "duration": 6,
    "start_time": "2023-01-29T15:08:28.815Z"
   },
   {
    "duration": 31,
    "start_time": "2023-01-29T15:08:28.822Z"
   },
   {
    "duration": 3,
    "start_time": "2023-01-29T15:08:28.855Z"
   },
   {
    "duration": 5,
    "start_time": "2023-01-29T15:08:28.860Z"
   },
   {
    "duration": 5,
    "start_time": "2023-01-29T15:08:28.867Z"
   },
   {
    "duration": 11,
    "start_time": "2023-01-29T15:08:28.873Z"
   },
   {
    "duration": 6,
    "start_time": "2023-01-29T15:08:28.886Z"
   },
   {
    "duration": 162,
    "start_time": "2023-01-29T15:08:28.893Z"
   },
   {
    "duration": 13,
    "start_time": "2023-01-29T15:08:29.057Z"
   },
   {
    "duration": 7,
    "start_time": "2023-01-29T15:08:29.072Z"
   },
   {
    "duration": 123,
    "start_time": "2023-01-29T15:08:29.081Z"
   },
   {
    "duration": 142,
    "start_time": "2023-01-29T15:08:29.206Z"
   },
   {
    "duration": 13,
    "start_time": "2023-01-29T15:08:29.350Z"
   },
   {
    "duration": 8,
    "start_time": "2023-01-29T15:08:29.365Z"
   },
   {
    "duration": 142,
    "start_time": "2023-01-29T15:08:29.375Z"
   },
   {
    "duration": 39,
    "start_time": "2023-01-29T15:08:29.519Z"
   },
   {
    "duration": 167,
    "start_time": "2023-01-29T15:08:29.560Z"
   },
   {
    "duration": 31,
    "start_time": "2023-01-29T15:08:29.728Z"
   },
   {
    "duration": 12,
    "start_time": "2023-01-29T15:08:29.760Z"
   },
   {
    "duration": 6,
    "start_time": "2023-01-29T15:08:29.774Z"
   },
   {
    "duration": 198,
    "start_time": "2023-01-29T15:08:29.781Z"
   },
   {
    "duration": 145,
    "start_time": "2023-01-29T15:08:29.980Z"
   },
   {
    "duration": 4,
    "start_time": "2023-01-29T15:08:30.126Z"
   },
   {
    "duration": 42,
    "start_time": "2023-01-29T15:08:30.131Z"
   },
   {
    "duration": 15,
    "start_time": "2023-01-29T15:08:30.174Z"
   },
   {
    "duration": 139,
    "start_time": "2023-01-29T15:08:30.190Z"
   },
   {
    "duration": 14,
    "start_time": "2023-01-29T15:08:30.330Z"
   },
   {
    "duration": 140,
    "start_time": "2023-01-29T15:08:30.345Z"
   },
   {
    "duration": 13,
    "start_time": "2023-01-29T15:08:30.486Z"
   },
   {
    "duration": 21,
    "start_time": "2023-01-29T15:08:30.503Z"
   },
   {
    "duration": 59,
    "start_time": "2023-01-29T15:08:30.526Z"
   },
   {
    "duration": 39,
    "start_time": "2023-01-29T15:08:30.587Z"
   },
   {
    "duration": 45,
    "start_time": "2023-01-29T15:08:30.628Z"
   },
   {
    "duration": 40,
    "start_time": "2023-01-29T15:08:30.674Z"
   },
   {
    "duration": 297,
    "start_time": "2023-01-29T15:08:30.715Z"
   },
   {
    "duration": 6,
    "start_time": "2023-01-29T15:08:31.014Z"
   },
   {
    "duration": 180,
    "start_time": "2023-01-29T15:08:31.021Z"
   },
   {
    "duration": 167,
    "start_time": "2023-01-29T15:08:31.203Z"
   },
   {
    "duration": 172,
    "start_time": "2023-01-29T15:08:31.372Z"
   },
   {
    "duration": 165,
    "start_time": "2023-01-29T15:08:31.545Z"
   },
   {
    "duration": 231,
    "start_time": "2023-01-29T15:08:31.712Z"
   },
   {
    "duration": 166,
    "start_time": "2023-01-29T15:08:31.945Z"
   },
   {
    "duration": 121,
    "start_time": "2023-01-29T15:08:32.112Z"
   },
   {
    "duration": 144,
    "start_time": "2023-01-29T15:08:32.234Z"
   },
   {
    "duration": 130,
    "start_time": "2023-01-29T15:08:32.379Z"
   },
   {
    "duration": 103,
    "start_time": "2023-01-29T15:08:32.510Z"
   },
   {
    "duration": 122,
    "start_time": "2023-01-29T15:08:32.615Z"
   },
   {
    "duration": 117,
    "start_time": "2023-01-29T15:08:32.738Z"
   },
   {
    "duration": 169,
    "start_time": "2023-01-29T15:08:32.857Z"
   },
   {
    "duration": 159,
    "start_time": "2023-01-29T15:08:33.027Z"
   },
   {
    "duration": 276,
    "start_time": "2023-01-29T15:08:33.187Z"
   },
   {
    "duration": 166,
    "start_time": "2023-01-29T15:08:33.465Z"
   },
   {
    "duration": 182,
    "start_time": "2023-01-29T15:08:33.633Z"
   },
   {
    "duration": 179,
    "start_time": "2023-01-29T15:08:33.816Z"
   },
   {
    "duration": 142,
    "start_time": "2023-01-29T15:08:33.997Z"
   },
   {
    "duration": 111,
    "start_time": "2023-01-29T15:08:34.143Z"
   },
   {
    "duration": 127,
    "start_time": "2023-01-29T15:08:34.255Z"
   },
   {
    "duration": 145,
    "start_time": "2023-01-29T15:08:34.383Z"
   },
   {
    "duration": 150,
    "start_time": "2023-01-29T15:08:34.530Z"
   },
   {
    "duration": 16,
    "start_time": "2023-01-29T15:08:34.682Z"
   },
   {
    "duration": 24,
    "start_time": "2023-01-29T15:08:34.699Z"
   },
   {
    "duration": 33,
    "start_time": "2023-01-29T15:08:34.725Z"
   },
   {
    "duration": 28,
    "start_time": "2023-01-29T15:08:34.759Z"
   },
   {
    "duration": 32,
    "start_time": "2023-01-29T15:08:34.789Z"
   },
   {
    "duration": 182,
    "start_time": "2023-01-29T15:08:34.823Z"
   },
   {
    "duration": 574,
    "start_time": "2023-01-29T15:09:51.899Z"
   },
   {
    "duration": 90,
    "start_time": "2023-01-29T15:09:52.474Z"
   },
   {
    "duration": 35,
    "start_time": "2023-01-29T15:09:52.566Z"
   },
   {
    "duration": 12,
    "start_time": "2023-01-29T15:09:52.603Z"
   },
   {
    "duration": 1703,
    "start_time": "2023-01-29T15:09:52.617Z"
   },
   {
    "duration": 10,
    "start_time": "2023-01-29T15:09:54.322Z"
   },
   {
    "duration": 50,
    "start_time": "2023-01-29T15:09:54.333Z"
   },
   {
    "duration": 14,
    "start_time": "2023-01-29T15:09:54.385Z"
   },
   {
    "duration": 20,
    "start_time": "2023-01-29T15:09:54.400Z"
   },
   {
    "duration": 41,
    "start_time": "2023-01-29T15:09:54.423Z"
   },
   {
    "duration": 87,
    "start_time": "2023-01-29T15:09:54.466Z"
   },
   {
    "duration": 7,
    "start_time": "2023-01-29T15:09:54.555Z"
   },
   {
    "duration": 22,
    "start_time": "2023-01-29T15:09:54.563Z"
   },
   {
    "duration": 10,
    "start_time": "2023-01-29T15:09:54.587Z"
   },
   {
    "duration": 28,
    "start_time": "2023-01-29T15:09:54.599Z"
   },
   {
    "duration": 7,
    "start_time": "2023-01-29T15:09:54.629Z"
   },
   {
    "duration": 27,
    "start_time": "2023-01-29T15:09:54.638Z"
   },
   {
    "duration": 18,
    "start_time": "2023-01-29T15:09:54.666Z"
   },
   {
    "duration": 142,
    "start_time": "2023-01-29T15:09:54.686Z"
   },
   {
    "duration": 20,
    "start_time": "2023-01-29T15:09:54.830Z"
   },
   {
    "duration": 6,
    "start_time": "2023-01-29T15:09:54.851Z"
   },
   {
    "duration": 117,
    "start_time": "2023-01-29T15:09:54.859Z"
   },
   {
    "duration": 136,
    "start_time": "2023-01-29T15:09:54.977Z"
   },
   {
    "duration": 12,
    "start_time": "2023-01-29T15:09:55.115Z"
   },
   {
    "duration": 21,
    "start_time": "2023-01-29T15:09:55.128Z"
   },
   {
    "duration": 121,
    "start_time": "2023-01-29T15:09:55.150Z"
   },
   {
    "duration": 29,
    "start_time": "2023-01-29T15:09:55.273Z"
   },
   {
    "duration": 168,
    "start_time": "2023-01-29T15:09:55.307Z"
   },
   {
    "duration": 26,
    "start_time": "2023-01-29T15:09:55.477Z"
   },
   {
    "duration": 12,
    "start_time": "2023-01-29T15:09:55.505Z"
   },
   {
    "duration": 29,
    "start_time": "2023-01-29T15:09:55.519Z"
   },
   {
    "duration": 194,
    "start_time": "2023-01-29T15:09:55.550Z"
   },
   {
    "duration": 148,
    "start_time": "2023-01-29T15:09:55.745Z"
   },
   {
    "duration": 4,
    "start_time": "2023-01-29T15:09:55.895Z"
   },
   {
    "duration": 18,
    "start_time": "2023-01-29T15:09:55.901Z"
   },
   {
    "duration": 26,
    "start_time": "2023-01-29T15:09:55.921Z"
   },
   {
    "duration": 127,
    "start_time": "2023-01-29T15:09:55.948Z"
   },
   {
    "duration": 6,
    "start_time": "2023-01-29T15:09:56.077Z"
   },
   {
    "duration": 137,
    "start_time": "2023-01-29T15:09:56.084Z"
   },
   {
    "duration": 12,
    "start_time": "2023-01-29T15:09:56.222Z"
   },
   {
    "duration": 4,
    "start_time": "2023-01-29T15:09:56.243Z"
   },
   {
    "duration": 18,
    "start_time": "2023-01-29T15:09:56.248Z"
   },
   {
    "duration": 6,
    "start_time": "2023-01-29T15:09:56.267Z"
   },
   {
    "duration": 10,
    "start_time": "2023-01-29T15:09:56.274Z"
   },
   {
    "duration": 6,
    "start_time": "2023-01-29T15:09:56.285Z"
   },
   {
    "duration": 285,
    "start_time": "2023-01-29T15:09:56.292Z"
   },
   {
    "duration": 6,
    "start_time": "2023-01-29T15:09:56.579Z"
   },
   {
    "duration": 175,
    "start_time": "2023-01-29T15:09:56.586Z"
   },
   {
    "duration": 153,
    "start_time": "2023-01-29T15:09:56.762Z"
   },
   {
    "duration": 148,
    "start_time": "2023-01-29T15:09:56.917Z"
   },
   {
    "duration": 167,
    "start_time": "2023-01-29T15:09:57.066Z"
   },
   {
    "duration": 233,
    "start_time": "2023-01-29T15:09:57.235Z"
   },
   {
    "duration": 165,
    "start_time": "2023-01-29T15:09:57.469Z"
   },
   {
    "duration": 129,
    "start_time": "2023-01-29T15:09:57.636Z"
   },
   {
    "duration": 126,
    "start_time": "2023-01-29T15:09:57.766Z"
   },
   {
    "duration": 131,
    "start_time": "2023-01-29T15:09:57.893Z"
   },
   {
    "duration": 99,
    "start_time": "2023-01-29T15:09:58.026Z"
   },
   {
    "duration": 118,
    "start_time": "2023-01-29T15:09:58.127Z"
   },
   {
    "duration": 131,
    "start_time": "2023-01-29T15:09:58.247Z"
   },
   {
    "duration": 191,
    "start_time": "2023-01-29T15:09:58.380Z"
   },
   {
    "duration": 160,
    "start_time": "2023-01-29T15:09:58.572Z"
   },
   {
    "duration": 276,
    "start_time": "2023-01-29T15:09:58.734Z"
   },
   {
    "duration": 174,
    "start_time": "2023-01-29T15:09:59.012Z"
   },
   {
    "duration": 166,
    "start_time": "2023-01-29T15:09:59.188Z"
   },
   {
    "duration": 165,
    "start_time": "2023-01-29T15:09:59.356Z"
   },
   {
    "duration": 159,
    "start_time": "2023-01-29T15:09:59.523Z"
   },
   {
    "duration": 123,
    "start_time": "2023-01-29T15:09:59.683Z"
   },
   {
    "duration": 124,
    "start_time": "2023-01-29T15:09:59.808Z"
   },
   {
    "duration": 150,
    "start_time": "2023-01-29T15:09:59.933Z"
   },
   {
    "duration": 132,
    "start_time": "2023-01-29T15:10:00.085Z"
   },
   {
    "duration": 13,
    "start_time": "2023-01-29T15:10:00.218Z"
   },
   {
    "duration": 21,
    "start_time": "2023-01-29T15:10:00.232Z"
   },
   {
    "duration": 26,
    "start_time": "2023-01-29T15:10:00.255Z"
   },
   {
    "duration": 41,
    "start_time": "2023-01-29T15:10:00.283Z"
   },
   {
    "duration": 46,
    "start_time": "2023-01-29T15:10:00.326Z"
   },
   {
    "duration": 190,
    "start_time": "2023-01-29T15:10:00.374Z"
   },
   {
    "duration": 7,
    "start_time": "2023-01-29T15:11:52.901Z"
   },
   {
    "duration": 176,
    "start_time": "2023-01-29T15:24:12.698Z"
   },
   {
    "duration": 4,
    "start_time": "2023-01-29T15:31:20.778Z"
   },
   {
    "duration": 4,
    "start_time": "2023-01-29T15:31:32.037Z"
   },
   {
    "duration": 639,
    "start_time": "2023-01-29T15:38:10.426Z"
   },
   {
    "duration": 91,
    "start_time": "2023-01-29T15:38:11.066Z"
   },
   {
    "duration": 36,
    "start_time": "2023-01-29T15:38:11.159Z"
   },
   {
    "duration": 13,
    "start_time": "2023-01-29T15:38:11.196Z"
   },
   {
    "duration": 1778,
    "start_time": "2023-01-29T15:38:11.210Z"
   },
   {
    "duration": 7,
    "start_time": "2023-01-29T15:38:12.990Z"
   },
   {
    "duration": 50,
    "start_time": "2023-01-29T15:38:12.999Z"
   },
   {
    "duration": 14,
    "start_time": "2023-01-29T15:38:13.050Z"
   },
   {
    "duration": 22,
    "start_time": "2023-01-29T15:38:13.065Z"
   },
   {
    "duration": 23,
    "start_time": "2023-01-29T15:38:13.090Z"
   },
   {
    "duration": 94,
    "start_time": "2023-01-29T15:38:13.115Z"
   },
   {
    "duration": 6,
    "start_time": "2023-01-29T15:38:13.210Z"
   },
   {
    "duration": 27,
    "start_time": "2023-01-29T15:38:13.218Z"
   },
   {
    "duration": 4,
    "start_time": "2023-01-29T15:38:13.246Z"
   },
   {
    "duration": 5,
    "start_time": "2023-01-29T15:38:13.251Z"
   },
   {
    "duration": 4,
    "start_time": "2023-01-29T15:38:13.258Z"
   },
   {
    "duration": 8,
    "start_time": "2023-01-29T15:38:13.263Z"
   },
   {
    "duration": 8,
    "start_time": "2023-01-29T15:38:13.273Z"
   },
   {
    "duration": 150,
    "start_time": "2023-01-29T15:38:13.283Z"
   },
   {
    "duration": 8,
    "start_time": "2023-01-29T15:38:13.444Z"
   },
   {
    "duration": 127,
    "start_time": "2023-01-29T15:38:13.454Z"
   },
   {
    "duration": 142,
    "start_time": "2023-01-29T15:38:13.583Z"
   },
   {
    "duration": 17,
    "start_time": "2023-01-29T15:38:13.727Z"
   },
   {
    "duration": 118,
    "start_time": "2023-01-29T15:38:13.746Z"
   },
   {
    "duration": 30,
    "start_time": "2023-01-29T15:38:13.866Z"
   },
   {
    "duration": 178,
    "start_time": "2023-01-29T15:38:13.897Z"
   },
   {
    "duration": 26,
    "start_time": "2023-01-29T15:38:14.077Z"
   },
   {
    "duration": 110,
    "start_time": "2023-01-29T15:38:14.107Z"
   },
   {
    "duration": 7,
    "start_time": "2023-01-29T15:38:14.219Z"
   },
   {
    "duration": 104,
    "start_time": "2023-01-29T15:38:14.227Z"
   },
   {
    "duration": 156,
    "start_time": "2023-01-29T15:38:14.332Z"
   },
   {
    "duration": 4,
    "start_time": "2023-01-29T15:38:14.490Z"
   },
   {
    "duration": 26,
    "start_time": "2023-01-29T15:38:14.495Z"
   },
   {
    "duration": 8,
    "start_time": "2023-01-29T15:38:14.522Z"
   },
   {
    "duration": 136,
    "start_time": "2023-01-29T15:38:14.531Z"
   },
   {
    "duration": 7,
    "start_time": "2023-01-29T15:38:14.669Z"
   },
   {
    "duration": 9,
    "start_time": "2023-01-29T15:38:14.677Z"
   },
   {
    "duration": 140,
    "start_time": "2023-01-29T15:38:14.688Z"
   },
   {
    "duration": 21,
    "start_time": "2023-01-29T15:38:14.829Z"
   },
   {
    "duration": 3,
    "start_time": "2023-01-29T15:38:14.851Z"
   },
   {
    "duration": 23,
    "start_time": "2023-01-29T15:38:14.856Z"
   },
   {
    "duration": 6,
    "start_time": "2023-01-29T15:38:14.880Z"
   },
   {
    "duration": 7,
    "start_time": "2023-01-29T15:38:14.887Z"
   },
   {
    "duration": 6,
    "start_time": "2023-01-29T15:38:14.895Z"
   },
   {
    "duration": 276,
    "start_time": "2023-01-29T15:38:14.902Z"
   },
   {
    "duration": 5,
    "start_time": "2023-01-29T15:38:15.180Z"
   },
   {
    "duration": 168,
    "start_time": "2023-01-29T15:38:15.186Z"
   },
   {
    "duration": 152,
    "start_time": "2023-01-29T15:38:15.356Z"
   },
   {
    "duration": 174,
    "start_time": "2023-01-29T15:38:15.510Z"
   },
   {
    "duration": 194,
    "start_time": "2023-01-29T15:38:15.686Z"
   },
   {
    "duration": 246,
    "start_time": "2023-01-29T15:38:15.882Z"
   },
   {
    "duration": 175,
    "start_time": "2023-01-29T15:38:16.130Z"
   },
   {
    "duration": 121,
    "start_time": "2023-01-29T15:38:16.306Z"
   },
   {
    "duration": 120,
    "start_time": "2023-01-29T15:38:16.429Z"
   },
   {
    "duration": 130,
    "start_time": "2023-01-29T15:38:16.551Z"
   },
   {
    "duration": 115,
    "start_time": "2023-01-29T15:38:16.683Z"
   },
   {
    "duration": 123,
    "start_time": "2023-01-29T15:38:16.800Z"
   },
   {
    "duration": 127,
    "start_time": "2023-01-29T15:38:16.925Z"
   },
   {
    "duration": 169,
    "start_time": "2023-01-29T15:38:17.054Z"
   },
   {
    "duration": 175,
    "start_time": "2023-01-29T15:38:17.225Z"
   },
   {
    "duration": 281,
    "start_time": "2023-01-29T15:38:17.402Z"
   },
   {
    "duration": 5,
    "start_time": "2023-01-29T15:38:17.684Z"
   },
   {
    "duration": 9,
    "start_time": "2023-01-29T15:38:17.691Z"
   },
   {
    "duration": 70,
    "start_time": "2023-01-29T15:38:17.701Z"
   },
   {
    "duration": 0,
    "start_time": "2023-01-29T15:38:17.773Z"
   },
   {
    "duration": 0,
    "start_time": "2023-01-29T15:38:17.774Z"
   },
   {
    "duration": 0,
    "start_time": "2023-01-29T15:38:17.775Z"
   },
   {
    "duration": 0,
    "start_time": "2023-01-29T15:38:17.777Z"
   },
   {
    "duration": 0,
    "start_time": "2023-01-29T15:38:17.778Z"
   },
   {
    "duration": 0,
    "start_time": "2023-01-29T15:38:17.780Z"
   },
   {
    "duration": 0,
    "start_time": "2023-01-29T15:38:17.781Z"
   },
   {
    "duration": 0,
    "start_time": "2023-01-29T15:38:17.782Z"
   },
   {
    "duration": 0,
    "start_time": "2023-01-29T15:38:17.783Z"
   },
   {
    "duration": 0,
    "start_time": "2023-01-29T15:38:17.784Z"
   },
   {
    "duration": 0,
    "start_time": "2023-01-29T15:38:17.785Z"
   },
   {
    "duration": 0,
    "start_time": "2023-01-29T15:38:17.785Z"
   },
   {
    "duration": 0,
    "start_time": "2023-01-29T15:38:17.786Z"
   },
   {
    "duration": 0,
    "start_time": "2023-01-29T15:38:17.787Z"
   },
   {
    "duration": 8,
    "start_time": "2023-01-29T15:38:48.559Z"
   },
   {
    "duration": 25,
    "start_time": "2023-01-29T15:39:36.024Z"
   },
   {
    "duration": 25,
    "start_time": "2023-01-29T15:39:49.822Z"
   },
   {
    "duration": 25,
    "start_time": "2023-01-29T15:39:59.934Z"
   },
   {
    "duration": 15,
    "start_time": "2023-01-29T15:40:14.473Z"
   },
   {
    "duration": 13,
    "start_time": "2023-01-29T15:40:25.964Z"
   },
   {
    "duration": 582,
    "start_time": "2023-01-29T15:43:48.985Z"
   },
   {
    "duration": 94,
    "start_time": "2023-01-29T15:43:49.569Z"
   },
   {
    "duration": 36,
    "start_time": "2023-01-29T15:43:49.665Z"
   },
   {
    "duration": 14,
    "start_time": "2023-01-29T15:43:49.703Z"
   },
   {
    "duration": 1707,
    "start_time": "2023-01-29T15:43:49.718Z"
   },
   {
    "duration": 8,
    "start_time": "2023-01-29T15:43:51.426Z"
   },
   {
    "duration": 50,
    "start_time": "2023-01-29T15:43:51.436Z"
   },
   {
    "duration": 13,
    "start_time": "2023-01-29T15:43:51.488Z"
   },
   {
    "duration": 21,
    "start_time": "2023-01-29T15:43:51.502Z"
   },
   {
    "duration": 39,
    "start_time": "2023-01-29T15:43:51.525Z"
   },
   {
    "duration": 86,
    "start_time": "2023-01-29T15:43:51.566Z"
   },
   {
    "duration": 6,
    "start_time": "2023-01-29T15:43:51.654Z"
   },
   {
    "duration": 11,
    "start_time": "2023-01-29T15:43:51.661Z"
   },
   {
    "duration": 3,
    "start_time": "2023-01-29T15:43:51.674Z"
   },
   {
    "duration": 7,
    "start_time": "2023-01-29T15:43:51.679Z"
   },
   {
    "duration": 6,
    "start_time": "2023-01-29T15:43:51.687Z"
   },
   {
    "duration": 7,
    "start_time": "2023-01-29T15:43:51.694Z"
   },
   {
    "duration": 14,
    "start_time": "2023-01-29T15:43:51.703Z"
   },
   {
    "duration": 168,
    "start_time": "2023-01-29T15:43:51.718Z"
   },
   {
    "duration": 6,
    "start_time": "2023-01-29T15:43:51.888Z"
   },
   {
    "duration": 122,
    "start_time": "2023-01-29T15:43:51.896Z"
   },
   {
    "duration": 141,
    "start_time": "2023-01-29T15:43:52.019Z"
   },
   {
    "duration": 7,
    "start_time": "2023-01-29T15:43:52.161Z"
   },
   {
    "duration": 126,
    "start_time": "2023-01-29T15:43:52.170Z"
   },
   {
    "duration": 33,
    "start_time": "2023-01-29T15:43:52.297Z"
   },
   {
    "duration": 186,
    "start_time": "2023-01-29T15:43:52.331Z"
   },
   {
    "duration": 35,
    "start_time": "2023-01-29T15:43:52.519Z"
   },
   {
    "duration": 112,
    "start_time": "2023-01-29T15:43:52.558Z"
   },
   {
    "duration": 7,
    "start_time": "2023-01-29T15:43:52.672Z"
   },
   {
    "duration": 114,
    "start_time": "2023-01-29T15:43:52.680Z"
   },
   {
    "duration": 157,
    "start_time": "2023-01-29T15:43:52.795Z"
   },
   {
    "duration": 4,
    "start_time": "2023-01-29T15:43:52.954Z"
   },
   {
    "duration": 20,
    "start_time": "2023-01-29T15:43:52.960Z"
   },
   {
    "duration": 7,
    "start_time": "2023-01-29T15:43:52.982Z"
   },
   {
    "duration": 137,
    "start_time": "2023-01-29T15:43:52.990Z"
   },
   {
    "duration": 16,
    "start_time": "2023-01-29T15:43:53.128Z"
   },
   {
    "duration": 6,
    "start_time": "2023-01-29T15:43:53.145Z"
   },
   {
    "duration": 142,
    "start_time": "2023-01-29T15:43:53.152Z"
   },
   {
    "duration": 13,
    "start_time": "2023-01-29T15:43:53.296Z"
   },
   {
    "duration": 10,
    "start_time": "2023-01-29T15:43:53.310Z"
   },
   {
    "duration": 28,
    "start_time": "2023-01-29T15:43:53.321Z"
   },
   {
    "duration": 7,
    "start_time": "2023-01-29T15:43:53.350Z"
   },
   {
    "duration": 13,
    "start_time": "2023-01-29T15:43:53.359Z"
   },
   {
    "duration": 7,
    "start_time": "2023-01-29T15:43:53.374Z"
   },
   {
    "duration": 268,
    "start_time": "2023-01-29T15:43:53.382Z"
   },
   {
    "duration": 6,
    "start_time": "2023-01-29T15:43:53.651Z"
   },
   {
    "duration": 166,
    "start_time": "2023-01-29T15:43:53.659Z"
   },
   {
    "duration": 148,
    "start_time": "2023-01-29T15:43:53.827Z"
   },
   {
    "duration": 156,
    "start_time": "2023-01-29T15:43:53.977Z"
   },
   {
    "duration": 165,
    "start_time": "2023-01-29T15:43:54.135Z"
   },
   {
    "duration": 243,
    "start_time": "2023-01-29T15:43:54.301Z"
   },
   {
    "duration": 180,
    "start_time": "2023-01-29T15:43:54.545Z"
   },
   {
    "duration": 119,
    "start_time": "2023-01-29T15:43:54.727Z"
   },
   {
    "duration": 108,
    "start_time": "2023-01-29T15:43:54.848Z"
   },
   {
    "duration": 130,
    "start_time": "2023-01-29T15:43:54.958Z"
   },
   {
    "duration": 106,
    "start_time": "2023-01-29T15:43:55.089Z"
   },
   {
    "duration": 117,
    "start_time": "2023-01-29T15:43:55.196Z"
   },
   {
    "duration": 136,
    "start_time": "2023-01-29T15:43:55.314Z"
   },
   {
    "duration": 164,
    "start_time": "2023-01-29T15:43:55.452Z"
   },
   {
    "duration": 165,
    "start_time": "2023-01-29T15:43:55.618Z"
   },
   {
    "duration": 295,
    "start_time": "2023-01-29T15:43:55.785Z"
   },
   {
    "duration": 4,
    "start_time": "2023-01-29T15:43:56.081Z"
   },
   {
    "duration": 6,
    "start_time": "2023-01-29T15:43:56.086Z"
   },
   {
    "duration": 31,
    "start_time": "2023-01-29T15:43:56.094Z"
   },
   {
    "duration": 196,
    "start_time": "2023-01-29T15:43:56.127Z"
   },
   {
    "duration": 182,
    "start_time": "2023-01-29T15:43:56.325Z"
   },
   {
    "duration": 174,
    "start_time": "2023-01-29T15:43:56.508Z"
   },
   {
    "duration": 165,
    "start_time": "2023-01-29T15:43:56.683Z"
   },
   {
    "duration": 125,
    "start_time": "2023-01-29T15:43:56.850Z"
   },
   {
    "duration": 129,
    "start_time": "2023-01-29T15:43:56.977Z"
   },
   {
    "duration": 164,
    "start_time": "2023-01-29T15:43:57.108Z"
   },
   {
    "duration": 142,
    "start_time": "2023-01-29T15:43:57.274Z"
   },
   {
    "duration": 14,
    "start_time": "2023-01-29T15:43:57.417Z"
   },
   {
    "duration": 20,
    "start_time": "2023-01-29T15:43:57.433Z"
   },
   {
    "duration": 8,
    "start_time": "2023-01-29T15:43:57.454Z"
   },
   {
    "duration": 8,
    "start_time": "2023-01-29T15:43:57.464Z"
   },
   {
    "duration": 21,
    "start_time": "2023-01-29T15:43:57.474Z"
   },
   {
    "duration": 186,
    "start_time": "2023-01-29T15:43:57.497Z"
   },
   {
    "duration": 73,
    "start_time": "2023-01-29T15:44:28.224Z"
   },
   {
    "duration": 592,
    "start_time": "2023-01-29T16:01:09.192Z"
   },
   {
    "duration": 96,
    "start_time": "2023-01-29T16:01:09.786Z"
   },
   {
    "duration": 37,
    "start_time": "2023-01-29T16:01:09.883Z"
   },
   {
    "duration": 36,
    "start_time": "2023-01-29T16:01:09.922Z"
   },
   {
    "duration": 1709,
    "start_time": "2023-01-29T16:01:09.960Z"
   },
   {
    "duration": 8,
    "start_time": "2023-01-29T16:01:11.671Z"
   },
   {
    "duration": 52,
    "start_time": "2023-01-29T16:01:11.681Z"
   },
   {
    "duration": 19,
    "start_time": "2023-01-29T16:01:11.734Z"
   },
   {
    "duration": 20,
    "start_time": "2023-01-29T16:01:11.754Z"
   },
   {
    "duration": 35,
    "start_time": "2023-01-29T16:01:11.777Z"
   },
   {
    "duration": 83,
    "start_time": "2023-01-29T16:01:11.813Z"
   },
   {
    "duration": 6,
    "start_time": "2023-01-29T16:01:11.898Z"
   },
   {
    "duration": 20,
    "start_time": "2023-01-29T16:01:11.905Z"
   },
   {
    "duration": 3,
    "start_time": "2023-01-29T16:01:11.927Z"
   },
   {
    "duration": 16,
    "start_time": "2023-01-29T16:01:11.931Z"
   },
   {
    "duration": 5,
    "start_time": "2023-01-29T16:01:11.948Z"
   },
   {
    "duration": 6,
    "start_time": "2023-01-29T16:01:11.954Z"
   },
   {
    "duration": 9,
    "start_time": "2023-01-29T16:01:11.961Z"
   },
   {
    "duration": 147,
    "start_time": "2023-01-29T16:01:11.971Z"
   },
   {
    "duration": 7,
    "start_time": "2023-01-29T16:01:12.120Z"
   },
   {
    "duration": 127,
    "start_time": "2023-01-29T16:01:12.128Z"
   },
   {
    "duration": 149,
    "start_time": "2023-01-29T16:01:12.257Z"
   },
   {
    "duration": 8,
    "start_time": "2023-01-29T16:01:12.408Z"
   },
   {
    "duration": 135,
    "start_time": "2023-01-29T16:01:12.418Z"
   },
   {
    "duration": 30,
    "start_time": "2023-01-29T16:01:12.554Z"
   },
   {
    "duration": 167,
    "start_time": "2023-01-29T16:01:12.586Z"
   },
   {
    "duration": 26,
    "start_time": "2023-01-29T16:01:12.755Z"
   },
   {
    "duration": 117,
    "start_time": "2023-01-29T16:01:12.784Z"
   },
   {
    "duration": 7,
    "start_time": "2023-01-29T16:01:12.903Z"
   },
   {
    "duration": 110,
    "start_time": "2023-01-29T16:01:12.911Z"
   },
   {
    "duration": 164,
    "start_time": "2023-01-29T16:01:13.022Z"
   },
   {
    "duration": 5,
    "start_time": "2023-01-29T16:01:13.187Z"
   },
   {
    "duration": 24,
    "start_time": "2023-01-29T16:01:13.194Z"
   },
   {
    "duration": 18,
    "start_time": "2023-01-29T16:01:13.220Z"
   },
   {
    "duration": 128,
    "start_time": "2023-01-29T16:01:13.243Z"
   },
   {
    "duration": 8,
    "start_time": "2023-01-29T16:01:13.372Z"
   },
   {
    "duration": 6,
    "start_time": "2023-01-29T16:01:13.381Z"
   },
   {
    "duration": 171,
    "start_time": "2023-01-29T16:01:13.388Z"
   },
   {
    "duration": 15,
    "start_time": "2023-01-29T16:01:13.560Z"
   },
   {
    "duration": 4,
    "start_time": "2023-01-29T16:01:13.577Z"
   },
   {
    "duration": 22,
    "start_time": "2023-01-29T16:01:13.583Z"
   },
   {
    "duration": 7,
    "start_time": "2023-01-29T16:01:13.607Z"
   },
   {
    "duration": 32,
    "start_time": "2023-01-29T16:01:13.615Z"
   },
   {
    "duration": 7,
    "start_time": "2023-01-29T16:01:13.649Z"
   },
   {
    "duration": 264,
    "start_time": "2023-01-29T16:01:13.657Z"
   },
   {
    "duration": 5,
    "start_time": "2023-01-29T16:01:13.923Z"
   },
   {
    "duration": 168,
    "start_time": "2023-01-29T16:01:13.930Z"
   },
   {
    "duration": 153,
    "start_time": "2023-01-29T16:01:14.099Z"
   },
   {
    "duration": 166,
    "start_time": "2023-01-29T16:01:14.254Z"
   },
   {
    "duration": 180,
    "start_time": "2023-01-29T16:01:14.422Z"
   },
   {
    "duration": 252,
    "start_time": "2023-01-29T16:01:14.604Z"
   },
   {
    "duration": 199,
    "start_time": "2023-01-29T16:01:14.858Z"
   },
   {
    "duration": 129,
    "start_time": "2023-01-29T16:01:15.059Z"
   },
   {
    "duration": 119,
    "start_time": "2023-01-29T16:01:15.189Z"
   },
   {
    "duration": 140,
    "start_time": "2023-01-29T16:01:15.309Z"
   },
   {
    "duration": 118,
    "start_time": "2023-01-29T16:01:15.450Z"
   },
   {
    "duration": 135,
    "start_time": "2023-01-29T16:01:15.569Z"
   },
   {
    "duration": 141,
    "start_time": "2023-01-29T16:01:15.706Z"
   },
   {
    "duration": 171,
    "start_time": "2023-01-29T16:01:15.848Z"
   },
   {
    "duration": 167,
    "start_time": "2023-01-29T16:01:16.020Z"
   },
   {
    "duration": 25,
    "start_time": "2023-01-29T16:01:16.189Z"
   },
   {
    "duration": 297,
    "start_time": "2023-01-29T16:01:16.216Z"
   },
   {
    "duration": 4,
    "start_time": "2023-01-29T16:01:16.515Z"
   },
   {
    "duration": 183,
    "start_time": "2023-01-29T16:01:16.520Z"
   },
   {
    "duration": 172,
    "start_time": "2023-01-29T16:01:16.705Z"
   },
   {
    "duration": 176,
    "start_time": "2023-01-29T16:01:16.878Z"
   },
   {
    "duration": 158,
    "start_time": "2023-01-29T16:01:17.056Z"
   },
   {
    "duration": 139,
    "start_time": "2023-01-29T16:01:17.216Z"
   },
   {
    "duration": 127,
    "start_time": "2023-01-29T16:01:17.356Z"
   },
   {
    "duration": 167,
    "start_time": "2023-01-29T16:01:17.485Z"
   },
   {
    "duration": 132,
    "start_time": "2023-01-29T16:01:17.653Z"
   },
   {
    "duration": 13,
    "start_time": "2023-01-29T16:01:17.787Z"
   },
   {
    "duration": 11,
    "start_time": "2023-01-29T16:01:17.801Z"
   },
   {
    "duration": 7,
    "start_time": "2023-01-29T16:01:17.814Z"
   },
   {
    "duration": 28,
    "start_time": "2023-01-29T16:01:17.822Z"
   },
   {
    "duration": 25,
    "start_time": "2023-01-29T16:01:17.851Z"
   },
   {
    "duration": 179,
    "start_time": "2023-01-29T16:01:17.878Z"
   },
   {
    "duration": 642,
    "start_time": "2023-01-29T16:02:21.057Z"
   },
   {
    "duration": 98,
    "start_time": "2023-01-29T16:02:21.701Z"
   },
   {
    "duration": 47,
    "start_time": "2023-01-29T16:02:21.800Z"
   },
   {
    "duration": 15,
    "start_time": "2023-01-29T16:02:21.850Z"
   },
   {
    "duration": 1742,
    "start_time": "2023-01-29T16:02:21.867Z"
   },
   {
    "duration": 9,
    "start_time": "2023-01-29T16:02:23.611Z"
   },
   {
    "duration": 49,
    "start_time": "2023-01-29T16:02:23.621Z"
   },
   {
    "duration": 13,
    "start_time": "2023-01-29T16:02:23.671Z"
   },
   {
    "duration": 20,
    "start_time": "2023-01-29T16:02:23.685Z"
   },
   {
    "duration": 39,
    "start_time": "2023-01-29T16:02:23.707Z"
   },
   {
    "duration": 71,
    "start_time": "2023-01-29T16:02:23.748Z"
   },
   {
    "duration": 22,
    "start_time": "2023-01-29T16:02:23.822Z"
   },
   {
    "duration": 11,
    "start_time": "2023-01-29T16:02:23.846Z"
   },
   {
    "duration": 8,
    "start_time": "2023-01-29T16:02:23.858Z"
   },
   {
    "duration": 6,
    "start_time": "2023-01-29T16:02:23.867Z"
   },
   {
    "duration": 6,
    "start_time": "2023-01-29T16:02:23.874Z"
   },
   {
    "duration": 18,
    "start_time": "2023-01-29T16:02:23.881Z"
   },
   {
    "duration": 12,
    "start_time": "2023-01-29T16:02:23.900Z"
   },
   {
    "duration": 144,
    "start_time": "2023-01-29T16:02:23.914Z"
   },
   {
    "duration": 7,
    "start_time": "2023-01-29T16:02:24.060Z"
   },
   {
    "duration": 115,
    "start_time": "2023-01-29T16:02:24.068Z"
   },
   {
    "duration": 130,
    "start_time": "2023-01-29T16:02:24.185Z"
   },
   {
    "duration": 7,
    "start_time": "2023-01-29T16:02:24.317Z"
   },
   {
    "duration": 150,
    "start_time": "2023-01-29T16:02:24.325Z"
   },
   {
    "duration": 29,
    "start_time": "2023-01-29T16:02:24.477Z"
   },
   {
    "duration": 192,
    "start_time": "2023-01-29T16:02:24.508Z"
   },
   {
    "duration": 43,
    "start_time": "2023-01-29T16:02:24.702Z"
   },
   {
    "duration": 101,
    "start_time": "2023-01-29T16:02:24.748Z"
   },
   {
    "duration": 7,
    "start_time": "2023-01-29T16:02:24.850Z"
   },
   {
    "duration": 108,
    "start_time": "2023-01-29T16:02:24.858Z"
   },
   {
    "duration": 161,
    "start_time": "2023-01-29T16:02:24.967Z"
   },
   {
    "duration": 17,
    "start_time": "2023-01-29T16:02:25.130Z"
   },
   {
    "duration": 34,
    "start_time": "2023-01-29T16:02:25.148Z"
   },
   {
    "duration": 11,
    "start_time": "2023-01-29T16:02:25.184Z"
   },
   {
    "duration": 121,
    "start_time": "2023-01-29T16:02:25.196Z"
   },
   {
    "duration": 7,
    "start_time": "2023-01-29T16:02:25.318Z"
   },
   {
    "duration": 19,
    "start_time": "2023-01-29T16:02:25.327Z"
   },
   {
    "duration": 140,
    "start_time": "2023-01-29T16:02:25.347Z"
   },
   {
    "duration": 14,
    "start_time": "2023-01-29T16:02:25.489Z"
   },
   {
    "duration": 5,
    "start_time": "2023-01-29T16:02:25.505Z"
   },
   {
    "duration": 21,
    "start_time": "2023-01-29T16:02:25.512Z"
   },
   {
    "duration": 6,
    "start_time": "2023-01-29T16:02:25.544Z"
   },
   {
    "duration": 14,
    "start_time": "2023-01-29T16:02:25.551Z"
   },
   {
    "duration": 15,
    "start_time": "2023-01-29T16:02:25.566Z"
   },
   {
    "duration": 274,
    "start_time": "2023-01-29T16:02:25.583Z"
   },
   {
    "duration": 6,
    "start_time": "2023-01-29T16:02:25.858Z"
   },
   {
    "duration": 180,
    "start_time": "2023-01-29T16:02:25.866Z"
   },
   {
    "duration": 159,
    "start_time": "2023-01-29T16:02:26.047Z"
   },
   {
    "duration": 153,
    "start_time": "2023-01-29T16:02:26.208Z"
   },
   {
    "duration": 186,
    "start_time": "2023-01-29T16:02:26.363Z"
   },
   {
    "duration": 235,
    "start_time": "2023-01-29T16:02:26.550Z"
   },
   {
    "duration": 168,
    "start_time": "2023-01-29T16:02:26.786Z"
   },
   {
    "duration": 125,
    "start_time": "2023-01-29T16:02:26.956Z"
   },
   {
    "duration": 106,
    "start_time": "2023-01-29T16:02:27.083Z"
   },
   {
    "duration": 161,
    "start_time": "2023-01-29T16:02:27.190Z"
   },
   {
    "duration": 111,
    "start_time": "2023-01-29T16:02:27.352Z"
   },
   {
    "duration": 115,
    "start_time": "2023-01-29T16:02:27.464Z"
   },
   {
    "duration": 128,
    "start_time": "2023-01-29T16:02:27.581Z"
   },
   {
    "duration": 175,
    "start_time": "2023-01-29T16:02:27.710Z"
   },
   {
    "duration": 153,
    "start_time": "2023-01-29T16:02:27.886Z"
   },
   {
    "duration": 8,
    "start_time": "2023-01-29T16:02:28.043Z"
   },
   {
    "duration": 278,
    "start_time": "2023-01-29T16:02:28.052Z"
   },
   {
    "duration": 3,
    "start_time": "2023-01-29T16:02:28.331Z"
   },
   {
    "duration": 182,
    "start_time": "2023-01-29T16:02:28.335Z"
   },
   {
    "duration": 170,
    "start_time": "2023-01-29T16:02:28.518Z"
   },
   {
    "duration": 159,
    "start_time": "2023-01-29T16:02:28.689Z"
   },
   {
    "duration": 154,
    "start_time": "2023-01-29T16:02:28.850Z"
   },
   {
    "duration": 117,
    "start_time": "2023-01-29T16:02:29.006Z"
   },
   {
    "duration": 123,
    "start_time": "2023-01-29T16:02:29.124Z"
   },
   {
    "duration": 147,
    "start_time": "2023-01-29T16:02:29.248Z"
   },
   {
    "duration": 136,
    "start_time": "2023-01-29T16:02:29.396Z"
   },
   {
    "duration": 17,
    "start_time": "2023-01-29T16:02:29.534Z"
   },
   {
    "duration": 12,
    "start_time": "2023-01-29T16:02:29.552Z"
   },
   {
    "duration": 7,
    "start_time": "2023-01-29T16:02:29.565Z"
   },
   {
    "duration": 12,
    "start_time": "2023-01-29T16:02:29.574Z"
   },
   {
    "duration": 23,
    "start_time": "2023-01-29T16:02:29.588Z"
   },
   {
    "duration": 187,
    "start_time": "2023-01-29T16:02:29.613Z"
   },
   {
    "duration": 76,
    "start_time": "2023-01-29T16:09:06.470Z"
   },
   {
    "duration": 8,
    "start_time": "2023-01-29T16:17:57.961Z"
   },
   {
    "duration": 342,
    "start_time": "2023-01-29T16:23:43.436Z"
   },
   {
    "duration": 1208,
    "start_time": "2023-01-29T16:25:11.893Z"
   },
   {
    "duration": 1224,
    "start_time": "2023-01-29T16:25:27.208Z"
   },
   {
    "duration": 1217,
    "start_time": "2023-01-29T16:26:05.363Z"
   },
   {
    "duration": 18,
    "start_time": "2023-01-29T16:26:34.455Z"
   },
   {
    "duration": 249,
    "start_time": "2023-01-29T16:26:44.865Z"
   },
   {
    "duration": 18,
    "start_time": "2023-01-29T16:31:41.811Z"
   },
   {
    "duration": 19,
    "start_time": "2023-01-29T16:32:54.897Z"
   },
   {
    "duration": 276,
    "start_time": "2023-01-29T16:33:27.378Z"
   },
   {
    "duration": 256,
    "start_time": "2023-01-29T16:35:35.989Z"
   },
   {
    "duration": 345,
    "start_time": "2023-01-29T16:36:01.872Z"
   },
   {
    "duration": 288,
    "start_time": "2023-01-29T16:36:33.097Z"
   },
   {
    "duration": 307,
    "start_time": "2023-01-29T16:36:54.463Z"
   },
   {
    "duration": 746,
    "start_time": "2023-01-29T16:49:52.842Z"
   },
   {
    "duration": 442,
    "start_time": "2023-01-29T16:50:24.145Z"
   },
   {
    "duration": 547,
    "start_time": "2023-01-29T16:50:39.054Z"
   },
   {
    "duration": 7,
    "start_time": "2023-01-29T16:52:46.759Z"
   },
   {
    "duration": 16,
    "start_time": "2023-01-29T16:53:12.704Z"
   },
   {
    "duration": 7,
    "start_time": "2023-01-29T16:53:34.092Z"
   },
   {
    "duration": 6,
    "start_time": "2023-01-29T16:59:33.820Z"
   },
   {
    "duration": 15,
    "start_time": "2023-01-29T17:01:10.416Z"
   },
   {
    "duration": 14,
    "start_time": "2023-01-29T17:01:29.459Z"
   },
   {
    "duration": 7,
    "start_time": "2023-01-29T17:01:49.560Z"
   },
   {
    "duration": 557,
    "start_time": "2023-01-29T17:02:47.306Z"
   },
   {
    "duration": 464,
    "start_time": "2023-01-29T17:03:35.597Z"
   },
   {
    "duration": 435,
    "start_time": "2023-01-29T17:03:56.809Z"
   },
   {
    "duration": 438,
    "start_time": "2023-01-29T17:06:04.657Z"
   },
   {
    "duration": 76,
    "start_time": "2023-01-29T17:07:50.267Z"
   },
   {
    "duration": 175,
    "start_time": "2023-01-29T17:22:22.059Z"
   },
   {
    "duration": 8,
    "start_time": "2023-01-29T17:24:15.066Z"
   },
   {
    "duration": 152,
    "start_time": "2023-01-29T17:24:39.617Z"
   },
   {
    "duration": 144,
    "start_time": "2023-01-29T17:27:27.858Z"
   },
   {
    "duration": 21,
    "start_time": "2023-01-29T17:27:47.618Z"
   },
   {
    "duration": 671,
    "start_time": "2023-01-29T17:28:26.123Z"
   },
   {
    "duration": 100,
    "start_time": "2023-01-29T17:28:26.796Z"
   },
   {
    "duration": 53,
    "start_time": "2023-01-29T17:28:26.897Z"
   },
   {
    "duration": 16,
    "start_time": "2023-01-29T17:28:26.957Z"
   },
   {
    "duration": 1926,
    "start_time": "2023-01-29T17:28:26.975Z"
   },
   {
    "duration": 9,
    "start_time": "2023-01-29T17:28:28.902Z"
   },
   {
    "duration": 55,
    "start_time": "2023-01-29T17:28:28.912Z"
   },
   {
    "duration": 14,
    "start_time": "2023-01-29T17:28:28.968Z"
   },
   {
    "duration": 21,
    "start_time": "2023-01-29T17:28:28.983Z"
   },
   {
    "duration": 41,
    "start_time": "2023-01-29T17:28:29.007Z"
   },
   {
    "duration": 121,
    "start_time": "2023-01-29T17:28:29.049Z"
   },
   {
    "duration": 8,
    "start_time": "2023-01-29T17:28:29.172Z"
   },
   {
    "duration": 12,
    "start_time": "2023-01-29T17:28:29.182Z"
   },
   {
    "duration": 4,
    "start_time": "2023-01-29T17:28:29.195Z"
   },
   {
    "duration": 12,
    "start_time": "2023-01-29T17:28:29.200Z"
   },
   {
    "duration": 14,
    "start_time": "2023-01-29T17:28:29.214Z"
   },
   {
    "duration": 24,
    "start_time": "2023-01-29T17:28:29.229Z"
   },
   {
    "duration": 10,
    "start_time": "2023-01-29T17:28:29.261Z"
   },
   {
    "duration": 150,
    "start_time": "2023-01-29T17:28:29.273Z"
   },
   {
    "duration": 26,
    "start_time": "2023-01-29T17:28:29.424Z"
   },
   {
    "duration": 115,
    "start_time": "2023-01-29T17:28:29.454Z"
   },
   {
    "duration": 151,
    "start_time": "2023-01-29T17:28:29.571Z"
   },
   {
    "duration": 28,
    "start_time": "2023-01-29T17:28:29.724Z"
   },
   {
    "duration": 138,
    "start_time": "2023-01-29T17:28:29.758Z"
   },
   {
    "duration": 32,
    "start_time": "2023-01-29T17:28:29.898Z"
   },
   {
    "duration": 199,
    "start_time": "2023-01-29T17:28:29.932Z"
   },
   {
    "duration": 42,
    "start_time": "2023-01-29T17:28:30.133Z"
   },
   {
    "duration": 121,
    "start_time": "2023-01-29T17:28:30.183Z"
   },
   {
    "duration": 7,
    "start_time": "2023-01-29T17:28:30.306Z"
   },
   {
    "duration": 148,
    "start_time": "2023-01-29T17:28:30.315Z"
   },
   {
    "duration": 202,
    "start_time": "2023-01-29T17:28:30.465Z"
   },
   {
    "duration": 4,
    "start_time": "2023-01-29T17:28:30.669Z"
   },
   {
    "duration": 85,
    "start_time": "2023-01-29T17:28:30.675Z"
   },
   {
    "duration": 61,
    "start_time": "2023-01-29T17:28:30.763Z"
   },
   {
    "duration": 164,
    "start_time": "2023-01-29T17:28:30.826Z"
   },
   {
    "duration": 130,
    "start_time": "2023-01-29T17:28:30.992Z"
   },
   {
    "duration": 198,
    "start_time": "2023-01-29T17:28:31.123Z"
   },
   {
    "duration": 6,
    "start_time": "2023-01-29T17:28:31.324Z"
   },
   {
    "duration": 34,
    "start_time": "2023-01-29T17:28:31.332Z"
   },
   {
    "duration": 134,
    "start_time": "2023-01-29T17:28:31.368Z"
   },
   {
    "duration": 13,
    "start_time": "2023-01-29T17:28:31.503Z"
   },
   {
    "duration": 9,
    "start_time": "2023-01-29T17:28:31.518Z"
   },
   {
    "duration": 55,
    "start_time": "2023-01-29T17:28:31.528Z"
   },
   {
    "duration": 23,
    "start_time": "2023-01-29T17:28:31.585Z"
   },
   {
    "duration": 35,
    "start_time": "2023-01-29T17:28:31.610Z"
   },
   {
    "duration": 19,
    "start_time": "2023-01-29T17:28:31.652Z"
   },
   {
    "duration": 257,
    "start_time": "2023-01-29T17:28:31.673Z"
   },
   {
    "duration": 15,
    "start_time": "2023-01-29T17:28:31.932Z"
   },
   {
    "duration": 170,
    "start_time": "2023-01-29T17:28:31.955Z"
   },
   {
    "duration": 198,
    "start_time": "2023-01-29T17:28:32.127Z"
   },
   {
    "duration": 240,
    "start_time": "2023-01-29T17:28:32.327Z"
   },
   {
    "duration": 189,
    "start_time": "2023-01-29T17:28:32.569Z"
   },
   {
    "duration": 216,
    "start_time": "2023-01-29T17:28:32.760Z"
   },
   {
    "duration": 225,
    "start_time": "2023-01-29T17:28:32.978Z"
   },
   {
    "duration": 143,
    "start_time": "2023-01-29T17:28:33.204Z"
   },
   {
    "duration": 120,
    "start_time": "2023-01-29T17:28:33.349Z"
   },
   {
    "duration": 207,
    "start_time": "2023-01-29T17:28:33.471Z"
   },
   {
    "duration": 123,
    "start_time": "2023-01-29T17:28:33.680Z"
   },
   {
    "duration": 133,
    "start_time": "2023-01-29T17:28:33.805Z"
   },
   {
    "duration": 217,
    "start_time": "2023-01-29T17:28:33.943Z"
   },
   {
    "duration": 176,
    "start_time": "2023-01-29T17:28:34.161Z"
   },
   {
    "duration": 167,
    "start_time": "2023-01-29T17:28:34.339Z"
   },
   {
    "duration": 7,
    "start_time": "2023-01-29T17:28:34.507Z"
   },
   {
    "duration": 361,
    "start_time": "2023-01-29T17:28:34.516Z"
   },
   {
    "duration": 189,
    "start_time": "2023-01-29T17:28:34.879Z"
   },
   {
    "duration": 185,
    "start_time": "2023-01-29T17:28:35.070Z"
   },
   {
    "duration": 174,
    "start_time": "2023-01-29T17:28:35.259Z"
   },
   {
    "duration": 185,
    "start_time": "2023-01-29T17:28:35.434Z"
   },
   {
    "duration": 149,
    "start_time": "2023-01-29T17:28:35.621Z"
   },
   {
    "duration": 228,
    "start_time": "2023-01-29T17:28:35.773Z"
   },
   {
    "duration": 184,
    "start_time": "2023-01-29T17:28:36.005Z"
   },
   {
    "duration": 135,
    "start_time": "2023-01-29T17:28:36.192Z"
   },
   {
    "duration": 24,
    "start_time": "2023-01-29T17:28:36.329Z"
   },
   {
    "duration": 15,
    "start_time": "2023-01-29T17:28:36.356Z"
   },
   {
    "duration": 8,
    "start_time": "2023-01-29T17:28:36.373Z"
   },
   {
    "duration": 29,
    "start_time": "2023-01-29T17:28:36.382Z"
   },
   {
    "duration": 17,
    "start_time": "2023-01-29T17:28:36.413Z"
   },
   {
    "duration": 338,
    "start_time": "2023-01-29T17:28:36.431Z"
   },
   {
    "duration": 663,
    "start_time": "2023-01-29T18:08:41.061Z"
   },
   {
    "duration": 103,
    "start_time": "2023-01-29T18:08:41.726Z"
   },
   {
    "duration": 43,
    "start_time": "2023-01-29T18:08:41.831Z"
   },
   {
    "duration": 14,
    "start_time": "2023-01-29T18:08:41.876Z"
   },
   {
    "duration": 2137,
    "start_time": "2023-01-29T18:08:41.892Z"
   },
   {
    "duration": 9,
    "start_time": "2023-01-29T18:08:44.030Z"
   },
   {
    "duration": 76,
    "start_time": "2023-01-29T18:08:44.040Z"
   },
   {
    "duration": 13,
    "start_time": "2023-01-29T18:08:44.118Z"
   },
   {
    "duration": 27,
    "start_time": "2023-01-29T18:08:44.132Z"
   },
   {
    "duration": 25,
    "start_time": "2023-01-29T18:08:44.162Z"
   },
   {
    "duration": 96,
    "start_time": "2023-01-29T18:08:44.189Z"
   },
   {
    "duration": 7,
    "start_time": "2023-01-29T18:08:44.287Z"
   },
   {
    "duration": 11,
    "start_time": "2023-01-29T18:08:44.295Z"
   },
   {
    "duration": 4,
    "start_time": "2023-01-29T18:08:44.307Z"
   },
   {
    "duration": 40,
    "start_time": "2023-01-29T18:08:44.312Z"
   },
   {
    "duration": 13,
    "start_time": "2023-01-29T18:08:44.360Z"
   },
   {
    "duration": 8,
    "start_time": "2023-01-29T18:08:44.375Z"
   },
   {
    "duration": 13,
    "start_time": "2023-01-29T18:08:44.385Z"
   },
   {
    "duration": 188,
    "start_time": "2023-01-29T18:08:44.400Z"
   },
   {
    "duration": 9,
    "start_time": "2023-01-29T18:08:44.590Z"
   },
   {
    "duration": 153,
    "start_time": "2023-01-29T18:08:44.601Z"
   },
   {
    "duration": 177,
    "start_time": "2023-01-29T18:08:44.756Z"
   },
   {
    "duration": 16,
    "start_time": "2023-01-29T18:08:44.935Z"
   },
   {
    "duration": 141,
    "start_time": "2023-01-29T18:08:44.952Z"
   },
   {
    "duration": 33,
    "start_time": "2023-01-29T18:08:45.095Z"
   },
   {
    "duration": 220,
    "start_time": "2023-01-29T18:08:45.130Z"
   },
   {
    "duration": 40,
    "start_time": "2023-01-29T18:08:45.357Z"
   },
   {
    "duration": 8,
    "start_time": "2023-01-29T18:08:45.403Z"
   },
   {
    "duration": 231,
    "start_time": "2023-01-29T18:08:45.413Z"
   },
   {
    "duration": 181,
    "start_time": "2023-01-29T18:08:45.645Z"
   },
   {
    "duration": 5,
    "start_time": "2023-01-29T18:08:45.828Z"
   },
   {
    "duration": 47,
    "start_time": "2023-01-29T18:08:45.835Z"
   },
   {
    "duration": 15,
    "start_time": "2023-01-29T18:08:45.884Z"
   },
   {
    "duration": 134,
    "start_time": "2023-01-29T18:08:45.900Z"
   },
   {
    "duration": 146,
    "start_time": "2023-01-29T18:08:46.035Z"
   },
   {
    "duration": 143,
    "start_time": "2023-01-29T18:08:46.183Z"
   },
   {
    "duration": 16,
    "start_time": "2023-01-29T18:08:46.328Z"
   },
   {
    "duration": 13,
    "start_time": "2023-01-29T18:08:46.345Z"
   },
   {
    "duration": 142,
    "start_time": "2023-01-29T18:08:46.359Z"
   },
   {
    "duration": 13,
    "start_time": "2023-01-29T18:08:46.502Z"
   },
   {
    "duration": 4,
    "start_time": "2023-01-29T18:08:46.517Z"
   },
   {
    "duration": 80,
    "start_time": "2023-01-29T18:08:46.522Z"
   },
   {
    "duration": 6,
    "start_time": "2023-01-29T18:08:46.603Z"
   },
   {
    "duration": 26,
    "start_time": "2023-01-29T18:08:46.610Z"
   },
   {
    "duration": 28,
    "start_time": "2023-01-29T18:08:46.637Z"
   },
   {
    "duration": 252,
    "start_time": "2023-01-29T18:08:46.667Z"
   },
   {
    "duration": 7,
    "start_time": "2023-01-29T18:08:46.921Z"
   },
   {
    "duration": 226,
    "start_time": "2023-01-29T18:08:46.929Z"
   },
   {
    "duration": 189,
    "start_time": "2023-01-29T18:08:47.157Z"
   },
   {
    "duration": 232,
    "start_time": "2023-01-29T18:08:47.349Z"
   },
   {
    "duration": 218,
    "start_time": "2023-01-29T18:08:47.583Z"
   },
   {
    "duration": 201,
    "start_time": "2023-01-29T18:08:47.803Z"
   },
   {
    "duration": 186,
    "start_time": "2023-01-29T18:08:48.005Z"
   },
   {
    "duration": 131,
    "start_time": "2023-01-29T18:08:48.193Z"
   },
   {
    "duration": 144,
    "start_time": "2023-01-29T18:08:48.325Z"
   },
   {
    "duration": 136,
    "start_time": "2023-01-29T18:08:48.471Z"
   },
   {
    "duration": 114,
    "start_time": "2023-01-29T18:08:48.609Z"
   },
   {
    "duration": 138,
    "start_time": "2023-01-29T18:08:48.725Z"
   },
   {
    "duration": 218,
    "start_time": "2023-01-29T18:08:48.864Z"
   },
   {
    "duration": 186,
    "start_time": "2023-01-29T18:08:49.084Z"
   },
   {
    "duration": 168,
    "start_time": "2023-01-29T18:08:49.272Z"
   },
   {
    "duration": 17,
    "start_time": "2023-01-29T18:08:49.443Z"
   },
   {
    "duration": 259,
    "start_time": "2023-01-29T18:08:49.461Z"
   },
   {
    "duration": 187,
    "start_time": "2023-01-29T18:08:49.722Z"
   },
   {
    "duration": 194,
    "start_time": "2023-01-29T18:08:49.911Z"
   },
   {
    "duration": 182,
    "start_time": "2023-01-29T18:08:50.107Z"
   },
   {
    "duration": 177,
    "start_time": "2023-01-29T18:08:50.290Z"
   },
   {
    "duration": 131,
    "start_time": "2023-01-29T18:08:50.469Z"
   },
   {
    "duration": 249,
    "start_time": "2023-01-29T18:08:50.602Z"
   },
   {
    "duration": 173,
    "start_time": "2023-01-29T18:08:50.853Z"
   },
   {
    "duration": 144,
    "start_time": "2023-01-29T18:08:51.027Z"
   },
   {
    "duration": 14,
    "start_time": "2023-01-29T18:08:51.172Z"
   },
   {
    "duration": 19,
    "start_time": "2023-01-29T18:08:51.187Z"
   },
   {
    "duration": 11,
    "start_time": "2023-01-29T18:08:51.207Z"
   },
   {
    "duration": 30,
    "start_time": "2023-01-29T18:08:51.219Z"
   },
   {
    "duration": 20,
    "start_time": "2023-01-29T18:08:51.258Z"
   },
   {
    "duration": 267,
    "start_time": "2023-01-29T18:08:51.279Z"
   },
   {
    "duration": 831,
    "start_time": "2023-01-30T13:49:24.107Z"
   },
   {
    "duration": 142,
    "start_time": "2023-01-30T13:49:24.940Z"
   },
   {
    "duration": 47,
    "start_time": "2023-01-30T13:49:25.084Z"
   },
   {
    "duration": 19,
    "start_time": "2023-01-30T13:49:25.134Z"
   },
   {
    "duration": 1967,
    "start_time": "2023-01-30T13:49:25.154Z"
   },
   {
    "duration": 10,
    "start_time": "2023-01-30T13:49:27.123Z"
   },
   {
    "duration": 71,
    "start_time": "2023-01-30T13:49:27.137Z"
   },
   {
    "duration": 14,
    "start_time": "2023-01-30T13:49:27.209Z"
   },
   {
    "duration": 25,
    "start_time": "2023-01-30T13:49:27.225Z"
   },
   {
    "duration": 23,
    "start_time": "2023-01-30T13:49:27.253Z"
   },
   {
    "duration": 98,
    "start_time": "2023-01-30T13:49:27.277Z"
   },
   {
    "duration": 7,
    "start_time": "2023-01-30T13:49:27.376Z"
   },
   {
    "duration": 42,
    "start_time": "2023-01-30T13:49:27.385Z"
   },
   {
    "duration": 25,
    "start_time": "2023-01-30T13:49:27.428Z"
   },
   {
    "duration": 17,
    "start_time": "2023-01-30T13:49:27.455Z"
   },
   {
    "duration": 19,
    "start_time": "2023-01-30T13:49:27.474Z"
   },
   {
    "duration": 9,
    "start_time": "2023-01-30T13:49:27.495Z"
   },
   {
    "duration": 36,
    "start_time": "2023-01-30T13:49:27.505Z"
   },
   {
    "duration": 189,
    "start_time": "2023-01-30T13:49:27.542Z"
   },
   {
    "duration": 8,
    "start_time": "2023-01-30T13:49:27.733Z"
   },
   {
    "duration": 139,
    "start_time": "2023-01-30T13:49:27.742Z"
   },
   {
    "duration": 157,
    "start_time": "2023-01-30T13:49:27.882Z"
   },
   {
    "duration": 8,
    "start_time": "2023-01-30T13:49:28.040Z"
   },
   {
    "duration": 135,
    "start_time": "2023-01-30T13:49:28.050Z"
   },
   {
    "duration": 46,
    "start_time": "2023-01-30T13:49:28.187Z"
   },
   {
    "duration": 201,
    "start_time": "2023-01-30T13:49:28.235Z"
   },
   {
    "duration": 30,
    "start_time": "2023-01-30T13:49:28.440Z"
   },
   {
    "duration": 126,
    "start_time": "2023-01-30T13:49:28.474Z"
   },
   {
    "duration": 122,
    "start_time": "2023-01-30T13:49:28.602Z"
   },
   {
    "duration": 165,
    "start_time": "2023-01-30T13:49:28.726Z"
   },
   {
    "duration": 4,
    "start_time": "2023-01-30T13:49:28.899Z"
   },
   {
    "duration": 30,
    "start_time": "2023-01-30T13:49:28.904Z"
   },
   {
    "duration": 17,
    "start_time": "2023-01-30T13:49:28.936Z"
   },
   {
    "duration": 139,
    "start_time": "2023-01-30T13:49:28.954Z"
   },
   {
    "duration": 135,
    "start_time": "2023-01-30T13:49:29.094Z"
   },
   {
    "duration": 140,
    "start_time": "2023-01-30T13:49:29.231Z"
   },
   {
    "duration": 6,
    "start_time": "2023-01-30T13:49:29.373Z"
   },
   {
    "duration": 19,
    "start_time": "2023-01-30T13:49:29.381Z"
   },
   {
    "duration": 142,
    "start_time": "2023-01-30T13:49:29.401Z"
   },
   {
    "duration": 13,
    "start_time": "2023-01-30T13:49:29.544Z"
   },
   {
    "duration": 17,
    "start_time": "2023-01-30T13:49:29.558Z"
   },
   {
    "duration": 30,
    "start_time": "2023-01-30T13:49:29.577Z"
   },
   {
    "duration": 8,
    "start_time": "2023-01-30T13:49:29.609Z"
   },
   {
    "duration": 15,
    "start_time": "2023-01-30T13:49:29.618Z"
   },
   {
    "duration": 12,
    "start_time": "2023-01-30T13:49:29.635Z"
   },
   {
    "duration": 240,
    "start_time": "2023-01-30T13:49:29.649Z"
   },
   {
    "duration": 12,
    "start_time": "2023-01-30T13:49:29.891Z"
   },
   {
    "duration": 178,
    "start_time": "2023-01-30T13:49:29.904Z"
   },
   {
    "duration": 208,
    "start_time": "2023-01-30T13:49:30.084Z"
   },
   {
    "duration": 265,
    "start_time": "2023-01-30T13:49:30.294Z"
   },
   {
    "duration": 213,
    "start_time": "2023-01-30T13:49:30.561Z"
   },
   {
    "duration": 225,
    "start_time": "2023-01-30T13:49:30.776Z"
   },
   {
    "duration": 225,
    "start_time": "2023-01-30T13:49:31.003Z"
   },
   {
    "duration": 156,
    "start_time": "2023-01-30T13:49:31.229Z"
   },
   {
    "duration": 149,
    "start_time": "2023-01-30T13:49:31.388Z"
   },
   {
    "duration": 168,
    "start_time": "2023-01-30T13:49:31.539Z"
   },
   {
    "duration": 142,
    "start_time": "2023-01-30T13:49:31.710Z"
   },
   {
    "duration": 163,
    "start_time": "2023-01-30T13:49:31.854Z"
   },
   {
    "duration": 253,
    "start_time": "2023-01-30T13:49:32.019Z"
   },
   {
    "duration": 243,
    "start_time": "2023-01-30T13:49:32.274Z"
   },
   {
    "duration": 191,
    "start_time": "2023-01-30T13:49:32.519Z"
   },
   {
    "duration": 9,
    "start_time": "2023-01-30T13:49:32.712Z"
   },
   {
    "duration": 348,
    "start_time": "2023-01-30T13:49:32.723Z"
   },
   {
    "duration": 208,
    "start_time": "2023-01-30T13:49:33.073Z"
   },
   {
    "duration": 207,
    "start_time": "2023-01-30T13:49:33.282Z"
   },
   {
    "duration": 197,
    "start_time": "2023-01-30T13:49:33.491Z"
   },
   {
    "duration": 213,
    "start_time": "2023-01-30T13:49:33.690Z"
   },
   {
    "duration": 171,
    "start_time": "2023-01-30T13:49:33.905Z"
   },
   {
    "duration": 235,
    "start_time": "2023-01-30T13:49:34.078Z"
   },
   {
    "duration": 185,
    "start_time": "2023-01-30T13:49:34.314Z"
   },
   {
    "duration": 150,
    "start_time": "2023-01-30T13:49:34.501Z"
   },
   {
    "duration": 15,
    "start_time": "2023-01-30T13:49:34.653Z"
   },
   {
    "duration": 57,
    "start_time": "2023-01-30T13:49:34.669Z"
   },
   {
    "duration": 48,
    "start_time": "2023-01-30T13:49:34.728Z"
   },
   {
    "duration": 26,
    "start_time": "2023-01-30T13:49:34.777Z"
   },
   {
    "duration": 46,
    "start_time": "2023-01-30T13:49:34.805Z"
   },
   {
    "duration": 329,
    "start_time": "2023-01-30T13:49:34.852Z"
   }
  ],
  "kernelspec": {
   "display_name": "Python 3 (ipykernel)",
   "language": "python",
   "name": "python3"
  },
  "language_info": {
   "codemirror_mode": {
    "name": "ipython",
    "version": 3
   },
   "file_extension": ".py",
   "mimetype": "text/x-python",
   "name": "python",
   "nbconvert_exporter": "python",
   "pygments_lexer": "ipython3",
   "version": "3.9.13"
  },
  "toc": {
   "base_numbering": 1,
   "nav_menu": {},
   "number_sections": true,
   "sideBar": true,
   "skip_h1_title": true,
   "title_cell": "Table of Contents",
   "title_sidebar": "Contents",
   "toc_cell": false,
   "toc_position": {},
   "toc_section_display": true,
   "toc_window_display": false
  }
 },
 "nbformat": 4,
 "nbformat_minor": 2
}
