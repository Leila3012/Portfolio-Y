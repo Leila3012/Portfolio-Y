{
 "cells": [
  {
   "cell_type": "markdown",
   "metadata": {},
   "source": [
    "<div class=\"alert alert-info\">\n",
    "<b> Исследование о закономерностях определяющих успешность игр</b>\n",
    "    \n",
    "В нашем распоряжении данные о продажах игр, оценки пользователей и экспертов, жанры и платформы.\n",
    "Цель:нужно выявить определяющие успешность игры закономерности. Это позволит сделать ставку на потенциально популярный продукт и спланировать рекламные кампании.\n",
    "\n"
   ]
  },
  {
   "cell_type": "code",
   "execution_count": 1,
   "metadata": {},
   "outputs": [],
   "source": [
    "import pandas as pd\n",
    "import matplotlib.pyplot as plt\n",
    "import numpy as np\n",
    "import seaborn as sns\n",
    "from scipy import stats as st\n",
    "import warnings"
   ]
  },
  {
   "cell_type": "code",
   "execution_count": 2,
   "metadata": {},
   "outputs": [],
   "source": [
    "data=pd.read_csv('/datasets/games.csv')"
   ]
  },
  {
   "cell_type": "code",
   "execution_count": 3,
   "metadata": {
    "scrolled": true
   },
   "outputs": [
    {
     "data": {
      "text/html": [
       "<div>\n",
       "<style scoped>\n",
       "    .dataframe tbody tr th:only-of-type {\n",
       "        vertical-align: middle;\n",
       "    }\n",
       "\n",
       "    .dataframe tbody tr th {\n",
       "        vertical-align: top;\n",
       "    }\n",
       "\n",
       "    .dataframe thead th {\n",
       "        text-align: right;\n",
       "    }\n",
       "</style>\n",
       "<table border=\"1\" class=\"dataframe\">\n",
       "  <thead>\n",
       "    <tr style=\"text-align: right;\">\n",
       "      <th></th>\n",
       "      <th>Name</th>\n",
       "      <th>Platform</th>\n",
       "      <th>Year_of_Release</th>\n",
       "      <th>Genre</th>\n",
       "      <th>NA_sales</th>\n",
       "      <th>EU_sales</th>\n",
       "      <th>JP_sales</th>\n",
       "      <th>Other_sales</th>\n",
       "      <th>Critic_Score</th>\n",
       "      <th>User_Score</th>\n",
       "      <th>Rating</th>\n",
       "    </tr>\n",
       "  </thead>\n",
       "  <tbody>\n",
       "    <tr>\n",
       "      <th>0</th>\n",
       "      <td>Wii Sports</td>\n",
       "      <td>Wii</td>\n",
       "      <td>2006.0</td>\n",
       "      <td>Sports</td>\n",
       "      <td>41.36</td>\n",
       "      <td>28.96</td>\n",
       "      <td>3.77</td>\n",
       "      <td>8.45</td>\n",
       "      <td>76.0</td>\n",
       "      <td>8</td>\n",
       "      <td>E</td>\n",
       "    </tr>\n",
       "    <tr>\n",
       "      <th>1</th>\n",
       "      <td>Super Mario Bros.</td>\n",
       "      <td>NES</td>\n",
       "      <td>1985.0</td>\n",
       "      <td>Platform</td>\n",
       "      <td>29.08</td>\n",
       "      <td>3.58</td>\n",
       "      <td>6.81</td>\n",
       "      <td>0.77</td>\n",
       "      <td>NaN</td>\n",
       "      <td>NaN</td>\n",
       "      <td>NaN</td>\n",
       "    </tr>\n",
       "    <tr>\n",
       "      <th>2</th>\n",
       "      <td>Mario Kart Wii</td>\n",
       "      <td>Wii</td>\n",
       "      <td>2008.0</td>\n",
       "      <td>Racing</td>\n",
       "      <td>15.68</td>\n",
       "      <td>12.76</td>\n",
       "      <td>3.79</td>\n",
       "      <td>3.29</td>\n",
       "      <td>82.0</td>\n",
       "      <td>8.3</td>\n",
       "      <td>E</td>\n",
       "    </tr>\n",
       "    <tr>\n",
       "      <th>3</th>\n",
       "      <td>Wii Sports Resort</td>\n",
       "      <td>Wii</td>\n",
       "      <td>2009.0</td>\n",
       "      <td>Sports</td>\n",
       "      <td>15.61</td>\n",
       "      <td>10.93</td>\n",
       "      <td>3.28</td>\n",
       "      <td>2.95</td>\n",
       "      <td>80.0</td>\n",
       "      <td>8</td>\n",
       "      <td>E</td>\n",
       "    </tr>\n",
       "    <tr>\n",
       "      <th>4</th>\n",
       "      <td>Pokemon Red/Pokemon Blue</td>\n",
       "      <td>GB</td>\n",
       "      <td>1996.0</td>\n",
       "      <td>Role-Playing</td>\n",
       "      <td>11.27</td>\n",
       "      <td>8.89</td>\n",
       "      <td>10.22</td>\n",
       "      <td>1.00</td>\n",
       "      <td>NaN</td>\n",
       "      <td>NaN</td>\n",
       "      <td>NaN</td>\n",
       "    </tr>\n",
       "    <tr>\n",
       "      <th>5</th>\n",
       "      <td>Tetris</td>\n",
       "      <td>GB</td>\n",
       "      <td>1989.0</td>\n",
       "      <td>Puzzle</td>\n",
       "      <td>23.20</td>\n",
       "      <td>2.26</td>\n",
       "      <td>4.22</td>\n",
       "      <td>0.58</td>\n",
       "      <td>NaN</td>\n",
       "      <td>NaN</td>\n",
       "      <td>NaN</td>\n",
       "    </tr>\n",
       "    <tr>\n",
       "      <th>6</th>\n",
       "      <td>New Super Mario Bros.</td>\n",
       "      <td>DS</td>\n",
       "      <td>2006.0</td>\n",
       "      <td>Platform</td>\n",
       "      <td>11.28</td>\n",
       "      <td>9.14</td>\n",
       "      <td>6.50</td>\n",
       "      <td>2.88</td>\n",
       "      <td>89.0</td>\n",
       "      <td>8.5</td>\n",
       "      <td>E</td>\n",
       "    </tr>\n",
       "    <tr>\n",
       "      <th>7</th>\n",
       "      <td>Wii Play</td>\n",
       "      <td>Wii</td>\n",
       "      <td>2006.0</td>\n",
       "      <td>Misc</td>\n",
       "      <td>13.96</td>\n",
       "      <td>9.18</td>\n",
       "      <td>2.93</td>\n",
       "      <td>2.84</td>\n",
       "      <td>58.0</td>\n",
       "      <td>6.6</td>\n",
       "      <td>E</td>\n",
       "    </tr>\n",
       "    <tr>\n",
       "      <th>8</th>\n",
       "      <td>New Super Mario Bros. Wii</td>\n",
       "      <td>Wii</td>\n",
       "      <td>2009.0</td>\n",
       "      <td>Platform</td>\n",
       "      <td>14.44</td>\n",
       "      <td>6.94</td>\n",
       "      <td>4.70</td>\n",
       "      <td>2.24</td>\n",
       "      <td>87.0</td>\n",
       "      <td>8.4</td>\n",
       "      <td>E</td>\n",
       "    </tr>\n",
       "    <tr>\n",
       "      <th>9</th>\n",
       "      <td>Duck Hunt</td>\n",
       "      <td>NES</td>\n",
       "      <td>1984.0</td>\n",
       "      <td>Shooter</td>\n",
       "      <td>26.93</td>\n",
       "      <td>0.63</td>\n",
       "      <td>0.28</td>\n",
       "      <td>0.47</td>\n",
       "      <td>NaN</td>\n",
       "      <td>NaN</td>\n",
       "      <td>NaN</td>\n",
       "    </tr>\n",
       "    <tr>\n",
       "      <th>10</th>\n",
       "      <td>Nintendogs</td>\n",
       "      <td>DS</td>\n",
       "      <td>2005.0</td>\n",
       "      <td>Simulation</td>\n",
       "      <td>9.05</td>\n",
       "      <td>10.95</td>\n",
       "      <td>1.93</td>\n",
       "      <td>2.74</td>\n",
       "      <td>NaN</td>\n",
       "      <td>NaN</td>\n",
       "      <td>NaN</td>\n",
       "    </tr>\n",
       "    <tr>\n",
       "      <th>11</th>\n",
       "      <td>Mario Kart DS</td>\n",
       "      <td>DS</td>\n",
       "      <td>2005.0</td>\n",
       "      <td>Racing</td>\n",
       "      <td>9.71</td>\n",
       "      <td>7.47</td>\n",
       "      <td>4.13</td>\n",
       "      <td>1.90</td>\n",
       "      <td>91.0</td>\n",
       "      <td>8.6</td>\n",
       "      <td>E</td>\n",
       "    </tr>\n",
       "    <tr>\n",
       "      <th>12</th>\n",
       "      <td>Pokemon Gold/Pokemon Silver</td>\n",
       "      <td>GB</td>\n",
       "      <td>1999.0</td>\n",
       "      <td>Role-Playing</td>\n",
       "      <td>9.00</td>\n",
       "      <td>6.18</td>\n",
       "      <td>7.20</td>\n",
       "      <td>0.71</td>\n",
       "      <td>NaN</td>\n",
       "      <td>NaN</td>\n",
       "      <td>NaN</td>\n",
       "    </tr>\n",
       "    <tr>\n",
       "      <th>13</th>\n",
       "      <td>Wii Fit</td>\n",
       "      <td>Wii</td>\n",
       "      <td>2007.0</td>\n",
       "      <td>Sports</td>\n",
       "      <td>8.92</td>\n",
       "      <td>8.03</td>\n",
       "      <td>3.60</td>\n",
       "      <td>2.15</td>\n",
       "      <td>80.0</td>\n",
       "      <td>7.7</td>\n",
       "      <td>E</td>\n",
       "    </tr>\n",
       "    <tr>\n",
       "      <th>14</th>\n",
       "      <td>Kinect Adventures!</td>\n",
       "      <td>X360</td>\n",
       "      <td>2010.0</td>\n",
       "      <td>Misc</td>\n",
       "      <td>15.00</td>\n",
       "      <td>4.89</td>\n",
       "      <td>0.24</td>\n",
       "      <td>1.69</td>\n",
       "      <td>61.0</td>\n",
       "      <td>6.3</td>\n",
       "      <td>E</td>\n",
       "    </tr>\n",
       "    <tr>\n",
       "      <th>15</th>\n",
       "      <td>Wii Fit Plus</td>\n",
       "      <td>Wii</td>\n",
       "      <td>2009.0</td>\n",
       "      <td>Sports</td>\n",
       "      <td>9.01</td>\n",
       "      <td>8.49</td>\n",
       "      <td>2.53</td>\n",
       "      <td>1.77</td>\n",
       "      <td>80.0</td>\n",
       "      <td>7.4</td>\n",
       "      <td>E</td>\n",
       "    </tr>\n",
       "    <tr>\n",
       "      <th>16</th>\n",
       "      <td>Grand Theft Auto V</td>\n",
       "      <td>PS3</td>\n",
       "      <td>2013.0</td>\n",
       "      <td>Action</td>\n",
       "      <td>7.02</td>\n",
       "      <td>9.09</td>\n",
       "      <td>0.98</td>\n",
       "      <td>3.96</td>\n",
       "      <td>97.0</td>\n",
       "      <td>8.2</td>\n",
       "      <td>M</td>\n",
       "    </tr>\n",
       "    <tr>\n",
       "      <th>17</th>\n",
       "      <td>Grand Theft Auto: San Andreas</td>\n",
       "      <td>PS2</td>\n",
       "      <td>2004.0</td>\n",
       "      <td>Action</td>\n",
       "      <td>9.43</td>\n",
       "      <td>0.40</td>\n",
       "      <td>0.41</td>\n",
       "      <td>10.57</td>\n",
       "      <td>95.0</td>\n",
       "      <td>9</td>\n",
       "      <td>M</td>\n",
       "    </tr>\n",
       "    <tr>\n",
       "      <th>18</th>\n",
       "      <td>Super Mario World</td>\n",
       "      <td>SNES</td>\n",
       "      <td>1990.0</td>\n",
       "      <td>Platform</td>\n",
       "      <td>12.78</td>\n",
       "      <td>3.75</td>\n",
       "      <td>3.54</td>\n",
       "      <td>0.55</td>\n",
       "      <td>NaN</td>\n",
       "      <td>NaN</td>\n",
       "      <td>NaN</td>\n",
       "    </tr>\n",
       "    <tr>\n",
       "      <th>19</th>\n",
       "      <td>Brain Age: Train Your Brain in Minutes a Day</td>\n",
       "      <td>DS</td>\n",
       "      <td>2005.0</td>\n",
       "      <td>Misc</td>\n",
       "      <td>4.74</td>\n",
       "      <td>9.20</td>\n",
       "      <td>4.16</td>\n",
       "      <td>2.04</td>\n",
       "      <td>77.0</td>\n",
       "      <td>7.9</td>\n",
       "      <td>E</td>\n",
       "    </tr>\n",
       "  </tbody>\n",
       "</table>\n",
       "</div>"
      ],
      "text/plain": [
       "                                            Name Platform  Year_of_Release  \\\n",
       "0                                     Wii Sports      Wii           2006.0   \n",
       "1                              Super Mario Bros.      NES           1985.0   \n",
       "2                                 Mario Kart Wii      Wii           2008.0   \n",
       "3                              Wii Sports Resort      Wii           2009.0   \n",
       "4                       Pokemon Red/Pokemon Blue       GB           1996.0   \n",
       "5                                         Tetris       GB           1989.0   \n",
       "6                          New Super Mario Bros.       DS           2006.0   \n",
       "7                                       Wii Play      Wii           2006.0   \n",
       "8                      New Super Mario Bros. Wii      Wii           2009.0   \n",
       "9                                      Duck Hunt      NES           1984.0   \n",
       "10                                    Nintendogs       DS           2005.0   \n",
       "11                                 Mario Kart DS       DS           2005.0   \n",
       "12                   Pokemon Gold/Pokemon Silver       GB           1999.0   \n",
       "13                                       Wii Fit      Wii           2007.0   \n",
       "14                            Kinect Adventures!     X360           2010.0   \n",
       "15                                  Wii Fit Plus      Wii           2009.0   \n",
       "16                            Grand Theft Auto V      PS3           2013.0   \n",
       "17                 Grand Theft Auto: San Andreas      PS2           2004.0   \n",
       "18                             Super Mario World     SNES           1990.0   \n",
       "19  Brain Age: Train Your Brain in Minutes a Day       DS           2005.0   \n",
       "\n",
       "           Genre  NA_sales  EU_sales  JP_sales  Other_sales  Critic_Score  \\\n",
       "0         Sports     41.36     28.96      3.77         8.45          76.0   \n",
       "1       Platform     29.08      3.58      6.81         0.77           NaN   \n",
       "2         Racing     15.68     12.76      3.79         3.29          82.0   \n",
       "3         Sports     15.61     10.93      3.28         2.95          80.0   \n",
       "4   Role-Playing     11.27      8.89     10.22         1.00           NaN   \n",
       "5         Puzzle     23.20      2.26      4.22         0.58           NaN   \n",
       "6       Platform     11.28      9.14      6.50         2.88          89.0   \n",
       "7           Misc     13.96      9.18      2.93         2.84          58.0   \n",
       "8       Platform     14.44      6.94      4.70         2.24          87.0   \n",
       "9        Shooter     26.93      0.63      0.28         0.47           NaN   \n",
       "10    Simulation      9.05     10.95      1.93         2.74           NaN   \n",
       "11        Racing      9.71      7.47      4.13         1.90          91.0   \n",
       "12  Role-Playing      9.00      6.18      7.20         0.71           NaN   \n",
       "13        Sports      8.92      8.03      3.60         2.15          80.0   \n",
       "14          Misc     15.00      4.89      0.24         1.69          61.0   \n",
       "15        Sports      9.01      8.49      2.53         1.77          80.0   \n",
       "16        Action      7.02      9.09      0.98         3.96          97.0   \n",
       "17        Action      9.43      0.40      0.41        10.57          95.0   \n",
       "18      Platform     12.78      3.75      3.54         0.55           NaN   \n",
       "19          Misc      4.74      9.20      4.16         2.04          77.0   \n",
       "\n",
       "   User_Score Rating  \n",
       "0           8      E  \n",
       "1         NaN    NaN  \n",
       "2         8.3      E  \n",
       "3           8      E  \n",
       "4         NaN    NaN  \n",
       "5         NaN    NaN  \n",
       "6         8.5      E  \n",
       "7         6.6      E  \n",
       "8         8.4      E  \n",
       "9         NaN    NaN  \n",
       "10        NaN    NaN  \n",
       "11        8.6      E  \n",
       "12        NaN    NaN  \n",
       "13        7.7      E  \n",
       "14        6.3      E  \n",
       "15        7.4      E  \n",
       "16        8.2      M  \n",
       "17          9      M  \n",
       "18        NaN    NaN  \n",
       "19        7.9      E  "
      ]
     },
     "execution_count": 3,
     "metadata": {},
     "output_type": "execute_result"
    }
   ],
   "source": [
    "data.head(20)"
   ]
  },
  {
   "cell_type": "code",
   "execution_count": 4,
   "metadata": {
    "scrolled": true
   },
   "outputs": [
    {
     "name": "stdout",
     "output_type": "stream",
     "text": [
      "<class 'pandas.core.frame.DataFrame'>\n",
      "RangeIndex: 16715 entries, 0 to 16714\n",
      "Data columns (total 11 columns):\n",
      " #   Column           Non-Null Count  Dtype  \n",
      "---  ------           --------------  -----  \n",
      " 0   Name             16713 non-null  object \n",
      " 1   Platform         16715 non-null  object \n",
      " 2   Year_of_Release  16446 non-null  float64\n",
      " 3   Genre            16713 non-null  object \n",
      " 4   NA_sales         16715 non-null  float64\n",
      " 5   EU_sales         16715 non-null  float64\n",
      " 6   JP_sales         16715 non-null  float64\n",
      " 7   Other_sales      16715 non-null  float64\n",
      " 8   Critic_Score     8137 non-null   float64\n",
      " 9   User_Score       10014 non-null  object \n",
      " 10  Rating           9949 non-null   object \n",
      "dtypes: float64(6), object(5)\n",
      "memory usage: 1.4+ MB\n"
     ]
    }
   ],
   "source": [
    "data.info()"
   ]
  },
  {
   "cell_type": "markdown",
   "metadata": {},
   "source": [
    "<div class=\"alert alert-info\">\n",
    "<b> План по обзору данных</b>\n",
    "\n",
    "1. Некорректное наименований колонок. Необходимо приведение к нижнему регистру.\n",
    "2. Проверка на корректность типов данных.\n",
    "3. Пропуски. Необходимо разобрать причину пропусков и исправить.\n",
    "4. Дубликаты. Проверка на явные и неявные дубликаты.\n",
    "5. Выбросы и аномалии.\n",
    "    "
   ]
  },
  {
   "cell_type": "code",
   "execution_count": 5,
   "metadata": {},
   "outputs": [],
   "source": [
    "data.columns = data.columns.str.lower() #приведем название столбцов в единый вид- к нижнему регистру"
   ]
  },
  {
   "cell_type": "code",
   "execution_count": 6,
   "metadata": {
    "scrolled": true
   },
   "outputs": [
    {
     "data": {
      "text/html": [
       "<div>\n",
       "<style scoped>\n",
       "    .dataframe tbody tr th:only-of-type {\n",
       "        vertical-align: middle;\n",
       "    }\n",
       "\n",
       "    .dataframe tbody tr th {\n",
       "        vertical-align: top;\n",
       "    }\n",
       "\n",
       "    .dataframe thead th {\n",
       "        text-align: right;\n",
       "    }\n",
       "</style>\n",
       "<table border=\"1\" class=\"dataframe\">\n",
       "  <thead>\n",
       "    <tr style=\"text-align: right;\">\n",
       "      <th></th>\n",
       "      <th>name</th>\n",
       "      <th>platform</th>\n",
       "      <th>year_of_release</th>\n",
       "      <th>genre</th>\n",
       "      <th>na_sales</th>\n",
       "      <th>eu_sales</th>\n",
       "      <th>jp_sales</th>\n",
       "      <th>other_sales</th>\n",
       "      <th>critic_score</th>\n",
       "      <th>user_score</th>\n",
       "      <th>rating</th>\n",
       "    </tr>\n",
       "  </thead>\n",
       "  <tbody>\n",
       "    <tr>\n",
       "      <th>0</th>\n",
       "      <td>Wii Sports</td>\n",
       "      <td>Wii</td>\n",
       "      <td>2006.0</td>\n",
       "      <td>Sports</td>\n",
       "      <td>41.36</td>\n",
       "      <td>28.96</td>\n",
       "      <td>3.77</td>\n",
       "      <td>8.45</td>\n",
       "      <td>76.0</td>\n",
       "      <td>8</td>\n",
       "      <td>E</td>\n",
       "    </tr>\n",
       "    <tr>\n",
       "      <th>1</th>\n",
       "      <td>Super Mario Bros.</td>\n",
       "      <td>NES</td>\n",
       "      <td>1985.0</td>\n",
       "      <td>Platform</td>\n",
       "      <td>29.08</td>\n",
       "      <td>3.58</td>\n",
       "      <td>6.81</td>\n",
       "      <td>0.77</td>\n",
       "      <td>NaN</td>\n",
       "      <td>NaN</td>\n",
       "      <td>NaN</td>\n",
       "    </tr>\n",
       "    <tr>\n",
       "      <th>2</th>\n",
       "      <td>Mario Kart Wii</td>\n",
       "      <td>Wii</td>\n",
       "      <td>2008.0</td>\n",
       "      <td>Racing</td>\n",
       "      <td>15.68</td>\n",
       "      <td>12.76</td>\n",
       "      <td>3.79</td>\n",
       "      <td>3.29</td>\n",
       "      <td>82.0</td>\n",
       "      <td>8.3</td>\n",
       "      <td>E</td>\n",
       "    </tr>\n",
       "    <tr>\n",
       "      <th>3</th>\n",
       "      <td>Wii Sports Resort</td>\n",
       "      <td>Wii</td>\n",
       "      <td>2009.0</td>\n",
       "      <td>Sports</td>\n",
       "      <td>15.61</td>\n",
       "      <td>10.93</td>\n",
       "      <td>3.28</td>\n",
       "      <td>2.95</td>\n",
       "      <td>80.0</td>\n",
       "      <td>8</td>\n",
       "      <td>E</td>\n",
       "    </tr>\n",
       "    <tr>\n",
       "      <th>4</th>\n",
       "      <td>Pokemon Red/Pokemon Blue</td>\n",
       "      <td>GB</td>\n",
       "      <td>1996.0</td>\n",
       "      <td>Role-Playing</td>\n",
       "      <td>11.27</td>\n",
       "      <td>8.89</td>\n",
       "      <td>10.22</td>\n",
       "      <td>1.00</td>\n",
       "      <td>NaN</td>\n",
       "      <td>NaN</td>\n",
       "      <td>NaN</td>\n",
       "    </tr>\n",
       "    <tr>\n",
       "      <th>5</th>\n",
       "      <td>Tetris</td>\n",
       "      <td>GB</td>\n",
       "      <td>1989.0</td>\n",
       "      <td>Puzzle</td>\n",
       "      <td>23.20</td>\n",
       "      <td>2.26</td>\n",
       "      <td>4.22</td>\n",
       "      <td>0.58</td>\n",
       "      <td>NaN</td>\n",
       "      <td>NaN</td>\n",
       "      <td>NaN</td>\n",
       "    </tr>\n",
       "    <tr>\n",
       "      <th>6</th>\n",
       "      <td>New Super Mario Bros.</td>\n",
       "      <td>DS</td>\n",
       "      <td>2006.0</td>\n",
       "      <td>Platform</td>\n",
       "      <td>11.28</td>\n",
       "      <td>9.14</td>\n",
       "      <td>6.50</td>\n",
       "      <td>2.88</td>\n",
       "      <td>89.0</td>\n",
       "      <td>8.5</td>\n",
       "      <td>E</td>\n",
       "    </tr>\n",
       "    <tr>\n",
       "      <th>7</th>\n",
       "      <td>Wii Play</td>\n",
       "      <td>Wii</td>\n",
       "      <td>2006.0</td>\n",
       "      <td>Misc</td>\n",
       "      <td>13.96</td>\n",
       "      <td>9.18</td>\n",
       "      <td>2.93</td>\n",
       "      <td>2.84</td>\n",
       "      <td>58.0</td>\n",
       "      <td>6.6</td>\n",
       "      <td>E</td>\n",
       "    </tr>\n",
       "    <tr>\n",
       "      <th>8</th>\n",
       "      <td>New Super Mario Bros. Wii</td>\n",
       "      <td>Wii</td>\n",
       "      <td>2009.0</td>\n",
       "      <td>Platform</td>\n",
       "      <td>14.44</td>\n",
       "      <td>6.94</td>\n",
       "      <td>4.70</td>\n",
       "      <td>2.24</td>\n",
       "      <td>87.0</td>\n",
       "      <td>8.4</td>\n",
       "      <td>E</td>\n",
       "    </tr>\n",
       "    <tr>\n",
       "      <th>9</th>\n",
       "      <td>Duck Hunt</td>\n",
       "      <td>NES</td>\n",
       "      <td>1984.0</td>\n",
       "      <td>Shooter</td>\n",
       "      <td>26.93</td>\n",
       "      <td>0.63</td>\n",
       "      <td>0.28</td>\n",
       "      <td>0.47</td>\n",
       "      <td>NaN</td>\n",
       "      <td>NaN</td>\n",
       "      <td>NaN</td>\n",
       "    </tr>\n",
       "    <tr>\n",
       "      <th>10</th>\n",
       "      <td>Nintendogs</td>\n",
       "      <td>DS</td>\n",
       "      <td>2005.0</td>\n",
       "      <td>Simulation</td>\n",
       "      <td>9.05</td>\n",
       "      <td>10.95</td>\n",
       "      <td>1.93</td>\n",
       "      <td>2.74</td>\n",
       "      <td>NaN</td>\n",
       "      <td>NaN</td>\n",
       "      <td>NaN</td>\n",
       "    </tr>\n",
       "    <tr>\n",
       "      <th>11</th>\n",
       "      <td>Mario Kart DS</td>\n",
       "      <td>DS</td>\n",
       "      <td>2005.0</td>\n",
       "      <td>Racing</td>\n",
       "      <td>9.71</td>\n",
       "      <td>7.47</td>\n",
       "      <td>4.13</td>\n",
       "      <td>1.90</td>\n",
       "      <td>91.0</td>\n",
       "      <td>8.6</td>\n",
       "      <td>E</td>\n",
       "    </tr>\n",
       "    <tr>\n",
       "      <th>12</th>\n",
       "      <td>Pokemon Gold/Pokemon Silver</td>\n",
       "      <td>GB</td>\n",
       "      <td>1999.0</td>\n",
       "      <td>Role-Playing</td>\n",
       "      <td>9.00</td>\n",
       "      <td>6.18</td>\n",
       "      <td>7.20</td>\n",
       "      <td>0.71</td>\n",
       "      <td>NaN</td>\n",
       "      <td>NaN</td>\n",
       "      <td>NaN</td>\n",
       "    </tr>\n",
       "    <tr>\n",
       "      <th>13</th>\n",
       "      <td>Wii Fit</td>\n",
       "      <td>Wii</td>\n",
       "      <td>2007.0</td>\n",
       "      <td>Sports</td>\n",
       "      <td>8.92</td>\n",
       "      <td>8.03</td>\n",
       "      <td>3.60</td>\n",
       "      <td>2.15</td>\n",
       "      <td>80.0</td>\n",
       "      <td>7.7</td>\n",
       "      <td>E</td>\n",
       "    </tr>\n",
       "    <tr>\n",
       "      <th>14</th>\n",
       "      <td>Kinect Adventures!</td>\n",
       "      <td>X360</td>\n",
       "      <td>2010.0</td>\n",
       "      <td>Misc</td>\n",
       "      <td>15.00</td>\n",
       "      <td>4.89</td>\n",
       "      <td>0.24</td>\n",
       "      <td>1.69</td>\n",
       "      <td>61.0</td>\n",
       "      <td>6.3</td>\n",
       "      <td>E</td>\n",
       "    </tr>\n",
       "    <tr>\n",
       "      <th>15</th>\n",
       "      <td>Wii Fit Plus</td>\n",
       "      <td>Wii</td>\n",
       "      <td>2009.0</td>\n",
       "      <td>Sports</td>\n",
       "      <td>9.01</td>\n",
       "      <td>8.49</td>\n",
       "      <td>2.53</td>\n",
       "      <td>1.77</td>\n",
       "      <td>80.0</td>\n",
       "      <td>7.4</td>\n",
       "      <td>E</td>\n",
       "    </tr>\n",
       "    <tr>\n",
       "      <th>16</th>\n",
       "      <td>Grand Theft Auto V</td>\n",
       "      <td>PS3</td>\n",
       "      <td>2013.0</td>\n",
       "      <td>Action</td>\n",
       "      <td>7.02</td>\n",
       "      <td>9.09</td>\n",
       "      <td>0.98</td>\n",
       "      <td>3.96</td>\n",
       "      <td>97.0</td>\n",
       "      <td>8.2</td>\n",
       "      <td>M</td>\n",
       "    </tr>\n",
       "    <tr>\n",
       "      <th>17</th>\n",
       "      <td>Grand Theft Auto: San Andreas</td>\n",
       "      <td>PS2</td>\n",
       "      <td>2004.0</td>\n",
       "      <td>Action</td>\n",
       "      <td>9.43</td>\n",
       "      <td>0.40</td>\n",
       "      <td>0.41</td>\n",
       "      <td>10.57</td>\n",
       "      <td>95.0</td>\n",
       "      <td>9</td>\n",
       "      <td>M</td>\n",
       "    </tr>\n",
       "    <tr>\n",
       "      <th>18</th>\n",
       "      <td>Super Mario World</td>\n",
       "      <td>SNES</td>\n",
       "      <td>1990.0</td>\n",
       "      <td>Platform</td>\n",
       "      <td>12.78</td>\n",
       "      <td>3.75</td>\n",
       "      <td>3.54</td>\n",
       "      <td>0.55</td>\n",
       "      <td>NaN</td>\n",
       "      <td>NaN</td>\n",
       "      <td>NaN</td>\n",
       "    </tr>\n",
       "    <tr>\n",
       "      <th>19</th>\n",
       "      <td>Brain Age: Train Your Brain in Minutes a Day</td>\n",
       "      <td>DS</td>\n",
       "      <td>2005.0</td>\n",
       "      <td>Misc</td>\n",
       "      <td>4.74</td>\n",
       "      <td>9.20</td>\n",
       "      <td>4.16</td>\n",
       "      <td>2.04</td>\n",
       "      <td>77.0</td>\n",
       "      <td>7.9</td>\n",
       "      <td>E</td>\n",
       "    </tr>\n",
       "  </tbody>\n",
       "</table>\n",
       "</div>"
      ],
      "text/plain": [
       "                                            name platform  year_of_release  \\\n",
       "0                                     Wii Sports      Wii           2006.0   \n",
       "1                              Super Mario Bros.      NES           1985.0   \n",
       "2                                 Mario Kart Wii      Wii           2008.0   \n",
       "3                              Wii Sports Resort      Wii           2009.0   \n",
       "4                       Pokemon Red/Pokemon Blue       GB           1996.0   \n",
       "5                                         Tetris       GB           1989.0   \n",
       "6                          New Super Mario Bros.       DS           2006.0   \n",
       "7                                       Wii Play      Wii           2006.0   \n",
       "8                      New Super Mario Bros. Wii      Wii           2009.0   \n",
       "9                                      Duck Hunt      NES           1984.0   \n",
       "10                                    Nintendogs       DS           2005.0   \n",
       "11                                 Mario Kart DS       DS           2005.0   \n",
       "12                   Pokemon Gold/Pokemon Silver       GB           1999.0   \n",
       "13                                       Wii Fit      Wii           2007.0   \n",
       "14                            Kinect Adventures!     X360           2010.0   \n",
       "15                                  Wii Fit Plus      Wii           2009.0   \n",
       "16                            Grand Theft Auto V      PS3           2013.0   \n",
       "17                 Grand Theft Auto: San Andreas      PS2           2004.0   \n",
       "18                             Super Mario World     SNES           1990.0   \n",
       "19  Brain Age: Train Your Brain in Minutes a Day       DS           2005.0   \n",
       "\n",
       "           genre  na_sales  eu_sales  jp_sales  other_sales  critic_score  \\\n",
       "0         Sports     41.36     28.96      3.77         8.45          76.0   \n",
       "1       Platform     29.08      3.58      6.81         0.77           NaN   \n",
       "2         Racing     15.68     12.76      3.79         3.29          82.0   \n",
       "3         Sports     15.61     10.93      3.28         2.95          80.0   \n",
       "4   Role-Playing     11.27      8.89     10.22         1.00           NaN   \n",
       "5         Puzzle     23.20      2.26      4.22         0.58           NaN   \n",
       "6       Platform     11.28      9.14      6.50         2.88          89.0   \n",
       "7           Misc     13.96      9.18      2.93         2.84          58.0   \n",
       "8       Platform     14.44      6.94      4.70         2.24          87.0   \n",
       "9        Shooter     26.93      0.63      0.28         0.47           NaN   \n",
       "10    Simulation      9.05     10.95      1.93         2.74           NaN   \n",
       "11        Racing      9.71      7.47      4.13         1.90          91.0   \n",
       "12  Role-Playing      9.00      6.18      7.20         0.71           NaN   \n",
       "13        Sports      8.92      8.03      3.60         2.15          80.0   \n",
       "14          Misc     15.00      4.89      0.24         1.69          61.0   \n",
       "15        Sports      9.01      8.49      2.53         1.77          80.0   \n",
       "16        Action      7.02      9.09      0.98         3.96          97.0   \n",
       "17        Action      9.43      0.40      0.41        10.57          95.0   \n",
       "18      Platform     12.78      3.75      3.54         0.55           NaN   \n",
       "19          Misc      4.74      9.20      4.16         2.04          77.0   \n",
       "\n",
       "   user_score rating  \n",
       "0           8      E  \n",
       "1         NaN    NaN  \n",
       "2         8.3      E  \n",
       "3           8      E  \n",
       "4         NaN    NaN  \n",
       "5         NaN    NaN  \n",
       "6         8.5      E  \n",
       "7         6.6      E  \n",
       "8         8.4      E  \n",
       "9         NaN    NaN  \n",
       "10        NaN    NaN  \n",
       "11        8.6      E  \n",
       "12        NaN    NaN  \n",
       "13        7.7      E  \n",
       "14        6.3      E  \n",
       "15        7.4      E  \n",
       "16        8.2      M  \n",
       "17          9      M  \n",
       "18        NaN    NaN  \n",
       "19        7.9      E  "
      ]
     },
     "execution_count": 6,
     "metadata": {},
     "output_type": "execute_result"
    }
   ],
   "source": [
    "data.head(20)"
   ]
  },
  {
   "cell_type": "code",
   "execution_count": 7,
   "metadata": {},
   "outputs": [
    {
     "name": "stdout",
     "output_type": "stream",
     "text": [
      "                                          name platform  year_of_release  \\\n",
      "119                              Zumba Fitness      Wii           2010.0   \n",
      "301             Namco Museum: 50th Anniversary      PS2           2005.0   \n",
      "520                            Zumba Fitness 2      Wii           2011.0   \n",
      "645                               uDraw Studio      Wii           2010.0   \n",
      "657   Frogger's Adventures: Temple of the Frog      GBA              NaN   \n",
      "718                            Just Dance Kids      Wii           2010.0   \n",
      "726                  Dance Dance Revolution X2      PS2           2009.0   \n",
      "821                            The Incredibles      GBA           2004.0   \n",
      "881              Who wants to be a millionaire       PC           1999.0   \n",
      "1047                             Tetris Worlds      GBA           2001.0   \n",
      "\n",
      "           genre  na_sales  eu_sales  jp_sales  other_sales  critic_score  \\\n",
      "119       Sports      3.45      2.59      0.00         0.66           NaN   \n",
      "301         Misc      2.08      1.35      0.00         0.54          61.0   \n",
      "520       Sports      1.51      1.03      0.00         0.27           NaN   \n",
      "645         Misc      1.65      0.57      0.00         0.20          71.0   \n",
      "657    Adventure      2.15      0.18      0.00         0.07          73.0   \n",
      "718         Misc      1.52      0.54      0.00         0.18           NaN   \n",
      "726   Simulation      1.09      0.85      0.00         0.28           NaN   \n",
      "821       Action      1.15      0.77      0.04         0.10          55.0   \n",
      "881         Misc      1.94      0.00      0.00         0.00           NaN   \n",
      "1047      Puzzle      1.25      0.39      0.00         0.06          65.0   \n",
      "\n",
      "     user_score rating  \n",
      "119         tbd      E  \n",
      "301         tbd   E10+  \n",
      "520         tbd      T  \n",
      "645         tbd      E  \n",
      "657         tbd      E  \n",
      "718         tbd      E  \n",
      "726         tbd   E10+  \n",
      "821         tbd      E  \n",
      "881         tbd      E  \n",
      "1047        tbd      E  \n"
     ]
    }
   ],
   "source": [
    "data_user_score_tbd=data.query('user_score==\"tbd\"')\n",
    "print(data_user_score_tbd.head(10))"
   ]
  },
  {
   "cell_type": "markdown",
   "metadata": {},
   "source": [
    "Предполагаем, что tbd  - это пропуск, незаполненное поле user_score. Вероятно, пользователь не дал никакую оценку. Заменим на пустое значение."
   ]
  },
  {
   "cell_type": "code",
   "execution_count": 8,
   "metadata": {},
   "outputs": [],
   "source": [
    "data['user_score'] = data['user_score'].replace('tbd',float('NaN'))"
   ]
  },
  {
   "cell_type": "markdown",
   "metadata": {},
   "source": [
    "Заполним пропущенные поля по колонке year_of_release на 0. Вероятно, нет в датасете инфы по годам выпуска игр."
   ]
  },
  {
   "cell_type": "code",
   "execution_count": 9,
   "metadata": {},
   "outputs": [],
   "source": [
    "data['year_of_release'] = data['year_of_release'].fillna(0)"
   ]
  },
  {
   "cell_type": "code",
   "execution_count": 10,
   "metadata": {},
   "outputs": [],
   "source": [
    "data['year_of_release'] = data['year_of_release'].astype(int)\n",
    "data['user_score'] = pd.to_numeric(data['user_score'], errors='coerce')"
   ]
  },
  {
   "cell_type": "markdown",
   "metadata": {},
   "source": [
    "Изменили формат у столбцов year_of_release,user_score так как первый относится к формату челочисленному значению, второй численное значение."
   ]
  },
  {
   "cell_type": "code",
   "execution_count": 11,
   "metadata": {},
   "outputs": [
    {
     "name": "stdout",
     "output_type": "stream",
     "text": [
      "<class 'pandas.core.frame.DataFrame'>\n",
      "RangeIndex: 16715 entries, 0 to 16714\n",
      "Data columns (total 11 columns):\n",
      " #   Column           Non-Null Count  Dtype  \n",
      "---  ------           --------------  -----  \n",
      " 0   name             16713 non-null  object \n",
      " 1   platform         16715 non-null  object \n",
      " 2   year_of_release  16715 non-null  int64  \n",
      " 3   genre            16713 non-null  object \n",
      " 4   na_sales         16715 non-null  float64\n",
      " 5   eu_sales         16715 non-null  float64\n",
      " 6   jp_sales         16715 non-null  float64\n",
      " 7   other_sales      16715 non-null  float64\n",
      " 8   critic_score     8137 non-null   float64\n",
      " 9   user_score       7590 non-null   float64\n",
      " 10  rating           9949 non-null   object \n",
      "dtypes: float64(6), int64(1), object(4)\n",
      "memory usage: 1.4+ MB\n"
     ]
    }
   ],
   "source": [
    "data.info()"
   ]
  },
  {
   "cell_type": "code",
   "execution_count": 12,
   "metadata": {},
   "outputs": [
    {
     "name": "stdout",
     "output_type": "stream",
     "text": [
      "name                  2\n",
      "platform              0\n",
      "year_of_release       0\n",
      "genre                 2\n",
      "na_sales              0\n",
      "eu_sales              0\n",
      "jp_sales              0\n",
      "other_sales           0\n",
      "critic_score       8578\n",
      "user_score         9125\n",
      "rating             6766\n",
      "dtype: int64\n"
     ]
    }
   ],
   "source": [
    "print(data.isnull().sum()) #ищем пропуски в столбцах"
   ]
  },
  {
   "cell_type": "code",
   "execution_count": 13,
   "metadata": {},
   "outputs": [
    {
     "data": {
      "text/html": [
       "<style  type=\"text/css\" >\n",
       "#T_00319_row0_col0,#T_00319_row1_col0,#T_00319_row2_col0,#T_00319_row3_col0,#T_00319_row4_col0,#T_00319_row5_col0,#T_00319_row6_col0,#T_00319_row7_col0{\n",
       "            background-color:  #3b4cc0;\n",
       "            color:  #f1f1f1;\n",
       "        }#T_00319_row8_col0{\n",
       "            background-color:  #ca3b37;\n",
       "            color:  #f1f1f1;\n",
       "        }#T_00319_row9_col0{\n",
       "            background-color:  #b40426;\n",
       "            color:  #f1f1f1;\n",
       "        }#T_00319_row10_col0{\n",
       "            background-color:  #f59d7e;\n",
       "            color:  #000000;\n",
       "        }</style><table id=\"T_00319_\" ><thead>    <tr>        <th class=\"blank level0\" ></th>        <th class=\"col_heading level0 col0\" >0</th>    </tr></thead><tbody>\n",
       "                <tr>\n",
       "                        <th id=\"T_00319_level0_row0\" class=\"row_heading level0 row0\" >name</th>\n",
       "                        <td id=\"T_00319_row0_col0\" class=\"data row0 col0\" >0.0</td>\n",
       "            </tr>\n",
       "            <tr>\n",
       "                        <th id=\"T_00319_level0_row1\" class=\"row_heading level0 row1\" >platform</th>\n",
       "                        <td id=\"T_00319_row1_col0\" class=\"data row1 col0\" >0.0</td>\n",
       "            </tr>\n",
       "            <tr>\n",
       "                        <th id=\"T_00319_level0_row2\" class=\"row_heading level0 row2\" >year_of_release</th>\n",
       "                        <td id=\"T_00319_row2_col0\" class=\"data row2 col0\" >0.0</td>\n",
       "            </tr>\n",
       "            <tr>\n",
       "                        <th id=\"T_00319_level0_row3\" class=\"row_heading level0 row3\" >genre</th>\n",
       "                        <td id=\"T_00319_row3_col0\" class=\"data row3 col0\" >0.0</td>\n",
       "            </tr>\n",
       "            <tr>\n",
       "                        <th id=\"T_00319_level0_row4\" class=\"row_heading level0 row4\" >na_sales</th>\n",
       "                        <td id=\"T_00319_row4_col0\" class=\"data row4 col0\" >0.0</td>\n",
       "            </tr>\n",
       "            <tr>\n",
       "                        <th id=\"T_00319_level0_row5\" class=\"row_heading level0 row5\" >eu_sales</th>\n",
       "                        <td id=\"T_00319_row5_col0\" class=\"data row5 col0\" >0.0</td>\n",
       "            </tr>\n",
       "            <tr>\n",
       "                        <th id=\"T_00319_level0_row6\" class=\"row_heading level0 row6\" >jp_sales</th>\n",
       "                        <td id=\"T_00319_row6_col0\" class=\"data row6 col0\" >0.0</td>\n",
       "            </tr>\n",
       "            <tr>\n",
       "                        <th id=\"T_00319_level0_row7\" class=\"row_heading level0 row7\" >other_sales</th>\n",
       "                        <td id=\"T_00319_row7_col0\" class=\"data row7 col0\" >0.0</td>\n",
       "            </tr>\n",
       "            <tr>\n",
       "                        <th id=\"T_00319_level0_row8\" class=\"row_heading level0 row8\" >critic_score</th>\n",
       "                        <td id=\"T_00319_row8_col0\" class=\"data row8 col0\" >51.3</td>\n",
       "            </tr>\n",
       "            <tr>\n",
       "                        <th id=\"T_00319_level0_row9\" class=\"row_heading level0 row9\" >user_score</th>\n",
       "                        <td id=\"T_00319_row9_col0\" class=\"data row9 col0\" >54.6</td>\n",
       "            </tr>\n",
       "            <tr>\n",
       "                        <th id=\"T_00319_level0_row10\" class=\"row_heading level0 row10\" >rating</th>\n",
       "                        <td id=\"T_00319_row10_col0\" class=\"data row10 col0\" >40.5</td>\n",
       "            </tr>\n",
       "    </tbody></table>"
      ],
      "text/plain": [
       "<pandas.io.formats.style.Styler at 0x7fe4e84b08e0>"
      ]
     },
     "execution_count": 13,
     "metadata": {},
     "output_type": "execute_result"
    }
   ],
   "source": [
    "pd.DataFrame(data.isna().mean()*100).style.set_precision(1).background_gradient('coolwarm')"
   ]
  },
  {
   "cell_type": "markdown",
   "metadata": {},
   "source": [
    "Из статистики по долям можно сделать вывод, что пропуски в столбцах critic_score,user_score,rating  имеют критически большую долю.Следует обработать данные пропуски"
   ]
  },
  {
   "cell_type": "code",
   "execution_count": 14,
   "metadata": {
    "scrolled": true
   },
   "outputs": [],
   "source": [
    "for t in data['platform'].unique():\n",
    "    data.loc[(data['platform'] == t) & (data['critic_score'].isna()), 'critic_score'] = \\\n",
    "    data.loc[(data['platform'] == t), 'critic_score'].median() \n",
    "    warnings.filterwarnings(\"ignore\")#заменим медианным значением"
   ]
  },
  {
   "cell_type": "code",
   "execution_count": 15,
   "metadata": {},
   "outputs": [],
   "source": [
    "for t in data['platform'].unique():\n",
    "    data.loc[(data['platform'] == t) & (data['user_score'].isna()), 'user_score'] = \\\n",
    "    data.loc[(data['platform'] == t), 'user_score'].median()\n",
    "    warnings.filterwarnings(\"ignore\")#заменим медианным значением"
   ]
  },
  {
   "cell_type": "code",
   "execution_count": 16,
   "metadata": {},
   "outputs": [
    {
     "name": "stdout",
     "output_type": "stream",
     "text": [
      "name                  2\n",
      "platform              0\n",
      "year_of_release       0\n",
      "genre                 2\n",
      "na_sales              0\n",
      "eu_sales              0\n",
      "jp_sales              0\n",
      "other_sales           0\n",
      "critic_score       1120\n",
      "user_score         1120\n",
      "rating             6766\n",
      "dtype: int64\n"
     ]
    }
   ],
   "source": [
    "print(data.isnull().sum()) #проверим кол-во пропуском"
   ]
  },
  {
   "cell_type": "code",
   "execution_count": 17,
   "metadata": {},
   "outputs": [
    {
     "data": {
      "image/png": "[encoded data removed]",
      "text/plain": [
       "<Figure size 432x288 with 1 Axes>"
      ]
     },
     "metadata": {
      "needs_background": "light"
     },
     "output_type": "display_data"
    }
   ],
   "source": [
    "data_critic_score=(\n",
    "    data\n",
    "    .pivot_table(index='year_of_release',values='critic_score',aggfunc='sum')\n",
    "    .plot(kind='bar',title='Распределение оценок критиков по годам')\n",
    ")"
   ]
  },
  {
   "cell_type": "code",
   "execution_count": 18,
   "metadata": {},
   "outputs": [
    {
     "data": {
      "image/png": "[encoded data removed]",
      "text/plain": [
       "<Figure size 432x288 with 1 Axes>"
      ]
     },
     "metadata": {
      "needs_background": "light"
     },
     "output_type": "display_data"
    }
   ],
   "source": [
    "data_user_score=(\n",
    "    data\n",
    "    .pivot_table(index='year_of_release',values='user_score',aggfunc='sum')\n",
    "    .plot(kind='bar',title='Распределение оценок  пользователей по годам')\n",
    ")"
   ]
  },
  {
   "cell_type": "markdown",
   "metadata": {},
   "source": [
    "critic_score и user_score начали вести с 1994 года, до этого периода рейтинг не производился.\n",
    "Соответственно, оставшиеся пропуски в данных столбцах логичны и не требуют заполнений.\n"
   ]
  },
  {
   "cell_type": "code",
   "execution_count": 19,
   "metadata": {},
   "outputs": [
    {
     "data": {
      "image/png": "[encoded data removed]",
      "text/plain": [
       "<Figure size 432x288 with 1 Axes>"
      ]
     },
     "metadata": {
      "needs_background": "light"
     },
     "output_type": "display_data"
    }
   ],
   "source": [
    "data_rating=(\n",
    "    data\n",
    "    .pivot_table(index='year_of_release',values='rating',aggfunc='count')\n",
    "    .plot(kind='bar',title='Распределение рейтинга по годам')\n",
    ")"
   ]
  },
  {
   "cell_type": "code",
   "execution_count": 20,
   "metadata": {},
   "outputs": [],
   "source": [
    "data['rating'] = data['rating'].fillna('nan')"
   ]
  },
  {
   "cell_type": "markdown",
   "metadata": {},
   "source": [
    "Заменили пропуски рейтинга на \"заглушку\"-Nan.\n",
    "Здесь не можем установить какое то значение общее для заполнения,\n",
    "оставляем пропуски\n"
   ]
  },
  {
   "cell_type": "code",
   "execution_count": 21,
   "metadata": {
    "scrolled": true
   },
   "outputs": [
    {
     "name": "stdout",
     "output_type": "stream",
     "text": [
      "name                  2\n",
      "platform              0\n",
      "year_of_release       0\n",
      "genre                 2\n",
      "na_sales              0\n",
      "eu_sales              0\n",
      "jp_sales              0\n",
      "other_sales           0\n",
      "critic_score       1120\n",
      "user_score         1120\n",
      "rating                0\n",
      "dtype: int64\n"
     ]
    }
   ],
   "source": [
    "print(data.isnull().sum())"
   ]
  },
  {
   "cell_type": "code",
   "execution_count": 22,
   "metadata": {},
   "outputs": [
    {
     "name": "stdout",
     "output_type": "stream",
     "text": [
      "0\n"
     ]
    }
   ],
   "source": [
    "duplicate_data=data.duplicated().sum()\n",
    "print(duplicate_data) #Выведим на экран количество строк-дубликатов в данных. Если такие строки присутствуют, удалим их. "
   ]
  },
  {
   "cell_type": "code",
   "execution_count": 23,
   "metadata": {},
   "outputs": [
    {
     "data": {
      "text/plain": [
       "array(['Wii', 'NES', 'GB', 'DS', 'X360', 'PS3', 'PS2', 'SNES', 'GBA',\n",
       "       'PS4', '3DS', 'N64', 'PS', 'XB', 'PC', '2600', 'PSP', 'XOne',\n",
       "       'WiiU', 'GC', 'GEN', 'DC', 'PSV', 'SAT', 'SCD', 'WS', 'NG', 'TG16',\n",
       "       '3DO', 'GG', 'PCFX'], dtype=object)"
      ]
     },
     "metadata": {},
     "output_type": "display_data"
    },
    {
     "data": {
      "text/plain": [
       "31"
      ]
     },
     "metadata": {},
     "output_type": "display_data"
    }
   ],
   "source": [
    " # просматриваем уникальные значения наименований платформ\n",
    "display(data['platform'].unique())\n",
    "display(data['platform'].nunique())"
   ]
  },
  {
   "cell_type": "markdown",
   "metadata": {},
   "source": [
    "\n",
    "<div class=\"alert alert-info\">\n",
    "    Проверка наименований платформ на неявные дубликаты показала, что таковых не имеется. Все наименования уникальны"
   ]
  },
  {
   "cell_type": "code",
   "execution_count": 24,
   "metadata": {},
   "outputs": [
    {
     "data": {
      "text/plain": [
       "array(['Sports', 'Platform', 'Racing', 'Role-Playing', 'Puzzle', 'Misc',\n",
       "       'Shooter', 'Simulation', 'Action', 'Fighting', 'Adventure',\n",
       "       'Strategy', nan], dtype=object)"
      ]
     },
     "metadata": {},
     "output_type": "display_data"
    },
    {
     "data": {
      "text/plain": [
       "12"
      ]
     },
     "metadata": {},
     "output_type": "display_data"
    }
   ],
   "source": [
    " # просматриваем уникальные значения наименований жанров\n",
    "display(data['genre'].unique())\n",
    "display(data['genre'].nunique())\n",
    "\n"
   ]
  },
  {
   "cell_type": "markdown",
   "metadata": {},
   "source": [
    "<div class=\"alert alert-info\">\n",
    "    Проверка наименований платформ на неявные дубликаты показала, что таковых не имеется. Все наименования уникальны"
   ]
  },
  {
   "cell_type": "code",
   "execution_count": 25,
   "metadata": {},
   "outputs": [
    {
     "data": {
      "text/plain": [
       "array([2006, 1985, 2008, 2009, 1996, 1989, 1984, 2005, 1999, 2007, 2010,\n",
       "       2013, 2004, 1990, 1988, 2002, 2001, 2011, 1998, 2015, 2012, 2014,\n",
       "       1992, 1997, 1993, 1994, 1982, 2016, 2003, 1986, 2000,    0, 1995,\n",
       "       1991, 1981, 1987, 1980, 1983])"
      ]
     },
     "metadata": {},
     "output_type": "display_data"
    }
   ],
   "source": [
    " # просматриваем уникальные значения года\n",
    "display(data['year_of_release'].unique())"
   ]
  },
  {
   "cell_type": "markdown",
   "metadata": {},
   "source": [
    "<div class=\"alert alert-info\">\n",
    "    Проверка  на неявные дубликаты показала, что таковых не имеется. Все наименования уникальны"
   ]
  },
  {
   "cell_type": "code",
   "execution_count": 26,
   "metadata": {},
   "outputs": [
    {
     "data": {
      "text/plain": [
       "array([76. ,  nan, 82. , 80. , 89. , 58. , 87. , 66. , 91. , 61. , 97. ,\n",
       "       95. , 77. , 69. , 88. , 73. , 68. , 83. , 94. , 93. , 85. , 86. ,\n",
       "       98. , 96. , 90. , 84. , 74. , 78. , 92. , 71. , 72. , 62. , 65. ,\n",
       "       73.5, 49. , 70. , 67. , 81. , 56. , 79. , 59. , 64. , 75. , 60. ,\n",
       "       63. , 50. , 25. , 42. , 44. , 55. , 48. , 57. , 29. , 47. , 54. ,\n",
       "       20. , 53. , 37. , 38. , 33. , 52. , 30. , 32. , 43. , 45. , 51. ,\n",
       "       40. , 46. , 39. , 34. , 35. , 41. , 36. , 28. , 31. , 27. , 26. ,\n",
       "       19. , 23. , 24. , 21. , 17. , 22. , 13. ])"
      ]
     },
     "metadata": {},
     "output_type": "display_data"
    },
    {
     "data": {
      "text/plain": [
       "array([8.  ,  nan, 8.3 , 8.5 , 6.6 , 8.4 , 7.4 , 8.6 , 7.7 , 6.3 , 8.2 ,\n",
       "       9.  , 7.9 , 8.1 , 8.7 , 7.1 , 3.4 , 7.  , 5.3 , 4.8 , 3.2 , 8.9 ,\n",
       "       6.4 , 7.8 , 7.5 , 2.6 , 7.2 , 9.2 , 7.3 , 4.3 , 7.6 , 7.15, 5.7 ,\n",
       "       5.  , 9.1 , 6.8 , 6.5 , 7.95, 8.8 , 6.9 , 9.4 , 6.1 , 6.7 , 5.4 ,\n",
       "       4.  , 4.9 , 4.5 , 9.3 , 6.2 , 4.2 , 6.  , 3.7 , 4.1 , 5.8 , 5.6 ,\n",
       "       5.5 , 4.4 , 4.6 , 5.9 , 3.9 , 3.1 , 2.9 , 5.2 , 3.3 , 4.7 , 5.1 ,\n",
       "       3.5 , 2.5 , 1.9 , 3.  , 2.7 , 2.2 , 2.  , 9.5 , 2.1 , 3.6 , 2.8 ,\n",
       "       1.8 , 3.8 , 0.  , 1.6 , 9.6 , 2.4 , 1.7 , 1.1 , 0.3 , 1.5 , 0.7 ,\n",
       "       1.2 , 2.3 , 0.5 , 1.3 , 0.2 , 0.6 , 1.4 , 0.9 , 1.  , 9.7 ])"
      ]
     },
     "metadata": {},
     "output_type": "display_data"
    }
   ],
   "source": [
    "display(data['critic_score'].unique())\n",
    "display(data['user_score'].unique())"
   ]
  },
  {
   "cell_type": "markdown",
   "metadata": {},
   "source": [
    "<div class=\"alert alert-info\">\n",
    "    Проверка  на неявные дубликаты показала, что таковых не имеется. Все наименования уникальны"
   ]
  },
  {
   "cell_type": "code",
   "execution_count": 27,
   "metadata": {},
   "outputs": [
    {
     "data": {
      "text/plain": [
       "array(['E', 'nan', 'M', 'T', 'E10+', 'K-A', 'AO', 'EC', 'RP'],\n",
       "      dtype=object)"
      ]
     },
     "metadata": {},
     "output_type": "display_data"
    }
   ],
   "source": [
    "display(data['rating'].unique())\n"
   ]
  },
  {
   "cell_type": "markdown",
   "metadata": {},
   "source": [
    "\n",
    "<div class=\"alert alert-info\">\n",
    "    Согласно источнику http://psxplanet.ru/ESRB\n",
    "рейтинг К-А является устаревшим и теперь игры с данным рейтингом можно отнести к Е"
   ]
  },
  {
   "cell_type": "code",
   "execution_count": 28,
   "metadata": {},
   "outputs": [
    {
     "data": {
      "text/plain": [
       "nan     6766\n",
       "E       3993\n",
       "T       2961\n",
       "M       1563\n",
       "E10+    1420\n",
       "EC         8\n",
       "RP         3\n",
       "AO         1\n",
       "Name: rating, dtype: int64"
      ]
     },
     "execution_count": 28,
     "metadata": {},
     "output_type": "execute_result"
    }
   ],
   "source": [
    "data['rating'] = data['rating'].replace('K-A','E')\n",
    "data['rating'].value_counts() #произведем замену"
   ]
  },
  {
   "cell_type": "code",
   "execution_count": 29,
   "metadata": {},
   "outputs": [
    {
     "data": {
      "image/png": "[encoded data removed]",
      "text/plain": [
       "<Figure size 720x720 with 9 Axes>"
      ]
     },
     "metadata": {
      "needs_background": "light"
     },
     "output_type": "display_data"
    }
   ],
   "source": [
    "data.hist(figsize=(10, 10)); #проверим данные на выбросы и аномалии"
   ]
  },
  {
   "cell_type": "markdown",
   "metadata": {},
   "source": [
    "<div class=\"alert alert-info\">\n",
    "    На гистограммах с продажами есть большое кол-во значений приближенных к нулю. По факту, это не является аномалией или выбросом, поскольку в колонках представлены продажи по конкретным регионам, а это значит, что продаж в конкретном регионе по данной игре могло и не быть."
   ]
  },
  {
   "cell_type": "markdown",
   "metadata": {},
   "source": [
    "<div class=\"alert alert-info\">\n",
    "<b> Вывод по обзору данных</b>\n",
    "\n",
    "1. Некорректное наименований колонок. Привели наименование колонок к нижнему регистру.\n",
    "2. Исправлены типы данных столбцов year_of_release,user_score.\n",
    "3. Пропуски. Разобрали причины пропусков и исправили там где возможно. user_score, critic_score\n",
    "4. Дубликаты. Проверка на явные и неявные дубликаты. Явные дубликаты-строки отсуствуют. Заменили устаревший вид рейтинга К-А на Е.\n",
    "5. Выбросы и аномалии. Не наблюдаем.\n",
    "    "
   ]
  },
  {
   "cell_type": "code",
   "execution_count": 30,
   "metadata": {},
   "outputs": [],
   "source": [
    "data['all_sales'] = data['other_sales'] + data['eu_sales'] + data['jp_sales']+ data['na_sales'] #создадим столбец с суммарные продажи во всех регионах "
   ]
  },
  {
   "cell_type": "code",
   "execution_count": 31,
   "metadata": {},
   "outputs": [
    {
     "data": {
      "text/html": [
       "<div>\n",
       "<style scoped>\n",
       "    .dataframe tbody tr th:only-of-type {\n",
       "        vertical-align: middle;\n",
       "    }\n",
       "\n",
       "    .dataframe tbody tr th {\n",
       "        vertical-align: top;\n",
       "    }\n",
       "\n",
       "    .dataframe thead th {\n",
       "        text-align: right;\n",
       "    }\n",
       "</style>\n",
       "<table border=\"1\" class=\"dataframe\">\n",
       "  <thead>\n",
       "    <tr style=\"text-align: right;\">\n",
       "      <th></th>\n",
       "      <th>name</th>\n",
       "    </tr>\n",
       "    <tr>\n",
       "      <th>year_of_release</th>\n",
       "      <th></th>\n",
       "    </tr>\n",
       "  </thead>\n",
       "  <tbody>\n",
       "    <tr>\n",
       "      <th>2008</th>\n",
       "      <td>1427</td>\n",
       "    </tr>\n",
       "    <tr>\n",
       "      <th>2009</th>\n",
       "      <td>1426</td>\n",
       "    </tr>\n",
       "    <tr>\n",
       "      <th>2010</th>\n",
       "      <td>1255</td>\n",
       "    </tr>\n",
       "    <tr>\n",
       "      <th>2007</th>\n",
       "      <td>1197</td>\n",
       "    </tr>\n",
       "    <tr>\n",
       "      <th>2011</th>\n",
       "      <td>1136</td>\n",
       "    </tr>\n",
       "    <tr>\n",
       "      <th>2006</th>\n",
       "      <td>1006</td>\n",
       "    </tr>\n",
       "    <tr>\n",
       "      <th>2005</th>\n",
       "      <td>939</td>\n",
       "    </tr>\n",
       "    <tr>\n",
       "      <th>2002</th>\n",
       "      <td>829</td>\n",
       "    </tr>\n",
       "    <tr>\n",
       "      <th>2003</th>\n",
       "      <td>775</td>\n",
       "    </tr>\n",
       "    <tr>\n",
       "      <th>2004</th>\n",
       "      <td>762</td>\n",
       "    </tr>\n",
       "    <tr>\n",
       "      <th>2012</th>\n",
       "      <td>653</td>\n",
       "    </tr>\n",
       "    <tr>\n",
       "      <th>2015</th>\n",
       "      <td>606</td>\n",
       "    </tr>\n",
       "    <tr>\n",
       "      <th>2014</th>\n",
       "      <td>581</td>\n",
       "    </tr>\n",
       "    <tr>\n",
       "      <th>2013</th>\n",
       "      <td>544</td>\n",
       "    </tr>\n",
       "    <tr>\n",
       "      <th>2016</th>\n",
       "      <td>502</td>\n",
       "    </tr>\n",
       "    <tr>\n",
       "      <th>2001</th>\n",
       "      <td>482</td>\n",
       "    </tr>\n",
       "    <tr>\n",
       "      <th>1998</th>\n",
       "      <td>379</td>\n",
       "    </tr>\n",
       "    <tr>\n",
       "      <th>2000</th>\n",
       "      <td>350</td>\n",
       "    </tr>\n",
       "    <tr>\n",
       "      <th>1999</th>\n",
       "      <td>338</td>\n",
       "    </tr>\n",
       "    <tr>\n",
       "      <th>1997</th>\n",
       "      <td>289</td>\n",
       "    </tr>\n",
       "    <tr>\n",
       "      <th>0</th>\n",
       "      <td>269</td>\n",
       "    </tr>\n",
       "    <tr>\n",
       "      <th>1996</th>\n",
       "      <td>263</td>\n",
       "    </tr>\n",
       "    <tr>\n",
       "      <th>1995</th>\n",
       "      <td>219</td>\n",
       "    </tr>\n",
       "    <tr>\n",
       "      <th>1994</th>\n",
       "      <td>121</td>\n",
       "    </tr>\n",
       "    <tr>\n",
       "      <th>1993</th>\n",
       "      <td>60</td>\n",
       "    </tr>\n",
       "    <tr>\n",
       "      <th>1981</th>\n",
       "      <td>46</td>\n",
       "    </tr>\n",
       "    <tr>\n",
       "      <th>1992</th>\n",
       "      <td>43</td>\n",
       "    </tr>\n",
       "    <tr>\n",
       "      <th>1991</th>\n",
       "      <td>41</td>\n",
       "    </tr>\n",
       "    <tr>\n",
       "      <th>1982</th>\n",
       "      <td>36</td>\n",
       "    </tr>\n",
       "    <tr>\n",
       "      <th>1986</th>\n",
       "      <td>21</td>\n",
       "    </tr>\n",
       "    <tr>\n",
       "      <th>1989</th>\n",
       "      <td>17</td>\n",
       "    </tr>\n",
       "    <tr>\n",
       "      <th>1983</th>\n",
       "      <td>17</td>\n",
       "    </tr>\n",
       "    <tr>\n",
       "      <th>1987</th>\n",
       "      <td>16</td>\n",
       "    </tr>\n",
       "    <tr>\n",
       "      <th>1990</th>\n",
       "      <td>16</td>\n",
       "    </tr>\n",
       "    <tr>\n",
       "      <th>1988</th>\n",
       "      <td>15</td>\n",
       "    </tr>\n",
       "    <tr>\n",
       "      <th>1985</th>\n",
       "      <td>14</td>\n",
       "    </tr>\n",
       "    <tr>\n",
       "      <th>1984</th>\n",
       "      <td>14</td>\n",
       "    </tr>\n",
       "    <tr>\n",
       "      <th>1980</th>\n",
       "      <td>9</td>\n",
       "    </tr>\n",
       "  </tbody>\n",
       "</table>\n",
       "</div>"
      ],
      "text/plain": [
       "                 name\n",
       "year_of_release      \n",
       "2008             1427\n",
       "2009             1426\n",
       "2010             1255\n",
       "2007             1197\n",
       "2011             1136\n",
       "2006             1006\n",
       "2005              939\n",
       "2002              829\n",
       "2003              775\n",
       "2004              762\n",
       "2012              653\n",
       "2015              606\n",
       "2014              581\n",
       "2013              544\n",
       "2016              502\n",
       "2001              482\n",
       "1998              379\n",
       "2000              350\n",
       "1999              338\n",
       "1997              289\n",
       "0                 269\n",
       "1996              263\n",
       "1995              219\n",
       "1994              121\n",
       "1993               60\n",
       "1981               46\n",
       "1992               43\n",
       "1991               41\n",
       "1982               36\n",
       "1986               21\n",
       "1989               17\n",
       "1983               17\n",
       "1987               16\n",
       "1990               16\n",
       "1988               15\n",
       "1985               14\n",
       "1984               14\n",
       "1980                9"
      ]
     },
     "metadata": {},
     "output_type": "display_data"
    }
   ],
   "source": [
    "data_grouped_year=(\n",
    "    data\n",
    "    .pivot_table(index='year_of_release',values='name',aggfunc='count')\n",
    "    .sort_values(by='name',ascending=False)\n",
    ")\n",
    "display(data_grouped_year)"
   ]
  },
  {
   "cell_type": "code",
   "execution_count": 32,
   "metadata": {},
   "outputs": [
    {
     "data": {
      "image/png": "[encoded data removed]",
      "text/plain": [
       "<Figure size 432x288 with 1 Axes>"
      ]
     },
     "metadata": {
      "needs_background": "light"
     },
     "output_type": "display_data"
    }
   ],
   "source": [
    "data_grouped_year=(\n",
    "    data\n",
    "    .pivot_table(index='year_of_release',values='name',aggfunc='count')\n",
    "    .plot(kind='bar',title='Игры по годам')\n",
    ")"
   ]
  },
  {
   "cell_type": "markdown",
   "metadata": {},
   "source": [
    "Особый пик выпуска игр пришелся на 2008-2010 годы - более 1400 игр.Рост производительности игр начался с 1994 года. До этого периода (1994г) кол-во игр было очень низким."
   ]
  },
  {
   "cell_type": "markdown",
   "metadata": {},
   "source": [
    "<b>Посмотрим как менялись продажи по платформам. Выберем платформы с наибольшими суммарными продажами и построим распределение по годам. За какой характерный срок появляются новые и исчезают старые платформы?<b>"
   ]
  },
  {
   "cell_type": "code",
   "execution_count": 33,
   "metadata": {},
   "outputs": [
    {
     "data": {
      "text/html": [
       "<div>\n",
       "<style scoped>\n",
       "    .dataframe tbody tr th:only-of-type {\n",
       "        vertical-align: middle;\n",
       "    }\n",
       "\n",
       "    .dataframe tbody tr th {\n",
       "        vertical-align: top;\n",
       "    }\n",
       "\n",
       "    .dataframe thead th {\n",
       "        text-align: right;\n",
       "    }\n",
       "</style>\n",
       "<table border=\"1\" class=\"dataframe\">\n",
       "  <thead>\n",
       "    <tr style=\"text-align: right;\">\n",
       "      <th></th>\n",
       "      <th>all_sales</th>\n",
       "    </tr>\n",
       "    <tr>\n",
       "      <th>platform</th>\n",
       "      <th></th>\n",
       "    </tr>\n",
       "  </thead>\n",
       "  <tbody>\n",
       "    <tr>\n",
       "      <th>PS2</th>\n",
       "      <td>1255.77</td>\n",
       "    </tr>\n",
       "    <tr>\n",
       "      <th>X360</th>\n",
       "      <td>971.42</td>\n",
       "    </tr>\n",
       "    <tr>\n",
       "      <th>PS3</th>\n",
       "      <td>939.65</td>\n",
       "    </tr>\n",
       "    <tr>\n",
       "      <th>Wii</th>\n",
       "      <td>907.51</td>\n",
       "    </tr>\n",
       "    <tr>\n",
       "      <th>DS</th>\n",
       "      <td>806.12</td>\n",
       "    </tr>\n",
       "    <tr>\n",
       "      <th>PS</th>\n",
       "      <td>730.86</td>\n",
       "    </tr>\n",
       "    <tr>\n",
       "      <th>GBA</th>\n",
       "      <td>317.85</td>\n",
       "    </tr>\n",
       "    <tr>\n",
       "      <th>PS4</th>\n",
       "      <td>314.14</td>\n",
       "    </tr>\n",
       "    <tr>\n",
       "      <th>PSP</th>\n",
       "      <td>294.05</td>\n",
       "    </tr>\n",
       "    <tr>\n",
       "      <th>PC</th>\n",
       "      <td>259.52</td>\n",
       "    </tr>\n",
       "    <tr>\n",
       "      <th>3DS</th>\n",
       "      <td>259.00</td>\n",
       "    </tr>\n",
       "    <tr>\n",
       "      <th>XB</th>\n",
       "      <td>257.74</td>\n",
       "    </tr>\n",
       "    <tr>\n",
       "      <th>GB</th>\n",
       "      <td>255.46</td>\n",
       "    </tr>\n",
       "    <tr>\n",
       "      <th>NES</th>\n",
       "      <td>251.05</td>\n",
       "    </tr>\n",
       "    <tr>\n",
       "      <th>N64</th>\n",
       "      <td>218.68</td>\n",
       "    </tr>\n",
       "    <tr>\n",
       "      <th>SNES</th>\n",
       "      <td>200.04</td>\n",
       "    </tr>\n",
       "    <tr>\n",
       "      <th>GC</th>\n",
       "      <td>198.93</td>\n",
       "    </tr>\n",
       "    <tr>\n",
       "      <th>XOne</th>\n",
       "      <td>159.32</td>\n",
       "    </tr>\n",
       "    <tr>\n",
       "      <th>2600</th>\n",
       "      <td>96.98</td>\n",
       "    </tr>\n",
       "    <tr>\n",
       "      <th>WiiU</th>\n",
       "      <td>82.19</td>\n",
       "    </tr>\n",
       "    <tr>\n",
       "      <th>PSV</th>\n",
       "      <td>54.07</td>\n",
       "    </tr>\n",
       "    <tr>\n",
       "      <th>SAT</th>\n",
       "      <td>33.59</td>\n",
       "    </tr>\n",
       "    <tr>\n",
       "      <th>GEN</th>\n",
       "      <td>30.77</td>\n",
       "    </tr>\n",
       "    <tr>\n",
       "      <th>DC</th>\n",
       "      <td>15.95</td>\n",
       "    </tr>\n",
       "    <tr>\n",
       "      <th>SCD</th>\n",
       "      <td>1.86</td>\n",
       "    </tr>\n",
       "    <tr>\n",
       "      <th>NG</th>\n",
       "      <td>1.44</td>\n",
       "    </tr>\n",
       "    <tr>\n",
       "      <th>WS</th>\n",
       "      <td>1.42</td>\n",
       "    </tr>\n",
       "    <tr>\n",
       "      <th>TG16</th>\n",
       "      <td>0.16</td>\n",
       "    </tr>\n",
       "    <tr>\n",
       "      <th>3DO</th>\n",
       "      <td>0.10</td>\n",
       "    </tr>\n",
       "    <tr>\n",
       "      <th>GG</th>\n",
       "      <td>0.04</td>\n",
       "    </tr>\n",
       "    <tr>\n",
       "      <th>PCFX</th>\n",
       "      <td>0.03</td>\n",
       "    </tr>\n",
       "  </tbody>\n",
       "</table>\n",
       "</div>"
      ],
      "text/plain": [
       "          all_sales\n",
       "platform           \n",
       "PS2         1255.77\n",
       "X360         971.42\n",
       "PS3          939.65\n",
       "Wii          907.51\n",
       "DS           806.12\n",
       "PS           730.86\n",
       "GBA          317.85\n",
       "PS4          314.14\n",
       "PSP          294.05\n",
       "PC           259.52\n",
       "3DS          259.00\n",
       "XB           257.74\n",
       "GB           255.46\n",
       "NES          251.05\n",
       "N64          218.68\n",
       "SNES         200.04\n",
       "GC           198.93\n",
       "XOne         159.32\n",
       "2600          96.98\n",
       "WiiU          82.19\n",
       "PSV           54.07\n",
       "SAT           33.59\n",
       "GEN           30.77\n",
       "DC            15.95\n",
       "SCD            1.86\n",
       "NG             1.44\n",
       "WS             1.42\n",
       "TG16           0.16\n",
       "3DO            0.10\n",
       "GG             0.04\n",
       "PCFX           0.03"
      ]
     },
     "metadata": {},
     "output_type": "display_data"
    }
   ],
   "source": [
    "data_grouped_platform=(\n",
    "    data\n",
    "    .pivot_table(index=['platform'],values='all_sales',aggfunc='sum')\n",
    "    .sort_values(by='all_sales',ascending=False)    \n",
    ")\n",
    "display(data_grouped_platform)"
   ]
  },
  {
   "cell_type": "code",
   "execution_count": 34,
   "metadata": {},
   "outputs": [],
   "source": [
    "top_5_platforms=['PS2','X360','PS3','Wii','DS']"
   ]
  },
  {
   "cell_type": "code",
   "execution_count": 35,
   "metadata": {
    "scrolled": false
   },
   "outputs": [
    {
     "data": {
      "image/png": "[encoded data removed]",
      "text/plain": [
       "<Figure size 432x288 with 1 Axes>"
      ]
     },
     "metadata": {
      "needs_background": "light"
     },
     "output_type": "display_data"
    },
    {
     "data": {
      "image/png": "[encoded data removed]",
      "text/plain": [
       "<Figure size 432x288 with 1 Axes>"
      ]
     },
     "metadata": {
      "needs_background": "light"
     },
     "output_type": "display_data"
    },
    {
     "data": {
      "image/png": "[encoded data removed]",
      "text/plain": [
       "<Figure size 432x288 with 1 Axes>"
      ]
     },
     "metadata": {
      "needs_background": "light"
     },
     "output_type": "display_data"
    },
    {
     "data": {
      "image/png": "[encoded data removed]",
      "text/plain": [
       "<Figure size 432x288 with 1 Axes>"
      ]
     },
     "metadata": {
      "needs_background": "light"
     },
     "output_type": "display_data"
    },
    {
     "data": {
      "image/png": "[encoded data removed]",
      "text/plain": [
       "<Figure size 432x288 with 1 Axes>"
      ]
     },
     "metadata": {
      "needs_background": "light"
     },
     "output_type": "display_data"
    }
   ],
   "source": [
    "for platform in top_5_platforms:\n",
    "    data[data['platform']==platform].groupby('year_of_release')['all_sales'].sum().plot(kind='bar',grid=True)\n",
    "    plt.title(platform)\n",
    "    plt.show()\n"
   ]
  },
  {
   "cell_type": "markdown",
   "metadata": {},
   "source": [
    "Были выделены топ 5 платформ с самыми высокими продажами. Построены графики распределения продаж по годам по каждой платформе. Можно сделать вывод:\n",
    "1. c 2000 года первые большие продажи у PS2\n",
    "2. С 2005 на рынок выходит DS с крупными продажами\n",
    "3. После 2006 продажи PS2 идут на спад, вероятно, PS3 выходит на рынок  и с 2006 активно конкурирует с DS,Wii,x360 "
   ]
  },
  {
   "cell_type": "markdown",
   "metadata": {},
   "source": [
    "<div class=\"alert alert-info\">\n",
    "    Средний срок жизни выше обозначенных платформ 9-10 лет."
   ]
  },
  {
   "cell_type": "markdown",
   "metadata": {},
   "source": [
    "<b>Возьмем данные за соответствующий актуальный период. \n",
    "Какие платформы лидируют по продажам, растут или падают? Выберем несколько потенциально прибыльных платформ.<b>"
   ]
  },
  {
   "cell_type": "code",
   "execution_count": 36,
   "metadata": {},
   "outputs": [],
   "source": [
    "data_actual_period=data.query('year_of_release>=2012')"
   ]
  },
  {
   "cell_type": "code",
   "execution_count": 37,
   "metadata": {},
   "outputs": [
    {
     "data": {
      "text/html": [
       "<div>\n",
       "<style scoped>\n",
       "    .dataframe tbody tr th:only-of-type {\n",
       "        vertical-align: middle;\n",
       "    }\n",
       "\n",
       "    .dataframe tbody tr th {\n",
       "        vertical-align: top;\n",
       "    }\n",
       "\n",
       "    .dataframe thead th {\n",
       "        text-align: right;\n",
       "    }\n",
       "</style>\n",
       "<table border=\"1\" class=\"dataframe\">\n",
       "  <thead>\n",
       "    <tr style=\"text-align: right;\">\n",
       "      <th></th>\n",
       "      <th></th>\n",
       "      <th>all_sales</th>\n",
       "    </tr>\n",
       "    <tr>\n",
       "      <th>platform</th>\n",
       "      <th>year_of_release</th>\n",
       "      <th></th>\n",
       "    </tr>\n",
       "  </thead>\n",
       "  <tbody>\n",
       "    <tr>\n",
       "      <th>PS4</th>\n",
       "      <th>2015</th>\n",
       "      <td>118.90</td>\n",
       "    </tr>\n",
       "    <tr>\n",
       "      <th rowspan=\"2\" valign=\"top\">PS3</th>\n",
       "      <th>2013</th>\n",
       "      <td>113.25</td>\n",
       "    </tr>\n",
       "    <tr>\n",
       "      <th>2012</th>\n",
       "      <td>107.36</td>\n",
       "    </tr>\n",
       "    <tr>\n",
       "      <th>PS4</th>\n",
       "      <th>2014</th>\n",
       "      <td>100.00</td>\n",
       "    </tr>\n",
       "    <tr>\n",
       "      <th rowspan=\"2\" valign=\"top\">X360</th>\n",
       "      <th>2012</th>\n",
       "      <td>99.74</td>\n",
       "    </tr>\n",
       "    <tr>\n",
       "      <th>2013</th>\n",
       "      <td>88.58</td>\n",
       "    </tr>\n",
       "    <tr>\n",
       "      <th>PS4</th>\n",
       "      <th>2016</th>\n",
       "      <td>69.25</td>\n",
       "    </tr>\n",
       "    <tr>\n",
       "      <th>XOne</th>\n",
       "      <th>2015</th>\n",
       "      <td>60.14</td>\n",
       "    </tr>\n",
       "    <tr>\n",
       "      <th>3DS</th>\n",
       "      <th>2013</th>\n",
       "      <td>56.57</td>\n",
       "    </tr>\n",
       "    <tr>\n",
       "      <th>XOne</th>\n",
       "      <th>2014</th>\n",
       "      <td>54.07</td>\n",
       "    </tr>\n",
       "    <tr>\n",
       "      <th>3DS</th>\n",
       "      <th>2012</th>\n",
       "      <td>51.36</td>\n",
       "    </tr>\n",
       "    <tr>\n",
       "      <th>PS3</th>\n",
       "      <th>2014</th>\n",
       "      <td>47.76</td>\n",
       "    </tr>\n",
       "    <tr>\n",
       "      <th>3DS</th>\n",
       "      <th>2014</th>\n",
       "      <td>43.76</td>\n",
       "    </tr>\n",
       "    <tr>\n",
       "      <th>X360</th>\n",
       "      <th>2014</th>\n",
       "      <td>34.74</td>\n",
       "    </tr>\n",
       "    <tr>\n",
       "      <th>3DS</th>\n",
       "      <th>2015</th>\n",
       "      <td>27.78</td>\n",
       "    </tr>\n",
       "    <tr>\n",
       "      <th>XOne</th>\n",
       "      <th>2016</th>\n",
       "      <td>26.15</td>\n",
       "    </tr>\n",
       "    <tr>\n",
       "      <th>PS4</th>\n",
       "      <th>2013</th>\n",
       "      <td>25.99</td>\n",
       "    </tr>\n",
       "    <tr>\n",
       "      <th>PC</th>\n",
       "      <th>2012</th>\n",
       "      <td>23.22</td>\n",
       "    </tr>\n",
       "    <tr>\n",
       "      <th>WiiU</th>\n",
       "      <th>2014</th>\n",
       "      <td>22.03</td>\n",
       "    </tr>\n",
       "    <tr>\n",
       "      <th>Wii</th>\n",
       "      <th>2012</th>\n",
       "      <td>21.71</td>\n",
       "    </tr>\n",
       "    <tr>\n",
       "      <th>WiiU</th>\n",
       "      <th>2013</th>\n",
       "      <td>21.65</td>\n",
       "    </tr>\n",
       "    <tr>\n",
       "      <th>XOne</th>\n",
       "      <th>2013</th>\n",
       "      <td>18.96</td>\n",
       "    </tr>\n",
       "    <tr>\n",
       "      <th>WiiU</th>\n",
       "      <th>2012</th>\n",
       "      <td>17.56</td>\n",
       "    </tr>\n",
       "    <tr>\n",
       "      <th>PS3</th>\n",
       "      <th>2015</th>\n",
       "      <td>16.82</td>\n",
       "    </tr>\n",
       "    <tr>\n",
       "      <th>WiiU</th>\n",
       "      <th>2015</th>\n",
       "      <td>16.35</td>\n",
       "    </tr>\n",
       "    <tr>\n",
       "      <th>PSV</th>\n",
       "      <th>2012</th>\n",
       "      <td>16.19</td>\n",
       "    </tr>\n",
       "    <tr>\n",
       "      <th>3DS</th>\n",
       "      <th>2016</th>\n",
       "      <td>15.14</td>\n",
       "    </tr>\n",
       "    <tr>\n",
       "      <th rowspan=\"2\" valign=\"top\">PC</th>\n",
       "      <th>2014</th>\n",
       "      <td>13.28</td>\n",
       "    </tr>\n",
       "    <tr>\n",
       "      <th>2013</th>\n",
       "      <td>12.38</td>\n",
       "    </tr>\n",
       "    <tr>\n",
       "      <th>X360</th>\n",
       "      <th>2015</th>\n",
       "      <td>11.96</td>\n",
       "    </tr>\n",
       "    <tr>\n",
       "      <th>PSV</th>\n",
       "      <th>2014</th>\n",
       "      <td>11.90</td>\n",
       "    </tr>\n",
       "    <tr>\n",
       "      <th>DS</th>\n",
       "      <th>2012</th>\n",
       "      <td>11.01</td>\n",
       "    </tr>\n",
       "    <tr>\n",
       "      <th>PSV</th>\n",
       "      <th>2013</th>\n",
       "      <td>10.59</td>\n",
       "    </tr>\n",
       "    <tr>\n",
       "      <th>Wii</th>\n",
       "      <th>2013</th>\n",
       "      <td>8.59</td>\n",
       "    </tr>\n",
       "    <tr>\n",
       "      <th>PC</th>\n",
       "      <th>2015</th>\n",
       "      <td>8.52</td>\n",
       "    </tr>\n",
       "    <tr>\n",
       "      <th>PSP</th>\n",
       "      <th>2012</th>\n",
       "      <td>7.69</td>\n",
       "    </tr>\n",
       "    <tr>\n",
       "      <th>PSV</th>\n",
       "      <th>2015</th>\n",
       "      <td>6.25</td>\n",
       "    </tr>\n",
       "    <tr>\n",
       "      <th>PC</th>\n",
       "      <th>2016</th>\n",
       "      <td>5.25</td>\n",
       "    </tr>\n",
       "    <tr>\n",
       "      <th>WiiU</th>\n",
       "      <th>2016</th>\n",
       "      <td>4.60</td>\n",
       "    </tr>\n",
       "    <tr>\n",
       "      <th>PSV</th>\n",
       "      <th>2016</th>\n",
       "      <td>4.25</td>\n",
       "    </tr>\n",
       "    <tr>\n",
       "      <th>Wii</th>\n",
       "      <th>2014</th>\n",
       "      <td>3.75</td>\n",
       "    </tr>\n",
       "    <tr>\n",
       "      <th>PS3</th>\n",
       "      <th>2016</th>\n",
       "      <td>3.60</td>\n",
       "    </tr>\n",
       "    <tr>\n",
       "      <th>PSP</th>\n",
       "      <th>2013</th>\n",
       "      <td>3.14</td>\n",
       "    </tr>\n",
       "    <tr>\n",
       "      <th>DS</th>\n",
       "      <th>2013</th>\n",
       "      <td>1.54</td>\n",
       "    </tr>\n",
       "    <tr>\n",
       "      <th>X360</th>\n",
       "      <th>2016</th>\n",
       "      <td>1.52</td>\n",
       "    </tr>\n",
       "    <tr>\n",
       "      <th>Wii</th>\n",
       "      <th>2015</th>\n",
       "      <td>1.14</td>\n",
       "    </tr>\n",
       "    <tr>\n",
       "      <th>PSP</th>\n",
       "      <th>2014</th>\n",
       "      <td>0.24</td>\n",
       "    </tr>\n",
       "    <tr>\n",
       "      <th>Wii</th>\n",
       "      <th>2016</th>\n",
       "      <td>0.18</td>\n",
       "    </tr>\n",
       "    <tr>\n",
       "      <th>PSP</th>\n",
       "      <th>2015</th>\n",
       "      <td>0.12</td>\n",
       "    </tr>\n",
       "  </tbody>\n",
       "</table>\n",
       "</div>"
      ],
      "text/plain": [
       "                          all_sales\n",
       "platform year_of_release           \n",
       "PS4      2015                118.90\n",
       "PS3      2013                113.25\n",
       "         2012                107.36\n",
       "PS4      2014                100.00\n",
       "X360     2012                 99.74\n",
       "         2013                 88.58\n",
       "PS4      2016                 69.25\n",
       "XOne     2015                 60.14\n",
       "3DS      2013                 56.57\n",
       "XOne     2014                 54.07\n",
       "3DS      2012                 51.36\n",
       "PS3      2014                 47.76\n",
       "3DS      2014                 43.76\n",
       "X360     2014                 34.74\n",
       "3DS      2015                 27.78\n",
       "XOne     2016                 26.15\n",
       "PS4      2013                 25.99\n",
       "PC       2012                 23.22\n",
       "WiiU     2014                 22.03\n",
       "Wii      2012                 21.71\n",
       "WiiU     2013                 21.65\n",
       "XOne     2013                 18.96\n",
       "WiiU     2012                 17.56\n",
       "PS3      2015                 16.82\n",
       "WiiU     2015                 16.35\n",
       "PSV      2012                 16.19\n",
       "3DS      2016                 15.14\n",
       "PC       2014                 13.28\n",
       "         2013                 12.38\n",
       "X360     2015                 11.96\n",
       "PSV      2014                 11.90\n",
       "DS       2012                 11.01\n",
       "PSV      2013                 10.59\n",
       "Wii      2013                  8.59\n",
       "PC       2015                  8.52\n",
       "PSP      2012                  7.69\n",
       "PSV      2015                  6.25\n",
       "PC       2016                  5.25\n",
       "WiiU     2016                  4.60\n",
       "PSV      2016                  4.25\n",
       "Wii      2014                  3.75\n",
       "PS3      2016                  3.60\n",
       "PSP      2013                  3.14\n",
       "DS       2013                  1.54\n",
       "X360     2016                  1.52\n",
       "Wii      2015                  1.14\n",
       "PSP      2014                  0.24\n",
       "Wii      2016                  0.18\n",
       "PSP      2015                  0.12"
      ]
     },
     "metadata": {},
     "output_type": "display_data"
    }
   ],
   "source": [
    "data_actual_period_grouped_platform=(\n",
    "    data_actual_period\n",
    "    .pivot_table(index=['platform','year_of_release'],values='all_sales',aggfunc='sum')\n",
    "    .sort_values(by='all_sales',ascending=False)    \n",
    ")\n",
    "display(data_actual_period_grouped_platform)"
   ]
  },
  {
   "cell_type": "code",
   "execution_count": 38,
   "metadata": {},
   "outputs": [],
   "source": [
    "actual_period_platform=['PS4','PS3','X360','3DS','XOne','WiiU','PC','PSV','Wii','DS','PSP']"
   ]
  },
  {
   "cell_type": "code",
   "execution_count": 39,
   "metadata": {
    "scrolled": false
   },
   "outputs": [
    {
     "data": {
      "image/png": "[encoded data removed]",
      "text/plain": [
       "<Figure size 432x288 with 1 Axes>"
      ]
     },
     "metadata": {
      "needs_background": "light"
     },
     "output_type": "display_data"
    },
    {
     "data": {
      "image/png": "[encoded data removed]",
      "text/plain": [
       "<Figure size 432x288 with 1 Axes>"
      ]
     },
     "metadata": {
      "needs_background": "light"
     },
     "output_type": "display_data"
    },
    {
     "data": {
      "image/png": "[encoded data removed]",
      "text/plain": [
       "<Figure size 432x288 with 1 Axes>"
      ]
     },
     "metadata": {
      "needs_background": "light"
     },
     "output_type": "display_data"
    },
    {
     "data": {
      "image/png": "[encoded data removed]",
      "text/plain": [
       "<Figure size 432x288 with 1 Axes>"
      ]
     },
     "metadata": {
      "needs_background": "light"
     },
     "output_type": "display_data"
    },
    {
     "data": {
      "image/png": "[encoded data removed]",
      "text/plain": [
       "<Figure size 432x288 with 1 Axes>"
      ]
     },
     "metadata": {
      "needs_background": "light"
     },
     "output_type": "display_data"
    },
    {
     "data": {
      "image/png": "[encoded data removed]",
      "text/plain": [
       "<Figure size 432x288 with 1 Axes>"
      ]
     },
     "metadata": {
      "needs_background": "light"
     },
     "output_type": "display_data"
    },
    {
     "data": {
      "image/png": "[encoded data removed]",
      "text/plain": [
       "<Figure size 432x288 with 1 Axes>"
      ]
     },
     "metadata": {
      "needs_background": "light"
     },
     "output_type": "display_data"
    },
    {
     "data": {
      "image/png": "[encoded data removed]",
      "text/plain": [
       "<Figure size 432x288 with 1 Axes>"
      ]
     },
     "metadata": {
      "needs_background": "light"
     },
     "output_type": "display_data"
    },
    {
     "data": {
      "image/png": "[encoded data removed]",
      "text/plain": [
       "<Figure size 432x288 with 1 Axes>"
      ]
     },
     "metadata": {
      "needs_background": "light"
     },
     "output_type": "display_data"
    },
    {
     "data": {
      "image/png": "[encoded data removed]",
      "text/plain": [
       "<Figure size 432x288 with 1 Axes>"
      ]
     },
     "metadata": {
      "needs_background": "light"
     },
     "output_type": "display_data"
    },
    {
     "data": {
      "image/png": "[encoded data removed]",
      "text/plain": [
       "<Figure size 432x288 with 1 Axes>"
      ]
     },
     "metadata": {
      "needs_background": "light"
     },
     "output_type": "display_data"
    }
   ],
   "source": [
    "for platform in actual_period_platform:\n",
    "    data_actual_period[data_actual_period['platform']==platform].groupby('year_of_release')['all_sales'].sum().plot(kind='bar',grid=True)\n",
    "    plt.title(platform)\n",
    "    plt.show()\n"
   ]
  },
  {
   "cell_type": "markdown",
   "metadata": {},
   "source": [
    "Наиболее привлекательной платформой с точки зрения прибыли является PS4. Самые высокие продажи у данной платформы. При этом если сравнить статсистику продаж по данной платформе то наблюдаем спад продаж относительно 2015 гола почти в 2 раза.\n",
    "Аутсайдеры по критерию продаж являеются  Wii и PSP."
   ]
  },
  {
   "cell_type": "markdown",
   "metadata": {},
   "source": [
    "<b>Построим график «ящик с усами» по глобальным продажам игр в разбивке по платформам. <b>"
   ]
  },
  {
   "cell_type": "code",
   "execution_count": 40,
   "metadata": {},
   "outputs": [
    {
     "data": {
      "text/plain": [
       "Text(0, 0.5, 'Глобальные продажи')"
      ]
     },
     "execution_count": 40,
     "metadata": {},
     "output_type": "execute_result"
    },
    {
     "data": {
      "image/png": "[encoded data removed]",
      "text/plain": [
       "<Figure size 1080x720 with 1 Axes>"
      ]
     },
     "metadata": {
      "needs_background": "light"
     },
     "output_type": "display_data"
    }
   ],
   "source": [
    "plt.figure(figsize=(15,10))\n",
    "sns.boxplot(data=data_actual_period,x='platform',y='all_sales')\n",
    "plt.title('Ящик с усами',fontsize=15)\n",
    "plt.xlabel('Платформа',fontsize=12)\n",
    "plt.ylabel('Глобальные продажи',fontsize=12)"
   ]
  },
  {
   "cell_type": "code",
   "execution_count": 41,
   "metadata": {},
   "outputs": [
    {
     "data": {
      "text/html": [
       "<div>\n",
       "<style scoped>\n",
       "    .dataframe tbody tr th:only-of-type {\n",
       "        vertical-align: middle;\n",
       "    }\n",
       "\n",
       "    .dataframe tbody tr th {\n",
       "        vertical-align: top;\n",
       "    }\n",
       "\n",
       "    .dataframe thead th {\n",
       "        text-align: right;\n",
       "    }\n",
       "</style>\n",
       "<table border=\"1\" class=\"dataframe\">\n",
       "  <thead>\n",
       "    <tr style=\"text-align: right;\">\n",
       "      <th></th>\n",
       "      <th>count</th>\n",
       "      <th>mean</th>\n",
       "      <th>std</th>\n",
       "      <th>min</th>\n",
       "      <th>25%</th>\n",
       "      <th>50%</th>\n",
       "      <th>75%</th>\n",
       "      <th>max</th>\n",
       "    </tr>\n",
       "    <tr>\n",
       "      <th>platform</th>\n",
       "      <th></th>\n",
       "      <th></th>\n",
       "      <th></th>\n",
       "      <th></th>\n",
       "      <th></th>\n",
       "      <th></th>\n",
       "      <th></th>\n",
       "      <th></th>\n",
       "    </tr>\n",
       "  </thead>\n",
       "  <tbody>\n",
       "    <tr>\n",
       "      <th>3DS</th>\n",
       "      <td>396.0</td>\n",
       "      <td>0.491439</td>\n",
       "      <td>1.387161</td>\n",
       "      <td>0.01</td>\n",
       "      <td>0.0400</td>\n",
       "      <td>0.11</td>\n",
       "      <td>0.3125</td>\n",
       "      <td>14.60</td>\n",
       "    </tr>\n",
       "    <tr>\n",
       "      <th>DS</th>\n",
       "      <td>31.0</td>\n",
       "      <td>0.404839</td>\n",
       "      <td>1.439245</td>\n",
       "      <td>0.01</td>\n",
       "      <td>0.0200</td>\n",
       "      <td>0.05</td>\n",
       "      <td>0.1850</td>\n",
       "      <td>8.06</td>\n",
       "    </tr>\n",
       "    <tr>\n",
       "      <th>PC</th>\n",
       "      <td>250.0</td>\n",
       "      <td>0.250600</td>\n",
       "      <td>0.494640</td>\n",
       "      <td>0.01</td>\n",
       "      <td>0.0300</td>\n",
       "      <td>0.08</td>\n",
       "      <td>0.2400</td>\n",
       "      <td>5.14</td>\n",
       "    </tr>\n",
       "    <tr>\n",
       "      <th>PS3</th>\n",
       "      <td>493.0</td>\n",
       "      <td>0.585781</td>\n",
       "      <td>1.462855</td>\n",
       "      <td>0.01</td>\n",
       "      <td>0.0500</td>\n",
       "      <td>0.20</td>\n",
       "      <td>0.6100</td>\n",
       "      <td>21.05</td>\n",
       "    </tr>\n",
       "    <tr>\n",
       "      <th>PS4</th>\n",
       "      <td>392.0</td>\n",
       "      <td>0.801378</td>\n",
       "      <td>1.609456</td>\n",
       "      <td>0.01</td>\n",
       "      <td>0.0600</td>\n",
       "      <td>0.20</td>\n",
       "      <td>0.7300</td>\n",
       "      <td>14.63</td>\n",
       "    </tr>\n",
       "    <tr>\n",
       "      <th>PSP</th>\n",
       "      <td>173.0</td>\n",
       "      <td>0.064682</td>\n",
       "      <td>0.071296</td>\n",
       "      <td>0.01</td>\n",
       "      <td>0.0200</td>\n",
       "      <td>0.03</td>\n",
       "      <td>0.0900</td>\n",
       "      <td>0.36</td>\n",
       "    </tr>\n",
       "    <tr>\n",
       "      <th>PSV</th>\n",
       "      <td>411.0</td>\n",
       "      <td>0.119659</td>\n",
       "      <td>0.203011</td>\n",
       "      <td>0.01</td>\n",
       "      <td>0.0200</td>\n",
       "      <td>0.05</td>\n",
       "      <td>0.1200</td>\n",
       "      <td>1.96</td>\n",
       "    </tr>\n",
       "    <tr>\n",
       "      <th>Wii</th>\n",
       "      <td>54.0</td>\n",
       "      <td>0.655000</td>\n",
       "      <td>1.165447</td>\n",
       "      <td>0.01</td>\n",
       "      <td>0.0625</td>\n",
       "      <td>0.18</td>\n",
       "      <td>0.6875</td>\n",
       "      <td>6.76</td>\n",
       "    </tr>\n",
       "    <tr>\n",
       "      <th>WiiU</th>\n",
       "      <td>147.0</td>\n",
       "      <td>0.559116</td>\n",
       "      <td>1.058836</td>\n",
       "      <td>0.01</td>\n",
       "      <td>0.0800</td>\n",
       "      <td>0.22</td>\n",
       "      <td>0.5250</td>\n",
       "      <td>7.09</td>\n",
       "    </tr>\n",
       "    <tr>\n",
       "      <th>X360</th>\n",
       "      <td>292.0</td>\n",
       "      <td>0.810068</td>\n",
       "      <td>1.712069</td>\n",
       "      <td>0.01</td>\n",
       "      <td>0.1000</td>\n",
       "      <td>0.31</td>\n",
       "      <td>0.8700</td>\n",
       "      <td>16.27</td>\n",
       "    </tr>\n",
       "    <tr>\n",
       "      <th>XOne</th>\n",
       "      <td>247.0</td>\n",
       "      <td>0.645020</td>\n",
       "      <td>1.036139</td>\n",
       "      <td>0.01</td>\n",
       "      <td>0.0600</td>\n",
       "      <td>0.22</td>\n",
       "      <td>0.6850</td>\n",
       "      <td>7.39</td>\n",
       "    </tr>\n",
       "  </tbody>\n",
       "</table>\n",
       "</div>"
      ],
      "text/plain": [
       "          count      mean       std   min     25%   50%     75%    max\n",
       "platform                                                              \n",
       "3DS       396.0  0.491439  1.387161  0.01  0.0400  0.11  0.3125  14.60\n",
       "DS         31.0  0.404839  1.439245  0.01  0.0200  0.05  0.1850   8.06\n",
       "PC        250.0  0.250600  0.494640  0.01  0.0300  0.08  0.2400   5.14\n",
       "PS3       493.0  0.585781  1.462855  0.01  0.0500  0.20  0.6100  21.05\n",
       "PS4       392.0  0.801378  1.609456  0.01  0.0600  0.20  0.7300  14.63\n",
       "PSP       173.0  0.064682  0.071296  0.01  0.0200  0.03  0.0900   0.36\n",
       "PSV       411.0  0.119659  0.203011  0.01  0.0200  0.05  0.1200   1.96\n",
       "Wii        54.0  0.655000  1.165447  0.01  0.0625  0.18  0.6875   6.76\n",
       "WiiU      147.0  0.559116  1.058836  0.01  0.0800  0.22  0.5250   7.09\n",
       "X360      292.0  0.810068  1.712069  0.01  0.1000  0.31  0.8700  16.27\n",
       "XOne      247.0  0.645020  1.036139  0.01  0.0600  0.22  0.6850   7.39"
      ]
     },
     "execution_count": 41,
     "metadata": {},
     "output_type": "execute_result"
    }
   ],
   "source": [
    "data_actual_period.groupby('platform')['all_sales'].describe()  #описательная статистика"
   ]
  },
  {
   "cell_type": "code",
   "execution_count": 42,
   "metadata": {},
   "outputs": [
    {
     "data": {
      "text/plain": [
       "(-1.0, 3.0)"
      ]
     },
     "execution_count": 42,
     "metadata": {},
     "output_type": "execute_result"
    },
    {
     "data": {
      "image/png": "[encoded data removed]",
      "text/plain": [
       "<Figure size 1080x720 with 1 Axes>"
      ]
     },
     "metadata": {
      "needs_background": "light"
     },
     "output_type": "display_data"
    }
   ],
   "source": [
    "plt.figure(figsize=(15,10))\n",
    "sns.boxplot(data=data_actual_period,x='platform',y='all_sales')\n",
    "plt.title('Ящик с усами',fontsize=15)\n",
    "plt.xlabel('Платформа',fontsize=12)\n",
    "plt.ylabel('Глобальные продажи',fontsize=12)\n",
    "plt.ylim(-1,3)"
   ]
  },
  {
   "cell_type": "markdown",
   "metadata": {},
   "source": [
    "Вывод по графику следующий:\n",
    "1.  у PS3,x360,ps4,3ds визуализируются большие выбросы данных. что свидетельствует о  резких спадах/росте продаж.\n",
    "    Действительно, на примере PS3 видим резкий спад продаж (в 2013г - продажи более 100, 2016 - приближены к 0 )\n",
    "2. DS - так как в анализе присутствуют только данные за два года, то наблюдаем короткий \"ящик\" и маленький \"ус\"\n"
   ]
  },
  {
   "cell_type": "markdown",
   "metadata": {},
   "source": [
    "<div class=\"alert alert-info\">\n",
    "    Дополняю вывод следующим:\n",
    "    Нижняя часть boxplot-ов и описательная статистика позволяет сделать вывод, что медианы всех указанных платформ примерно на одном уровне - 0. Только PS4 и x360 более 0.80. \n",
    "    Также стоит отметить, что выбросы имеют различия. Есть частые выбросы ( где, большая концентрация черных точек). Есть выбросы редкие (например, PS3). Данная категория выбросов свидетельствует о резком росте продаж.\n",
    "    "
   ]
  },
  {
   "cell_type": "markdown",
   "metadata": {},
   "source": [
    "<b>Посмотрим как влияют на продажи внутри одной популярной платформы отзывы пользователей и критиков. Построим диаграмму рассеяния и посчитаем корреляцию между отзывами и продажами. <b>"
   ]
  },
  {
   "cell_type": "code",
   "execution_count": 43,
   "metadata": {},
   "outputs": [],
   "source": [
    "data_actual_period_PS4=data_actual_period.query('platform==\"PS4\"')"
   ]
  },
  {
   "cell_type": "code",
   "execution_count": 44,
   "metadata": {},
   "outputs": [
    {
     "data": {
      "text/plain": [
       "<AxesSubplot:>"
      ]
     },
     "execution_count": 44,
     "metadata": {},
     "output_type": "execute_result"
    },
    {
     "data": {
      "image/png": "[encoded data removed]",
      "text/plain": [
       "<Figure size 432x288 with 1 Axes>"
      ]
     },
     "metadata": {
      "needs_background": "light"
     },
     "output_type": "display_data"
    }
   ],
   "source": [
    "data_actual_period_PS4['critic_score'].describe()\n",
    "data_actual_period_PS4['critic_score'].hist()"
   ]
  },
  {
   "cell_type": "code",
   "execution_count": 45,
   "metadata": {},
   "outputs": [
    {
     "data": {
      "text/plain": [
       "<AxesSubplot:>"
      ]
     },
     "execution_count": 45,
     "metadata": {},
     "output_type": "execute_result"
    },
    {
     "data": {
      "image/png": "[encoded data removed]",
      "text/plain": [
       "<Figure size 432x288 with 1 Axes>"
      ]
     },
     "metadata": {
      "needs_background": "light"
     },
     "output_type": "display_data"
    }
   ],
   "source": [
    "data_actual_period_PS4['user_score'].describe()\n",
    "data_actual_period_PS4['user_score'].hist()"
   ]
  },
  {
   "cell_type": "code",
   "execution_count": 46,
   "metadata": {},
   "outputs": [
    {
     "data": {
      "text/plain": [
       "<AxesSubplot:xlabel='user_score', ylabel='all_sales'>"
      ]
     },
     "execution_count": 46,
     "metadata": {},
     "output_type": "execute_result"
    },
    {
     "data": {
      "image/png": "[encoded data removed]",
      "text/plain": [
       "<Figure size 432x288 with 1 Axes>"
      ]
     },
     "metadata": {
      "needs_background": "light"
     },
     "output_type": "display_data"
    }
   ],
   "source": [
    "data_actual_period_PS4.plot(x='user_score', y='all_sales', kind='scatter') "
   ]
  },
  {
   "cell_type": "code",
   "execution_count": 47,
   "metadata": {},
   "outputs": [
    {
     "data": {
      "text/plain": [
       "<AxesSubplot:xlabel='critic_score', ylabel='all_sales'>"
      ]
     },
     "execution_count": 47,
     "metadata": {},
     "output_type": "execute_result"
    },
    {
     "data": {
      "image/png": "[encoded data removed]",
      "text/plain": [
       "<Figure size 432x288 with 1 Axes>"
      ]
     },
     "metadata": {
      "needs_background": "light"
     },
     "output_type": "display_data"
    }
   ],
   "source": [
    "data_actual_period_PS4.plot(x='critic_score', y='all_sales', kind='scatter') "
   ]
  },
  {
   "cell_type": "code",
   "execution_count": 48,
   "metadata": {},
   "outputs": [
    {
     "name": "stdout",
     "output_type": "stream",
     "text": [
      "-0.039153543162937114\n"
     ]
    }
   ],
   "source": [
    "print(data_actual_period_PS4['all_sales'].corr(data_actual_period_PS4['user_score']))"
   ]
  },
  {
   "cell_type": "markdown",
   "metadata": {},
   "source": [
    "Значение близко к нулю, значит, линейная связь слабая либо отсутствует вовсе"
   ]
  },
  {
   "cell_type": "code",
   "execution_count": 49,
   "metadata": {},
   "outputs": [
    {
     "name": "stdout",
     "output_type": "stream",
     "text": [
      "0.32534576345022587\n"
     ]
    }
   ],
   "source": [
    "print(data_actual_period_PS4['all_sales'].corr(data_actual_period_PS4['critic_score']))"
   ]
  },
  {
   "cell_type": "markdown",
   "metadata": {},
   "source": [
    "Корреляция говорит о наличии связи, однако не слишком сильной."
   ]
  },
  {
   "cell_type": "markdown",
   "metadata": {},
   "source": [
    "<b>Соотнесем выводы с продажами игр на других платформах.<b>"
   ]
  },
  {
   "cell_type": "code",
   "execution_count": 50,
   "metadata": {},
   "outputs": [
    {
     "name": "stdout",
     "output_type": "stream",
     "text": [
      "0.28544104680505517\n",
      "-0.055416474013406325\n"
     ]
    },
    {
     "data": {
      "image/png": "[encoded data removed]",
      "text/plain": [
       "<Figure size 432x288 with 1 Axes>"
      ]
     },
     "metadata": {
      "needs_background": "light"
     },
     "output_type": "display_data"
    }
   ],
   "source": [
    "data_actual_period_PS3=data_actual_period.query('platform==\"PS3\"')\n",
    "data_actual_period_PS3.plot(x='critic_score', y='all_sales', kind='scatter') \n",
    "print(data_actual_period_PS3['all_sales'].corr(data_actual_period_PS3['critic_score']))\n",
    "print(data_actual_period_PS3['all_sales'].corr(data_actual_period_PS3['user_score']))"
   ]
  },
  {
   "cell_type": "markdown",
   "metadata": {},
   "source": [
    "Корреляция между оценкой критиков и продажами присутствует но достаточно слабая\n",
    "Корреляция между оценкой пользователей и продажами близка к нулю т.е отсутствует"
   ]
  },
  {
   "cell_type": "code",
   "execution_count": 51,
   "metadata": {},
   "outputs": [
    {
     "name": "stdout",
     "output_type": "stream",
     "text": [
      "0.07456971551768414\n",
      "-0.04705147546914623\n"
     ]
    },
    {
     "data": {
      "image/png": "[encoded data removed]",
      "text/plain": [
       "<Figure size 432x288 with 1 Axes>"
      ]
     },
     "metadata": {
      "needs_background": "light"
     },
     "output_type": "display_data"
    }
   ],
   "source": [
    "data_actual_period_PSV=data_actual_period.query('platform==\"PSV\"')\n",
    "data_actual_period_PSV.plot(x='critic_score', y='all_sales', kind='scatter') \n",
    "print(data_actual_period_PSV['all_sales'].corr(data_actual_period_PSV['critic_score']))\n",
    "print(data_actual_period_PSV['all_sales'].corr(data_actual_period_PSV['user_score']))"
   ]
  },
  {
   "cell_type": "markdown",
   "metadata": {},
   "source": [
    "Корреляция между оценкой критиков и продажами близка к нулю т.е отсутствует.\n",
    "Корреляция между оценкой пользователей и продажами близка к нулю т.е отсутствует"
   ]
  },
  {
   "cell_type": "code",
   "execution_count": 52,
   "metadata": {},
   "outputs": [
    {
     "name": "stdout",
     "output_type": "stream",
     "text": [
      "0.1879015616676559\n",
      "0.10365596474421178\n"
     ]
    },
    {
     "data": {
      "image/png": "[encoded data removed]",
      "text/plain": [
       "<Figure size 432x288 with 1 Axes>"
      ]
     },
     "metadata": {
      "needs_background": "light"
     },
     "output_type": "display_data"
    }
   ],
   "source": [
    "data_actual_period_3DS=data_actual_period.query('platform==\"3DS\"')\n",
    "data_actual_period_3DS.plot(x='critic_score', y='all_sales', kind='scatter') \n",
    "print(data_actual_period_3DS['all_sales'].corr(data_actual_period_3DS['critic_score']))\n",
    "print(data_actual_period_3DS['all_sales'].corr(data_actual_period_3DS['user_score']))"
   ]
  },
  {
   "cell_type": "markdown",
   "metadata": {},
   "source": [
    "Корреляция между оценкой критиков и продажами близка к нулю т.е отсутствует.\n",
    "Корреляция между оценкой пользователей и продажами близка к нулю т.е отсутствует"
   ]
  },
  {
   "cell_type": "code",
   "execution_count": 53,
   "metadata": {},
   "outputs": [
    {
     "name": "stdout",
     "output_type": "stream",
     "text": [
      "0.32704402689279016\n",
      "-0.01816547120946419\n"
     ]
    },
    {
     "data": {
      "image/png": "[encoded data removed]",
      "text/plain": [
       "<Figure size 432x288 with 1 Axes>"
      ]
     },
     "metadata": {
      "needs_background": "light"
     },
     "output_type": "display_data"
    }
   ],
   "source": [
    "data_actual_period_X360=data_actual_period.query('platform==\"X360\"')\n",
    "data_actual_period_X360.plot(x='critic_score', y='all_sales', kind='scatter') \n",
    "print(data_actual_period_X360['all_sales'].corr(data_actual_period_X360['critic_score']))\n",
    "print(data_actual_period_X360['all_sales'].corr(data_actual_period_X360['user_score']))"
   ]
  },
  {
   "cell_type": "markdown",
   "metadata": {},
   "source": [
    "Корреляция между оценкой критиков и продажами присутствует но достаточно слабая.\n",
    "Корреляция между оценкой пользователей и продажами близка к нулю т.е отсутствует"
   ]
  },
  {
   "cell_type": "markdown",
   "metadata": {},
   "source": [
    "<b>Посмотрим на общее распределение игр по жанрам. Что можно сказать о самых прибыльных жанрах? Выделяются ли жанры с высокими и низкими продажами?<b>"
   ]
  },
  {
   "cell_type": "code",
   "execution_count": 54,
   "metadata": {},
   "outputs": [
    {
     "data": {
      "text/plain": [
       "array(['Action', 'Shooter', 'Role-Playing', 'Platform', 'Misc',\n",
       "       'Simulation', 'Sports', 'Fighting', 'Racing', 'Strategy',\n",
       "       'Adventure', 'Puzzle'], dtype=object)"
      ]
     },
     "execution_count": 54,
     "metadata": {},
     "output_type": "execute_result"
    }
   ],
   "source": [
    "data_actual_period['genre'].unique()"
   ]
  },
  {
   "cell_type": "code",
   "execution_count": 55,
   "metadata": {},
   "outputs": [
    {
     "data": {
      "image/png": "[encoded data removed]",
      "text/plain": [
       "<Figure size 432x288 with 1 Axes>"
      ]
     },
     "metadata": {
      "needs_background": "light"
     },
     "output_type": "display_data"
    }
   ],
   "source": [
    "data_actual_period_genre_sales=(\n",
    "    data_actual_period\n",
    "    .pivot_table(index='genre',values='all_sales',aggfunc='median')\n",
    "    .sort_values(by='all_sales',ascending=False) \n",
    "    .plot(kind='bar',title='Распределение игр по жанрам')\n",
    ")\n",
    "#посмотрим распределение игр по жанрам (median)"
   ]
  },
  {
   "cell_type": "markdown",
   "metadata": {},
   "source": [
    "Самые продаваемые жанры игр топ3:\n",
    "1. Shooter\n",
    "2. Sports\n",
    "3. Platform\n",
    "\n",
    "\n",
    "Низкие - у жанра Puzzle и Adventure\n"
   ]
  },
  {
   "cell_type": "markdown",
   "metadata": {},
   "source": [
    "<b>Шаг 4. Составим портрет пользователя каждого региона\n",
    "Определим для пользователя каждого региона (NA, EU, JP):\n",
    "Самые популярные платформы (топ-5). Опишем различия в долях продаж.\n",
    "Самые популярные жанры (топ-5). \n",
    "Влияет ли рейтинг ESRB на продажи в отдельном регионе?<b>\n"
   ]
  },
  {
   "cell_type": "code",
   "execution_count": 56,
   "metadata": {
    "scrolled": true
   },
   "outputs": [
    {
     "data": {
      "image/png": "[encoded data removed]",
      "text/plain": [
       "<Figure size 432x288 with 1 Axes>"
      ]
     },
     "metadata": {
      "needs_background": "light"
     },
     "output_type": "display_data"
    },
    {
     "data": {
      "image/png": "[encoded data removed]",
      "text/plain": [
       "<Figure size 432x288 with 1 Axes>"
      ]
     },
     "metadata": {
      "needs_background": "light"
     },
     "output_type": "display_data"
    },
    {
     "data": {
      "image/png": "[encoded data removed]",
      "text/plain": [
       "<Figure size 432x288 with 1 Axes>"
      ]
     },
     "metadata": {
      "needs_background": "light"
     },
     "output_type": "display_data"
    }
   ],
   "source": [
    "regions =['eu_sales', 'na_sales', 'jp_sales']\n",
    "for region in regions:\n",
    "    (\n",
    "    data_actual_period\n",
    "    .pivot_table(index = 'platform', values = region, aggfunc = 'sum')\n",
    "    .sort_values(by=region,ascending=False)\n",
    "    .plot(kind = 'bar')\n",
    "    )\n",
    "    plt.show()\n"
   ]
  },
  {
   "cell_type": "code",
   "execution_count": 57,
   "metadata": {},
   "outputs": [
    {
     "name": "stdout",
     "output_type": "stream",
     "text": [
      "          eu_sales  percent\n",
      "platform                   \n",
      "3DS          42.64      8.0\n",
      "DS            3.53      1.0\n",
      "PC           37.76      7.0\n",
      "PS3         106.86     21.0\n",
      "PS4         141.09     28.0\n",
      "PSP           0.42      0.0\n",
      "PSV          11.36      2.0\n",
      "Wii          11.92      2.0\n",
      "WiiU         25.13      5.0\n",
      "X360         74.52     15.0\n",
      "XOne         51.59     10.0\n"
     ]
    }
   ],
   "source": [
    "data_actual_period_pt_eu_sales=data_actual_period.pivot_table(index = 'platform', values = 'eu_sales', aggfunc = 'sum')\n",
    "data_actual_period_pt_eu_sales['percent'] = (data_actual_period_pt_eu_sales['eu_sales'] / data_actual_period_pt_eu_sales['eu_sales'].sum()) * 100\n",
    "data_actual_period_pt_eu_sales['percent']=data_actual_period_pt_eu_sales['percent'].round( )\n",
    "print(data_actual_period_pt_eu_sales)"
   ]
  },
  {
   "cell_type": "markdown",
   "metadata": {},
   "source": [
    "В Европе большую долю  продаж занимает PS4 - 28% PS3 - 21% X360 - 15%\n",
    "\n",
    "Наименьшую долю занимает - PSP"
   ]
  },
  {
   "cell_type": "code",
   "execution_count": 58,
   "metadata": {},
   "outputs": [
    {
     "name": "stdout",
     "output_type": "stream",
     "text": [
      "          na_sales  percent\n",
      "platform                   \n",
      "3DS          55.31      9.0\n",
      "DS            4.59      1.0\n",
      "PC           19.12      3.0\n",
      "PS3         103.38     17.0\n",
      "PS4         108.74     18.0\n",
      "PSP           0.13      0.0\n",
      "PSV          10.98      2.0\n",
      "Wii          17.45      3.0\n",
      "WiiU         38.10      6.0\n",
      "X360        140.05     24.0\n",
      "XOne         93.12     16.0\n"
     ]
    }
   ],
   "source": [
    "data_actual_period_pt_na_sales=data_actual_period.pivot_table(index = 'platform', values = 'na_sales', aggfunc = 'sum')\n",
    "data_actual_period_pt_na_sales['percent'] = (data_actual_period_pt_na_sales['na_sales'] / data_actual_period_pt_na_sales['na_sales'].sum()) * 100\n",
    "data_actual_period_pt_na_sales['percent']=data_actual_period_pt_na_sales['percent'].round( )\n",
    "print(data_actual_period_pt_na_sales)"
   ]
  },
  {
   "cell_type": "markdown",
   "metadata": {},
   "source": [
    "В Северной Америке большую долю  продаж занимает X360 - 24% PS3 - 17% PS4 - 18%\n",
    "Наименьшую долю занимает - PSP"
   ]
  },
  {
   "cell_type": "code",
   "execution_count": 59,
   "metadata": {},
   "outputs": [
    {
     "name": "stdout",
     "output_type": "stream",
     "text": [
      "          jp_sales  percent\n",
      "platform                   \n",
      "3DS          87.79     46.0\n",
      "DS            3.72      2.0\n",
      "PC            0.00      0.0\n",
      "PS3          35.29     18.0\n",
      "PS4          15.96      8.0\n",
      "PSP          10.47      5.0\n",
      "PSV          21.04     11.0\n",
      "Wii           3.39      2.0\n",
      "WiiU         13.01      7.0\n",
      "X360          1.57      1.0\n",
      "XOne          0.34      0.0\n"
     ]
    }
   ],
   "source": [
    "data_actual_period_pt_jp_sales=data_actual_period.pivot_table(index = 'platform', values = 'jp_sales', aggfunc = 'sum')\n",
    "data_actual_period_pt_jp_sales['percent'] = (data_actual_period_pt_jp_sales['jp_sales'] / data_actual_period_pt_jp_sales['jp_sales'].sum()) * 100\n",
    "data_actual_period_pt_jp_sales['percent']=data_actual_period_pt_jp_sales['percent'].round( )\n",
    "print(data_actual_period_pt_jp_sales)"
   ]
  },
  {
   "cell_type": "markdown",
   "metadata": {},
   "source": [
    "В Японии большую долю  продаж занимает 3DS - 46% PS3 - 18% PSV - 11%\n",
    "Наименьшую долю занимает - PC,Xone"
   ]
  },
  {
   "cell_type": "code",
   "execution_count": 60,
   "metadata": {},
   "outputs": [],
   "source": [
    "top_5_platform=['PS3','PS4','PSV','3DS','X360']"
   ]
  },
  {
   "cell_type": "code",
   "execution_count": 61,
   "metadata": {
    "scrolled": false
   },
   "outputs": [
    {
     "data": {
      "image/png": "[encoded data removed]",
      "text/plain": [
       "<Figure size 432x288 with 1 Axes>"
      ]
     },
     "metadata": {
      "needs_background": "light"
     },
     "output_type": "display_data"
    },
    {
     "data": {
      "image/png": "[encoded data removed]",
      "text/plain": [
       "<Figure size 432x288 with 1 Axes>"
      ]
     },
     "metadata": {
      "needs_background": "light"
     },
     "output_type": "display_data"
    },
    {
     "data": {
      "image/png": "[encoded data removed]",
      "text/plain": [
       "<Figure size 432x288 with 1 Axes>"
      ]
     },
     "metadata": {
      "needs_background": "light"
     },
     "output_type": "display_data"
    }
   ],
   "source": [
    "regions =['eu_sales', 'na_sales', 'jp_sales']\n",
    "for region in regions:\n",
    "    (\n",
    "    data_actual_period\n",
    "    .pivot_table(index = 'genre', values = region, aggfunc = 'sum')\n",
    "    .sort_values(by=region,ascending=False)\n",
    "    .plot(kind = 'bar')\n",
    "    )\n",
    "    plt.show()"
   ]
  },
  {
   "cell_type": "markdown",
   "metadata": {},
   "source": [
    "В Европе и Северной Америке топ3 жанра - \n",
    "Action,Shooters,Sports\n",
    "В Японии - \n",
    "Role-Playing,Action,Misc"
   ]
  },
  {
   "cell_type": "markdown",
   "metadata": {},
   "source": [
    "Посмотрим влияет ли рейтинг на продажи в отдельном регионе"
   ]
  },
  {
   "cell_type": "code",
   "execution_count": 62,
   "metadata": {},
   "outputs": [
    {
     "data": {
      "text/plain": [
       "<AxesSubplot:xlabel='eu_sales', ylabel='rating'>"
      ]
     },
     "execution_count": 62,
     "metadata": {},
     "output_type": "execute_result"
    },
    {
     "data": {
      "image/png": "[encoded data removed]",
      "text/plain": [
       "<Figure size 432x288 with 1 Axes>"
      ]
     },
     "metadata": {
      "needs_background": "light"
     },
     "output_type": "display_data"
    }
   ],
   "source": [
    "data_actual_period.plot(x='eu_sales', y='rating', kind='scatter') "
   ]
  },
  {
   "cell_type": "code",
   "execution_count": 63,
   "metadata": {},
   "outputs": [
    {
     "data": {
      "text/plain": [
       "<AxesSubplot:xlabel='na_sales', ylabel='rating'>"
      ]
     },
     "execution_count": 63,
     "metadata": {},
     "output_type": "execute_result"
    },
    {
     "data": {
      "image/png": "[encoded data removed]",
      "text/plain": [
       "<Figure size 432x288 with 1 Axes>"
      ]
     },
     "metadata": {
      "needs_background": "light"
     },
     "output_type": "display_data"
    }
   ],
   "source": [
    "data_actual_period.plot(x='na_sales', y='rating', kind='scatter') "
   ]
  },
  {
   "cell_type": "code",
   "execution_count": 64,
   "metadata": {},
   "outputs": [
    {
     "data": {
      "text/plain": [
       "<AxesSubplot:xlabel='jp_sales', ylabel='rating'>"
      ]
     },
     "execution_count": 64,
     "metadata": {},
     "output_type": "execute_result"
    },
    {
     "data": {
      "image/png": "[encoded data removed]",
      "text/plain": [
       "<Figure size 432x288 with 1 Axes>"
      ]
     },
     "metadata": {
      "needs_background": "light"
     },
     "output_type": "display_data"
    }
   ],
   "source": [
    "data_actual_period.plot(x='jp_sales', y='rating', kind='scatter') "
   ]
  },
  {
   "cell_type": "markdown",
   "metadata": {},
   "source": [
    "Продажи игр с рейтингом Е и М имеют более высокие показатели в Северной Америке и Европе. При этом в Японии рейтинг М не пользуется популярностью, предпочтения отдается рейтингу Е(everyone). Для всех регионов общее - низкие показатели продаж по категории Е10+.\n"
   ]
  },
  {
   "cell_type": "markdown",
   "metadata": {},
   "source": [
    "<b>Шаг 5. Проверим гипотезы\n",
    "Средние пользовательские рейтинги платформ Xbox One и PC одинаковые;\n",
    "Средние пользовательские рейтинги жанров Action (англ. «действие», экшен-игры) и Sports (англ. «спортивные соревнования») разные.\n",
    "<b>"
   ]
  },
  {
   "cell_type": "code",
   "execution_count": 65,
   "metadata": {},
   "outputs": [
    {
     "name": "stdout",
     "output_type": "stream",
     "text": [
      "0.8570492519273201\n",
      "Не получилось отвергнуть нулевую гипотезу\n"
     ]
    }
   ],
   "source": [
    "\n",
    "xone_user = data_actual_period[(data_actual_period['platform'] =='XOne') & (data_actual_period['user_score'] > 0)]['user_score']\n",
    "pc_user =data_actual_period[(data_actual_period['platform'] =='PC') & (data_actual_period['user_score'] > 0)]['user_score']\n",
    "\n",
    "alpha = 0.05 \n",
    "\n",
    "results = st.ttest_ind(xone_user, pc_user, equal_var = False)\n",
    "\n",
    "print(results.pvalue)\n",
    "\n",
    "if results.pvalue < alpha:\n",
    "    print('Отвергаем нулевую гипотезу')\n",
    "else:\n",
    "    print('Не получилось отвергнуть нулевую гипотезу')"
   ]
  },
  {
   "cell_type": "markdown",
   "metadata": {},
   "source": [
    "1. Н0 -  гипотеза о равенстве рейтингов платформ Xbox One и PC.\n",
    "2. H1 - неравенство рейтингов платформ Xbox One и PC.\n",
    "3. Принимаем нулевую гипотезу. Предположение, что пользовательские рейтинги платформ Xbox One и PC одинаковые высоко вероятны. Значение p-value показывает: вероятность случайно получить такое среднее.В качестве критерия использован критерий T критерий Стюдента. Метод для проверки гипотезы о равенстве среднего двух генеральных совокупностей по взятым из них выборкам: scipy.stats.ttest_ind (array1, array2, equal_var).Все условия для использования метода соблюдены (Генеральные совокупности не должны зависеть друг от друга,Выборочные средние должны быть нормально распределены.)\n"
   ]
  },
  {
   "cell_type": "code",
   "execution_count": 66,
   "metadata": {},
   "outputs": [
    {
     "name": "stdout",
     "output_type": "stream",
     "text": [
      "3.559550624245508e-21\n",
      "Отвергаем нулевую гипотезу\n"
     ]
    }
   ],
   "source": [
    "Action_user = data_actual_period[(data_actual_period['genre'] =='Action')& (data_actual_period['user_score'] > 0)]['user_score']\n",
    "Sports_user =data_actual_period[(data_actual_period['genre'] =='Sports')& (data_actual_period['user_score'] > 0)]['user_score']\n",
    "\n",
    "alpha = 0.05 \n",
    "\n",
    "results = st.ttest_ind(Action_user, Sports_user, equal_var = False)\n",
    "\n",
    "print(results.pvalue)\n",
    "\n",
    "if results.pvalue < alpha:\n",
    "    print('Отвергаем нулевую гипотезу')\n",
    "else:\n",
    "    print('Не получилось отвергнуть нулевую гипотезу')"
   ]
  },
  {
   "cell_type": "markdown",
   "metadata": {},
   "source": [
    "1. Н0 - гипотеза о равенстве рейтингов  жанров Action (англ. «действие», экшен-игры) и Sports (англ. «спортивные соревнования»).\n",
    "2. H1 - гипотеза о неравенстве рейтингов  жанров Action (англ. «действие», экшен-игры) и Sports (англ. «спортивные соревнования»).\n",
    "3. Отвергаем нулевую гипотезу. Предположение, что пользовательские рейтинги  жанров Action (англ. «действие», экшен-игры) и Sports (англ. «спортивные соревнования»)разные оказалось верным. Значение p-value показывает: вероятность случайно получить такое среднее.В качестве критерия использован критерий T критерий Стюдента. Метод для проверки гипотезы о равенстве среднего двух генеральных совокупностей по взятым из них выборкам: scipy.stats.ttest_ind (array1, array2, equal_var).Все условия для использования метода соблюдены (Генеральные совокупности не должны зависеть друг от друга,Выборочные средние должны быть нормально распределены.)"
   ]
  },
  {
   "cell_type": "markdown",
   "metadata": {},
   "source": [
    "<b>Шаг 6.Общий вывод<b>"
   ]
  },
  {
   "cell_type": "markdown",
   "metadata": {},
   "source": [
    "В ходе решения задачи были выявлены закономерности определяющие успешность игры. Это позволило сделать ставку на потенциально популярный продукт и спланировать рекламные кампании.\n",
    "\n",
    "В ходе предобработки данных были выявлены:\n",
    "1. Исправление наименований колонок. Приведение к нижнему регистру.\n",
    "2. Пропуски. Были проделаны операции по заменен пустот средними показателями (user_score,critic_score),а также замены пустот на нули и Nan.\n",
    "3. Дубликаты. Объеденены рейтинги K-A и Е.\n",
    "4. Изменение типов данных.\n",
    " \n",
    "\n",
    "В ходе  исследовательского анализа данных было выявлено:\n",
    "\n",
    "1. В датасете период 1980-2016гг\n",
    "2. Не весь период необходим для анализа (брали последние 5 лет)\n",
    "3. Особый пик выпуска игр пришелся на 2008-2010 годы - более 1400 игр.\n",
    "4. Рост производительности игр начался с 1994 года. До этого периода (1994г) кол-во игр было очень низким.\n",
    "5. Наиболее привлекательной платформой с точки зрения прибыли является PS4.\n",
    "6. Аутсайдеры по критерию продаж являеются Wii и PSP.\n",
    "5. Корреляция между оценкой критиков и продажами присутствует но достаточно слабая.\n",
    "6. Корреляция между оценкой пользователей и продажами близка к нулю т.е отсутствует.\n",
    "\n",
    "В ходе  составления портрета пользвателя каждого региона было выявлено:\n",
    "\n",
    "1. Самые продаваемые жанры Action,Sport,Shooter,Sports,Role-Playing\n",
    "2. Cамый непопулярный жанр- Puzzle\n",
    "3. Выделены топ 5 платформ в регионах Северная Америка, Европа и Япония['PS3','PS4','PSV','3DS','X360']\n",
    "4. Самые популярные жанры в Европе и Северной Америке Action,Shooters,Sports В Японии - Role-Playing,Action,Misc\n",
    "5. Продажи игр с рейтингом Е и М имеют более высокие показатели в Северной Америке и Европе. При этом в Японии рейтинг М не пользуется популярностью, предпочтения отдается рейтингу Е(everyone). Для всех регионов общее - низкие показатели продаж по категории Е10+.\n",
    "\n",
    "В ходе  проверки гипотез было выявлено:\n",
    "\n",
    "1. Предположение, что пользовательские рейтинги платформ Xbox One и PC одинаковые высоко вероятны. Принята нулевая гипотеза.\n",
    "2.  Предположение, что пользовательские рейтинги жанров Action (англ. «действие», экшен-игры) и Sports (англ. «спортивные соревнования»)разные оказалось верным.Отвергаем нулевую гипотезу.\n",
    "\n",
    "\n"
   ]
  }
 ],
 "metadata": {
  "ExecuteTimeLog": [
   {
    "duration": 755,
    "start_time": "2023-02-13T11:24:35.660Z"
   },
   {
    "duration": 91,
    "start_time": "2023-02-13T11:24:37.475Z"
   },
   {
    "duration": 13,
    "start_time": "2023-02-13T11:24:52.316Z"
   },
   {
    "duration": 47,
    "start_time": "2023-02-13T11:25:02.773Z"
   },
   {
    "duration": 21,
    "start_time": "2023-02-13T11:25:03.903Z"
   },
   {
    "duration": 14,
    "start_time": "2023-02-13T11:25:38.824Z"
   },
   {
    "duration": 4,
    "start_time": "2023-02-13T11:28:37.289Z"
   },
   {
    "duration": 20,
    "start_time": "2023-02-13T11:28:47.312Z"
   },
   {
    "duration": 770,
    "start_time": "2023-02-14T10:26:16.377Z"
   },
   {
    "duration": 92,
    "start_time": "2023-02-14T10:26:17.149Z"
   },
   {
    "duration": 26,
    "start_time": "2023-02-14T10:26:17.243Z"
   },
   {
    "duration": 14,
    "start_time": "2023-02-14T10:26:17.271Z"
   },
   {
    "duration": 3,
    "start_time": "2023-02-14T10:26:17.287Z"
   },
   {
    "duration": 26,
    "start_time": "2023-02-14T10:26:17.292Z"
   },
   {
    "duration": 6,
    "start_time": "2023-02-14T10:28:39.358Z"
   },
   {
    "duration": 13,
    "start_time": "2023-02-14T10:28:54.629Z"
   },
   {
    "duration": 107,
    "start_time": "2023-02-14T10:30:54.088Z"
   },
   {
    "duration": 42,
    "start_time": "2023-02-14T10:31:10.062Z"
   },
   {
    "duration": 20,
    "start_time": "2023-02-14T10:31:16.474Z"
   },
   {
    "duration": 21,
    "start_time": "2023-02-14T10:31:26.441Z"
   },
   {
    "duration": 187,
    "start_time": "2023-02-14T10:31:41.751Z"
   },
   {
    "duration": 64,
    "start_time": "2023-02-14T10:33:39.510Z"
   },
   {
    "duration": 2,
    "start_time": "2023-02-14T10:36:24.467Z"
   },
   {
    "duration": 20,
    "start_time": "2023-02-14T10:36:33.127Z"
   },
   {
    "duration": 23,
    "start_time": "2023-02-14T10:36:47.615Z"
   },
   {
    "duration": 23,
    "start_time": "2023-02-14T10:37:12.155Z"
   },
   {
    "duration": 25,
    "start_time": "2023-02-14T10:38:16.012Z"
   },
   {
    "duration": 182,
    "start_time": "2023-02-14T10:38:22.140Z"
   },
   {
    "duration": 16,
    "start_time": "2023-02-14T10:40:20.291Z"
   },
   {
    "duration": 15,
    "start_time": "2023-02-14T10:40:23.751Z"
   },
   {
    "duration": 10,
    "start_time": "2023-02-14T10:42:25.821Z"
   },
   {
    "duration": 53,
    "start_time": "2023-02-14T10:43:55.029Z"
   },
   {
    "duration": 48,
    "start_time": "2023-02-14T10:50:05.901Z"
   },
   {
    "duration": 9,
    "start_time": "2023-02-14T10:50:38.999Z"
   },
   {
    "duration": 9,
    "start_time": "2023-02-14T10:50:55.270Z"
   },
   {
    "duration": 10,
    "start_time": "2023-02-14T10:51:11.989Z"
   },
   {
    "duration": 624,
    "start_time": "2023-02-14T10:52:55.162Z"
   },
   {
    "duration": 50,
    "start_time": "2023-02-14T10:52:55.788Z"
   },
   {
    "duration": 23,
    "start_time": "2023-02-14T10:52:55.840Z"
   },
   {
    "duration": 17,
    "start_time": "2023-02-14T10:52:55.865Z"
   },
   {
    "duration": 4,
    "start_time": "2023-02-14T10:52:55.884Z"
   },
   {
    "duration": 21,
    "start_time": "2023-02-14T10:52:55.893Z"
   },
   {
    "duration": 21,
    "start_time": "2023-02-14T10:52:55.917Z"
   },
   {
    "duration": 13,
    "start_time": "2023-02-14T10:52:55.940Z"
   },
   {
    "duration": 14,
    "start_time": "2023-02-14T10:52:55.955Z"
   },
   {
    "duration": 9,
    "start_time": "2023-02-14T10:52:55.993Z"
   },
   {
    "duration": 51,
    "start_time": "2023-02-14T10:52:56.004Z"
   },
   {
    "duration": 8,
    "start_time": "2023-02-14T10:52:56.057Z"
   },
   {
    "duration": 645,
    "start_time": "2023-02-14T10:53:15.863Z"
   },
   {
    "duration": 47,
    "start_time": "2023-02-14T10:53:16.510Z"
   },
   {
    "duration": 23,
    "start_time": "2023-02-14T10:53:16.558Z"
   },
   {
    "duration": 13,
    "start_time": "2023-02-14T10:53:16.582Z"
   },
   {
    "duration": 3,
    "start_time": "2023-02-14T10:53:16.596Z"
   },
   {
    "duration": 23,
    "start_time": "2023-02-14T10:53:16.600Z"
   },
   {
    "duration": 28,
    "start_time": "2023-02-14T10:53:16.624Z"
   },
   {
    "duration": 9,
    "start_time": "2023-02-14T10:53:16.653Z"
   },
   {
    "duration": 11,
    "start_time": "2023-02-14T10:53:16.664Z"
   },
   {
    "duration": 21,
    "start_time": "2023-02-14T10:53:16.677Z"
   },
   {
    "duration": 46,
    "start_time": "2023-02-14T10:53:16.700Z"
   },
   {
    "duration": 7,
    "start_time": "2023-02-14T10:53:16.748Z"
   },
   {
    "duration": 650,
    "start_time": "2023-02-14T10:53:59.275Z"
   },
   {
    "duration": 57,
    "start_time": "2023-02-14T10:53:59.927Z"
   },
   {
    "duration": 22,
    "start_time": "2023-02-14T10:53:59.986Z"
   },
   {
    "duration": 37,
    "start_time": "2023-02-14T10:54:00.011Z"
   },
   {
    "duration": 4,
    "start_time": "2023-02-14T10:54:00.049Z"
   },
   {
    "duration": 33,
    "start_time": "2023-02-14T10:54:00.055Z"
   },
   {
    "duration": 30,
    "start_time": "2023-02-14T10:54:00.090Z"
   },
   {
    "duration": 14,
    "start_time": "2023-02-14T10:54:00.122Z"
   },
   {
    "duration": 13,
    "start_time": "2023-02-14T10:54:00.138Z"
   },
   {
    "duration": 25,
    "start_time": "2023-02-14T10:54:00.154Z"
   },
   {
    "duration": 56,
    "start_time": "2023-02-14T10:54:00.182Z"
   },
   {
    "duration": 8,
    "start_time": "2023-02-14T10:54:00.239Z"
   },
   {
    "duration": 9,
    "start_time": "2023-02-14T10:54:25.515Z"
   },
   {
    "duration": 660,
    "start_time": "2023-02-14T10:54:33.381Z"
   },
   {
    "duration": 63,
    "start_time": "2023-02-14T10:54:34.043Z"
   },
   {
    "duration": 31,
    "start_time": "2023-02-14T10:54:34.108Z"
   },
   {
    "duration": 17,
    "start_time": "2023-02-14T10:54:34.141Z"
   },
   {
    "duration": 3,
    "start_time": "2023-02-14T10:54:34.160Z"
   },
   {
    "duration": 47,
    "start_time": "2023-02-14T10:54:34.166Z"
   },
   {
    "duration": 37,
    "start_time": "2023-02-14T10:54:34.215Z"
   },
   {
    "duration": 29,
    "start_time": "2023-02-14T10:54:34.255Z"
   },
   {
    "duration": 29,
    "start_time": "2023-02-14T10:54:34.286Z"
   },
   {
    "duration": 8,
    "start_time": "2023-02-14T10:54:34.318Z"
   },
   {
    "duration": 63,
    "start_time": "2023-02-14T10:54:34.327Z"
   },
   {
    "duration": 9,
    "start_time": "2023-02-14T10:54:34.391Z"
   },
   {
    "duration": 10,
    "start_time": "2023-02-14T10:59:13.038Z"
   },
   {
    "duration": 587,
    "start_time": "2023-02-14T10:59:20.120Z"
   },
   {
    "duration": 48,
    "start_time": "2023-02-14T10:59:20.710Z"
   },
   {
    "duration": 33,
    "start_time": "2023-02-14T10:59:20.760Z"
   },
   {
    "duration": 21,
    "start_time": "2023-02-14T10:59:20.795Z"
   },
   {
    "duration": 4,
    "start_time": "2023-02-14T10:59:20.818Z"
   },
   {
    "duration": 40,
    "start_time": "2023-02-14T10:59:20.823Z"
   },
   {
    "duration": 37,
    "start_time": "2023-02-14T10:59:20.865Z"
   },
   {
    "duration": 25,
    "start_time": "2023-02-14T10:59:20.904Z"
   },
   {
    "duration": 17,
    "start_time": "2023-02-14T10:59:20.930Z"
   },
   {
    "duration": 8,
    "start_time": "2023-02-14T10:59:20.949Z"
   },
   {
    "duration": 79,
    "start_time": "2023-02-14T10:59:20.959Z"
   },
   {
    "duration": 12,
    "start_time": "2023-02-14T10:59:21.041Z"
   },
   {
    "duration": 556,
    "start_time": "2023-02-14T10:59:49.456Z"
   },
   {
    "duration": 55,
    "start_time": "2023-02-14T10:59:50.014Z"
   },
   {
    "duration": 22,
    "start_time": "2023-02-14T10:59:50.070Z"
   },
   {
    "duration": 20,
    "start_time": "2023-02-14T10:59:50.094Z"
   },
   {
    "duration": 3,
    "start_time": "2023-02-14T10:59:50.116Z"
   },
   {
    "duration": 23,
    "start_time": "2023-02-14T10:59:50.121Z"
   },
   {
    "duration": 20,
    "start_time": "2023-02-14T10:59:50.146Z"
   },
   {
    "duration": 34,
    "start_time": "2023-02-14T10:59:50.167Z"
   },
   {
    "duration": 16,
    "start_time": "2023-02-14T10:59:50.204Z"
   },
   {
    "duration": 9,
    "start_time": "2023-02-14T10:59:50.223Z"
   },
   {
    "duration": 67,
    "start_time": "2023-02-14T10:59:50.234Z"
   },
   {
    "duration": 8,
    "start_time": "2023-02-14T10:59:50.302Z"
   },
   {
    "duration": 4,
    "start_time": "2023-02-14T11:00:42.886Z"
   },
   {
    "duration": 588,
    "start_time": "2023-02-14T11:04:55.729Z"
   },
   {
    "duration": 51,
    "start_time": "2023-02-14T11:04:56.319Z"
   },
   {
    "duration": 22,
    "start_time": "2023-02-14T11:04:56.372Z"
   },
   {
    "duration": 16,
    "start_time": "2023-02-14T11:04:56.396Z"
   },
   {
    "duration": 10,
    "start_time": "2023-02-14T11:04:56.414Z"
   },
   {
    "duration": 33,
    "start_time": "2023-02-14T11:04:56.425Z"
   },
   {
    "duration": 16,
    "start_time": "2023-02-14T11:04:56.459Z"
   },
   {
    "duration": 26,
    "start_time": "2023-02-14T11:04:56.477Z"
   },
   {
    "duration": 97,
    "start_time": "2023-02-14T11:04:56.505Z"
   },
   {
    "duration": 0,
    "start_time": "2023-02-14T11:04:56.604Z"
   },
   {
    "duration": 0,
    "start_time": "2023-02-14T11:04:56.605Z"
   },
   {
    "duration": 0,
    "start_time": "2023-02-14T11:04:56.606Z"
   },
   {
    "duration": 0,
    "start_time": "2023-02-14T11:04:56.608Z"
   },
   {
    "duration": 0,
    "start_time": "2023-02-14T11:04:56.608Z"
   },
   {
    "duration": 10,
    "start_time": "2023-02-14T11:05:06.259Z"
   },
   {
    "duration": 637,
    "start_time": "2023-02-14T11:05:19.746Z"
   },
   {
    "duration": 50,
    "start_time": "2023-02-14T11:05:20.385Z"
   },
   {
    "duration": 34,
    "start_time": "2023-02-14T11:05:20.437Z"
   },
   {
    "duration": 15,
    "start_time": "2023-02-14T11:05:20.473Z"
   },
   {
    "duration": 4,
    "start_time": "2023-02-14T11:05:20.490Z"
   },
   {
    "duration": 29,
    "start_time": "2023-02-14T11:05:20.495Z"
   },
   {
    "duration": 23,
    "start_time": "2023-02-14T11:05:20.526Z"
   },
   {
    "duration": 11,
    "start_time": "2023-02-14T11:05:20.551Z"
   },
   {
    "duration": 19,
    "start_time": "2023-02-14T11:05:20.564Z"
   },
   {
    "duration": 12,
    "start_time": "2023-02-14T11:05:20.585Z"
   },
   {
    "duration": 16,
    "start_time": "2023-02-14T11:05:20.598Z"
   },
   {
    "duration": 9,
    "start_time": "2023-02-14T11:05:20.615Z"
   },
   {
    "duration": 69,
    "start_time": "2023-02-14T11:05:20.625Z"
   },
   {
    "duration": 10,
    "start_time": "2023-02-14T11:05:20.695Z"
   },
   {
    "duration": 627,
    "start_time": "2023-02-14T11:05:48.240Z"
   },
   {
    "duration": 51,
    "start_time": "2023-02-14T11:05:48.869Z"
   },
   {
    "duration": 25,
    "start_time": "2023-02-14T11:05:48.922Z"
   },
   {
    "duration": 15,
    "start_time": "2023-02-14T11:05:48.949Z"
   },
   {
    "duration": 20,
    "start_time": "2023-02-14T11:05:48.966Z"
   },
   {
    "duration": 28,
    "start_time": "2023-02-14T11:05:48.988Z"
   },
   {
    "duration": 20,
    "start_time": "2023-02-14T11:05:49.017Z"
   },
   {
    "duration": 5,
    "start_time": "2023-02-14T11:05:49.039Z"
   },
   {
    "duration": 12,
    "start_time": "2023-02-14T11:05:49.046Z"
   },
   {
    "duration": 37,
    "start_time": "2023-02-14T11:05:49.060Z"
   },
   {
    "duration": 14,
    "start_time": "2023-02-14T11:05:49.098Z"
   },
   {
    "duration": 8,
    "start_time": "2023-02-14T11:05:49.114Z"
   },
   {
    "duration": 84,
    "start_time": "2023-02-14T11:05:49.124Z"
   },
   {
    "duration": 8,
    "start_time": "2023-02-14T11:05:49.211Z"
   },
   {
    "duration": 667,
    "start_time": "2023-02-14T11:08:45.893Z"
   },
   {
    "duration": 49,
    "start_time": "2023-02-14T11:08:46.562Z"
   },
   {
    "duration": 22,
    "start_time": "2023-02-14T11:08:46.613Z"
   },
   {
    "duration": 14,
    "start_time": "2023-02-14T11:08:46.636Z"
   },
   {
    "duration": 4,
    "start_time": "2023-02-14T11:08:46.652Z"
   },
   {
    "duration": 37,
    "start_time": "2023-02-14T11:08:46.657Z"
   },
   {
    "duration": 67,
    "start_time": "2023-02-14T11:08:46.696Z"
   },
   {
    "duration": 0,
    "start_time": "2023-02-14T11:08:46.765Z"
   },
   {
    "duration": 0,
    "start_time": "2023-02-14T11:08:46.766Z"
   },
   {
    "duration": 0,
    "start_time": "2023-02-14T11:08:46.768Z"
   },
   {
    "duration": 0,
    "start_time": "2023-02-14T11:08:46.769Z"
   },
   {
    "duration": 0,
    "start_time": "2023-02-14T11:08:46.770Z"
   },
   {
    "duration": 0,
    "start_time": "2023-02-14T11:08:46.771Z"
   },
   {
    "duration": 0,
    "start_time": "2023-02-14T11:08:46.773Z"
   },
   {
    "duration": 661,
    "start_time": "2023-02-14T11:09:12.969Z"
   },
   {
    "duration": 60,
    "start_time": "2023-02-14T11:09:13.631Z"
   },
   {
    "duration": 25,
    "start_time": "2023-02-14T11:09:13.693Z"
   },
   {
    "duration": 23,
    "start_time": "2023-02-14T11:09:13.721Z"
   },
   {
    "duration": 5,
    "start_time": "2023-02-14T11:09:13.746Z"
   },
   {
    "duration": 54,
    "start_time": "2023-02-14T11:09:13.753Z"
   },
   {
    "duration": 21,
    "start_time": "2023-02-14T11:09:13.809Z"
   },
   {
    "duration": 4,
    "start_time": "2023-02-14T11:09:13.832Z"
   },
   {
    "duration": 13,
    "start_time": "2023-02-14T11:09:13.838Z"
   },
   {
    "duration": 11,
    "start_time": "2023-02-14T11:09:13.853Z"
   },
   {
    "duration": 38,
    "start_time": "2023-02-14T11:09:13.866Z"
   },
   {
    "duration": 9,
    "start_time": "2023-02-14T11:09:13.906Z"
   },
   {
    "duration": 90,
    "start_time": "2023-02-14T11:09:13.917Z"
   },
   {
    "duration": 10,
    "start_time": "2023-02-14T11:09:14.010Z"
   },
   {
    "duration": 4,
    "start_time": "2023-02-14T11:13:15.688Z"
   },
   {
    "duration": 7,
    "start_time": "2023-02-14T11:16:44.198Z"
   },
   {
    "duration": 67,
    "start_time": "2023-02-14T11:17:00.196Z"
   },
   {
    "duration": 5,
    "start_time": "2023-02-14T11:17:08.281Z"
   },
   {
    "duration": 8,
    "start_time": "2023-02-14T11:17:34.555Z"
   },
   {
    "duration": 5,
    "start_time": "2023-02-14T11:50:28.406Z"
   },
   {
    "duration": 8,
    "start_time": "2023-02-14T11:55:45.774Z"
   },
   {
    "duration": 16,
    "start_time": "2023-02-14T11:56:04.967Z"
   },
   {
    "duration": 15,
    "start_time": "2023-02-14T11:56:52.132Z"
   },
   {
    "duration": 13,
    "start_time": "2023-02-14T11:58:58.770Z"
   },
   {
    "duration": 3,
    "start_time": "2023-02-14T11:59:25.198Z"
   },
   {
    "duration": 13,
    "start_time": "2023-02-14T11:59:36.412Z"
   },
   {
    "duration": 8,
    "start_time": "2023-02-14T16:03:25.020Z"
   },
   {
    "duration": 749,
    "start_time": "2023-02-14T16:03:34.350Z"
   },
   {
    "duration": 202,
    "start_time": "2023-02-14T16:03:35.101Z"
   },
   {
    "duration": 23,
    "start_time": "2023-02-14T16:03:35.304Z"
   },
   {
    "duration": 14,
    "start_time": "2023-02-14T16:03:35.329Z"
   },
   {
    "duration": 4,
    "start_time": "2023-02-14T16:03:35.345Z"
   },
   {
    "duration": 26,
    "start_time": "2023-02-14T16:03:35.350Z"
   },
   {
    "duration": 34,
    "start_time": "2023-02-14T16:03:35.378Z"
   },
   {
    "duration": 3,
    "start_time": "2023-02-14T16:03:35.414Z"
   },
   {
    "duration": 34,
    "start_time": "2023-02-14T16:03:35.419Z"
   },
   {
    "duration": 6,
    "start_time": "2023-02-14T16:03:35.455Z"
   },
   {
    "duration": 17,
    "start_time": "2023-02-14T16:03:35.462Z"
   },
   {
    "duration": 12,
    "start_time": "2023-02-14T16:03:35.480Z"
   },
   {
    "duration": 7,
    "start_time": "2023-02-14T16:03:35.493Z"
   },
   {
    "duration": 51,
    "start_time": "2023-02-14T16:03:35.502Z"
   },
   {
    "duration": 11,
    "start_time": "2023-02-14T16:03:35.555Z"
   },
   {
    "duration": 3,
    "start_time": "2023-02-14T16:03:35.567Z"
   },
   {
    "duration": 8,
    "start_time": "2023-02-14T16:04:13.401Z"
   },
   {
    "duration": 3,
    "start_time": "2023-02-14T16:07:40.746Z"
   },
   {
    "duration": 7,
    "start_time": "2023-02-14T16:07:42.079Z"
   },
   {
    "duration": 3,
    "start_time": "2023-02-14T16:08:26.184Z"
   },
   {
    "duration": 9,
    "start_time": "2023-02-14T16:08:27.618Z"
   },
   {
    "duration": 6,
    "start_time": "2023-02-14T16:11:41.874Z"
   },
   {
    "duration": 84,
    "start_time": "2023-02-14T16:16:23.329Z"
   },
   {
    "duration": 357,
    "start_time": "2023-02-14T16:16:57.264Z"
   },
   {
    "duration": 9,
    "start_time": "2023-02-14T16:19:01.778Z"
   },
   {
    "duration": 71,
    "start_time": "2023-02-14T16:23:03.726Z"
   },
   {
    "duration": 59,
    "start_time": "2023-02-14T16:23:13.020Z"
   },
   {
    "duration": 3,
    "start_time": "2023-02-14T16:27:21.296Z"
   },
   {
    "duration": 645,
    "start_time": "2023-02-14T16:27:28.575Z"
   },
   {
    "duration": 53,
    "start_time": "2023-02-14T16:27:29.221Z"
   },
   {
    "duration": 22,
    "start_time": "2023-02-14T16:27:29.276Z"
   },
   {
    "duration": 13,
    "start_time": "2023-02-14T16:27:29.300Z"
   },
   {
    "duration": 3,
    "start_time": "2023-02-14T16:27:29.315Z"
   },
   {
    "duration": 21,
    "start_time": "2023-02-14T16:27:29.319Z"
   },
   {
    "duration": 22,
    "start_time": "2023-02-14T16:27:29.342Z"
   },
   {
    "duration": 28,
    "start_time": "2023-02-14T16:27:29.366Z"
   },
   {
    "duration": 22,
    "start_time": "2023-02-14T16:27:29.395Z"
   },
   {
    "duration": 14,
    "start_time": "2023-02-14T16:27:29.419Z"
   },
   {
    "duration": 14,
    "start_time": "2023-02-14T16:27:29.434Z"
   },
   {
    "duration": 19,
    "start_time": "2023-02-14T16:27:29.450Z"
   },
   {
    "duration": 16,
    "start_time": "2023-02-14T16:27:29.471Z"
   },
   {
    "duration": 54,
    "start_time": "2023-02-14T16:27:29.489Z"
   },
   {
    "duration": 13,
    "start_time": "2023-02-14T16:27:29.544Z"
   },
   {
    "duration": 3,
    "start_time": "2023-02-14T16:27:29.558Z"
   },
   {
    "duration": 15,
    "start_time": "2023-02-14T16:27:29.562Z"
   },
   {
    "duration": 15,
    "start_time": "2023-02-14T16:27:29.578Z"
   },
   {
    "duration": 329,
    "start_time": "2023-02-14T16:27:29.594Z"
   },
   {
    "duration": 628,
    "start_time": "2023-02-14T16:28:01.815Z"
   },
   {
    "duration": 55,
    "start_time": "2023-02-14T16:28:02.445Z"
   },
   {
    "duration": 23,
    "start_time": "2023-02-14T16:28:02.501Z"
   },
   {
    "duration": 13,
    "start_time": "2023-02-14T16:28:02.526Z"
   },
   {
    "duration": 9,
    "start_time": "2023-02-14T16:28:02.541Z"
   },
   {
    "duration": 24,
    "start_time": "2023-02-14T16:28:02.551Z"
   },
   {
    "duration": 31,
    "start_time": "2023-02-14T16:28:02.577Z"
   },
   {
    "duration": 4,
    "start_time": "2023-02-14T16:28:02.609Z"
   },
   {
    "duration": 20,
    "start_time": "2023-02-14T16:28:02.614Z"
   },
   {
    "duration": 28,
    "start_time": "2023-02-14T16:28:02.636Z"
   },
   {
    "duration": 19,
    "start_time": "2023-02-14T16:28:02.666Z"
   },
   {
    "duration": 12,
    "start_time": "2023-02-14T16:28:02.686Z"
   },
   {
    "duration": 7,
    "start_time": "2023-02-14T16:28:02.699Z"
   },
   {
    "duration": 46,
    "start_time": "2023-02-14T16:28:02.708Z"
   },
   {
    "duration": 11,
    "start_time": "2023-02-14T16:28:02.756Z"
   },
   {
    "duration": 3,
    "start_time": "2023-02-14T16:28:02.791Z"
   },
   {
    "duration": 11,
    "start_time": "2023-02-14T16:28:02.796Z"
   },
   {
    "duration": 6,
    "start_time": "2023-02-14T16:28:02.808Z"
   },
   {
    "duration": 379,
    "start_time": "2023-02-14T16:28:02.816Z"
   },
   {
    "duration": 4,
    "start_time": "2023-02-14T16:40:18.122Z"
   },
   {
    "duration": 79,
    "start_time": "2023-02-14T16:40:32.638Z"
   },
   {
    "duration": 22,
    "start_time": "2023-02-14T16:40:43.621Z"
   },
   {
    "duration": 20,
    "start_time": "2023-02-14T16:41:52.036Z"
   },
   {
    "duration": 31,
    "start_time": "2023-02-14T16:42:06.578Z"
   },
   {
    "duration": 13,
    "start_time": "2023-02-14T16:45:36.196Z"
   },
   {
    "duration": 15,
    "start_time": "2023-02-14T16:46:47.347Z"
   },
   {
    "duration": 744,
    "start_time": "2023-02-15T15:03:34.532Z"
   },
   {
    "duration": 102,
    "start_time": "2023-02-15T15:03:35.278Z"
   },
   {
    "duration": 24,
    "start_time": "2023-02-15T15:03:35.381Z"
   },
   {
    "duration": 14,
    "start_time": "2023-02-15T15:03:35.407Z"
   },
   {
    "duration": 4,
    "start_time": "2023-02-15T15:03:35.422Z"
   },
   {
    "duration": 21,
    "start_time": "2023-02-15T15:03:35.427Z"
   },
   {
    "duration": 18,
    "start_time": "2023-02-15T15:03:35.450Z"
   },
   {
    "duration": 3,
    "start_time": "2023-02-15T15:03:35.469Z"
   },
   {
    "duration": 11,
    "start_time": "2023-02-15T15:03:35.473Z"
   },
   {
    "duration": 3,
    "start_time": "2023-02-15T15:03:35.487Z"
   },
   {
    "duration": 13,
    "start_time": "2023-02-15T15:03:35.491Z"
   },
   {
    "duration": 36,
    "start_time": "2023-02-15T15:03:35.505Z"
   },
   {
    "duration": 8,
    "start_time": "2023-02-15T15:03:35.543Z"
   },
   {
    "duration": 57,
    "start_time": "2023-02-15T15:03:35.552Z"
   },
   {
    "duration": 33,
    "start_time": "2023-02-15T15:03:35.611Z"
   },
   {
    "duration": 4,
    "start_time": "2023-02-15T15:03:35.645Z"
   },
   {
    "duration": 15,
    "start_time": "2023-02-15T15:03:35.650Z"
   },
   {
    "duration": 12,
    "start_time": "2023-02-15T15:03:35.668Z"
   },
   {
    "duration": 29,
    "start_time": "2023-02-15T15:03:35.682Z"
   },
   {
    "duration": 388,
    "start_time": "2023-02-15T15:03:35.713Z"
   },
   {
    "duration": 20,
    "start_time": "2023-02-15T15:03:36.103Z"
   },
   {
    "duration": 16,
    "start_time": "2023-02-15T15:04:22.962Z"
   },
   {
    "duration": 2,
    "start_time": "2023-02-15T15:06:53.899Z"
   },
   {
    "duration": 3,
    "start_time": "2023-02-15T15:07:49.711Z"
   },
   {
    "duration": 51,
    "start_time": "2023-02-15T15:12:10.928Z"
   },
   {
    "duration": 50,
    "start_time": "2023-02-15T15:13:38.252Z"
   },
   {
    "duration": 44,
    "start_time": "2023-02-15T15:14:30.403Z"
   },
   {
    "duration": 2,
    "start_time": "2023-02-15T15:14:46.679Z"
   },
   {
    "duration": 90,
    "start_time": "2023-02-15T15:14:48.692Z"
   },
   {
    "duration": 49,
    "start_time": "2023-02-15T15:17:02.276Z"
   },
   {
    "duration": 317,
    "start_time": "2023-02-15T15:17:22.828Z"
   },
   {
    "duration": 830,
    "start_time": "2023-02-15T15:17:40.197Z"
   },
   {
    "duration": 84,
    "start_time": "2023-02-15T15:19:35.545Z"
   },
   {
    "duration": 600,
    "start_time": "2023-02-15T15:21:02.195Z"
   },
   {
    "duration": 46,
    "start_time": "2023-02-15T15:21:02.797Z"
   },
   {
    "duration": 21,
    "start_time": "2023-02-15T15:21:02.844Z"
   },
   {
    "duration": 21,
    "start_time": "2023-02-15T15:21:02.867Z"
   },
   {
    "duration": 4,
    "start_time": "2023-02-15T15:21:02.889Z"
   },
   {
    "duration": 20,
    "start_time": "2023-02-15T15:21:02.894Z"
   },
   {
    "duration": 26,
    "start_time": "2023-02-15T15:21:02.916Z"
   },
   {
    "duration": 3,
    "start_time": "2023-02-15T15:21:02.944Z"
   },
   {
    "duration": 19,
    "start_time": "2023-02-15T15:21:02.949Z"
   },
   {
    "duration": 4,
    "start_time": "2023-02-15T15:21:02.971Z"
   },
   {
    "duration": 5,
    "start_time": "2023-02-15T15:21:02.976Z"
   },
   {
    "duration": 11,
    "start_time": "2023-02-15T15:21:02.983Z"
   },
   {
    "duration": 18,
    "start_time": "2023-02-15T15:21:02.996Z"
   },
   {
    "duration": 24,
    "start_time": "2023-02-15T15:21:03.015Z"
   },
   {
    "duration": 49,
    "start_time": "2023-02-15T15:21:03.041Z"
   },
   {
    "duration": 5,
    "start_time": "2023-02-15T15:21:03.091Z"
   },
   {
    "duration": 4,
    "start_time": "2023-02-15T15:21:03.097Z"
   },
   {
    "duration": 9,
    "start_time": "2023-02-15T15:21:03.102Z"
   },
   {
    "duration": 26,
    "start_time": "2023-02-15T15:21:03.112Z"
   },
   {
    "duration": 16,
    "start_time": "2023-02-15T15:21:03.139Z"
   },
   {
    "duration": 322,
    "start_time": "2023-02-15T15:21:03.157Z"
   },
   {
    "duration": 15,
    "start_time": "2023-02-15T15:21:03.480Z"
   },
   {
    "duration": 3,
    "start_time": "2023-02-15T15:21:03.497Z"
   },
   {
    "duration": 821,
    "start_time": "2023-02-15T15:21:03.502Z"
   },
   {
    "duration": 551,
    "start_time": "2023-02-15T15:23:47.176Z"
   },
   {
    "duration": 46,
    "start_time": "2023-02-15T15:23:47.729Z"
   },
   {
    "duration": 22,
    "start_time": "2023-02-15T15:23:47.777Z"
   },
   {
    "duration": 12,
    "start_time": "2023-02-15T15:23:47.801Z"
   },
   {
    "duration": 2,
    "start_time": "2023-02-15T15:23:47.815Z"
   },
   {
    "duration": 21,
    "start_time": "2023-02-15T15:23:47.818Z"
   },
   {
    "duration": 16,
    "start_time": "2023-02-15T15:23:47.841Z"
   },
   {
    "duration": 3,
    "start_time": "2023-02-15T15:23:47.859Z"
   },
   {
    "duration": 12,
    "start_time": "2023-02-15T15:23:47.863Z"
   },
   {
    "duration": 4,
    "start_time": "2023-02-15T15:23:47.877Z"
   },
   {
    "duration": 7,
    "start_time": "2023-02-15T15:23:47.882Z"
   },
   {
    "duration": 256,
    "start_time": "2023-02-15T15:23:47.891Z"
   },
   {
    "duration": 0,
    "start_time": "2023-02-15T15:23:48.149Z"
   },
   {
    "duration": 0,
    "start_time": "2023-02-15T15:23:48.150Z"
   },
   {
    "duration": 0,
    "start_time": "2023-02-15T15:23:48.151Z"
   },
   {
    "duration": 0,
    "start_time": "2023-02-15T15:23:48.152Z"
   },
   {
    "duration": 0,
    "start_time": "2023-02-15T15:23:48.153Z"
   },
   {
    "duration": 0,
    "start_time": "2023-02-15T15:23:48.154Z"
   },
   {
    "duration": 0,
    "start_time": "2023-02-15T15:23:48.155Z"
   },
   {
    "duration": 0,
    "start_time": "2023-02-15T15:23:48.156Z"
   },
   {
    "duration": 0,
    "start_time": "2023-02-15T15:23:48.157Z"
   },
   {
    "duration": 0,
    "start_time": "2023-02-15T15:23:48.158Z"
   },
   {
    "duration": 0,
    "start_time": "2023-02-15T15:23:48.158Z"
   },
   {
    "duration": 0,
    "start_time": "2023-02-15T15:23:48.159Z"
   },
   {
    "duration": 600,
    "start_time": "2023-02-15T15:24:04.704Z"
   },
   {
    "duration": 46,
    "start_time": "2023-02-15T15:24:05.306Z"
   },
   {
    "duration": 22,
    "start_time": "2023-02-15T15:24:05.354Z"
   },
   {
    "duration": 17,
    "start_time": "2023-02-15T15:24:05.378Z"
   },
   {
    "duration": 5,
    "start_time": "2023-02-15T15:24:05.396Z"
   },
   {
    "duration": 36,
    "start_time": "2023-02-15T15:24:05.402Z"
   },
   {
    "duration": 23,
    "start_time": "2023-02-15T15:24:05.440Z"
   },
   {
    "duration": 5,
    "start_time": "2023-02-15T15:24:05.465Z"
   },
   {
    "duration": 12,
    "start_time": "2023-02-15T15:24:05.472Z"
   },
   {
    "duration": 4,
    "start_time": "2023-02-15T15:24:05.487Z"
   },
   {
    "duration": 5,
    "start_time": "2023-02-15T15:24:05.492Z"
   },
   {
    "duration": 11,
    "start_time": "2023-02-15T15:24:05.499Z"
   },
   {
    "duration": 31,
    "start_time": "2023-02-15T15:24:05.511Z"
   },
   {
    "duration": 8,
    "start_time": "2023-02-15T15:24:05.543Z"
   },
   {
    "duration": 54,
    "start_time": "2023-02-15T15:24:05.552Z"
   },
   {
    "duration": 6,
    "start_time": "2023-02-15T15:24:05.609Z"
   },
   {
    "duration": 21,
    "start_time": "2023-02-15T15:24:05.617Z"
   },
   {
    "duration": 30,
    "start_time": "2023-02-15T15:24:05.640Z"
   },
   {
    "duration": 17,
    "start_time": "2023-02-15T15:24:05.672Z"
   },
   {
    "duration": 31,
    "start_time": "2023-02-15T15:24:05.691Z"
   },
   {
    "duration": 338,
    "start_time": "2023-02-15T15:24:05.723Z"
   },
   {
    "duration": 15,
    "start_time": "2023-02-15T15:24:06.063Z"
   },
   {
    "duration": 8,
    "start_time": "2023-02-15T15:24:06.079Z"
   },
   {
    "duration": 826,
    "start_time": "2023-02-15T15:24:06.088Z"
   },
   {
    "duration": 60,
    "start_time": "2023-02-15T15:37:01.881Z"
   },
   {
    "duration": 43,
    "start_time": "2023-02-15T15:38:53.031Z"
   },
   {
    "duration": 75,
    "start_time": "2023-02-15T15:39:11.824Z"
   },
   {
    "duration": 5,
    "start_time": "2023-02-15T15:39:40.049Z"
   },
   {
    "duration": 15,
    "start_time": "2023-02-15T15:41:07.793Z"
   },
   {
    "duration": 21,
    "start_time": "2023-02-15T15:41:38.707Z"
   },
   {
    "duration": 18,
    "start_time": "2023-02-15T15:42:26.879Z"
   },
   {
    "duration": 19,
    "start_time": "2023-02-15T15:43:24.878Z"
   },
   {
    "duration": 12,
    "start_time": "2023-02-15T15:43:46.290Z"
   },
   {
    "duration": 3,
    "start_time": "2023-02-15T15:47:57.975Z"
   },
   {
    "duration": 1265,
    "start_time": "2023-02-15T15:48:40.821Z"
   },
   {
    "duration": 204,
    "start_time": "2023-02-15T16:00:02.142Z"
   },
   {
    "duration": 12,
    "start_time": "2023-02-15T16:02:21.423Z"
   },
   {
    "duration": 1213,
    "start_time": "2023-02-15T16:03:07.551Z"
   },
   {
    "duration": 11,
    "start_time": "2023-02-15T16:03:25.544Z"
   },
   {
    "duration": 10,
    "start_time": "2023-02-15T16:05:40.463Z"
   },
   {
    "duration": 324,
    "start_time": "2023-02-15T16:08:25.664Z"
   },
   {
    "duration": 335,
    "start_time": "2023-02-15T16:08:45.093Z"
   },
   {
    "duration": 594,
    "start_time": "2023-02-15T16:08:58.863Z"
   },
   {
    "duration": 135,
    "start_time": "2023-02-15T16:09:22.883Z"
   },
   {
    "duration": 15,
    "start_time": "2023-02-15T16:10:42.952Z"
   },
   {
    "duration": 777,
    "start_time": "2023-02-16T05:35:24.618Z"
   },
   {
    "duration": 487,
    "start_time": "2023-02-16T05:35:25.397Z"
   },
   {
    "duration": 23,
    "start_time": "2023-02-16T05:35:25.885Z"
   },
   {
    "duration": 15,
    "start_time": "2023-02-16T05:35:25.910Z"
   },
   {
    "duration": 5,
    "start_time": "2023-02-16T05:35:25.926Z"
   },
   {
    "duration": 18,
    "start_time": "2023-02-16T05:35:25.933Z"
   },
   {
    "duration": 23,
    "start_time": "2023-02-16T05:35:25.953Z"
   },
   {
    "duration": 3,
    "start_time": "2023-02-16T05:35:25.978Z"
   },
   {
    "duration": 15,
    "start_time": "2023-02-16T05:35:25.982Z"
   },
   {
    "duration": 4,
    "start_time": "2023-02-16T05:35:26.000Z"
   },
   {
    "duration": 8,
    "start_time": "2023-02-16T05:35:26.006Z"
   },
   {
    "duration": 19,
    "start_time": "2023-02-16T05:35:26.016Z"
   },
   {
    "duration": 12,
    "start_time": "2023-02-16T05:35:26.036Z"
   },
   {
    "duration": 28,
    "start_time": "2023-02-16T05:35:26.049Z"
   },
   {
    "duration": 51,
    "start_time": "2023-02-16T05:35:26.078Z"
   },
   {
    "duration": 5,
    "start_time": "2023-02-16T05:35:26.130Z"
   },
   {
    "duration": 6,
    "start_time": "2023-02-16T05:35:26.136Z"
   },
   {
    "duration": 10,
    "start_time": "2023-02-16T05:35:26.143Z"
   },
   {
    "duration": 5,
    "start_time": "2023-02-16T05:35:26.167Z"
   },
   {
    "duration": 17,
    "start_time": "2023-02-16T05:35:26.173Z"
   },
   {
    "duration": 325,
    "start_time": "2023-02-16T05:35:26.191Z"
   },
   {
    "duration": 14,
    "start_time": "2023-02-16T05:35:26.518Z"
   },
   {
    "duration": 3,
    "start_time": "2023-02-16T05:35:26.534Z"
   },
   {
    "duration": 850,
    "start_time": "2023-02-16T05:35:26.538Z"
   },
   {
    "duration": 7,
    "start_time": "2023-02-16T05:35:27.389Z"
   },
   {
    "duration": 21,
    "start_time": "2023-02-16T05:35:27.397Z"
   },
   {
    "duration": 2,
    "start_time": "2023-02-16T05:35:27.419Z"
   },
   {
    "duration": 1176,
    "start_time": "2023-02-16T05:35:27.424Z"
   },
   {
    "duration": 77,
    "start_time": "2023-02-16T05:35:28.601Z"
   },
   {
    "duration": 178,
    "start_time": "2023-02-16T05:36:57.061Z"
   },
   {
    "duration": 117,
    "start_time": "2023-02-16T05:38:24.560Z"
   },
   {
    "duration": 7,
    "start_time": "2023-02-16T05:47:14.026Z"
   },
   {
    "duration": 1205,
    "start_time": "2023-02-16T05:47:20.367Z"
   },
   {
    "duration": 55,
    "start_time": "2023-02-16T05:47:21.574Z"
   },
   {
    "duration": 24,
    "start_time": "2023-02-16T05:47:21.631Z"
   },
   {
    "duration": 14,
    "start_time": "2023-02-16T05:47:21.656Z"
   },
   {
    "duration": 3,
    "start_time": "2023-02-16T05:47:21.672Z"
   },
   {
    "duration": 27,
    "start_time": "2023-02-16T05:47:21.676Z"
   },
   {
    "duration": 20,
    "start_time": "2023-02-16T05:47:21.705Z"
   },
   {
    "duration": 4,
    "start_time": "2023-02-16T05:47:21.727Z"
   },
   {
    "duration": 16,
    "start_time": "2023-02-16T05:47:21.733Z"
   },
   {
    "duration": 9,
    "start_time": "2023-02-16T05:47:21.767Z"
   },
   {
    "duration": 8,
    "start_time": "2023-02-16T05:47:21.777Z"
   },
   {
    "duration": 11,
    "start_time": "2023-02-16T05:47:21.787Z"
   },
   {
    "duration": 14,
    "start_time": "2023-02-16T05:47:21.800Z"
   },
   {
    "duration": 9,
    "start_time": "2023-02-16T05:47:21.818Z"
   },
   {
    "duration": 78,
    "start_time": "2023-02-16T05:47:21.829Z"
   },
   {
    "duration": 6,
    "start_time": "2023-02-16T05:47:21.909Z"
   },
   {
    "duration": 10,
    "start_time": "2023-02-16T05:47:21.917Z"
   },
   {
    "duration": 15,
    "start_time": "2023-02-16T05:47:21.929Z"
   },
   {
    "duration": 5,
    "start_time": "2023-02-16T05:47:21.946Z"
   },
   {
    "duration": 28,
    "start_time": "2023-02-16T05:47:21.953Z"
   },
   {
    "duration": 333,
    "start_time": "2023-02-16T05:47:21.983Z"
   },
   {
    "duration": 16,
    "start_time": "2023-02-16T05:47:22.318Z"
   },
   {
    "duration": 2,
    "start_time": "2023-02-16T05:47:22.336Z"
   },
   {
    "duration": 852,
    "start_time": "2023-02-16T05:47:22.339Z"
   },
   {
    "duration": 6,
    "start_time": "2023-02-16T05:47:23.192Z"
   },
   {
    "duration": 97,
    "start_time": "2023-02-16T05:47:23.200Z"
   },
   {
    "duration": 3,
    "start_time": "2023-02-16T05:47:23.298Z"
   },
   {
    "duration": 1233,
    "start_time": "2023-02-16T05:47:23.302Z"
   },
   {
    "duration": 116,
    "start_time": "2023-02-16T05:47:24.537Z"
   },
   {
    "duration": 14,
    "start_time": "2023-02-16T05:47:56.030Z"
   },
   {
    "duration": 110,
    "start_time": "2023-02-16T05:48:01.152Z"
   },
   {
    "duration": 114,
    "start_time": "2023-02-16T05:52:24.620Z"
   },
   {
    "duration": 19,
    "start_time": "2023-02-16T05:53:31.492Z"
   },
   {
    "duration": 274,
    "start_time": "2023-02-16T05:53:52.533Z"
   },
   {
    "duration": 20,
    "start_time": "2023-02-16T05:54:33.481Z"
   },
   {
    "duration": 25,
    "start_time": "2023-02-16T05:54:39.210Z"
   },
   {
    "duration": 708,
    "start_time": "2023-02-16T05:54:42.404Z"
   },
   {
    "duration": 10,
    "start_time": "2023-02-16T05:55:13.849Z"
   },
   {
    "duration": 21,
    "start_time": "2023-02-16T05:55:18.397Z"
   },
   {
    "duration": 24,
    "start_time": "2023-02-16T05:55:46.170Z"
   },
   {
    "duration": 23,
    "start_time": "2023-02-16T05:56:59.695Z"
   },
   {
    "duration": 20,
    "start_time": "2023-02-16T05:57:23.807Z"
   },
   {
    "duration": 24,
    "start_time": "2023-02-16T05:58:31.801Z"
   },
   {
    "duration": 771,
    "start_time": "2023-02-16T05:58:36.686Z"
   },
   {
    "duration": 17,
    "start_time": "2023-02-16T06:00:00.154Z"
   },
   {
    "duration": 21,
    "start_time": "2023-02-16T06:00:57.504Z"
   },
   {
    "duration": 19,
    "start_time": "2023-02-16T06:01:17.030Z"
   },
   {
    "duration": 27,
    "start_time": "2023-02-16T06:01:21.070Z"
   },
   {
    "duration": 123,
    "start_time": "2023-02-16T06:01:56.962Z"
   },
   {
    "duration": 77,
    "start_time": "2023-02-16T10:52:46.162Z"
   },
   {
    "duration": 9,
    "start_time": "2023-02-16T10:53:53.057Z"
   },
   {
    "duration": 10,
    "start_time": "2023-02-16T10:54:09.347Z"
   },
   {
    "duration": 1565,
    "start_time": "2023-02-16T10:54:15.358Z"
   },
   {
    "duration": 202,
    "start_time": "2023-02-16T10:54:16.925Z"
   },
   {
    "duration": 36,
    "start_time": "2023-02-16T10:54:17.140Z"
   },
   {
    "duration": 16,
    "start_time": "2023-02-16T10:54:17.178Z"
   },
   {
    "duration": 3,
    "start_time": "2023-02-16T10:54:17.196Z"
   },
   {
    "duration": 74,
    "start_time": "2023-02-16T10:54:17.201Z"
   },
   {
    "duration": 26,
    "start_time": "2023-02-16T10:54:17.277Z"
   },
   {
    "duration": 10,
    "start_time": "2023-02-16T10:54:17.305Z"
   },
   {
    "duration": 45,
    "start_time": "2023-02-16T10:54:17.327Z"
   },
   {
    "duration": 4,
    "start_time": "2023-02-16T10:54:17.374Z"
   },
   {
    "duration": 5,
    "start_time": "2023-02-16T10:54:17.379Z"
   },
   {
    "duration": 11,
    "start_time": "2023-02-16T10:54:17.385Z"
   },
   {
    "duration": 25,
    "start_time": "2023-02-16T10:54:17.398Z"
   },
   {
    "duration": 36,
    "start_time": "2023-02-16T10:54:17.424Z"
   },
   {
    "duration": 73,
    "start_time": "2023-02-16T10:54:17.462Z"
   },
   {
    "duration": 9,
    "start_time": "2023-02-16T10:54:17.536Z"
   },
   {
    "duration": 23,
    "start_time": "2023-02-16T10:54:17.546Z"
   },
   {
    "duration": 10,
    "start_time": "2023-02-16T10:54:17.571Z"
   },
   {
    "duration": 11,
    "start_time": "2023-02-16T10:54:17.583Z"
   },
   {
    "duration": 28,
    "start_time": "2023-02-16T10:54:17.596Z"
   },
   {
    "duration": 406,
    "start_time": "2023-02-16T10:54:17.625Z"
   },
   {
    "duration": 30,
    "start_time": "2023-02-16T10:54:18.037Z"
   },
   {
    "duration": 5,
    "start_time": "2023-02-16T10:54:18.069Z"
   },
   {
    "duration": 874,
    "start_time": "2023-02-16T10:54:18.076Z"
   },
   {
    "duration": 8,
    "start_time": "2023-02-16T10:54:18.952Z"
   },
   {
    "duration": 105,
    "start_time": "2023-02-16T10:54:18.962Z"
   },
   {
    "duration": 2,
    "start_time": "2023-02-16T10:54:19.068Z"
   },
   {
    "duration": 1400,
    "start_time": "2023-02-16T10:54:19.073Z"
   },
   {
    "duration": 318,
    "start_time": "2023-02-16T10:54:20.474Z"
   },
   {
    "duration": 271,
    "start_time": "2023-02-16T10:54:30.987Z"
   },
   {
    "duration": 309,
    "start_time": "2023-02-16T10:55:20.351Z"
   },
   {
    "duration": 57,
    "start_time": "2023-02-16T13:47:33.331Z"
   },
   {
    "duration": 7,
    "start_time": "2023-02-16T13:47:41.661Z"
   },
   {
    "duration": 1243,
    "start_time": "2023-02-16T13:47:48.283Z"
   },
   {
    "duration": 92,
    "start_time": "2023-02-16T13:47:49.528Z"
   },
   {
    "duration": 33,
    "start_time": "2023-02-16T13:47:49.622Z"
   },
   {
    "duration": 15,
    "start_time": "2023-02-16T13:47:49.657Z"
   },
   {
    "duration": 4,
    "start_time": "2023-02-16T13:47:49.673Z"
   },
   {
    "duration": 24,
    "start_time": "2023-02-16T13:47:49.679Z"
   },
   {
    "duration": 37,
    "start_time": "2023-02-16T13:47:49.705Z"
   },
   {
    "duration": 5,
    "start_time": "2023-02-16T13:47:49.743Z"
   },
   {
    "duration": 12,
    "start_time": "2023-02-16T13:47:49.749Z"
   },
   {
    "duration": 5,
    "start_time": "2023-02-16T13:47:49.763Z"
   },
   {
    "duration": 5,
    "start_time": "2023-02-16T13:47:49.769Z"
   },
   {
    "duration": 13,
    "start_time": "2023-02-16T13:47:49.776Z"
   },
   {
    "duration": 14,
    "start_time": "2023-02-16T13:47:49.791Z"
   },
   {
    "duration": 9,
    "start_time": "2023-02-16T13:47:49.837Z"
   },
   {
    "duration": 54,
    "start_time": "2023-02-16T13:47:49.848Z"
   },
   {
    "duration": 6,
    "start_time": "2023-02-16T13:47:49.904Z"
   },
   {
    "duration": 4,
    "start_time": "2023-02-16T13:47:49.937Z"
   },
   {
    "duration": 9,
    "start_time": "2023-02-16T13:47:49.943Z"
   },
   {
    "duration": 7,
    "start_time": "2023-02-16T13:47:49.954Z"
   },
   {
    "duration": 20,
    "start_time": "2023-02-16T13:47:49.963Z"
   },
   {
    "duration": 345,
    "start_time": "2023-02-16T13:47:49.985Z"
   },
   {
    "duration": 20,
    "start_time": "2023-02-16T13:47:50.332Z"
   },
   {
    "duration": 3,
    "start_time": "2023-02-16T13:47:50.354Z"
   },
   {
    "duration": 826,
    "start_time": "2023-02-16T13:47:50.358Z"
   },
   {
    "duration": 6,
    "start_time": "2023-02-16T13:47:51.186Z"
   },
   {
    "duration": 109,
    "start_time": "2023-02-16T13:47:51.193Z"
   },
   {
    "duration": 3,
    "start_time": "2023-02-16T13:47:51.304Z"
   },
   {
    "duration": 1240,
    "start_time": "2023-02-16T13:47:51.311Z"
   },
   {
    "duration": 406,
    "start_time": "2023-02-16T13:47:52.553Z"
   },
   {
    "duration": 264,
    "start_time": "2023-02-16T13:48:07.503Z"
   },
   {
    "duration": 257,
    "start_time": "2023-02-16T13:48:14.620Z"
   },
   {
    "duration": 57,
    "start_time": "2023-02-16T13:55:58.462Z"
   },
   {
    "duration": 281,
    "start_time": "2023-02-16T14:04:31.295Z"
   },
   {
    "duration": 409,
    "start_time": "2023-02-16T14:04:42.620Z"
   },
   {
    "duration": 277,
    "start_time": "2023-02-16T14:04:58.167Z"
   },
   {
    "duration": 392,
    "start_time": "2023-02-16T14:05:12.801Z"
   },
   {
    "duration": 9,
    "start_time": "2023-02-16T14:23:17.587Z"
   },
   {
    "duration": 11,
    "start_time": "2023-02-16T14:23:51.287Z"
   },
   {
    "duration": 111,
    "start_time": "2023-02-16T14:24:46.199Z"
   },
   {
    "duration": 126,
    "start_time": "2023-02-16T14:24:49.821Z"
   },
   {
    "duration": 115,
    "start_time": "2023-02-16T14:26:48.978Z"
   },
   {
    "duration": 44,
    "start_time": "2023-02-16T14:26:58.648Z"
   },
   {
    "duration": 5,
    "start_time": "2023-02-16T14:27:13.910Z"
   },
   {
    "duration": 159,
    "start_time": "2023-02-16T14:30:09.616Z"
   },
   {
    "duration": 162,
    "start_time": "2023-02-16T14:30:10.984Z"
   },
   {
    "duration": 154,
    "start_time": "2023-02-16T14:32:00.804Z"
   },
   {
    "duration": 134,
    "start_time": "2023-02-16T14:33:29.057Z"
   },
   {
    "duration": 158,
    "start_time": "2023-02-16T14:34:20.163Z"
   },
   {
    "duration": 147,
    "start_time": "2023-02-16T14:34:51.273Z"
   },
   {
    "duration": 6,
    "start_time": "2023-02-16T15:19:39.332Z"
   },
   {
    "duration": 5,
    "start_time": "2023-02-16T15:20:02.610Z"
   },
   {
    "duration": 146,
    "start_time": "2023-02-16T15:31:28.985Z"
   },
   {
    "duration": 73,
    "start_time": "2023-02-16T15:31:30.113Z"
   },
   {
    "duration": 160,
    "start_time": "2023-02-16T15:31:38.320Z"
   },
   {
    "duration": 166,
    "start_time": "2023-02-16T15:35:26.019Z"
   },
   {
    "duration": 5,
    "start_time": "2023-02-16T15:36:18.312Z"
   },
   {
    "duration": 3,
    "start_time": "2023-02-16T15:37:41.426Z"
   },
   {
    "duration": 27,
    "start_time": "2023-02-16T15:39:18.231Z"
   },
   {
    "duration": 1213,
    "start_time": "2023-02-16T15:47:25.121Z"
   },
   {
    "duration": 58,
    "start_time": "2023-02-16T15:47:26.337Z"
   },
   {
    "duration": 23,
    "start_time": "2023-02-16T15:47:26.397Z"
   },
   {
    "duration": 21,
    "start_time": "2023-02-16T15:47:26.422Z"
   },
   {
    "duration": 5,
    "start_time": "2023-02-16T15:47:26.446Z"
   },
   {
    "duration": 33,
    "start_time": "2023-02-16T15:47:26.453Z"
   },
   {
    "duration": 26,
    "start_time": "2023-02-16T15:47:26.488Z"
   },
   {
    "duration": 4,
    "start_time": "2023-02-16T15:47:26.516Z"
   },
   {
    "duration": 29,
    "start_time": "2023-02-16T15:47:26.521Z"
   },
   {
    "duration": 9,
    "start_time": "2023-02-16T15:47:26.551Z"
   },
   {
    "duration": 10,
    "start_time": "2023-02-16T15:47:26.562Z"
   },
   {
    "duration": 17,
    "start_time": "2023-02-16T15:47:26.573Z"
   },
   {
    "duration": 14,
    "start_time": "2023-02-16T15:47:26.592Z"
   },
   {
    "duration": 7,
    "start_time": "2023-02-16T15:47:26.609Z"
   },
   {
    "duration": 67,
    "start_time": "2023-02-16T15:47:26.617Z"
   },
   {
    "duration": 6,
    "start_time": "2023-02-16T15:47:26.685Z"
   },
   {
    "duration": 8,
    "start_time": "2023-02-16T15:47:26.692Z"
   },
   {
    "duration": 9,
    "start_time": "2023-02-16T15:47:26.701Z"
   },
   {
    "duration": 4,
    "start_time": "2023-02-16T15:47:26.712Z"
   },
   {
    "duration": 23,
    "start_time": "2023-02-16T15:47:26.736Z"
   },
   {
    "duration": 325,
    "start_time": "2023-02-16T15:47:26.761Z"
   },
   {
    "duration": 14,
    "start_time": "2023-02-16T15:47:27.088Z"
   },
   {
    "duration": 3,
    "start_time": "2023-02-16T15:47:27.104Z"
   },
   {
    "duration": 824,
    "start_time": "2023-02-16T15:47:27.108Z"
   },
   {
    "duration": 17,
    "start_time": "2023-02-16T15:47:27.934Z"
   },
   {
    "duration": 100,
    "start_time": "2023-02-16T15:47:27.954Z"
   },
   {
    "duration": 4,
    "start_time": "2023-02-16T15:47:28.056Z"
   },
   {
    "duration": 1251,
    "start_time": "2023-02-16T15:47:28.062Z"
   },
   {
    "duration": 392,
    "start_time": "2023-02-16T15:47:29.315Z"
   },
   {
    "duration": 6,
    "start_time": "2023-02-16T15:47:29.709Z"
   },
   {
    "duration": 158,
    "start_time": "2023-02-16T15:47:29.717Z"
   },
   {
    "duration": 141,
    "start_time": "2023-02-16T15:47:29.877Z"
   },
   {
    "duration": 150,
    "start_time": "2023-02-16T15:47:30.019Z"
   },
   {
    "duration": 157,
    "start_time": "2023-02-16T15:47:30.171Z"
   },
   {
    "duration": 13,
    "start_time": "2023-02-16T15:47:30.330Z"
   },
   {
    "duration": 26,
    "start_time": "2023-02-16T15:47:30.348Z"
   },
   {
    "duration": 37,
    "start_time": "2023-02-16T15:47:30.376Z"
   },
   {
    "duration": 61,
    "start_time": "2023-02-16T15:47:30.415Z"
   },
   {
    "duration": 162,
    "start_time": "2023-02-16T15:47:40.558Z"
   },
   {
    "duration": 169,
    "start_time": "2023-02-16T15:49:05.266Z"
   },
   {
    "duration": 1286,
    "start_time": "2023-02-16T16:04:12.884Z"
   },
   {
    "duration": 48,
    "start_time": "2023-02-16T16:04:14.177Z"
   },
   {
    "duration": 44,
    "start_time": "2023-02-16T16:04:14.227Z"
   },
   {
    "duration": 22,
    "start_time": "2023-02-16T16:04:14.273Z"
   },
   {
    "duration": 4,
    "start_time": "2023-02-16T16:04:14.297Z"
   },
   {
    "duration": 60,
    "start_time": "2023-02-16T16:04:14.304Z"
   },
   {
    "duration": 55,
    "start_time": "2023-02-16T16:04:14.367Z"
   },
   {
    "duration": 4,
    "start_time": "2023-02-16T16:04:14.424Z"
   },
   {
    "duration": 17,
    "start_time": "2023-02-16T16:04:14.429Z"
   },
   {
    "duration": 31,
    "start_time": "2023-02-16T16:04:14.454Z"
   },
   {
    "duration": 9,
    "start_time": "2023-02-16T16:04:14.487Z"
   },
   {
    "duration": 10,
    "start_time": "2023-02-16T16:04:14.498Z"
   },
   {
    "duration": 14,
    "start_time": "2023-02-16T16:04:14.510Z"
   },
   {
    "duration": 17,
    "start_time": "2023-02-16T16:04:14.526Z"
   },
   {
    "duration": 84,
    "start_time": "2023-02-16T16:04:14.545Z"
   },
   {
    "duration": 9,
    "start_time": "2023-02-16T16:04:14.632Z"
   },
   {
    "duration": 154,
    "start_time": "2023-02-16T16:04:14.642Z"
   },
   {
    "duration": 3,
    "start_time": "2023-02-16T16:04:14.798Z"
   },
   {
    "duration": 13,
    "start_time": "2023-02-16T16:04:14.803Z"
   },
   {
    "duration": 11,
    "start_time": "2023-02-16T16:04:14.818Z"
   },
   {
    "duration": 58,
    "start_time": "2023-02-16T16:04:14.831Z"
   },
   {
    "duration": 383,
    "start_time": "2023-02-16T16:04:14.891Z"
   },
   {
    "duration": 22,
    "start_time": "2023-02-16T16:04:15.276Z"
   },
   {
    "duration": 4,
    "start_time": "2023-02-16T16:04:15.300Z"
   },
   {
    "duration": 1041,
    "start_time": "2023-02-16T16:04:15.306Z"
   },
   {
    "duration": 22,
    "start_time": "2023-02-16T16:04:16.349Z"
   },
   {
    "duration": 140,
    "start_time": "2023-02-16T16:04:16.376Z"
   },
   {
    "duration": 3,
    "start_time": "2023-02-16T16:04:16.520Z"
   },
   {
    "duration": 1660,
    "start_time": "2023-02-16T16:04:16.525Z"
   },
   {
    "duration": 433,
    "start_time": "2023-02-16T16:04:18.187Z"
   },
   {
    "duration": 16,
    "start_time": "2023-02-16T16:04:18.622Z"
   },
   {
    "duration": 176,
    "start_time": "2023-02-16T16:04:18.644Z"
   },
   {
    "duration": 183,
    "start_time": "2023-02-16T16:04:18.822Z"
   },
   {
    "duration": 180,
    "start_time": "2023-02-16T16:04:19.007Z"
   },
   {
    "duration": 212,
    "start_time": "2023-02-16T16:04:19.189Z"
   },
   {
    "duration": 6,
    "start_time": "2023-02-16T16:04:19.403Z"
   },
   {
    "duration": 8,
    "start_time": "2023-02-16T16:04:19.411Z"
   },
   {
    "duration": 38,
    "start_time": "2023-02-16T16:04:19.420Z"
   },
   {
    "duration": 231,
    "start_time": "2023-02-16T16:04:19.463Z"
   },
   {
    "duration": 252,
    "start_time": "2023-02-16T16:04:19.696Z"
   },
   {
    "duration": 4,
    "start_time": "2023-02-16T16:05:33.780Z"
   },
   {
    "duration": 1263,
    "start_time": "2023-02-16T16:05:40.430Z"
   },
   {
    "duration": 58,
    "start_time": "2023-02-16T16:05:41.695Z"
   },
   {
    "duration": 29,
    "start_time": "2023-02-16T16:05:41.756Z"
   },
   {
    "duration": 15,
    "start_time": "2023-02-16T16:05:41.787Z"
   },
   {
    "duration": 4,
    "start_time": "2023-02-16T16:05:41.804Z"
   },
   {
    "duration": 45,
    "start_time": "2023-02-16T16:05:41.810Z"
   },
   {
    "duration": 38,
    "start_time": "2023-02-16T16:05:41.857Z"
   },
   {
    "duration": 4,
    "start_time": "2023-02-16T16:05:41.897Z"
   },
   {
    "duration": 14,
    "start_time": "2023-02-16T16:05:41.903Z"
   },
   {
    "duration": 4,
    "start_time": "2023-02-16T16:05:41.920Z"
   },
   {
    "duration": 5,
    "start_time": "2023-02-16T16:05:41.941Z"
   },
   {
    "duration": 26,
    "start_time": "2023-02-16T16:05:41.955Z"
   },
   {
    "duration": 16,
    "start_time": "2023-02-16T16:05:41.982Z"
   },
   {
    "duration": 8,
    "start_time": "2023-02-16T16:05:42.000Z"
   },
   {
    "duration": 84,
    "start_time": "2023-02-16T16:05:42.011Z"
   },
   {
    "duration": 6,
    "start_time": "2023-02-16T16:05:42.096Z"
   },
   {
    "duration": 121,
    "start_time": "2023-02-16T16:05:42.104Z"
   },
   {
    "duration": 18,
    "start_time": "2023-02-16T16:05:42.227Z"
   },
   {
    "duration": 9,
    "start_time": "2023-02-16T16:05:42.246Z"
   },
   {
    "duration": 27,
    "start_time": "2023-02-16T16:05:42.257Z"
   },
   {
    "duration": 16,
    "start_time": "2023-02-16T16:05:42.286Z"
   },
   {
    "duration": 421,
    "start_time": "2023-02-16T16:05:42.303Z"
   },
   {
    "duration": 40,
    "start_time": "2023-02-16T16:05:42.727Z"
   },
   {
    "duration": 7,
    "start_time": "2023-02-16T16:05:42.776Z"
   },
   {
    "duration": 1002,
    "start_time": "2023-02-16T16:05:42.785Z"
   },
   {
    "duration": 8,
    "start_time": "2023-02-16T16:05:43.788Z"
   },
   {
    "duration": 116,
    "start_time": "2023-02-16T16:05:43.797Z"
   },
   {
    "duration": 2,
    "start_time": "2023-02-16T16:05:43.917Z"
   },
   {
    "duration": 1335,
    "start_time": "2023-02-16T16:05:43.921Z"
   },
   {
    "duration": 439,
    "start_time": "2023-02-16T16:05:45.260Z"
   },
   {
    "duration": 8,
    "start_time": "2023-02-16T16:05:45.701Z"
   },
   {
    "duration": 183,
    "start_time": "2023-02-16T16:05:45.711Z"
   },
   {
    "duration": 178,
    "start_time": "2023-02-16T16:05:45.896Z"
   },
   {
    "duration": 152,
    "start_time": "2023-02-16T16:05:46.075Z"
   },
   {
    "duration": 177,
    "start_time": "2023-02-16T16:05:46.229Z"
   },
   {
    "duration": 6,
    "start_time": "2023-02-16T16:05:46.408Z"
   },
   {
    "duration": 11,
    "start_time": "2023-02-16T16:05:46.416Z"
   },
   {
    "duration": 41,
    "start_time": "2023-02-16T16:05:46.442Z"
   },
   {
    "duration": 237,
    "start_time": "2023-02-16T16:05:46.484Z"
   },
   {
    "duration": 255,
    "start_time": "2023-02-16T16:05:46.725Z"
   },
   {
    "duration": 4,
    "start_time": "2023-02-16T16:07:28.630Z"
   },
   {
    "duration": 142,
    "start_time": "2023-02-16T16:07:49.227Z"
   },
   {
    "duration": 12,
    "start_time": "2023-02-16T16:07:57.973Z"
   },
   {
    "duration": 12,
    "start_time": "2023-02-16T16:08:27.207Z"
   },
   {
    "duration": 359,
    "start_time": "2023-02-16T16:11:31.690Z"
   },
   {
    "duration": 1302,
    "start_time": "2023-02-16T16:11:37.472Z"
   },
   {
    "duration": 48,
    "start_time": "2023-02-16T16:11:38.776Z"
   },
   {
    "duration": 48,
    "start_time": "2023-02-16T16:11:38.826Z"
   },
   {
    "duration": 27,
    "start_time": "2023-02-16T16:11:38.877Z"
   },
   {
    "duration": 3,
    "start_time": "2023-02-16T16:11:38.907Z"
   },
   {
    "duration": 23,
    "start_time": "2023-02-16T16:11:38.911Z"
   },
   {
    "duration": 42,
    "start_time": "2023-02-16T16:11:38.936Z"
   },
   {
    "duration": 7,
    "start_time": "2023-02-16T16:11:38.980Z"
   },
   {
    "duration": 13,
    "start_time": "2023-02-16T16:11:38.989Z"
   },
   {
    "duration": 5,
    "start_time": "2023-02-16T16:11:39.004Z"
   },
   {
    "duration": 9,
    "start_time": "2023-02-16T16:11:39.011Z"
   },
   {
    "duration": 23,
    "start_time": "2023-02-16T16:11:39.022Z"
   },
   {
    "duration": 23,
    "start_time": "2023-02-16T16:11:39.046Z"
   },
   {
    "duration": 22,
    "start_time": "2023-02-16T16:11:39.072Z"
   },
   {
    "duration": 68,
    "start_time": "2023-02-16T16:11:39.096Z"
   },
   {
    "duration": 6,
    "start_time": "2023-02-16T16:11:39.166Z"
   },
   {
    "duration": 119,
    "start_time": "2023-02-16T16:11:39.173Z"
   },
   {
    "duration": 2,
    "start_time": "2023-02-16T16:11:39.294Z"
   },
   {
    "duration": 11,
    "start_time": "2023-02-16T16:11:39.298Z"
   },
   {
    "duration": 11,
    "start_time": "2023-02-16T16:11:39.310Z"
   },
   {
    "duration": 364,
    "start_time": "2023-02-16T16:11:39.337Z"
   },
   {
    "duration": 5,
    "start_time": "2023-02-16T16:11:39.702Z"
   },
   {
    "duration": 70,
    "start_time": "2023-02-16T16:11:39.709Z"
   },
   {
    "duration": 334,
    "start_time": "2023-02-16T16:11:39.781Z"
   },
   {
    "duration": 24,
    "start_time": "2023-02-16T16:11:40.116Z"
   },
   {
    "duration": 28,
    "start_time": "2023-02-16T16:11:40.147Z"
   },
   {
    "duration": 979,
    "start_time": "2023-02-16T16:11:40.178Z"
   },
   {
    "duration": 8,
    "start_time": "2023-02-16T16:11:41.159Z"
   },
   {
    "duration": 40,
    "start_time": "2023-02-16T16:11:41.169Z"
   },
   {
    "duration": 3,
    "start_time": "2023-02-16T16:11:41.210Z"
   },
   {
    "duration": 1404,
    "start_time": "2023-02-16T16:11:41.214Z"
   },
   {
    "duration": 595,
    "start_time": "2023-02-16T16:11:42.620Z"
   },
   {
    "duration": 6,
    "start_time": "2023-02-16T16:11:43.217Z"
   },
   {
    "duration": 195,
    "start_time": "2023-02-16T16:11:43.225Z"
   },
   {
    "duration": 159,
    "start_time": "2023-02-16T16:11:43.422Z"
   },
   {
    "duration": 166,
    "start_time": "2023-02-16T16:11:43.583Z"
   },
   {
    "duration": 154,
    "start_time": "2023-02-16T16:11:43.760Z"
   },
   {
    "duration": 5,
    "start_time": "2023-02-16T16:11:43.916Z"
   },
   {
    "duration": 8,
    "start_time": "2023-02-16T16:11:43.922Z"
   },
   {
    "duration": 30,
    "start_time": "2023-02-16T16:11:43.944Z"
   },
   {
    "duration": 194,
    "start_time": "2023-02-16T16:11:43.978Z"
   },
   {
    "duration": 184,
    "start_time": "2023-02-16T16:11:44.175Z"
   },
   {
    "duration": 383,
    "start_time": "2023-02-16T16:17:10.387Z"
   },
   {
    "duration": 1176,
    "start_time": "2023-02-16T16:19:57.889Z"
   },
   {
    "duration": 52,
    "start_time": "2023-02-16T16:19:59.073Z"
   },
   {
    "duration": 50,
    "start_time": "2023-02-16T16:19:59.127Z"
   },
   {
    "duration": 36,
    "start_time": "2023-02-16T16:19:59.183Z"
   },
   {
    "duration": 3,
    "start_time": "2023-02-16T16:19:59.221Z"
   },
   {
    "duration": 31,
    "start_time": "2023-02-16T16:19:59.226Z"
   },
   {
    "duration": 45,
    "start_time": "2023-02-16T16:19:59.259Z"
   },
   {
    "duration": 3,
    "start_time": "2023-02-16T16:19:59.306Z"
   },
   {
    "duration": 11,
    "start_time": "2023-02-16T16:19:59.311Z"
   },
   {
    "duration": 3,
    "start_time": "2023-02-16T16:19:59.324Z"
   },
   {
    "duration": 6,
    "start_time": "2023-02-16T16:19:59.328Z"
   },
   {
    "duration": 41,
    "start_time": "2023-02-16T16:19:59.335Z"
   },
   {
    "duration": 17,
    "start_time": "2023-02-16T16:19:59.381Z"
   },
   {
    "duration": 6,
    "start_time": "2023-02-16T16:19:59.401Z"
   },
   {
    "duration": 68,
    "start_time": "2023-02-16T16:19:59.409Z"
   },
   {
    "duration": 5,
    "start_time": "2023-02-16T16:19:59.479Z"
   },
   {
    "duration": 117,
    "start_time": "2023-02-16T16:19:59.486Z"
   },
   {
    "duration": 2,
    "start_time": "2023-02-16T16:19:59.605Z"
   },
   {
    "duration": 15,
    "start_time": "2023-02-16T16:19:59.608Z"
   },
   {
    "duration": 10,
    "start_time": "2023-02-16T16:19:59.625Z"
   },
   {
    "duration": 391,
    "start_time": "2023-02-16T16:19:59.639Z"
   },
   {
    "duration": 383,
    "start_time": "2023-02-16T16:20:00.032Z"
   },
   {
    "duration": 6,
    "start_time": "2023-02-16T16:20:00.416Z"
   },
   {
    "duration": 71,
    "start_time": "2023-02-16T16:20:00.423Z"
   },
   {
    "duration": 340,
    "start_time": "2023-02-16T16:20:00.495Z"
   },
   {
    "duration": 18,
    "start_time": "2023-02-16T16:20:00.843Z"
   },
   {
    "duration": 35,
    "start_time": "2023-02-16T16:20:00.863Z"
   },
   {
    "duration": 1029,
    "start_time": "2023-02-16T16:20:00.900Z"
   },
   {
    "duration": 24,
    "start_time": "2023-02-16T16:20:01.931Z"
   },
   {
    "duration": 56,
    "start_time": "2023-02-16T16:20:01.979Z"
   },
   {
    "duration": 5,
    "start_time": "2023-02-16T16:20:02.036Z"
   },
   {
    "duration": 1646,
    "start_time": "2023-02-16T16:20:02.043Z"
   },
   {
    "duration": 313,
    "start_time": "2023-02-16T16:20:03.691Z"
   },
   {
    "duration": 7,
    "start_time": "2023-02-16T16:20:04.006Z"
   },
   {
    "duration": 185,
    "start_time": "2023-02-16T16:20:04.015Z"
   },
   {
    "duration": 167,
    "start_time": "2023-02-16T16:20:04.202Z"
   },
   {
    "duration": 148,
    "start_time": "2023-02-16T16:20:04.373Z"
   },
   {
    "duration": 176,
    "start_time": "2023-02-16T16:20:04.523Z"
   },
   {
    "duration": 5,
    "start_time": "2023-02-16T16:20:04.700Z"
   },
   {
    "duration": 12,
    "start_time": "2023-02-16T16:20:04.707Z"
   },
   {
    "duration": 4,
    "start_time": "2023-02-16T16:20:04.723Z"
   },
   {
    "duration": 303,
    "start_time": "2023-02-16T16:20:04.742Z"
   },
   {
    "duration": 199,
    "start_time": "2023-02-16T16:20:05.047Z"
   },
   {
    "duration": 1154,
    "start_time": "2023-02-16T16:26:42.445Z"
   },
   {
    "duration": 59,
    "start_time": "2023-02-16T16:26:43.601Z"
   },
   {
    "duration": 26,
    "start_time": "2023-02-16T16:26:43.665Z"
   },
   {
    "duration": 17,
    "start_time": "2023-02-16T16:26:43.693Z"
   },
   {
    "duration": 3,
    "start_time": "2023-02-16T16:26:43.713Z"
   },
   {
    "duration": 42,
    "start_time": "2023-02-16T16:26:43.717Z"
   },
   {
    "duration": 32,
    "start_time": "2023-02-16T16:26:43.768Z"
   },
   {
    "duration": 4,
    "start_time": "2023-02-16T16:26:43.801Z"
   },
   {
    "duration": 13,
    "start_time": "2023-02-16T16:26:43.806Z"
   },
   {
    "duration": 6,
    "start_time": "2023-02-16T16:26:43.820Z"
   },
   {
    "duration": 49,
    "start_time": "2023-02-16T16:26:43.827Z"
   },
   {
    "duration": 12,
    "start_time": "2023-02-16T16:26:43.878Z"
   },
   {
    "duration": 12,
    "start_time": "2023-02-16T16:26:43.892Z"
   },
   {
    "duration": 8,
    "start_time": "2023-02-16T16:26:43.907Z"
   },
   {
    "duration": 62,
    "start_time": "2023-02-16T16:26:43.916Z"
   },
   {
    "duration": 7,
    "start_time": "2023-02-16T16:26:43.980Z"
   },
   {
    "duration": 133,
    "start_time": "2023-02-16T16:26:43.989Z"
   },
   {
    "duration": 115,
    "start_time": "2023-02-16T16:26:44.124Z"
   },
   {
    "duration": 17,
    "start_time": "2023-02-16T16:26:44.241Z"
   },
   {
    "duration": 30,
    "start_time": "2023-02-16T16:26:44.267Z"
   },
   {
    "duration": 11,
    "start_time": "2023-02-16T16:26:44.299Z"
   },
   {
    "duration": 351,
    "start_time": "2023-02-16T16:26:44.312Z"
   },
   {
    "duration": 356,
    "start_time": "2023-02-16T16:26:44.666Z"
   },
   {
    "duration": 5,
    "start_time": "2023-02-16T16:26:45.024Z"
   },
   {
    "duration": 68,
    "start_time": "2023-02-16T16:26:45.037Z"
   },
   {
    "duration": 374,
    "start_time": "2023-02-16T16:26:45.106Z"
   },
   {
    "duration": 17,
    "start_time": "2023-02-16T16:26:45.481Z"
   },
   {
    "duration": 3,
    "start_time": "2023-02-16T16:26:45.499Z"
   },
   {
    "duration": 1018,
    "start_time": "2023-02-16T16:26:45.503Z"
   },
   {
    "duration": 7,
    "start_time": "2023-02-16T16:26:46.523Z"
   },
   {
    "duration": 35,
    "start_time": "2023-02-16T16:26:46.540Z"
   },
   {
    "duration": 8,
    "start_time": "2023-02-16T16:26:46.577Z"
   },
   {
    "duration": 1496,
    "start_time": "2023-02-16T16:26:46.587Z"
   },
   {
    "duration": 329,
    "start_time": "2023-02-16T16:26:48.085Z"
   },
   {
    "duration": 5,
    "start_time": "2023-02-16T16:26:48.416Z"
   },
   {
    "duration": 182,
    "start_time": "2023-02-16T16:26:48.422Z"
   },
   {
    "duration": 164,
    "start_time": "2023-02-16T16:26:48.606Z"
   },
   {
    "duration": 138,
    "start_time": "2023-02-16T16:26:48.771Z"
   },
   {
    "duration": 208,
    "start_time": "2023-02-16T16:26:48.910Z"
   },
   {
    "duration": 7,
    "start_time": "2023-02-16T16:26:49.119Z"
   },
   {
    "duration": 14,
    "start_time": "2023-02-16T16:26:49.144Z"
   },
   {
    "duration": 23,
    "start_time": "2023-02-16T16:26:49.159Z"
   },
   {
    "duration": 194,
    "start_time": "2023-02-16T16:26:49.184Z"
   },
   {
    "duration": 202,
    "start_time": "2023-02-16T16:26:49.380Z"
   },
   {
    "duration": 1312,
    "start_time": "2023-02-16T16:58:34.300Z"
   },
   {
    "duration": 64,
    "start_time": "2023-02-16T16:58:35.614Z"
   },
   {
    "duration": 33,
    "start_time": "2023-02-16T16:58:35.690Z"
   },
   {
    "duration": 24,
    "start_time": "2023-02-16T16:58:35.725Z"
   },
   {
    "duration": 36,
    "start_time": "2023-02-16T16:58:35.753Z"
   },
   {
    "duration": 27,
    "start_time": "2023-02-16T16:58:35.791Z"
   },
   {
    "duration": 19,
    "start_time": "2023-02-16T16:58:35.821Z"
   },
   {
    "duration": 29,
    "start_time": "2023-02-16T16:58:35.841Z"
   },
   {
    "duration": 20,
    "start_time": "2023-02-16T16:58:35.878Z"
   },
   {
    "duration": 4,
    "start_time": "2023-02-16T16:58:35.900Z"
   },
   {
    "duration": 5,
    "start_time": "2023-02-16T16:58:35.905Z"
   },
   {
    "duration": 13,
    "start_time": "2023-02-16T16:58:35.912Z"
   },
   {
    "duration": 22,
    "start_time": "2023-02-16T16:58:35.926Z"
   },
   {
    "duration": 57,
    "start_time": "2023-02-16T16:58:35.951Z"
   },
   {
    "duration": 77,
    "start_time": "2023-02-16T16:58:36.010Z"
   },
   {
    "duration": 136,
    "start_time": "2023-02-16T16:58:36.091Z"
   },
   {
    "duration": 140,
    "start_time": "2023-02-16T16:58:36.228Z"
   },
   {
    "duration": 2,
    "start_time": "2023-02-16T16:58:36.370Z"
   },
   {
    "duration": 33,
    "start_time": "2023-02-16T16:58:36.374Z"
   },
   {
    "duration": 425,
    "start_time": "2023-02-16T16:58:36.409Z"
   },
   {
    "duration": 417,
    "start_time": "2023-02-16T16:58:36.836Z"
   },
   {
    "duration": 334,
    "start_time": "2023-02-16T16:58:37.255Z"
   },
   {
    "duration": 5,
    "start_time": "2023-02-16T16:58:37.591Z"
   },
   {
    "duration": 19,
    "start_time": "2023-02-16T16:58:37.597Z"
   },
   {
    "duration": 449,
    "start_time": "2023-02-16T16:58:37.618Z"
   },
   {
    "duration": 22,
    "start_time": "2023-02-16T16:58:38.069Z"
   },
   {
    "duration": 5,
    "start_time": "2023-02-16T16:58:38.093Z"
   },
   {
    "duration": 912,
    "start_time": "2023-02-16T16:58:38.099Z"
   },
   {
    "duration": 7,
    "start_time": "2023-02-16T16:58:39.012Z"
   },
   {
    "duration": 34,
    "start_time": "2023-02-16T16:58:39.021Z"
   },
   {
    "duration": 24,
    "start_time": "2023-02-16T16:58:39.058Z"
   },
   {
    "duration": 1462,
    "start_time": "2023-02-16T16:58:39.084Z"
   },
   {
    "duration": 333,
    "start_time": "2023-02-16T16:58:40.548Z"
   },
   {
    "duration": 6,
    "start_time": "2023-02-16T16:58:40.883Z"
   },
   {
    "duration": 201,
    "start_time": "2023-02-16T16:58:40.892Z"
   },
   {
    "duration": 157,
    "start_time": "2023-02-16T16:58:41.094Z"
   },
   {
    "duration": 192,
    "start_time": "2023-02-16T16:58:41.253Z"
   },
   {
    "duration": 170,
    "start_time": "2023-02-16T16:58:41.447Z"
   },
   {
    "duration": 4,
    "start_time": "2023-02-16T16:58:41.619Z"
   },
   {
    "duration": 6,
    "start_time": "2023-02-16T16:58:41.624Z"
   },
   {
    "duration": 7,
    "start_time": "2023-02-16T16:58:41.633Z"
   },
   {
    "duration": 211,
    "start_time": "2023-02-16T16:58:41.641Z"
   },
   {
    "duration": 213,
    "start_time": "2023-02-16T16:58:41.854Z"
   },
   {
    "duration": 7,
    "start_time": "2023-02-16T17:04:46.471Z"
   },
   {
    "duration": 1488,
    "start_time": "2023-02-16T17:04:52.334Z"
   },
   {
    "duration": 75,
    "start_time": "2023-02-16T17:04:53.824Z"
   },
   {
    "duration": 26,
    "start_time": "2023-02-16T17:04:53.901Z"
   },
   {
    "duration": 22,
    "start_time": "2023-02-16T17:04:53.929Z"
   },
   {
    "duration": 24,
    "start_time": "2023-02-16T17:04:53.959Z"
   },
   {
    "duration": 32,
    "start_time": "2023-02-16T17:04:53.984Z"
   },
   {
    "duration": 38,
    "start_time": "2023-02-16T17:04:54.018Z"
   },
   {
    "duration": 9,
    "start_time": "2023-02-16T17:04:54.059Z"
   },
   {
    "duration": 21,
    "start_time": "2023-02-16T17:04:54.073Z"
   },
   {
    "duration": 15,
    "start_time": "2023-02-16T17:04:54.097Z"
   },
   {
    "duration": 8,
    "start_time": "2023-02-16T17:04:54.114Z"
   },
   {
    "duration": 19,
    "start_time": "2023-02-16T17:04:54.124Z"
   },
   {
    "duration": 41,
    "start_time": "2023-02-16T17:04:54.145Z"
   },
   {
    "duration": 16,
    "start_time": "2023-02-16T17:04:54.188Z"
   },
   {
    "duration": 87,
    "start_time": "2023-02-16T17:04:54.206Z"
   },
   {
    "duration": 151,
    "start_time": "2023-02-16T17:04:54.294Z"
   },
   {
    "duration": 149,
    "start_time": "2023-02-16T17:04:54.448Z"
   },
   {
    "duration": 3,
    "start_time": "2023-02-16T17:04:54.600Z"
   },
   {
    "duration": 17,
    "start_time": "2023-02-16T17:04:54.605Z"
   },
   {
    "duration": 538,
    "start_time": "2023-02-16T17:04:54.624Z"
   },
   {
    "duration": 395,
    "start_time": "2023-02-16T17:04:55.164Z"
   },
   {
    "duration": 414,
    "start_time": "2023-02-16T17:04:55.561Z"
   },
   {
    "duration": 11,
    "start_time": "2023-02-16T17:04:55.980Z"
   },
   {
    "duration": 17,
    "start_time": "2023-02-16T17:04:55.996Z"
   },
   {
    "duration": 60,
    "start_time": "2023-02-16T17:04:56.016Z"
   },
   {
    "duration": 470,
    "start_time": "2023-02-16T17:04:56.081Z"
   },
   {
    "duration": 27,
    "start_time": "2023-02-16T17:04:56.553Z"
   },
   {
    "duration": 5,
    "start_time": "2023-02-16T17:04:56.583Z"
   },
   {
    "duration": 948,
    "start_time": "2023-02-16T17:04:56.590Z"
   },
   {
    "duration": 6,
    "start_time": "2023-02-16T17:04:57.544Z"
   },
   {
    "duration": 62,
    "start_time": "2023-02-16T17:04:57.552Z"
   },
   {
    "duration": 3,
    "start_time": "2023-02-16T17:04:57.615Z"
   },
   {
    "duration": 1625,
    "start_time": "2023-02-16T17:04:57.620Z"
   },
   {
    "duration": 404,
    "start_time": "2023-02-16T17:04:59.247Z"
   },
   {
    "duration": 10,
    "start_time": "2023-02-16T17:04:59.652Z"
   },
   {
    "duration": 208,
    "start_time": "2023-02-16T17:04:59.664Z"
   },
   {
    "duration": 178,
    "start_time": "2023-02-16T17:04:59.874Z"
   },
   {
    "duration": 172,
    "start_time": "2023-02-16T17:05:00.062Z"
   },
   {
    "duration": 176,
    "start_time": "2023-02-16T17:05:00.235Z"
   },
   {
    "duration": 5,
    "start_time": "2023-02-16T17:05:00.413Z"
   },
   {
    "duration": 28,
    "start_time": "2023-02-16T17:05:00.421Z"
   },
   {
    "duration": 58,
    "start_time": "2023-02-16T17:05:00.452Z"
   },
   {
    "duration": 219,
    "start_time": "2023-02-16T17:05:00.512Z"
   },
   {
    "duration": 246,
    "start_time": "2023-02-16T17:05:00.732Z"
   },
   {
    "duration": 1142,
    "start_time": "2023-02-16T17:07:24.386Z"
   },
   {
    "duration": 78,
    "start_time": "2023-02-16T17:07:25.530Z"
   },
   {
    "duration": 39,
    "start_time": "2023-02-16T17:07:25.610Z"
   },
   {
    "duration": 22,
    "start_time": "2023-02-16T17:07:25.651Z"
   },
   {
    "duration": 18,
    "start_time": "2023-02-16T17:07:25.675Z"
   },
   {
    "duration": 24,
    "start_time": "2023-02-16T17:07:25.695Z"
   },
   {
    "duration": 23,
    "start_time": "2023-02-16T17:07:25.721Z"
   },
   {
    "duration": 4,
    "start_time": "2023-02-16T17:07:25.745Z"
   },
   {
    "duration": 36,
    "start_time": "2023-02-16T17:07:25.750Z"
   },
   {
    "duration": 4,
    "start_time": "2023-02-16T17:07:25.789Z"
   },
   {
    "duration": 5,
    "start_time": "2023-02-16T17:07:25.795Z"
   },
   {
    "duration": 11,
    "start_time": "2023-02-16T17:07:25.802Z"
   },
   {
    "duration": 13,
    "start_time": "2023-02-16T17:07:25.814Z"
   },
   {
    "duration": 12,
    "start_time": "2023-02-16T17:07:25.829Z"
   },
   {
    "duration": 79,
    "start_time": "2023-02-16T17:07:25.845Z"
   },
   {
    "duration": 137,
    "start_time": "2023-02-16T17:07:25.926Z"
   },
   {
    "duration": 119,
    "start_time": "2023-02-16T17:07:26.064Z"
   },
   {
    "duration": 2,
    "start_time": "2023-02-16T17:07:26.185Z"
   },
   {
    "duration": 15,
    "start_time": "2023-02-16T17:07:26.189Z"
   },
   {
    "duration": 388,
    "start_time": "2023-02-16T17:07:26.207Z"
   },
   {
    "duration": 350,
    "start_time": "2023-02-16T17:07:26.597Z"
   },
   {
    "duration": 349,
    "start_time": "2023-02-16T17:07:26.949Z"
   },
   {
    "duration": 6,
    "start_time": "2023-02-16T17:07:27.300Z"
   },
   {
    "duration": 80,
    "start_time": "2023-02-16T17:07:27.307Z"
   },
   {
    "duration": 0,
    "start_time": "2023-02-16T17:07:27.390Z"
   },
   {
    "duration": 0,
    "start_time": "2023-02-16T17:07:27.391Z"
   },
   {
    "duration": 0,
    "start_time": "2023-02-16T17:07:27.393Z"
   },
   {
    "duration": 0,
    "start_time": "2023-02-16T17:07:27.394Z"
   },
   {
    "duration": 0,
    "start_time": "2023-02-16T17:07:27.395Z"
   },
   {
    "duration": 0,
    "start_time": "2023-02-16T17:07:27.396Z"
   },
   {
    "duration": 0,
    "start_time": "2023-02-16T17:07:27.398Z"
   },
   {
    "duration": 0,
    "start_time": "2023-02-16T17:07:27.399Z"
   },
   {
    "duration": 0,
    "start_time": "2023-02-16T17:07:27.401Z"
   },
   {
    "duration": 0,
    "start_time": "2023-02-16T17:07:27.402Z"
   },
   {
    "duration": 0,
    "start_time": "2023-02-16T17:07:27.404Z"
   },
   {
    "duration": 0,
    "start_time": "2023-02-16T17:07:27.406Z"
   },
   {
    "duration": 0,
    "start_time": "2023-02-16T17:07:27.407Z"
   },
   {
    "duration": 0,
    "start_time": "2023-02-16T17:07:27.408Z"
   },
   {
    "duration": 0,
    "start_time": "2023-02-16T17:07:27.409Z"
   },
   {
    "duration": 0,
    "start_time": "2023-02-16T17:07:27.411Z"
   },
   {
    "duration": 0,
    "start_time": "2023-02-16T17:07:27.412Z"
   },
   {
    "duration": 0,
    "start_time": "2023-02-16T17:07:27.413Z"
   },
   {
    "duration": 0,
    "start_time": "2023-02-16T17:07:27.415Z"
   },
   {
    "duration": 0,
    "start_time": "2023-02-16T17:07:27.416Z"
   },
   {
    "duration": 0,
    "start_time": "2023-02-16T17:07:27.417Z"
   },
   {
    "duration": 1223,
    "start_time": "2023-02-16T17:07:39.168Z"
   },
   {
    "duration": 59,
    "start_time": "2023-02-16T17:07:40.393Z"
   },
   {
    "duration": 26,
    "start_time": "2023-02-16T17:07:40.462Z"
   },
   {
    "duration": 14,
    "start_time": "2023-02-16T17:07:40.490Z"
   },
   {
    "duration": 9,
    "start_time": "2023-02-16T17:07:40.507Z"
   },
   {
    "duration": 37,
    "start_time": "2023-02-16T17:07:40.518Z"
   },
   {
    "duration": 34,
    "start_time": "2023-02-16T17:07:40.561Z"
   },
   {
    "duration": 3,
    "start_time": "2023-02-16T17:07:40.597Z"
   },
   {
    "duration": 13,
    "start_time": "2023-02-16T17:07:40.602Z"
   },
   {
    "duration": 7,
    "start_time": "2023-02-16T17:07:40.617Z"
   },
   {
    "duration": 7,
    "start_time": "2023-02-16T17:07:40.626Z"
   },
   {
    "duration": 43,
    "start_time": "2023-02-16T17:07:40.634Z"
   },
   {
    "duration": 20,
    "start_time": "2023-02-16T17:07:40.679Z"
   },
   {
    "duration": 7,
    "start_time": "2023-02-16T17:07:40.702Z"
   },
   {
    "duration": 67,
    "start_time": "2023-02-16T17:07:40.711Z"
   },
   {
    "duration": 115,
    "start_time": "2023-02-16T17:07:40.780Z"
   },
   {
    "duration": 125,
    "start_time": "2023-02-16T17:07:40.897Z"
   },
   {
    "duration": 2,
    "start_time": "2023-02-16T17:07:41.024Z"
   },
   {
    "duration": 23,
    "start_time": "2023-02-16T17:07:41.028Z"
   },
   {
    "duration": 389,
    "start_time": "2023-02-16T17:07:41.061Z"
   },
   {
    "duration": 346,
    "start_time": "2023-02-16T17:07:41.454Z"
   },
   {
    "duration": 351,
    "start_time": "2023-02-16T17:07:41.802Z"
   },
   {
    "duration": 4,
    "start_time": "2023-02-16T17:07:42.155Z"
   },
   {
    "duration": 22,
    "start_time": "2023-02-16T17:07:42.161Z"
   },
   {
    "duration": 11,
    "start_time": "2023-02-16T17:07:42.186Z"
   },
   {
    "duration": 20,
    "start_time": "2023-02-16T17:07:42.199Z"
   },
   {
    "duration": 494,
    "start_time": "2023-02-16T17:07:42.220Z"
   },
   {
    "duration": 31,
    "start_time": "2023-02-16T17:07:42.716Z"
   },
   {
    "duration": 10,
    "start_time": "2023-02-16T17:07:42.753Z"
   },
   {
    "duration": 939,
    "start_time": "2023-02-16T17:07:42.767Z"
   },
   {
    "duration": 6,
    "start_time": "2023-02-16T17:07:43.708Z"
   },
   {
    "duration": 51,
    "start_time": "2023-02-16T17:07:43.716Z"
   },
   {
    "duration": 8,
    "start_time": "2023-02-16T17:07:43.773Z"
   },
   {
    "duration": 1511,
    "start_time": "2023-02-16T17:07:43.783Z"
   },
   {
    "duration": 310,
    "start_time": "2023-02-16T17:07:45.296Z"
   },
   {
    "duration": 7,
    "start_time": "2023-02-16T17:07:45.609Z"
   },
   {
    "duration": 269,
    "start_time": "2023-02-16T17:07:45.618Z"
   },
   {
    "duration": 164,
    "start_time": "2023-02-16T17:07:45.889Z"
   },
   {
    "duration": 157,
    "start_time": "2023-02-16T17:07:46.056Z"
   },
   {
    "duration": 182,
    "start_time": "2023-02-16T17:07:46.214Z"
   },
   {
    "duration": 5,
    "start_time": "2023-02-16T17:07:46.401Z"
   },
   {
    "duration": 11,
    "start_time": "2023-02-16T17:07:46.408Z"
   },
   {
    "duration": 17,
    "start_time": "2023-02-16T17:07:46.422Z"
   },
   {
    "duration": 229,
    "start_time": "2023-02-16T17:07:46.441Z"
   },
   {
    "duration": 199,
    "start_time": "2023-02-16T17:07:46.672Z"
   },
   {
    "duration": 148,
    "start_time": "2023-02-16T17:11:30.977Z"
   },
   {
    "duration": 48,
    "start_time": "2023-02-17T13:03:19.746Z"
   },
   {
    "duration": 1390,
    "start_time": "2023-02-17T13:03:25.666Z"
   },
   {
    "duration": 303,
    "start_time": "2023-02-17T13:03:27.059Z"
   },
   {
    "duration": 25,
    "start_time": "2023-02-17T13:03:27.364Z"
   },
   {
    "duration": 27,
    "start_time": "2023-02-17T13:03:27.391Z"
   },
   {
    "duration": 10,
    "start_time": "2023-02-17T13:03:27.422Z"
   },
   {
    "duration": 24,
    "start_time": "2023-02-17T13:03:27.434Z"
   },
   {
    "duration": 25,
    "start_time": "2023-02-17T13:03:27.460Z"
   },
   {
    "duration": 3,
    "start_time": "2023-02-17T13:03:27.487Z"
   },
   {
    "duration": 23,
    "start_time": "2023-02-17T13:03:27.492Z"
   },
   {
    "duration": 10,
    "start_time": "2023-02-17T13:03:27.521Z"
   },
   {
    "duration": 8,
    "start_time": "2023-02-17T13:03:27.532Z"
   },
   {
    "duration": 12,
    "start_time": "2023-02-17T13:03:27.542Z"
   },
   {
    "duration": 15,
    "start_time": "2023-02-17T13:03:27.556Z"
   },
   {
    "duration": 8,
    "start_time": "2023-02-17T13:03:27.574Z"
   },
   {
    "duration": 83,
    "start_time": "2023-02-17T13:03:27.584Z"
   },
   {
    "duration": 117,
    "start_time": "2023-02-17T13:03:27.669Z"
   },
   {
    "duration": 148,
    "start_time": "2023-02-17T13:03:27.788Z"
   },
   {
    "duration": 3,
    "start_time": "2023-02-17T13:03:27.938Z"
   },
   {
    "duration": 13,
    "start_time": "2023-02-17T13:03:27.942Z"
   },
   {
    "duration": 365,
    "start_time": "2023-02-17T13:03:27.957Z"
   },
   {
    "duration": 369,
    "start_time": "2023-02-17T13:03:28.324Z"
   },
   {
    "duration": 372,
    "start_time": "2023-02-17T13:03:28.695Z"
   },
   {
    "duration": 5,
    "start_time": "2023-02-17T13:03:29.069Z"
   },
   {
    "duration": 16,
    "start_time": "2023-02-17T13:03:29.076Z"
   },
   {
    "duration": 18,
    "start_time": "2023-02-17T13:03:29.093Z"
   },
   {
    "duration": 39,
    "start_time": "2023-02-17T13:03:29.124Z"
   },
   {
    "duration": 395,
    "start_time": "2023-02-17T13:03:29.165Z"
   },
   {
    "duration": 16,
    "start_time": "2023-02-17T13:03:29.564Z"
   },
   {
    "duration": 3,
    "start_time": "2023-02-17T13:03:29.581Z"
   },
   {
    "duration": 903,
    "start_time": "2023-02-17T13:03:29.586Z"
   },
   {
    "duration": 19,
    "start_time": "2023-02-17T13:03:30.492Z"
   },
   {
    "duration": 44,
    "start_time": "2023-02-17T13:03:30.515Z"
   },
   {
    "duration": 12,
    "start_time": "2023-02-17T13:03:30.561Z"
   },
   {
    "duration": 1468,
    "start_time": "2023-02-17T13:03:30.575Z"
   },
   {
    "duration": 304,
    "start_time": "2023-02-17T13:03:32.045Z"
   },
   {
    "duration": 6,
    "start_time": "2023-02-17T13:03:32.351Z"
   },
   {
    "duration": 191,
    "start_time": "2023-02-17T13:03:32.359Z"
   },
   {
    "duration": 192,
    "start_time": "2023-02-17T13:03:32.552Z"
   },
   {
    "duration": 157,
    "start_time": "2023-02-17T13:03:32.746Z"
   },
   {
    "duration": 174,
    "start_time": "2023-02-17T13:03:32.904Z"
   },
   {
    "duration": 6,
    "start_time": "2023-02-17T13:03:33.080Z"
   },
   {
    "duration": 23,
    "start_time": "2023-02-17T13:03:33.091Z"
   },
   {
    "duration": 25,
    "start_time": "2023-02-17T13:03:33.116Z"
   },
   {
    "duration": 204,
    "start_time": "2023-02-17T13:03:33.144Z"
   },
   {
    "duration": 200,
    "start_time": "2023-02-17T13:03:33.350Z"
   },
   {
    "duration": 1701,
    "start_time": "2023-02-17T13:03:33.551Z"
   },
   {
    "duration": 606,
    "start_time": "2023-02-17T13:04:00.372Z"
   },
   {
    "duration": 574,
    "start_time": "2023-02-17T13:05:56.821Z"
   },
   {
    "duration": 547,
    "start_time": "2023-02-17T13:06:19.887Z"
   },
   {
    "duration": 16,
    "start_time": "2023-02-17T13:08:53.244Z"
   },
   {
    "duration": 19,
    "start_time": "2023-02-17T13:10:19.040Z"
   },
   {
    "duration": 23,
    "start_time": "2023-02-17T13:11:47.700Z"
   },
   {
    "duration": 24,
    "start_time": "2023-02-17T13:12:13.374Z"
   },
   {
    "duration": 21,
    "start_time": "2023-02-17T13:12:51.036Z"
   },
   {
    "duration": 21,
    "start_time": "2023-02-17T13:13:08.435Z"
   },
   {
    "duration": 26,
    "start_time": "2023-02-17T13:14:19.198Z"
   },
   {
    "duration": 27,
    "start_time": "2023-02-17T13:14:53.423Z"
   },
   {
    "duration": 39,
    "start_time": "2023-02-17T13:15:28.600Z"
   },
   {
    "duration": 31,
    "start_time": "2023-02-17T13:16:11.683Z"
   },
   {
    "duration": 41,
    "start_time": "2023-02-17T13:16:24.877Z"
   },
   {
    "duration": 466,
    "start_time": "2023-02-17T13:16:37.972Z"
   },
   {
    "duration": 671,
    "start_time": "2023-02-17T13:17:16.331Z"
   },
   {
    "duration": 29,
    "start_time": "2023-02-17T13:18:08.161Z"
   },
   {
    "duration": 34,
    "start_time": "2023-02-17T13:18:40.029Z"
   },
   {
    "duration": 17,
    "start_time": "2023-02-17T13:19:14.482Z"
   },
   {
    "duration": 24,
    "start_time": "2023-02-17T13:19:31.049Z"
   },
   {
    "duration": 25,
    "start_time": "2023-02-17T13:19:38.357Z"
   },
   {
    "duration": 23,
    "start_time": "2023-02-17T13:20:23.790Z"
   },
   {
    "duration": 3,
    "start_time": "2023-02-17T13:27:33.193Z"
   },
   {
    "duration": 117,
    "start_time": "2023-02-17T13:28:54.629Z"
   },
   {
    "duration": 11,
    "start_time": "2023-02-17T13:29:10.345Z"
   },
   {
    "duration": 113,
    "start_time": "2023-02-17T13:29:27.951Z"
   },
   {
    "duration": 15,
    "start_time": "2023-02-17T14:27:35.712Z"
   },
   {
    "duration": 19,
    "start_time": "2023-02-17T14:27:46.821Z"
   },
   {
    "duration": 104,
    "start_time": "2023-02-17T14:45:39.252Z"
   },
   {
    "duration": 101,
    "start_time": "2023-02-17T14:46:07.475Z"
   },
   {
    "duration": 1120,
    "start_time": "2023-02-17T14:46:19.482Z"
   },
   {
    "duration": 55,
    "start_time": "2023-02-17T14:46:20.604Z"
   },
   {
    "duration": 22,
    "start_time": "2023-02-17T14:46:20.661Z"
   },
   {
    "duration": 13,
    "start_time": "2023-02-17T14:46:20.685Z"
   },
   {
    "duration": 3,
    "start_time": "2023-02-17T14:46:20.699Z"
   },
   {
    "duration": 26,
    "start_time": "2023-02-17T14:46:20.704Z"
   },
   {
    "duration": 17,
    "start_time": "2023-02-17T14:46:20.732Z"
   },
   {
    "duration": 3,
    "start_time": "2023-02-17T14:46:20.751Z"
   },
   {
    "duration": 22,
    "start_time": "2023-02-17T14:46:20.755Z"
   },
   {
    "duration": 12,
    "start_time": "2023-02-17T14:46:20.780Z"
   },
   {
    "duration": 18,
    "start_time": "2023-02-17T14:46:20.793Z"
   },
   {
    "duration": 10,
    "start_time": "2023-02-17T14:46:20.813Z"
   },
   {
    "duration": 16,
    "start_time": "2023-02-17T14:46:20.824Z"
   },
   {
    "duration": 10,
    "start_time": "2023-02-17T14:46:20.842Z"
   },
   {
    "duration": 76,
    "start_time": "2023-02-17T14:46:20.854Z"
   },
   {
    "duration": 106,
    "start_time": "2023-02-17T14:46:20.931Z"
   },
   {
    "duration": 135,
    "start_time": "2023-02-17T14:46:21.039Z"
   },
   {
    "duration": 3,
    "start_time": "2023-02-17T14:46:21.176Z"
   },
   {
    "duration": 23,
    "start_time": "2023-02-17T14:46:21.181Z"
   },
   {
    "duration": 322,
    "start_time": "2023-02-17T14:46:21.207Z"
   },
   {
    "duration": 327,
    "start_time": "2023-02-17T14:46:21.531Z"
   },
   {
    "duration": 310,
    "start_time": "2023-02-17T14:46:21.860Z"
   },
   {
    "duration": 5,
    "start_time": "2023-02-17T14:46:22.171Z"
   },
   {
    "duration": 10,
    "start_time": "2023-02-17T14:46:22.178Z"
   },
   {
    "duration": 19,
    "start_time": "2023-02-17T14:46:22.190Z"
   },
   {
    "duration": 16,
    "start_time": "2023-02-17T14:46:22.210Z"
   },
   {
    "duration": 389,
    "start_time": "2023-02-17T14:46:22.227Z"
   },
   {
    "duration": 16,
    "start_time": "2023-02-17T14:46:22.619Z"
   },
   {
    "duration": 3,
    "start_time": "2023-02-17T14:46:22.636Z"
   },
   {
    "duration": 839,
    "start_time": "2023-02-17T14:46:22.640Z"
   },
   {
    "duration": 6,
    "start_time": "2023-02-17T14:46:23.480Z"
   },
   {
    "duration": 32,
    "start_time": "2023-02-17T14:46:23.488Z"
   },
   {
    "duration": 2,
    "start_time": "2023-02-17T14:46:23.521Z"
   },
   {
    "duration": 1337,
    "start_time": "2023-02-17T14:46:23.525Z"
   },
   {
    "duration": 308,
    "start_time": "2023-02-17T14:46:24.863Z"
   },
   {
    "duration": 5,
    "start_time": "2023-02-17T14:46:25.173Z"
   },
   {
    "duration": 162,
    "start_time": "2023-02-17T14:46:25.180Z"
   },
   {
    "duration": 161,
    "start_time": "2023-02-17T14:46:25.344Z"
   },
   {
    "duration": 140,
    "start_time": "2023-02-17T14:46:25.507Z"
   },
   {
    "duration": 149,
    "start_time": "2023-02-17T14:46:25.649Z"
   },
   {
    "duration": 6,
    "start_time": "2023-02-17T14:46:25.799Z"
   },
   {
    "duration": 6,
    "start_time": "2023-02-17T14:46:25.807Z"
   },
   {
    "duration": 6,
    "start_time": "2023-02-17T14:46:25.814Z"
   },
   {
    "duration": 203,
    "start_time": "2023-02-17T14:46:25.821Z"
   },
   {
    "duration": 170,
    "start_time": "2023-02-17T14:46:26.025Z"
   },
   {
    "duration": 617,
    "start_time": "2023-02-17T14:46:26.204Z"
   },
   {
    "duration": 3,
    "start_time": "2023-02-17T14:46:26.823Z"
   },
   {
    "duration": 251,
    "start_time": "2023-02-17T14:46:26.828Z"
   },
   {
    "duration": 110,
    "start_time": "2023-02-17T14:47:47.867Z"
   },
   {
    "duration": 495,
    "start_time": "2023-02-17T14:52:50.339Z"
   },
   {
    "duration": 497,
    "start_time": "2023-02-17T14:58:04.130Z"
   },
   {
    "duration": 114,
    "start_time": "2023-02-17T15:01:10.916Z"
   },
   {
    "duration": 122,
    "start_time": "2023-02-17T15:07:29.663Z"
   },
   {
    "duration": 112,
    "start_time": "2023-02-17T15:11:17.456Z"
   },
   {
    "duration": 5,
    "start_time": "2023-02-17T15:22:29.439Z"
   },
   {
    "duration": 125,
    "start_time": "2023-02-17T15:23:14.288Z"
   },
   {
    "duration": 237,
    "start_time": "2023-02-17T15:23:26.096Z"
   },
   {
    "duration": 122,
    "start_time": "2023-02-17T15:23:46.218Z"
   },
   {
    "duration": 154,
    "start_time": "2023-02-17T15:25:47.272Z"
   },
   {
    "duration": 150,
    "start_time": "2023-02-17T15:26:53.561Z"
   },
   {
    "duration": 158,
    "start_time": "2023-02-17T15:27:36.080Z"
   },
   {
    "duration": 149,
    "start_time": "2023-02-17T15:27:47.889Z"
   },
   {
    "duration": 1191,
    "start_time": "2023-02-17T15:31:22.610Z"
   },
   {
    "duration": 53,
    "start_time": "2023-02-17T15:31:23.803Z"
   },
   {
    "duration": 24,
    "start_time": "2023-02-17T15:31:23.857Z"
   },
   {
    "duration": 14,
    "start_time": "2023-02-17T15:31:23.883Z"
   },
   {
    "duration": 3,
    "start_time": "2023-02-17T15:31:23.898Z"
   },
   {
    "duration": 20,
    "start_time": "2023-02-17T15:31:23.903Z"
   },
   {
    "duration": 21,
    "start_time": "2023-02-17T15:31:23.924Z"
   },
   {
    "duration": 3,
    "start_time": "2023-02-17T15:31:23.947Z"
   },
   {
    "duration": 11,
    "start_time": "2023-02-17T15:31:23.952Z"
   },
   {
    "duration": 3,
    "start_time": "2023-02-17T15:31:23.966Z"
   },
   {
    "duration": 9,
    "start_time": "2023-02-17T15:31:23.970Z"
   },
   {
    "duration": 27,
    "start_time": "2023-02-17T15:31:23.981Z"
   },
   {
    "duration": 13,
    "start_time": "2023-02-17T15:31:24.009Z"
   },
   {
    "duration": 8,
    "start_time": "2023-02-17T15:31:24.023Z"
   },
   {
    "duration": 49,
    "start_time": "2023-02-17T15:31:24.032Z"
   },
   {
    "duration": 126,
    "start_time": "2023-02-17T15:31:24.083Z"
   },
   {
    "duration": 111,
    "start_time": "2023-02-17T15:31:24.211Z"
   },
   {
    "duration": 2,
    "start_time": "2023-02-17T15:31:24.324Z"
   },
   {
    "duration": 12,
    "start_time": "2023-02-17T15:31:24.328Z"
   },
   {
    "duration": 342,
    "start_time": "2023-02-17T15:31:24.341Z"
   },
   {
    "duration": 310,
    "start_time": "2023-02-17T15:31:24.685Z"
   },
   {
    "duration": 314,
    "start_time": "2023-02-17T15:31:24.997Z"
   },
   {
    "duration": 5,
    "start_time": "2023-02-17T15:31:25.313Z"
   },
   {
    "duration": 11,
    "start_time": "2023-02-17T15:31:25.319Z"
   },
   {
    "duration": 7,
    "start_time": "2023-02-17T15:31:25.332Z"
   },
   {
    "duration": 18,
    "start_time": "2023-02-17T15:31:25.341Z"
   },
   {
    "duration": 400,
    "start_time": "2023-02-17T15:31:25.360Z"
   },
   {
    "duration": 16,
    "start_time": "2023-02-17T15:31:25.763Z"
   },
   {
    "duration": 3,
    "start_time": "2023-02-17T15:31:25.780Z"
   },
   {
    "duration": 799,
    "start_time": "2023-02-17T15:31:25.784Z"
   },
   {
    "duration": 7,
    "start_time": "2023-02-17T15:31:26.585Z"
   },
   {
    "duration": 23,
    "start_time": "2023-02-17T15:31:26.603Z"
   },
   {
    "duration": 5,
    "start_time": "2023-02-17T15:31:26.628Z"
   },
   {
    "duration": 1350,
    "start_time": "2023-02-17T15:31:26.635Z"
   },
   {
    "duration": 274,
    "start_time": "2023-02-17T15:31:27.987Z"
   },
   {
    "duration": 6,
    "start_time": "2023-02-17T15:31:28.262Z"
   },
   {
    "duration": 155,
    "start_time": "2023-02-17T15:31:28.269Z"
   },
   {
    "duration": 149,
    "start_time": "2023-02-17T15:31:28.426Z"
   },
   {
    "duration": 142,
    "start_time": "2023-02-17T15:31:28.576Z"
   },
   {
    "duration": 153,
    "start_time": "2023-02-17T15:31:28.720Z"
   },
   {
    "duration": 3,
    "start_time": "2023-02-17T15:31:28.875Z"
   },
   {
    "duration": 7,
    "start_time": "2023-02-17T15:31:28.880Z"
   },
   {
    "duration": 126,
    "start_time": "2023-02-17T15:31:28.889Z"
   },
   {
    "duration": 163,
    "start_time": "2023-02-17T15:31:29.016Z"
   },
   {
    "duration": 80,
    "start_time": "2023-02-17T15:31:29.181Z"
   },
   {
    "duration": 0,
    "start_time": "2023-02-17T15:31:29.263Z"
   },
   {
    "duration": 0,
    "start_time": "2023-02-17T15:31:29.264Z"
   },
   {
    "duration": 0,
    "start_time": "2023-02-17T15:31:29.265Z"
   },
   {
    "duration": 0,
    "start_time": "2023-02-17T15:31:29.267Z"
   },
   {
    "duration": 0,
    "start_time": "2023-02-17T15:31:29.268Z"
   },
   {
    "duration": 0,
    "start_time": "2023-02-17T15:31:29.268Z"
   },
   {
    "duration": 0,
    "start_time": "2023-02-17T15:31:29.270Z"
   },
   {
    "duration": 0,
    "start_time": "2023-02-17T15:31:29.271Z"
   },
   {
    "duration": 0,
    "start_time": "2023-02-17T15:31:29.272Z"
   },
   {
    "duration": 0,
    "start_time": "2023-02-17T15:31:29.273Z"
   },
   {
    "duration": 0,
    "start_time": "2023-02-17T15:31:29.274Z"
   },
   {
    "duration": 0,
    "start_time": "2023-02-17T15:31:29.276Z"
   },
   {
    "duration": 0,
    "start_time": "2023-02-17T15:31:29.277Z"
   },
   {
    "duration": 1191,
    "start_time": "2023-02-17T15:32:09.412Z"
   },
   {
    "duration": 52,
    "start_time": "2023-02-17T15:32:10.605Z"
   },
   {
    "duration": 22,
    "start_time": "2023-02-17T15:32:10.658Z"
   },
   {
    "duration": 13,
    "start_time": "2023-02-17T15:32:10.682Z"
   },
   {
    "duration": 3,
    "start_time": "2023-02-17T15:32:10.696Z"
   },
   {
    "duration": 23,
    "start_time": "2023-02-17T15:32:10.701Z"
   },
   {
    "duration": 17,
    "start_time": "2023-02-17T15:32:10.726Z"
   },
   {
    "duration": 3,
    "start_time": "2023-02-17T15:32:10.745Z"
   },
   {
    "duration": 11,
    "start_time": "2023-02-17T15:32:10.750Z"
   },
   {
    "duration": 3,
    "start_time": "2023-02-17T15:32:10.764Z"
   },
   {
    "duration": 12,
    "start_time": "2023-02-17T15:32:10.768Z"
   },
   {
    "duration": 25,
    "start_time": "2023-02-17T15:32:10.781Z"
   },
   {
    "duration": 20,
    "start_time": "2023-02-17T15:32:10.808Z"
   },
   {
    "duration": 8,
    "start_time": "2023-02-17T15:32:10.829Z"
   },
   {
    "duration": 49,
    "start_time": "2023-02-17T15:32:10.839Z"
   },
   {
    "duration": 114,
    "start_time": "2023-02-17T15:32:10.904Z"
   },
   {
    "duration": 113,
    "start_time": "2023-02-17T15:32:11.020Z"
   },
   {
    "duration": 2,
    "start_time": "2023-02-17T15:32:11.135Z"
   },
   {
    "duration": 10,
    "start_time": "2023-02-17T15:32:11.139Z"
   },
   {
    "duration": 352,
    "start_time": "2023-02-17T15:32:11.151Z"
   },
   {
    "duration": 306,
    "start_time": "2023-02-17T15:32:11.505Z"
   },
   {
    "duration": 337,
    "start_time": "2023-02-17T15:32:11.813Z"
   },
   {
    "duration": 5,
    "start_time": "2023-02-17T15:32:12.152Z"
   },
   {
    "duration": 27,
    "start_time": "2023-02-17T15:32:12.159Z"
   },
   {
    "duration": 8,
    "start_time": "2023-02-17T15:32:12.188Z"
   },
   {
    "duration": 17,
    "start_time": "2023-02-17T15:32:12.197Z"
   },
   {
    "duration": 389,
    "start_time": "2023-02-17T15:32:12.215Z"
   },
   {
    "duration": 17,
    "start_time": "2023-02-17T15:32:12.607Z"
   },
   {
    "duration": 3,
    "start_time": "2023-02-17T15:32:12.626Z"
   },
   {
    "duration": 841,
    "start_time": "2023-02-17T15:32:12.631Z"
   },
   {
    "duration": 6,
    "start_time": "2023-02-17T15:32:13.474Z"
   },
   {
    "duration": 26,
    "start_time": "2023-02-17T15:32:13.481Z"
   },
   {
    "duration": 3,
    "start_time": "2023-02-17T15:32:13.508Z"
   },
   {
    "duration": 1370,
    "start_time": "2023-02-17T15:32:13.512Z"
   },
   {
    "duration": 321,
    "start_time": "2023-02-17T15:32:14.884Z"
   },
   {
    "duration": 6,
    "start_time": "2023-02-17T15:32:15.206Z"
   },
   {
    "duration": 198,
    "start_time": "2023-02-17T15:32:15.213Z"
   },
   {
    "duration": 157,
    "start_time": "2023-02-17T15:32:15.413Z"
   },
   {
    "duration": 159,
    "start_time": "2023-02-17T15:32:15.572Z"
   },
   {
    "duration": 167,
    "start_time": "2023-02-17T15:32:15.733Z"
   },
   {
    "duration": 4,
    "start_time": "2023-02-17T15:32:15.904Z"
   },
   {
    "duration": 10,
    "start_time": "2023-02-17T15:32:15.910Z"
   },
   {
    "duration": 135,
    "start_time": "2023-02-17T15:32:15.922Z"
   },
   {
    "duration": 166,
    "start_time": "2023-02-17T15:32:16.058Z"
   },
   {
    "duration": 241,
    "start_time": "2023-02-17T15:32:16.226Z"
   },
   {
    "duration": 173,
    "start_time": "2023-02-17T15:32:16.468Z"
   },
   {
    "duration": 4,
    "start_time": "2023-02-17T15:32:16.643Z"
   },
   {
    "duration": 236,
    "start_time": "2023-02-17T15:32:16.649Z"
   },
   {
    "duration": 197,
    "start_time": "2023-02-17T15:32:16.887Z"
   },
   {
    "duration": 474,
    "start_time": "2023-02-17T15:32:17.085Z"
   },
   {
    "duration": 3,
    "start_time": "2023-02-17T15:32:17.561Z"
   },
   {
    "duration": 508,
    "start_time": "2023-02-17T15:32:17.565Z"
   },
   {
    "duration": 118,
    "start_time": "2023-02-17T15:32:18.075Z"
   },
   {
    "duration": 118,
    "start_time": "2023-02-17T15:32:18.203Z"
   },
   {
    "duration": 116,
    "start_time": "2023-02-17T15:32:18.322Z"
   },
   {
    "duration": 145,
    "start_time": "2023-02-17T15:52:17.168Z"
   },
   {
    "duration": 8,
    "start_time": "2023-02-17T15:54:30.582Z"
   },
   {
    "duration": 1122,
    "start_time": "2023-02-17T15:57:36.371Z"
   },
   {
    "duration": 59,
    "start_time": "2023-02-17T15:57:37.495Z"
   },
   {
    "duration": 24,
    "start_time": "2023-02-17T15:57:37.556Z"
   },
   {
    "duration": 13,
    "start_time": "2023-02-17T15:57:37.582Z"
   },
   {
    "duration": 3,
    "start_time": "2023-02-17T15:57:37.596Z"
   },
   {
    "duration": 22,
    "start_time": "2023-02-17T15:57:37.600Z"
   },
   {
    "duration": 22,
    "start_time": "2023-02-17T15:57:37.624Z"
   },
   {
    "duration": 4,
    "start_time": "2023-02-17T15:57:37.647Z"
   },
   {
    "duration": 14,
    "start_time": "2023-02-17T15:57:37.653Z"
   },
   {
    "duration": 4,
    "start_time": "2023-02-17T15:57:37.670Z"
   },
   {
    "duration": 5,
    "start_time": "2023-02-17T15:57:37.676Z"
   },
   {
    "duration": 27,
    "start_time": "2023-02-17T15:57:37.683Z"
   },
   {
    "duration": 14,
    "start_time": "2023-02-17T15:57:37.712Z"
   },
   {
    "duration": 8,
    "start_time": "2023-02-17T15:57:37.728Z"
   },
   {
    "duration": 76,
    "start_time": "2023-02-17T15:57:37.738Z"
   },
   {
    "duration": 117,
    "start_time": "2023-02-17T15:57:37.815Z"
   },
   {
    "duration": 118,
    "start_time": "2023-02-17T15:57:37.933Z"
   },
   {
    "duration": 2,
    "start_time": "2023-02-17T15:57:38.053Z"
   },
   {
    "duration": 12,
    "start_time": "2023-02-17T15:57:38.057Z"
   },
   {
    "duration": 347,
    "start_time": "2023-02-17T15:57:38.071Z"
   },
   {
    "duration": 299,
    "start_time": "2023-02-17T15:57:38.420Z"
   },
   {
    "duration": 300,
    "start_time": "2023-02-17T15:57:38.721Z"
   },
   {
    "duration": 6,
    "start_time": "2023-02-17T15:57:39.023Z"
   },
   {
    "duration": 11,
    "start_time": "2023-02-17T15:57:39.030Z"
   },
   {
    "duration": 6,
    "start_time": "2023-02-17T15:57:39.043Z"
   },
   {
    "duration": 15,
    "start_time": "2023-02-17T15:57:39.051Z"
   },
   {
    "duration": 411,
    "start_time": "2023-02-17T15:57:39.068Z"
   },
   {
    "duration": 24,
    "start_time": "2023-02-17T15:57:39.483Z"
   },
   {
    "duration": 3,
    "start_time": "2023-02-17T15:57:39.509Z"
   },
   {
    "duration": 810,
    "start_time": "2023-02-17T15:57:39.513Z"
   },
   {
    "duration": 7,
    "start_time": "2023-02-17T15:57:40.325Z"
   },
   {
    "duration": 20,
    "start_time": "2023-02-17T15:57:40.334Z"
   },
   {
    "duration": 3,
    "start_time": "2023-02-17T15:57:40.355Z"
   },
   {
    "duration": 1350,
    "start_time": "2023-02-17T15:57:40.360Z"
   },
   {
    "duration": 282,
    "start_time": "2023-02-17T15:57:41.712Z"
   },
   {
    "duration": 9,
    "start_time": "2023-02-17T15:57:41.995Z"
   },
   {
    "duration": 153,
    "start_time": "2023-02-17T15:57:42.005Z"
   },
   {
    "duration": 145,
    "start_time": "2023-02-17T15:57:42.160Z"
   },
   {
    "duration": 139,
    "start_time": "2023-02-17T15:57:42.307Z"
   },
   {
    "duration": 143,
    "start_time": "2023-02-17T15:57:42.447Z"
   },
   {
    "duration": 14,
    "start_time": "2023-02-17T15:57:42.591Z"
   },
   {
    "duration": 9,
    "start_time": "2023-02-17T15:57:42.606Z"
   },
   {
    "duration": 131,
    "start_time": "2023-02-17T15:57:42.616Z"
   },
   {
    "duration": 169,
    "start_time": "2023-02-17T15:57:42.749Z"
   },
   {
    "duration": 234,
    "start_time": "2023-02-17T15:57:42.920Z"
   },
   {
    "duration": 158,
    "start_time": "2023-02-17T15:57:43.156Z"
   },
   {
    "duration": 4,
    "start_time": "2023-02-17T15:57:43.316Z"
   },
   {
    "duration": 170,
    "start_time": "2023-02-17T15:57:43.321Z"
   },
   {
    "duration": 170,
    "start_time": "2023-02-17T15:57:43.493Z"
   },
   {
    "duration": 439,
    "start_time": "2023-02-17T15:57:43.665Z"
   },
   {
    "duration": 3,
    "start_time": "2023-02-17T15:57:44.105Z"
   },
   {
    "duration": 487,
    "start_time": "2023-02-17T15:57:44.109Z"
   },
   {
    "duration": 112,
    "start_time": "2023-02-17T15:57:44.603Z"
   },
   {
    "duration": 125,
    "start_time": "2023-02-17T15:57:44.716Z"
   },
   {
    "duration": 116,
    "start_time": "2023-02-17T15:57:44.843Z"
   },
   {
    "duration": 9,
    "start_time": "2023-02-17T15:57:44.960Z"
   },
   {
    "duration": 9,
    "start_time": "2023-02-17T16:01:49.908Z"
   },
   {
    "duration": 10,
    "start_time": "2023-02-17T16:38:41.352Z"
   },
   {
    "duration": 101,
    "start_time": "2023-02-17T16:41:46.572Z"
   },
   {
    "duration": 1158,
    "start_time": "2023-02-17T16:42:11.055Z"
   },
   {
    "duration": 52,
    "start_time": "2023-02-17T16:42:12.215Z"
   },
   {
    "duration": 25,
    "start_time": "2023-02-17T16:42:12.269Z"
   },
   {
    "duration": 14,
    "start_time": "2023-02-17T16:42:12.296Z"
   },
   {
    "duration": 3,
    "start_time": "2023-02-17T16:42:12.311Z"
   },
   {
    "duration": 22,
    "start_time": "2023-02-17T16:42:12.316Z"
   },
   {
    "duration": 18,
    "start_time": "2023-02-17T16:42:12.340Z"
   },
   {
    "duration": 4,
    "start_time": "2023-02-17T16:42:12.359Z"
   },
   {
    "duration": 12,
    "start_time": "2023-02-17T16:42:12.364Z"
   },
   {
    "duration": 30,
    "start_time": "2023-02-17T16:42:12.378Z"
   },
   {
    "duration": 12,
    "start_time": "2023-02-17T16:42:12.409Z"
   },
   {
    "duration": 10,
    "start_time": "2023-02-17T16:42:12.423Z"
   },
   {
    "duration": 13,
    "start_time": "2023-02-17T16:42:12.434Z"
   },
   {
    "duration": 7,
    "start_time": "2023-02-17T16:42:12.449Z"
   },
   {
    "duration": 73,
    "start_time": "2023-02-17T16:42:12.458Z"
   },
   {
    "duration": 119,
    "start_time": "2023-02-17T16:42:12.533Z"
   },
   {
    "duration": 120,
    "start_time": "2023-02-17T16:42:12.654Z"
   },
   {
    "duration": 3,
    "start_time": "2023-02-17T16:42:12.776Z"
   },
   {
    "duration": 27,
    "start_time": "2023-02-17T16:42:12.780Z"
   },
   {
    "duration": 344,
    "start_time": "2023-02-17T16:42:12.808Z"
   },
   {
    "duration": 320,
    "start_time": "2023-02-17T16:42:13.153Z"
   },
   {
    "duration": 355,
    "start_time": "2023-02-17T16:42:13.475Z"
   },
   {
    "duration": 5,
    "start_time": "2023-02-17T16:42:13.832Z"
   },
   {
    "duration": 11,
    "start_time": "2023-02-17T16:42:13.839Z"
   },
   {
    "duration": 5,
    "start_time": "2023-02-17T16:42:13.852Z"
   },
   {
    "duration": 21,
    "start_time": "2023-02-17T16:42:13.858Z"
   },
   {
    "duration": 409,
    "start_time": "2023-02-17T16:42:13.880Z"
   },
   {
    "duration": 16,
    "start_time": "2023-02-17T16:42:14.293Z"
   },
   {
    "duration": 3,
    "start_time": "2023-02-17T16:42:14.311Z"
   },
   {
    "duration": 890,
    "start_time": "2023-02-17T16:42:14.316Z"
   },
   {
    "duration": 7,
    "start_time": "2023-02-17T16:42:15.208Z"
   },
   {
    "duration": 22,
    "start_time": "2023-02-17T16:42:15.217Z"
   },
   {
    "duration": 3,
    "start_time": "2023-02-17T16:42:15.241Z"
   },
   {
    "duration": 1412,
    "start_time": "2023-02-17T16:42:15.246Z"
   },
   {
    "duration": 305,
    "start_time": "2023-02-17T16:42:16.659Z"
   },
   {
    "duration": 6,
    "start_time": "2023-02-17T16:42:16.966Z"
   },
   {
    "duration": 176,
    "start_time": "2023-02-17T16:42:16.974Z"
   },
   {
    "duration": 160,
    "start_time": "2023-02-17T16:42:17.151Z"
   },
   {
    "duration": 197,
    "start_time": "2023-02-17T16:42:17.313Z"
   },
   {
    "duration": 157,
    "start_time": "2023-02-17T16:42:17.512Z"
   },
   {
    "duration": 4,
    "start_time": "2023-02-17T16:42:17.671Z"
   },
   {
    "duration": 7,
    "start_time": "2023-02-17T16:42:17.677Z"
   },
   {
    "duration": 129,
    "start_time": "2023-02-17T16:42:17.703Z"
   },
   {
    "duration": 159,
    "start_time": "2023-02-17T16:42:17.834Z"
   },
   {
    "duration": 231,
    "start_time": "2023-02-17T16:42:17.995Z"
   },
   {
    "duration": 158,
    "start_time": "2023-02-17T16:42:18.228Z"
   },
   {
    "duration": 17,
    "start_time": "2023-02-17T16:42:18.388Z"
   },
   {
    "duration": 180,
    "start_time": "2023-02-17T16:42:18.407Z"
   },
   {
    "duration": 187,
    "start_time": "2023-02-17T16:42:18.589Z"
   },
   {
    "duration": 498,
    "start_time": "2023-02-17T16:42:18.778Z"
   },
   {
    "duration": 3,
    "start_time": "2023-02-17T16:42:19.279Z"
   },
   {
    "duration": 512,
    "start_time": "2023-02-17T16:42:19.284Z"
   },
   {
    "duration": 116,
    "start_time": "2023-02-17T16:42:19.798Z"
   },
   {
    "duration": 143,
    "start_time": "2023-02-17T16:42:19.915Z"
   },
   {
    "duration": 113,
    "start_time": "2023-02-17T16:42:20.060Z"
   },
   {
    "duration": 11,
    "start_time": "2023-02-17T16:42:20.175Z"
   },
   {
    "duration": 12,
    "start_time": "2023-02-17T16:42:20.205Z"
   },
   {
    "duration": 47,
    "start_time": "2023-02-18T11:25:56.505Z"
   },
   {
    "duration": 1318,
    "start_time": "2023-02-18T11:26:00.970Z"
   },
   {
    "duration": 206,
    "start_time": "2023-02-18T11:26:02.290Z"
   },
   {
    "duration": 25,
    "start_time": "2023-02-18T11:26:02.497Z"
   },
   {
    "duration": 15,
    "start_time": "2023-02-18T11:26:02.524Z"
   },
   {
    "duration": 4,
    "start_time": "2023-02-18T11:26:02.540Z"
   },
   {
    "duration": 26,
    "start_time": "2023-02-18T11:26:02.545Z"
   },
   {
    "duration": 16,
    "start_time": "2023-02-18T11:26:02.573Z"
   },
   {
    "duration": 3,
    "start_time": "2023-02-18T11:26:02.591Z"
   },
   {
    "duration": 14,
    "start_time": "2023-02-18T11:26:02.622Z"
   },
   {
    "duration": 5,
    "start_time": "2023-02-18T11:26:02.640Z"
   },
   {
    "duration": 9,
    "start_time": "2023-02-18T11:26:02.647Z"
   },
   {
    "duration": 10,
    "start_time": "2023-02-18T11:26:02.657Z"
   },
   {
    "duration": 14,
    "start_time": "2023-02-18T11:26:02.669Z"
   },
   {
    "duration": 39,
    "start_time": "2023-02-18T11:26:02.685Z"
   },
   {
    "duration": 54,
    "start_time": "2023-02-18T11:26:02.726Z"
   },
   {
    "duration": 123,
    "start_time": "2023-02-18T11:26:02.782Z"
   },
   {
    "duration": 116,
    "start_time": "2023-02-18T11:26:02.906Z"
   },
   {
    "duration": 8,
    "start_time": "2023-02-18T11:26:03.024Z"
   },
   {
    "duration": 352,
    "start_time": "2023-02-18T11:26:03.033Z"
   },
   {
    "duration": 346,
    "start_time": "2023-02-18T11:26:03.387Z"
   },
   {
    "duration": 356,
    "start_time": "2023-02-18T11:26:03.735Z"
   },
   {
    "duration": 4,
    "start_time": "2023-02-18T11:26:04.094Z"
   },
   {
    "duration": 22,
    "start_time": "2023-02-18T11:26:04.100Z"
   },
   {
    "duration": 7,
    "start_time": "2023-02-18T11:26:04.123Z"
   },
   {
    "duration": 19,
    "start_time": "2023-02-18T11:26:04.131Z"
   },
   {
    "duration": 484,
    "start_time": "2023-02-18T11:26:04.151Z"
   },
   {
    "duration": 23,
    "start_time": "2023-02-18T11:26:04.638Z"
   },
   {
    "duration": 33,
    "start_time": "2023-02-18T11:26:04.665Z"
   },
   {
    "duration": 951,
    "start_time": "2023-02-18T11:26:04.701Z"
   },
   {
    "duration": 8,
    "start_time": "2023-02-18T11:26:05.654Z"
   },
   {
    "duration": 28,
    "start_time": "2023-02-18T11:26:05.664Z"
   },
   {
    "duration": 3,
    "start_time": "2023-02-18T11:26:05.693Z"
   },
   {
    "duration": 1399,
    "start_time": "2023-02-18T11:26:05.698Z"
   },
   {
    "duration": 294,
    "start_time": "2023-02-18T11:26:07.099Z"
   },
   {
    "duration": 6,
    "start_time": "2023-02-18T11:26:07.395Z"
   },
   {
    "duration": 157,
    "start_time": "2023-02-18T11:26:07.403Z"
   },
   {
    "duration": 183,
    "start_time": "2023-02-18T11:26:07.562Z"
   },
   {
    "duration": 149,
    "start_time": "2023-02-18T11:26:07.747Z"
   },
   {
    "duration": 163,
    "start_time": "2023-02-18T11:26:07.898Z"
   },
   {
    "duration": 5,
    "start_time": "2023-02-18T11:26:08.063Z"
   },
   {
    "duration": 6,
    "start_time": "2023-02-18T11:26:08.070Z"
   },
   {
    "duration": 136,
    "start_time": "2023-02-18T11:26:08.078Z"
   },
   {
    "duration": 169,
    "start_time": "2023-02-18T11:26:08.221Z"
   },
   {
    "duration": 248,
    "start_time": "2023-02-18T11:26:08.392Z"
   },
   {
    "duration": 162,
    "start_time": "2023-02-18T11:26:08.642Z"
   },
   {
    "duration": 14,
    "start_time": "2023-02-18T11:26:08.806Z"
   },
   {
    "duration": 185,
    "start_time": "2023-02-18T11:26:08.822Z"
   },
   {
    "duration": 187,
    "start_time": "2023-02-18T11:26:09.010Z"
   },
   {
    "duration": 466,
    "start_time": "2023-02-18T11:26:09.199Z"
   },
   {
    "duration": 3,
    "start_time": "2023-02-18T11:26:09.666Z"
   },
   {
    "duration": 513,
    "start_time": "2023-02-18T11:26:09.671Z"
   },
   {
    "duration": 126,
    "start_time": "2023-02-18T11:26:10.186Z"
   },
   {
    "duration": 126,
    "start_time": "2023-02-18T11:26:10.321Z"
   },
   {
    "duration": 132,
    "start_time": "2023-02-18T11:26:10.449Z"
   },
   {
    "duration": 12,
    "start_time": "2023-02-18T11:26:10.584Z"
   },
   {
    "duration": 24,
    "start_time": "2023-02-18T11:26:10.598Z"
   },
   {
    "duration": 72,
    "start_time": "2023-02-18T11:30:50.830Z"
   },
   {
    "duration": 87,
    "start_time": "2023-02-18T11:32:27.559Z"
   },
   {
    "duration": 7,
    "start_time": "2023-02-18T11:33:10.627Z"
   },
   {
    "duration": 1157,
    "start_time": "2023-02-18T11:33:38.567Z"
   },
   {
    "duration": 53,
    "start_time": "2023-02-18T11:33:39.726Z"
   },
   {
    "duration": 22,
    "start_time": "2023-02-18T11:33:39.780Z"
   },
   {
    "duration": 17,
    "start_time": "2023-02-18T11:33:39.804Z"
   },
   {
    "duration": 3,
    "start_time": "2023-02-18T11:33:39.822Z"
   },
   {
    "duration": 33,
    "start_time": "2023-02-18T11:33:39.827Z"
   },
   {
    "duration": 27,
    "start_time": "2023-02-18T11:33:39.862Z"
   },
   {
    "duration": 7,
    "start_time": "2023-02-18T11:33:39.890Z"
   },
   {
    "duration": 11,
    "start_time": "2023-02-18T11:33:39.899Z"
   },
   {
    "duration": 24,
    "start_time": "2023-02-18T11:33:39.913Z"
   },
   {
    "duration": 5,
    "start_time": "2023-02-18T11:33:39.939Z"
   },
   {
    "duration": 5,
    "start_time": "2023-02-18T11:33:39.945Z"
   },
   {
    "duration": 11,
    "start_time": "2023-02-18T11:33:39.952Z"
   },
   {
    "duration": 15,
    "start_time": "2023-02-18T11:33:39.964Z"
   },
   {
    "duration": 10,
    "start_time": "2023-02-18T11:33:39.980Z"
   },
   {
    "duration": 80,
    "start_time": "2023-02-18T11:33:39.992Z"
   },
   {
    "duration": 116,
    "start_time": "2023-02-18T11:33:40.074Z"
   },
   {
    "duration": 111,
    "start_time": "2023-02-18T11:33:40.191Z"
   },
   {
    "duration": 21,
    "start_time": "2023-02-18T11:33:40.304Z"
   },
   {
    "duration": 337,
    "start_time": "2023-02-18T11:33:40.327Z"
   },
   {
    "duration": 322,
    "start_time": "2023-02-18T11:33:40.666Z"
   },
   {
    "duration": 316,
    "start_time": "2023-02-18T11:33:40.990Z"
   },
   {
    "duration": 5,
    "start_time": "2023-02-18T11:33:41.308Z"
   },
   {
    "duration": 9,
    "start_time": "2023-02-18T11:33:41.321Z"
   },
   {
    "duration": 5,
    "start_time": "2023-02-18T11:33:41.332Z"
   },
   {
    "duration": 15,
    "start_time": "2023-02-18T11:33:41.340Z"
   },
   {
    "duration": 412,
    "start_time": "2023-02-18T11:33:41.357Z"
   },
   {
    "duration": 15,
    "start_time": "2023-02-18T11:33:41.772Z"
   },
   {
    "duration": 3,
    "start_time": "2023-02-18T11:33:41.788Z"
   },
   {
    "duration": 843,
    "start_time": "2023-02-18T11:33:41.792Z"
   },
   {
    "duration": 7,
    "start_time": "2023-02-18T11:33:42.637Z"
   },
   {
    "duration": 23,
    "start_time": "2023-02-18T11:33:42.645Z"
   },
   {
    "duration": 3,
    "start_time": "2023-02-18T11:33:42.670Z"
   },
   {
    "duration": 1371,
    "start_time": "2023-02-18T11:33:42.675Z"
   },
   {
    "duration": 279,
    "start_time": "2023-02-18T11:33:44.048Z"
   },
   {
    "duration": 6,
    "start_time": "2023-02-18T11:33:44.328Z"
   },
   {
    "duration": 198,
    "start_time": "2023-02-18T11:33:44.336Z"
   },
   {
    "duration": 187,
    "start_time": "2023-02-18T11:33:44.536Z"
   },
   {
    "duration": 145,
    "start_time": "2023-02-18T11:33:44.724Z"
   },
   {
    "duration": 159,
    "start_time": "2023-02-18T11:33:44.870Z"
   },
   {
    "duration": 5,
    "start_time": "2023-02-18T11:33:45.031Z"
   },
   {
    "duration": 15,
    "start_time": "2023-02-18T11:33:45.037Z"
   },
   {
    "duration": 147,
    "start_time": "2023-02-18T11:33:45.054Z"
   },
   {
    "duration": 159,
    "start_time": "2023-02-18T11:33:45.202Z"
   },
   {
    "duration": 270,
    "start_time": "2023-02-18T11:33:45.363Z"
   },
   {
    "duration": 170,
    "start_time": "2023-02-18T11:33:45.635Z"
   },
   {
    "duration": 5,
    "start_time": "2023-02-18T11:33:45.806Z"
   },
   {
    "duration": 181,
    "start_time": "2023-02-18T11:33:45.822Z"
   },
   {
    "duration": 182,
    "start_time": "2023-02-18T11:33:46.005Z"
   },
   {
    "duration": 526,
    "start_time": "2023-02-18T11:33:46.189Z"
   },
   {
    "duration": 2,
    "start_time": "2023-02-18T11:33:46.720Z"
   },
   {
    "duration": 499,
    "start_time": "2023-02-18T11:33:46.724Z"
   },
   {
    "duration": 117,
    "start_time": "2023-02-18T11:33:47.224Z"
   },
   {
    "duration": 123,
    "start_time": "2023-02-18T11:33:47.343Z"
   },
   {
    "duration": 122,
    "start_time": "2023-02-18T11:33:47.468Z"
   },
   {
    "duration": 9,
    "start_time": "2023-02-18T11:33:47.592Z"
   },
   {
    "duration": 26,
    "start_time": "2023-02-18T11:33:47.603Z"
   },
   {
    "duration": 1177,
    "start_time": "2023-02-18T11:35:55.762Z"
   },
   {
    "duration": 55,
    "start_time": "2023-02-18T11:35:56.941Z"
   },
   {
    "duration": 24,
    "start_time": "2023-02-18T11:35:56.998Z"
   },
   {
    "duration": 15,
    "start_time": "2023-02-18T11:35:57.025Z"
   },
   {
    "duration": 4,
    "start_time": "2023-02-18T11:35:57.041Z"
   },
   {
    "duration": 37,
    "start_time": "2023-02-18T11:35:57.046Z"
   },
   {
    "duration": 29,
    "start_time": "2023-02-18T11:35:57.084Z"
   },
   {
    "duration": 15,
    "start_time": "2023-02-18T11:35:57.115Z"
   },
   {
    "duration": 16,
    "start_time": "2023-02-18T11:35:57.131Z"
   },
   {
    "duration": 4,
    "start_time": "2023-02-18T11:35:57.150Z"
   },
   {
    "duration": 20,
    "start_time": "2023-02-18T11:35:57.155Z"
   },
   {
    "duration": 13,
    "start_time": "2023-02-18T11:35:57.177Z"
   },
   {
    "duration": 15,
    "start_time": "2023-02-18T11:35:57.192Z"
   },
   {
    "duration": 76,
    "start_time": "2023-02-18T11:35:57.209Z"
   },
   {
    "duration": 112,
    "start_time": "2023-02-18T11:35:57.286Z"
   },
   {
    "duration": 129,
    "start_time": "2023-02-18T11:35:57.400Z"
   },
   {
    "duration": 7,
    "start_time": "2023-02-18T11:35:57.531Z"
   },
   {
    "duration": 363,
    "start_time": "2023-02-18T11:35:57.540Z"
   },
   {
    "duration": 317,
    "start_time": "2023-02-18T11:35:57.904Z"
   },
   {
    "duration": 331,
    "start_time": "2023-02-18T11:35:58.222Z"
   },
   {
    "duration": 5,
    "start_time": "2023-02-18T11:35:58.555Z"
   },
   {
    "duration": 21,
    "start_time": "2023-02-18T11:35:58.562Z"
   },
   {
    "duration": 11,
    "start_time": "2023-02-18T11:35:58.585Z"
   },
   {
    "duration": 15,
    "start_time": "2023-02-18T11:35:58.597Z"
   },
   {
    "duration": 407,
    "start_time": "2023-02-18T11:35:58.620Z"
   },
   {
    "duration": 16,
    "start_time": "2023-02-18T11:35:59.029Z"
   },
   {
    "duration": 16,
    "start_time": "2023-02-18T11:35:59.047Z"
   },
   {
    "duration": 857,
    "start_time": "2023-02-18T11:35:59.067Z"
   },
   {
    "duration": 6,
    "start_time": "2023-02-18T11:35:59.926Z"
   },
   {
    "duration": 25,
    "start_time": "2023-02-18T11:35:59.934Z"
   },
   {
    "duration": 3,
    "start_time": "2023-02-18T11:35:59.961Z"
   },
   {
    "duration": 1413,
    "start_time": "2023-02-18T11:35:59.965Z"
   },
   {
    "duration": 297,
    "start_time": "2023-02-18T11:36:01.380Z"
   },
   {
    "duration": 5,
    "start_time": "2023-02-18T11:36:01.679Z"
   },
   {
    "duration": 165,
    "start_time": "2023-02-18T11:36:01.686Z"
   },
   {
    "duration": 151,
    "start_time": "2023-02-18T11:36:01.853Z"
   },
   {
    "duration": 157,
    "start_time": "2023-02-18T11:36:02.006Z"
   },
   {
    "duration": 157,
    "start_time": "2023-02-18T11:36:02.164Z"
   },
   {
    "duration": 5,
    "start_time": "2023-02-18T11:36:02.323Z"
   },
   {
    "duration": 16,
    "start_time": "2023-02-18T11:36:02.330Z"
   },
   {
    "duration": 142,
    "start_time": "2023-02-18T11:36:02.348Z"
   },
   {
    "duration": 165,
    "start_time": "2023-02-18T11:36:02.493Z"
   },
   {
    "duration": 251,
    "start_time": "2023-02-18T11:36:02.660Z"
   },
   {
    "duration": 162,
    "start_time": "2023-02-18T11:36:02.912Z"
   },
   {
    "duration": 10,
    "start_time": "2023-02-18T11:36:03.077Z"
   },
   {
    "duration": 183,
    "start_time": "2023-02-18T11:36:03.089Z"
   },
   {
    "duration": 188,
    "start_time": "2023-02-18T11:36:03.274Z"
   },
   {
    "duration": 512,
    "start_time": "2023-02-18T11:36:03.464Z"
   },
   {
    "duration": 4,
    "start_time": "2023-02-18T11:36:03.978Z"
   },
   {
    "duration": 613,
    "start_time": "2023-02-18T11:36:03.984Z"
   },
   {
    "duration": 154,
    "start_time": "2023-02-18T11:36:04.600Z"
   },
   {
    "duration": 152,
    "start_time": "2023-02-18T11:36:04.756Z"
   },
   {
    "duration": 137,
    "start_time": "2023-02-18T11:36:04.909Z"
   },
   {
    "duration": 12,
    "start_time": "2023-02-18T11:36:05.048Z"
   },
   {
    "duration": 28,
    "start_time": "2023-02-18T11:36:05.062Z"
   },
   {
    "duration": 6,
    "start_time": "2023-02-18T11:37:49.781Z"
   },
   {
    "duration": 99,
    "start_time": "2023-02-18T11:39:14.029Z"
   },
   {
    "duration": 13,
    "start_time": "2023-02-18T11:39:53.000Z"
   },
   {
    "duration": 4,
    "start_time": "2023-02-18T11:40:01.138Z"
   },
   {
    "duration": 1143,
    "start_time": "2023-02-18T11:40:07.978Z"
   },
   {
    "duration": 52,
    "start_time": "2023-02-18T11:40:09.122Z"
   },
   {
    "duration": 21,
    "start_time": "2023-02-18T11:40:09.176Z"
   },
   {
    "duration": 17,
    "start_time": "2023-02-18T11:40:09.199Z"
   },
   {
    "duration": 2,
    "start_time": "2023-02-18T11:40:09.218Z"
   },
   {
    "duration": 22,
    "start_time": "2023-02-18T11:40:09.222Z"
   },
   {
    "duration": 13,
    "start_time": "2023-02-18T11:40:09.246Z"
   },
   {
    "duration": 4,
    "start_time": "2023-02-18T11:40:09.261Z"
   },
   {
    "duration": 5,
    "start_time": "2023-02-18T11:40:09.267Z"
   },
   {
    "duration": 7,
    "start_time": "2023-02-18T11:40:09.275Z"
   },
   {
    "duration": 13,
    "start_time": "2023-02-18T11:40:09.283Z"
   },
   {
    "duration": 30,
    "start_time": "2023-02-18T11:40:09.297Z"
   },
   {
    "duration": 50,
    "start_time": "2023-02-18T11:40:09.329Z"
   },
   {
    "duration": 121,
    "start_time": "2023-02-18T11:40:09.380Z"
   },
   {
    "duration": 118,
    "start_time": "2023-02-18T11:40:09.503Z"
   },
   {
    "duration": 8,
    "start_time": "2023-02-18T11:40:09.623Z"
   },
   {
    "duration": 327,
    "start_time": "2023-02-18T11:40:09.632Z"
   },
   {
    "duration": 307,
    "start_time": "2023-02-18T11:40:09.961Z"
   },
   {
    "duration": 317,
    "start_time": "2023-02-18T11:40:10.270Z"
   },
   {
    "duration": 5,
    "start_time": "2023-02-18T11:40:10.588Z"
   },
   {
    "duration": 15,
    "start_time": "2023-02-18T11:40:10.594Z"
   },
   {
    "duration": 10,
    "start_time": "2023-02-18T11:40:10.611Z"
   },
   {
    "duration": 17,
    "start_time": "2023-02-18T11:40:10.622Z"
   },
   {
    "duration": 402,
    "start_time": "2023-02-18T11:40:10.641Z"
   },
   {
    "duration": 17,
    "start_time": "2023-02-18T11:40:11.045Z"
   },
   {
    "duration": 2,
    "start_time": "2023-02-18T11:40:11.064Z"
   },
   {
    "duration": 853,
    "start_time": "2023-02-18T11:40:11.068Z"
   },
   {
    "duration": 7,
    "start_time": "2023-02-18T11:40:11.924Z"
   },
   {
    "duration": 21,
    "start_time": "2023-02-18T11:40:11.932Z"
   },
   {
    "duration": 3,
    "start_time": "2023-02-18T11:40:11.955Z"
   },
   {
    "duration": 1343,
    "start_time": "2023-02-18T11:40:11.960Z"
   },
   {
    "duration": 276,
    "start_time": "2023-02-18T11:40:13.305Z"
   },
   {
    "duration": 5,
    "start_time": "2023-02-18T11:40:13.584Z"
   },
   {
    "duration": 169,
    "start_time": "2023-02-18T11:40:13.591Z"
   },
   {
    "duration": 153,
    "start_time": "2023-02-18T11:40:13.762Z"
   },
   {
    "duration": 147,
    "start_time": "2023-02-18T11:40:13.920Z"
   },
   {
    "duration": 142,
    "start_time": "2023-02-18T11:40:14.069Z"
   },
   {
    "duration": 10,
    "start_time": "2023-02-18T11:40:14.212Z"
   },
   {
    "duration": 5,
    "start_time": "2023-02-18T11:40:14.224Z"
   },
   {
    "duration": 134,
    "start_time": "2023-02-18T11:40:14.231Z"
   },
   {
    "duration": 202,
    "start_time": "2023-02-18T11:40:14.367Z"
   },
   {
    "duration": 242,
    "start_time": "2023-02-18T11:40:14.571Z"
   },
   {
    "duration": 151,
    "start_time": "2023-02-18T11:40:14.820Z"
   },
   {
    "duration": 4,
    "start_time": "2023-02-18T11:40:14.973Z"
   },
   {
    "duration": 211,
    "start_time": "2023-02-18T11:40:14.978Z"
   },
   {
    "duration": 174,
    "start_time": "2023-02-18T11:40:15.191Z"
   },
   {
    "duration": 443,
    "start_time": "2023-02-18T11:40:15.367Z"
   },
   {
    "duration": 9,
    "start_time": "2023-02-18T11:40:15.812Z"
   },
   {
    "duration": 501,
    "start_time": "2023-02-18T11:40:15.822Z"
   },
   {
    "duration": 134,
    "start_time": "2023-02-18T11:40:16.326Z"
   },
   {
    "duration": 132,
    "start_time": "2023-02-18T11:40:16.462Z"
   },
   {
    "duration": 126,
    "start_time": "2023-02-18T11:40:16.595Z"
   },
   {
    "duration": 9,
    "start_time": "2023-02-18T11:40:16.722Z"
   },
   {
    "duration": 8,
    "start_time": "2023-02-18T11:40:16.733Z"
   },
   {
    "duration": 1202,
    "start_time": "2023-02-18T11:40:35.132Z"
   },
   {
    "duration": 53,
    "start_time": "2023-02-18T11:40:36.336Z"
   },
   {
    "duration": 23,
    "start_time": "2023-02-18T11:40:36.391Z"
   },
   {
    "duration": 14,
    "start_time": "2023-02-18T11:40:36.416Z"
   },
   {
    "duration": 3,
    "start_time": "2023-02-18T11:40:36.432Z"
   },
   {
    "duration": 22,
    "start_time": "2023-02-18T11:40:36.436Z"
   },
   {
    "duration": 15,
    "start_time": "2023-02-18T11:40:36.460Z"
   },
   {
    "duration": 4,
    "start_time": "2023-02-18T11:40:36.477Z"
   },
   {
    "duration": 10,
    "start_time": "2023-02-18T11:40:36.483Z"
   },
   {
    "duration": 4,
    "start_time": "2023-02-18T11:40:36.521Z"
   },
   {
    "duration": 11,
    "start_time": "2023-02-18T11:40:36.527Z"
   },
   {
    "duration": 19,
    "start_time": "2023-02-18T11:40:36.540Z"
   },
   {
    "duration": 9,
    "start_time": "2023-02-18T11:40:36.561Z"
   },
   {
    "duration": 76,
    "start_time": "2023-02-18T11:40:36.572Z"
   },
   {
    "duration": 120,
    "start_time": "2023-02-18T11:40:36.650Z"
   },
   {
    "duration": 119,
    "start_time": "2023-02-18T11:40:36.771Z"
   },
   {
    "duration": 9,
    "start_time": "2023-02-18T11:40:36.891Z"
   },
   {
    "duration": 365,
    "start_time": "2023-02-18T11:40:36.901Z"
   },
   {
    "duration": 341,
    "start_time": "2023-02-18T11:40:37.267Z"
   },
   {
    "duration": 333,
    "start_time": "2023-02-18T11:40:37.610Z"
   },
   {
    "duration": 5,
    "start_time": "2023-02-18T11:40:37.945Z"
   },
   {
    "duration": 36,
    "start_time": "2023-02-18T11:40:37.952Z"
   },
   {
    "duration": 23,
    "start_time": "2023-02-18T11:40:37.990Z"
   },
   {
    "duration": 44,
    "start_time": "2023-02-18T11:40:38.015Z"
   },
   {
    "duration": 421,
    "start_time": "2023-02-18T11:40:38.061Z"
   },
   {
    "duration": 17,
    "start_time": "2023-02-18T11:40:38.484Z"
   },
   {
    "duration": 18,
    "start_time": "2023-02-18T11:40:38.503Z"
   },
   {
    "duration": 872,
    "start_time": "2023-02-18T11:40:38.526Z"
   },
   {
    "duration": 6,
    "start_time": "2023-02-18T11:40:39.400Z"
   },
   {
    "duration": 47,
    "start_time": "2023-02-18T11:40:39.408Z"
   },
   {
    "duration": 13,
    "start_time": "2023-02-18T11:40:39.457Z"
   },
   {
    "duration": 1513,
    "start_time": "2023-02-18T11:40:39.471Z"
   },
   {
    "duration": 306,
    "start_time": "2023-02-18T11:40:40.987Z"
   },
   {
    "duration": 6,
    "start_time": "2023-02-18T11:40:41.295Z"
   },
   {
    "duration": 180,
    "start_time": "2023-02-18T11:40:41.302Z"
   },
   {
    "duration": 162,
    "start_time": "2023-02-18T11:40:41.484Z"
   },
   {
    "duration": 161,
    "start_time": "2023-02-18T11:40:41.648Z"
   },
   {
    "duration": 165,
    "start_time": "2023-02-18T11:40:41.811Z"
   },
   {
    "duration": 6,
    "start_time": "2023-02-18T11:40:41.978Z"
   },
   {
    "duration": 17,
    "start_time": "2023-02-18T11:40:41.987Z"
   },
   {
    "duration": 142,
    "start_time": "2023-02-18T11:40:42.006Z"
   },
   {
    "duration": 181,
    "start_time": "2023-02-18T11:40:42.150Z"
   },
   {
    "duration": 246,
    "start_time": "2023-02-18T11:40:42.335Z"
   },
   {
    "duration": 180,
    "start_time": "2023-02-18T11:40:42.583Z"
   },
   {
    "duration": 5,
    "start_time": "2023-02-18T11:40:42.765Z"
   },
   {
    "duration": 199,
    "start_time": "2023-02-18T11:40:42.772Z"
   },
   {
    "duration": 199,
    "start_time": "2023-02-18T11:40:42.973Z"
   },
   {
    "duration": 476,
    "start_time": "2023-02-18T11:40:43.173Z"
   },
   {
    "duration": 2,
    "start_time": "2023-02-18T11:40:43.651Z"
   },
   {
    "duration": 546,
    "start_time": "2023-02-18T11:40:43.655Z"
   },
   {
    "duration": 138,
    "start_time": "2023-02-18T11:40:44.204Z"
   },
   {
    "duration": 166,
    "start_time": "2023-02-18T11:40:44.344Z"
   },
   {
    "duration": 160,
    "start_time": "2023-02-18T11:40:44.512Z"
   },
   {
    "duration": 9,
    "start_time": "2023-02-18T11:40:44.673Z"
   },
   {
    "duration": 11,
    "start_time": "2023-02-18T11:40:44.684Z"
   },
   {
    "duration": 96,
    "start_time": "2023-02-18T11:53:30.635Z"
   },
   {
    "duration": 9,
    "start_time": "2023-02-18T11:53:38.062Z"
   },
   {
    "duration": 1187,
    "start_time": "2023-02-18T11:53:44.433Z"
   },
   {
    "duration": 53,
    "start_time": "2023-02-18T11:53:45.621Z"
   },
   {
    "duration": 24,
    "start_time": "2023-02-18T11:53:45.675Z"
   },
   {
    "duration": 13,
    "start_time": "2023-02-18T11:53:45.701Z"
   },
   {
    "duration": 6,
    "start_time": "2023-02-18T11:53:45.715Z"
   },
   {
    "duration": 23,
    "start_time": "2023-02-18T11:53:45.723Z"
   },
   {
    "duration": 16,
    "start_time": "2023-02-18T11:53:45.747Z"
   },
   {
    "duration": 5,
    "start_time": "2023-02-18T11:53:45.764Z"
   },
   {
    "duration": 11,
    "start_time": "2023-02-18T11:53:45.770Z"
   },
   {
    "duration": 10,
    "start_time": "2023-02-18T11:53:45.784Z"
   },
   {
    "duration": 27,
    "start_time": "2023-02-18T11:53:45.796Z"
   },
   {
    "duration": 8,
    "start_time": "2023-02-18T11:53:45.825Z"
   },
   {
    "duration": 52,
    "start_time": "2023-02-18T11:53:45.835Z"
   },
   {
    "duration": 123,
    "start_time": "2023-02-18T11:53:45.889Z"
   },
   {
    "duration": 110,
    "start_time": "2023-02-18T11:53:46.020Z"
   },
   {
    "duration": 8,
    "start_time": "2023-02-18T11:53:46.131Z"
   },
   {
    "duration": 344,
    "start_time": "2023-02-18T11:53:46.140Z"
   },
   {
    "duration": 310,
    "start_time": "2023-02-18T11:53:46.485Z"
   },
   {
    "duration": 317,
    "start_time": "2023-02-18T11:53:46.797Z"
   },
   {
    "duration": 5,
    "start_time": "2023-02-18T11:53:47.121Z"
   },
   {
    "duration": 10,
    "start_time": "2023-02-18T11:53:47.128Z"
   },
   {
    "duration": 15,
    "start_time": "2023-02-18T11:53:47.140Z"
   },
   {
    "duration": 30,
    "start_time": "2023-02-18T11:53:47.157Z"
   },
   {
    "duration": 374,
    "start_time": "2023-02-18T11:53:47.188Z"
   },
   {
    "duration": 16,
    "start_time": "2023-02-18T11:53:47.563Z"
   },
   {
    "duration": 3,
    "start_time": "2023-02-18T11:53:47.580Z"
   },
   {
    "duration": 844,
    "start_time": "2023-02-18T11:53:47.584Z"
   },
   {
    "duration": 6,
    "start_time": "2023-02-18T11:53:48.431Z"
   },
   {
    "duration": 21,
    "start_time": "2023-02-18T11:53:48.438Z"
   },
   {
    "duration": 3,
    "start_time": "2023-02-18T11:53:48.461Z"
   },
   {
    "duration": 1322,
    "start_time": "2023-02-18T11:53:48.465Z"
   },
   {
    "duration": 276,
    "start_time": "2023-02-18T11:53:49.789Z"
   },
   {
    "duration": 5,
    "start_time": "2023-02-18T11:53:50.067Z"
   },
   {
    "duration": 160,
    "start_time": "2023-02-18T11:53:50.074Z"
   },
   {
    "duration": 153,
    "start_time": "2023-02-18T11:53:50.236Z"
   },
   {
    "duration": 143,
    "start_time": "2023-02-18T11:53:50.390Z"
   },
   {
    "duration": 147,
    "start_time": "2023-02-18T11:53:50.535Z"
   },
   {
    "duration": 4,
    "start_time": "2023-02-18T11:53:50.684Z"
   },
   {
    "duration": 6,
    "start_time": "2023-02-18T11:53:50.689Z"
   },
   {
    "duration": 134,
    "start_time": "2023-02-18T11:53:50.696Z"
   },
   {
    "duration": 175,
    "start_time": "2023-02-18T11:53:50.832Z"
   },
   {
    "duration": 244,
    "start_time": "2023-02-18T11:53:51.009Z"
   },
   {
    "duration": 157,
    "start_time": "2023-02-18T11:53:51.254Z"
   },
   {
    "duration": 11,
    "start_time": "2023-02-18T11:53:51.412Z"
   },
   {
    "duration": 177,
    "start_time": "2023-02-18T11:53:51.424Z"
   },
   {
    "duration": 174,
    "start_time": "2023-02-18T11:53:51.603Z"
   },
   {
    "duration": 466,
    "start_time": "2023-02-18T11:53:51.779Z"
   },
   {
    "duration": 8,
    "start_time": "2023-02-18T11:53:52.247Z"
   },
   {
    "duration": 5,
    "start_time": "2023-02-18T11:53:52.256Z"
   },
   {
    "duration": 512,
    "start_time": "2023-02-18T11:53:52.263Z"
   },
   {
    "duration": 120,
    "start_time": "2023-02-18T11:53:52.777Z"
   },
   {
    "duration": 123,
    "start_time": "2023-02-18T11:53:52.899Z"
   },
   {
    "duration": 124,
    "start_time": "2023-02-18T11:53:53.023Z"
   },
   {
    "duration": 8,
    "start_time": "2023-02-18T11:53:53.149Z"
   },
   {
    "duration": 8,
    "start_time": "2023-02-18T11:53:53.158Z"
   },
   {
    "duration": 12,
    "start_time": "2023-02-18T11:54:28.324Z"
   },
   {
    "duration": 1197,
    "start_time": "2023-02-18T11:54:36.255Z"
   },
   {
    "duration": 56,
    "start_time": "2023-02-18T11:54:37.454Z"
   },
   {
    "duration": 25,
    "start_time": "2023-02-18T11:54:37.512Z"
   },
   {
    "duration": 14,
    "start_time": "2023-02-18T11:54:37.539Z"
   },
   {
    "duration": 3,
    "start_time": "2023-02-18T11:54:37.555Z"
   },
   {
    "duration": 23,
    "start_time": "2023-02-18T11:54:37.560Z"
   },
   {
    "duration": 15,
    "start_time": "2023-02-18T11:54:37.585Z"
   },
   {
    "duration": 23,
    "start_time": "2023-02-18T11:54:37.602Z"
   },
   {
    "duration": 13,
    "start_time": "2023-02-18T11:54:37.627Z"
   },
   {
    "duration": 16,
    "start_time": "2023-02-18T11:54:37.642Z"
   },
   {
    "duration": 15,
    "start_time": "2023-02-18T11:54:37.660Z"
   },
   {
    "duration": 8,
    "start_time": "2023-02-18T11:54:37.677Z"
   },
   {
    "duration": 70,
    "start_time": "2023-02-18T11:54:37.686Z"
   },
   {
    "duration": 119,
    "start_time": "2023-02-18T11:54:37.757Z"
   },
   {
    "duration": 117,
    "start_time": "2023-02-18T11:54:37.878Z"
   },
   {
    "duration": 9,
    "start_time": "2023-02-18T11:54:37.997Z"
   },
   {
    "duration": 379,
    "start_time": "2023-02-18T11:54:38.007Z"
   },
   {
    "duration": 334,
    "start_time": "2023-02-18T11:54:38.388Z"
   },
   {
    "duration": 309,
    "start_time": "2023-02-18T11:54:38.723Z"
   },
   {
    "duration": 5,
    "start_time": "2023-02-18T11:54:39.033Z"
   },
   {
    "duration": 14,
    "start_time": "2023-02-18T11:54:39.039Z"
   },
   {
    "duration": 6,
    "start_time": "2023-02-18T11:54:39.055Z"
   },
   {
    "duration": 36,
    "start_time": "2023-02-18T11:54:39.063Z"
   },
   {
    "duration": 395,
    "start_time": "2023-02-18T11:54:39.100Z"
   },
   {
    "duration": 24,
    "start_time": "2023-02-18T11:54:39.497Z"
   },
   {
    "duration": 3,
    "start_time": "2023-02-18T11:54:39.523Z"
   },
   {
    "duration": 850,
    "start_time": "2023-02-18T11:54:39.527Z"
   },
   {
    "duration": 6,
    "start_time": "2023-02-18T11:54:40.381Z"
   },
   {
    "duration": 34,
    "start_time": "2023-02-18T11:54:40.388Z"
   },
   {
    "duration": 3,
    "start_time": "2023-02-18T11:54:40.423Z"
   },
   {
    "duration": 1341,
    "start_time": "2023-02-18T11:54:40.428Z"
   },
   {
    "duration": 286,
    "start_time": "2023-02-18T11:54:41.770Z"
   },
   {
    "duration": 6,
    "start_time": "2023-02-18T11:54:42.057Z"
   },
   {
    "duration": 162,
    "start_time": "2023-02-18T11:54:42.065Z"
   },
   {
    "duration": 152,
    "start_time": "2023-02-18T11:54:42.229Z"
   },
   {
    "duration": 147,
    "start_time": "2023-02-18T11:54:42.383Z"
   },
   {
    "duration": 154,
    "start_time": "2023-02-18T11:54:42.531Z"
   },
   {
    "duration": 4,
    "start_time": "2023-02-18T11:54:42.687Z"
   },
   {
    "duration": 5,
    "start_time": "2023-02-18T11:54:42.693Z"
   },
   {
    "duration": 133,
    "start_time": "2023-02-18T11:54:42.700Z"
   },
   {
    "duration": 160,
    "start_time": "2023-02-18T11:54:42.834Z"
   },
   {
    "duration": 245,
    "start_time": "2023-02-18T11:54:42.996Z"
   },
   {
    "duration": 159,
    "start_time": "2023-02-18T11:54:43.243Z"
   },
   {
    "duration": 5,
    "start_time": "2023-02-18T11:54:43.403Z"
   },
   {
    "duration": 186,
    "start_time": "2023-02-18T11:54:43.410Z"
   },
   {
    "duration": 189,
    "start_time": "2023-02-18T11:54:43.598Z"
   },
   {
    "duration": 464,
    "start_time": "2023-02-18T11:54:43.789Z"
   },
   {
    "duration": 11,
    "start_time": "2023-02-18T11:54:44.254Z"
   },
   {
    "duration": 21,
    "start_time": "2023-02-18T11:54:44.266Z"
   },
   {
    "duration": 569,
    "start_time": "2023-02-18T11:54:44.289Z"
   },
   {
    "duration": 136,
    "start_time": "2023-02-18T11:54:44.860Z"
   },
   {
    "duration": 152,
    "start_time": "2023-02-18T11:54:44.998Z"
   },
   {
    "duration": 129,
    "start_time": "2023-02-18T11:54:45.152Z"
   },
   {
    "duration": 8,
    "start_time": "2023-02-18T11:54:45.283Z"
   },
   {
    "duration": 12,
    "start_time": "2023-02-18T11:54:45.292Z"
   },
   {
    "duration": 102,
    "start_time": "2023-02-18T12:46:02.779Z"
   },
   {
    "duration": 1167,
    "start_time": "2023-02-18T12:46:25.273Z"
   },
   {
    "duration": 57,
    "start_time": "2023-02-18T12:46:26.442Z"
   },
   {
    "duration": 24,
    "start_time": "2023-02-18T12:46:26.501Z"
   },
   {
    "duration": 16,
    "start_time": "2023-02-18T12:46:26.528Z"
   },
   {
    "duration": 4,
    "start_time": "2023-02-18T12:46:26.546Z"
   },
   {
    "duration": 26,
    "start_time": "2023-02-18T12:46:26.552Z"
   },
   {
    "duration": 42,
    "start_time": "2023-02-18T12:46:26.580Z"
   },
   {
    "duration": 6,
    "start_time": "2023-02-18T12:46:26.625Z"
   },
   {
    "duration": 6,
    "start_time": "2023-02-18T12:46:26.633Z"
   },
   {
    "duration": 12,
    "start_time": "2023-02-18T12:46:26.644Z"
   },
   {
    "duration": 22,
    "start_time": "2023-02-18T12:46:26.658Z"
   },
   {
    "duration": 39,
    "start_time": "2023-02-18T12:46:26.683Z"
   },
   {
    "duration": 55,
    "start_time": "2023-02-18T12:46:26.723Z"
   },
   {
    "duration": 137,
    "start_time": "2023-02-18T12:46:26.779Z"
   },
   {
    "duration": 122,
    "start_time": "2023-02-18T12:46:26.922Z"
   },
   {
    "duration": 8,
    "start_time": "2023-02-18T12:46:27.046Z"
   },
   {
    "duration": 368,
    "start_time": "2023-02-18T12:46:27.056Z"
   },
   {
    "duration": 338,
    "start_time": "2023-02-18T12:46:27.426Z"
   },
   {
    "duration": 324,
    "start_time": "2023-02-18T12:46:27.766Z"
   },
   {
    "duration": 5,
    "start_time": "2023-02-18T12:46:28.092Z"
   },
   {
    "duration": 10,
    "start_time": "2023-02-18T12:46:28.099Z"
   },
   {
    "duration": 6,
    "start_time": "2023-02-18T12:46:28.121Z"
   },
   {
    "duration": 22,
    "start_time": "2023-02-18T12:46:28.129Z"
   },
   {
    "duration": 414,
    "start_time": "2023-02-18T12:46:28.153Z"
   },
   {
    "duration": 17,
    "start_time": "2023-02-18T12:46:28.568Z"
   },
   {
    "duration": 3,
    "start_time": "2023-02-18T12:46:28.587Z"
   },
   {
    "duration": 868,
    "start_time": "2023-02-18T12:46:28.592Z"
   },
   {
    "duration": 7,
    "start_time": "2023-02-18T12:46:29.464Z"
   },
   {
    "duration": 23,
    "start_time": "2023-02-18T12:46:29.473Z"
   },
   {
    "duration": 3,
    "start_time": "2023-02-18T12:46:29.497Z"
   },
   {
    "duration": 1440,
    "start_time": "2023-02-18T12:46:29.502Z"
   },
   {
    "duration": 306,
    "start_time": "2023-02-18T12:46:30.944Z"
   },
   {
    "duration": 6,
    "start_time": "2023-02-18T12:46:31.252Z"
   },
   {
    "duration": 165,
    "start_time": "2023-02-18T12:46:31.260Z"
   },
   {
    "duration": 153,
    "start_time": "2023-02-18T12:46:31.427Z"
   },
   {
    "duration": 157,
    "start_time": "2023-02-18T12:46:31.582Z"
   },
   {
    "duration": 151,
    "start_time": "2023-02-18T12:46:31.741Z"
   },
   {
    "duration": 4,
    "start_time": "2023-02-18T12:46:31.893Z"
   },
   {
    "duration": 17,
    "start_time": "2023-02-18T12:46:31.898Z"
   },
   {
    "duration": 127,
    "start_time": "2023-02-18T12:46:31.917Z"
   },
   {
    "duration": 153,
    "start_time": "2023-02-18T12:46:32.046Z"
   },
   {
    "duration": 271,
    "start_time": "2023-02-18T12:46:32.201Z"
   },
   {
    "duration": 207,
    "start_time": "2023-02-18T12:46:32.474Z"
   },
   {
    "duration": 5,
    "start_time": "2023-02-18T12:46:32.683Z"
   },
   {
    "duration": 232,
    "start_time": "2023-02-18T12:46:32.691Z"
   },
   {
    "duration": 196,
    "start_time": "2023-02-18T12:46:32.925Z"
   },
   {
    "duration": 547,
    "start_time": "2023-02-18T12:46:33.123Z"
   },
   {
    "duration": 15,
    "start_time": "2023-02-18T12:46:33.673Z"
   },
   {
    "duration": 150,
    "start_time": "2023-02-18T12:46:33.690Z"
   },
   {
    "duration": 0,
    "start_time": "2023-02-18T12:46:33.842Z"
   },
   {
    "duration": 0,
    "start_time": "2023-02-18T12:46:33.844Z"
   },
   {
    "duration": 0,
    "start_time": "2023-02-18T12:46:33.845Z"
   },
   {
    "duration": 0,
    "start_time": "2023-02-18T12:46:33.846Z"
   },
   {
    "duration": 0,
    "start_time": "2023-02-18T12:46:33.847Z"
   },
   {
    "duration": 0,
    "start_time": "2023-02-18T12:46:33.848Z"
   },
   {
    "duration": 0,
    "start_time": "2023-02-18T12:46:33.849Z"
   },
   {
    "duration": 6,
    "start_time": "2023-02-18T12:47:58.469Z"
   },
   {
    "duration": 12,
    "start_time": "2023-02-18T12:48:18.165Z"
   },
   {
    "duration": 12,
    "start_time": "2023-02-18T12:57:08.849Z"
   },
   {
    "duration": 13,
    "start_time": "2023-02-18T12:57:14.559Z"
   },
   {
    "duration": 14,
    "start_time": "2023-02-18T12:57:22.893Z"
   },
   {
    "duration": 23,
    "start_time": "2023-02-18T12:59:26.134Z"
   },
   {
    "duration": 13,
    "start_time": "2023-02-18T12:59:31.392Z"
   },
   {
    "duration": 1227,
    "start_time": "2023-02-18T13:02:31.965Z"
   },
   {
    "duration": 12,
    "start_time": "2023-02-18T13:02:59.123Z"
   },
   {
    "duration": 1066,
    "start_time": "2023-02-18T13:03:10.064Z"
   },
   {
    "duration": 53,
    "start_time": "2023-02-18T13:03:11.131Z"
   },
   {
    "duration": 23,
    "start_time": "2023-02-18T13:03:11.185Z"
   },
   {
    "duration": 14,
    "start_time": "2023-02-18T13:03:11.211Z"
   },
   {
    "duration": 2,
    "start_time": "2023-02-18T13:03:11.227Z"
   },
   {
    "duration": 20,
    "start_time": "2023-02-18T13:03:11.231Z"
   },
   {
    "duration": 16,
    "start_time": "2023-02-18T13:03:11.253Z"
   },
   {
    "duration": 5,
    "start_time": "2023-02-18T13:03:11.270Z"
   },
   {
    "duration": 5,
    "start_time": "2023-02-18T13:03:11.276Z"
   },
   {
    "duration": 8,
    "start_time": "2023-02-18T13:03:11.285Z"
   },
   {
    "duration": 36,
    "start_time": "2023-02-18T13:03:11.294Z"
   },
   {
    "duration": 9,
    "start_time": "2023-02-18T13:03:11.331Z"
   },
   {
    "duration": 54,
    "start_time": "2023-02-18T13:03:11.341Z"
   },
   {
    "duration": 118,
    "start_time": "2023-02-18T13:03:11.397Z"
   },
   {
    "duration": 112,
    "start_time": "2023-02-18T13:03:11.520Z"
   },
   {
    "duration": 8,
    "start_time": "2023-02-18T13:03:11.634Z"
   },
   {
    "duration": 329,
    "start_time": "2023-02-18T13:03:11.644Z"
   },
   {
    "duration": 320,
    "start_time": "2023-02-18T13:03:11.975Z"
   },
   {
    "duration": 311,
    "start_time": "2023-02-18T13:03:12.298Z"
   },
   {
    "duration": 9,
    "start_time": "2023-02-18T13:03:12.611Z"
   },
   {
    "duration": 10,
    "start_time": "2023-02-18T13:03:12.622Z"
   },
   {
    "duration": 13,
    "start_time": "2023-02-18T13:03:12.633Z"
   },
   {
    "duration": 15,
    "start_time": "2023-02-18T13:03:12.647Z"
   },
   {
    "duration": 378,
    "start_time": "2023-02-18T13:03:12.664Z"
   },
   {
    "duration": 15,
    "start_time": "2023-02-18T13:03:13.044Z"
   },
   {
    "duration": 3,
    "start_time": "2023-02-18T13:03:13.061Z"
   },
   {
    "duration": 783,
    "start_time": "2023-02-18T13:03:13.066Z"
   },
   {
    "duration": 5,
    "start_time": "2023-02-18T13:03:13.853Z"
   },
   {
    "duration": 28,
    "start_time": "2023-02-18T13:03:13.860Z"
   },
   {
    "duration": 3,
    "start_time": "2023-02-18T13:03:13.889Z"
   },
   {
    "duration": 1389,
    "start_time": "2023-02-18T13:03:13.894Z"
   },
   {
    "duration": 280,
    "start_time": "2023-02-18T13:03:15.284Z"
   },
   {
    "duration": 5,
    "start_time": "2023-02-18T13:03:15.566Z"
   },
   {
    "duration": 148,
    "start_time": "2023-02-18T13:03:15.572Z"
   },
   {
    "duration": 140,
    "start_time": "2023-02-18T13:03:15.722Z"
   },
   {
    "duration": 148,
    "start_time": "2023-02-18T13:03:15.864Z"
   },
   {
    "duration": 176,
    "start_time": "2023-02-18T13:03:16.014Z"
   },
   {
    "duration": 4,
    "start_time": "2023-02-18T13:03:16.191Z"
   },
   {
    "duration": 8,
    "start_time": "2023-02-18T13:03:16.197Z"
   },
   {
    "duration": 130,
    "start_time": "2023-02-18T13:03:16.207Z"
   },
   {
    "duration": 161,
    "start_time": "2023-02-18T13:03:16.339Z"
   },
   {
    "duration": 255,
    "start_time": "2023-02-18T13:03:16.502Z"
   },
   {
    "duration": 165,
    "start_time": "2023-02-18T13:03:16.758Z"
   },
   {
    "duration": 5,
    "start_time": "2023-02-18T13:03:16.926Z"
   },
   {
    "duration": 177,
    "start_time": "2023-02-18T13:03:16.933Z"
   },
   {
    "duration": 195,
    "start_time": "2023-02-18T13:03:17.120Z"
   },
   {
    "duration": 449,
    "start_time": "2023-02-18T13:03:17.317Z"
   },
   {
    "duration": 13,
    "start_time": "2023-02-18T13:03:17.768Z"
   },
   {
    "duration": 24,
    "start_time": "2023-02-18T13:03:17.783Z"
   },
   {
    "duration": 16,
    "start_time": "2023-02-18T13:03:17.809Z"
   },
   {
    "duration": 485,
    "start_time": "2023-02-18T13:03:17.827Z"
   },
   {
    "duration": 118,
    "start_time": "2023-02-18T13:03:18.314Z"
   },
   {
    "duration": 119,
    "start_time": "2023-02-18T13:03:18.433Z"
   },
   {
    "duration": 121,
    "start_time": "2023-02-18T13:03:18.554Z"
   },
   {
    "duration": 8,
    "start_time": "2023-02-18T13:03:18.677Z"
   },
   {
    "duration": 9,
    "start_time": "2023-02-18T13:03:18.686Z"
   },
   {
    "duration": 591,
    "start_time": "2023-02-18T13:53:01.285Z"
   },
   {
    "duration": 16,
    "start_time": "2023-02-18T13:54:00.484Z"
   },
   {
    "duration": 13,
    "start_time": "2023-02-18T13:54:11.329Z"
   },
   {
    "duration": 509,
    "start_time": "2023-02-18T13:55:35.379Z"
   },
   {
    "duration": 473,
    "start_time": "2023-02-18T13:56:13.722Z"
   },
   {
    "duration": 14,
    "start_time": "2023-02-18T13:56:35.130Z"
   },
   {
    "duration": 1421,
    "start_time": "2023-02-18T13:57:44.659Z"
   },
   {
    "duration": 13,
    "start_time": "2023-02-18T13:57:56.530Z"
   },
   {
    "duration": 13,
    "start_time": "2023-02-18T13:58:27.596Z"
   },
   {
    "duration": 12,
    "start_time": "2023-02-18T13:58:31.694Z"
   },
   {
    "duration": 16,
    "start_time": "2023-02-18T13:58:35.001Z"
   },
   {
    "duration": 489,
    "start_time": "2023-02-18T14:37:18.777Z"
   },
   {
    "duration": 621,
    "start_time": "2023-02-18T14:43:45.340Z"
   },
   {
    "duration": 73,
    "start_time": "2023-02-18T14:48:19.066Z"
   },
   {
    "duration": 1232,
    "start_time": "2023-02-18T14:49:38.682Z"
   },
   {
    "duration": 56,
    "start_time": "2023-02-18T14:49:39.916Z"
   },
   {
    "duration": 25,
    "start_time": "2023-02-18T14:49:39.974Z"
   },
   {
    "duration": 16,
    "start_time": "2023-02-18T14:49:40.001Z"
   },
   {
    "duration": 6,
    "start_time": "2023-02-18T14:49:40.018Z"
   },
   {
    "duration": 26,
    "start_time": "2023-02-18T14:49:40.025Z"
   },
   {
    "duration": 36,
    "start_time": "2023-02-18T14:49:40.052Z"
   },
   {
    "duration": 5,
    "start_time": "2023-02-18T14:49:40.090Z"
   },
   {
    "duration": 6,
    "start_time": "2023-02-18T14:49:40.096Z"
   },
   {
    "duration": 9,
    "start_time": "2023-02-18T14:49:40.104Z"
   },
   {
    "duration": 16,
    "start_time": "2023-02-18T14:49:40.115Z"
   },
   {
    "duration": 8,
    "start_time": "2023-02-18T14:49:40.133Z"
   },
   {
    "duration": 55,
    "start_time": "2023-02-18T14:49:40.143Z"
   },
   {
    "duration": 122,
    "start_time": "2023-02-18T14:49:40.221Z"
   },
   {
    "duration": 129,
    "start_time": "2023-02-18T14:49:40.345Z"
   },
   {
    "duration": 8,
    "start_time": "2023-02-18T14:49:40.476Z"
   },
   {
    "duration": 379,
    "start_time": "2023-02-18T14:49:40.486Z"
   },
   {
    "duration": 346,
    "start_time": "2023-02-18T14:49:40.867Z"
   },
   {
    "duration": 350,
    "start_time": "2023-02-18T14:49:41.215Z"
   },
   {
    "duration": 5,
    "start_time": "2023-02-18T14:49:41.566Z"
   },
   {
    "duration": 12,
    "start_time": "2023-02-18T14:49:41.573Z"
   },
   {
    "duration": 5,
    "start_time": "2023-02-18T14:49:41.587Z"
   },
   {
    "duration": 36,
    "start_time": "2023-02-18T14:49:41.594Z"
   },
   {
    "duration": 427,
    "start_time": "2023-02-18T14:49:41.631Z"
   },
   {
    "duration": 18,
    "start_time": "2023-02-18T14:49:42.060Z"
   },
   {
    "duration": 2,
    "start_time": "2023-02-18T14:49:42.080Z"
   },
   {
    "duration": 884,
    "start_time": "2023-02-18T14:49:42.084Z"
   },
   {
    "duration": 8,
    "start_time": "2023-02-18T14:49:42.972Z"
   },
   {
    "duration": 24,
    "start_time": "2023-02-18T14:49:42.981Z"
   },
   {
    "duration": 17,
    "start_time": "2023-02-18T14:49:43.007Z"
   },
   {
    "duration": 1417,
    "start_time": "2023-02-18T14:49:43.026Z"
   },
   {
    "duration": 353,
    "start_time": "2023-02-18T14:49:44.446Z"
   },
   {
    "duration": 5,
    "start_time": "2023-02-18T14:49:44.801Z"
   },
   {
    "duration": 166,
    "start_time": "2023-02-18T14:49:44.807Z"
   },
   {
    "duration": 189,
    "start_time": "2023-02-18T14:49:44.975Z"
   },
   {
    "duration": 171,
    "start_time": "2023-02-18T14:49:45.165Z"
   },
   {
    "duration": 172,
    "start_time": "2023-02-18T14:49:45.338Z"
   },
   {
    "duration": 9,
    "start_time": "2023-02-18T14:49:45.512Z"
   },
   {
    "duration": 6,
    "start_time": "2023-02-18T14:49:45.523Z"
   },
   {
    "duration": 142,
    "start_time": "2023-02-18T14:49:45.531Z"
   },
   {
    "duration": 175,
    "start_time": "2023-02-18T14:49:45.675Z"
   },
   {
    "duration": 248,
    "start_time": "2023-02-18T14:49:45.852Z"
   },
   {
    "duration": 160,
    "start_time": "2023-02-18T14:49:46.102Z"
   },
   {
    "duration": 4,
    "start_time": "2023-02-18T14:49:46.264Z"
   },
   {
    "duration": 198,
    "start_time": "2023-02-18T14:49:46.270Z"
   },
   {
    "duration": 177,
    "start_time": "2023-02-18T14:49:46.469Z"
   },
   {
    "duration": 454,
    "start_time": "2023-02-18T14:49:46.648Z"
   },
   {
    "duration": 24,
    "start_time": "2023-02-18T14:49:47.103Z"
   },
   {
    "duration": 13,
    "start_time": "2023-02-18T14:49:47.128Z"
   },
   {
    "duration": 13,
    "start_time": "2023-02-18T14:49:47.143Z"
   },
   {
    "duration": 3,
    "start_time": "2023-02-18T14:49:47.157Z"
   },
   {
    "duration": 530,
    "start_time": "2023-02-18T14:49:47.161Z"
   },
   {
    "duration": 128,
    "start_time": "2023-02-18T14:49:47.693Z"
   },
   {
    "duration": 123,
    "start_time": "2023-02-18T14:49:47.822Z"
   },
   {
    "duration": 124,
    "start_time": "2023-02-18T14:49:47.946Z"
   },
   {
    "duration": 9,
    "start_time": "2023-02-18T14:49:48.071Z"
   },
   {
    "duration": 11,
    "start_time": "2023-02-18T14:49:48.081Z"
   },
   {
    "duration": 131,
    "start_time": "2023-02-18T15:07:23.982Z"
   },
   {
    "duration": 1078,
    "start_time": "2023-02-18T15:21:12.546Z"
   },
   {
    "duration": 54,
    "start_time": "2023-02-18T15:21:13.625Z"
   },
   {
    "duration": 24,
    "start_time": "2023-02-18T15:21:13.680Z"
   },
   {
    "duration": 19,
    "start_time": "2023-02-18T15:21:13.706Z"
   },
   {
    "duration": 4,
    "start_time": "2023-02-18T15:21:13.728Z"
   },
   {
    "duration": 23,
    "start_time": "2023-02-18T15:21:13.734Z"
   },
   {
    "duration": 15,
    "start_time": "2023-02-18T15:21:13.758Z"
   },
   {
    "duration": 5,
    "start_time": "2023-02-18T15:21:13.774Z"
   },
   {
    "duration": 5,
    "start_time": "2023-02-18T15:21:13.781Z"
   },
   {
    "duration": 35,
    "start_time": "2023-02-18T15:21:13.789Z"
   },
   {
    "duration": 14,
    "start_time": "2023-02-18T15:21:13.826Z"
   },
   {
    "duration": 7,
    "start_time": "2023-02-18T15:21:13.842Z"
   },
   {
    "duration": 71,
    "start_time": "2023-02-18T15:21:13.851Z"
   },
   {
    "duration": 109,
    "start_time": "2023-02-18T15:21:13.923Z"
   },
   {
    "duration": 115,
    "start_time": "2023-02-18T15:21:14.034Z"
   },
   {
    "duration": 7,
    "start_time": "2023-02-18T15:21:14.151Z"
   },
   {
    "duration": 361,
    "start_time": "2023-02-18T15:21:14.160Z"
   },
   {
    "duration": 364,
    "start_time": "2023-02-18T15:21:14.524Z"
   },
   {
    "duration": 328,
    "start_time": "2023-02-18T15:21:14.890Z"
   },
   {
    "duration": 5,
    "start_time": "2023-02-18T15:21:15.221Z"
   },
   {
    "duration": 10,
    "start_time": "2023-02-18T15:21:15.228Z"
   },
   {
    "duration": 5,
    "start_time": "2023-02-18T15:21:15.240Z"
   },
   {
    "duration": 18,
    "start_time": "2023-02-18T15:21:15.247Z"
   },
   {
    "duration": 408,
    "start_time": "2023-02-18T15:21:15.266Z"
   },
   {
    "duration": 16,
    "start_time": "2023-02-18T15:21:15.676Z"
   },
   {
    "duration": 3,
    "start_time": "2023-02-18T15:21:15.693Z"
   },
   {
    "duration": 816,
    "start_time": "2023-02-18T15:21:15.698Z"
   },
   {
    "duration": 7,
    "start_time": "2023-02-18T15:21:16.523Z"
   },
   {
    "duration": 28,
    "start_time": "2023-02-18T15:21:16.532Z"
   },
   {
    "duration": 3,
    "start_time": "2023-02-18T15:21:16.561Z"
   },
   {
    "duration": 1327,
    "start_time": "2023-02-18T15:21:16.566Z"
   },
   {
    "duration": 270,
    "start_time": "2023-02-18T15:21:17.895Z"
   },
   {
    "duration": 5,
    "start_time": "2023-02-18T15:21:18.167Z"
   },
   {
    "duration": 156,
    "start_time": "2023-02-18T15:21:18.174Z"
   },
   {
    "duration": 141,
    "start_time": "2023-02-18T15:21:18.331Z"
   },
   {
    "duration": 138,
    "start_time": "2023-02-18T15:21:18.474Z"
   },
   {
    "duration": 153,
    "start_time": "2023-02-18T15:21:18.614Z"
   },
   {
    "duration": 5,
    "start_time": "2023-02-18T15:21:18.769Z"
   },
   {
    "duration": 11,
    "start_time": "2023-02-18T15:21:18.776Z"
   },
   {
    "duration": 133,
    "start_time": "2023-02-18T15:21:18.789Z"
   },
   {
    "duration": 153,
    "start_time": "2023-02-18T15:21:18.924Z"
   },
   {
    "duration": 235,
    "start_time": "2023-02-18T15:21:19.079Z"
   },
   {
    "duration": 150,
    "start_time": "2023-02-18T15:21:19.320Z"
   },
   {
    "duration": 6,
    "start_time": "2023-02-18T15:21:19.471Z"
   },
   {
    "duration": 180,
    "start_time": "2023-02-18T15:21:19.478Z"
   },
   {
    "duration": 176,
    "start_time": "2023-02-18T15:21:19.660Z"
   },
   {
    "duration": 451,
    "start_time": "2023-02-18T15:21:19.838Z"
   },
   {
    "duration": 17,
    "start_time": "2023-02-18T15:21:20.290Z"
   },
   {
    "duration": 15,
    "start_time": "2023-02-18T15:21:20.321Z"
   },
   {
    "duration": 27,
    "start_time": "2023-02-18T15:21:20.338Z"
   },
   {
    "duration": 9,
    "start_time": "2023-02-18T15:21:20.367Z"
   },
   {
    "duration": 518,
    "start_time": "2023-02-18T15:21:20.377Z"
   },
   {
    "duration": 117,
    "start_time": "2023-02-18T15:21:20.897Z"
   },
   {
    "duration": 122,
    "start_time": "2023-02-18T15:21:21.020Z"
   },
   {
    "duration": 118,
    "start_time": "2023-02-18T15:21:21.145Z"
   },
   {
    "duration": 9,
    "start_time": "2023-02-18T15:21:21.264Z"
   },
   {
    "duration": 11,
    "start_time": "2023-02-18T15:21:21.274Z"
   },
   {
    "duration": 83,
    "start_time": "2023-02-18T16:25:54.730Z"
   },
   {
    "duration": 56,
    "start_time": "2023-02-20T05:34:36.941Z"
   },
   {
    "duration": 66,
    "start_time": "2023-02-20T05:35:17.613Z"
   },
   {
    "duration": 1296,
    "start_time": "2023-02-20T05:39:17.106Z"
   },
   {
    "duration": 96,
    "start_time": "2023-02-20T05:39:33.560Z"
   },
   {
    "duration": 1131,
    "start_time": "2023-02-20T05:39:38.892Z"
   },
   {
    "duration": 100,
    "start_time": "2023-02-20T05:39:40.025Z"
   },
   {
    "duration": 29,
    "start_time": "2023-02-20T05:39:40.127Z"
   },
   {
    "duration": 16,
    "start_time": "2023-02-20T05:39:40.159Z"
   },
   {
    "duration": 6,
    "start_time": "2023-02-20T05:39:40.177Z"
   },
   {
    "duration": 42,
    "start_time": "2023-02-20T05:39:40.184Z"
   },
   {
    "duration": 15,
    "start_time": "2023-02-20T05:39:40.228Z"
   },
   {
    "duration": 6,
    "start_time": "2023-02-20T05:39:40.245Z"
   },
   {
    "duration": 9,
    "start_time": "2023-02-20T05:39:40.253Z"
   },
   {
    "duration": 8,
    "start_time": "2023-02-20T05:39:40.265Z"
   },
   {
    "duration": 28,
    "start_time": "2023-02-20T05:39:40.275Z"
   },
   {
    "duration": 8,
    "start_time": "2023-02-20T05:39:40.304Z"
   },
   {
    "duration": 56,
    "start_time": "2023-02-20T05:39:40.313Z"
   },
   {
    "duration": 114,
    "start_time": "2023-02-20T05:39:40.370Z"
   },
   {
    "duration": 97,
    "start_time": "2023-02-20T05:39:40.486Z"
   },
   {
    "duration": 14,
    "start_time": "2023-02-20T05:39:40.585Z"
   },
   {
    "duration": 325,
    "start_time": "2023-02-20T05:39:40.601Z"
   },
   {
    "duration": 320,
    "start_time": "2023-02-20T05:39:40.927Z"
   },
   {
    "duration": 289,
    "start_time": "2023-02-20T05:39:41.248Z"
   },
   {
    "duration": 4,
    "start_time": "2023-02-20T05:39:41.539Z"
   },
   {
    "duration": 9,
    "start_time": "2023-02-20T05:39:41.545Z"
   },
   {
    "duration": 5,
    "start_time": "2023-02-20T05:39:41.556Z"
   },
   {
    "duration": 14,
    "start_time": "2023-02-20T05:39:41.563Z"
   },
   {
    "duration": 379,
    "start_time": "2023-02-20T05:39:41.599Z"
   },
   {
    "duration": 22,
    "start_time": "2023-02-20T05:39:41.980Z"
   },
   {
    "duration": 2,
    "start_time": "2023-02-20T05:39:42.004Z"
   },
   {
    "duration": 847,
    "start_time": "2023-02-20T05:39:42.008Z"
   },
   {
    "duration": 6,
    "start_time": "2023-02-20T05:39:42.859Z"
   },
   {
    "duration": 18,
    "start_time": "2023-02-20T05:39:42.867Z"
   },
   {
    "duration": 13,
    "start_time": "2023-02-20T05:39:42.887Z"
   },
   {
    "duration": 1384,
    "start_time": "2023-02-20T05:39:42.902Z"
   },
   {
    "duration": 317,
    "start_time": "2023-02-20T05:39:44.288Z"
   },
   {
    "duration": 6,
    "start_time": "2023-02-20T05:39:44.607Z"
   },
   {
    "duration": 163,
    "start_time": "2023-02-20T05:39:44.615Z"
   },
   {
    "duration": 152,
    "start_time": "2023-02-20T05:39:44.780Z"
   },
   {
    "duration": 153,
    "start_time": "2023-02-20T05:39:44.934Z"
   },
   {
    "duration": 152,
    "start_time": "2023-02-20T05:39:45.088Z"
   },
   {
    "duration": 5,
    "start_time": "2023-02-20T05:39:45.242Z"
   },
   {
    "duration": 17,
    "start_time": "2023-02-20T05:39:45.249Z"
   },
   {
    "duration": 154,
    "start_time": "2023-02-20T05:39:45.268Z"
   },
   {
    "duration": 151,
    "start_time": "2023-02-20T05:39:45.424Z"
   },
   {
    "duration": 233,
    "start_time": "2023-02-20T05:39:45.576Z"
   },
   {
    "duration": 155,
    "start_time": "2023-02-20T05:39:45.811Z"
   },
   {
    "duration": 4,
    "start_time": "2023-02-20T05:39:45.968Z"
   },
   {
    "duration": 181,
    "start_time": "2023-02-20T05:39:45.974Z"
   },
   {
    "duration": 169,
    "start_time": "2023-02-20T05:39:46.157Z"
   },
   {
    "duration": 485,
    "start_time": "2023-02-20T05:39:46.327Z"
   },
   {
    "duration": 16,
    "start_time": "2023-02-20T05:39:46.814Z"
   },
   {
    "duration": 15,
    "start_time": "2023-02-20T05:39:46.832Z"
   },
   {
    "duration": 15,
    "start_time": "2023-02-20T05:39:46.848Z"
   },
   {
    "duration": 10,
    "start_time": "2023-02-20T05:39:46.864Z"
   },
   {
    "duration": 587,
    "start_time": "2023-02-20T05:39:46.900Z"
   },
   {
    "duration": 130,
    "start_time": "2023-02-20T05:39:47.489Z"
   },
   {
    "duration": 135,
    "start_time": "2023-02-20T05:39:47.620Z"
   },
   {
    "duration": 128,
    "start_time": "2023-02-20T05:39:47.757Z"
   },
   {
    "duration": 17,
    "start_time": "2023-02-20T05:39:47.887Z"
   },
   {
    "duration": 15,
    "start_time": "2023-02-20T05:39:47.906Z"
   },
   {
    "duration": 101,
    "start_time": "2023-02-20T05:40:27.017Z"
   },
   {
    "duration": 16,
    "start_time": "2023-02-20T05:50:11.334Z"
   },
   {
    "duration": 12,
    "start_time": "2023-02-20T05:50:25.694Z"
   },
   {
    "duration": 33,
    "start_time": "2023-02-20T05:53:36.857Z"
   },
   {
    "duration": 18,
    "start_time": "2023-02-20T05:55:24.208Z"
   },
   {
    "duration": 20,
    "start_time": "2023-02-20T06:01:11.289Z"
   },
   {
    "duration": 18,
    "start_time": "2023-02-20T06:01:15.066Z"
   },
   {
    "duration": 41,
    "start_time": "2023-02-20T06:01:35.165Z"
   },
   {
    "duration": 16,
    "start_time": "2023-02-20T06:01:42.601Z"
   },
   {
    "duration": 1000,
    "start_time": "2023-02-20T06:08:40.164Z"
   },
   {
    "duration": 1193,
    "start_time": "2023-02-20T06:08:48.125Z"
   },
   {
    "duration": 50,
    "start_time": "2023-02-20T06:08:49.320Z"
   },
   {
    "duration": 27,
    "start_time": "2023-02-20T06:08:49.372Z"
   },
   {
    "duration": 16,
    "start_time": "2023-02-20T06:08:49.401Z"
   },
   {
    "duration": 14,
    "start_time": "2023-02-20T06:08:49.419Z"
   },
   {
    "duration": 27,
    "start_time": "2023-02-20T06:08:49.434Z"
   },
   {
    "duration": 18,
    "start_time": "2023-02-20T06:08:49.463Z"
   },
   {
    "duration": 5,
    "start_time": "2023-02-20T06:08:49.483Z"
   },
   {
    "duration": 4,
    "start_time": "2023-02-20T06:08:49.499Z"
   },
   {
    "duration": 11,
    "start_time": "2023-02-20T06:08:49.506Z"
   },
   {
    "duration": 13,
    "start_time": "2023-02-20T06:08:49.518Z"
   },
   {
    "duration": 8,
    "start_time": "2023-02-20T06:08:49.533Z"
   },
   {
    "duration": 85,
    "start_time": "2023-02-20T06:08:49.543Z"
   },
   {
    "duration": 125,
    "start_time": "2023-02-20T06:08:49.630Z"
   },
   {
    "duration": 124,
    "start_time": "2023-02-20T06:08:49.758Z"
   },
   {
    "duration": 17,
    "start_time": "2023-02-20T06:08:49.884Z"
   },
   {
    "duration": 385,
    "start_time": "2023-02-20T06:08:49.903Z"
   },
   {
    "duration": 387,
    "start_time": "2023-02-20T06:08:50.290Z"
   },
   {
    "duration": 367,
    "start_time": "2023-02-20T06:08:50.679Z"
   },
   {
    "duration": 5,
    "start_time": "2023-02-20T06:08:51.048Z"
   },
   {
    "duration": 15,
    "start_time": "2023-02-20T06:08:51.054Z"
   },
   {
    "duration": 34,
    "start_time": "2023-02-20T06:08:51.071Z"
   },
   {
    "duration": 22,
    "start_time": "2023-02-20T06:08:51.107Z"
   },
   {
    "duration": 17,
    "start_time": "2023-02-20T06:08:51.131Z"
   },
   {
    "duration": 1050,
    "start_time": "2023-02-20T06:08:51.149Z"
   },
   {
    "duration": 6,
    "start_time": "2023-02-20T06:08:52.200Z"
   },
   {
    "duration": 21,
    "start_time": "2023-02-20T06:08:52.208Z"
   },
   {
    "duration": 353,
    "start_time": "2023-02-20T06:08:52.234Z"
   },
   {
    "duration": 23,
    "start_time": "2023-02-20T06:08:52.589Z"
   },
   {
    "duration": 3,
    "start_time": "2023-02-20T06:08:52.613Z"
   },
   {
    "duration": 761,
    "start_time": "2023-02-20T06:08:52.617Z"
   },
   {
    "duration": 6,
    "start_time": "2023-02-20T06:08:53.379Z"
   },
   {
    "duration": 124,
    "start_time": "2023-02-20T06:08:53.387Z"
   },
   {
    "duration": 3,
    "start_time": "2023-02-20T06:08:53.512Z"
   },
   {
    "duration": 1288,
    "start_time": "2023-02-20T06:08:53.517Z"
   },
   {
    "duration": 276,
    "start_time": "2023-02-20T06:08:54.807Z"
   },
   {
    "duration": 6,
    "start_time": "2023-02-20T06:08:55.085Z"
   },
   {
    "duration": 253,
    "start_time": "2023-02-20T06:08:55.099Z"
   },
   {
    "duration": 148,
    "start_time": "2023-02-20T06:08:55.354Z"
   },
   {
    "duration": 142,
    "start_time": "2023-02-20T06:08:55.503Z"
   },
   {
    "duration": 145,
    "start_time": "2023-02-20T06:08:55.647Z"
   },
   {
    "duration": 8,
    "start_time": "2023-02-20T06:08:55.793Z"
   },
   {
    "duration": 7,
    "start_time": "2023-02-20T06:08:55.802Z"
   },
   {
    "duration": 127,
    "start_time": "2023-02-20T06:08:55.811Z"
   },
   {
    "duration": 150,
    "start_time": "2023-02-20T06:08:55.940Z"
   },
   {
    "duration": 141,
    "start_time": "2023-02-20T06:08:56.098Z"
   },
   {
    "duration": 169,
    "start_time": "2023-02-20T06:08:56.241Z"
   },
   {
    "duration": 5,
    "start_time": "2023-02-20T06:08:56.412Z"
   },
   {
    "duration": 185,
    "start_time": "2023-02-20T06:08:56.419Z"
   },
   {
    "duration": 180,
    "start_time": "2023-02-20T06:08:56.605Z"
   },
   {
    "duration": 494,
    "start_time": "2023-02-20T06:08:56.786Z"
   },
   {
    "duration": 21,
    "start_time": "2023-02-20T06:08:57.281Z"
   },
   {
    "duration": 22,
    "start_time": "2023-02-20T06:08:57.304Z"
   },
   {
    "duration": 23,
    "start_time": "2023-02-20T06:08:57.328Z"
   },
   {
    "duration": 3,
    "start_time": "2023-02-20T06:08:57.352Z"
   },
   {
    "duration": 609,
    "start_time": "2023-02-20T06:08:57.356Z"
   },
   {
    "duration": 114,
    "start_time": "2023-02-20T06:08:57.966Z"
   },
   {
    "duration": 128,
    "start_time": "2023-02-20T06:08:58.082Z"
   },
   {
    "duration": 120,
    "start_time": "2023-02-20T06:08:58.212Z"
   },
   {
    "duration": 9,
    "start_time": "2023-02-20T06:08:58.334Z"
   },
   {
    "duration": 10,
    "start_time": "2023-02-20T06:08:58.344Z"
   },
   {
    "duration": 833,
    "start_time": "2023-02-20T06:10:10.287Z"
   },
   {
    "duration": 896,
    "start_time": "2023-02-20T06:10:19.372Z"
   },
   {
    "duration": 1068,
    "start_time": "2023-02-20T06:10:29.641Z"
   },
   {
    "duration": 49,
    "start_time": "2023-02-20T06:10:30.711Z"
   },
   {
    "duration": 23,
    "start_time": "2023-02-20T06:10:30.762Z"
   },
   {
    "duration": 14,
    "start_time": "2023-02-20T06:10:30.788Z"
   },
   {
    "duration": 15,
    "start_time": "2023-02-20T06:10:30.804Z"
   },
   {
    "duration": 40,
    "start_time": "2023-02-20T06:10:30.820Z"
   },
   {
    "duration": 27,
    "start_time": "2023-02-20T06:10:30.862Z"
   },
   {
    "duration": 11,
    "start_time": "2023-02-20T06:10:30.890Z"
   },
   {
    "duration": 44,
    "start_time": "2023-02-20T06:10:30.903Z"
   },
   {
    "duration": 24,
    "start_time": "2023-02-20T06:10:30.949Z"
   },
   {
    "duration": 27,
    "start_time": "2023-02-20T06:10:30.975Z"
   },
   {
    "duration": 50,
    "start_time": "2023-02-20T06:10:31.005Z"
   },
   {
    "duration": 99,
    "start_time": "2023-02-20T06:10:31.057Z"
   },
   {
    "duration": 95,
    "start_time": "2023-02-20T06:10:31.158Z"
   },
   {
    "duration": 104,
    "start_time": "2023-02-20T06:10:31.254Z"
   },
   {
    "duration": 9,
    "start_time": "2023-02-20T06:10:31.359Z"
   },
   {
    "duration": 333,
    "start_time": "2023-02-20T06:10:31.369Z"
   },
   {
    "duration": 306,
    "start_time": "2023-02-20T06:10:31.704Z"
   },
   {
    "duration": 296,
    "start_time": "2023-02-20T06:10:32.011Z"
   },
   {
    "duration": 4,
    "start_time": "2023-02-20T06:10:32.309Z"
   },
   {
    "duration": 11,
    "start_time": "2023-02-20T06:10:32.315Z"
   },
   {
    "duration": 25,
    "start_time": "2023-02-20T06:10:32.328Z"
   },
   {
    "duration": 20,
    "start_time": "2023-02-20T06:10:32.355Z"
   },
   {
    "duration": 33,
    "start_time": "2023-02-20T06:10:32.377Z"
   },
   {
    "duration": 792,
    "start_time": "2023-02-20T06:10:32.412Z"
   },
   {
    "duration": 6,
    "start_time": "2023-02-20T06:10:33.206Z"
   },
   {
    "duration": 27,
    "start_time": "2023-02-20T06:10:33.213Z"
   },
   {
    "duration": 334,
    "start_time": "2023-02-20T06:10:33.244Z"
   },
   {
    "duration": 25,
    "start_time": "2023-02-20T06:10:33.579Z"
   },
   {
    "duration": 3,
    "start_time": "2023-02-20T06:10:33.605Z"
   },
   {
    "duration": 943,
    "start_time": "2023-02-20T06:10:33.609Z"
   },
   {
    "duration": 6,
    "start_time": "2023-02-20T06:10:34.554Z"
   },
   {
    "duration": 27,
    "start_time": "2023-02-20T06:10:34.562Z"
   },
   {
    "duration": 9,
    "start_time": "2023-02-20T06:10:34.591Z"
   },
   {
    "duration": 1310,
    "start_time": "2023-02-20T06:10:34.602Z"
   },
   {
    "duration": 285,
    "start_time": "2023-02-20T06:10:35.914Z"
   },
   {
    "duration": 5,
    "start_time": "2023-02-20T06:10:36.201Z"
   },
   {
    "duration": 163,
    "start_time": "2023-02-20T06:10:36.207Z"
   },
   {
    "duration": 257,
    "start_time": "2023-02-20T06:10:36.372Z"
   },
   {
    "duration": 160,
    "start_time": "2023-02-20T06:10:36.631Z"
   },
   {
    "duration": 149,
    "start_time": "2023-02-20T06:10:36.799Z"
   },
   {
    "duration": 5,
    "start_time": "2023-02-20T06:10:36.950Z"
   },
   {
    "duration": 7,
    "start_time": "2023-02-20T06:10:36.957Z"
   },
   {
    "duration": 135,
    "start_time": "2023-02-20T06:10:36.965Z"
   },
   {
    "duration": 162,
    "start_time": "2023-02-20T06:10:37.102Z"
   },
   {
    "duration": 151,
    "start_time": "2023-02-20T06:10:37.266Z"
   },
   {
    "duration": 168,
    "start_time": "2023-02-20T06:10:37.418Z"
   },
   {
    "duration": 12,
    "start_time": "2023-02-20T06:10:37.587Z"
   },
   {
    "duration": 181,
    "start_time": "2023-02-20T06:10:37.601Z"
   },
   {
    "duration": 174,
    "start_time": "2023-02-20T06:10:37.784Z"
   },
   {
    "duration": 485,
    "start_time": "2023-02-20T06:10:37.960Z"
   },
   {
    "duration": 15,
    "start_time": "2023-02-20T06:10:38.447Z"
   },
   {
    "duration": 15,
    "start_time": "2023-02-20T06:10:38.464Z"
   },
   {
    "duration": 15,
    "start_time": "2023-02-20T06:10:38.499Z"
   },
   {
    "duration": 3,
    "start_time": "2023-02-20T06:10:38.516Z"
   },
   {
    "duration": 630,
    "start_time": "2023-02-20T06:10:38.520Z"
   },
   {
    "duration": 122,
    "start_time": "2023-02-20T06:10:39.152Z"
   },
   {
    "duration": 124,
    "start_time": "2023-02-20T06:10:39.276Z"
   },
   {
    "duration": 116,
    "start_time": "2023-02-20T06:10:39.402Z"
   },
   {
    "duration": 9,
    "start_time": "2023-02-20T06:10:39.519Z"
   },
   {
    "duration": 36,
    "start_time": "2023-02-20T06:10:39.530Z"
   },
   {
    "duration": 1464,
    "start_time": "2023-02-20T11:08:58.226Z"
   },
   {
    "duration": 222,
    "start_time": "2023-02-20T11:08:59.692Z"
   },
   {
    "duration": 37,
    "start_time": "2023-02-20T11:08:59.915Z"
   },
   {
    "duration": 19,
    "start_time": "2023-02-20T11:08:59.954Z"
   },
   {
    "duration": 5,
    "start_time": "2023-02-20T11:08:59.975Z"
   },
   {
    "duration": 30,
    "start_time": "2023-02-20T11:08:59.981Z"
   },
   {
    "duration": 41,
    "start_time": "2023-02-20T11:09:00.013Z"
   },
   {
    "duration": 18,
    "start_time": "2023-02-20T11:09:00.058Z"
   },
   {
    "duration": 21,
    "start_time": "2023-02-20T11:09:00.078Z"
   },
   {
    "duration": 22,
    "start_time": "2023-02-20T11:09:00.102Z"
   },
   {
    "duration": 35,
    "start_time": "2023-02-20T11:09:00.126Z"
   },
   {
    "duration": 18,
    "start_time": "2023-02-20T11:09:00.163Z"
   },
   {
    "duration": 86,
    "start_time": "2023-02-20T11:09:00.183Z"
   },
   {
    "duration": 116,
    "start_time": "2023-02-20T11:09:00.271Z"
   },
   {
    "duration": 123,
    "start_time": "2023-02-20T11:09:00.389Z"
   },
   {
    "duration": 9,
    "start_time": "2023-02-20T11:09:00.515Z"
   },
   {
    "duration": 416,
    "start_time": "2023-02-20T11:09:00.539Z"
   },
   {
    "duration": 347,
    "start_time": "2023-02-20T11:09:00.957Z"
   },
   {
    "duration": 373,
    "start_time": "2023-02-20T11:09:01.306Z"
   },
   {
    "duration": 5,
    "start_time": "2023-02-20T11:09:01.681Z"
   },
   {
    "duration": 66,
    "start_time": "2023-02-20T11:09:01.688Z"
   },
   {
    "duration": 35,
    "start_time": "2023-02-20T11:09:01.756Z"
   },
   {
    "duration": 42,
    "start_time": "2023-02-20T11:09:01.794Z"
   },
   {
    "duration": 58,
    "start_time": "2023-02-20T11:09:01.837Z"
   },
   {
    "duration": 991,
    "start_time": "2023-02-20T11:09:01.897Z"
   },
   {
    "duration": 6,
    "start_time": "2023-02-20T11:09:02.890Z"
   },
   {
    "duration": 39,
    "start_time": "2023-02-20T11:09:02.898Z"
   },
   {
    "duration": 365,
    "start_time": "2023-02-20T11:09:02.942Z"
   },
   {
    "duration": 16,
    "start_time": "2023-02-20T11:09:03.309Z"
   },
   {
    "duration": 18,
    "start_time": "2023-02-20T11:09:03.326Z"
   },
   {
    "duration": 894,
    "start_time": "2023-02-20T11:09:03.346Z"
   },
   {
    "duration": 10,
    "start_time": "2023-02-20T11:09:04.245Z"
   },
   {
    "duration": 13,
    "start_time": "2023-02-20T11:09:04.256Z"
   },
   {
    "duration": 27,
    "start_time": "2023-02-20T11:09:04.271Z"
   },
   {
    "duration": 4,
    "start_time": "2023-02-20T11:09:04.300Z"
   },
   {
    "duration": 1552,
    "start_time": "2023-02-20T11:09:04.306Z"
   },
   {
    "duration": 332,
    "start_time": "2023-02-20T11:09:05.860Z"
   },
   {
    "duration": 5,
    "start_time": "2023-02-20T11:09:06.194Z"
   },
   {
    "duration": 204,
    "start_time": "2023-02-20T11:09:06.201Z"
   },
   {
    "duration": 306,
    "start_time": "2023-02-20T11:09:06.407Z"
   },
   {
    "duration": 179,
    "start_time": "2023-02-20T11:09:06.715Z"
   },
   {
    "duration": 184,
    "start_time": "2023-02-20T11:09:06.896Z"
   },
   {
    "duration": 5,
    "start_time": "2023-02-20T11:09:07.082Z"
   },
   {
    "duration": 17,
    "start_time": "2023-02-20T11:09:07.088Z"
   },
   {
    "duration": 174,
    "start_time": "2023-02-20T11:09:07.107Z"
   },
   {
    "duration": 223,
    "start_time": "2023-02-20T11:09:07.283Z"
   },
   {
    "duration": 190,
    "start_time": "2023-02-20T11:09:07.508Z"
   },
   {
    "duration": 194,
    "start_time": "2023-02-20T11:09:07.700Z"
   },
   {
    "duration": 6,
    "start_time": "2023-02-20T11:09:07.896Z"
   },
   {
    "duration": 240,
    "start_time": "2023-02-20T11:09:07.904Z"
   },
   {
    "duration": 215,
    "start_time": "2023-02-20T11:09:08.147Z"
   },
   {
    "duration": 585,
    "start_time": "2023-02-20T11:09:08.365Z"
   },
   {
    "duration": 17,
    "start_time": "2023-02-20T11:09:08.955Z"
   },
   {
    "duration": 54,
    "start_time": "2023-02-20T11:09:08.974Z"
   },
   {
    "duration": 43,
    "start_time": "2023-02-20T11:09:09.029Z"
   },
   {
    "duration": 18,
    "start_time": "2023-02-20T11:09:09.074Z"
   },
   {
    "duration": 775,
    "start_time": "2023-02-20T11:09:09.094Z"
   },
   {
    "duration": 141,
    "start_time": "2023-02-20T11:09:09.871Z"
   },
   {
    "duration": 155,
    "start_time": "2023-02-20T11:09:10.014Z"
   },
   {
    "duration": 141,
    "start_time": "2023-02-20T11:09:10.170Z"
   },
   {
    "duration": 10,
    "start_time": "2023-02-20T11:09:10.313Z"
   },
   {
    "duration": 39,
    "start_time": "2023-02-20T11:09:10.325Z"
   },
   {
    "duration": 8,
    "start_time": "2023-02-20T11:09:20.404Z"
   },
   {
    "duration": 133,
    "start_time": "2023-02-20T11:10:11.954Z"
   },
   {
    "duration": 13,
    "start_time": "2023-02-20T11:10:58.643Z"
   },
   {
    "duration": 33,
    "start_time": "2023-02-20T11:23:14.728Z"
   },
   {
    "duration": 10,
    "start_time": "2023-02-20T11:23:23.023Z"
   },
   {
    "duration": 8,
    "start_time": "2023-02-20T11:23:48.353Z"
   },
   {
    "duration": 6,
    "start_time": "2023-02-20T11:24:32.114Z"
   },
   {
    "duration": 6,
    "start_time": "2023-02-20T11:25:00.071Z"
   },
   {
    "duration": 96,
    "start_time": "2023-02-20T11:25:35.421Z"
   },
   {
    "duration": 89,
    "start_time": "2023-02-20T11:25:50.263Z"
   },
   {
    "duration": 10,
    "start_time": "2023-02-20T11:26:28.487Z"
   },
   {
    "duration": 5,
    "start_time": "2023-02-20T11:27:27.024Z"
   },
   {
    "duration": 73,
    "start_time": "2023-02-20T11:52:24.829Z"
   },
   {
    "duration": 1333,
    "start_time": "2023-02-20T11:52:42.648Z"
   },
   {
    "duration": 56,
    "start_time": "2023-02-20T11:52:43.983Z"
   },
   {
    "duration": 26,
    "start_time": "2023-02-20T11:52:44.040Z"
   },
   {
    "duration": 28,
    "start_time": "2023-02-20T11:52:44.068Z"
   },
   {
    "duration": 16,
    "start_time": "2023-02-20T11:52:44.101Z"
   },
   {
    "duration": 48,
    "start_time": "2023-02-20T11:52:44.119Z"
   },
   {
    "duration": 34,
    "start_time": "2023-02-20T11:52:44.169Z"
   },
   {
    "duration": 5,
    "start_time": "2023-02-20T11:52:44.204Z"
   },
   {
    "duration": 9,
    "start_time": "2023-02-20T11:52:44.211Z"
   },
   {
    "duration": 13,
    "start_time": "2023-02-20T11:52:44.221Z"
   },
   {
    "duration": 17,
    "start_time": "2023-02-20T11:52:44.236Z"
   },
   {
    "duration": 11,
    "start_time": "2023-02-20T11:52:44.255Z"
   },
   {
    "duration": 79,
    "start_time": "2023-02-20T11:52:44.268Z"
   },
   {
    "duration": 121,
    "start_time": "2023-02-20T11:52:44.350Z"
   },
   {
    "duration": 119,
    "start_time": "2023-02-20T11:52:44.473Z"
   },
   {
    "duration": 9,
    "start_time": "2023-02-20T11:52:44.594Z"
   },
   {
    "duration": 390,
    "start_time": "2023-02-20T11:52:44.605Z"
   },
   {
    "duration": 383,
    "start_time": "2023-02-20T11:52:44.997Z"
   },
   {
    "duration": 359,
    "start_time": "2023-02-20T11:52:45.382Z"
   },
   {
    "duration": 6,
    "start_time": "2023-02-20T11:52:45.743Z"
   },
   {
    "duration": 45,
    "start_time": "2023-02-20T11:52:45.750Z"
   },
   {
    "duration": 52,
    "start_time": "2023-02-20T11:52:45.797Z"
   },
   {
    "duration": 32,
    "start_time": "2023-02-20T11:52:45.851Z"
   },
   {
    "duration": 27,
    "start_time": "2023-02-20T11:52:45.886Z"
   },
   {
    "duration": 53,
    "start_time": "2023-02-20T11:52:45.915Z"
   },
   {
    "duration": 61,
    "start_time": "2023-02-20T11:52:45.971Z"
   },
   {
    "duration": 30,
    "start_time": "2023-02-20T11:52:46.034Z"
   },
   {
    "duration": 94,
    "start_time": "2023-02-20T11:52:46.066Z"
   },
   {
    "duration": 0,
    "start_time": "2023-02-20T11:52:46.162Z"
   },
   {
    "duration": 0,
    "start_time": "2023-02-20T11:52:46.164Z"
   },
   {
    "duration": 0,
    "start_time": "2023-02-20T11:52:46.165Z"
   },
   {
    "duration": 0,
    "start_time": "2023-02-20T11:52:46.166Z"
   },
   {
    "duration": 0,
    "start_time": "2023-02-20T11:52:46.168Z"
   },
   {
    "duration": 0,
    "start_time": "2023-02-20T11:52:46.169Z"
   },
   {
    "duration": 0,
    "start_time": "2023-02-20T11:52:46.170Z"
   },
   {
    "duration": 0,
    "start_time": "2023-02-20T11:52:46.171Z"
   },
   {
    "duration": 0,
    "start_time": "2023-02-20T11:52:46.172Z"
   },
   {
    "duration": 0,
    "start_time": "2023-02-20T11:52:46.173Z"
   },
   {
    "duration": 0,
    "start_time": "2023-02-20T11:52:46.174Z"
   },
   {
    "duration": 0,
    "start_time": "2023-02-20T11:52:46.175Z"
   },
   {
    "duration": 0,
    "start_time": "2023-02-20T11:52:46.176Z"
   },
   {
    "duration": 0,
    "start_time": "2023-02-20T11:52:46.177Z"
   },
   {
    "duration": 0,
    "start_time": "2023-02-20T11:52:46.179Z"
   },
   {
    "duration": 0,
    "start_time": "2023-02-20T11:52:46.180Z"
   },
   {
    "duration": 0,
    "start_time": "2023-02-20T11:52:46.182Z"
   },
   {
    "duration": 0,
    "start_time": "2023-02-20T11:52:46.183Z"
   },
   {
    "duration": 0,
    "start_time": "2023-02-20T11:52:46.184Z"
   },
   {
    "duration": 0,
    "start_time": "2023-02-20T11:52:46.185Z"
   },
   {
    "duration": 0,
    "start_time": "2023-02-20T11:52:46.187Z"
   },
   {
    "duration": 0,
    "start_time": "2023-02-20T11:52:46.188Z"
   },
   {
    "duration": 0,
    "start_time": "2023-02-20T11:52:46.189Z"
   },
   {
    "duration": 0,
    "start_time": "2023-02-20T11:52:46.190Z"
   },
   {
    "duration": 0,
    "start_time": "2023-02-20T11:52:46.192Z"
   },
   {
    "duration": 0,
    "start_time": "2023-02-20T11:52:46.193Z"
   },
   {
    "duration": 0,
    "start_time": "2023-02-20T11:52:46.194Z"
   },
   {
    "duration": 0,
    "start_time": "2023-02-20T11:52:46.195Z"
   },
   {
    "duration": 0,
    "start_time": "2023-02-20T11:52:46.196Z"
   },
   {
    "duration": 0,
    "start_time": "2023-02-20T11:52:46.198Z"
   },
   {
    "duration": 0,
    "start_time": "2023-02-20T11:52:46.239Z"
   },
   {
    "duration": 0,
    "start_time": "2023-02-20T11:52:46.240Z"
   },
   {
    "duration": 0,
    "start_time": "2023-02-20T11:52:46.242Z"
   },
   {
    "duration": 0,
    "start_time": "2023-02-20T11:52:46.243Z"
   },
   {
    "duration": 0,
    "start_time": "2023-02-20T11:52:46.245Z"
   },
   {
    "duration": 0,
    "start_time": "2023-02-20T11:52:46.246Z"
   },
   {
    "duration": 0,
    "start_time": "2023-02-20T11:52:46.247Z"
   },
   {
    "duration": 0,
    "start_time": "2023-02-20T11:52:46.249Z"
   },
   {
    "duration": 82,
    "start_time": "2023-02-20T11:53:09.068Z"
   },
   {
    "duration": 8,
    "start_time": "2023-02-20T11:53:59.650Z"
   },
   {
    "duration": 8,
    "start_time": "2023-02-20T11:54:23.793Z"
   },
   {
    "duration": 9,
    "start_time": "2023-02-20T11:54:56.119Z"
   },
   {
    "duration": 1378,
    "start_time": "2023-02-20T11:55:07.078Z"
   },
   {
    "duration": 55,
    "start_time": "2023-02-20T11:55:08.458Z"
   },
   {
    "duration": 51,
    "start_time": "2023-02-20T11:55:08.514Z"
   },
   {
    "duration": 40,
    "start_time": "2023-02-20T11:55:08.567Z"
   },
   {
    "duration": 60,
    "start_time": "2023-02-20T11:55:08.610Z"
   },
   {
    "duration": 41,
    "start_time": "2023-02-20T11:55:08.672Z"
   },
   {
    "duration": 40,
    "start_time": "2023-02-20T11:55:08.715Z"
   },
   {
    "duration": 42,
    "start_time": "2023-02-20T11:55:08.757Z"
   },
   {
    "duration": 93,
    "start_time": "2023-02-20T11:55:08.801Z"
   },
   {
    "duration": 57,
    "start_time": "2023-02-20T11:55:08.896Z"
   },
   {
    "duration": 62,
    "start_time": "2023-02-20T11:55:08.955Z"
   },
   {
    "duration": 53,
    "start_time": "2023-02-20T11:55:09.019Z"
   },
   {
    "duration": 115,
    "start_time": "2023-02-20T11:55:09.073Z"
   },
   {
    "duration": 132,
    "start_time": "2023-02-20T11:55:09.191Z"
   },
   {
    "duration": 119,
    "start_time": "2023-02-20T11:55:09.325Z"
   },
   {
    "duration": 18,
    "start_time": "2023-02-20T11:55:09.446Z"
   },
   {
    "duration": 413,
    "start_time": "2023-02-20T11:55:09.466Z"
   },
   {
    "duration": 372,
    "start_time": "2023-02-20T11:55:09.881Z"
   },
   {
    "duration": 365,
    "start_time": "2023-02-20T11:55:10.255Z"
   },
   {
    "duration": 6,
    "start_time": "2023-02-20T11:55:10.622Z"
   },
   {
    "duration": 59,
    "start_time": "2023-02-20T11:55:10.638Z"
   },
   {
    "duration": 49,
    "start_time": "2023-02-20T11:55:10.700Z"
   },
   {
    "duration": 31,
    "start_time": "2023-02-20T11:55:10.751Z"
   },
   {
    "duration": 27,
    "start_time": "2023-02-20T11:55:10.784Z"
   },
   {
    "duration": 108,
    "start_time": "2023-02-20T11:55:10.812Z"
   },
   {
    "duration": 52,
    "start_time": "2023-02-20T11:55:10.922Z"
   },
   {
    "duration": 52,
    "start_time": "2023-02-20T11:55:10.975Z"
   },
   {
    "duration": 59,
    "start_time": "2023-02-20T11:55:11.029Z"
   },
   {
    "duration": 964,
    "start_time": "2023-02-20T11:55:11.090Z"
   },
   {
    "duration": 5,
    "start_time": "2023-02-20T11:55:12.056Z"
   },
   {
    "duration": 67,
    "start_time": "2023-02-20T11:55:12.063Z"
   },
   {
    "duration": 406,
    "start_time": "2023-02-20T11:55:12.131Z"
   },
   {
    "duration": 26,
    "start_time": "2023-02-20T11:55:12.542Z"
   },
   {
    "duration": 57,
    "start_time": "2023-02-20T11:55:12.570Z"
   },
   {
    "duration": 1008,
    "start_time": "2023-02-20T11:55:12.630Z"
   },
   {
    "duration": 7,
    "start_time": "2023-02-20T11:55:13.640Z"
   },
   {
    "duration": 52,
    "start_time": "2023-02-20T11:55:13.649Z"
   },
   {
    "duration": 44,
    "start_time": "2023-02-20T11:55:13.703Z"
   },
   {
    "duration": 47,
    "start_time": "2023-02-20T11:55:13.749Z"
   },
   {
    "duration": 1578,
    "start_time": "2023-02-20T11:55:13.798Z"
   },
   {
    "duration": 325,
    "start_time": "2023-02-20T11:55:15.380Z"
   },
   {
    "duration": 6,
    "start_time": "2023-02-20T11:55:15.707Z"
   },
   {
    "duration": 230,
    "start_time": "2023-02-20T11:55:15.715Z"
   },
   {
    "duration": 269,
    "start_time": "2023-02-20T11:55:15.946Z"
   },
   {
    "duration": 165,
    "start_time": "2023-02-20T11:55:16.217Z"
   },
   {
    "duration": 169,
    "start_time": "2023-02-20T11:55:16.384Z"
   },
   {
    "duration": 5,
    "start_time": "2023-02-20T11:55:16.554Z"
   },
   {
    "duration": 32,
    "start_time": "2023-02-20T11:55:16.560Z"
   },
   {
    "duration": 165,
    "start_time": "2023-02-20T11:55:16.594Z"
   },
   {
    "duration": 188,
    "start_time": "2023-02-20T11:55:16.761Z"
   },
   {
    "duration": 165,
    "start_time": "2023-02-20T11:55:16.950Z"
   },
   {
    "duration": 183,
    "start_time": "2023-02-20T11:55:17.118Z"
   },
   {
    "duration": 4,
    "start_time": "2023-02-20T11:55:17.303Z"
   },
   {
    "duration": 231,
    "start_time": "2023-02-20T11:55:17.309Z"
   },
   {
    "duration": 211,
    "start_time": "2023-02-20T11:55:17.542Z"
   },
   {
    "duration": 568,
    "start_time": "2023-02-20T11:55:17.756Z"
   },
   {
    "duration": 23,
    "start_time": "2023-02-20T11:55:18.326Z"
   },
   {
    "duration": 57,
    "start_time": "2023-02-20T11:55:18.350Z"
   },
   {
    "duration": 29,
    "start_time": "2023-02-20T11:55:18.408Z"
   },
   {
    "duration": 34,
    "start_time": "2023-02-20T11:55:18.439Z"
   },
   {
    "duration": 802,
    "start_time": "2023-02-20T11:55:18.475Z"
   },
   {
    "duration": 143,
    "start_time": "2023-02-20T11:55:19.278Z"
   },
   {
    "duration": 149,
    "start_time": "2023-02-20T11:55:19.425Z"
   },
   {
    "duration": 135,
    "start_time": "2023-02-20T11:55:19.576Z"
   },
   {
    "duration": 11,
    "start_time": "2023-02-20T11:55:19.713Z"
   },
   {
    "duration": 61,
    "start_time": "2023-02-20T11:55:19.738Z"
   },
   {
    "duration": 3,
    "start_time": "2023-02-20T11:56:23.623Z"
   },
   {
    "duration": 5,
    "start_time": "2023-02-20T11:56:27.426Z"
   },
   {
    "duration": 4,
    "start_time": "2023-02-20T11:56:48.697Z"
   },
   {
    "duration": 10,
    "start_time": "2023-02-20T11:57:10.778Z"
   },
   {
    "duration": 4,
    "start_time": "2023-02-20T11:57:25.177Z"
   },
   {
    "duration": 8,
    "start_time": "2023-02-20T11:57:26.645Z"
   },
   {
    "duration": 10,
    "start_time": "2023-02-20T11:58:33.939Z"
   },
   {
    "duration": 412,
    "start_time": "2023-02-20T12:15:28.040Z"
   },
   {
    "duration": 297,
    "start_time": "2023-02-20T12:17:25.940Z"
   },
   {
    "duration": 296,
    "start_time": "2023-02-20T12:17:37.184Z"
   },
   {
    "duration": 409,
    "start_time": "2023-02-20T12:17:46.184Z"
   },
   {
    "duration": 303,
    "start_time": "2023-02-20T12:17:54.176Z"
   },
   {
    "duration": 313,
    "start_time": "2023-02-20T12:18:25.498Z"
   },
   {
    "duration": 306,
    "start_time": "2023-02-20T12:20:47.643Z"
   },
   {
    "duration": 421,
    "start_time": "2023-02-20T14:04:32.918Z"
   },
   {
    "duration": 308,
    "start_time": "2023-02-20T14:05:18.903Z"
   },
   {
    "duration": 299,
    "start_time": "2023-02-20T14:05:41.170Z"
   },
   {
    "duration": 119,
    "start_time": "2023-02-20T14:06:42.473Z"
   },
   {
    "duration": 40,
    "start_time": "2023-02-20T14:07:02.540Z"
   },
   {
    "duration": 314,
    "start_time": "2023-02-20T14:19:56.226Z"
   },
   {
    "duration": 182,
    "start_time": "2023-02-20T14:22:05.656Z"
   },
   {
    "duration": 1232,
    "start_time": "2023-02-20T14:22:17.643Z"
   },
   {
    "duration": 55,
    "start_time": "2023-02-20T14:22:18.878Z"
   },
   {
    "duration": 26,
    "start_time": "2023-02-20T14:22:18.935Z"
   },
   {
    "duration": 17,
    "start_time": "2023-02-20T14:22:18.964Z"
   },
   {
    "duration": 16,
    "start_time": "2023-02-20T14:22:18.983Z"
   },
   {
    "duration": 38,
    "start_time": "2023-02-20T14:22:19.001Z"
   },
   {
    "duration": 20,
    "start_time": "2023-02-20T14:22:19.041Z"
   },
   {
    "duration": 9,
    "start_time": "2023-02-20T14:22:19.063Z"
   },
   {
    "duration": 8,
    "start_time": "2023-02-20T14:22:19.074Z"
   },
   {
    "duration": 15,
    "start_time": "2023-02-20T14:22:19.084Z"
   },
   {
    "duration": 15,
    "start_time": "2023-02-20T14:22:19.100Z"
   },
   {
    "duration": 24,
    "start_time": "2023-02-20T14:22:19.116Z"
   },
   {
    "duration": 57,
    "start_time": "2023-02-20T14:22:19.142Z"
   },
   {
    "duration": 131,
    "start_time": "2023-02-20T14:22:19.201Z"
   },
   {
    "duration": 122,
    "start_time": "2023-02-20T14:22:19.338Z"
   },
   {
    "duration": 9,
    "start_time": "2023-02-20T14:22:19.462Z"
   },
   {
    "duration": 377,
    "start_time": "2023-02-20T14:22:19.472Z"
   },
   {
    "duration": 368,
    "start_time": "2023-02-20T14:22:19.851Z"
   },
   {
    "duration": 356,
    "start_time": "2023-02-20T14:22:20.221Z"
   },
   {
    "duration": 5,
    "start_time": "2023-02-20T14:22:20.579Z"
   },
   {
    "duration": 38,
    "start_time": "2023-02-20T14:22:20.586Z"
   },
   {
    "duration": 36,
    "start_time": "2023-02-20T14:22:20.626Z"
   },
   {
    "duration": 9,
    "start_time": "2023-02-20T14:22:20.665Z"
   },
   {
    "duration": 19,
    "start_time": "2023-02-20T14:22:20.676Z"
   },
   {
    "duration": 30,
    "start_time": "2023-02-20T14:22:20.697Z"
   },
   {
    "duration": 36,
    "start_time": "2023-02-20T14:22:20.729Z"
   },
   {
    "duration": 33,
    "start_time": "2023-02-20T14:22:20.767Z"
   },
   {
    "duration": 17,
    "start_time": "2023-02-20T14:22:20.804Z"
   },
   {
    "duration": 905,
    "start_time": "2023-02-20T14:22:20.822Z"
   },
   {
    "duration": 11,
    "start_time": "2023-02-20T14:22:21.729Z"
   },
   {
    "duration": 51,
    "start_time": "2023-02-20T14:22:21.742Z"
   },
   {
    "duration": 389,
    "start_time": "2023-02-20T14:22:21.795Z"
   },
   {
    "duration": 18,
    "start_time": "2023-02-20T14:22:22.186Z"
   },
   {
    "duration": 4,
    "start_time": "2023-02-20T14:22:22.206Z"
   },
   {
    "duration": 979,
    "start_time": "2023-02-20T14:22:22.212Z"
   },
   {
    "duration": 6,
    "start_time": "2023-02-20T14:22:23.193Z"
   },
   {
    "duration": 48,
    "start_time": "2023-02-20T14:22:23.201Z"
   },
   {
    "duration": 3,
    "start_time": "2023-02-20T14:22:23.251Z"
   },
   {
    "duration": 1548,
    "start_time": "2023-02-20T14:22:23.255Z"
   },
   {
    "duration": 314,
    "start_time": "2023-02-20T14:22:24.804Z"
   },
   {
    "duration": 55,
    "start_time": "2023-02-20T14:22:25.120Z"
   },
   {
    "duration": 444,
    "start_time": "2023-02-20T14:22:25.177Z"
   },
   {
    "duration": 6,
    "start_time": "2023-02-20T14:22:25.623Z"
   },
   {
    "duration": 180,
    "start_time": "2023-02-20T14:22:25.638Z"
   },
   {
    "duration": 156,
    "start_time": "2023-02-20T14:22:25.820Z"
   },
   {
    "duration": 162,
    "start_time": "2023-02-20T14:22:25.978Z"
   },
   {
    "duration": 166,
    "start_time": "2023-02-20T14:22:26.142Z"
   },
   {
    "duration": 5,
    "start_time": "2023-02-20T14:22:26.310Z"
   },
   {
    "duration": 18,
    "start_time": "2023-02-20T14:22:26.316Z"
   },
   {
    "duration": 142,
    "start_time": "2023-02-20T14:22:26.338Z"
   },
   {
    "duration": 182,
    "start_time": "2023-02-20T14:22:26.482Z"
   },
   {
    "duration": 159,
    "start_time": "2023-02-20T14:22:26.666Z"
   },
   {
    "duration": 170,
    "start_time": "2023-02-20T14:22:26.838Z"
   },
   {
    "duration": 5,
    "start_time": "2023-02-20T14:22:27.010Z"
   },
   {
    "duration": 203,
    "start_time": "2023-02-20T14:22:27.017Z"
   },
   {
    "duration": 200,
    "start_time": "2023-02-20T14:22:27.223Z"
   },
   {
    "duration": 543,
    "start_time": "2023-02-20T14:22:27.425Z"
   },
   {
    "duration": 14,
    "start_time": "2023-02-20T14:22:27.970Z"
   },
   {
    "duration": 16,
    "start_time": "2023-02-20T14:22:27.986Z"
   },
   {
    "duration": 38,
    "start_time": "2023-02-20T14:22:28.004Z"
   },
   {
    "duration": 4,
    "start_time": "2023-02-20T14:22:28.044Z"
   },
   {
    "duration": 718,
    "start_time": "2023-02-20T14:22:28.050Z"
   },
   {
    "duration": 128,
    "start_time": "2023-02-20T14:22:28.770Z"
   },
   {
    "duration": 139,
    "start_time": "2023-02-20T14:22:28.900Z"
   },
   {
    "duration": 133,
    "start_time": "2023-02-20T14:22:29.041Z"
   },
   {
    "duration": 9,
    "start_time": "2023-02-20T14:22:29.176Z"
   },
   {
    "duration": 74,
    "start_time": "2023-02-20T14:22:29.186Z"
   },
   {
    "duration": 333,
    "start_time": "2023-02-20T14:26:35.656Z"
   },
   {
    "duration": 189,
    "start_time": "2023-02-20T14:27:25.726Z"
   },
   {
    "duration": 122,
    "start_time": "2023-02-20T14:28:15.256Z"
   },
   {
    "duration": 71,
    "start_time": "2023-02-20T14:30:01.011Z"
   },
   {
    "duration": 85,
    "start_time": "2023-02-20T14:30:27.642Z"
   },
   {
    "duration": 201,
    "start_time": "2023-02-20T14:30:37.451Z"
   },
   {
    "duration": 523,
    "start_time": "2023-02-20T14:31:28.887Z"
   },
   {
    "duration": 201,
    "start_time": "2023-02-20T15:12:46.095Z"
   },
   {
    "duration": 684,
    "start_time": "2023-02-20T15:13:25.801Z"
   },
   {
    "duration": 1147,
    "start_time": "2023-02-20T15:13:47.499Z"
   },
   {
    "duration": 53,
    "start_time": "2023-02-20T15:13:48.648Z"
   },
   {
    "duration": 23,
    "start_time": "2023-02-20T15:13:48.703Z"
   },
   {
    "duration": 14,
    "start_time": "2023-02-20T15:13:48.728Z"
   },
   {
    "duration": 4,
    "start_time": "2023-02-20T15:13:48.744Z"
   },
   {
    "duration": 27,
    "start_time": "2023-02-20T15:13:48.750Z"
   },
   {
    "duration": 17,
    "start_time": "2023-02-20T15:13:48.778Z"
   },
   {
    "duration": 5,
    "start_time": "2023-02-20T15:13:48.796Z"
   },
   {
    "duration": 8,
    "start_time": "2023-02-20T15:13:48.802Z"
   },
   {
    "duration": 26,
    "start_time": "2023-02-20T15:13:48.812Z"
   },
   {
    "duration": 13,
    "start_time": "2023-02-20T15:13:48.839Z"
   },
   {
    "duration": 9,
    "start_time": "2023-02-20T15:13:48.854Z"
   },
   {
    "duration": 55,
    "start_time": "2023-02-20T15:13:48.864Z"
   },
   {
    "duration": 121,
    "start_time": "2023-02-20T15:13:48.921Z"
   },
   {
    "duration": 106,
    "start_time": "2023-02-20T15:13:49.043Z"
   },
   {
    "duration": 9,
    "start_time": "2023-02-20T15:13:49.151Z"
   },
   {
    "duration": 355,
    "start_time": "2023-02-20T15:13:49.162Z"
   },
   {
    "duration": 321,
    "start_time": "2023-02-20T15:13:49.519Z"
   },
   {
    "duration": 325,
    "start_time": "2023-02-20T15:13:49.842Z"
   },
   {
    "duration": 5,
    "start_time": "2023-02-20T15:13:50.169Z"
   },
   {
    "duration": 11,
    "start_time": "2023-02-20T15:13:50.176Z"
   },
   {
    "duration": 21,
    "start_time": "2023-02-20T15:13:50.189Z"
   },
   {
    "duration": 29,
    "start_time": "2023-02-20T15:13:50.212Z"
   },
   {
    "duration": 9,
    "start_time": "2023-02-20T15:13:50.243Z"
   },
   {
    "duration": 5,
    "start_time": "2023-02-20T15:13:50.254Z"
   },
   {
    "duration": 10,
    "start_time": "2023-02-20T15:13:50.260Z"
   },
   {
    "duration": 7,
    "start_time": "2023-02-20T15:13:50.271Z"
   },
   {
    "duration": 11,
    "start_time": "2023-02-20T15:13:50.281Z"
   },
   {
    "duration": 861,
    "start_time": "2023-02-20T15:13:50.294Z"
   },
   {
    "duration": 5,
    "start_time": "2023-02-20T15:13:51.157Z"
   },
   {
    "duration": 36,
    "start_time": "2023-02-20T15:13:51.164Z"
   },
   {
    "duration": 382,
    "start_time": "2023-02-20T15:13:51.202Z"
   },
   {
    "duration": 17,
    "start_time": "2023-02-20T15:13:51.586Z"
   },
   {
    "duration": 6,
    "start_time": "2023-02-20T15:13:51.604Z"
   },
   {
    "duration": 903,
    "start_time": "2023-02-20T15:13:51.611Z"
   },
   {
    "duration": 22,
    "start_time": "2023-02-20T15:13:52.516Z"
   },
   {
    "duration": 31,
    "start_time": "2023-02-20T15:13:52.540Z"
   },
   {
    "duration": 6,
    "start_time": "2023-02-20T15:13:52.573Z"
   },
   {
    "duration": 1503,
    "start_time": "2023-02-20T15:13:52.581Z"
   },
   {
    "duration": 313,
    "start_time": "2023-02-20T15:13:54.085Z"
   },
   {
    "duration": 48,
    "start_time": "2023-02-20T15:13:54.400Z"
   },
   {
    "duration": 414,
    "start_time": "2023-02-20T15:13:54.450Z"
   },
   {
    "duration": 5,
    "start_time": "2023-02-20T15:13:54.866Z"
   },
   {
    "duration": 180,
    "start_time": "2023-02-20T15:13:54.873Z"
   },
   {
    "duration": 167,
    "start_time": "2023-02-20T15:13:55.055Z"
   },
   {
    "duration": 182,
    "start_time": "2023-02-20T15:13:55.224Z"
   },
   {
    "duration": 178,
    "start_time": "2023-02-20T15:13:55.408Z"
   },
   {
    "duration": 5,
    "start_time": "2023-02-20T15:13:55.588Z"
   },
   {
    "duration": 13,
    "start_time": "2023-02-20T15:13:55.595Z"
   },
   {
    "duration": 153,
    "start_time": "2023-02-20T15:13:55.610Z"
   },
   {
    "duration": 175,
    "start_time": "2023-02-20T15:13:55.765Z"
   },
   {
    "duration": 167,
    "start_time": "2023-02-20T15:13:55.942Z"
   },
   {
    "duration": 188,
    "start_time": "2023-02-20T15:13:56.111Z"
   },
   {
    "duration": 5,
    "start_time": "2023-02-20T15:13:56.301Z"
   },
   {
    "duration": 207,
    "start_time": "2023-02-20T15:13:56.308Z"
   },
   {
    "duration": 509,
    "start_time": "2023-02-20T15:13:56.517Z"
   },
   {
    "duration": 19,
    "start_time": "2023-02-20T15:13:57.027Z"
   },
   {
    "duration": 18,
    "start_time": "2023-02-20T15:13:57.048Z"
   },
   {
    "duration": 39,
    "start_time": "2023-02-20T15:13:57.067Z"
   },
   {
    "duration": 7,
    "start_time": "2023-02-20T15:13:57.108Z"
   },
   {
    "duration": 683,
    "start_time": "2023-02-20T15:13:57.117Z"
   },
   {
    "duration": 126,
    "start_time": "2023-02-20T15:13:57.802Z"
   },
   {
    "duration": 135,
    "start_time": "2023-02-20T15:13:57.930Z"
   },
   {
    "duration": 154,
    "start_time": "2023-02-20T15:13:58.067Z"
   },
   {
    "duration": 16,
    "start_time": "2023-02-20T15:13:58.223Z"
   },
   {
    "duration": 16,
    "start_time": "2023-02-20T15:13:58.241Z"
   },
   {
    "duration": 86,
    "start_time": "2023-02-20T15:15:49.068Z"
   },
   {
    "duration": 5,
    "start_time": "2023-02-20T16:09:34.563Z"
   },
   {
    "duration": 4,
    "start_time": "2023-02-20T16:09:45.561Z"
   },
   {
    "duration": 5,
    "start_time": "2023-02-20T16:09:52.650Z"
   },
   {
    "duration": 99,
    "start_time": "2023-02-20T16:11:11.524Z"
   },
   {
    "duration": 10,
    "start_time": "2023-02-20T16:11:17.285Z"
   },
   {
    "duration": 15,
    "start_time": "2023-02-20T16:12:54.376Z"
   },
   {
    "duration": 21,
    "start_time": "2023-02-20T16:13:07.535Z"
   },
   {
    "duration": 17,
    "start_time": "2023-02-20T16:13:19.684Z"
   },
   {
    "duration": 11,
    "start_time": "2023-02-20T16:13:54.224Z"
   },
   {
    "duration": 11,
    "start_time": "2023-02-20T16:14:16.637Z"
   },
   {
    "duration": 1190,
    "start_time": "2023-02-20T16:20:43.472Z"
   },
   {
    "duration": 54,
    "start_time": "2023-02-20T16:20:44.664Z"
   },
   {
    "duration": 23,
    "start_time": "2023-02-20T16:20:44.720Z"
   },
   {
    "duration": 14,
    "start_time": "2023-02-20T16:20:44.745Z"
   },
   {
    "duration": 3,
    "start_time": "2023-02-20T16:20:44.761Z"
   },
   {
    "duration": 22,
    "start_time": "2023-02-20T16:20:44.765Z"
   },
   {
    "duration": 15,
    "start_time": "2023-02-20T16:20:44.789Z"
   },
   {
    "duration": 5,
    "start_time": "2023-02-20T16:20:44.805Z"
   },
   {
    "duration": 27,
    "start_time": "2023-02-20T16:20:44.811Z"
   },
   {
    "duration": 7,
    "start_time": "2023-02-20T16:20:44.840Z"
   },
   {
    "duration": 16,
    "start_time": "2023-02-20T16:20:44.849Z"
   },
   {
    "duration": 7,
    "start_time": "2023-02-20T16:20:44.867Z"
   },
   {
    "duration": 74,
    "start_time": "2023-02-20T16:20:44.875Z"
   },
   {
    "duration": 103,
    "start_time": "2023-02-20T16:20:44.951Z"
   },
   {
    "duration": 103,
    "start_time": "2023-02-20T16:20:45.055Z"
   },
   {
    "duration": 7,
    "start_time": "2023-02-20T16:20:45.160Z"
   },
   {
    "duration": 342,
    "start_time": "2023-02-20T16:20:45.169Z"
   },
   {
    "duration": 336,
    "start_time": "2023-02-20T16:20:45.513Z"
   },
   {
    "duration": 321,
    "start_time": "2023-02-20T16:20:45.851Z"
   },
   {
    "duration": 5,
    "start_time": "2023-02-20T16:20:46.173Z"
   },
   {
    "duration": 13,
    "start_time": "2023-02-20T16:20:46.179Z"
   },
   {
    "duration": 18,
    "start_time": "2023-02-20T16:20:46.194Z"
   },
   {
    "duration": 29,
    "start_time": "2023-02-20T16:20:46.214Z"
   },
   {
    "duration": 10,
    "start_time": "2023-02-20T16:20:46.245Z"
   },
   {
    "duration": 4,
    "start_time": "2023-02-20T16:20:46.257Z"
   },
   {
    "duration": 9,
    "start_time": "2023-02-20T16:20:46.263Z"
   },
   {
    "duration": 3,
    "start_time": "2023-02-20T16:20:46.274Z"
   },
   {
    "duration": 9,
    "start_time": "2023-02-20T16:20:46.281Z"
   },
   {
    "duration": 846,
    "start_time": "2023-02-20T16:20:46.291Z"
   },
   {
    "duration": 5,
    "start_time": "2023-02-20T16:20:47.139Z"
   },
   {
    "duration": 24,
    "start_time": "2023-02-20T16:20:47.146Z"
   },
   {
    "duration": 335,
    "start_time": "2023-02-20T16:20:47.172Z"
   },
   {
    "duration": 17,
    "start_time": "2023-02-20T16:20:47.509Z"
   },
   {
    "duration": 2,
    "start_time": "2023-02-20T16:20:47.538Z"
   },
   {
    "duration": 857,
    "start_time": "2023-02-20T16:20:47.542Z"
   },
   {
    "duration": 6,
    "start_time": "2023-02-20T16:20:48.401Z"
   },
   {
    "duration": 31,
    "start_time": "2023-02-20T16:20:48.408Z"
   },
   {
    "duration": 4,
    "start_time": "2023-02-20T16:20:48.440Z"
   },
   {
    "duration": 1373,
    "start_time": "2023-02-20T16:20:48.446Z"
   },
   {
    "duration": 290,
    "start_time": "2023-02-20T16:20:49.820Z"
   },
   {
    "duration": 47,
    "start_time": "2023-02-20T16:20:50.112Z"
   },
   {
    "duration": 402,
    "start_time": "2023-02-20T16:20:50.161Z"
   },
   {
    "duration": 5,
    "start_time": "2023-02-20T16:20:50.570Z"
   },
   {
    "duration": 169,
    "start_time": "2023-02-20T16:20:50.576Z"
   },
   {
    "duration": 151,
    "start_time": "2023-02-20T16:20:50.747Z"
   },
   {
    "duration": 153,
    "start_time": "2023-02-20T16:20:50.900Z"
   },
   {
    "duration": 156,
    "start_time": "2023-02-20T16:20:51.055Z"
   },
   {
    "duration": 5,
    "start_time": "2023-02-20T16:20:51.212Z"
   },
   {
    "duration": 21,
    "start_time": "2023-02-20T16:20:51.218Z"
   },
   {
    "duration": 145,
    "start_time": "2023-02-20T16:20:51.240Z"
   },
   {
    "duration": 168,
    "start_time": "2023-02-20T16:20:51.387Z"
   },
   {
    "duration": 164,
    "start_time": "2023-02-20T16:20:51.556Z"
   },
   {
    "duration": 175,
    "start_time": "2023-02-20T16:20:51.721Z"
   },
   {
    "duration": 5,
    "start_time": "2023-02-20T16:20:51.898Z"
   },
   {
    "duration": 197,
    "start_time": "2023-02-20T16:20:51.904Z"
   },
   {
    "duration": 535,
    "start_time": "2023-02-20T16:20:52.103Z"
   },
   {
    "duration": 14,
    "start_time": "2023-02-20T16:20:52.639Z"
   },
   {
    "duration": 16,
    "start_time": "2023-02-20T16:20:52.655Z"
   },
   {
    "duration": 14,
    "start_time": "2023-02-20T16:20:52.672Z"
   },
   {
    "duration": 3,
    "start_time": "2023-02-20T16:20:52.688Z"
   },
   {
    "duration": 690,
    "start_time": "2023-02-20T16:20:52.692Z"
   },
   {
    "duration": 133,
    "start_time": "2023-02-20T16:20:53.384Z"
   },
   {
    "duration": 128,
    "start_time": "2023-02-20T16:20:53.519Z"
   },
   {
    "duration": 140,
    "start_time": "2023-02-20T16:20:53.649Z"
   },
   {
    "duration": 9,
    "start_time": "2023-02-20T16:20:53.791Z"
   },
   {
    "duration": 9,
    "start_time": "2023-02-20T16:20:53.802Z"
   }
  ],
  "kernelspec": {
   "display_name": "Python 3 (ipykernel)",
   "language": "python",
   "name": "python3"
  },
  "language_info": {
   "codemirror_mode": {
    "name": "ipython",
    "version": 3
   },
   "file_extension": ".py",
   "mimetype": "text/x-python",
   "name": "python",
   "nbconvert_exporter": "python",
   "pygments_lexer": "ipython3",
   "version": "3.9.13"
  },
  "toc": {
   "base_numbering": 1,
   "nav_menu": {},
   "number_sections": true,
   "sideBar": true,
   "skip_h1_title": true,
   "title_cell": "Table of Contents",
   "title_sidebar": "Contents",
   "toc_cell": false,
   "toc_position": {},
   "toc_section_display": true,
   "toc_window_display": false
  }
 },
 "nbformat": 4,
 "nbformat_minor": 2
}
